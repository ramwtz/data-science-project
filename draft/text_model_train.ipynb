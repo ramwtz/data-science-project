{
  "cells": [
    {
      "cell_type": "markdown",
      "source": [
        "# Git Repository Bringup"
      ],
      "metadata": {
        "id": "fHo3M0LL_ROe"
      },
      "id": "fHo3M0LL_ROe"
    },
    {
      "cell_type": "code",
      "source": [
        "!git version"
      ],
      "metadata": {
        "colab": {
          "base_uri": "https://localhost:8080/"
        },
        "id": "KafsLa2z8ALj",
        "outputId": "90321591-c6da-434c-8152-d1ac4a2a4507"
      },
      "execution_count": 2,
      "outputs": [
        {
          "output_type": "stream",
          "name": "stdout",
          "text": [
            "git version 2.34.1\n"
          ]
        }
      ],
      "id": "KafsLa2z8ALj"
    },
    {
      "cell_type": "code",
      "source": [
        "!git clone https://github.com/ramwtz/data-science-project.git"
      ],
      "metadata": {
        "colab": {
          "base_uri": "https://localhost:8080/"
        },
        "id": "MvDOev_38vZw",
        "outputId": "23fc37be-89a7-455c-e5ce-03f5286ef82c"
      },
      "execution_count": 3,
      "outputs": [
        {
          "output_type": "stream",
          "name": "stdout",
          "text": [
            "Cloning into 'data-science-project'...\n",
            "remote: Enumerating objects: 157, done.\u001b[K\n",
            "remote: Counting objects: 100% (157/157), done.\u001b[K\n",
            "remote: Compressing objects: 100% (117/117), done.\u001b[K\n",
            "remote: Total 157 (delta 70), reused 87 (delta 32), pack-reused 0\u001b[K\n",
            "Receiving objects: 100% (157/157), 19.18 MiB | 18.27 MiB/s, done.\n",
            "Resolving deltas: 100% (70/70), done.\n"
          ]
        }
      ],
      "id": "MvDOev_38vZw"
    },
    {
      "cell_type": "code",
      "source": [
        "!ls"
      ],
      "metadata": {
        "colab": {
          "base_uri": "https://localhost:8080/"
        },
        "id": "8fE-lpOF80Dr",
        "outputId": "358e6ade-d654-4a15-c883-2fbec9f5492b"
      },
      "execution_count": 4,
      "outputs": [
        {
          "output_type": "stream",
          "name": "stdout",
          "text": [
            "data-science-project  sample_data\n"
          ]
        }
      ],
      "id": "8fE-lpOF80Dr"
    },
    {
      "cell_type": "code",
      "source": [
        "%cd data-science-project/"
      ],
      "metadata": {
        "colab": {
          "base_uri": "https://localhost:8080/"
        },
        "id": "bi3CTOvT86iy",
        "outputId": "43babaee-2abf-40cb-8061-f861e329e39b"
      },
      "execution_count": 5,
      "outputs": [
        {
          "output_type": "stream",
          "name": "stdout",
          "text": [
            "/content/data-science-project\n"
          ]
        }
      ],
      "id": "bi3CTOvT86iy"
    },
    {
      "cell_type": "code",
      "source": [
        "!pwd"
      ],
      "metadata": {
        "colab": {
          "base_uri": "https://localhost:8080/"
        },
        "id": "o-Y_VO-79Htx",
        "outputId": "6f2198a4-e6b3-4968-a30c-5c3d8f22a63a"
      },
      "execution_count": 6,
      "outputs": [
        {
          "output_type": "stream",
          "name": "stdout",
          "text": [
            "/content/data-science-project\n"
          ]
        }
      ],
      "id": "o-Y_VO-79Htx"
    },
    {
      "cell_type": "code",
      "source": [
        "!git switch dev/ram"
      ],
      "metadata": {
        "colab": {
          "base_uri": "https://localhost:8080/"
        },
        "id": "r4EAABzL9Loj",
        "outputId": "e6aa9136-db11-4abe-8745-111a92457b15"
      },
      "execution_count": 7,
      "outputs": [
        {
          "output_type": "stream",
          "name": "stdout",
          "text": [
            "Branch 'dev/ram' set up to track remote branch 'dev/ram' from 'origin'.\n",
            "Switched to a new branch 'dev/ram'\n"
          ]
        }
      ],
      "id": "r4EAABzL9Loj"
    },
    {
      "cell_type": "code",
      "source": [
        "!git pull"
      ],
      "metadata": {
        "colab": {
          "base_uri": "https://localhost:8080/"
        },
        "id": "z-7DQR06SD8O",
        "outputId": "aa1a82e6-353f-429f-f776-bc4dd65cc3f7"
      },
      "execution_count": 8,
      "outputs": [
        {
          "output_type": "stream",
          "name": "stdout",
          "text": [
            "Already up to date.\n"
          ]
        }
      ],
      "id": "z-7DQR06SD8O"
    },
    {
      "cell_type": "code",
      "source": [
        "%cd .."
      ],
      "metadata": {
        "id": "O-zkQbWh-sA1",
        "outputId": "5912edb7-93d3-4aab-efb7-a0681b495e43",
        "colab": {
          "base_uri": "https://localhost:8080/"
        }
      },
      "execution_count": 9,
      "outputs": [
        {
          "output_type": "stream",
          "name": "stdout",
          "text": [
            "/content\n"
          ]
        }
      ],
      "id": "O-zkQbWh-sA1"
    },
    {
      "cell_type": "markdown",
      "source": [
        "# Basic Bringup for Remote Environment"
      ],
      "metadata": {
        "id": "JPVMPUUUo2UP"
      },
      "id": "JPVMPUUUo2UP"
    },
    {
      "cell_type": "code",
      "source": [
        "from google.colab import drive\n",
        "drive.mount('/content/drive')"
      ],
      "metadata": {
        "id": "aQs8AozzPWrB",
        "outputId": "a71cd968-901f-4db9-c291-7644ffb090a2",
        "colab": {
          "base_uri": "https://localhost:8080/"
        }
      },
      "execution_count": 10,
      "outputs": [
        {
          "output_type": "stream",
          "name": "stdout",
          "text": [
            "Mounted at /content/drive\n"
          ]
        }
      ],
      "id": "aQs8AozzPWrB"
    },
    {
      "cell_type": "code",
      "source": [
        "# Necessary packages for this nb\n",
        "!pip install --quiet --upgrade -r '/content/data-science-project/dependencies.txt'"
      ],
      "metadata": {
        "id": "blDntGCvK0pM",
        "colab": {
          "base_uri": "https://localhost:8080/"
        },
        "outputId": "8eb90d1d-f57f-4311-fc18-0a70ec9fed3b"
      },
      "execution_count": 11,
      "outputs": [
        {
          "output_type": "stream",
          "name": "stdout",
          "text": [
            "\u001b[2K     \u001b[90m━━━━━━━━━━━━━━━━━━━━━━━━━━━━━━━━━━━━━━━━\u001b[0m \u001b[32m18.2/18.2 MB\u001b[0m \u001b[31m70.9 MB/s\u001b[0m eta \u001b[36m0:00:00\u001b[0m\n",
            "\u001b[2K     \u001b[90m━━━━━━━━━━━━━━━━━━━━━━━━━━━━━━━━━━━━━━━━\u001b[0m \u001b[32m36.4/36.4 MB\u001b[0m \u001b[31m25.7 MB/s\u001b[0m eta \u001b[36m0:00:00\u001b[0m\n",
            "\u001b[2K     \u001b[90m━━━━━━━━━━━━━━━━━━━━━━━━━━━━━━━━━━━━━━━━\u001b[0m \u001b[32m12.3/12.3 MB\u001b[0m \u001b[31m81.2 MB/s\u001b[0m eta \u001b[36m0:00:00\u001b[0m\n",
            "\u001b[2K     \u001b[90m━━━━━━━━━━━━━━━━━━━━━━━━━━━━━━━━━━━━━━\u001b[0m \u001b[32m294.6/294.6 kB\u001b[0m \u001b[31m28.2 MB/s\u001b[0m eta \u001b[36m0:00:00\u001b[0m\n",
            "\u001b[2K     \u001b[90m━━━━━━━━━━━━━━━━━━━━━━━━━━━━━━━━━━━━━━━\u001b[0m \u001b[32m489.8/489.8 MB\u001b[0m \u001b[31m2.9 MB/s\u001b[0m eta \u001b[36m0:00:00\u001b[0m\n",
            "\u001b[2K     \u001b[90m━━━━━━━━━━━━━━━━━━━━━━━━━━━━━━━━━━━━━━━━\u001b[0m \u001b[32m32.8/32.8 MB\u001b[0m \u001b[31m50.9 MB/s\u001b[0m eta \u001b[36m0:00:00\u001b[0m\n",
            "\u001b[2K     \u001b[90m━━━━━━━━━━━━━━━━━━━━━━━━━━━━━━━━━━━━━━━━\u001b[0m \u001b[32m7.2/7.2 MB\u001b[0m \u001b[31m106.5 MB/s\u001b[0m eta \u001b[36m0:00:00\u001b[0m\n",
            "\u001b[2K     \u001b[90m━━━━━━━━━━━━━━━━━━━━━━━━━━━━━━━━━━━━━━\u001b[0m \u001b[32m794.3/794.3 kB\u001b[0m \u001b[31m54.8 MB/s\u001b[0m eta \u001b[36m0:00:00\u001b[0m\n",
            "\u001b[?25h  Installing build dependencies ... \u001b[?25l\u001b[?25hdone\n",
            "  Getting requirements to build wheel ... \u001b[?25l\u001b[?25hdone\n",
            "  Preparing metadata (pyproject.toml) ... \u001b[?25l\u001b[?25hdone\n",
            "\u001b[2K     \u001b[90m━━━━━━━━━━━━━━━━━━━━━━━━━━━━━━━━━━━━━━━\u001b[0m \u001b[32m10.8/10.8 MB\u001b[0m \u001b[31m118.4 MB/s\u001b[0m eta \u001b[36m0:00:00\u001b[0m\n",
            "\u001b[2K     \u001b[90m━━━━━━━━━━━━━━━━━━━━━━━━━━━━━━━━━━━━━━━━\u001b[0m \u001b[32m86.0/86.0 kB\u001b[0m \u001b[31m9.0 MB/s\u001b[0m eta \u001b[36m0:00:00\u001b[0m\n",
            "\u001b[?25h  Preparing metadata (setup.py) ... \u001b[?25l\u001b[?25hdone\n",
            "\u001b[2K     \u001b[90m━━━━━━━━━━━━━━━━━━━━━━━━━━━━━━━━━━━━━━━━\u001b[0m \u001b[32m29.2/29.2 MB\u001b[0m \u001b[31m14.4 MB/s\u001b[0m eta \u001b[36m0:00:00\u001b[0m\n",
            "\u001b[2K     \u001b[90m━━━━━━━━━━━━━━━━━━━━━━━━━━━━━━━━━━━━━━\u001b[0m \u001b[32m341.8/341.8 kB\u001b[0m \u001b[31m22.3 MB/s\u001b[0m eta \u001b[36m0:00:00\u001b[0m\n",
            "\u001b[2K     \u001b[90m━━━━━━━━━━━━━━━━━━━━━━━━━━━━━━━━━━━━━━━━\u001b[0m \u001b[32m77.9/77.9 kB\u001b[0m \u001b[31m8.1 MB/s\u001b[0m eta \u001b[36m0:00:00\u001b[0m\n",
            "\u001b[2K     \u001b[90m━━━━━━━━━━━━━━━━━━━━━━━━━━━━━━━━━━━━━━━━\u001b[0m \u001b[32m5.5/5.5 MB\u001b[0m \u001b[31m120.6 MB/s\u001b[0m eta \u001b[36m0:00:00\u001b[0m\n",
            "\u001b[2K     \u001b[90m━━━━━━━━━━━━━━━━━━━━━━━━━━━━━━━━━━━━━━\u001b[0m \u001b[32m440.7/440.7 kB\u001b[0m \u001b[31m36.7 MB/s\u001b[0m eta \u001b[36m0:00:00\u001b[0m\n",
            "\u001b[2K     \u001b[90m━━━━━━━━━━━━━━━━━━━━━━━━━━━━━━━━━━━━━━━━\u001b[0m \u001b[32m1.7/1.7 MB\u001b[0m \u001b[31m88.9 MB/s\u001b[0m eta \u001b[36m0:00:00\u001b[0m\n",
            "\u001b[?25h  Preparing metadata (setup.py) ... \u001b[?25l\u001b[?25hdone\n",
            "\u001b[2K     \u001b[90m━━━━━━━━━━━━━━━━━━━━━━━━━━━━━━━━━━━━━━\u001b[0m \u001b[32m129.9/129.9 kB\u001b[0m \u001b[31m14.3 MB/s\u001b[0m eta \u001b[36m0:00:00\u001b[0m\n",
            "\u001b[2K     \u001b[90m━━━━━━━━━━━━━━━━━━━━━━━━━━━━━━━━━━━━━━━━\u001b[0m \u001b[32m1.7/1.7 MB\u001b[0m \u001b[31m90.7 MB/s\u001b[0m eta \u001b[36m0:00:00\u001b[0m\n",
            "\u001b[2K     \u001b[90m━━━━━━━━━━━━━━━━━━━━━━━━━━━━━━━━━━━━━━━━\u001b[0m \u001b[32m7.6/7.6 MB\u001b[0m \u001b[31m131.1 MB/s\u001b[0m eta \u001b[36m0:00:00\u001b[0m\n",
            "\u001b[2K     \u001b[90m━━━━━━━━━━━━━━━━━━━━━━━━━━━━━━━━━━━━━━━━\u001b[0m \u001b[32m1.3/1.3 MB\u001b[0m \u001b[31m76.0 MB/s\u001b[0m eta \u001b[36m0:00:00\u001b[0m\n",
            "\u001b[2K     \u001b[90m━━━━━━━━━━━━━━━━━━━━━━━━━━━━━━━━━━━━━━\u001b[0m \u001b[32m295.0/295.0 kB\u001b[0m \u001b[31m29.8 MB/s\u001b[0m eta \u001b[36m0:00:00\u001b[0m\n",
            "\u001b[2K     \u001b[90m━━━━━━━━━━━━━━━━━━━━━━━━━━━━━━━━━━━━━━━━\u001b[0m \u001b[32m7.8/7.8 MB\u001b[0m \u001b[31m119.6 MB/s\u001b[0m eta \u001b[36m0:00:00\u001b[0m\n",
            "\u001b[2K     \u001b[90m━━━━━━━━━━━━━━━━━━━━━━━━━━━━━━━━━━━━━━━━\u001b[0m \u001b[32m1.3/1.3 MB\u001b[0m \u001b[31m80.6 MB/s\u001b[0m eta \u001b[36m0:00:00\u001b[0m\n",
            "\u001b[2K     \u001b[90m━━━━━━━━━━━━━━━━━━━━━━━━━━━━━━━━━━━━━━━━\u001b[0m \u001b[32m1.6/1.6 MB\u001b[0m \u001b[31m84.9 MB/s\u001b[0m eta \u001b[36m0:00:00\u001b[0m\n",
            "\u001b[?25h  Building wheel for openai-whisper (pyproject.toml) ... \u001b[?25l\u001b[?25hdone\n",
            "  Building wheel for sentence-transformers (setup.py) ... \u001b[?25l\u001b[?25hdone\n",
            "  Building wheel for srt (setup.py) ... \u001b[?25l\u001b[?25hdone\n",
            "\u001b[31mERROR: pip's dependency resolver does not currently take into account all the packages that are installed. This behaviour is the source of the following dependency conflicts.\n",
            "google-colab 1.0.0 requires pandas==1.5.3, but you have pandas 2.1.1 which is incompatible.\u001b[0m\u001b[31m\n",
            "\u001b[0m"
          ]
        }
      ],
      "id": "blDntGCvK0pM"
    },
    {
      "cell_type": "markdown",
      "source": [
        "# Initialize Env"
      ],
      "metadata": {
        "id": "_q5b3nG_pLQ2"
      },
      "id": "_q5b3nG_pLQ2"
    },
    {
      "cell_type": "markdown",
      "source": [
        "## Imports"
      ],
      "metadata": {
        "id": "mWKQEjqXRgYB"
      },
      "id": "mWKQEjqXRgYB"
    },
    {
      "cell_type": "code",
      "execution_count": 146,
      "metadata": {
        "id": "S2PBoyn8PpqC",
        "colab": {
          "base_uri": "https://localhost:8080/"
        },
        "outputId": "d681ac20-f163-4954-af9d-ed801c055168"
      },
      "outputs": [
        {
          "output_type": "stream",
          "name": "stdout",
          "text": [
            "time: 820 µs (started: 2023-10-01 12:46:49 +00:00)\n"
          ]
        }
      ],
      "source": [
        "import pandas as pd\n",
        "import numpy as np\n",
        "import os\n",
        "import matplotlib.pyplot as plt\n",
        "from tqdm import tqdm"
      ],
      "id": "S2PBoyn8PpqC"
    },
    {
      "cell_type": "markdown",
      "source": [
        "## Configs"
      ],
      "metadata": {
        "id": "knXRAD9VRkz4"
      },
      "id": "knXRAD9VRkz4"
    },
    {
      "cell_type": "code",
      "source": [
        "%load_ext autotime\n",
        "\n",
        "pd.options.mode.chained_assignment = None  # default='warn'\n",
        "tqdm.pandas()"
      ],
      "metadata": {
        "id": "EEsuF8Q4RpXC",
        "outputId": "edd82e91-0968-47f2-d89d-613d1f1eddbd",
        "colab": {
          "base_uri": "https://localhost:8080/"
        }
      },
      "id": "EEsuF8Q4RpXC",
      "execution_count": 148,
      "outputs": [
        {
          "output_type": "stream",
          "name": "stdout",
          "text": [
            "The autotime extension is already loaded. To reload it, use:\n",
            "  %reload_ext autotime\n",
            "time: 1.34 ms (started: 2023-10-01 12:47:02 +00:00)\n"
          ]
        }
      ]
    },
    {
      "cell_type": "markdown",
      "source": [
        "## Paths"
      ],
      "metadata": {
        "id": "J5s-XEMbRySa"
      },
      "id": "J5s-XEMbRySa"
    },
    {
      "cell_type": "code",
      "source": [
        "gen_data_dir = os.path.join('drive', 'MyDrive', 'project', 'data')\n",
        "calls_dir = os.path.join(gen_data_dir, 'calls')\n",
        "new_data_dir = os.path.join(gen_data_dir, 'new')\n",
        "models_path = os.path.join('drive', 'MyDrive', 'model')\n",
        "metadata_path = os.path.join(calls_dir, '911_first6sec', '911_metadata_6sec.csv')"
      ],
      "metadata": {
        "id": "z8f4V1ZtQP2Q",
        "colab": {
          "base_uri": "https://localhost:8080/"
        },
        "outputId": "3e4fc8f4-f2d7-4a4b-cb8e-adc8eefbc7d8"
      },
      "execution_count": 13,
      "outputs": [
        {
          "output_type": "stream",
          "name": "stdout",
          "text": [
            "time: 674 µs (started: 2023-10-01 11:43:43 +00:00)\n"
          ]
        }
      ],
      "id": "z8f4V1ZtQP2Q"
    },
    {
      "cell_type": "markdown",
      "source": [
        "# Text-based CNN Model\n",
        "Based on [[Mandelbaum and Shalev, 2016]](https://arxiv.org/pdf/1610.08229.pdf) using a random embedding."
      ],
      "metadata": {
        "id": "W1OxADNHoAZf"
      },
      "id": "W1OxADNHoAZf"
    },
    {
      "cell_type": "markdown",
      "source": [
        "## Creating Features and Classes"
      ],
      "metadata": {
        "id": "8qwpm9feTxwO"
      },
      "id": "8qwpm9feTxwO"
    },
    {
      "cell_type": "markdown",
      "source": [
        "### Imports"
      ],
      "metadata": {
        "id": "RBvDfaU9r1mh"
      },
      "id": "RBvDfaU9r1mh"
    },
    {
      "cell_type": "code",
      "source": [
        "from sklearn.model_selection import train_test_split\n",
        "from sentence_transformers import SentenceTransformer\n",
        "from keras.preprocessing.text import Tokenizer\n",
        "from keras.preprocessing.sequence import pad_sequences"
      ],
      "metadata": {
        "colab": {
          "base_uri": "https://localhost:8080/"
        },
        "id": "pJaZ1-Vcr4rI",
        "outputId": "ce97933c-9fd4-49ee-c4a6-bcaa4fceb050"
      },
      "id": "pJaZ1-Vcr4rI",
      "execution_count": 32,
      "outputs": [
        {
          "output_type": "stream",
          "name": "stdout",
          "text": [
            "time: 694 µs (started: 2023-10-01 11:55:46 +00:00)\n"
          ]
        }
      ]
    },
    {
      "cell_type": "markdown",
      "source": [
        "### Defs"
      ],
      "metadata": {
        "id": "9BkAqLgmsIpj"
      },
      "id": "9BkAqLgmsIpj"
    },
    {
      "cell_type": "markdown",
      "source": [
        "### Arranging the Data"
      ],
      "metadata": {
        "id": "bkeVIr3usKtl"
      },
      "id": "bkeVIr3usKtl"
    },
    {
      "cell_type": "code",
      "source": [
        "metadata = pd.read_csv(metadata_path)\n",
        "metadata.drop_duplicates(subset=['filename'], inplace=True)\n",
        "metadata.reset_index(drop=True, inplace=True)\n",
        "print(metadata.count())"
      ],
      "metadata": {
        "id": "FLd7xI6lmGun",
        "outputId": "b33cfaa6-7a64-4915-b8ec-3831d02b4bae",
        "colab": {
          "base_uri": "https://localhost:8080/"
        }
      },
      "execution_count": 91,
      "outputs": [
        {
          "output_type": "stream",
          "name": "stdout",
          "text": [
            "id                 707\n",
            "event_id           707\n",
            "link               707\n",
            "title              707\n",
            "date               686\n",
            "state              699\n",
            "deaths             706\n",
            "potential_death    706\n",
            "false_alarm        706\n",
            "description        699\n",
            "deaths_binary      707\n",
            "break              707\n",
            "filename           707\n",
            "dtype: int64\n",
            "time: 19.3 ms (started: 2023-10-01 12:18:00 +00:00)\n"
          ]
        }
      ],
      "id": "FLd7xI6lmGun"
    },
    {
      "cell_type": "code",
      "source": [
        "model_data = metadata[['filename', 'deaths_binary']]\n",
        "model_data"
      ],
      "metadata": {
        "id": "lprU_6ZhmMgr",
        "outputId": "660948bb-8110-4985-991f-6d3277a3b895",
        "colab": {
          "base_uri": "https://localhost:8080/",
          "height": 441
        }
      },
      "execution_count": 92,
      "outputs": [
        {
          "output_type": "execute_result",
          "data": {
            "text/plain": [
              "                         filename  deaths_binary\n",
              "0      911_first6sec/call_2_0.wav              1\n",
              "1      911_first6sec/call_8_0.wav              1\n",
              "2      911_first6sec/call_9_0.wav              0\n",
              "3     911_first6sec/call_10_0.wav              1\n",
              "4     911_first6sec/call_11_0.wav              0\n",
              "..                            ...            ...\n",
              "702  911_first6sec/call_739_0.wav              0\n",
              "703  911_first6sec/call_740_0.wav              0\n",
              "704  911_first6sec/call_741_0.wav              1\n",
              "705  911_first6sec/call_742_0.wav              1\n",
              "706  911_first6sec/call_743_0.wav              0\n",
              "\n",
              "[707 rows x 2 columns]"
            ],
            "text/html": [
              "\n",
              "  <div id=\"df-5740312b-4e39-450c-a45c-ca8bf73577d1\" class=\"colab-df-container\">\n",
              "    <div>\n",
              "<style scoped>\n",
              "    .dataframe tbody tr th:only-of-type {\n",
              "        vertical-align: middle;\n",
              "    }\n",
              "\n",
              "    .dataframe tbody tr th {\n",
              "        vertical-align: top;\n",
              "    }\n",
              "\n",
              "    .dataframe thead th {\n",
              "        text-align: right;\n",
              "    }\n",
              "</style>\n",
              "<table border=\"1\" class=\"dataframe\">\n",
              "  <thead>\n",
              "    <tr style=\"text-align: right;\">\n",
              "      <th></th>\n",
              "      <th>filename</th>\n",
              "      <th>deaths_binary</th>\n",
              "    </tr>\n",
              "  </thead>\n",
              "  <tbody>\n",
              "    <tr>\n",
              "      <th>0</th>\n",
              "      <td>911_first6sec/call_2_0.wav</td>\n",
              "      <td>1</td>\n",
              "    </tr>\n",
              "    <tr>\n",
              "      <th>1</th>\n",
              "      <td>911_first6sec/call_8_0.wav</td>\n",
              "      <td>1</td>\n",
              "    </tr>\n",
              "    <tr>\n",
              "      <th>2</th>\n",
              "      <td>911_first6sec/call_9_0.wav</td>\n",
              "      <td>0</td>\n",
              "    </tr>\n",
              "    <tr>\n",
              "      <th>3</th>\n",
              "      <td>911_first6sec/call_10_0.wav</td>\n",
              "      <td>1</td>\n",
              "    </tr>\n",
              "    <tr>\n",
              "      <th>4</th>\n",
              "      <td>911_first6sec/call_11_0.wav</td>\n",
              "      <td>0</td>\n",
              "    </tr>\n",
              "    <tr>\n",
              "      <th>...</th>\n",
              "      <td>...</td>\n",
              "      <td>...</td>\n",
              "    </tr>\n",
              "    <tr>\n",
              "      <th>702</th>\n",
              "      <td>911_first6sec/call_739_0.wav</td>\n",
              "      <td>0</td>\n",
              "    </tr>\n",
              "    <tr>\n",
              "      <th>703</th>\n",
              "      <td>911_first6sec/call_740_0.wav</td>\n",
              "      <td>0</td>\n",
              "    </tr>\n",
              "    <tr>\n",
              "      <th>704</th>\n",
              "      <td>911_first6sec/call_741_0.wav</td>\n",
              "      <td>1</td>\n",
              "    </tr>\n",
              "    <tr>\n",
              "      <th>705</th>\n",
              "      <td>911_first6sec/call_742_0.wav</td>\n",
              "      <td>1</td>\n",
              "    </tr>\n",
              "    <tr>\n",
              "      <th>706</th>\n",
              "      <td>911_first6sec/call_743_0.wav</td>\n",
              "      <td>0</td>\n",
              "    </tr>\n",
              "  </tbody>\n",
              "</table>\n",
              "<p>707 rows × 2 columns</p>\n",
              "</div>\n",
              "    <div class=\"colab-df-buttons\">\n",
              "\n",
              "  <div class=\"colab-df-container\">\n",
              "    <button class=\"colab-df-convert\" onclick=\"convertToInteractive('df-5740312b-4e39-450c-a45c-ca8bf73577d1')\"\n",
              "            title=\"Convert this dataframe to an interactive table.\"\n",
              "            style=\"display:none;\">\n",
              "\n",
              "  <svg xmlns=\"http://www.w3.org/2000/svg\" height=\"24px\" viewBox=\"0 -960 960 960\">\n",
              "    <path d=\"M120-120v-720h720v720H120Zm60-500h600v-160H180v160Zm220 220h160v-160H400v160Zm0 220h160v-160H400v160ZM180-400h160v-160H180v160Zm440 0h160v-160H620v160ZM180-180h160v-160H180v160Zm440 0h160v-160H620v160Z\"/>\n",
              "  </svg>\n",
              "    </button>\n",
              "\n",
              "  <style>\n",
              "    .colab-df-container {\n",
              "      display:flex;\n",
              "      gap: 12px;\n",
              "    }\n",
              "\n",
              "    .colab-df-convert {\n",
              "      background-color: #E8F0FE;\n",
              "      border: none;\n",
              "      border-radius: 50%;\n",
              "      cursor: pointer;\n",
              "      display: none;\n",
              "      fill: #1967D2;\n",
              "      height: 32px;\n",
              "      padding: 0 0 0 0;\n",
              "      width: 32px;\n",
              "    }\n",
              "\n",
              "    .colab-df-convert:hover {\n",
              "      background-color: #E2EBFA;\n",
              "      box-shadow: 0px 1px 2px rgba(60, 64, 67, 0.3), 0px 1px 3px 1px rgba(60, 64, 67, 0.15);\n",
              "      fill: #174EA6;\n",
              "    }\n",
              "\n",
              "    .colab-df-buttons div {\n",
              "      margin-bottom: 4px;\n",
              "    }\n",
              "\n",
              "    [theme=dark] .colab-df-convert {\n",
              "      background-color: #3B4455;\n",
              "      fill: #D2E3FC;\n",
              "    }\n",
              "\n",
              "    [theme=dark] .colab-df-convert:hover {\n",
              "      background-color: #434B5C;\n",
              "      box-shadow: 0px 1px 3px 1px rgba(0, 0, 0, 0.15);\n",
              "      filter: drop-shadow(0px 1px 2px rgba(0, 0, 0, 0.3));\n",
              "      fill: #FFFFFF;\n",
              "    }\n",
              "  </style>\n",
              "\n",
              "    <script>\n",
              "      const buttonEl =\n",
              "        document.querySelector('#df-5740312b-4e39-450c-a45c-ca8bf73577d1 button.colab-df-convert');\n",
              "      buttonEl.style.display =\n",
              "        google.colab.kernel.accessAllowed ? 'block' : 'none';\n",
              "\n",
              "      async function convertToInteractive(key) {\n",
              "        const element = document.querySelector('#df-5740312b-4e39-450c-a45c-ca8bf73577d1');\n",
              "        const dataTable =\n",
              "          await google.colab.kernel.invokeFunction('convertToInteractive',\n",
              "                                                    [key], {});\n",
              "        if (!dataTable) return;\n",
              "\n",
              "        const docLinkHtml = 'Like what you see? Visit the ' +\n",
              "          '<a target=\"_blank\" href=https://colab.research.google.com/notebooks/data_table.ipynb>data table notebook</a>'\n",
              "          + ' to learn more about interactive tables.';\n",
              "        element.innerHTML = '';\n",
              "        dataTable['output_type'] = 'display_data';\n",
              "        await google.colab.output.renderOutput(dataTable, element);\n",
              "        const docLink = document.createElement('div');\n",
              "        docLink.innerHTML = docLinkHtml;\n",
              "        element.appendChild(docLink);\n",
              "      }\n",
              "    </script>\n",
              "  </div>\n",
              "\n",
              "\n",
              "<div id=\"df-64188f86-ea23-4a4c-ac49-3d7a2e756710\">\n",
              "  <button class=\"colab-df-quickchart\" onclick=\"quickchart('df-64188f86-ea23-4a4c-ac49-3d7a2e756710')\"\n",
              "            title=\"Suggest charts.\"\n",
              "            style=\"display:none;\">\n",
              "\n",
              "<svg xmlns=\"http://www.w3.org/2000/svg\" height=\"24px\"viewBox=\"0 0 24 24\"\n",
              "     width=\"24px\">\n",
              "    <g>\n",
              "        <path d=\"M19 3H5c-1.1 0-2 .9-2 2v14c0 1.1.9 2 2 2h14c1.1 0 2-.9 2-2V5c0-1.1-.9-2-2-2zM9 17H7v-7h2v7zm4 0h-2V7h2v10zm4 0h-2v-4h2v4z\"/>\n",
              "    </g>\n",
              "</svg>\n",
              "  </button>\n",
              "\n",
              "<style>\n",
              "  .colab-df-quickchart {\n",
              "      --bg-color: #E8F0FE;\n",
              "      --fill-color: #1967D2;\n",
              "      --hover-bg-color: #E2EBFA;\n",
              "      --hover-fill-color: #174EA6;\n",
              "      --disabled-fill-color: #AAA;\n",
              "      --disabled-bg-color: #DDD;\n",
              "  }\n",
              "\n",
              "  [theme=dark] .colab-df-quickchart {\n",
              "      --bg-color: #3B4455;\n",
              "      --fill-color: #D2E3FC;\n",
              "      --hover-bg-color: #434B5C;\n",
              "      --hover-fill-color: #FFFFFF;\n",
              "      --disabled-bg-color: #3B4455;\n",
              "      --disabled-fill-color: #666;\n",
              "  }\n",
              "\n",
              "  .colab-df-quickchart {\n",
              "    background-color: var(--bg-color);\n",
              "    border: none;\n",
              "    border-radius: 50%;\n",
              "    cursor: pointer;\n",
              "    display: none;\n",
              "    fill: var(--fill-color);\n",
              "    height: 32px;\n",
              "    padding: 0;\n",
              "    width: 32px;\n",
              "  }\n",
              "\n",
              "  .colab-df-quickchart:hover {\n",
              "    background-color: var(--hover-bg-color);\n",
              "    box-shadow: 0 1px 2px rgba(60, 64, 67, 0.3), 0 1px 3px 1px rgba(60, 64, 67, 0.15);\n",
              "    fill: var(--button-hover-fill-color);\n",
              "  }\n",
              "\n",
              "  .colab-df-quickchart-complete:disabled,\n",
              "  .colab-df-quickchart-complete:disabled:hover {\n",
              "    background-color: var(--disabled-bg-color);\n",
              "    fill: var(--disabled-fill-color);\n",
              "    box-shadow: none;\n",
              "  }\n",
              "\n",
              "  .colab-df-spinner {\n",
              "    border: 2px solid var(--fill-color);\n",
              "    border-color: transparent;\n",
              "    border-bottom-color: var(--fill-color);\n",
              "    animation:\n",
              "      spin 1s steps(1) infinite;\n",
              "  }\n",
              "\n",
              "  @keyframes spin {\n",
              "    0% {\n",
              "      border-color: transparent;\n",
              "      border-bottom-color: var(--fill-color);\n",
              "      border-left-color: var(--fill-color);\n",
              "    }\n",
              "    20% {\n",
              "      border-color: transparent;\n",
              "      border-left-color: var(--fill-color);\n",
              "      border-top-color: var(--fill-color);\n",
              "    }\n",
              "    30% {\n",
              "      border-color: transparent;\n",
              "      border-left-color: var(--fill-color);\n",
              "      border-top-color: var(--fill-color);\n",
              "      border-right-color: var(--fill-color);\n",
              "    }\n",
              "    40% {\n",
              "      border-color: transparent;\n",
              "      border-right-color: var(--fill-color);\n",
              "      border-top-color: var(--fill-color);\n",
              "    }\n",
              "    60% {\n",
              "      border-color: transparent;\n",
              "      border-right-color: var(--fill-color);\n",
              "    }\n",
              "    80% {\n",
              "      border-color: transparent;\n",
              "      border-right-color: var(--fill-color);\n",
              "      border-bottom-color: var(--fill-color);\n",
              "    }\n",
              "    90% {\n",
              "      border-color: transparent;\n",
              "      border-bottom-color: var(--fill-color);\n",
              "    }\n",
              "  }\n",
              "</style>\n",
              "\n",
              "  <script>\n",
              "    async function quickchart(key) {\n",
              "      const quickchartButtonEl =\n",
              "        document.querySelector('#' + key + ' button');\n",
              "      quickchartButtonEl.disabled = true;  // To prevent multiple clicks.\n",
              "      quickchartButtonEl.classList.add('colab-df-spinner');\n",
              "      try {\n",
              "        const charts = await google.colab.kernel.invokeFunction(\n",
              "            'suggestCharts', [key], {});\n",
              "      } catch (error) {\n",
              "        console.error('Error during call to suggestCharts:', error);\n",
              "      }\n",
              "      quickchartButtonEl.classList.remove('colab-df-spinner');\n",
              "      quickchartButtonEl.classList.add('colab-df-quickchart-complete');\n",
              "    }\n",
              "    (() => {\n",
              "      let quickchartButtonEl =\n",
              "        document.querySelector('#df-64188f86-ea23-4a4c-ac49-3d7a2e756710 button');\n",
              "      quickchartButtonEl.style.display =\n",
              "        google.colab.kernel.accessAllowed ? 'block' : 'none';\n",
              "    })();\n",
              "  </script>\n",
              "</div>\n",
              "    </div>\n",
              "  </div>\n"
            ]
          },
          "metadata": {},
          "execution_count": 92
        },
        {
          "output_type": "stream",
          "name": "stdout",
          "text": [
            "time: 8.95 ms (started: 2023-10-01 12:18:00 +00:00)\n"
          ]
        }
      ],
      "id": "lprU_6ZhmMgr"
    },
    {
      "cell_type": "code",
      "source": [
        "transcriptions_path = os.path.join(calls_dir, '911_first6sec', 'transcriptions')\n",
        "transcriptions = pd.read_csv(transcriptions_path)\n",
        "model_data['transcription'] = transcriptions['medium']\n",
        "model_data"
      ],
      "metadata": {
        "colab": {
          "base_uri": "https://localhost:8080/",
          "height": 441
        },
        "id": "XWBmm8gEntVr",
        "outputId": "21ba7751-8aa3-4d71-8538-786736605c14"
      },
      "id": "XWBmm8gEntVr",
      "execution_count": 93,
      "outputs": [
        {
          "output_type": "execute_result",
          "data": {
            "text/plain": [
              "                         filename  deaths_binary  \\\n",
              "0      911_first6sec/call_2_0.wav              1   \n",
              "1      911_first6sec/call_8_0.wav              1   \n",
              "2      911_first6sec/call_9_0.wav              0   \n",
              "3     911_first6sec/call_10_0.wav              1   \n",
              "4     911_first6sec/call_11_0.wav              0   \n",
              "..                            ...            ...   \n",
              "702  911_first6sec/call_739_0.wav              0   \n",
              "703  911_first6sec/call_740_0.wav              0   \n",
              "704  911_first6sec/call_741_0.wav              1   \n",
              "705  911_first6sec/call_742_0.wav              1   \n",
              "706  911_first6sec/call_743_0.wav              0   \n",
              "\n",
              "                                         transcription  \n",
              "0                               My mom had a bad time.  \n",
              "1                Hello. Hello. Is everything okay? Um.  \n",
              "2     I need a police officer over here at 7th. Wha...  \n",
              "3     Ma'am, my pickup was stolen. I had to go find...  \n",
              "4     No ma'am I don't. I don't have an emergency. ...  \n",
              "..                                                 ...  \n",
              "702     She's not waking up. Okay. What's her address?  \n",
              "703   I just shot the Mormon bishop over here on Tu...  \n",
              "704   And this guy has a gun in my hat. I need the ...  \n",
              "705   There are like at least four or five people w...  \n",
              "706   I'm going to call my studies, this is her, by...  \n",
              "\n",
              "[707 rows x 3 columns]"
            ],
            "text/html": [
              "\n",
              "  <div id=\"df-e4323437-2d4e-4e32-a057-78e28fc1c680\" class=\"colab-df-container\">\n",
              "    <div>\n",
              "<style scoped>\n",
              "    .dataframe tbody tr th:only-of-type {\n",
              "        vertical-align: middle;\n",
              "    }\n",
              "\n",
              "    .dataframe tbody tr th {\n",
              "        vertical-align: top;\n",
              "    }\n",
              "\n",
              "    .dataframe thead th {\n",
              "        text-align: right;\n",
              "    }\n",
              "</style>\n",
              "<table border=\"1\" class=\"dataframe\">\n",
              "  <thead>\n",
              "    <tr style=\"text-align: right;\">\n",
              "      <th></th>\n",
              "      <th>filename</th>\n",
              "      <th>deaths_binary</th>\n",
              "      <th>transcription</th>\n",
              "    </tr>\n",
              "  </thead>\n",
              "  <tbody>\n",
              "    <tr>\n",
              "      <th>0</th>\n",
              "      <td>911_first6sec/call_2_0.wav</td>\n",
              "      <td>1</td>\n",
              "      <td>My mom had a bad time.</td>\n",
              "    </tr>\n",
              "    <tr>\n",
              "      <th>1</th>\n",
              "      <td>911_first6sec/call_8_0.wav</td>\n",
              "      <td>1</td>\n",
              "      <td>Hello. Hello. Is everything okay? Um.</td>\n",
              "    </tr>\n",
              "    <tr>\n",
              "      <th>2</th>\n",
              "      <td>911_first6sec/call_9_0.wav</td>\n",
              "      <td>0</td>\n",
              "      <td>I need a police officer over here at 7th. Wha...</td>\n",
              "    </tr>\n",
              "    <tr>\n",
              "      <th>3</th>\n",
              "      <td>911_first6sec/call_10_0.wav</td>\n",
              "      <td>1</td>\n",
              "      <td>Ma'am, my pickup was stolen. I had to go find...</td>\n",
              "    </tr>\n",
              "    <tr>\n",
              "      <th>4</th>\n",
              "      <td>911_first6sec/call_11_0.wav</td>\n",
              "      <td>0</td>\n",
              "      <td>No ma'am I don't. I don't have an emergency. ...</td>\n",
              "    </tr>\n",
              "    <tr>\n",
              "      <th>...</th>\n",
              "      <td>...</td>\n",
              "      <td>...</td>\n",
              "      <td>...</td>\n",
              "    </tr>\n",
              "    <tr>\n",
              "      <th>702</th>\n",
              "      <td>911_first6sec/call_739_0.wav</td>\n",
              "      <td>0</td>\n",
              "      <td>She's not waking up. Okay. What's her address?</td>\n",
              "    </tr>\n",
              "    <tr>\n",
              "      <th>703</th>\n",
              "      <td>911_first6sec/call_740_0.wav</td>\n",
              "      <td>0</td>\n",
              "      <td>I just shot the Mormon bishop over here on Tu...</td>\n",
              "    </tr>\n",
              "    <tr>\n",
              "      <th>704</th>\n",
              "      <td>911_first6sec/call_741_0.wav</td>\n",
              "      <td>1</td>\n",
              "      <td>And this guy has a gun in my hat. I need the ...</td>\n",
              "    </tr>\n",
              "    <tr>\n",
              "      <th>705</th>\n",
              "      <td>911_first6sec/call_742_0.wav</td>\n",
              "      <td>1</td>\n",
              "      <td>There are like at least four or five people w...</td>\n",
              "    </tr>\n",
              "    <tr>\n",
              "      <th>706</th>\n",
              "      <td>911_first6sec/call_743_0.wav</td>\n",
              "      <td>0</td>\n",
              "      <td>I'm going to call my studies, this is her, by...</td>\n",
              "    </tr>\n",
              "  </tbody>\n",
              "</table>\n",
              "<p>707 rows × 3 columns</p>\n",
              "</div>\n",
              "    <div class=\"colab-df-buttons\">\n",
              "\n",
              "  <div class=\"colab-df-container\">\n",
              "    <button class=\"colab-df-convert\" onclick=\"convertToInteractive('df-e4323437-2d4e-4e32-a057-78e28fc1c680')\"\n",
              "            title=\"Convert this dataframe to an interactive table.\"\n",
              "            style=\"display:none;\">\n",
              "\n",
              "  <svg xmlns=\"http://www.w3.org/2000/svg\" height=\"24px\" viewBox=\"0 -960 960 960\">\n",
              "    <path d=\"M120-120v-720h720v720H120Zm60-500h600v-160H180v160Zm220 220h160v-160H400v160Zm0 220h160v-160H400v160ZM180-400h160v-160H180v160Zm440 0h160v-160H620v160ZM180-180h160v-160H180v160Zm440 0h160v-160H620v160Z\"/>\n",
              "  </svg>\n",
              "    </button>\n",
              "\n",
              "  <style>\n",
              "    .colab-df-container {\n",
              "      display:flex;\n",
              "      gap: 12px;\n",
              "    }\n",
              "\n",
              "    .colab-df-convert {\n",
              "      background-color: #E8F0FE;\n",
              "      border: none;\n",
              "      border-radius: 50%;\n",
              "      cursor: pointer;\n",
              "      display: none;\n",
              "      fill: #1967D2;\n",
              "      height: 32px;\n",
              "      padding: 0 0 0 0;\n",
              "      width: 32px;\n",
              "    }\n",
              "\n",
              "    .colab-df-convert:hover {\n",
              "      background-color: #E2EBFA;\n",
              "      box-shadow: 0px 1px 2px rgba(60, 64, 67, 0.3), 0px 1px 3px 1px rgba(60, 64, 67, 0.15);\n",
              "      fill: #174EA6;\n",
              "    }\n",
              "\n",
              "    .colab-df-buttons div {\n",
              "      margin-bottom: 4px;\n",
              "    }\n",
              "\n",
              "    [theme=dark] .colab-df-convert {\n",
              "      background-color: #3B4455;\n",
              "      fill: #D2E3FC;\n",
              "    }\n",
              "\n",
              "    [theme=dark] .colab-df-convert:hover {\n",
              "      background-color: #434B5C;\n",
              "      box-shadow: 0px 1px 3px 1px rgba(0, 0, 0, 0.15);\n",
              "      filter: drop-shadow(0px 1px 2px rgba(0, 0, 0, 0.3));\n",
              "      fill: #FFFFFF;\n",
              "    }\n",
              "  </style>\n",
              "\n",
              "    <script>\n",
              "      const buttonEl =\n",
              "        document.querySelector('#df-e4323437-2d4e-4e32-a057-78e28fc1c680 button.colab-df-convert');\n",
              "      buttonEl.style.display =\n",
              "        google.colab.kernel.accessAllowed ? 'block' : 'none';\n",
              "\n",
              "      async function convertToInteractive(key) {\n",
              "        const element = document.querySelector('#df-e4323437-2d4e-4e32-a057-78e28fc1c680');\n",
              "        const dataTable =\n",
              "          await google.colab.kernel.invokeFunction('convertToInteractive',\n",
              "                                                    [key], {});\n",
              "        if (!dataTable) return;\n",
              "\n",
              "        const docLinkHtml = 'Like what you see? Visit the ' +\n",
              "          '<a target=\"_blank\" href=https://colab.research.google.com/notebooks/data_table.ipynb>data table notebook</a>'\n",
              "          + ' to learn more about interactive tables.';\n",
              "        element.innerHTML = '';\n",
              "        dataTable['output_type'] = 'display_data';\n",
              "        await google.colab.output.renderOutput(dataTable, element);\n",
              "        const docLink = document.createElement('div');\n",
              "        docLink.innerHTML = docLinkHtml;\n",
              "        element.appendChild(docLink);\n",
              "      }\n",
              "    </script>\n",
              "  </div>\n",
              "\n",
              "\n",
              "<div id=\"df-1559da48-2c45-4871-9d62-db1cfb53a811\">\n",
              "  <button class=\"colab-df-quickchart\" onclick=\"quickchart('df-1559da48-2c45-4871-9d62-db1cfb53a811')\"\n",
              "            title=\"Suggest charts.\"\n",
              "            style=\"display:none;\">\n",
              "\n",
              "<svg xmlns=\"http://www.w3.org/2000/svg\" height=\"24px\"viewBox=\"0 0 24 24\"\n",
              "     width=\"24px\">\n",
              "    <g>\n",
              "        <path d=\"M19 3H5c-1.1 0-2 .9-2 2v14c0 1.1.9 2 2 2h14c1.1 0 2-.9 2-2V5c0-1.1-.9-2-2-2zM9 17H7v-7h2v7zm4 0h-2V7h2v10zm4 0h-2v-4h2v4z\"/>\n",
              "    </g>\n",
              "</svg>\n",
              "  </button>\n",
              "\n",
              "<style>\n",
              "  .colab-df-quickchart {\n",
              "      --bg-color: #E8F0FE;\n",
              "      --fill-color: #1967D2;\n",
              "      --hover-bg-color: #E2EBFA;\n",
              "      --hover-fill-color: #174EA6;\n",
              "      --disabled-fill-color: #AAA;\n",
              "      --disabled-bg-color: #DDD;\n",
              "  }\n",
              "\n",
              "  [theme=dark] .colab-df-quickchart {\n",
              "      --bg-color: #3B4455;\n",
              "      --fill-color: #D2E3FC;\n",
              "      --hover-bg-color: #434B5C;\n",
              "      --hover-fill-color: #FFFFFF;\n",
              "      --disabled-bg-color: #3B4455;\n",
              "      --disabled-fill-color: #666;\n",
              "  }\n",
              "\n",
              "  .colab-df-quickchart {\n",
              "    background-color: var(--bg-color);\n",
              "    border: none;\n",
              "    border-radius: 50%;\n",
              "    cursor: pointer;\n",
              "    display: none;\n",
              "    fill: var(--fill-color);\n",
              "    height: 32px;\n",
              "    padding: 0;\n",
              "    width: 32px;\n",
              "  }\n",
              "\n",
              "  .colab-df-quickchart:hover {\n",
              "    background-color: var(--hover-bg-color);\n",
              "    box-shadow: 0 1px 2px rgba(60, 64, 67, 0.3), 0 1px 3px 1px rgba(60, 64, 67, 0.15);\n",
              "    fill: var(--button-hover-fill-color);\n",
              "  }\n",
              "\n",
              "  .colab-df-quickchart-complete:disabled,\n",
              "  .colab-df-quickchart-complete:disabled:hover {\n",
              "    background-color: var(--disabled-bg-color);\n",
              "    fill: var(--disabled-fill-color);\n",
              "    box-shadow: none;\n",
              "  }\n",
              "\n",
              "  .colab-df-spinner {\n",
              "    border: 2px solid var(--fill-color);\n",
              "    border-color: transparent;\n",
              "    border-bottom-color: var(--fill-color);\n",
              "    animation:\n",
              "      spin 1s steps(1) infinite;\n",
              "  }\n",
              "\n",
              "  @keyframes spin {\n",
              "    0% {\n",
              "      border-color: transparent;\n",
              "      border-bottom-color: var(--fill-color);\n",
              "      border-left-color: var(--fill-color);\n",
              "    }\n",
              "    20% {\n",
              "      border-color: transparent;\n",
              "      border-left-color: var(--fill-color);\n",
              "      border-top-color: var(--fill-color);\n",
              "    }\n",
              "    30% {\n",
              "      border-color: transparent;\n",
              "      border-left-color: var(--fill-color);\n",
              "      border-top-color: var(--fill-color);\n",
              "      border-right-color: var(--fill-color);\n",
              "    }\n",
              "    40% {\n",
              "      border-color: transparent;\n",
              "      border-right-color: var(--fill-color);\n",
              "      border-top-color: var(--fill-color);\n",
              "    }\n",
              "    60% {\n",
              "      border-color: transparent;\n",
              "      border-right-color: var(--fill-color);\n",
              "    }\n",
              "    80% {\n",
              "      border-color: transparent;\n",
              "      border-right-color: var(--fill-color);\n",
              "      border-bottom-color: var(--fill-color);\n",
              "    }\n",
              "    90% {\n",
              "      border-color: transparent;\n",
              "      border-bottom-color: var(--fill-color);\n",
              "    }\n",
              "  }\n",
              "</style>\n",
              "\n",
              "  <script>\n",
              "    async function quickchart(key) {\n",
              "      const quickchartButtonEl =\n",
              "        document.querySelector('#' + key + ' button');\n",
              "      quickchartButtonEl.disabled = true;  // To prevent multiple clicks.\n",
              "      quickchartButtonEl.classList.add('colab-df-spinner');\n",
              "      try {\n",
              "        const charts = await google.colab.kernel.invokeFunction(\n",
              "            'suggestCharts', [key], {});\n",
              "      } catch (error) {\n",
              "        console.error('Error during call to suggestCharts:', error);\n",
              "      }\n",
              "      quickchartButtonEl.classList.remove('colab-df-spinner');\n",
              "      quickchartButtonEl.classList.add('colab-df-quickchart-complete');\n",
              "    }\n",
              "    (() => {\n",
              "      let quickchartButtonEl =\n",
              "        document.querySelector('#df-1559da48-2c45-4871-9d62-db1cfb53a811 button');\n",
              "      quickchartButtonEl.style.display =\n",
              "        google.colab.kernel.accessAllowed ? 'block' : 'none';\n",
              "    })();\n",
              "  </script>\n",
              "</div>\n",
              "    </div>\n",
              "  </div>\n"
            ]
          },
          "metadata": {},
          "execution_count": 93
        },
        {
          "output_type": "stream",
          "name": "stdout",
          "text": [
            "time: 17.6 ms (started: 2023-10-01 12:18:00 +00:00)\n"
          ]
        }
      ]
    },
    {
      "cell_type": "code",
      "source": [
        "transcriptions['len'] = model_data['transcription'].apply(lambda x: len(str(x).split(' ')))\n",
        "print(\"mean length of sentence: \" + str(transcriptions.len.mean()))\n",
        "print(\"max length of sentence: \" + str(transcriptions.len.max()))\n",
        "print(\"std dev length of sentence: \" + str(transcriptions.len.std()))"
      ],
      "metadata": {
        "colab": {
          "base_uri": "https://localhost:8080/"
        },
        "id": "xUUJajShCSkI",
        "outputId": "f553c071-b0f1-40ab-b7f6-42b395aa26c6"
      },
      "id": "xUUJajShCSkI",
      "execution_count": 94,
      "outputs": [
        {
          "output_type": "stream",
          "name": "stdout",
          "text": [
            "mean length of sentence: 15.946251768033946\n",
            "max length of sentence: 33\n",
            "std dev length of sentence: 5.64807841263026\n",
            "time: 4.52 ms (started: 2023-10-01 12:18:00 +00:00)\n"
          ]
        }
      ]
    },
    {
      "cell_type": "code",
      "source": [
        "sequence_length = transcriptions.len.max()"
      ],
      "metadata": {
        "colab": {
          "base_uri": "https://localhost:8080/"
        },
        "id": "gOE5Rrr9E-Ze",
        "outputId": "877bab3a-2bbb-4c99-c0e1-899cd9a395d2"
      },
      "id": "gOE5Rrr9E-Ze",
      "execution_count": 95,
      "outputs": [
        {
          "output_type": "stream",
          "name": "stdout",
          "text": [
            "time: 524 µs (started: 2023-10-01 12:18:00 +00:00)\n"
          ]
        }
      ]
    },
    {
      "cell_type": "code",
      "source": [
        "max_features = 20000\n",
        "\n",
        "tokenizer = Tokenizer(num_words=max_features, split=' ', oov_token='<unw>')\n",
        "tokenizer.fit_on_texts(model_data['transcription'].values)\n",
        "features = tokenizer.texts_to_sequences(model_data['transcription'].values)\n",
        "# TODO maybe pad interlacing instead of in the begininng?\n",
        "features = pad_sequences(features, sequence_length)\n",
        "print(features)"
      ],
      "metadata": {
        "colab": {
          "base_uri": "https://localhost:8080/"
        },
        "id": "iIc3o5tFFJ-p",
        "outputId": "d386af19-36b5-4e86-f6e7-4fee7dffd0bf"
      },
      "id": "iIc3o5tFFJ-p",
      "execution_count": 96,
      "outputs": [
        {
          "output_type": "stream",
          "name": "stdout",
          "text": [
            "[[  0   0   0 ...   4 364 365]\n",
            " [  0   0   0 ... 366  15  72]\n",
            " [  0   0   0 ...  41  34  10]\n",
            " ...\n",
            " [  0   0   0 ...   5 728 675]\n",
            " [  0   0   0 ...  13   2 729]\n",
            " [  0   0   0 ...   6 132  35]]\n",
            "time: 35.4 ms (started: 2023-10-01 12:18:00 +00:00)\n"
          ]
        }
      ]
    },
    {
      "cell_type": "code",
      "source": [
        "classes = pd.get_dummies(model_data['deaths_binary'], dtype='uint8').values\n",
        "classes"
      ],
      "metadata": {
        "colab": {
          "base_uri": "https://localhost:8080/"
        },
        "id": "NMQB0Yo2GiJ_",
        "outputId": "1212108d-fb41-44cb-8268-72de4ace9973"
      },
      "id": "NMQB0Yo2GiJ_",
      "execution_count": 97,
      "outputs": [
        {
          "output_type": "execute_result",
          "data": {
            "text/plain": [
              "array([[0, 1],\n",
              "       [0, 1],\n",
              "       [1, 0],\n",
              "       ...,\n",
              "       [0, 1],\n",
              "       [0, 1],\n",
              "       [1, 0]], dtype=uint8)"
            ]
          },
          "metadata": {},
          "execution_count": 97
        },
        {
          "output_type": "stream",
          "name": "stdout",
          "text": [
            "time: 4.37 ms (started: 2023-10-01 12:18:00 +00:00)\n"
          ]
        }
      ]
    },
    {
      "cell_type": "code",
      "source": [
        "model_data['vatorization'] = pd.Series(X.tolist())\n",
        "model_data['classes'] = pd.Series(y.tolist())\n",
        "model_data.drop('deaths_binary', inplace=True, axis=1, errors='ignore')\n",
        "model_data"
      ],
      "metadata": {
        "colab": {
          "base_uri": "https://localhost:8080/",
          "height": 441
        },
        "id": "WSreNRZ9JmOa",
        "outputId": "2a7cb501-8d9e-4346-e11a-bd4b845375d0"
      },
      "id": "WSreNRZ9JmOa",
      "execution_count": 98,
      "outputs": [
        {
          "output_type": "execute_result",
          "data": {
            "text/plain": [
              "                         filename  \\\n",
              "0      911_first6sec/call_2_0.wav   \n",
              "1      911_first6sec/call_8_0.wav   \n",
              "2      911_first6sec/call_9_0.wav   \n",
              "3     911_first6sec/call_10_0.wav   \n",
              "4     911_first6sec/call_11_0.wav   \n",
              "..                            ...   \n",
              "702  911_first6sec/call_739_0.wav   \n",
              "703  911_first6sec/call_740_0.wav   \n",
              "704  911_first6sec/call_741_0.wav   \n",
              "705  911_first6sec/call_742_0.wav   \n",
              "706  911_first6sec/call_743_0.wav   \n",
              "\n",
              "                                         transcription  \\\n",
              "0                               My mom had a bad time.   \n",
              "1                Hello. Hello. Is everything okay? Um.   \n",
              "2     I need a police officer over here at 7th. Wha...   \n",
              "3     Ma'am, my pickup was stolen. I had to go find...   \n",
              "4     No ma'am I don't. I don't have an emergency. ...   \n",
              "..                                                 ...   \n",
              "702     She's not waking up. Okay. What's her address?   \n",
              "703   I just shot the Mormon bishop over here on Tu...   \n",
              "704   And this guy has a gun in my hat. I need the ...   \n",
              "705   There are like at least four or five people w...   \n",
              "706   I'm going to call my studies, this is her, by...   \n",
              "\n",
              "                                          vatorization classes  \n",
              "0    [0, 0, 0, 0, 0, 0, 0, 0, 0, 0, 0, 0, 0, 0, 0, ...  [0, 1]  \n",
              "1    [0, 0, 0, 0, 0, 0, 0, 0, 0, 0, 0, 0, 0, 0, 0, ...  [0, 1]  \n",
              "2    [0, 0, 0, 0, 0, 0, 0, 0, 0, 0, 0, 0, 0, 0, 0, ...  [1, 0]  \n",
              "3    [0, 0, 0, 0, 0, 0, 0, 0, 0, 0, 0, 0, 0, 0, 0, ...  [0, 1]  \n",
              "4    [0, 0, 0, 0, 0, 0, 0, 0, 0, 0, 0, 0, 0, 0, 0, ...  [1, 0]  \n",
              "..                                                 ...     ...  \n",
              "702  [0, 0, 0, 0, 0, 0, 0, 0, 0, 0, 0, 0, 0, 0, 0, ...  [1, 0]  \n",
              "703  [0, 0, 0, 0, 0, 0, 0, 0, 0, 0, 0, 0, 0, 0, 0, ...  [1, 0]  \n",
              "704  [0, 0, 0, 0, 0, 0, 0, 0, 0, 0, 0, 6, 31, 81, 1...  [0, 1]  \n",
              "705  [0, 0, 0, 0, 0, 0, 0, 0, 0, 0, 0, 0, 0, 42, 30...  [0, 1]  \n",
              "706  [0, 0, 0, 0, 0, 0, 0, 0, 0, 0, 14, 34, 8, 129,...  [1, 0]  \n",
              "\n",
              "[707 rows x 4 columns]"
            ],
            "text/html": [
              "\n",
              "  <div id=\"df-243d4c21-d089-4136-9260-61eaea3b8721\" class=\"colab-df-container\">\n",
              "    <div>\n",
              "<style scoped>\n",
              "    .dataframe tbody tr th:only-of-type {\n",
              "        vertical-align: middle;\n",
              "    }\n",
              "\n",
              "    .dataframe tbody tr th {\n",
              "        vertical-align: top;\n",
              "    }\n",
              "\n",
              "    .dataframe thead th {\n",
              "        text-align: right;\n",
              "    }\n",
              "</style>\n",
              "<table border=\"1\" class=\"dataframe\">\n",
              "  <thead>\n",
              "    <tr style=\"text-align: right;\">\n",
              "      <th></th>\n",
              "      <th>filename</th>\n",
              "      <th>transcription</th>\n",
              "      <th>vatorization</th>\n",
              "      <th>classes</th>\n",
              "    </tr>\n",
              "  </thead>\n",
              "  <tbody>\n",
              "    <tr>\n",
              "      <th>0</th>\n",
              "      <td>911_first6sec/call_2_0.wav</td>\n",
              "      <td>My mom had a bad time.</td>\n",
              "      <td>[0, 0, 0, 0, 0, 0, 0, 0, 0, 0, 0, 0, 0, 0, 0, ...</td>\n",
              "      <td>[0, 1]</td>\n",
              "    </tr>\n",
              "    <tr>\n",
              "      <th>1</th>\n",
              "      <td>911_first6sec/call_8_0.wav</td>\n",
              "      <td>Hello. Hello. Is everything okay? Um.</td>\n",
              "      <td>[0, 0, 0, 0, 0, 0, 0, 0, 0, 0, 0, 0, 0, 0, 0, ...</td>\n",
              "      <td>[0, 1]</td>\n",
              "    </tr>\n",
              "    <tr>\n",
              "      <th>2</th>\n",
              "      <td>911_first6sec/call_9_0.wav</td>\n",
              "      <td>I need a police officer over here at 7th. Wha...</td>\n",
              "      <td>[0, 0, 0, 0, 0, 0, 0, 0, 0, 0, 0, 0, 0, 0, 0, ...</td>\n",
              "      <td>[1, 0]</td>\n",
              "    </tr>\n",
              "    <tr>\n",
              "      <th>3</th>\n",
              "      <td>911_first6sec/call_10_0.wav</td>\n",
              "      <td>Ma'am, my pickup was stolen. I had to go find...</td>\n",
              "      <td>[0, 0, 0, 0, 0, 0, 0, 0, 0, 0, 0, 0, 0, 0, 0, ...</td>\n",
              "      <td>[0, 1]</td>\n",
              "    </tr>\n",
              "    <tr>\n",
              "      <th>4</th>\n",
              "      <td>911_first6sec/call_11_0.wav</td>\n",
              "      <td>No ma'am I don't. I don't have an emergency. ...</td>\n",
              "      <td>[0, 0, 0, 0, 0, 0, 0, 0, 0, 0, 0, 0, 0, 0, 0, ...</td>\n",
              "      <td>[1, 0]</td>\n",
              "    </tr>\n",
              "    <tr>\n",
              "      <th>...</th>\n",
              "      <td>...</td>\n",
              "      <td>...</td>\n",
              "      <td>...</td>\n",
              "      <td>...</td>\n",
              "    </tr>\n",
              "    <tr>\n",
              "      <th>702</th>\n",
              "      <td>911_first6sec/call_739_0.wav</td>\n",
              "      <td>She's not waking up. Okay. What's her address?</td>\n",
              "      <td>[0, 0, 0, 0, 0, 0, 0, 0, 0, 0, 0, 0, 0, 0, 0, ...</td>\n",
              "      <td>[1, 0]</td>\n",
              "    </tr>\n",
              "    <tr>\n",
              "      <th>703</th>\n",
              "      <td>911_first6sec/call_740_0.wav</td>\n",
              "      <td>I just shot the Mormon bishop over here on Tu...</td>\n",
              "      <td>[0, 0, 0, 0, 0, 0, 0, 0, 0, 0, 0, 0, 0, 0, 0, ...</td>\n",
              "      <td>[1, 0]</td>\n",
              "    </tr>\n",
              "    <tr>\n",
              "      <th>704</th>\n",
              "      <td>911_first6sec/call_741_0.wav</td>\n",
              "      <td>And this guy has a gun in my hat. I need the ...</td>\n",
              "      <td>[0, 0, 0, 0, 0, 0, 0, 0, 0, 0, 0, 6, 31, 81, 1...</td>\n",
              "      <td>[0, 1]</td>\n",
              "    </tr>\n",
              "    <tr>\n",
              "      <th>705</th>\n",
              "      <td>911_first6sec/call_742_0.wav</td>\n",
              "      <td>There are like at least four or five people w...</td>\n",
              "      <td>[0, 0, 0, 0, 0, 0, 0, 0, 0, 0, 0, 0, 0, 42, 30...</td>\n",
              "      <td>[0, 1]</td>\n",
              "    </tr>\n",
              "    <tr>\n",
              "      <th>706</th>\n",
              "      <td>911_first6sec/call_743_0.wav</td>\n",
              "      <td>I'm going to call my studies, this is her, by...</td>\n",
              "      <td>[0, 0, 0, 0, 0, 0, 0, 0, 0, 0, 14, 34, 8, 129,...</td>\n",
              "      <td>[1, 0]</td>\n",
              "    </tr>\n",
              "  </tbody>\n",
              "</table>\n",
              "<p>707 rows × 4 columns</p>\n",
              "</div>\n",
              "    <div class=\"colab-df-buttons\">\n",
              "\n",
              "  <div class=\"colab-df-container\">\n",
              "    <button class=\"colab-df-convert\" onclick=\"convertToInteractive('df-243d4c21-d089-4136-9260-61eaea3b8721')\"\n",
              "            title=\"Convert this dataframe to an interactive table.\"\n",
              "            style=\"display:none;\">\n",
              "\n",
              "  <svg xmlns=\"http://www.w3.org/2000/svg\" height=\"24px\" viewBox=\"0 -960 960 960\">\n",
              "    <path d=\"M120-120v-720h720v720H120Zm60-500h600v-160H180v160Zm220 220h160v-160H400v160Zm0 220h160v-160H400v160ZM180-400h160v-160H180v160Zm440 0h160v-160H620v160ZM180-180h160v-160H180v160Zm440 0h160v-160H620v160Z\"/>\n",
              "  </svg>\n",
              "    </button>\n",
              "\n",
              "  <style>\n",
              "    .colab-df-container {\n",
              "      display:flex;\n",
              "      gap: 12px;\n",
              "    }\n",
              "\n",
              "    .colab-df-convert {\n",
              "      background-color: #E8F0FE;\n",
              "      border: none;\n",
              "      border-radius: 50%;\n",
              "      cursor: pointer;\n",
              "      display: none;\n",
              "      fill: #1967D2;\n",
              "      height: 32px;\n",
              "      padding: 0 0 0 0;\n",
              "      width: 32px;\n",
              "    }\n",
              "\n",
              "    .colab-df-convert:hover {\n",
              "      background-color: #E2EBFA;\n",
              "      box-shadow: 0px 1px 2px rgba(60, 64, 67, 0.3), 0px 1px 3px 1px rgba(60, 64, 67, 0.15);\n",
              "      fill: #174EA6;\n",
              "    }\n",
              "\n",
              "    .colab-df-buttons div {\n",
              "      margin-bottom: 4px;\n",
              "    }\n",
              "\n",
              "    [theme=dark] .colab-df-convert {\n",
              "      background-color: #3B4455;\n",
              "      fill: #D2E3FC;\n",
              "    }\n",
              "\n",
              "    [theme=dark] .colab-df-convert:hover {\n",
              "      background-color: #434B5C;\n",
              "      box-shadow: 0px 1px 3px 1px rgba(0, 0, 0, 0.15);\n",
              "      filter: drop-shadow(0px 1px 2px rgba(0, 0, 0, 0.3));\n",
              "      fill: #FFFFFF;\n",
              "    }\n",
              "  </style>\n",
              "\n",
              "    <script>\n",
              "      const buttonEl =\n",
              "        document.querySelector('#df-243d4c21-d089-4136-9260-61eaea3b8721 button.colab-df-convert');\n",
              "      buttonEl.style.display =\n",
              "        google.colab.kernel.accessAllowed ? 'block' : 'none';\n",
              "\n",
              "      async function convertToInteractive(key) {\n",
              "        const element = document.querySelector('#df-243d4c21-d089-4136-9260-61eaea3b8721');\n",
              "        const dataTable =\n",
              "          await google.colab.kernel.invokeFunction('convertToInteractive',\n",
              "                                                    [key], {});\n",
              "        if (!dataTable) return;\n",
              "\n",
              "        const docLinkHtml = 'Like what you see? Visit the ' +\n",
              "          '<a target=\"_blank\" href=https://colab.research.google.com/notebooks/data_table.ipynb>data table notebook</a>'\n",
              "          + ' to learn more about interactive tables.';\n",
              "        element.innerHTML = '';\n",
              "        dataTable['output_type'] = 'display_data';\n",
              "        await google.colab.output.renderOutput(dataTable, element);\n",
              "        const docLink = document.createElement('div');\n",
              "        docLink.innerHTML = docLinkHtml;\n",
              "        element.appendChild(docLink);\n",
              "      }\n",
              "    </script>\n",
              "  </div>\n",
              "\n",
              "\n",
              "<div id=\"df-c483cd16-1636-4343-b367-d3b73b5aae32\">\n",
              "  <button class=\"colab-df-quickchart\" onclick=\"quickchart('df-c483cd16-1636-4343-b367-d3b73b5aae32')\"\n",
              "            title=\"Suggest charts.\"\n",
              "            style=\"display:none;\">\n",
              "\n",
              "<svg xmlns=\"http://www.w3.org/2000/svg\" height=\"24px\"viewBox=\"0 0 24 24\"\n",
              "     width=\"24px\">\n",
              "    <g>\n",
              "        <path d=\"M19 3H5c-1.1 0-2 .9-2 2v14c0 1.1.9 2 2 2h14c1.1 0 2-.9 2-2V5c0-1.1-.9-2-2-2zM9 17H7v-7h2v7zm4 0h-2V7h2v10zm4 0h-2v-4h2v4z\"/>\n",
              "    </g>\n",
              "</svg>\n",
              "  </button>\n",
              "\n",
              "<style>\n",
              "  .colab-df-quickchart {\n",
              "      --bg-color: #E8F0FE;\n",
              "      --fill-color: #1967D2;\n",
              "      --hover-bg-color: #E2EBFA;\n",
              "      --hover-fill-color: #174EA6;\n",
              "      --disabled-fill-color: #AAA;\n",
              "      --disabled-bg-color: #DDD;\n",
              "  }\n",
              "\n",
              "  [theme=dark] .colab-df-quickchart {\n",
              "      --bg-color: #3B4455;\n",
              "      --fill-color: #D2E3FC;\n",
              "      --hover-bg-color: #434B5C;\n",
              "      --hover-fill-color: #FFFFFF;\n",
              "      --disabled-bg-color: #3B4455;\n",
              "      --disabled-fill-color: #666;\n",
              "  }\n",
              "\n",
              "  .colab-df-quickchart {\n",
              "    background-color: var(--bg-color);\n",
              "    border: none;\n",
              "    border-radius: 50%;\n",
              "    cursor: pointer;\n",
              "    display: none;\n",
              "    fill: var(--fill-color);\n",
              "    height: 32px;\n",
              "    padding: 0;\n",
              "    width: 32px;\n",
              "  }\n",
              "\n",
              "  .colab-df-quickchart:hover {\n",
              "    background-color: var(--hover-bg-color);\n",
              "    box-shadow: 0 1px 2px rgba(60, 64, 67, 0.3), 0 1px 3px 1px rgba(60, 64, 67, 0.15);\n",
              "    fill: var(--button-hover-fill-color);\n",
              "  }\n",
              "\n",
              "  .colab-df-quickchart-complete:disabled,\n",
              "  .colab-df-quickchart-complete:disabled:hover {\n",
              "    background-color: var(--disabled-bg-color);\n",
              "    fill: var(--disabled-fill-color);\n",
              "    box-shadow: none;\n",
              "  }\n",
              "\n",
              "  .colab-df-spinner {\n",
              "    border: 2px solid var(--fill-color);\n",
              "    border-color: transparent;\n",
              "    border-bottom-color: var(--fill-color);\n",
              "    animation:\n",
              "      spin 1s steps(1) infinite;\n",
              "  }\n",
              "\n",
              "  @keyframes spin {\n",
              "    0% {\n",
              "      border-color: transparent;\n",
              "      border-bottom-color: var(--fill-color);\n",
              "      border-left-color: var(--fill-color);\n",
              "    }\n",
              "    20% {\n",
              "      border-color: transparent;\n",
              "      border-left-color: var(--fill-color);\n",
              "      border-top-color: var(--fill-color);\n",
              "    }\n",
              "    30% {\n",
              "      border-color: transparent;\n",
              "      border-left-color: var(--fill-color);\n",
              "      border-top-color: var(--fill-color);\n",
              "      border-right-color: var(--fill-color);\n",
              "    }\n",
              "    40% {\n",
              "      border-color: transparent;\n",
              "      border-right-color: var(--fill-color);\n",
              "      border-top-color: var(--fill-color);\n",
              "    }\n",
              "    60% {\n",
              "      border-color: transparent;\n",
              "      border-right-color: var(--fill-color);\n",
              "    }\n",
              "    80% {\n",
              "      border-color: transparent;\n",
              "      border-right-color: var(--fill-color);\n",
              "      border-bottom-color: var(--fill-color);\n",
              "    }\n",
              "    90% {\n",
              "      border-color: transparent;\n",
              "      border-bottom-color: var(--fill-color);\n",
              "    }\n",
              "  }\n",
              "</style>\n",
              "\n",
              "  <script>\n",
              "    async function quickchart(key) {\n",
              "      const quickchartButtonEl =\n",
              "        document.querySelector('#' + key + ' button');\n",
              "      quickchartButtonEl.disabled = true;  // To prevent multiple clicks.\n",
              "      quickchartButtonEl.classList.add('colab-df-spinner');\n",
              "      try {\n",
              "        const charts = await google.colab.kernel.invokeFunction(\n",
              "            'suggestCharts', [key], {});\n",
              "      } catch (error) {\n",
              "        console.error('Error during call to suggestCharts:', error);\n",
              "      }\n",
              "      quickchartButtonEl.classList.remove('colab-df-spinner');\n",
              "      quickchartButtonEl.classList.add('colab-df-quickchart-complete');\n",
              "    }\n",
              "    (() => {\n",
              "      let quickchartButtonEl =\n",
              "        document.querySelector('#df-c483cd16-1636-4343-b367-d3b73b5aae32 button');\n",
              "      quickchartButtonEl.style.display =\n",
              "        google.colab.kernel.accessAllowed ? 'block' : 'none';\n",
              "    })();\n",
              "  </script>\n",
              "</div>\n",
              "    </div>\n",
              "  </div>\n"
            ]
          },
          "metadata": {},
          "execution_count": 98
        },
        {
          "output_type": "stream",
          "name": "stdout",
          "text": [
            "time: 19 ms (started: 2023-10-01 12:18:00 +00:00)\n"
          ]
        }
      ]
    },
    {
      "cell_type": "code",
      "source": [
        "X_train, X_test, y_train, y_test = train_test_split(\n",
        "    features, classes, test_size=0.25, shuffle=True, stratify=classes,\n",
        "    random_state=0\n",
        "    )"
      ],
      "metadata": {
        "colab": {
          "base_uri": "https://localhost:8080/"
        },
        "id": "4pIlUbUerwpE",
        "outputId": "5033e468-b416-4eb4-f57d-7c0adc67e218"
      },
      "id": "4pIlUbUerwpE",
      "execution_count": 100,
      "outputs": [
        {
          "output_type": "stream",
          "name": "stdout",
          "text": [
            "time: 31.7 ms (started: 2023-10-01 12:18:25 +00:00)\n"
          ]
        }
      ]
    },
    {
      "cell_type": "code",
      "source": [
        "print(X_train)"
      ],
      "metadata": {
        "colab": {
          "base_uri": "https://localhost:8080/"
        },
        "id": "nPoDrsk2LPfR",
        "outputId": "5e7ead1f-e86d-42a5-8675-c4ee2ccb2345"
      },
      "id": "nPoDrsk2LPfR",
      "execution_count": 104,
      "outputs": [
        {
          "output_type": "stream",
          "name": "stdout",
          "text": [
            "[[   0    0    0 ...    7    2  414]\n",
            " [   0    0    0 ...   36  668  133]\n",
            " [   0    0    0 ...   31 1144   56]\n",
            " ...\n",
            " [   0    0    0 ...  111 1618 1619]\n",
            " [   0    0    0 ...    7    4   19]\n",
            " [   0    0    0 ...   16 1003 1004]]\n",
            "time: 6.5 ms (started: 2023-10-01 12:19:30 +00:00)\n"
          ]
        }
      ]
    },
    {
      "cell_type": "code",
      "source": [
        "print(y_train)"
      ],
      "metadata": {
        "colab": {
          "base_uri": "https://localhost:8080/"
        },
        "id": "mt8LNArsLa3q",
        "outputId": "d0f5073c-2b69-4108-a6e6-f324f21cd2bb"
      },
      "id": "mt8LNArsLa3q",
      "execution_count": 103,
      "outputs": [
        {
          "output_type": "stream",
          "name": "stdout",
          "text": [
            "[[0 1]\n",
            " [1 0]\n",
            " [1 0]\n",
            " ...\n",
            " [0 1]\n",
            " [0 1]\n",
            " [0 1]]\n",
            "time: 8.32 ms (started: 2023-10-01 12:19:29 +00:00)\n"
          ]
        }
      ]
    },
    {
      "cell_type": "markdown",
      "source": [
        "## Model Training"
      ],
      "metadata": {
        "id": "doOSqQAFn67f"
      },
      "id": "doOSqQAFn67f"
    },
    {
      "cell_type": "markdown",
      "source": [
        "### Imports"
      ],
      "metadata": {
        "id": "rC2MJWovqpmX"
      },
      "id": "rC2MJWovqpmX"
    },
    {
      "cell_type": "code",
      "source": [
        "from tensorflow.keras import models, layers, optimizers, callbacks, regularizers\n",
        "from tensorflow.keras.utils import plot_model"
      ],
      "metadata": {
        "colab": {
          "base_uri": "https://localhost:8080/"
        },
        "id": "woA5Xwj1liJ8",
        "outputId": "1c485d38-cf31-41ca-8e19-4addd3406621"
      },
      "id": "woA5Xwj1liJ8",
      "execution_count": 110,
      "outputs": [
        {
          "output_type": "stream",
          "name": "stdout",
          "text": [
            "time: 595 µs (started: 2023-10-01 12:25:23 +00:00)\n"
          ]
        }
      ]
    },
    {
      "cell_type": "markdown",
      "source": [
        "### Train"
      ],
      "metadata": {
        "id": "rhXxQU9HqyeF"
      },
      "id": "rhXxQU9HqyeF"
    },
    {
      "cell_type": "code",
      "source": [
        "def cnn_model(embedding_dim, num_filters, dropout_rate=0.5,\n",
        "              loss='categorical_crossentropy',  optimizer_name='Adam',\n",
        "              learning_rate=0.001):\n",
        "  #\n",
        "  inputs = layers.Input(shape=(sequence_length,), dtype='int32')\n",
        "\n",
        "  #\n",
        "  emb_layr = layers.Embedding(\n",
        "      input_dim=max_features, output_dim=embedding_dim, input_length=sequence_length)(inputs)\n",
        "\n",
        "  #\n",
        "  reshape = layers.Reshape((sequence_length, embedding_dim, 1))(emb_layr)\n",
        "\n",
        "  #\n",
        "  conv_0 = layers.Conv2D(num_filters, kernel_size=(3, embedding_dim), activation='relu', kernel_regularizer=regularizers.l2(3))(reshape)\n",
        "  maxpool_0 = layers.MaxPool2D(pool_size=(sequence_length - 3 + 1, 1), strides=(1,1), padding='valid')(conv_0)\n",
        "\n",
        "  #\n",
        "  conv_1 = layers.Conv2D(num_filters, kernel_size=(4, embedding_dim), activation='relu', kernel_regularizer=regularizers.l2(3))(reshape)\n",
        "  maxpool_1 = layers.MaxPool2D(pool_size=(sequence_length - 4 + 1, 1), strides=(1,1), padding='valid')(conv_1)\n",
        "\n",
        "  #\n",
        "  conv_2 = layers.Conv2D(num_filters, kernel_size=(5, embedding_dim), activation='relu', kernel_regularizer=regularizers.l2(3))(reshape)\n",
        "  maxpool_2 = layers.MaxPool2D(pool_size=(sequence_length - 5 + 1, 1), strides=(1,1), padding='valid')(conv_2)\n",
        "\n",
        "  #\n",
        "  concatenated_tensor = layers.Concatenate(axis=1)([maxpool_0, maxpool_1, maxpool_2])\n",
        "  flatten = layers.Flatten()(concatenated_tensor)\n",
        "\n",
        "  #\n",
        "  dropout = layers.Dropout(dropout_rate)(flatten)\n",
        "\n",
        "  #\n",
        "  output = layers.Dense(units=2, activation='softmax')(dropout)\n",
        "\n",
        "  opt = getattr(optimizers, optimizer_name)\n",
        "  tm = models.Model(inputs=inputs, outputs=output)\n",
        "  tm.compile(loss=loss, optimizer=opt(learning_rate), metrics=['accuracy'])\n",
        "\n",
        "  return tm"
      ],
      "metadata": {
        "colab": {
          "base_uri": "https://localhost:8080/"
        },
        "id": "639m0EubWj4F",
        "outputId": "ebae9ce5-ce6b-4da4-c431-711e5de170e3"
      },
      "id": "639m0EubWj4F",
      "execution_count": 167,
      "outputs": [
        {
          "output_type": "stream",
          "name": "stdout",
          "text": [
            "time: 2.2 ms (started: 2023-10-01 15:32:37 +00:00)\n"
          ]
        }
      ]
    },
    {
      "cell_type": "code",
      "source": [
        "embedding_dim = 200\n",
        "num_filters = 100\n",
        "\n",
        "text_model = cnn_model(embedding_dim, num_filters)\n",
        "print(text_model.summary())"
      ],
      "metadata": {
        "colab": {
          "base_uri": "https://localhost:8080/"
        },
        "id": "ZuYsfpDAM-df",
        "outputId": "e486c388-ba30-48b3-d75b-249d75b90172"
      },
      "id": "ZuYsfpDAM-df",
      "execution_count": 177,
      "outputs": [
        {
          "output_type": "stream",
          "name": "stdout",
          "text": [
            "Model: \"model_5\"\n",
            "__________________________________________________________________________________________________\n",
            " Layer (type)                Output Shape                 Param #   Connected to                  \n",
            "==================================================================================================\n",
            " input_10 (InputLayer)       [(None, 33)]                 0         []                            \n",
            "                                                                                                  \n",
            " embedding_9 (Embedding)     (None, 33, 200)              4000000   ['input_10[0][0]']            \n",
            "                                                                                                  \n",
            " reshape_9 (Reshape)         (None, 33, 200, 1)           0         ['embedding_9[0][0]']         \n",
            "                                                                                                  \n",
            " conv2d_24 (Conv2D)          (None, 31, 1, 100)           60100     ['reshape_9[0][0]']           \n",
            "                                                                                                  \n",
            " conv2d_25 (Conv2D)          (None, 30, 1, 100)           80100     ['reshape_9[0][0]']           \n",
            "                                                                                                  \n",
            " conv2d_26 (Conv2D)          (None, 29, 1, 100)           100100    ['reshape_9[0][0]']           \n",
            "                                                                                                  \n",
            " max_pooling2d_24 (MaxPooli  (None, 1, 1, 100)            0         ['conv2d_24[0][0]']           \n",
            " ng2D)                                                                                            \n",
            "                                                                                                  \n",
            " max_pooling2d_25 (MaxPooli  (None, 1, 1, 100)            0         ['conv2d_25[0][0]']           \n",
            " ng2D)                                                                                            \n",
            "                                                                                                  \n",
            " max_pooling2d_26 (MaxPooli  (None, 1, 1, 100)            0         ['conv2d_26[0][0]']           \n",
            " ng2D)                                                                                            \n",
            "                                                                                                  \n",
            " concatenate_8 (Concatenate  (None, 3, 1, 100)            0         ['max_pooling2d_24[0][0]',    \n",
            " )                                                                   'max_pooling2d_25[0][0]',    \n",
            "                                                                     'max_pooling2d_26[0][0]']    \n",
            "                                                                                                  \n",
            " flatten_8 (Flatten)         (None, 300)                  0         ['concatenate_8[0][0]']       \n",
            "                                                                                                  \n",
            " dropout_8 (Dropout)         (None, 300)                  0         ['flatten_8[0][0]']           \n",
            "                                                                                                  \n",
            " dense_8 (Dense)             (None, 2)                    602       ['dropout_8[0][0]']           \n",
            "                                                                                                  \n",
            "==================================================================================================\n",
            "Total params: 4240902 (16.18 MB)\n",
            "Trainable params: 4240902 (16.18 MB)\n",
            "Non-trainable params: 0 (0.00 Byte)\n",
            "__________________________________________________________________________________________________\n",
            "None\n",
            "time: 178 ms (started: 2023-10-01 15:36:52 +00:00)\n"
          ]
        }
      ]
    },
    {
      "cell_type": "code",
      "source": [
        "plot_model(text_model, show_shapes=True, show_layer_activations=True)"
      ],
      "metadata": {
        "colab": {
          "base_uri": "https://localhost:8080/",
          "height": 994
        },
        "id": "tf1AlXJLOGFL",
        "outputId": "d1f7a6f9-3149-4a22-fd96-dc1b6d9824a4"
      },
      "id": "tf1AlXJLOGFL",
      "execution_count": 178,
      "outputs": [
        {
          "output_type": "execute_result",
          "data": {
            "image/png": "[encoded data removed]",
            "text/plain": [
              "<IPython.core.display.Image object>"
            ]
          },
          "metadata": {},
          "execution_count": 178
        },
        {
          "output_type": "stream",
          "name": "stdout",
          "text": [
            "time: 105 ms (started: 2023-10-01 15:36:55 +00:00)\n"
          ]
        }
      ]
    },
    {
      "cell_type": "code",
      "source": [
        "verbosity = 1\n",
        "batch_size = 32\n",
        "epochs = 25\n",
        "\n",
        "# define callbacks\n",
        "reduce_lr_callback = callbacks.ReduceLROnPlateau(\n",
        "    monitor='val_loss', factor=0.5, patience=10, min_lr=0.0005,\n",
        "    verbose=verbosity)\n",
        "\n",
        "earlystopping = callbacks.EarlyStopping(\n",
        "    monitor=\"val_loss\",\n",
        "    restore_best_weights=True,\n",
        "    min_delta=0.00001,\n",
        "    verbose=verbosity)\n",
        "\n",
        "text_history = text_model.fit(\n",
        "    X_train,\n",
        "    y_train,\n",
        "    epochs=epochs,\n",
        "    batch_size=batch_size,\n",
        "    validation_split=0.1,\n",
        "    shuffle=True,\n",
        "    verbose=verbosity)"
      ],
      "metadata": {
        "colab": {
          "base_uri": "https://localhost:8080/"
        },
        "id": "5AU9IRiQNs7x",
        "outputId": "fd2aae6d-f099-4b65-9c21-69b7fdf10f2b"
      },
      "id": "5AU9IRiQNs7x",
      "execution_count": 179,
      "outputs": [
        {
          "output_type": "stream",
          "name": "stdout",
          "text": [
            "Epoch 1/25\n",
            "15/15 [==============================] - 3s 121ms/step - loss: 4.6833 - accuracy: 0.5723 - val_loss: 2.1514 - val_accuracy: 0.6981\n",
            "Epoch 2/25\n",
            "15/15 [==============================] - 2s 102ms/step - loss: 1.3064 - accuracy: 0.5786 - val_loss: 0.8934 - val_accuracy: 0.6981\n",
            "Epoch 3/25\n",
            "15/15 [==============================] - 2s 110ms/step - loss: 0.8157 - accuracy: 0.5786 - val_loss: 0.6952 - val_accuracy: 0.6981\n",
            "Epoch 4/25\n",
            "15/15 [==============================] - 2s 114ms/step - loss: 0.7116 - accuracy: 0.5786 - val_loss: 0.6556 - val_accuracy: 0.6981\n",
            "Epoch 5/25\n",
            "15/15 [==============================] - 2s 107ms/step - loss: 0.6893 - accuracy: 0.5786 - val_loss: 0.6506 - val_accuracy: 0.6981\n",
            "Epoch 6/25\n",
            "15/15 [==============================] - 1s 88ms/step - loss: 0.6839 - accuracy: 0.5786 - val_loss: 0.6437 - val_accuracy: 0.6981\n",
            "Epoch 7/25\n",
            "15/15 [==============================] - 1s 66ms/step - loss: 0.6842 - accuracy: 0.5786 - val_loss: 0.6459 - val_accuracy: 0.6981\n",
            "Epoch 8/25\n",
            "15/15 [==============================] - 1s 69ms/step - loss: 0.6827 - accuracy: 0.5786 - val_loss: 0.6451 - val_accuracy: 0.6981\n",
            "Epoch 9/25\n",
            "15/15 [==============================] - 1s 66ms/step - loss: 0.6842 - accuracy: 0.5786 - val_loss: 0.6467 - val_accuracy: 0.6981\n",
            "Epoch 10/25\n",
            "15/15 [==============================] - 1s 67ms/step - loss: 0.6847 - accuracy: 0.5786 - val_loss: 0.6433 - val_accuracy: 0.6981\n",
            "Epoch 11/25\n",
            "15/15 [==============================] - 1s 67ms/step - loss: 0.6843 - accuracy: 0.5786 - val_loss: 0.6459 - val_accuracy: 0.6981\n",
            "Epoch 12/25\n",
            "15/15 [==============================] - 1s 68ms/step - loss: 0.6836 - accuracy: 0.5786 - val_loss: 0.6448 - val_accuracy: 0.6981\n",
            "Epoch 13/25\n",
            "15/15 [==============================] - 1s 67ms/step - loss: 0.6828 - accuracy: 0.5786 - val_loss: 0.6460 - val_accuracy: 0.6981\n",
            "Epoch 14/25\n",
            "15/15 [==============================] - 1s 67ms/step - loss: 0.6848 - accuracy: 0.5786 - val_loss: 0.6463 - val_accuracy: 0.6981\n",
            "Epoch 15/25\n",
            "15/15 [==============================] - 1s 67ms/step - loss: 0.6851 - accuracy: 0.5786 - val_loss: 0.6467 - val_accuracy: 0.6981\n",
            "Epoch 16/25\n",
            "15/15 [==============================] - 1s 98ms/step - loss: 0.6846 - accuracy: 0.5786 - val_loss: 0.6499 - val_accuracy: 0.6981\n",
            "Epoch 17/25\n",
            "15/15 [==============================] - 2s 103ms/step - loss: 0.6832 - accuracy: 0.5786 - val_loss: 0.6452 - val_accuracy: 0.6981\n",
            "Epoch 18/25\n",
            "15/15 [==============================] - 2s 105ms/step - loss: 0.6828 - accuracy: 0.5786 - val_loss: 0.6490 - val_accuracy: 0.6981\n",
            "Epoch 19/25\n",
            "15/15 [==============================] - 3s 194ms/step - loss: 0.6812 - accuracy: 0.5786 - val_loss: 0.6483 - val_accuracy: 0.6981\n",
            "Epoch 20/25\n",
            "15/15 [==============================] - 2s 117ms/step - loss: 0.6827 - accuracy: 0.5786 - val_loss: 0.6508 - val_accuracy: 0.6981\n",
            "Epoch 21/25\n",
            "15/15 [==============================] - 1s 87ms/step - loss: 0.6785 - accuracy: 0.5786 - val_loss: 0.6536 - val_accuracy: 0.6981\n",
            "Epoch 22/25\n",
            "15/15 [==============================] - 1s 67ms/step - loss: 0.6754 - accuracy: 0.5786 - val_loss: 0.6537 - val_accuracy: 0.6981\n",
            "Epoch 23/25\n",
            "15/15 [==============================] - 1s 70ms/step - loss: 0.6685 - accuracy: 0.5786 - val_loss: 0.6578 - val_accuracy: 0.6981\n",
            "Epoch 24/25\n",
            "15/15 [==============================] - 1s 68ms/step - loss: 0.6599 - accuracy: 0.5786 - val_loss: 0.6624 - val_accuracy: 0.6981\n",
            "Epoch 25/25\n",
            "15/15 [==============================] - 1s 69ms/step - loss: 0.6399 - accuracy: 0.5786 - val_loss: 0.6723 - val_accuracy: 0.6981\n",
            "time: 41.9 s (started: 2023-10-01 15:36:57 +00:00)\n"
          ]
        }
      ]
    },
    {
      "cell_type": "markdown",
      "source": [
        "## Model Assessment"
      ],
      "metadata": {
        "id": "fedDZs6DO09P"
      },
      "id": "fedDZs6DO09P"
    },
    {
      "cell_type": "markdown",
      "source": [
        "### Imports"
      ],
      "metadata": {
        "id": "vIgNKJCBSilF"
      },
      "id": "vIgNKJCBSilF"
    },
    {
      "cell_type": "code",
      "source": [
        "from sklearn import metrics"
      ],
      "metadata": {
        "outputId": "f4667d0c-d39e-42a7-bce6-650d1060ffd6",
        "colab": {
          "base_uri": "https://localhost:8080/"
        },
        "id": "kJb81kGdO09P"
      },
      "execution_count": 123,
      "outputs": [
        {
          "output_type": "stream",
          "name": "stdout",
          "text": [
            "time: 526 µs (started: 2023-10-01 12:34:58 +00:00)\n"
          ]
        }
      ],
      "id": "kJb81kGdO09P"
    },
    {
      "cell_type": "markdown",
      "source": [
        "### Fitting Progression"
      ],
      "metadata": {
        "id": "A6SySeTsSn8E"
      },
      "id": "A6SySeTsSn8E"
    },
    {
      "cell_type": "code",
      "source": [
        "fit_history = pd.DataFrame(text_history.history)\n",
        "print(f'Number of Actual Epochs: {fit_history.shape[0]}')"
      ],
      "metadata": {
        "outputId": "8a6f3e4f-5188-4429-e2c2-d1abdb7531df",
        "colab": {
          "base_uri": "https://localhost:8080/"
        },
        "id": "ay2JUlhxO09f"
      },
      "execution_count": 180,
      "outputs": [
        {
          "output_type": "stream",
          "name": "stdout",
          "text": [
            "Number of Actual Epochs: 25\n",
            "time: 3.87 ms (started: 2023-10-01 15:37:39 +00:00)\n"
          ]
        }
      ],
      "id": "ay2JUlhxO09f"
    },
    {
      "cell_type": "code",
      "source": [
        "loss_history = fit_history[['loss','val_loss']]\n",
        "loss_history.plot(title='', xlabel='epochs', ylabel='loss')\n",
        "plt.show()"
      ],
      "metadata": {
        "outputId": "c531cdfb-7021-4f1c-ed5a-e21e6ce0a3e2",
        "colab": {
          "base_uri": "https://localhost:8080/",
          "height": 467
        },
        "id": "vI6yuOxaO09f"
      },
      "execution_count": 181,
      "outputs": [
        {
          "output_type": "display_data",
          "data": {
            "text/plain": [
              "<Figure size 640x480 with 1 Axes>"
            ],
            "image/png": "[encoded data removed]"
          },
          "metadata": {}
        },
        {
          "output_type": "stream",
          "name": "stdout",
          "text": [
            "time: 263 ms (started: 2023-10-01 15:37:40 +00:00)\n"
          ]
        }
      ],
      "id": "vI6yuOxaO09f"
    },
    {
      "cell_type": "code",
      "source": [
        "accuracy_history = fit_history[['accuracy','val_accuracy']]\n",
        "accuracy_history.plot(\n",
        "    title='', xlabel='epochs', ylabel='accuracy')\n",
        "plt.show()"
      ],
      "metadata": {
        "colab": {
          "base_uri": "https://localhost:8080/",
          "height": 467
        },
        "id": "Q6xAgeM1O09f",
        "outputId": "faa499ae-9bf4-4cb0-e18b-7f8d5e2c7c33"
      },
      "execution_count": 182,
      "outputs": [
        {
          "output_type": "display_data",
          "data": {
            "text/plain": [
              "<Figure size 640x480 with 1 Axes>"
            ],
            "image/png": "[encoded data removed]"
          },
          "metadata": {}
        },
        {
          "output_type": "stream",
          "name": "stdout",
          "text": [
            "time: 176 ms (started: 2023-10-01 15:37:43 +00:00)\n"
          ]
        }
      ],
      "id": "Q6xAgeM1O09f"
    },
    {
      "cell_type": "markdown",
      "source": [
        "### Evaluation"
      ],
      "metadata": {
        "id": "NA143wqNSvvj"
      },
      "id": "NA143wqNSvvj"
    },
    {
      "cell_type": "code",
      "source": [
        "# create assessment values\n",
        "y_probability = text_model.predict(X_test, verbose=0)\n",
        "y_test_binary = np.argmax(y_test, axis=-1)\n",
        "y_predicted_binary = np.argmax(y_probability, axis=-1)"
      ],
      "metadata": {
        "colab": {
          "base_uri": "https://localhost:8080/"
        },
        "id": "kpp9rzamT_wO",
        "outputId": "8813799a-c830-4e74-d7ab-4e431fa8d36d"
      },
      "id": "kpp9rzamT_wO",
      "execution_count": 183,
      "outputs": [
        {
          "output_type": "stream",
          "name": "stdout",
          "text": [
            "time: 232 ms (started: 2023-10-01 15:37:57 +00:00)\n"
          ]
        }
      ]
    },
    {
      "cell_type": "code",
      "source": [
        "test_accuracy = text_model.evaluate(X_test, y_test, verbose=0)\n",
        "print(f'Test loss: {test_accuracy[0]}')\n",
        "print(f'Test Accuracy: {test_accuracy[1]}')"
      ],
      "metadata": {
        "colab": {
          "base_uri": "https://localhost:8080/"
        },
        "id": "1AqLeUBJO09f",
        "outputId": "03160b00-8286-47d6-a234-90a1015a2d8a"
      },
      "execution_count": 184,
      "outputs": [
        {
          "output_type": "stream",
          "name": "stdout",
          "text": [
            "Test loss: 0.7073350548744202\n",
            "Test Accuracy: 0.5932203531265259\n",
            "time: 232 ms (started: 2023-10-01 15:37:58 +00:00)\n"
          ]
        }
      ],
      "id": "1AqLeUBJO09f"
    },
    {
      "cell_type": "code",
      "source": [
        "small_model_report = metrics.classification_report(\n",
        "    y_test_binary, y_predicted_binary, digits=4,\n",
        "    target_names=['Non-Fatal','Fatal'])\n",
        "print(small_model_report)"
      ],
      "metadata": {
        "colab": {
          "base_uri": "https://localhost:8080/"
        },
        "id": "knZ1e5vhO09f",
        "outputId": "31a9fd25-2161-4c9e-d07d-7288483291d1"
      },
      "execution_count": 185,
      "outputs": [
        {
          "output_type": "stream",
          "name": "stdout",
          "text": [
            "              precision    recall  f1-score   support\n",
            "\n",
            "   Non-Fatal     0.0000    0.0000    0.0000        72\n",
            "       Fatal     0.5932    1.0000    0.7447       105\n",
            "\n",
            "    accuracy                         0.5932       177\n",
            "   macro avg     0.2966    0.5000    0.3723       177\n",
            "weighted avg     0.3519    0.5932    0.4418       177\n",
            "\n",
            "time: 19.4 ms (started: 2023-10-01 15:38:00 +00:00)\n"
          ]
        },
        {
          "output_type": "stream",
          "name": "stderr",
          "text": [
            "/usr/local/lib/python3.10/dist-packages/sklearn/metrics/_classification.py:1469: UndefinedMetricWarning: Precision and F-score are ill-defined and being set to 0.0 in labels with no predicted samples. Use `zero_division` parameter to control this behavior.\n",
            "  _warn_prf(average, modifier, msg_start, len(result))\n",
            "/usr/local/lib/python3.10/dist-packages/sklearn/metrics/_classification.py:1469: UndefinedMetricWarning: Precision and F-score are ill-defined and being set to 0.0 in labels with no predicted samples. Use `zero_division` parameter to control this behavior.\n",
            "  _warn_prf(average, modifier, msg_start, len(result))\n",
            "/usr/local/lib/python3.10/dist-packages/sklearn/metrics/_classification.py:1469: UndefinedMetricWarning: Precision and F-score are ill-defined and being set to 0.0 in labels with no predicted samples. Use `zero_division` parameter to control this behavior.\n",
            "  _warn_prf(average, modifier, msg_start, len(result))\n"
          ]
        }
      ],
      "id": "knZ1e5vhO09f"
    },
    {
      "cell_type": "code",
      "source": [
        "metrics.ConfusionMatrixDisplay.from_predictions(\n",
        "    y_test_binary, y_predicted_binary,\n",
        "    display_labels=['Non-Fatal','Fatal'],\n",
        "    cmap='Purples')\n",
        "plt.show()"
      ],
      "metadata": {
        "colab": {
          "base_uri": "https://localhost:8080/",
          "height": 467
        },
        "id": "2UFEixpjO09f",
        "outputId": "0b370756-e197-4e82-8dae-84669e7b4344"
      },
      "execution_count": 186,
      "outputs": [
        {
          "output_type": "display_data",
          "data": {
            "text/plain": [
              "<Figure size 640x480 with 2 Axes>"
            ],
            "image/png": "[encoded data removed]"
          },
          "metadata": {}
        },
        {
          "output_type": "stream",
          "name": "stdout",
          "text": [
            "time: 480 ms (started: 2023-10-01 15:38:06 +00:00)\n"
          ]
        }
      ],
      "id": "2UFEixpjO09f"
    },
    {
      "cell_type": "code",
      "source": [
        "metrics.RocCurveDisplay.from_predictions(\n",
        "    y_test_binary, y_probability[:, 1], plot_chance_level=True)\n",
        "plt.show()"
      ],
      "metadata": {
        "colab": {
          "base_uri": "https://localhost:8080/",
          "height": 467
        },
        "id": "FN-qo3wNRMm5",
        "outputId": "8729398a-ef13-4df1-9045-e14f2e1189ff"
      },
      "id": "FN-qo3wNRMm5",
      "execution_count": 187,
      "outputs": [
        {
          "output_type": "display_data",
          "data": {
            "text/plain": [
              "<Figure size 640x480 with 1 Axes>"
            ],
            "image/png": "[encoded data removed]"
          },
          "metadata": {}
        },
        {
          "output_type": "stream",
          "name": "stdout",
          "text": [
            "time: 167 ms (started: 2023-10-01 15:38:09 +00:00)\n"
          ]
        }
      ]
    }
  ],
  "metadata": {
    "kernelspec": {
      "display_name": "Python 3",
      "name": "python3"
    },
    "language_info": {
      "codemirror_mode": {
        "name": "ipython",
        "version": 3
      },
      "file_extension": ".py",
      "mimetype": "text/x-python",
      "name": "python",
      "nbconvert_exporter": "python",
      "pygments_lexer": "ipython3",
      "version": "3.11.4"
    },
    "colab": {
      "provenance": []
    }
  },
  "nbformat": 4,
  "nbformat_minor": 5
}