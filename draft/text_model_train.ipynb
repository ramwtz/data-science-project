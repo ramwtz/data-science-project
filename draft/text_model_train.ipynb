{
  "cells": [
    {
      "cell_type": "markdown",
      "source": [
        "# Git Repository Bringup"
      ],
      "metadata": {
        "id": "fHo3M0LL_ROe"
      },
      "id": "fHo3M0LL_ROe"
    },
    {
      "cell_type": "code",
      "source": [
        "!git version"
      ],
      "metadata": {
        "colab": {
          "base_uri": "https://localhost:8080/"
        },
        "id": "KafsLa2z8ALj",
        "outputId": "c31556c3-4dab-41db-83ae-effcf66ac6e5"
      },
      "execution_count": 1,
      "outputs": [
        {
          "output_type": "stream",
          "name": "stdout",
          "text": [
            "git version 2.34.1\n"
          ]
        }
      ],
      "id": "KafsLa2z8ALj"
    },
    {
      "cell_type": "code",
      "source": [
        "!git clone https://github.com/ramwtz/data-science-project.git"
      ],
      "metadata": {
        "colab": {
          "base_uri": "https://localhost:8080/"
        },
        "id": "MvDOev_38vZw",
        "outputId": "2327ae06-21c4-4356-98f9-bd3fb6dc572b"
      },
      "execution_count": 2,
      "outputs": [
        {
          "output_type": "stream",
          "name": "stdout",
          "text": [
            "Cloning into 'data-science-project'...\n",
            "remote: Enumerating objects: 179, done.\u001b[K\n",
            "remote: Counting objects: 100% (179/179), done.\u001b[K\n",
            "remote: Compressing objects: 100% (123/123), done.\u001b[K\n",
            "remote: Total 179 (delta 81), reused 116 (delta 47), pack-reused 0\u001b[K\n",
            "Receiving objects: 100% (179/179), 21.33 MiB | 21.12 MiB/s, done.\n",
            "Resolving deltas: 100% (81/81), done.\n"
          ]
        }
      ],
      "id": "MvDOev_38vZw"
    },
    {
      "cell_type": "code",
      "source": [
        "!ls"
      ],
      "metadata": {
        "colab": {
          "base_uri": "https://localhost:8080/"
        },
        "id": "8fE-lpOF80Dr",
        "outputId": "8dd2c0ff-fbec-4182-8eb1-affe6b27e8b3"
      },
      "execution_count": 3,
      "outputs": [
        {
          "output_type": "stream",
          "name": "stdout",
          "text": [
            "data-science-project  sample_data\n"
          ]
        }
      ],
      "id": "8fE-lpOF80Dr"
    },
    {
      "cell_type": "code",
      "source": [
        "%cd data-science-project/"
      ],
      "metadata": {
        "colab": {
          "base_uri": "https://localhost:8080/"
        },
        "id": "bi3CTOvT86iy",
        "outputId": "a8d78470-f6c0-4d27-c651-fd87578a269c"
      },
      "execution_count": 4,
      "outputs": [
        {
          "output_type": "stream",
          "name": "stdout",
          "text": [
            "/content/data-science-project\n"
          ]
        }
      ],
      "id": "bi3CTOvT86iy"
    },
    {
      "cell_type": "code",
      "source": [
        "!pwd"
      ],
      "metadata": {
        "colab": {
          "base_uri": "https://localhost:8080/"
        },
        "id": "o-Y_VO-79Htx",
        "outputId": "438a7fad-28cb-4388-fd7e-d4d520f58a5a"
      },
      "execution_count": 5,
      "outputs": [
        {
          "output_type": "stream",
          "name": "stdout",
          "text": [
            "/content/data-science-project\n"
          ]
        }
      ],
      "id": "o-Y_VO-79Htx"
    },
    {
      "cell_type": "code",
      "source": [
        "!git switch dev/ram"
      ],
      "metadata": {
        "colab": {
          "base_uri": "https://localhost:8080/"
        },
        "id": "r4EAABzL9Loj",
        "outputId": "2a2eb40c-2e26-46ad-8d11-01b66e5f8125"
      },
      "execution_count": 6,
      "outputs": [
        {
          "output_type": "stream",
          "name": "stdout",
          "text": [
            "Branch 'dev/ram' set up to track remote branch 'dev/ram' from 'origin'.\n",
            "Switched to a new branch 'dev/ram'\n"
          ]
        }
      ],
      "id": "r4EAABzL9Loj"
    },
    {
      "cell_type": "code",
      "source": [
        "!git pull"
      ],
      "metadata": {
        "colab": {
          "base_uri": "https://localhost:8080/"
        },
        "id": "z-7DQR06SD8O",
        "outputId": "cbdfa39c-797d-432f-a674-96f223f99c04"
      },
      "execution_count": 7,
      "outputs": [
        {
          "output_type": "stream",
          "name": "stdout",
          "text": [
            "Already up to date.\n"
          ]
        }
      ],
      "id": "z-7DQR06SD8O"
    },
    {
      "cell_type": "code",
      "source": [
        "%cd .."
      ],
      "metadata": {
        "id": "O-zkQbWh-sA1",
        "outputId": "e7cf6eba-2b67-4072-b364-059421d99477",
        "colab": {
          "base_uri": "https://localhost:8080/"
        }
      },
      "execution_count": 8,
      "outputs": [
        {
          "output_type": "stream",
          "name": "stdout",
          "text": [
            "/content\n"
          ]
        }
      ],
      "id": "O-zkQbWh-sA1"
    },
    {
      "cell_type": "markdown",
      "source": [
        "# Basic Bringup for Remote Environment"
      ],
      "metadata": {
        "id": "JPVMPUUUo2UP"
      },
      "id": "JPVMPUUUo2UP"
    },
    {
      "cell_type": "code",
      "source": [
        "from google.colab import drive\n",
        "drive.mount('/content/drive')"
      ],
      "metadata": {
        "id": "aQs8AozzPWrB",
        "outputId": "12087bdf-fc8b-473f-f26f-e4b9b4bd8b05",
        "colab": {
          "base_uri": "https://localhost:8080/"
        }
      },
      "execution_count": 9,
      "outputs": [
        {
          "output_type": "stream",
          "name": "stdout",
          "text": [
            "Mounted at /content/drive\n"
          ]
        }
      ],
      "id": "aQs8AozzPWrB"
    },
    {
      "cell_type": "code",
      "source": [
        "# Necessary packages for this nb\n",
        "!pip install --quiet --upgrade -r '/content/data-science-project/dependencies.txt'"
      ],
      "metadata": {
        "id": "blDntGCvK0pM",
        "colab": {
          "base_uri": "https://localhost:8080/"
        },
        "outputId": "091841d0-91f7-41b3-bab7-ff527289be7e"
      },
      "execution_count": 10,
      "outputs": [
        {
          "output_type": "stream",
          "name": "stdout",
          "text": [
            "\u001b[2K     \u001b[90m━━━━━━━━━━━━━━━━━━━━━━━━━━━━━━━━━━━━━━━\u001b[0m \u001b[32m18.2/18.2 MB\u001b[0m \u001b[31m107.3 MB/s\u001b[0m eta \u001b[36m0:00:00\u001b[0m\n",
            "\u001b[2K     \u001b[90m━━━━━━━━━━━━━━━━━━━━━━━━━━━━━━━━━━━━━━━━\u001b[0m \u001b[32m36.4/36.4 MB\u001b[0m \u001b[31m24.1 MB/s\u001b[0m eta \u001b[36m0:00:00\u001b[0m\n",
            "\u001b[2K     \u001b[90m━━━━━━━━━━━━━━━━━━━━━━━━━━━━━━━━━━━━━━━\u001b[0m \u001b[32m12.3/12.3 MB\u001b[0m \u001b[31m119.0 MB/s\u001b[0m eta \u001b[36m0:00:00\u001b[0m\n",
            "\u001b[2K     \u001b[90m━━━━━━━━━━━━━━━━━━━━━━━━━━━━━━━━━━━━━━\u001b[0m \u001b[32m294.6/294.6 kB\u001b[0m \u001b[31m29.7 MB/s\u001b[0m eta \u001b[36m0:00:00\u001b[0m\n",
            "\u001b[2K     \u001b[90m━━━━━━━━━━━━━━━━━━━━━━━━━━━━━━━━━━━━━━━\u001b[0m \u001b[32m489.8/489.8 MB\u001b[0m \u001b[31m1.4 MB/s\u001b[0m eta \u001b[36m0:00:00\u001b[0m\n",
            "\u001b[2K     \u001b[90m━━━━━━━━━━━━━━━━━━━━━━━━━━━━━━━━━━━━━━━━\u001b[0m \u001b[32m32.8/32.8 MB\u001b[0m \u001b[31m54.3 MB/s\u001b[0m eta \u001b[36m0:00:00\u001b[0m\n",
            "\u001b[2K     \u001b[90m━━━━━━━━━━━━━━━━━━━━━━━━━━━━━━━━━━━━━━━━\u001b[0m \u001b[32m7.2/7.2 MB\u001b[0m \u001b[31m76.6 MB/s\u001b[0m eta \u001b[36m0:00:00\u001b[0m\n",
            "\u001b[2K     \u001b[90m━━━━━━━━━━━━━━━━━━━━━━━━━━━━━━━━━━━━━━\u001b[0m \u001b[32m794.3/794.3 kB\u001b[0m \u001b[31m57.9 MB/s\u001b[0m eta \u001b[36m0:00:00\u001b[0m\n",
            "\u001b[?25h  Installing build dependencies ... \u001b[?25l\u001b[?25hdone\n",
            "  Getting requirements to build wheel ... \u001b[?25l\u001b[?25hdone\n",
            "  Preparing metadata (pyproject.toml) ... \u001b[?25l\u001b[?25hdone\n",
            "\u001b[2K     \u001b[90m━━━━━━━━━━━━━━━━━━━━━━━━━━━━━━━━━━━━━━━\u001b[0m \u001b[32m10.8/10.8 MB\u001b[0m \u001b[31m130.9 MB/s\u001b[0m eta \u001b[36m0:00:00\u001b[0m\n",
            "\u001b[2K     \u001b[90m━━━━━━━━━━━━━━━━━━━━━━━━━━━━━━━━━━━━━━━━\u001b[0m \u001b[32m86.0/86.0 kB\u001b[0m \u001b[31m8.6 MB/s\u001b[0m eta \u001b[36m0:00:00\u001b[0m\n",
            "\u001b[?25h  Preparing metadata (setup.py) ... \u001b[?25l\u001b[?25hdone\n",
            "\u001b[2K     \u001b[90m━━━━━━━━━━━━━━━━━━━━━━━━━━━━━━━━━━━━━━━━\u001b[0m \u001b[32m29.2/29.2 MB\u001b[0m \u001b[31m71.0 MB/s\u001b[0m eta \u001b[36m0:00:00\u001b[0m\n",
            "\u001b[2K     \u001b[90m━━━━━━━━━━━━━━━━━━━━━━━━━━━━━━━━━━━━━━\u001b[0m \u001b[32m341.8/341.8 kB\u001b[0m \u001b[31m36.2 MB/s\u001b[0m eta \u001b[36m0:00:00\u001b[0m\n",
            "\u001b[2K     \u001b[90m━━━━━━━━━━━━━━━━━━━━━━━━━━━━━━━━━━━━━━━━\u001b[0m \u001b[32m77.9/77.9 kB\u001b[0m \u001b[31m8.4 MB/s\u001b[0m eta \u001b[36m0:00:00\u001b[0m\n",
            "\u001b[2K     \u001b[90m━━━━━━━━━━━━━━━━━━━━━━━━━━━━━━━━━━━━━━━━\u001b[0m \u001b[32m5.5/5.5 MB\u001b[0m \u001b[31m116.9 MB/s\u001b[0m eta \u001b[36m0:00:00\u001b[0m\n",
            "\u001b[2K     \u001b[90m━━━━━━━━━━━━━━━━━━━━━━━━━━━━━━━━━━━━━━\u001b[0m \u001b[32m440.7/440.7 kB\u001b[0m \u001b[31m40.8 MB/s\u001b[0m eta \u001b[36m0:00:00\u001b[0m\n",
            "\u001b[2K     \u001b[90m━━━━━━━━━━━━━━━━━━━━━━━━━━━━━━━━━━━━━━━━\u001b[0m \u001b[32m1.7/1.7 MB\u001b[0m \u001b[31m95.1 MB/s\u001b[0m eta \u001b[36m0:00:00\u001b[0m\n",
            "\u001b[?25h  Preparing metadata (setup.py) ... \u001b[?25l\u001b[?25hdone\n",
            "\u001b[2K     \u001b[90m━━━━━━━━━━━━━━━━━━━━━━━━━━━━━━━━━━━━━━\u001b[0m \u001b[32m129.9/129.9 kB\u001b[0m \u001b[31m16.4 MB/s\u001b[0m eta \u001b[36m0:00:00\u001b[0m\n",
            "\u001b[2K     \u001b[90m━━━━━━━━━━━━━━━━━━━━━━━━━━━━━━━━━━━━━━━━\u001b[0m \u001b[32m1.7/1.7 MB\u001b[0m \u001b[31m13.9 MB/s\u001b[0m eta \u001b[36m0:00:00\u001b[0m\n",
            "\u001b[2K     \u001b[90m━━━━━━━━━━━━━━━━━━━━━━━━━━━━━━━━━━━━━━━━\u001b[0m \u001b[32m7.6/7.6 MB\u001b[0m \u001b[31m132.2 MB/s\u001b[0m eta \u001b[36m0:00:00\u001b[0m\n",
            "\u001b[2K     \u001b[90m━━━━━━━━━━━━━━━━━━━━━━━━━━━━━━━━━━━━━━━━\u001b[0m \u001b[32m1.3/1.3 MB\u001b[0m \u001b[31m95.3 MB/s\u001b[0m eta \u001b[36m0:00:00\u001b[0m\n",
            "\u001b[2K     \u001b[90m━━━━━━━━━━━━━━━━━━━━━━━━━━━━━━━━━━━━━━\u001b[0m \u001b[32m295.0/295.0 kB\u001b[0m \u001b[31m33.6 MB/s\u001b[0m eta \u001b[36m0:00:00\u001b[0m\n",
            "\u001b[2K     \u001b[90m━━━━━━━━━━━━━━━━━━━━━━━━━━━━━━━━━━━━━━━━\u001b[0m \u001b[32m7.8/7.8 MB\u001b[0m \u001b[31m113.9 MB/s\u001b[0m eta \u001b[36m0:00:00\u001b[0m\n",
            "\u001b[2K     \u001b[90m━━━━━━━━━━━━━━━━━━━━━━━━━━━━━━━━━━━━━━━━\u001b[0m \u001b[32m1.3/1.3 MB\u001b[0m \u001b[31m50.4 MB/s\u001b[0m eta \u001b[36m0:00:00\u001b[0m\n",
            "\u001b[2K     \u001b[90m━━━━━━━━━━━━━━━━━━━━━━━━━━━━━━━━━━━━━━━━\u001b[0m \u001b[32m1.6/1.6 MB\u001b[0m \u001b[31m107.4 MB/s\u001b[0m eta \u001b[36m0:00:00\u001b[0m\n",
            "\u001b[?25h  Building wheel for openai-whisper (pyproject.toml) ... \u001b[?25l\u001b[?25hdone\n",
            "  Building wheel for sentence-transformers (setup.py) ... \u001b[?25l\u001b[?25hdone\n",
            "  Building wheel for srt (setup.py) ... \u001b[?25l\u001b[?25hdone\n",
            "\u001b[31mERROR: pip's dependency resolver does not currently take into account all the packages that are installed. This behaviour is the source of the following dependency conflicts.\n",
            "google-colab 1.0.0 requires pandas==1.5.3, but you have pandas 2.1.1 which is incompatible.\u001b[0m\u001b[31m\n",
            "\u001b[0m"
          ]
        }
      ],
      "id": "blDntGCvK0pM"
    },
    {
      "cell_type": "markdown",
      "source": [
        "# Initialize Env"
      ],
      "metadata": {
        "id": "_q5b3nG_pLQ2"
      },
      "id": "_q5b3nG_pLQ2"
    },
    {
      "cell_type": "markdown",
      "source": [
        "## Imports"
      ],
      "metadata": {
        "id": "mWKQEjqXRgYB"
      },
      "id": "mWKQEjqXRgYB"
    },
    {
      "cell_type": "code",
      "execution_count": 14,
      "metadata": {
        "id": "S2PBoyn8PpqC",
        "colab": {
          "base_uri": "https://localhost:8080/"
        },
        "outputId": "45b6817f-0322-4bb0-85e2-2acf69b1c981"
      },
      "outputs": [
        {
          "output_type": "stream",
          "name": "stdout",
          "text": [
            "time: 527 µs (started: 2023-10-01 18:57:01 +00:00)\n"
          ]
        }
      ],
      "source": [
        "import pandas as pd\n",
        "import numpy as np\n",
        "import os\n",
        "import matplotlib.pyplot as plt\n",
        "from tqdm import tqdm"
      ],
      "id": "S2PBoyn8PpqC"
    },
    {
      "cell_type": "markdown",
      "source": [
        "## Configs"
      ],
      "metadata": {
        "id": "knXRAD9VRkz4"
      },
      "id": "knXRAD9VRkz4"
    },
    {
      "cell_type": "code",
      "source": [
        "%load_ext autotime\n",
        "\n",
        "pd.options.mode.chained_assignment = None  # default='warn'\n",
        "tqdm.pandas()"
      ],
      "metadata": {
        "colab": {
          "base_uri": "https://localhost:8080/"
        },
        "id": "EEsuF8Q4RpXC",
        "outputId": "7e0c79e7-607e-4087-afaf-c9b8bf876d05"
      },
      "id": "EEsuF8Q4RpXC",
      "execution_count": 15,
      "outputs": [
        {
          "output_type": "stream",
          "name": "stdout",
          "text": [
            "The autotime extension is already loaded. To reload it, use:\n",
            "  %reload_ext autotime\n",
            "time: 3.17 ms (started: 2023-10-01 18:57:01 +00:00)\n"
          ]
        }
      ]
    },
    {
      "cell_type": "markdown",
      "source": [
        "## Paths"
      ],
      "metadata": {
        "id": "J5s-XEMbRySa"
      },
      "id": "J5s-XEMbRySa"
    },
    {
      "cell_type": "code",
      "source": [
        "gen_data_dir = os.path.join('drive', 'MyDrive', 'project', 'data')\n",
        "calls_dir = os.path.join(gen_data_dir, 'calls')\n",
        "new_data_dir = os.path.join(gen_data_dir, 'new')\n",
        "models_path = os.path.join('drive', 'MyDrive', 'model')\n",
        "metadata_path = os.path.join(calls_dir, '911_first6sec', '911_metadata_6sec.csv')"
      ],
      "metadata": {
        "id": "z8f4V1ZtQP2Q",
        "colab": {
          "base_uri": "https://localhost:8080/"
        },
        "outputId": "c4340fde-651a-45e5-ad7f-92990fdf969c"
      },
      "execution_count": 16,
      "outputs": [
        {
          "output_type": "stream",
          "name": "stdout",
          "text": [
            "time: 693 µs (started: 2023-10-01 18:57:01 +00:00)\n"
          ]
        }
      ],
      "id": "z8f4V1ZtQP2Q"
    },
    {
      "cell_type": "markdown",
      "source": [
        "# Text-based CNN Model\n",
        "Based on [[Mandelbaum and Shalev, 2016]](https://arxiv.org/pdf/1610.08229.pdf) using a random embedding."
      ],
      "metadata": {
        "id": "W1OxADNHoAZf"
      },
      "id": "W1OxADNHoAZf"
    },
    {
      "cell_type": "markdown",
      "source": [
        "## Creating Features and Classes"
      ],
      "metadata": {
        "id": "8qwpm9feTxwO"
      },
      "id": "8qwpm9feTxwO"
    },
    {
      "cell_type": "markdown",
      "source": [
        "### Imports"
      ],
      "metadata": {
        "id": "RBvDfaU9r1mh"
      },
      "id": "RBvDfaU9r1mh"
    },
    {
      "cell_type": "code",
      "source": [
        "from sklearn.model_selection import train_test_split\n",
        "from sentence_transformers import SentenceTransformer\n",
        "from keras.preprocessing.text import Tokenizer\n",
        "from keras.preprocessing.sequence import pad_sequences"
      ],
      "metadata": {
        "colab": {
          "base_uri": "https://localhost:8080/"
        },
        "id": "pJaZ1-Vcr4rI",
        "outputId": "16f9e781-75b1-4a78-c750-99253b3c4097"
      },
      "id": "pJaZ1-Vcr4rI",
      "execution_count": 17,
      "outputs": [
        {
          "output_type": "stream",
          "name": "stdout",
          "text": [
            "time: 9.24 s (started: 2023-10-01 18:57:34 +00:00)\n"
          ]
        }
      ]
    },
    {
      "cell_type": "markdown",
      "source": [
        "### Defs"
      ],
      "metadata": {
        "id": "9BkAqLgmsIpj"
      },
      "id": "9BkAqLgmsIpj"
    },
    {
      "cell_type": "markdown",
      "source": [
        "### Arranging the Data"
      ],
      "metadata": {
        "id": "bkeVIr3usKtl"
      },
      "id": "bkeVIr3usKtl"
    },
    {
      "cell_type": "code",
      "source": [
        "metadata = pd.read_csv(metadata_path)\n",
        "metadata.drop_duplicates(subset=['filename'], inplace=True)\n",
        "metadata.reset_index(drop=True, inplace=True)\n",
        "print(metadata.count())"
      ],
      "metadata": {
        "id": "FLd7xI6lmGun",
        "outputId": "9f206ae5-d0ec-414c-cff6-2782ebeb0b21",
        "colab": {
          "base_uri": "https://localhost:8080/"
        }
      },
      "execution_count": 18,
      "outputs": [
        {
          "output_type": "stream",
          "name": "stdout",
          "text": [
            "id                 707\n",
            "event_id           707\n",
            "link               707\n",
            "title              707\n",
            "date               686\n",
            "state              699\n",
            "deaths             706\n",
            "potential_death    706\n",
            "false_alarm        706\n",
            "description        699\n",
            "deaths_binary      707\n",
            "break              707\n",
            "filename           707\n",
            "dtype: int64\n",
            "time: 5.09 s (started: 2023-10-01 18:57:43 +00:00)\n"
          ]
        }
      ],
      "id": "FLd7xI6lmGun"
    },
    {
      "cell_type": "code",
      "source": [
        "model_data = metadata[['filename', 'deaths_binary']]\n",
        "model_data"
      ],
      "metadata": {
        "id": "lprU_6ZhmMgr",
        "outputId": "b6df3af9-0125-4770-d696-e7f6381f54a1",
        "colab": {
          "base_uri": "https://localhost:8080/",
          "height": 441
        }
      },
      "execution_count": 19,
      "outputs": [
        {
          "output_type": "execute_result",
          "data": {
            "text/plain": [
              "                         filename  deaths_binary\n",
              "0      911_first6sec/call_2_0.wav              1\n",
              "1      911_first6sec/call_8_0.wav              1\n",
              "2      911_first6sec/call_9_0.wav              0\n",
              "3     911_first6sec/call_10_0.wav              1\n",
              "4     911_first6sec/call_11_0.wav              0\n",
              "..                            ...            ...\n",
              "702  911_first6sec/call_739_0.wav              0\n",
              "703  911_first6sec/call_740_0.wav              0\n",
              "704  911_first6sec/call_741_0.wav              1\n",
              "705  911_first6sec/call_742_0.wav              1\n",
              "706  911_first6sec/call_743_0.wav              0\n",
              "\n",
              "[707 rows x 2 columns]"
            ],
            "text/html": [
              "\n",
              "  <div id=\"df-5d2eefee-e867-4c19-a908-5c81d0f8c0ad\" class=\"colab-df-container\">\n",
              "    <div>\n",
              "<style scoped>\n",
              "    .dataframe tbody tr th:only-of-type {\n",
              "        vertical-align: middle;\n",
              "    }\n",
              "\n",
              "    .dataframe tbody tr th {\n",
              "        vertical-align: top;\n",
              "    }\n",
              "\n",
              "    .dataframe thead th {\n",
              "        text-align: right;\n",
              "    }\n",
              "</style>\n",
              "<table border=\"1\" class=\"dataframe\">\n",
              "  <thead>\n",
              "    <tr style=\"text-align: right;\">\n",
              "      <th></th>\n",
              "      <th>filename</th>\n",
              "      <th>deaths_binary</th>\n",
              "    </tr>\n",
              "  </thead>\n",
              "  <tbody>\n",
              "    <tr>\n",
              "      <th>0</th>\n",
              "      <td>911_first6sec/call_2_0.wav</td>\n",
              "      <td>1</td>\n",
              "    </tr>\n",
              "    <tr>\n",
              "      <th>1</th>\n",
              "      <td>911_first6sec/call_8_0.wav</td>\n",
              "      <td>1</td>\n",
              "    </tr>\n",
              "    <tr>\n",
              "      <th>2</th>\n",
              "      <td>911_first6sec/call_9_0.wav</td>\n",
              "      <td>0</td>\n",
              "    </tr>\n",
              "    <tr>\n",
              "      <th>3</th>\n",
              "      <td>911_first6sec/call_10_0.wav</td>\n",
              "      <td>1</td>\n",
              "    </tr>\n",
              "    <tr>\n",
              "      <th>4</th>\n",
              "      <td>911_first6sec/call_11_0.wav</td>\n",
              "      <td>0</td>\n",
              "    </tr>\n",
              "    <tr>\n",
              "      <th>...</th>\n",
              "      <td>...</td>\n",
              "      <td>...</td>\n",
              "    </tr>\n",
              "    <tr>\n",
              "      <th>702</th>\n",
              "      <td>911_first6sec/call_739_0.wav</td>\n",
              "      <td>0</td>\n",
              "    </tr>\n",
              "    <tr>\n",
              "      <th>703</th>\n",
              "      <td>911_first6sec/call_740_0.wav</td>\n",
              "      <td>0</td>\n",
              "    </tr>\n",
              "    <tr>\n",
              "      <th>704</th>\n",
              "      <td>911_first6sec/call_741_0.wav</td>\n",
              "      <td>1</td>\n",
              "    </tr>\n",
              "    <tr>\n",
              "      <th>705</th>\n",
              "      <td>911_first6sec/call_742_0.wav</td>\n",
              "      <td>1</td>\n",
              "    </tr>\n",
              "    <tr>\n",
              "      <th>706</th>\n",
              "      <td>911_first6sec/call_743_0.wav</td>\n",
              "      <td>0</td>\n",
              "    </tr>\n",
              "  </tbody>\n",
              "</table>\n",
              "<p>707 rows × 2 columns</p>\n",
              "</div>\n",
              "    <div class=\"colab-df-buttons\">\n",
              "\n",
              "  <div class=\"colab-df-container\">\n",
              "    <button class=\"colab-df-convert\" onclick=\"convertToInteractive('df-5d2eefee-e867-4c19-a908-5c81d0f8c0ad')\"\n",
              "            title=\"Convert this dataframe to an interactive table.\"\n",
              "            style=\"display:none;\">\n",
              "\n",
              "  <svg xmlns=\"http://www.w3.org/2000/svg\" height=\"24px\" viewBox=\"0 -960 960 960\">\n",
              "    <path d=\"M120-120v-720h720v720H120Zm60-500h600v-160H180v160Zm220 220h160v-160H400v160Zm0 220h160v-160H400v160ZM180-400h160v-160H180v160Zm440 0h160v-160H620v160ZM180-180h160v-160H180v160Zm440 0h160v-160H620v160Z\"/>\n",
              "  </svg>\n",
              "    </button>\n",
              "\n",
              "  <style>\n",
              "    .colab-df-container {\n",
              "      display:flex;\n",
              "      gap: 12px;\n",
              "    }\n",
              "\n",
              "    .colab-df-convert {\n",
              "      background-color: #E8F0FE;\n",
              "      border: none;\n",
              "      border-radius: 50%;\n",
              "      cursor: pointer;\n",
              "      display: none;\n",
              "      fill: #1967D2;\n",
              "      height: 32px;\n",
              "      padding: 0 0 0 0;\n",
              "      width: 32px;\n",
              "    }\n",
              "\n",
              "    .colab-df-convert:hover {\n",
              "      background-color: #E2EBFA;\n",
              "      box-shadow: 0px 1px 2px rgba(60, 64, 67, 0.3), 0px 1px 3px 1px rgba(60, 64, 67, 0.15);\n",
              "      fill: #174EA6;\n",
              "    }\n",
              "\n",
              "    .colab-df-buttons div {\n",
              "      margin-bottom: 4px;\n",
              "    }\n",
              "\n",
              "    [theme=dark] .colab-df-convert {\n",
              "      background-color: #3B4455;\n",
              "      fill: #D2E3FC;\n",
              "    }\n",
              "\n",
              "    [theme=dark] .colab-df-convert:hover {\n",
              "      background-color: #434B5C;\n",
              "      box-shadow: 0px 1px 3px 1px rgba(0, 0, 0, 0.15);\n",
              "      filter: drop-shadow(0px 1px 2px rgba(0, 0, 0, 0.3));\n",
              "      fill: #FFFFFF;\n",
              "    }\n",
              "  </style>\n",
              "\n",
              "    <script>\n",
              "      const buttonEl =\n",
              "        document.querySelector('#df-5d2eefee-e867-4c19-a908-5c81d0f8c0ad button.colab-df-convert');\n",
              "      buttonEl.style.display =\n",
              "        google.colab.kernel.accessAllowed ? 'block' : 'none';\n",
              "\n",
              "      async function convertToInteractive(key) {\n",
              "        const element = document.querySelector('#df-5d2eefee-e867-4c19-a908-5c81d0f8c0ad');\n",
              "        const dataTable =\n",
              "          await google.colab.kernel.invokeFunction('convertToInteractive',\n",
              "                                                    [key], {});\n",
              "        if (!dataTable) return;\n",
              "\n",
              "        const docLinkHtml = 'Like what you see? Visit the ' +\n",
              "          '<a target=\"_blank\" href=https://colab.research.google.com/notebooks/data_table.ipynb>data table notebook</a>'\n",
              "          + ' to learn more about interactive tables.';\n",
              "        element.innerHTML = '';\n",
              "        dataTable['output_type'] = 'display_data';\n",
              "        await google.colab.output.renderOutput(dataTable, element);\n",
              "        const docLink = document.createElement('div');\n",
              "        docLink.innerHTML = docLinkHtml;\n",
              "        element.appendChild(docLink);\n",
              "      }\n",
              "    </script>\n",
              "  </div>\n",
              "\n",
              "\n",
              "<div id=\"df-c89dd236-6c3e-4728-af21-6359abdd0968\">\n",
              "  <button class=\"colab-df-quickchart\" onclick=\"quickchart('df-c89dd236-6c3e-4728-af21-6359abdd0968')\"\n",
              "            title=\"Suggest charts.\"\n",
              "            style=\"display:none;\">\n",
              "\n",
              "<svg xmlns=\"http://www.w3.org/2000/svg\" height=\"24px\"viewBox=\"0 0 24 24\"\n",
              "     width=\"24px\">\n",
              "    <g>\n",
              "        <path d=\"M19 3H5c-1.1 0-2 .9-2 2v14c0 1.1.9 2 2 2h14c1.1 0 2-.9 2-2V5c0-1.1-.9-2-2-2zM9 17H7v-7h2v7zm4 0h-2V7h2v10zm4 0h-2v-4h2v4z\"/>\n",
              "    </g>\n",
              "</svg>\n",
              "  </button>\n",
              "\n",
              "<style>\n",
              "  .colab-df-quickchart {\n",
              "      --bg-color: #E8F0FE;\n",
              "      --fill-color: #1967D2;\n",
              "      --hover-bg-color: #E2EBFA;\n",
              "      --hover-fill-color: #174EA6;\n",
              "      --disabled-fill-color: #AAA;\n",
              "      --disabled-bg-color: #DDD;\n",
              "  }\n",
              "\n",
              "  [theme=dark] .colab-df-quickchart {\n",
              "      --bg-color: #3B4455;\n",
              "      --fill-color: #D2E3FC;\n",
              "      --hover-bg-color: #434B5C;\n",
              "      --hover-fill-color: #FFFFFF;\n",
              "      --disabled-bg-color: #3B4455;\n",
              "      --disabled-fill-color: #666;\n",
              "  }\n",
              "\n",
              "  .colab-df-quickchart {\n",
              "    background-color: var(--bg-color);\n",
              "    border: none;\n",
              "    border-radius: 50%;\n",
              "    cursor: pointer;\n",
              "    display: none;\n",
              "    fill: var(--fill-color);\n",
              "    height: 32px;\n",
              "    padding: 0;\n",
              "    width: 32px;\n",
              "  }\n",
              "\n",
              "  .colab-df-quickchart:hover {\n",
              "    background-color: var(--hover-bg-color);\n",
              "    box-shadow: 0 1px 2px rgba(60, 64, 67, 0.3), 0 1px 3px 1px rgba(60, 64, 67, 0.15);\n",
              "    fill: var(--button-hover-fill-color);\n",
              "  }\n",
              "\n",
              "  .colab-df-quickchart-complete:disabled,\n",
              "  .colab-df-quickchart-complete:disabled:hover {\n",
              "    background-color: var(--disabled-bg-color);\n",
              "    fill: var(--disabled-fill-color);\n",
              "    box-shadow: none;\n",
              "  }\n",
              "\n",
              "  .colab-df-spinner {\n",
              "    border: 2px solid var(--fill-color);\n",
              "    border-color: transparent;\n",
              "    border-bottom-color: var(--fill-color);\n",
              "    animation:\n",
              "      spin 1s steps(1) infinite;\n",
              "  }\n",
              "\n",
              "  @keyframes spin {\n",
              "    0% {\n",
              "      border-color: transparent;\n",
              "      border-bottom-color: var(--fill-color);\n",
              "      border-left-color: var(--fill-color);\n",
              "    }\n",
              "    20% {\n",
              "      border-color: transparent;\n",
              "      border-left-color: var(--fill-color);\n",
              "      border-top-color: var(--fill-color);\n",
              "    }\n",
              "    30% {\n",
              "      border-color: transparent;\n",
              "      border-left-color: var(--fill-color);\n",
              "      border-top-color: var(--fill-color);\n",
              "      border-right-color: var(--fill-color);\n",
              "    }\n",
              "    40% {\n",
              "      border-color: transparent;\n",
              "      border-right-color: var(--fill-color);\n",
              "      border-top-color: var(--fill-color);\n",
              "    }\n",
              "    60% {\n",
              "      border-color: transparent;\n",
              "      border-right-color: var(--fill-color);\n",
              "    }\n",
              "    80% {\n",
              "      border-color: transparent;\n",
              "      border-right-color: var(--fill-color);\n",
              "      border-bottom-color: var(--fill-color);\n",
              "    }\n",
              "    90% {\n",
              "      border-color: transparent;\n",
              "      border-bottom-color: var(--fill-color);\n",
              "    }\n",
              "  }\n",
              "</style>\n",
              "\n",
              "  <script>\n",
              "    async function quickchart(key) {\n",
              "      const quickchartButtonEl =\n",
              "        document.querySelector('#' + key + ' button');\n",
              "      quickchartButtonEl.disabled = true;  // To prevent multiple clicks.\n",
              "      quickchartButtonEl.classList.add('colab-df-spinner');\n",
              "      try {\n",
              "        const charts = await google.colab.kernel.invokeFunction(\n",
              "            'suggestCharts', [key], {});\n",
              "      } catch (error) {\n",
              "        console.error('Error during call to suggestCharts:', error);\n",
              "      }\n",
              "      quickchartButtonEl.classList.remove('colab-df-spinner');\n",
              "      quickchartButtonEl.classList.add('colab-df-quickchart-complete');\n",
              "    }\n",
              "    (() => {\n",
              "      let quickchartButtonEl =\n",
              "        document.querySelector('#df-c89dd236-6c3e-4728-af21-6359abdd0968 button');\n",
              "      quickchartButtonEl.style.display =\n",
              "        google.colab.kernel.accessAllowed ? 'block' : 'none';\n",
              "    })();\n",
              "  </script>\n",
              "</div>\n",
              "    </div>\n",
              "  </div>\n"
            ]
          },
          "metadata": {},
          "execution_count": 19
        },
        {
          "output_type": "stream",
          "name": "stdout",
          "text": [
            "time: 9.61 ms (started: 2023-10-01 18:57:48 +00:00)\n"
          ]
        }
      ],
      "id": "lprU_6ZhmMgr"
    },
    {
      "cell_type": "code",
      "source": [
        "transcriptions_path = os.path.join(calls_dir, '911_first6sec', 'transcriptions')\n",
        "transcriptions = pd.read_csv(transcriptions_path)\n",
        "model_data['transcription'] = transcriptions['medium']\n",
        "model_data"
      ],
      "metadata": {
        "colab": {
          "base_uri": "https://localhost:8080/",
          "height": 441
        },
        "id": "XWBmm8gEntVr",
        "outputId": "83cbd6be-d208-421d-d8fd-44fb89907a7d"
      },
      "id": "XWBmm8gEntVr",
      "execution_count": 20,
      "outputs": [
        {
          "output_type": "execute_result",
          "data": {
            "text/plain": [
              "                         filename  deaths_binary  \\\n",
              "0      911_first6sec/call_2_0.wav              1   \n",
              "1      911_first6sec/call_8_0.wav              1   \n",
              "2      911_first6sec/call_9_0.wav              0   \n",
              "3     911_first6sec/call_10_0.wav              1   \n",
              "4     911_first6sec/call_11_0.wav              0   \n",
              "..                            ...            ...   \n",
              "702  911_first6sec/call_739_0.wav              0   \n",
              "703  911_first6sec/call_740_0.wav              0   \n",
              "704  911_first6sec/call_741_0.wav              1   \n",
              "705  911_first6sec/call_742_0.wav              1   \n",
              "706  911_first6sec/call_743_0.wav              0   \n",
              "\n",
              "                                         transcription  \n",
              "0                               My mom had a bad time.  \n",
              "1                Hello. Hello. Is everything okay? Um.  \n",
              "2     I need a police officer over here at 7th. Wha...  \n",
              "3     Ma'am, my pickup was stolen. I had to go find...  \n",
              "4     No ma'am I don't. I don't have an emergency. ...  \n",
              "..                                                 ...  \n",
              "702     She's not waking up. Okay. What's her address?  \n",
              "703   I just shot the Mormon bishop over here on Tu...  \n",
              "704   And this guy has a gun in my hat. I need the ...  \n",
              "705   There are like at least four or five people w...  \n",
              "706   I'm going to call my studies, this is her, by...  \n",
              "\n",
              "[707 rows x 3 columns]"
            ],
            "text/html": [
              "\n",
              "  <div id=\"df-489729f3-a8b7-463c-a1ed-a6394698d85f\" class=\"colab-df-container\">\n",
              "    <div>\n",
              "<style scoped>\n",
              "    .dataframe tbody tr th:only-of-type {\n",
              "        vertical-align: middle;\n",
              "    }\n",
              "\n",
              "    .dataframe tbody tr th {\n",
              "        vertical-align: top;\n",
              "    }\n",
              "\n",
              "    .dataframe thead th {\n",
              "        text-align: right;\n",
              "    }\n",
              "</style>\n",
              "<table border=\"1\" class=\"dataframe\">\n",
              "  <thead>\n",
              "    <tr style=\"text-align: right;\">\n",
              "      <th></th>\n",
              "      <th>filename</th>\n",
              "      <th>deaths_binary</th>\n",
              "      <th>transcription</th>\n",
              "    </tr>\n",
              "  </thead>\n",
              "  <tbody>\n",
              "    <tr>\n",
              "      <th>0</th>\n",
              "      <td>911_first6sec/call_2_0.wav</td>\n",
              "      <td>1</td>\n",
              "      <td>My mom had a bad time.</td>\n",
              "    </tr>\n",
              "    <tr>\n",
              "      <th>1</th>\n",
              "      <td>911_first6sec/call_8_0.wav</td>\n",
              "      <td>1</td>\n",
              "      <td>Hello. Hello. Is everything okay? Um.</td>\n",
              "    </tr>\n",
              "    <tr>\n",
              "      <th>2</th>\n",
              "      <td>911_first6sec/call_9_0.wav</td>\n",
              "      <td>0</td>\n",
              "      <td>I need a police officer over here at 7th. Wha...</td>\n",
              "    </tr>\n",
              "    <tr>\n",
              "      <th>3</th>\n",
              "      <td>911_first6sec/call_10_0.wav</td>\n",
              "      <td>1</td>\n",
              "      <td>Ma'am, my pickup was stolen. I had to go find...</td>\n",
              "    </tr>\n",
              "    <tr>\n",
              "      <th>4</th>\n",
              "      <td>911_first6sec/call_11_0.wav</td>\n",
              "      <td>0</td>\n",
              "      <td>No ma'am I don't. I don't have an emergency. ...</td>\n",
              "    </tr>\n",
              "    <tr>\n",
              "      <th>...</th>\n",
              "      <td>...</td>\n",
              "      <td>...</td>\n",
              "      <td>...</td>\n",
              "    </tr>\n",
              "    <tr>\n",
              "      <th>702</th>\n",
              "      <td>911_first6sec/call_739_0.wav</td>\n",
              "      <td>0</td>\n",
              "      <td>She's not waking up. Okay. What's her address?</td>\n",
              "    </tr>\n",
              "    <tr>\n",
              "      <th>703</th>\n",
              "      <td>911_first6sec/call_740_0.wav</td>\n",
              "      <td>0</td>\n",
              "      <td>I just shot the Mormon bishop over here on Tu...</td>\n",
              "    </tr>\n",
              "    <tr>\n",
              "      <th>704</th>\n",
              "      <td>911_first6sec/call_741_0.wav</td>\n",
              "      <td>1</td>\n",
              "      <td>And this guy has a gun in my hat. I need the ...</td>\n",
              "    </tr>\n",
              "    <tr>\n",
              "      <th>705</th>\n",
              "      <td>911_first6sec/call_742_0.wav</td>\n",
              "      <td>1</td>\n",
              "      <td>There are like at least four or five people w...</td>\n",
              "    </tr>\n",
              "    <tr>\n",
              "      <th>706</th>\n",
              "      <td>911_first6sec/call_743_0.wav</td>\n",
              "      <td>0</td>\n",
              "      <td>I'm going to call my studies, this is her, by...</td>\n",
              "    </tr>\n",
              "  </tbody>\n",
              "</table>\n",
              "<p>707 rows × 3 columns</p>\n",
              "</div>\n",
              "    <div class=\"colab-df-buttons\">\n",
              "\n",
              "  <div class=\"colab-df-container\">\n",
              "    <button class=\"colab-df-convert\" onclick=\"convertToInteractive('df-489729f3-a8b7-463c-a1ed-a6394698d85f')\"\n",
              "            title=\"Convert this dataframe to an interactive table.\"\n",
              "            style=\"display:none;\">\n",
              "\n",
              "  <svg xmlns=\"http://www.w3.org/2000/svg\" height=\"24px\" viewBox=\"0 -960 960 960\">\n",
              "    <path d=\"M120-120v-720h720v720H120Zm60-500h600v-160H180v160Zm220 220h160v-160H400v160Zm0 220h160v-160H400v160ZM180-400h160v-160H180v160Zm440 0h160v-160H620v160ZM180-180h160v-160H180v160Zm440 0h160v-160H620v160Z\"/>\n",
              "  </svg>\n",
              "    </button>\n",
              "\n",
              "  <style>\n",
              "    .colab-df-container {\n",
              "      display:flex;\n",
              "      gap: 12px;\n",
              "    }\n",
              "\n",
              "    .colab-df-convert {\n",
              "      background-color: #E8F0FE;\n",
              "      border: none;\n",
              "      border-radius: 50%;\n",
              "      cursor: pointer;\n",
              "      display: none;\n",
              "      fill: #1967D2;\n",
              "      height: 32px;\n",
              "      padding: 0 0 0 0;\n",
              "      width: 32px;\n",
              "    }\n",
              "\n",
              "    .colab-df-convert:hover {\n",
              "      background-color: #E2EBFA;\n",
              "      box-shadow: 0px 1px 2px rgba(60, 64, 67, 0.3), 0px 1px 3px 1px rgba(60, 64, 67, 0.15);\n",
              "      fill: #174EA6;\n",
              "    }\n",
              "\n",
              "    .colab-df-buttons div {\n",
              "      margin-bottom: 4px;\n",
              "    }\n",
              "\n",
              "    [theme=dark] .colab-df-convert {\n",
              "      background-color: #3B4455;\n",
              "      fill: #D2E3FC;\n",
              "    }\n",
              "\n",
              "    [theme=dark] .colab-df-convert:hover {\n",
              "      background-color: #434B5C;\n",
              "      box-shadow: 0px 1px 3px 1px rgba(0, 0, 0, 0.15);\n",
              "      filter: drop-shadow(0px 1px 2px rgba(0, 0, 0, 0.3));\n",
              "      fill: #FFFFFF;\n",
              "    }\n",
              "  </style>\n",
              "\n",
              "    <script>\n",
              "      const buttonEl =\n",
              "        document.querySelector('#df-489729f3-a8b7-463c-a1ed-a6394698d85f button.colab-df-convert');\n",
              "      buttonEl.style.display =\n",
              "        google.colab.kernel.accessAllowed ? 'block' : 'none';\n",
              "\n",
              "      async function convertToInteractive(key) {\n",
              "        const element = document.querySelector('#df-489729f3-a8b7-463c-a1ed-a6394698d85f');\n",
              "        const dataTable =\n",
              "          await google.colab.kernel.invokeFunction('convertToInteractive',\n",
              "                                                    [key], {});\n",
              "        if (!dataTable) return;\n",
              "\n",
              "        const docLinkHtml = 'Like what you see? Visit the ' +\n",
              "          '<a target=\"_blank\" href=https://colab.research.google.com/notebooks/data_table.ipynb>data table notebook</a>'\n",
              "          + ' to learn more about interactive tables.';\n",
              "        element.innerHTML = '';\n",
              "        dataTable['output_type'] = 'display_data';\n",
              "        await google.colab.output.renderOutput(dataTable, element);\n",
              "        const docLink = document.createElement('div');\n",
              "        docLink.innerHTML = docLinkHtml;\n",
              "        element.appendChild(docLink);\n",
              "      }\n",
              "    </script>\n",
              "  </div>\n",
              "\n",
              "\n",
              "<div id=\"df-aeb2c4df-d014-4c69-9a62-ffb96dc048cd\">\n",
              "  <button class=\"colab-df-quickchart\" onclick=\"quickchart('df-aeb2c4df-d014-4c69-9a62-ffb96dc048cd')\"\n",
              "            title=\"Suggest charts.\"\n",
              "            style=\"display:none;\">\n",
              "\n",
              "<svg xmlns=\"http://www.w3.org/2000/svg\" height=\"24px\"viewBox=\"0 0 24 24\"\n",
              "     width=\"24px\">\n",
              "    <g>\n",
              "        <path d=\"M19 3H5c-1.1 0-2 .9-2 2v14c0 1.1.9 2 2 2h14c1.1 0 2-.9 2-2V5c0-1.1-.9-2-2-2zM9 17H7v-7h2v7zm4 0h-2V7h2v10zm4 0h-2v-4h2v4z\"/>\n",
              "    </g>\n",
              "</svg>\n",
              "  </button>\n",
              "\n",
              "<style>\n",
              "  .colab-df-quickchart {\n",
              "      --bg-color: #E8F0FE;\n",
              "      --fill-color: #1967D2;\n",
              "      --hover-bg-color: #E2EBFA;\n",
              "      --hover-fill-color: #174EA6;\n",
              "      --disabled-fill-color: #AAA;\n",
              "      --disabled-bg-color: #DDD;\n",
              "  }\n",
              "\n",
              "  [theme=dark] .colab-df-quickchart {\n",
              "      --bg-color: #3B4455;\n",
              "      --fill-color: #D2E3FC;\n",
              "      --hover-bg-color: #434B5C;\n",
              "      --hover-fill-color: #FFFFFF;\n",
              "      --disabled-bg-color: #3B4455;\n",
              "      --disabled-fill-color: #666;\n",
              "  }\n",
              "\n",
              "  .colab-df-quickchart {\n",
              "    background-color: var(--bg-color);\n",
              "    border: none;\n",
              "    border-radius: 50%;\n",
              "    cursor: pointer;\n",
              "    display: none;\n",
              "    fill: var(--fill-color);\n",
              "    height: 32px;\n",
              "    padding: 0;\n",
              "    width: 32px;\n",
              "  }\n",
              "\n",
              "  .colab-df-quickchart:hover {\n",
              "    background-color: var(--hover-bg-color);\n",
              "    box-shadow: 0 1px 2px rgba(60, 64, 67, 0.3), 0 1px 3px 1px rgba(60, 64, 67, 0.15);\n",
              "    fill: var(--button-hover-fill-color);\n",
              "  }\n",
              "\n",
              "  .colab-df-quickchart-complete:disabled,\n",
              "  .colab-df-quickchart-complete:disabled:hover {\n",
              "    background-color: var(--disabled-bg-color);\n",
              "    fill: var(--disabled-fill-color);\n",
              "    box-shadow: none;\n",
              "  }\n",
              "\n",
              "  .colab-df-spinner {\n",
              "    border: 2px solid var(--fill-color);\n",
              "    border-color: transparent;\n",
              "    border-bottom-color: var(--fill-color);\n",
              "    animation:\n",
              "      spin 1s steps(1) infinite;\n",
              "  }\n",
              "\n",
              "  @keyframes spin {\n",
              "    0% {\n",
              "      border-color: transparent;\n",
              "      border-bottom-color: var(--fill-color);\n",
              "      border-left-color: var(--fill-color);\n",
              "    }\n",
              "    20% {\n",
              "      border-color: transparent;\n",
              "      border-left-color: var(--fill-color);\n",
              "      border-top-color: var(--fill-color);\n",
              "    }\n",
              "    30% {\n",
              "      border-color: transparent;\n",
              "      border-left-color: var(--fill-color);\n",
              "      border-top-color: var(--fill-color);\n",
              "      border-right-color: var(--fill-color);\n",
              "    }\n",
              "    40% {\n",
              "      border-color: transparent;\n",
              "      border-right-color: var(--fill-color);\n",
              "      border-top-color: var(--fill-color);\n",
              "    }\n",
              "    60% {\n",
              "      border-color: transparent;\n",
              "      border-right-color: var(--fill-color);\n",
              "    }\n",
              "    80% {\n",
              "      border-color: transparent;\n",
              "      border-right-color: var(--fill-color);\n",
              "      border-bottom-color: var(--fill-color);\n",
              "    }\n",
              "    90% {\n",
              "      border-color: transparent;\n",
              "      border-bottom-color: var(--fill-color);\n",
              "    }\n",
              "  }\n",
              "</style>\n",
              "\n",
              "  <script>\n",
              "    async function quickchart(key) {\n",
              "      const quickchartButtonEl =\n",
              "        document.querySelector('#' + key + ' button');\n",
              "      quickchartButtonEl.disabled = true;  // To prevent multiple clicks.\n",
              "      quickchartButtonEl.classList.add('colab-df-spinner');\n",
              "      try {\n",
              "        const charts = await google.colab.kernel.invokeFunction(\n",
              "            'suggestCharts', [key], {});\n",
              "      } catch (error) {\n",
              "        console.error('Error during call to suggestCharts:', error);\n",
              "      }\n",
              "      quickchartButtonEl.classList.remove('colab-df-spinner');\n",
              "      quickchartButtonEl.classList.add('colab-df-quickchart-complete');\n",
              "    }\n",
              "    (() => {\n",
              "      let quickchartButtonEl =\n",
              "        document.querySelector('#df-aeb2c4df-d014-4c69-9a62-ffb96dc048cd button');\n",
              "      quickchartButtonEl.style.display =\n",
              "        google.colab.kernel.accessAllowed ? 'block' : 'none';\n",
              "    })();\n",
              "  </script>\n",
              "</div>\n",
              "    </div>\n",
              "  </div>\n"
            ]
          },
          "metadata": {},
          "execution_count": 20
        },
        {
          "output_type": "stream",
          "name": "stdout",
          "text": [
            "time: 244 ms (started: 2023-10-01 18:57:48 +00:00)\n"
          ]
        }
      ]
    },
    {
      "cell_type": "code",
      "source": [
        "transcriptions['len'] = model_data['transcription'].apply(lambda x: len(str(x).split(' ')))\n",
        "print(\"mean length of sentence: \" + str(transcriptions.len.mean()))\n",
        "print(\"max length of sentence: \" + str(transcriptions.len.max()))\n",
        "print(\"std dev length of sentence: \" + str(transcriptions.len.std()))"
      ],
      "metadata": {
        "colab": {
          "base_uri": "https://localhost:8080/"
        },
        "id": "xUUJajShCSkI",
        "outputId": "160c1628-f3f9-4062-a935-532ec596a089"
      },
      "id": "xUUJajShCSkI",
      "execution_count": 21,
      "outputs": [
        {
          "output_type": "stream",
          "name": "stdout",
          "text": [
            "mean length of sentence: 15.946251768033946\n",
            "max length of sentence: 33\n",
            "std dev length of sentence: 5.64807841263026\n",
            "time: 2.89 ms (started: 2023-10-01 18:57:48 +00:00)\n"
          ]
        }
      ]
    },
    {
      "cell_type": "code",
      "source": [
        "sequence_length = transcriptions.len.max()"
      ],
      "metadata": {
        "colab": {
          "base_uri": "https://localhost:8080/"
        },
        "id": "gOE5Rrr9E-Ze",
        "outputId": "a24cdd5f-f41a-4f9f-88bb-d4d10df49e98"
      },
      "id": "gOE5Rrr9E-Ze",
      "execution_count": 22,
      "outputs": [
        {
          "output_type": "stream",
          "name": "stdout",
          "text": [
            "time: 505 µs (started: 2023-10-01 18:57:48 +00:00)\n"
          ]
        }
      ]
    },
    {
      "cell_type": "code",
      "source": [
        "max_features = 20000\n",
        "\n",
        "tokenizer = Tokenizer(num_words=max_features, split=' ', oov_token='<unw>')\n",
        "tokenizer.fit_on_texts(model_data['transcription'].values)\n",
        "features = tokenizer.texts_to_sequences(model_data['transcription'].values)\n",
        "# TODO maybe pad interlacing instead of in the begininng?\n",
        "features = pad_sequences(features, sequence_length)\n",
        "print(features)"
      ],
      "metadata": {
        "colab": {
          "base_uri": "https://localhost:8080/"
        },
        "id": "iIc3o5tFFJ-p",
        "outputId": "fbe7dcaf-4062-480c-9b73-61710b36489d"
      },
      "id": "iIc3o5tFFJ-p",
      "execution_count": 23,
      "outputs": [
        {
          "output_type": "stream",
          "name": "stdout",
          "text": [
            "[[  0   0   0 ...   4 364 365]\n",
            " [  0   0   0 ... 366  15  72]\n",
            " [  0   0   0 ...  41  34  10]\n",
            " ...\n",
            " [  0   0   0 ...   5 728 675]\n",
            " [  0   0   0 ...  13   2 729]\n",
            " [  0   0   0 ...   6 132  35]]\n",
            "time: 23 ms (started: 2023-10-01 18:57:48 +00:00)\n"
          ]
        }
      ]
    },
    {
      "cell_type": "code",
      "source": [
        "classes = pd.get_dummies(model_data['deaths_binary'], dtype='uint8').values\n",
        "classes"
      ],
      "metadata": {
        "colab": {
          "base_uri": "https://localhost:8080/"
        },
        "id": "NMQB0Yo2GiJ_",
        "outputId": "55f194d0-9685-4cf9-cb89-7fedf99616bc"
      },
      "id": "NMQB0Yo2GiJ_",
      "execution_count": 24,
      "outputs": [
        {
          "output_type": "execute_result",
          "data": {
            "text/plain": [
              "array([[0, 1],\n",
              "       [0, 1],\n",
              "       [1, 0],\n",
              "       ...,\n",
              "       [0, 1],\n",
              "       [0, 1],\n",
              "       [1, 0]], dtype=uint8)"
            ]
          },
          "metadata": {},
          "execution_count": 24
        },
        {
          "output_type": "stream",
          "name": "stdout",
          "text": [
            "time: 4.49 ms (started: 2023-10-01 18:57:48 +00:00)\n"
          ]
        }
      ]
    },
    {
      "cell_type": "code",
      "source": [
        "model_data['vatorization'] = pd.Series(features.tolist())\n",
        "model_data['classes'] = pd.Series(classes.tolist())\n",
        "model_data.drop('deaths_binary', inplace=True, axis=1, errors='ignore')\n",
        "model_data"
      ],
      "metadata": {
        "colab": {
          "base_uri": "https://localhost:8080/",
          "height": 441
        },
        "id": "WSreNRZ9JmOa",
        "outputId": "193510ef-9552-4167-abb8-527ea82d1337"
      },
      "id": "WSreNRZ9JmOa",
      "execution_count": 26,
      "outputs": [
        {
          "output_type": "execute_result",
          "data": {
            "text/plain": [
              "                         filename  \\\n",
              "0      911_first6sec/call_2_0.wav   \n",
              "1      911_first6sec/call_8_0.wav   \n",
              "2      911_first6sec/call_9_0.wav   \n",
              "3     911_first6sec/call_10_0.wav   \n",
              "4     911_first6sec/call_11_0.wav   \n",
              "..                            ...   \n",
              "702  911_first6sec/call_739_0.wav   \n",
              "703  911_first6sec/call_740_0.wav   \n",
              "704  911_first6sec/call_741_0.wav   \n",
              "705  911_first6sec/call_742_0.wav   \n",
              "706  911_first6sec/call_743_0.wav   \n",
              "\n",
              "                                         transcription  \\\n",
              "0                               My mom had a bad time.   \n",
              "1                Hello. Hello. Is everything okay? Um.   \n",
              "2     I need a police officer over here at 7th. Wha...   \n",
              "3     Ma'am, my pickup was stolen. I had to go find...   \n",
              "4     No ma'am I don't. I don't have an emergency. ...   \n",
              "..                                                 ...   \n",
              "702     She's not waking up. Okay. What's her address?   \n",
              "703   I just shot the Mormon bishop over here on Tu...   \n",
              "704   And this guy has a gun in my hat. I need the ...   \n",
              "705   There are like at least four or five people w...   \n",
              "706   I'm going to call my studies, this is her, by...   \n",
              "\n",
              "                                          vatorization classes  \n",
              "0    [0, 0, 0, 0, 0, 0, 0, 0, 0, 0, 0, 0, 0, 0, 0, ...  [0, 1]  \n",
              "1    [0, 0, 0, 0, 0, 0, 0, 0, 0, 0, 0, 0, 0, 0, 0, ...  [0, 1]  \n",
              "2    [0, 0, 0, 0, 0, 0, 0, 0, 0, 0, 0, 0, 0, 0, 0, ...  [1, 0]  \n",
              "3    [0, 0, 0, 0, 0, 0, 0, 0, 0, 0, 0, 0, 0, 0, 0, ...  [0, 1]  \n",
              "4    [0, 0, 0, 0, 0, 0, 0, 0, 0, 0, 0, 0, 0, 0, 0, ...  [1, 0]  \n",
              "..                                                 ...     ...  \n",
              "702  [0, 0, 0, 0, 0, 0, 0, 0, 0, 0, 0, 0, 0, 0, 0, ...  [1, 0]  \n",
              "703  [0, 0, 0, 0, 0, 0, 0, 0, 0, 0, 0, 0, 0, 0, 0, ...  [1, 0]  \n",
              "704  [0, 0, 0, 0, 0, 0, 0, 0, 0, 0, 0, 6, 31, 81, 1...  [0, 1]  \n",
              "705  [0, 0, 0, 0, 0, 0, 0, 0, 0, 0, 0, 0, 0, 42, 30...  [0, 1]  \n",
              "706  [0, 0, 0, 0, 0, 0, 0, 0, 0, 0, 14, 34, 8, 129,...  [1, 0]  \n",
              "\n",
              "[707 rows x 4 columns]"
            ],
            "text/html": [
              "\n",
              "  <div id=\"df-0374dea3-d3c8-491b-8790-3520482de4fe\" class=\"colab-df-container\">\n",
              "    <div>\n",
              "<style scoped>\n",
              "    .dataframe tbody tr th:only-of-type {\n",
              "        vertical-align: middle;\n",
              "    }\n",
              "\n",
              "    .dataframe tbody tr th {\n",
              "        vertical-align: top;\n",
              "    }\n",
              "\n",
              "    .dataframe thead th {\n",
              "        text-align: right;\n",
              "    }\n",
              "</style>\n",
              "<table border=\"1\" class=\"dataframe\">\n",
              "  <thead>\n",
              "    <tr style=\"text-align: right;\">\n",
              "      <th></th>\n",
              "      <th>filename</th>\n",
              "      <th>transcription</th>\n",
              "      <th>vatorization</th>\n",
              "      <th>classes</th>\n",
              "    </tr>\n",
              "  </thead>\n",
              "  <tbody>\n",
              "    <tr>\n",
              "      <th>0</th>\n",
              "      <td>911_first6sec/call_2_0.wav</td>\n",
              "      <td>My mom had a bad time.</td>\n",
              "      <td>[0, 0, 0, 0, 0, 0, 0, 0, 0, 0, 0, 0, 0, 0, 0, ...</td>\n",
              "      <td>[0, 1]</td>\n",
              "    </tr>\n",
              "    <tr>\n",
              "      <th>1</th>\n",
              "      <td>911_first6sec/call_8_0.wav</td>\n",
              "      <td>Hello. Hello. Is everything okay? Um.</td>\n",
              "      <td>[0, 0, 0, 0, 0, 0, 0, 0, 0, 0, 0, 0, 0, 0, 0, ...</td>\n",
              "      <td>[0, 1]</td>\n",
              "    </tr>\n",
              "    <tr>\n",
              "      <th>2</th>\n",
              "      <td>911_first6sec/call_9_0.wav</td>\n",
              "      <td>I need a police officer over here at 7th. Wha...</td>\n",
              "      <td>[0, 0, 0, 0, 0, 0, 0, 0, 0, 0, 0, 0, 0, 0, 0, ...</td>\n",
              "      <td>[1, 0]</td>\n",
              "    </tr>\n",
              "    <tr>\n",
              "      <th>3</th>\n",
              "      <td>911_first6sec/call_10_0.wav</td>\n",
              "      <td>Ma'am, my pickup was stolen. I had to go find...</td>\n",
              "      <td>[0, 0, 0, 0, 0, 0, 0, 0, 0, 0, 0, 0, 0, 0, 0, ...</td>\n",
              "      <td>[0, 1]</td>\n",
              "    </tr>\n",
              "    <tr>\n",
              "      <th>4</th>\n",
              "      <td>911_first6sec/call_11_0.wav</td>\n",
              "      <td>No ma'am I don't. I don't have an emergency. ...</td>\n",
              "      <td>[0, 0, 0, 0, 0, 0, 0, 0, 0, 0, 0, 0, 0, 0, 0, ...</td>\n",
              "      <td>[1, 0]</td>\n",
              "    </tr>\n",
              "    <tr>\n",
              "      <th>...</th>\n",
              "      <td>...</td>\n",
              "      <td>...</td>\n",
              "      <td>...</td>\n",
              "      <td>...</td>\n",
              "    </tr>\n",
              "    <tr>\n",
              "      <th>702</th>\n",
              "      <td>911_first6sec/call_739_0.wav</td>\n",
              "      <td>She's not waking up. Okay. What's her address?</td>\n",
              "      <td>[0, 0, 0, 0, 0, 0, 0, 0, 0, 0, 0, 0, 0, 0, 0, ...</td>\n",
              "      <td>[1, 0]</td>\n",
              "    </tr>\n",
              "    <tr>\n",
              "      <th>703</th>\n",
              "      <td>911_first6sec/call_740_0.wav</td>\n",
              "      <td>I just shot the Mormon bishop over here on Tu...</td>\n",
              "      <td>[0, 0, 0, 0, 0, 0, 0, 0, 0, 0, 0, 0, 0, 0, 0, ...</td>\n",
              "      <td>[1, 0]</td>\n",
              "    </tr>\n",
              "    <tr>\n",
              "      <th>704</th>\n",
              "      <td>911_first6sec/call_741_0.wav</td>\n",
              "      <td>And this guy has a gun in my hat. I need the ...</td>\n",
              "      <td>[0, 0, 0, 0, 0, 0, 0, 0, 0, 0, 0, 6, 31, 81, 1...</td>\n",
              "      <td>[0, 1]</td>\n",
              "    </tr>\n",
              "    <tr>\n",
              "      <th>705</th>\n",
              "      <td>911_first6sec/call_742_0.wav</td>\n",
              "      <td>There are like at least four or five people w...</td>\n",
              "      <td>[0, 0, 0, 0, 0, 0, 0, 0, 0, 0, 0, 0, 0, 42, 30...</td>\n",
              "      <td>[0, 1]</td>\n",
              "    </tr>\n",
              "    <tr>\n",
              "      <th>706</th>\n",
              "      <td>911_first6sec/call_743_0.wav</td>\n",
              "      <td>I'm going to call my studies, this is her, by...</td>\n",
              "      <td>[0, 0, 0, 0, 0, 0, 0, 0, 0, 0, 14, 34, 8, 129,...</td>\n",
              "      <td>[1, 0]</td>\n",
              "    </tr>\n",
              "  </tbody>\n",
              "</table>\n",
              "<p>707 rows × 4 columns</p>\n",
              "</div>\n",
              "    <div class=\"colab-df-buttons\">\n",
              "\n",
              "  <div class=\"colab-df-container\">\n",
              "    <button class=\"colab-df-convert\" onclick=\"convertToInteractive('df-0374dea3-d3c8-491b-8790-3520482de4fe')\"\n",
              "            title=\"Convert this dataframe to an interactive table.\"\n",
              "            style=\"display:none;\">\n",
              "\n",
              "  <svg xmlns=\"http://www.w3.org/2000/svg\" height=\"24px\" viewBox=\"0 -960 960 960\">\n",
              "    <path d=\"M120-120v-720h720v720H120Zm60-500h600v-160H180v160Zm220 220h160v-160H400v160Zm0 220h160v-160H400v160ZM180-400h160v-160H180v160Zm440 0h160v-160H620v160ZM180-180h160v-160H180v160Zm440 0h160v-160H620v160Z\"/>\n",
              "  </svg>\n",
              "    </button>\n",
              "\n",
              "  <style>\n",
              "    .colab-df-container {\n",
              "      display:flex;\n",
              "      gap: 12px;\n",
              "    }\n",
              "\n",
              "    .colab-df-convert {\n",
              "      background-color: #E8F0FE;\n",
              "      border: none;\n",
              "      border-radius: 50%;\n",
              "      cursor: pointer;\n",
              "      display: none;\n",
              "      fill: #1967D2;\n",
              "      height: 32px;\n",
              "      padding: 0 0 0 0;\n",
              "      width: 32px;\n",
              "    }\n",
              "\n",
              "    .colab-df-convert:hover {\n",
              "      background-color: #E2EBFA;\n",
              "      box-shadow: 0px 1px 2px rgba(60, 64, 67, 0.3), 0px 1px 3px 1px rgba(60, 64, 67, 0.15);\n",
              "      fill: #174EA6;\n",
              "    }\n",
              "\n",
              "    .colab-df-buttons div {\n",
              "      margin-bottom: 4px;\n",
              "    }\n",
              "\n",
              "    [theme=dark] .colab-df-convert {\n",
              "      background-color: #3B4455;\n",
              "      fill: #D2E3FC;\n",
              "    }\n",
              "\n",
              "    [theme=dark] .colab-df-convert:hover {\n",
              "      background-color: #434B5C;\n",
              "      box-shadow: 0px 1px 3px 1px rgba(0, 0, 0, 0.15);\n",
              "      filter: drop-shadow(0px 1px 2px rgba(0, 0, 0, 0.3));\n",
              "      fill: #FFFFFF;\n",
              "    }\n",
              "  </style>\n",
              "\n",
              "    <script>\n",
              "      const buttonEl =\n",
              "        document.querySelector('#df-0374dea3-d3c8-491b-8790-3520482de4fe button.colab-df-convert');\n",
              "      buttonEl.style.display =\n",
              "        google.colab.kernel.accessAllowed ? 'block' : 'none';\n",
              "\n",
              "      async function convertToInteractive(key) {\n",
              "        const element = document.querySelector('#df-0374dea3-d3c8-491b-8790-3520482de4fe');\n",
              "        const dataTable =\n",
              "          await google.colab.kernel.invokeFunction('convertToInteractive',\n",
              "                                                    [key], {});\n",
              "        if (!dataTable) return;\n",
              "\n",
              "        const docLinkHtml = 'Like what you see? Visit the ' +\n",
              "          '<a target=\"_blank\" href=https://colab.research.google.com/notebooks/data_table.ipynb>data table notebook</a>'\n",
              "          + ' to learn more about interactive tables.';\n",
              "        element.innerHTML = '';\n",
              "        dataTable['output_type'] = 'display_data';\n",
              "        await google.colab.output.renderOutput(dataTable, element);\n",
              "        const docLink = document.createElement('div');\n",
              "        docLink.innerHTML = docLinkHtml;\n",
              "        element.appendChild(docLink);\n",
              "      }\n",
              "    </script>\n",
              "  </div>\n",
              "\n",
              "\n",
              "<div id=\"df-9f7bce8b-03b3-4548-a344-1762f8f5026e\">\n",
              "  <button class=\"colab-df-quickchart\" onclick=\"quickchart('df-9f7bce8b-03b3-4548-a344-1762f8f5026e')\"\n",
              "            title=\"Suggest charts.\"\n",
              "            style=\"display:none;\">\n",
              "\n",
              "<svg xmlns=\"http://www.w3.org/2000/svg\" height=\"24px\"viewBox=\"0 0 24 24\"\n",
              "     width=\"24px\">\n",
              "    <g>\n",
              "        <path d=\"M19 3H5c-1.1 0-2 .9-2 2v14c0 1.1.9 2 2 2h14c1.1 0 2-.9 2-2V5c0-1.1-.9-2-2-2zM9 17H7v-7h2v7zm4 0h-2V7h2v10zm4 0h-2v-4h2v4z\"/>\n",
              "    </g>\n",
              "</svg>\n",
              "  </button>\n",
              "\n",
              "<style>\n",
              "  .colab-df-quickchart {\n",
              "      --bg-color: #E8F0FE;\n",
              "      --fill-color: #1967D2;\n",
              "      --hover-bg-color: #E2EBFA;\n",
              "      --hover-fill-color: #174EA6;\n",
              "      --disabled-fill-color: #AAA;\n",
              "      --disabled-bg-color: #DDD;\n",
              "  }\n",
              "\n",
              "  [theme=dark] .colab-df-quickchart {\n",
              "      --bg-color: #3B4455;\n",
              "      --fill-color: #D2E3FC;\n",
              "      --hover-bg-color: #434B5C;\n",
              "      --hover-fill-color: #FFFFFF;\n",
              "      --disabled-bg-color: #3B4455;\n",
              "      --disabled-fill-color: #666;\n",
              "  }\n",
              "\n",
              "  .colab-df-quickchart {\n",
              "    background-color: var(--bg-color);\n",
              "    border: none;\n",
              "    border-radius: 50%;\n",
              "    cursor: pointer;\n",
              "    display: none;\n",
              "    fill: var(--fill-color);\n",
              "    height: 32px;\n",
              "    padding: 0;\n",
              "    width: 32px;\n",
              "  }\n",
              "\n",
              "  .colab-df-quickchart:hover {\n",
              "    background-color: var(--hover-bg-color);\n",
              "    box-shadow: 0 1px 2px rgba(60, 64, 67, 0.3), 0 1px 3px 1px rgba(60, 64, 67, 0.15);\n",
              "    fill: var(--button-hover-fill-color);\n",
              "  }\n",
              "\n",
              "  .colab-df-quickchart-complete:disabled,\n",
              "  .colab-df-quickchart-complete:disabled:hover {\n",
              "    background-color: var(--disabled-bg-color);\n",
              "    fill: var(--disabled-fill-color);\n",
              "    box-shadow: none;\n",
              "  }\n",
              "\n",
              "  .colab-df-spinner {\n",
              "    border: 2px solid var(--fill-color);\n",
              "    border-color: transparent;\n",
              "    border-bottom-color: var(--fill-color);\n",
              "    animation:\n",
              "      spin 1s steps(1) infinite;\n",
              "  }\n",
              "\n",
              "  @keyframes spin {\n",
              "    0% {\n",
              "      border-color: transparent;\n",
              "      border-bottom-color: var(--fill-color);\n",
              "      border-left-color: var(--fill-color);\n",
              "    }\n",
              "    20% {\n",
              "      border-color: transparent;\n",
              "      border-left-color: var(--fill-color);\n",
              "      border-top-color: var(--fill-color);\n",
              "    }\n",
              "    30% {\n",
              "      border-color: transparent;\n",
              "      border-left-color: var(--fill-color);\n",
              "      border-top-color: var(--fill-color);\n",
              "      border-right-color: var(--fill-color);\n",
              "    }\n",
              "    40% {\n",
              "      border-color: transparent;\n",
              "      border-right-color: var(--fill-color);\n",
              "      border-top-color: var(--fill-color);\n",
              "    }\n",
              "    60% {\n",
              "      border-color: transparent;\n",
              "      border-right-color: var(--fill-color);\n",
              "    }\n",
              "    80% {\n",
              "      border-color: transparent;\n",
              "      border-right-color: var(--fill-color);\n",
              "      border-bottom-color: var(--fill-color);\n",
              "    }\n",
              "    90% {\n",
              "      border-color: transparent;\n",
              "      border-bottom-color: var(--fill-color);\n",
              "    }\n",
              "  }\n",
              "</style>\n",
              "\n",
              "  <script>\n",
              "    async function quickchart(key) {\n",
              "      const quickchartButtonEl =\n",
              "        document.querySelector('#' + key + ' button');\n",
              "      quickchartButtonEl.disabled = true;  // To prevent multiple clicks.\n",
              "      quickchartButtonEl.classList.add('colab-df-spinner');\n",
              "      try {\n",
              "        const charts = await google.colab.kernel.invokeFunction(\n",
              "            'suggestCharts', [key], {});\n",
              "      } catch (error) {\n",
              "        console.error('Error during call to suggestCharts:', error);\n",
              "      }\n",
              "      quickchartButtonEl.classList.remove('colab-df-spinner');\n",
              "      quickchartButtonEl.classList.add('colab-df-quickchart-complete');\n",
              "    }\n",
              "    (() => {\n",
              "      let quickchartButtonEl =\n",
              "        document.querySelector('#df-9f7bce8b-03b3-4548-a344-1762f8f5026e button');\n",
              "      quickchartButtonEl.style.display =\n",
              "        google.colab.kernel.accessAllowed ? 'block' : 'none';\n",
              "    })();\n",
              "  </script>\n",
              "</div>\n",
              "    </div>\n",
              "  </div>\n"
            ]
          },
          "metadata": {},
          "execution_count": 26
        },
        {
          "output_type": "stream",
          "name": "stdout",
          "text": [
            "time: 24.1 ms (started: 2023-10-01 18:58:23 +00:00)\n"
          ]
        }
      ]
    },
    {
      "cell_type": "code",
      "source": [
        "X_train, X_test, y_train, y_test = train_test_split(\n",
        "    features, classes, test_size=0.25, shuffle=True, stratify=classes,\n",
        "    random_state=0\n",
        "    )"
      ],
      "metadata": {
        "colab": {
          "base_uri": "https://localhost:8080/"
        },
        "id": "4pIlUbUerwpE",
        "outputId": "db1d3d83-5e94-4f71-be6a-30176e5de397"
      },
      "id": "4pIlUbUerwpE",
      "execution_count": 27,
      "outputs": [
        {
          "output_type": "stream",
          "name": "stdout",
          "text": [
            "time: 5.87 ms (started: 2023-10-01 18:58:27 +00:00)\n"
          ]
        }
      ]
    },
    {
      "cell_type": "code",
      "source": [
        "print(X_train)"
      ],
      "metadata": {
        "colab": {
          "base_uri": "https://localhost:8080/"
        },
        "id": "nPoDrsk2LPfR",
        "outputId": "6709d329-5cf6-4b9f-fc9b-dcbde8502ca4"
      },
      "id": "nPoDrsk2LPfR",
      "execution_count": 28,
      "outputs": [
        {
          "output_type": "stream",
          "name": "stdout",
          "text": [
            "[[   0    0    0 ...    7    2  414]\n",
            " [   0    0    0 ...   36  668  133]\n",
            " [   0    0    0 ...   31 1144   56]\n",
            " ...\n",
            " [   0    0    0 ...  111 1618 1619]\n",
            " [   0    0    0 ...    7    4   19]\n",
            " [   0    0    0 ...   16 1003 1004]]\n",
            "time: 678 µs (started: 2023-10-01 18:58:31 +00:00)\n"
          ]
        }
      ]
    },
    {
      "cell_type": "code",
      "source": [
        "print(y_train)"
      ],
      "metadata": {
        "colab": {
          "base_uri": "https://localhost:8080/"
        },
        "id": "mt8LNArsLa3q",
        "outputId": "b905eaf9-8169-47e1-c4f4-59b64ee9145b"
      },
      "id": "mt8LNArsLa3q",
      "execution_count": 29,
      "outputs": [
        {
          "output_type": "stream",
          "name": "stdout",
          "text": [
            "[[0 1]\n",
            " [1 0]\n",
            " [1 0]\n",
            " ...\n",
            " [0 1]\n",
            " [0 1]\n",
            " [0 1]]\n",
            "time: 1.38 ms (started: 2023-10-01 18:58:32 +00:00)\n"
          ]
        }
      ]
    },
    {
      "cell_type": "markdown",
      "source": [
        "## Model Training"
      ],
      "metadata": {
        "id": "doOSqQAFn67f"
      },
      "id": "doOSqQAFn67f"
    },
    {
      "cell_type": "markdown",
      "source": [
        "### Imports"
      ],
      "metadata": {
        "id": "rC2MJWovqpmX"
      },
      "id": "rC2MJWovqpmX"
    },
    {
      "cell_type": "code",
      "source": [
        "from tensorflow.keras import models, layers, optimizers, callbacks, regularizers\n",
        "from tensorflow.keras.utils import plot_model"
      ],
      "metadata": {
        "colab": {
          "base_uri": "https://localhost:8080/"
        },
        "id": "woA5Xwj1liJ8",
        "outputId": "98ee192b-1dde-4346-f39a-a8f77f217e43"
      },
      "id": "woA5Xwj1liJ8",
      "execution_count": 30,
      "outputs": [
        {
          "output_type": "stream",
          "name": "stdout",
          "text": [
            "time: 30.9 ms (started: 2023-10-01 18:58:34 +00:00)\n"
          ]
        }
      ]
    },
    {
      "cell_type": "markdown",
      "source": [
        "### Train"
      ],
      "metadata": {
        "id": "rhXxQU9HqyeF"
      },
      "id": "rhXxQU9HqyeF"
    },
    {
      "cell_type": "code",
      "source": [
        "def cnn_model(embedding_dim, num_filters, dropout_rate=0.5,\n",
        "              loss='categorical_crossentropy',  optimizer_name='Adam',\n",
        "              learning_rate=0.001):\n",
        "  #\n",
        "  inputs = layers.Input(shape=(sequence_length,), dtype='int32')\n",
        "\n",
        "  #\n",
        "  emb_layr = layers.Embedding(\n",
        "      input_dim=max_features, output_dim=embedding_dim, input_length=sequence_length)(inputs)\n",
        "\n",
        "  #\n",
        "  reshape = layers.Reshape((sequence_length, embedding_dim, 1))(emb_layr)\n",
        "\n",
        "  #\n",
        "  conv_0 = layers.Conv2D(num_filters, kernel_size=(3, embedding_dim), activation='relu', kernel_regularizer=regularizers.l2(3))(reshape)\n",
        "  maxpool_0 = layers.MaxPool2D(pool_size=(sequence_length - 3 + 1, 1), strides=(1,1), padding='valid')(conv_0)\n",
        "\n",
        "  #\n",
        "  conv_1 = layers.Conv2D(num_filters, kernel_size=(4, embedding_dim), activation='relu', kernel_regularizer=regularizers.l2(3))(reshape)\n",
        "  maxpool_1 = layers.MaxPool2D(pool_size=(sequence_length - 4 + 1, 1), strides=(1,1), padding='valid')(conv_1)\n",
        "\n",
        "  #\n",
        "  conv_2 = layers.Conv2D(num_filters, kernel_size=(5, embedding_dim), activation='relu', kernel_regularizer=regularizers.l2(3))(reshape)\n",
        "  maxpool_2 = layers.MaxPool2D(pool_size=(sequence_length - 5 + 1, 1), strides=(1,1), padding='valid')(conv_2)\n",
        "\n",
        "  #\n",
        "  concatenated_tensor = layers.Concatenate(axis=1)([maxpool_0, maxpool_1, maxpool_2])\n",
        "  flatten = layers.Flatten()(concatenated_tensor)\n",
        "\n",
        "  #\n",
        "  dropout = layers.Dropout(dropout_rate)(flatten)\n",
        "\n",
        "  #\n",
        "  output = layers.Dense(units=2, activation='softmax')(dropout)\n",
        "\n",
        "  opt = getattr(optimizers, optimizer_name)\n",
        "  tm = models.Model(inputs=inputs, outputs=output)\n",
        "  tm.compile(loss=loss, optimizer=opt(learning_rate), metrics=['accuracy'])\n",
        "\n",
        "  return tm"
      ],
      "metadata": {
        "colab": {
          "base_uri": "https://localhost:8080/"
        },
        "id": "639m0EubWj4F",
        "outputId": "c8f472dd-d57b-43ce-af51-106f32f890f2"
      },
      "id": "639m0EubWj4F",
      "execution_count": 31,
      "outputs": [
        {
          "output_type": "stream",
          "name": "stdout",
          "text": [
            "time: 1.22 ms (started: 2023-10-01 18:58:34 +00:00)\n"
          ]
        }
      ]
    },
    {
      "cell_type": "code",
      "source": [
        "embedding_dim = 200\n",
        "num_filters = 100\n",
        "learning_rate = 0.001\n",
        "\n",
        "text_model = cnn_model(embedding_dim, num_filters, learning_rate=0.005)\n",
        "print(text_model.summary())"
      ],
      "metadata": {
        "colab": {
          "base_uri": "https://localhost:8080/"
        },
        "id": "ZuYsfpDAM-df",
        "outputId": "b599c8d1-f75c-4b92-d0e8-6dc17a88f4f1"
      },
      "id": "ZuYsfpDAM-df",
      "execution_count": 84,
      "outputs": [
        {
          "output_type": "stream",
          "name": "stdout",
          "text": [
            "Model: \"model_5\"\n",
            "__________________________________________________________________________________________________\n",
            " Layer (type)                Output Shape                 Param #   Connected to                  \n",
            "==================================================================================================\n",
            " input_6 (InputLayer)        [(None, 33)]                 0         []                            \n",
            "                                                                                                  \n",
            " embedding_5 (Embedding)     (None, 33, 200)              4000000   ['input_6[0][0]']             \n",
            "                                                                                                  \n",
            " reshape_5 (Reshape)         (None, 33, 200, 1)           0         ['embedding_5[0][0]']         \n",
            "                                                                                                  \n",
            " conv2d_15 (Conv2D)          (None, 31, 1, 100)           60100     ['reshape_5[0][0]']           \n",
            "                                                                                                  \n",
            " conv2d_16 (Conv2D)          (None, 30, 1, 100)           80100     ['reshape_5[0][0]']           \n",
            "                                                                                                  \n",
            " conv2d_17 (Conv2D)          (None, 29, 1, 100)           100100    ['reshape_5[0][0]']           \n",
            "                                                                                                  \n",
            " max_pooling2d_15 (MaxPooli  (None, 1, 1, 100)            0         ['conv2d_15[0][0]']           \n",
            " ng2D)                                                                                            \n",
            "                                                                                                  \n",
            " max_pooling2d_16 (MaxPooli  (None, 1, 1, 100)            0         ['conv2d_16[0][0]']           \n",
            " ng2D)                                                                                            \n",
            "                                                                                                  \n",
            " max_pooling2d_17 (MaxPooli  (None, 1, 1, 100)            0         ['conv2d_17[0][0]']           \n",
            " ng2D)                                                                                            \n",
            "                                                                                                  \n",
            " concatenate_5 (Concatenate  (None, 3, 1, 100)            0         ['max_pooling2d_15[0][0]',    \n",
            " )                                                                   'max_pooling2d_16[0][0]',    \n",
            "                                                                     'max_pooling2d_17[0][0]']    \n",
            "                                                                                                  \n",
            " flatten_5 (Flatten)         (None, 300)                  0         ['concatenate_5[0][0]']       \n",
            "                                                                                                  \n",
            " dropout_5 (Dropout)         (None, 300)                  0         ['flatten_5[0][0]']           \n",
            "                                                                                                  \n",
            " dense_5 (Dense)             (None, 2)                    602       ['dropout_5[0][0]']           \n",
            "                                                                                                  \n",
            "==================================================================================================\n",
            "Total params: 4240902 (16.18 MB)\n",
            "Trainable params: 4240902 (16.18 MB)\n",
            "Non-trainable params: 0 (0.00 Byte)\n",
            "__________________________________________________________________________________________________\n",
            "None\n",
            "time: 155 ms (started: 2023-10-01 19:27:38 +00:00)\n"
          ]
        }
      ]
    },
    {
      "cell_type": "code",
      "source": [
        "plot_model(text_model, show_shapes=True, show_layer_activations=True)"
      ],
      "metadata": {
        "colab": {
          "base_uri": "https://localhost:8080/",
          "height": 994
        },
        "id": "tf1AlXJLOGFL",
        "outputId": "454bf2e3-ae43-4c0c-cf8a-57ae78a07d52"
      },
      "id": "tf1AlXJLOGFL",
      "execution_count": 33,
      "outputs": [
        {
          "output_type": "execute_result",
          "data": {
            "image/png": "[encoded data removed]",
            "text/plain": [
              "<IPython.core.display.Image object>"
            ]
          },
          "metadata": {},
          "execution_count": 33
        },
        {
          "output_type": "stream",
          "name": "stdout",
          "text": [
            "time: 250 ms (started: 2023-10-01 18:58:35 +00:00)\n"
          ]
        }
      ]
    },
    {
      "cell_type": "code",
      "source": [
        "verbosity = 1\n",
        "batch_size = 32\n",
        "epochs = 50\n",
        "\n",
        "# define callbacks\n",
        "reduce_lr_callback = callbacks.ReduceLROnPlateau(\n",
        "    monitor='val_loss', factor=0.5, patience=10, min_lr=0.0001,\n",
        "    verbose=verbosity)\n",
        "\n",
        "earlystopping = callbacks.EarlyStopping(\n",
        "    monitor=\"val_loss\",\n",
        "    restore_best_weights=True,\n",
        "    min_delta=0.001,\n",
        "    patience=10,\n",
        "    start_from_epoch=25,\n",
        "    verbose=verbosity)\n",
        "\n",
        "text_history = text_model.fit(\n",
        "    X_train,\n",
        "    y_train,\n",
        "    epochs=epochs,\n",
        "    batch_size=batch_size,\n",
        "    validation_data=(X_test, y_test),\n",
        "    callbacks=[reduce_lr_callback, earlystopping],\n",
        "    verbose=verbosity)"
      ],
      "metadata": {
        "colab": {
          "base_uri": "https://localhost:8080/"
        },
        "id": "5AU9IRiQNs7x",
        "outputId": "045c632f-0d9d-4b20-c47b-54e4c82f621f"
      },
      "id": "5AU9IRiQNs7x",
      "execution_count": 85,
      "outputs": [
        {
          "output_type": "stream",
          "name": "stdout",
          "text": [
            "Epoch 1/50\n",
            "17/17 [==============================] - 2s 69ms/step - loss: 4.7112 - accuracy: 0.5736 - val_loss: 1.7419 - val_accuracy: 0.5932 - lr: 0.0050\n",
            "Epoch 2/50\n",
            "17/17 [==============================] - 1s 60ms/step - loss: 1.2189 - accuracy: 0.5906 - val_loss: 0.8557 - val_accuracy: 0.5932 - lr: 0.0050\n",
            "Epoch 3/50\n",
            "17/17 [==============================] - 1s 60ms/step - loss: 0.7777 - accuracy: 0.5906 - val_loss: 0.7129 - val_accuracy: 0.5932 - lr: 0.0050\n",
            "Epoch 4/50\n",
            "17/17 [==============================] - 1s 62ms/step - loss: 0.6965 - accuracy: 0.5906 - val_loss: 0.6856 - val_accuracy: 0.5932 - lr: 0.0050\n",
            "Epoch 5/50\n",
            "17/17 [==============================] - 1s 60ms/step - loss: 0.6823 - accuracy: 0.5906 - val_loss: 0.6807 - val_accuracy: 0.5932 - lr: 0.0050\n",
            "Epoch 6/50\n",
            "17/17 [==============================] - 1s 67ms/step - loss: 0.6826 - accuracy: 0.5906 - val_loss: 0.6810 - val_accuracy: 0.5932 - lr: 0.0050\n",
            "Epoch 7/50\n",
            "17/17 [==============================] - 2s 91ms/step - loss: 0.6823 - accuracy: 0.5906 - val_loss: 0.6812 - val_accuracy: 0.5932 - lr: 0.0050\n",
            "Epoch 8/50\n",
            "17/17 [==============================] - 2s 100ms/step - loss: 0.6807 - accuracy: 0.5906 - val_loss: 0.6817 - val_accuracy: 0.5932 - lr: 0.0050\n",
            "Epoch 9/50\n",
            "17/17 [==============================] - 2s 97ms/step - loss: 0.6822 - accuracy: 0.5906 - val_loss: 0.6836 - val_accuracy: 0.5932 - lr: 0.0050\n",
            "Epoch 10/50\n",
            "17/17 [==============================] - 2s 98ms/step - loss: 0.6849 - accuracy: 0.5906 - val_loss: 0.6828 - val_accuracy: 0.5932 - lr: 0.0050\n",
            "Epoch 11/50\n",
            "17/17 [==============================] - 2s 97ms/step - loss: 0.6833 - accuracy: 0.5906 - val_loss: 0.6862 - val_accuracy: 0.5932 - lr: 0.0050\n",
            "Epoch 12/50\n",
            "17/17 [==============================] - 1s 62ms/step - loss: 0.6688 - accuracy: 0.5906 - val_loss: 0.7035 - val_accuracy: 0.5932 - lr: 0.0050\n",
            "Epoch 13/50\n",
            "17/17 [==============================] - 1s 61ms/step - loss: 0.6505 - accuracy: 0.5925 - val_loss: 0.7487 - val_accuracy: 0.6045 - lr: 0.0050\n",
            "Epoch 14/50\n",
            "17/17 [==============================] - 1s 62ms/step - loss: 0.6295 - accuracy: 0.8170 - val_loss: 0.8437 - val_accuracy: 0.5876 - lr: 0.0050\n",
            "Epoch 15/50\n",
            "16/17 [===========================>..] - ETA: 0s - loss: 0.5855 - accuracy: 0.9102\n",
            "Epoch 15: ReduceLROnPlateau reducing learning rate to 0.0024999999441206455.\n",
            "17/17 [==============================] - 1s 61ms/step - loss: 0.5839 - accuracy: 0.9113 - val_loss: 0.9934 - val_accuracy: 0.5763 - lr: 0.0050\n",
            "Epoch 16/50\n",
            "17/17 [==============================] - 1s 62ms/step - loss: 0.5399 - accuracy: 0.9283 - val_loss: 0.8248 - val_accuracy: 0.6045 - lr: 0.0025\n",
            "Epoch 17/50\n",
            "17/17 [==============================] - 1s 60ms/step - loss: 0.4809 - accuracy: 0.9283 - val_loss: 0.7677 - val_accuracy: 0.5989 - lr: 0.0025\n",
            "Epoch 18/50\n",
            "17/17 [==============================] - 1s 62ms/step - loss: 0.4536 - accuracy: 0.9264 - val_loss: 0.7364 - val_accuracy: 0.5876 - lr: 0.0025\n",
            "Epoch 19/50\n",
            "17/17 [==============================] - 1s 61ms/step - loss: 0.4616 - accuracy: 0.9208 - val_loss: 0.7695 - val_accuracy: 0.5932 - lr: 0.0025\n",
            "Epoch 20/50\n",
            "17/17 [==============================] - 1s 62ms/step - loss: 0.4566 - accuracy: 0.9245 - val_loss: 0.9518 - val_accuracy: 0.5876 - lr: 0.0025\n",
            "Epoch 21/50\n",
            "17/17 [==============================] - 1s 72ms/step - loss: 0.4363 - accuracy: 0.9226 - val_loss: 0.8751 - val_accuracy: 0.5876 - lr: 0.0025\n",
            "Epoch 22/50\n",
            "17/17 [==============================] - 2s 93ms/step - loss: 0.4281 - accuracy: 0.9189 - val_loss: 0.9489 - val_accuracy: 0.5932 - lr: 0.0025\n",
            "Epoch 23/50\n",
            "17/17 [==============================] - 2s 95ms/step - loss: 0.4081 - accuracy: 0.9302 - val_loss: 0.9358 - val_accuracy: 0.5876 - lr: 0.0025\n",
            "Epoch 24/50\n",
            "17/17 [==============================] - 2s 91ms/step - loss: 0.3958 - accuracy: 0.9264 - val_loss: 0.9093 - val_accuracy: 0.5876 - lr: 0.0025\n",
            "Epoch 25/50\n",
            "17/17 [==============================] - ETA: 0s - loss: 0.4031 - accuracy: 0.9340\n",
            "Epoch 25: ReduceLROnPlateau reducing learning rate to 0.0012499999720603228.\n",
            "17/17 [==============================] - 2s 95ms/step - loss: 0.4031 - accuracy: 0.9340 - val_loss: 0.8999 - val_accuracy: 0.5932 - lr: 0.0025\n",
            "Epoch 26/50\n",
            "17/17 [==============================] - 2s 101ms/step - loss: 0.3571 - accuracy: 0.9321 - val_loss: 0.7938 - val_accuracy: 0.5819 - lr: 0.0012\n",
            "Epoch 27/50\n",
            "17/17 [==============================] - 1s 61ms/step - loss: 0.3561 - accuracy: 0.9264 - val_loss: 0.9073 - val_accuracy: 0.5932 - lr: 0.0012\n",
            "Epoch 28/50\n",
            "17/17 [==============================] - 1s 61ms/step - loss: 0.3307 - accuracy: 0.9245 - val_loss: 0.8225 - val_accuracy: 0.5989 - lr: 0.0012\n",
            "Epoch 29/50\n",
            "17/17 [==============================] - 1s 62ms/step - loss: 0.3463 - accuracy: 0.9283 - val_loss: 0.9739 - val_accuracy: 0.5932 - lr: 0.0012\n",
            "Epoch 30/50\n",
            "17/17 [==============================] - 1s 60ms/step - loss: 0.3369 - accuracy: 0.9340 - val_loss: 0.8665 - val_accuracy: 0.5932 - lr: 0.0012\n",
            "Epoch 31/50\n",
            "17/17 [==============================] - 1s 61ms/step - loss: 0.3241 - accuracy: 0.9321 - val_loss: 0.8845 - val_accuracy: 0.5932 - lr: 0.0012\n",
            "Epoch 32/50\n",
            "17/17 [==============================] - 1s 61ms/step - loss: 0.3359 - accuracy: 0.9264 - val_loss: 0.8678 - val_accuracy: 0.5932 - lr: 0.0012\n",
            "Epoch 33/50\n",
            "17/17 [==============================] - 1s 60ms/step - loss: 0.3179 - accuracy: 0.9302 - val_loss: 0.9136 - val_accuracy: 0.5876 - lr: 0.0012\n",
            "Epoch 34/50\n",
            "17/17 [==============================] - 1s 60ms/step - loss: 0.3138 - accuracy: 0.9321 - val_loss: 0.9514 - val_accuracy: 0.5932 - lr: 0.0012\n",
            "Epoch 35/50\n",
            "16/17 [===========================>..] - ETA: 0s - loss: 0.3224 - accuracy: 0.9277\n",
            "Epoch 35: ReduceLROnPlateau reducing learning rate to 0.0006249999860301614.\n",
            "17/17 [==============================] - 1s 60ms/step - loss: 0.3212 - accuracy: 0.9283 - val_loss: 0.8691 - val_accuracy: 0.5763 - lr: 0.0012\n",
            "Epoch 36/50\n",
            "17/17 [==============================] - ETA: 0s - loss: 0.3048 - accuracy: 0.9377Restoring model weights from the end of the best epoch: 26.\n",
            "17/17 [==============================] - 1s 70ms/step - loss: 0.3048 - accuracy: 0.9377 - val_loss: 0.8967 - val_accuracy: 0.5876 - lr: 6.2500e-04\n",
            "Epoch 36: early stopping\n",
            "time: 44.6 s (started: 2023-10-01 19:27:41 +00:00)\n"
          ]
        }
      ]
    },
    {
      "cell_type": "markdown",
      "source": [
        "## Model Assessment"
      ],
      "metadata": {
        "id": "fedDZs6DO09P"
      },
      "id": "fedDZs6DO09P"
    },
    {
      "cell_type": "markdown",
      "source": [
        "### Imports"
      ],
      "metadata": {
        "id": "vIgNKJCBSilF"
      },
      "id": "vIgNKJCBSilF"
    },
    {
      "cell_type": "code",
      "source": [
        "from sklearn import metrics"
      ],
      "metadata": {
        "outputId": "f63e9dc0-e691-4a20-beb8-da9de62e2637",
        "colab": {
          "base_uri": "https://localhost:8080/"
        },
        "id": "kJb81kGdO09P"
      },
      "execution_count": 86,
      "outputs": [
        {
          "output_type": "stream",
          "name": "stdout",
          "text": [
            "time: 316 µs (started: 2023-10-01 19:28:47 +00:00)\n"
          ]
        }
      ],
      "id": "kJb81kGdO09P"
    },
    {
      "cell_type": "markdown",
      "source": [
        "### Fitting Progression"
      ],
      "metadata": {
        "id": "A6SySeTsSn8E"
      },
      "id": "A6SySeTsSn8E"
    },
    {
      "cell_type": "code",
      "source": [
        "fit_history = pd.DataFrame(text_history.history)\n",
        "print(f'Number of Actual Epochs: {fit_history.shape[0]}')"
      ],
      "metadata": {
        "outputId": "54dfab1a-8d22-4dfd-aea2-e9b3fb31c06f",
        "colab": {
          "base_uri": "https://localhost:8080/"
        },
        "id": "ay2JUlhxO09f"
      },
      "execution_count": 87,
      "outputs": [
        {
          "output_type": "stream",
          "name": "stdout",
          "text": [
            "Number of Actual Epochs: 36\n",
            "time: 2.42 ms (started: 2023-10-01 19:28:47 +00:00)\n"
          ]
        }
      ],
      "id": "ay2JUlhxO09f"
    },
    {
      "cell_type": "code",
      "source": [
        "loss_history = fit_history[['loss','val_loss']]\n",
        "loss_history.plot(title='', xlabel='epochs', ylabel='loss')\n",
        "plt.show()"
      ],
      "metadata": {
        "outputId": "aca8e44a-0e90-4741-eced-d5bfc28a0d07",
        "colab": {
          "base_uri": "https://localhost:8080/",
          "height": 467
        },
        "id": "vI6yuOxaO09f"
      },
      "execution_count": 88,
      "outputs": [
        {
          "output_type": "display_data",
          "data": {
            "text/plain": [
              "<Figure size 640x480 with 1 Axes>"
            ],
            "image/png": "[encoded data removed]"
          },
          "metadata": {}
        },
        {
          "output_type": "stream",
          "name": "stdout",
          "text": [
            "time: 16.8 s (started: 2023-10-01 19:28:47 +00:00)\n"
          ]
        }
      ],
      "id": "vI6yuOxaO09f"
    },
    {
      "cell_type": "code",
      "source": [
        "accuracy_history = fit_history[['accuracy','val_accuracy']]\n",
        "accuracy_history.plot(\n",
        "    title='', xlabel='epochs', ylabel='accuracy')\n",
        "plt.show()"
      ],
      "metadata": {
        "colab": {
          "base_uri": "https://localhost:8080/",
          "height": 467
        },
        "id": "Q6xAgeM1O09f",
        "outputId": "051e09ca-e96f-4d2d-be30-56d5465daa1a"
      },
      "execution_count": 89,
      "outputs": [
        {
          "output_type": "display_data",
          "data": {
            "text/plain": [
              "<Figure size 640x480 with 1 Axes>"
            ],
            "image/png": "[encoded data removed]"
          },
          "metadata": {}
        },
        {
          "output_type": "stream",
          "name": "stdout",
          "text": [
            "time: 183 ms (started: 2023-10-01 19:29:04 +00:00)\n"
          ]
        }
      ],
      "id": "Q6xAgeM1O09f"
    },
    {
      "cell_type": "markdown",
      "source": [
        "### Evaluation"
      ],
      "metadata": {
        "id": "NA143wqNSvvj"
      },
      "id": "NA143wqNSvvj"
    },
    {
      "cell_type": "code",
      "source": [
        "# create assessment values\n",
        "y_probability = text_model.predict(X_test, verbose=0)\n",
        "y_test_binary = np.argmax(y_test, axis=-1)\n",
        "y_predicted_binary = np.argmax(y_probability, axis=-1)"
      ],
      "metadata": {
        "colab": {
          "base_uri": "https://localhost:8080/"
        },
        "id": "kpp9rzamT_wO",
        "outputId": "19e951ec-3958-443e-ed6c-c3e93e68255e"
      },
      "id": "kpp9rzamT_wO",
      "execution_count": 90,
      "outputs": [
        {
          "output_type": "stream",
          "name": "stdout",
          "text": [
            "time: 141 ms (started: 2023-10-01 19:29:04 +00:00)\n"
          ]
        }
      ]
    },
    {
      "cell_type": "code",
      "source": [
        "test_accuracy = text_model.evaluate(X_test, y_test, verbose=0)\n",
        "print(f'Test loss: {test_accuracy[0]}')\n",
        "print(f'Test Accuracy: {test_accuracy[1]}')"
      ],
      "metadata": {
        "colab": {
          "base_uri": "https://localhost:8080/"
        },
        "id": "1AqLeUBJO09f",
        "outputId": "b5e832b9-8918-471e-ebec-57a3bfea1328"
      },
      "execution_count": 91,
      "outputs": [
        {
          "output_type": "stream",
          "name": "stdout",
          "text": [
            "Test loss: 0.7937788367271423\n",
            "Test Accuracy: 0.5819209218025208\n",
            "time: 94.1 ms (started: 2023-10-01 19:29:04 +00:00)\n"
          ]
        }
      ],
      "id": "1AqLeUBJO09f"
    },
    {
      "cell_type": "code",
      "source": [
        "small_model_report = metrics.classification_report(\n",
        "    y_test_binary, y_predicted_binary, digits=4,\n",
        "    target_names=['Non-Fatal','Fatal'])\n",
        "print(small_model_report)"
      ],
      "metadata": {
        "colab": {
          "base_uri": "https://localhost:8080/"
        },
        "id": "knZ1e5vhO09f",
        "outputId": "02c172fa-dd56-42fb-aa41-4b2c58ac4186"
      },
      "execution_count": 92,
      "outputs": [
        {
          "output_type": "stream",
          "name": "stdout",
          "text": [
            "              precision    recall  f1-score   support\n",
            "\n",
            "   Non-Fatal     0.4900    0.6806    0.5698        72\n",
            "       Fatal     0.7013    0.5143    0.5934       105\n",
            "\n",
            "    accuracy                         0.5819       177\n",
            "   macro avg     0.5956    0.5974    0.5816       177\n",
            "weighted avg     0.6153    0.5819    0.5838       177\n",
            "\n",
            "time: 11.9 ms (started: 2023-10-01 19:29:04 +00:00)\n"
          ]
        }
      ],
      "id": "knZ1e5vhO09f"
    },
    {
      "cell_type": "code",
      "source": [
        "metrics.ConfusionMatrixDisplay.from_predictions(\n",
        "    y_test_binary, y_predicted_binary,\n",
        "    display_labels=['Non-Fatal','Fatal'],\n",
        "    cmap='Purples')\n",
        "plt.show()"
      ],
      "metadata": {
        "colab": {
          "base_uri": "https://localhost:8080/",
          "height": 467
        },
        "id": "2UFEixpjO09f",
        "outputId": "30a51fc3-4ac3-4c80-f7b1-c869ef43d50e"
      },
      "execution_count": 93,
      "outputs": [
        {
          "output_type": "display_data",
          "data": {
            "text/plain": [
              "<Figure size 640x480 with 2 Axes>"
            ],
            "image/png": "[encoded data removed]"
          },
          "metadata": {}
        },
        {
          "output_type": "stream",
          "name": "stdout",
          "text": [
            "time: 172 ms (started: 2023-10-01 19:29:04 +00:00)\n"
          ]
        }
      ],
      "id": "2UFEixpjO09f"
    },
    {
      "cell_type": "code",
      "source": [
        "metrics.RocCurveDisplay.from_predictions(\n",
        "    y_test_binary, y_probability[:, 1], plot_chance_level=True)\n",
        "plt.show()"
      ],
      "metadata": {
        "colab": {
          "base_uri": "https://localhost:8080/",
          "height": 467
        },
        "id": "FN-qo3wNRMm5",
        "outputId": "aa1c6bf9-3430-4f48-d91d-701624999327"
      },
      "id": "FN-qo3wNRMm5",
      "execution_count": 94,
      "outputs": [
        {
          "output_type": "display_data",
          "data": {
            "text/plain": [
              "<Figure size 640x480 with 1 Axes>"
            ],
            "image/png": "[encoded data removed]"
          },
          "metadata": {}
        },
        {
          "output_type": "stream",
          "name": "stdout",
          "text": [
            "time: 171 ms (started: 2023-10-01 19:29:04 +00:00)\n"
          ]
        }
      ]
    }
  ],
  "metadata": {
    "kernelspec": {
      "display_name": "Python 3",
      "name": "python3"
    },
    "language_info": {
      "codemirror_mode": {
        "name": "ipython",
        "version": 3
      },
      "file_extension": ".py",
      "mimetype": "text/x-python",
      "name": "python",
      "nbconvert_exporter": "python",
      "pygments_lexer": "ipython3",
      "version": "3.11.4"
    },
    "colab": {
      "provenance": []
    }
  },
  "nbformat": 4,
  "nbformat_minor": 5
}