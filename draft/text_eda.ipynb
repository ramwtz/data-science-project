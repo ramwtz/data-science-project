{
  "cells": [
    {
      "cell_type": "markdown",
      "source": [
        "# Git Repository Bringup"
      ],
      "metadata": {
        "id": "fHo3M0LL_ROe"
      },
      "id": "fHo3M0LL_ROe"
    },
    {
      "cell_type": "code",
      "source": [
        "!git version"
      ],
      "metadata": {
        "colab": {
          "base_uri": "https://localhost:8080/"
        },
        "id": "KafsLa2z8ALj",
        "outputId": "1fba5ab8-ec36-40ad-9bb6-abf327c6de14"
      },
      "execution_count": 4,
      "outputs": [
        {
          "output_type": "stream",
          "name": "stdout",
          "text": [
            "git version 2.34.1\n"
          ]
        }
      ],
      "id": "KafsLa2z8ALj"
    },
    {
      "cell_type": "code",
      "source": [
        "!git clone https://github.com/ramwtz/data-science-project.git"
      ],
      "metadata": {
        "colab": {
          "base_uri": "https://localhost:8080/"
        },
        "id": "MvDOev_38vZw",
        "outputId": "3a06fbd6-ad63-41b0-8ee3-5910940ff228"
      },
      "execution_count": 5,
      "outputs": [
        {
          "output_type": "stream",
          "name": "stdout",
          "text": [
            "Cloning into 'data-science-project'...\n",
            "remote: Enumerating objects: 132, done.\u001b[K\n",
            "remote: Counting objects: 100% (132/132), done.\u001b[K\n",
            "remote: Compressing objects: 100% (97/97), done.\u001b[K\n",
            "remote: Total 132 (delta 55), reused 74 (delta 27), pack-reused 0\u001b[K\n",
            "Receiving objects: 100% (132/132), 17.47 MiB | 16.72 MiB/s, done.\n",
            "Resolving deltas: 100% (55/55), done.\n"
          ]
        }
      ],
      "id": "MvDOev_38vZw"
    },
    {
      "cell_type": "code",
      "source": [
        "!ls"
      ],
      "metadata": {
        "colab": {
          "base_uri": "https://localhost:8080/"
        },
        "id": "8fE-lpOF80Dr",
        "outputId": "5262172b-c4ec-4fe7-b2f0-03f98cf4d546"
      },
      "execution_count": 6,
      "outputs": [
        {
          "output_type": "stream",
          "name": "stdout",
          "text": [
            "data-science-project  sample_data\n"
          ]
        }
      ],
      "id": "8fE-lpOF80Dr"
    },
    {
      "cell_type": "code",
      "source": [
        "%cd data-science-project/"
      ],
      "metadata": {
        "colab": {
          "base_uri": "https://localhost:8080/"
        },
        "id": "bi3CTOvT86iy",
        "outputId": "92d6357e-88b1-4214-cc88-abe80bcdcd93"
      },
      "execution_count": 7,
      "outputs": [
        {
          "output_type": "stream",
          "name": "stdout",
          "text": [
            "/content/data-science-project\n"
          ]
        }
      ],
      "id": "bi3CTOvT86iy"
    },
    {
      "cell_type": "code",
      "source": [
        "!pwd"
      ],
      "metadata": {
        "colab": {
          "base_uri": "https://localhost:8080/"
        },
        "id": "o-Y_VO-79Htx",
        "outputId": "87340a57-4bf5-4718-d2ac-da234d022040"
      },
      "execution_count": 8,
      "outputs": [
        {
          "output_type": "stream",
          "name": "stdout",
          "text": [
            "/content/data-science-project\n"
          ]
        }
      ],
      "id": "o-Y_VO-79Htx"
    },
    {
      "cell_type": "code",
      "source": [
        "!git switch dev/ram"
      ],
      "metadata": {
        "colab": {
          "base_uri": "https://localhost:8080/"
        },
        "id": "r4EAABzL9Loj",
        "outputId": "7664a692-75e5-466e-8b30-814cd69c0e8b"
      },
      "execution_count": 9,
      "outputs": [
        {
          "output_type": "stream",
          "name": "stdout",
          "text": [
            "Branch 'dev/ram' set up to track remote branch 'dev/ram' from 'origin'.\n",
            "Switched to a new branch 'dev/ram'\n"
          ]
        }
      ],
      "id": "r4EAABzL9Loj"
    },
    {
      "cell_type": "code",
      "source": [
        "!git pull"
      ],
      "metadata": {
        "colab": {
          "base_uri": "https://localhost:8080/"
        },
        "id": "z-7DQR06SD8O",
        "outputId": "bdecf8a9-a7f8-456d-95ec-c483d746a706"
      },
      "execution_count": 10,
      "outputs": [
        {
          "output_type": "stream",
          "name": "stdout",
          "text": [
            "Already up to date.\n"
          ]
        }
      ],
      "id": "z-7DQR06SD8O"
    },
    {
      "cell_type": "code",
      "source": [
        "%cd .."
      ],
      "metadata": {
        "id": "O-zkQbWh-sA1",
        "outputId": "6bfc56d9-ab38-4ef2-cb81-d1158e7e6243",
        "colab": {
          "base_uri": "https://localhost:8080/"
        }
      },
      "execution_count": 11,
      "outputs": [
        {
          "output_type": "stream",
          "name": "stdout",
          "text": [
            "/content\n"
          ]
        }
      ],
      "id": "O-zkQbWh-sA1"
    },
    {
      "cell_type": "markdown",
      "source": [
        "# Basic Bringup for Remote Environment"
      ],
      "metadata": {
        "id": "JPVMPUUUo2UP"
      },
      "id": "JPVMPUUUo2UP"
    },
    {
      "cell_type": "code",
      "source": [
        "from google.colab import drive\n",
        "drive.mount('/content/drive')"
      ],
      "metadata": {
        "id": "aQs8AozzPWrB",
        "outputId": "db33bce9-d930-4769-d070-65b014a6bc72",
        "colab": {
          "base_uri": "https://localhost:8080/"
        }
      },
      "execution_count": 12,
      "outputs": [
        {
          "output_type": "stream",
          "name": "stdout",
          "text": [
            "Mounted at /content/drive\n"
          ]
        }
      ],
      "id": "aQs8AozzPWrB"
    },
    {
      "cell_type": "code",
      "source": [
        "# Necessary packages for this nb\n",
        "!pip install --quiet --upgrade -r '/content/data-science-project/dependencies.txt'\n",
        "!pip install pocketsphinx"
      ],
      "metadata": {
        "id": "blDntGCvK0pM",
        "colab": {
          "base_uri": "https://localhost:8080/"
        },
        "outputId": "3576ec0d-094a-46a6-ed98-7e42417b71ac"
      },
      "execution_count": 13,
      "outputs": [
        {
          "output_type": "stream",
          "name": "stdout",
          "text": [
            "\u001b[2K     \u001b[90m━━━━━━━━━━━━━━━━━━━━━━━━━━━━━━━━━━━━━━━━\u001b[0m \u001b[32m18.2/18.2 MB\u001b[0m \u001b[31m70.0 MB/s\u001b[0m eta \u001b[36m0:00:00\u001b[0m\n",
            "\u001b[2K     \u001b[90m━━━━━━━━━━━━━━━━━━━━━━━━━━━━━━━━━━━━━━━━\u001b[0m \u001b[32m36.4/36.4 MB\u001b[0m \u001b[31m15.0 MB/s\u001b[0m eta \u001b[36m0:00:00\u001b[0m\n",
            "\u001b[2K     \u001b[90m━━━━━━━━━━━━━━━━━━━━━━━━━━━━━━━━━━━━━━━\u001b[0m \u001b[32m12.3/12.3 MB\u001b[0m \u001b[31m100.4 MB/s\u001b[0m eta \u001b[36m0:00:00\u001b[0m\n",
            "\u001b[2K     \u001b[90m━━━━━━━━━━━━━━━━━━━━━━━━━━━━━━━━━━━━━━━\u001b[0m \u001b[32m489.8/489.8 MB\u001b[0m \u001b[31m3.0 MB/s\u001b[0m eta \u001b[36m0:00:00\u001b[0m\n",
            "\u001b[2K     \u001b[90m━━━━━━━━━━━━━━━━━━━━━━━━━━━━━━━━━━━━━━━━\u001b[0m \u001b[32m32.8/32.8 MB\u001b[0m \u001b[31m47.7 MB/s\u001b[0m eta \u001b[36m0:00:00\u001b[0m\n",
            "\u001b[2K     \u001b[90m━━━━━━━━━━━━━━━━━━━━━━━━━━━━━━━━━━━━━━━━\u001b[0m \u001b[32m7.2/7.2 MB\u001b[0m \u001b[31m101.0 MB/s\u001b[0m eta \u001b[36m0:00:00\u001b[0m\n",
            "\u001b[2K     \u001b[90m━━━━━━━━━━━━━━━━━━━━━━━━━━━━━━━━━━━━━━\u001b[0m \u001b[32m794.3/794.3 kB\u001b[0m \u001b[31m62.3 MB/s\u001b[0m eta \u001b[36m0:00:00\u001b[0m\n",
            "\u001b[?25h  Installing build dependencies ... \u001b[?25l\u001b[?25hdone\n",
            "  Getting requirements to build wheel ... \u001b[?25l\u001b[?25hdone\n",
            "  Preparing metadata (pyproject.toml) ... \u001b[?25l\u001b[?25hdone\n",
            "\u001b[2K     \u001b[90m━━━━━━━━━━━━━━━━━━━━━━━━━━━━━━━━━━━━━━━\u001b[0m \u001b[32m10.8/10.8 MB\u001b[0m \u001b[31m115.4 MB/s\u001b[0m eta \u001b[36m0:00:00\u001b[0m\n",
            "\u001b[2K     \u001b[90m━━━━━━━━━━━━━━━━━━━━━━━━━━━━━━━━━━━━━━━━\u001b[0m \u001b[32m86.0/86.0 kB\u001b[0m \u001b[31m10.8 MB/s\u001b[0m eta \u001b[36m0:00:00\u001b[0m\n",
            "\u001b[?25h  Preparing metadata (setup.py) ... \u001b[?25l\u001b[?25hdone\n",
            "\u001b[2K     \u001b[90m━━━━━━━━━━━━━━━━━━━━━━━━━━━━━━━━━━━━━━\u001b[0m \u001b[32m341.8/341.8 kB\u001b[0m \u001b[31m33.5 MB/s\u001b[0m eta \u001b[36m0:00:00\u001b[0m\n",
            "\u001b[2K     \u001b[90m━━━━━━━━━━━━━━━━━━━━━━━━━━━━━━━━━━━━━━━━\u001b[0m \u001b[32m77.9/77.9 kB\u001b[0m \u001b[31m10.1 MB/s\u001b[0m eta \u001b[36m0:00:00\u001b[0m\n",
            "\u001b[2K     \u001b[90m━━━━━━━━━━━━━━━━━━━━━━━━━━━━━━━━━━━━━━━━\u001b[0m \u001b[32m5.5/5.5 MB\u001b[0m \u001b[31m111.0 MB/s\u001b[0m eta \u001b[36m0:00:00\u001b[0m\n",
            "\u001b[2K     \u001b[90m━━━━━━━━━━━━━━━━━━━━━━━━━━━━━━━━━━━━━━\u001b[0m \u001b[32m440.7/440.7 kB\u001b[0m \u001b[31m30.5 MB/s\u001b[0m eta \u001b[36m0:00:00\u001b[0m\n",
            "\u001b[2K     \u001b[90m━━━━━━━━━━━━━━━━━━━━━━━━━━━━━━━━━━━━━━━━\u001b[0m \u001b[32m1.7/1.7 MB\u001b[0m \u001b[31m73.6 MB/s\u001b[0m eta \u001b[36m0:00:00\u001b[0m\n",
            "\u001b[?25h  Preparing metadata (setup.py) ... \u001b[?25l\u001b[?25hdone\n",
            "\u001b[2K     \u001b[90m━━━━━━━━━━━━━━━━━━━━━━━━━━━━━━━━━━━━━━\u001b[0m \u001b[32m129.9/129.9 kB\u001b[0m \u001b[31m13.5 MB/s\u001b[0m eta \u001b[36m0:00:00\u001b[0m\n",
            "\u001b[2K     \u001b[90m━━━━━━━━━━━━━━━━━━━━━━━━━━━━━━━━━━━━━━━━\u001b[0m \u001b[32m1.7/1.7 MB\u001b[0m \u001b[31m69.5 MB/s\u001b[0m eta \u001b[36m0:00:00\u001b[0m\n",
            "\u001b[2K     \u001b[90m━━━━━━━━━━━━━━━━━━━━━━━━━━━━━━━━━━━━━━━━\u001b[0m \u001b[32m7.6/7.6 MB\u001b[0m \u001b[31m79.9 MB/s\u001b[0m eta \u001b[36m0:00:00\u001b[0m\n",
            "\u001b[2K     \u001b[90m━━━━━━━━━━━━━━━━━━━━━━━━━━━━━━━━━━━━━━━━\u001b[0m \u001b[32m1.3/1.3 MB\u001b[0m \u001b[31m6.2 MB/s\u001b[0m eta \u001b[36m0:00:00\u001b[0m\n",
            "\u001b[2K     \u001b[90m━━━━━━━━━━━━━━━━━━━━━━━━━━━━━━━━━━━━━━\u001b[0m \u001b[32m295.0/295.0 kB\u001b[0m \u001b[31m28.0 MB/s\u001b[0m eta \u001b[36m0:00:00\u001b[0m\n",
            "\u001b[2K     \u001b[90m━━━━━━━━━━━━━━━━━━━━━━━━━━━━━━━━━━━━━━━━\u001b[0m \u001b[32m7.8/7.8 MB\u001b[0m \u001b[31m76.8 MB/s\u001b[0m eta \u001b[36m0:00:00\u001b[0m\n",
            "\u001b[2K     \u001b[90m━━━━━━━━━━━━━━━━━━━━━━━━━━━━━━━━━━━━━━━━\u001b[0m \u001b[32m1.3/1.3 MB\u001b[0m \u001b[31m78.7 MB/s\u001b[0m eta \u001b[36m0:00:00\u001b[0m\n",
            "\u001b[2K     \u001b[90m━━━━━━━━━━━━━━━━━━━━━━━━━━━━━━━━━━━━━━━━\u001b[0m \u001b[32m1.6/1.6 MB\u001b[0m \u001b[31m93.6 MB/s\u001b[0m eta \u001b[36m0:00:00\u001b[0m\n",
            "\u001b[?25h  Building wheel for openai-whisper (pyproject.toml) ... \u001b[?25l\u001b[?25hdone\n",
            "  Building wheel for sentence-transformers (setup.py) ... \u001b[?25l\u001b[?25hdone\n",
            "  Building wheel for srt (setup.py) ... \u001b[?25l\u001b[?25hdone\n",
            "\u001b[31mERROR: pip's dependency resolver does not currently take into account all the packages that are installed. This behaviour is the source of the following dependency conflicts.\n",
            "google-colab 1.0.0 requires pandas==1.5.3, but you have pandas 2.1.1 which is incompatible.\u001b[0m\u001b[31m\n",
            "\u001b[0mCollecting pocketsphinx\n",
            "  Downloading pocketsphinx-5.0.2-cp310-cp310-manylinux_2_17_x86_64.manylinux2014_x86_64.whl (29.2 MB)\n",
            "\u001b[2K     \u001b[90m━━━━━━━━━━━━━━━━━━━━━━━━━━━━━━━━━━━━━━━━\u001b[0m \u001b[32m29.2/29.2 MB\u001b[0m \u001b[31m34.1 MB/s\u001b[0m eta \u001b[36m0:00:00\u001b[0m\n",
            "\u001b[?25hCollecting sounddevice (from pocketsphinx)\n",
            "  Downloading sounddevice-0.4.6-py3-none-any.whl (31 kB)\n",
            "Requirement already satisfied: CFFI>=1.0 in /usr/local/lib/python3.10/dist-packages (from sounddevice->pocketsphinx) (1.15.1)\n",
            "Requirement already satisfied: pycparser in /usr/local/lib/python3.10/dist-packages (from CFFI>=1.0->sounddevice->pocketsphinx) (2.21)\n",
            "Installing collected packages: sounddevice, pocketsphinx\n",
            "Successfully installed pocketsphinx-5.0.2 sounddevice-0.4.6\n"
          ]
        }
      ],
      "id": "blDntGCvK0pM"
    },
    {
      "cell_type": "markdown",
      "source": [
        "# Initialize Env"
      ],
      "metadata": {
        "id": "_q5b3nG_pLQ2"
      },
      "id": "_q5b3nG_pLQ2"
    },
    {
      "cell_type": "code",
      "execution_count": 14,
      "metadata": {
        "id": "S2PBoyn8PpqC",
        "colab": {
          "base_uri": "https://localhost:8080/"
        },
        "outputId": "9bde449e-b83c-4ff8-b3e2-1c3215a4587c"
      },
      "outputs": [
        {
          "output_type": "stream",
          "name": "stdout",
          "text": [
            "time: 2.09 ms (started: 2023-09-29 18:55:32 +00:00)\n"
          ]
        }
      ],
      "source": [
        "# Imports\n",
        "import speech_recognition as sr\n",
        "from vosk import Model, KaldiRecognizer\n",
        "import os\n",
        "import librosa as lbrs\n",
        "from tqdm import tqdm\n",
        "import pandas as pd\n",
        "import json\n",
        "from difflib import SequenceMatcher\n",
        "import timeit\n",
        "\n",
        "# Configs\n",
        "%load_ext autotime\n",
        "tqdm.pandas()"
      ],
      "id": "S2PBoyn8PpqC"
    },
    {
      "cell_type": "code",
      "source": [
        "gen_data_dir = os.path.join('drive', 'MyDrive', 'project', 'data')\n",
        "calls_dir = os.path.join(gen_data_dir, 'calls')\n",
        "new_data_dir = os.path.join(gen_data_dir, 'new')\n",
        "models_path = os.path.join('drive', 'MyDrive', 'model')\n",
        "metadata_path = os.path.join(calls_dir, '911_first6sec', '911_metadata_6sec.csv')"
      ],
      "metadata": {
        "id": "z8f4V1ZtQP2Q",
        "colab": {
          "base_uri": "https://localhost:8080/"
        },
        "outputId": "78d61992-836c-4931-ba5a-944504eefa37"
      },
      "execution_count": 15,
      "outputs": [
        {
          "output_type": "stream",
          "name": "stdout",
          "text": [
            "time: 861 µs (started: 2023-09-29 18:55:35 +00:00)\n"
          ]
        }
      ],
      "id": "z8f4V1ZtQP2Q"
    },
    {
      "cell_type": "code",
      "source": [
        "def get_path_from_filename(audio_file_name):\n",
        "    type_dir, file_name = audio_file_name.split('/')\n",
        "    return os.path.join(calls_dir, type_dir, file_name)"
      ],
      "metadata": {
        "colab": {
          "base_uri": "https://localhost:8080/"
        },
        "id": "dDpiusDus7SE",
        "outputId": "ae992772-88fc-40a8-eabf-02896b3da904"
      },
      "execution_count": 16,
      "outputs": [
        {
          "output_type": "stream",
          "name": "stdout",
          "text": [
            "time: 550 µs (started: 2023-09-29 18:55:36 +00:00)\n"
          ]
        }
      ],
      "id": "dDpiusDus7SE"
    },
    {
      "cell_type": "code",
      "source": [
        "def create_audio_series(audio_file_name):\n",
        "    audio_file_path = get_path_from_filename(audio_file_name)\n",
        "    data, sample_rate = lbrs.load(audio_file_path)\n",
        "    return data, sample_rate"
      ],
      "metadata": {
        "colab": {
          "base_uri": "https://localhost:8080/"
        },
        "id": "J0WK_yhqLYZh",
        "outputId": "09f5ed83-3aea-41e3-af0f-699613e095cb"
      },
      "execution_count": 17,
      "outputs": [
        {
          "output_type": "stream",
          "name": "stdout",
          "text": [
            "time: 594 µs (started: 2023-09-29 18:55:37 +00:00)\n"
          ]
        }
      ],
      "id": "J0WK_yhqLYZh"
    },
    {
      "cell_type": "markdown",
      "source": [
        "# Fetching the Transcription\n",
        "We're going to you the SpeechRecognition library to transform the audio to test to use as features for our model training"
      ],
      "metadata": {
        "id": "8qwpm9feTxwO"
      },
      "id": "8qwpm9feTxwO"
    },
    {
      "cell_type": "markdown",
      "source": [
        "## Defs"
      ],
      "metadata": {
        "id": "Sl4gLC-Qffd9"
      },
      "id": "Sl4gLC-Qffd9"
    },
    {
      "cell_type": "code",
      "source": [
        "r = sr.Recognizer()"
      ],
      "metadata": {
        "colab": {
          "base_uri": "https://localhost:8080/"
        },
        "id": "74311TtYyeN6",
        "outputId": "8c23c4e6-2a35-4eea-cf82-491033239016"
      },
      "id": "74311TtYyeN6",
      "execution_count": 18,
      "outputs": [
        {
          "output_type": "stream",
          "name": "stdout",
          "text": [
            "time: 481 µs (started: 2023-09-29 18:55:58 +00:00)\n"
          ]
        }
      ]
    },
    {
      "cell_type": "code",
      "execution_count": 19,
      "id": "a7898c1f",
      "metadata": {
        "colab": {
          "base_uri": "https://localhost:8080/"
        },
        "id": "a7898c1f",
        "outputId": "d1c6d9a2-e14f-4596-aff6-31551cecfb58"
      },
      "outputs": [
        {
          "output_type": "stream",
          "name": "stdout",
          "text": [
            "time: 633 µs (started: 2023-09-29 18:55:59 +00:00)\n"
          ]
        }
      ],
      "source": [
        "def get_audio(audio_file_path, filter_noise=False):\n",
        "  with sr.AudioFile(audio_file_path) as src:\n",
        "    if filter_noise:\n",
        "      r.adjust_for_ambient_noise(src, duration=0.5)\n",
        "    return r.record(src)"
      ]
    },
    {
      "cell_type": "code",
      "source": [
        "def get_path_from_filename(audio_file_name):\n",
        "    type_dir, file_name = audio_file_name.split('/')\n",
        "    return os.path.join(calls_dir, type_dir, file_name)"
      ],
      "metadata": {
        "colab": {
          "base_uri": "https://localhost:8080/"
        },
        "id": "1DWlYpryyQ7H",
        "outputId": "e6e74b67-dd6b-4edd-d2dd-992cdd76a9d4"
      },
      "id": "1DWlYpryyQ7H",
      "execution_count": 20,
      "outputs": [
        {
          "output_type": "stream",
          "name": "stdout",
          "text": [
            "time: 428 µs (started: 2023-09-29 18:55:59 +00:00)\n"
          ]
        }
      ]
    },
    {
      "cell_type": "markdown",
      "id": "ade9470c",
      "metadata": {
        "id": "ade9470c"
      },
      "source": [
        "## Raw Audio\n",
        "We will first try to decipher the audio as is using four different speach to text engines: Google, Sphinx, Vosk & Whisper (engines that have public APIs)."
      ]
    },
    {
      "cell_type": "markdown",
      "source": [
        "### Aggregate Transcriptions"
      ],
      "metadata": {
        "id": "WTMpkyPef1-G"
      },
      "id": "WTMpkyPef1-G"
    },
    {
      "cell_type": "code",
      "source": [
        "def recognize_vosk(audio, model=None):\n",
        "  if model is None:\n",
        "    model_path = os.path.join(models_path, 'vosk', 'eng_small')\n",
        "  else:\n",
        "    model_path = os.path.join(models_path, 'vosk', model)\n",
        "\n",
        "  vosk_audio = audio.get_raw_data(convert_rate=16000, convert_width=2)\n",
        "\n",
        "  #\n",
        "  model = Model(model_path)\n",
        "  recognizer = KaldiRecognizer(model, 16000)\n",
        "  recognizer.AcceptWaveform(vosk_audio)\n",
        "  return recognizer.FinalResult()"
      ],
      "metadata": {
        "colab": {
          "base_uri": "https://localhost:8080/"
        },
        "id": "LAwQ73y9yujx",
        "outputId": "b46464c1-7328-47a0-fe81-335bc62cdd8e"
      },
      "execution_count": 21,
      "outputs": [
        {
          "output_type": "stream",
          "name": "stdout",
          "text": [
            "time: 808 µs (started: 2023-09-29 18:56:01 +00:00)\n"
          ]
        }
      ],
      "id": "LAwQ73y9yujx"
    },
    {
      "cell_type": "code",
      "source": [
        "def transcribe_file(filename, filter_noise=False):\n",
        "  path = get_path_from_filename(filename)\n",
        "  audio = get_audio(path, filter_noise=filter_noise)\n",
        "\n",
        "  try:\n",
        "    g = r.recognize_google(audio)\n",
        "  except:\n",
        "    g = \"UNABLE TO RECOGNIZE\"\n",
        "\n",
        "  s = r.recognize_sphinx(audio)\n",
        "\n",
        "  w = r.recognize_whisper(audio)\n",
        "\n",
        "  vt = recognize_vosk(audio)\n",
        "  v = json.loads(vt)['text']\n",
        "\n",
        "  return g, s, w, v"
      ],
      "metadata": {
        "colab": {
          "base_uri": "https://localhost:8080/"
        },
        "id": "neVYtvrwx9HI",
        "outputId": "7847ebe7-7b32-47b0-e93c-b2b887cad3d7"
      },
      "execution_count": 22,
      "outputs": [
        {
          "output_type": "stream",
          "name": "stdout",
          "text": [
            "time: 807 µs (started: 2023-09-29 18:56:03 +00:00)\n"
          ]
        }
      ],
      "id": "neVYtvrwx9HI"
    },
    {
      "cell_type": "code",
      "source": [
        "metadata_df = pd.read_csv(metadata_path)"
      ],
      "metadata": {
        "colab": {
          "base_uri": "https://localhost:8080/"
        },
        "id": "PoZ8RvcItUyb",
        "outputId": "e447f1ea-9fb3-423b-ef95-c0d16e11e02b"
      },
      "id": "PoZ8RvcItUyb",
      "execution_count": 10,
      "outputs": [
        {
          "output_type": "stream",
          "name": "stdout",
          "text": [
            "time: 31.2 ms (started: 2023-09-29 18:05:09 +00:00)\n"
          ]
        }
      ]
    },
    {
      "cell_type": "code",
      "source": [
        "manual_transcriptions = {\n",
        "    '911_first6sec/call_8_0.wav': \"um hello hello is everything okay\",\n",
        "    '911_first6sec/call_9_0.wav': 'yes um i need a police officer over here at whats going on',\n",
        "    '911_first6sec/call_10_0.wav': \"ma'am my pickup was stolen I had to go find it uhh\",\n",
        "    '911_first6sec/call_11_0.wav': \"no ma'am i don't i don't have an emergency two police officers just at my house just now\",\n",
        "    '911_first6sec/call_15_0.wav': \"I'm Dylon Peterson and i just killed two people\",\n",
        "    '911_first6sec/call_17_0.wav': \"yeah we got a fire down here at on route seven right here at abington\",\n",
        "    '911_first6sec/call_20_0.wav': \"are you out of the house yet no alright get out of the house we can't theres a\",\n",
        "    '911_first6sec/call_21_0.wav': \"yes is this a police station yes it is may i help you yeah okay i put this is ridiculous\",\n",
        "    '911_first6sec/call_28_0.wav': \"can you please send rescue to i think i'm\",\n",
        "    '911_first6sec/call_31_0.wav': \"oh my god somebody is shooting at the sheriff's department at the sheriff department yes building?\"\n",
        "}\n",
        "\n",
        "manual_transcriptions = pd.Series(manual_transcriptions)\n",
        "manual_transcriptions = manual_transcriptions.rename('manual_transcriptions')\n",
        "manual_transcriptions = pd.DataFrame(manual_transcriptions).reset_index()\n",
        "manual_transcriptions = manual_transcriptions.rename({'index': 'filename'}, axis=1)"
      ],
      "metadata": {
        "colab": {
          "base_uri": "https://localhost:8080/"
        },
        "id": "Gh3uAFKBulqk",
        "outputId": "ce91a1f8-ca16-4cd7-b015-d26e02c3cfdd"
      },
      "id": "Gh3uAFKBulqk",
      "execution_count": 11,
      "outputs": [
        {
          "output_type": "stream",
          "name": "stdout",
          "text": [
            "time: 7.54 ms (started: 2023-09-29 18:05:11 +00:00)\n"
          ]
        }
      ]
    },
    {
      "cell_type": "code",
      "source": [
        "filenames = pd.Series(manual_transcriptions['filename'])"
      ],
      "metadata": {
        "colab": {
          "base_uri": "https://localhost:8080/"
        },
        "id": "-Cr-3jgSDs3C",
        "outputId": "769d5b99-2cbf-4e74-b4b7-ff76b6cbc33b"
      },
      "id": "-Cr-3jgSDs3C",
      "execution_count": 12,
      "outputs": [
        {
          "output_type": "stream",
          "name": "stdout",
          "text": [
            "time: 739 µs (started: 2023-09-29 18:05:12 +00:00)\n"
          ]
        }
      ]
    },
    {
      "cell_type": "code",
      "execution_count": 46,
      "id": "e3fb3eaf",
      "metadata": {
        "colab": {
          "base_uri": "https://localhost:8080/"
        },
        "id": "e3fb3eaf",
        "outputId": "60061d73-74ad-4056-ecc0-b4e037c2b86f"
      },
      "outputs": [
        {
          "output_type": "stream",
          "name": "stderr",
          "text": [
            "100%|██████████| 10/10 [01:59<00:00, 11.93s/it]"
          ]
        },
        {
          "output_type": "stream",
          "name": "stdout",
          "text": [
            "time: 1min 59s (started: 2023-09-29 14:09:34 +00:00)\n"
          ]
        },
        {
          "output_type": "stream",
          "name": "stderr",
          "text": [
            "\n"
          ]
        }
      ],
      "source": [
        "indices = ['google', 'sphinx', 'whisper', 'vosk']\n",
        "\n",
        "transcriptions_series = filenames.progress_apply(transcribe_file)\n",
        "column_names = {\n",
        "    k: v for k, v in enumerate(indices)\n",
        "  }\n",
        "transcriptions_list = transcriptions_series.values.tolist()\n",
        "transcriptions = pd.DataFrame(transcriptions_list).rename(column_names, axis=1)"
      ]
    },
    {
      "cell_type": "code",
      "source": [
        "assessment = pd.DataFrame({\"filename\": filenames})\n",
        "assessment = pd.concat([assessment, transcriptions], axis=1)"
      ],
      "metadata": {
        "colab": {
          "base_uri": "https://localhost:8080/"
        },
        "id": "DkZ83hY39_QI",
        "outputId": "e165ca13-4068-4a6b-85fd-ab06818ba5be"
      },
      "id": "DkZ83hY39_QI",
      "execution_count": 47,
      "outputs": [
        {
          "output_type": "stream",
          "name": "stdout",
          "text": [
            "time: 1.98 ms (started: 2023-09-29 14:11:36 +00:00)\n"
          ]
        }
      ]
    },
    {
      "cell_type": "code",
      "source": [
        "assessment = assessment.merge(manual_transcriptions, left_on='filename', right_on='filename')"
      ],
      "metadata": {
        "colab": {
          "base_uri": "https://localhost:8080/"
        },
        "id": "zuatSfvsWJJy",
        "outputId": "ac7bc1a8-d465-4c2f-b8ba-d83d65756926"
      },
      "id": "zuatSfvsWJJy",
      "execution_count": 48,
      "outputs": [
        {
          "output_type": "stream",
          "name": "stdout",
          "text": [
            "time: 3.48 ms (started: 2023-09-29 14:11:38 +00:00)\n"
          ]
        }
      ]
    },
    {
      "cell_type": "code",
      "source": [
        "assessment"
      ],
      "metadata": {
        "colab": {
          "base_uri": "https://localhost:8080/",
          "height": 1000
        },
        "id": "xFOMSb3PjZRA",
        "outputId": "922298f3-6d01-4f50-e933-ec7762c92089"
      },
      "id": "xFOMSb3PjZRA",
      "execution_count": 49,
      "outputs": [
        {
          "output_type": "execute_result",
          "data": {
            "text/plain": [
              "                      filename  \\\n",
              "0   911_first6sec/call_8_0.wav   \n",
              "1   911_first6sec/call_9_0.wav   \n",
              "2  911_first6sec/call_10_0.wav   \n",
              "3  911_first6sec/call_11_0.wav   \n",
              "4  911_first6sec/call_15_0.wav   \n",
              "5  911_first6sec/call_17_0.wav   \n",
              "6  911_first6sec/call_20_0.wav   \n",
              "7  911_first6sec/call_21_0.wav   \n",
              "8  911_first6sec/call_28_0.wav   \n",
              "9  911_first6sec/call_31_0.wav   \n",
              "\n",
              "                                              google  \\\n",
              "0                     hello hello is everything okay   \n",
              "1                                UNABLE TO RECOGNIZE   \n",
              "2        damn my pickup was born I had to go find it   \n",
              "3                                UNABLE TO RECOGNIZE   \n",
              "4     I'm done Peterson and I just killed two people   \n",
              "5  yeah we got a fire down here it's on Route 7 r...   \n",
              "6  are you out of the house yet no or I get out o...   \n",
              "7                                UNABLE TO RECOGNIZE   \n",
              "8          can you please send rescue to I think I'm   \n",
              "9  oh my God somebody shooting at the sheriff's d...   \n",
              "\n",
              "                                              sphinx  \\\n",
              "0      and while the al and then again okay go ahead   \n",
              "1  he had an idea of a pound and a coil of oil an...   \n",
              "2          no wonder the political had invited laugh   \n",
              "3  i'd really a man am i to have an latent he cou...   \n",
              "4   glendon beard and that is killed two people that   \n",
              "5  the little hard and long little doubt and let ...   \n",
              "6  we have our dead and now or i didn't have reac...   \n",
              "7  whether you're completely hemmed and looking f...   \n",
              "8                    and i knew her out and adam had   \n",
              "9  so why when you hear more than that but i'd ha...   \n",
              "\n",
              "                                             whisper  \\\n",
              "0                     Hello. Is everything okay? On.   \n",
              "1   Yes, I need a police officer over here. What'...   \n",
              "2      Ma'am, my cat is a person. I had it offended.   \n",
              "3   I'm gonna go to the bathroom and close the le...   \n",
              "4   I'm Joan Pearson and that has killed two people.   \n",
              "5   We've got a far down here, it's around 7, rig...   \n",
              "6   Are you out of the house yet? No. Or I get ou...   \n",
              "7   Yes, it is. Please return. Yes, it is. May he...   \n",
              "8   Can you please send rescue to... I think I'm ...   \n",
              "9   Oh my God, so many students at this year's de...   \n",
              "\n",
              "                                                vosk  \\\n",
              "0                  ah now i now it's everything okay   \n",
              "1  that i'm anita police officer over here the co...   \n",
              "2           now my pick up on had to go find that ah   \n",
              "3             remember my mom i got my house now out   \n",
              "4   i'm i'm down there and that it killed few people   \n",
              "5  there we go too far down here at our or out th...   \n",
              "6      i get out of our now i get out of as we can't   \n",
              "7          i can't help you okay i put is ridiculous   \n",
              "8           you prefer back to to i think i'm having   \n",
              "9  oh look at how many shooting here for partner ...   \n",
              "\n",
              "                               manual_transcriptions  \n",
              "0                  um hello hello is everything okay  \n",
              "1  yes um i need a police officer over here at wh...  \n",
              "2  ma'am my pickup was stolen I had to go find it...  \n",
              "3  no ma'am i don't i don't have an emergency two...  \n",
              "4    I'm Dylon Peterson and i just killed two people  \n",
              "5  yeah we got a fire down here at on route seven...  \n",
              "6  are you out of the house yet no alright get ou...  \n",
              "7  yes is this a police station yes it is may i h...  \n",
              "8          can you please send rescue to i think i'm  \n",
              "9  oh my god somebody is shooting at the sheriff'...  "
            ],
            "text/html": [
              "\n",
              "  <div id=\"df-2a11488e-d73b-424f-8899-a18cfe93d485\" class=\"colab-df-container\">\n",
              "    <div>\n",
              "<style scoped>\n",
              "    .dataframe tbody tr th:only-of-type {\n",
              "        vertical-align: middle;\n",
              "    }\n",
              "\n",
              "    .dataframe tbody tr th {\n",
              "        vertical-align: top;\n",
              "    }\n",
              "\n",
              "    .dataframe thead th {\n",
              "        text-align: right;\n",
              "    }\n",
              "</style>\n",
              "<table border=\"1\" class=\"dataframe\">\n",
              "  <thead>\n",
              "    <tr style=\"text-align: right;\">\n",
              "      <th></th>\n",
              "      <th>filename</th>\n",
              "      <th>google</th>\n",
              "      <th>sphinx</th>\n",
              "      <th>whisper</th>\n",
              "      <th>vosk</th>\n",
              "      <th>manual_transcriptions</th>\n",
              "    </tr>\n",
              "  </thead>\n",
              "  <tbody>\n",
              "    <tr>\n",
              "      <th>0</th>\n",
              "      <td>911_first6sec/call_8_0.wav</td>\n",
              "      <td>hello hello is everything okay</td>\n",
              "      <td>and while the al and then again okay go ahead</td>\n",
              "      <td>Hello. Is everything okay? On.</td>\n",
              "      <td>ah now i now it's everything okay</td>\n",
              "      <td>um hello hello is everything okay</td>\n",
              "    </tr>\n",
              "    <tr>\n",
              "      <th>1</th>\n",
              "      <td>911_first6sec/call_9_0.wav</td>\n",
              "      <td>UNABLE TO RECOGNIZE</td>\n",
              "      <td>he had an idea of a pound and a coil of oil an...</td>\n",
              "      <td>Yes, I need a police officer over here. What'...</td>\n",
              "      <td>that i'm anita police officer over here the co...</td>\n",
              "      <td>yes um i need a police officer over here at wh...</td>\n",
              "    </tr>\n",
              "    <tr>\n",
              "      <th>2</th>\n",
              "      <td>911_first6sec/call_10_0.wav</td>\n",
              "      <td>damn my pickup was born I had to go find it</td>\n",
              "      <td>no wonder the political had invited laugh</td>\n",
              "      <td>Ma'am, my cat is a person. I had it offended.</td>\n",
              "      <td>now my pick up on had to go find that ah</td>\n",
              "      <td>ma'am my pickup was stolen I had to go find it...</td>\n",
              "    </tr>\n",
              "    <tr>\n",
              "      <th>3</th>\n",
              "      <td>911_first6sec/call_11_0.wav</td>\n",
              "      <td>UNABLE TO RECOGNIZE</td>\n",
              "      <td>i'd really a man am i to have an latent he cou...</td>\n",
              "      <td>I'm gonna go to the bathroom and close the le...</td>\n",
              "      <td>remember my mom i got my house now out</td>\n",
              "      <td>no ma'am i don't i don't have an emergency two...</td>\n",
              "    </tr>\n",
              "    <tr>\n",
              "      <th>4</th>\n",
              "      <td>911_first6sec/call_15_0.wav</td>\n",
              "      <td>I'm done Peterson and I just killed two people</td>\n",
              "      <td>glendon beard and that is killed two people that</td>\n",
              "      <td>I'm Joan Pearson and that has killed two people.</td>\n",
              "      <td>i'm i'm down there and that it killed few people</td>\n",
              "      <td>I'm Dylon Peterson and i just killed two people</td>\n",
              "    </tr>\n",
              "    <tr>\n",
              "      <th>5</th>\n",
              "      <td>911_first6sec/call_17_0.wav</td>\n",
              "      <td>yeah we got a fire down here it's on Route 7 r...</td>\n",
              "      <td>the little hard and long little doubt and let ...</td>\n",
              "      <td>We've got a far down here, it's around 7, rig...</td>\n",
              "      <td>there we go too far down here at our or out th...</td>\n",
              "      <td>yeah we got a fire down here at on route seven...</td>\n",
              "    </tr>\n",
              "    <tr>\n",
              "      <th>6</th>\n",
              "      <td>911_first6sec/call_20_0.wav</td>\n",
              "      <td>are you out of the house yet no or I get out o...</td>\n",
              "      <td>we have our dead and now or i didn't have reac...</td>\n",
              "      <td>Are you out of the house yet? No. Or I get ou...</td>\n",
              "      <td>i get out of our now i get out of as we can't</td>\n",
              "      <td>are you out of the house yet no alright get ou...</td>\n",
              "    </tr>\n",
              "    <tr>\n",
              "      <th>7</th>\n",
              "      <td>911_first6sec/call_21_0.wav</td>\n",
              "      <td>UNABLE TO RECOGNIZE</td>\n",
              "      <td>whether you're completely hemmed and looking f...</td>\n",
              "      <td>Yes, it is. Please return. Yes, it is. May he...</td>\n",
              "      <td>i can't help you okay i put is ridiculous</td>\n",
              "      <td>yes is this a police station yes it is may i h...</td>\n",
              "    </tr>\n",
              "    <tr>\n",
              "      <th>8</th>\n",
              "      <td>911_first6sec/call_28_0.wav</td>\n",
              "      <td>can you please send rescue to I think I'm</td>\n",
              "      <td>and i knew her out and adam had</td>\n",
              "      <td>Can you please send rescue to... I think I'm ...</td>\n",
              "      <td>you prefer back to to i think i'm having</td>\n",
              "      <td>can you please send rescue to i think i'm</td>\n",
              "    </tr>\n",
              "    <tr>\n",
              "      <th>9</th>\n",
              "      <td>911_first6sec/call_31_0.wav</td>\n",
              "      <td>oh my God somebody shooting at the sheriff's d...</td>\n",
              "      <td>so why when you hear more than that but i'd ha...</td>\n",
              "      <td>Oh my God, so many students at this year's de...</td>\n",
              "      <td>oh look at how many shooting here for partner ...</td>\n",
              "      <td>oh my god somebody is shooting at the sheriff'...</td>\n",
              "    </tr>\n",
              "  </tbody>\n",
              "</table>\n",
              "</div>\n",
              "    <div class=\"colab-df-buttons\">\n",
              "\n",
              "  <div class=\"colab-df-container\">\n",
              "    <button class=\"colab-df-convert\" onclick=\"convertToInteractive('df-2a11488e-d73b-424f-8899-a18cfe93d485')\"\n",
              "            title=\"Convert this dataframe to an interactive table.\"\n",
              "            style=\"display:none;\">\n",
              "\n",
              "  <svg xmlns=\"http://www.w3.org/2000/svg\" height=\"24px\" viewBox=\"0 -960 960 960\">\n",
              "    <path d=\"M120-120v-720h720v720H120Zm60-500h600v-160H180v160Zm220 220h160v-160H400v160Zm0 220h160v-160H400v160ZM180-400h160v-160H180v160Zm440 0h160v-160H620v160ZM180-180h160v-160H180v160Zm440 0h160v-160H620v160Z\"/>\n",
              "  </svg>\n",
              "    </button>\n",
              "\n",
              "  <style>\n",
              "    .colab-df-container {\n",
              "      display:flex;\n",
              "      gap: 12px;\n",
              "    }\n",
              "\n",
              "    .colab-df-convert {\n",
              "      background-color: #E8F0FE;\n",
              "      border: none;\n",
              "      border-radius: 50%;\n",
              "      cursor: pointer;\n",
              "      display: none;\n",
              "      fill: #1967D2;\n",
              "      height: 32px;\n",
              "      padding: 0 0 0 0;\n",
              "      width: 32px;\n",
              "    }\n",
              "\n",
              "    .colab-df-convert:hover {\n",
              "      background-color: #E2EBFA;\n",
              "      box-shadow: 0px 1px 2px rgba(60, 64, 67, 0.3), 0px 1px 3px 1px rgba(60, 64, 67, 0.15);\n",
              "      fill: #174EA6;\n",
              "    }\n",
              "\n",
              "    .colab-df-buttons div {\n",
              "      margin-bottom: 4px;\n",
              "    }\n",
              "\n",
              "    [theme=dark] .colab-df-convert {\n",
              "      background-color: #3B4455;\n",
              "      fill: #D2E3FC;\n",
              "    }\n",
              "\n",
              "    [theme=dark] .colab-df-convert:hover {\n",
              "      background-color: #434B5C;\n",
              "      box-shadow: 0px 1px 3px 1px rgba(0, 0, 0, 0.15);\n",
              "      filter: drop-shadow(0px 1px 2px rgba(0, 0, 0, 0.3));\n",
              "      fill: #FFFFFF;\n",
              "    }\n",
              "  </style>\n",
              "\n",
              "    <script>\n",
              "      const buttonEl =\n",
              "        document.querySelector('#df-2a11488e-d73b-424f-8899-a18cfe93d485 button.colab-df-convert');\n",
              "      buttonEl.style.display =\n",
              "        google.colab.kernel.accessAllowed ? 'block' : 'none';\n",
              "\n",
              "      async function convertToInteractive(key) {\n",
              "        const element = document.querySelector('#df-2a11488e-d73b-424f-8899-a18cfe93d485');\n",
              "        const dataTable =\n",
              "          await google.colab.kernel.invokeFunction('convertToInteractive',\n",
              "                                                    [key], {});\n",
              "        if (!dataTable) return;\n",
              "\n",
              "        const docLinkHtml = 'Like what you see? Visit the ' +\n",
              "          '<a target=\"_blank\" href=https://colab.research.google.com/notebooks/data_table.ipynb>data table notebook</a>'\n",
              "          + ' to learn more about interactive tables.';\n",
              "        element.innerHTML = '';\n",
              "        dataTable['output_type'] = 'display_data';\n",
              "        await google.colab.output.renderOutput(dataTable, element);\n",
              "        const docLink = document.createElement('div');\n",
              "        docLink.innerHTML = docLinkHtml;\n",
              "        element.appendChild(docLink);\n",
              "      }\n",
              "    </script>\n",
              "  </div>\n",
              "\n",
              "\n",
              "<div id=\"df-a6aeb1f8-a922-4827-b675-dbc5828cf663\">\n",
              "  <button class=\"colab-df-quickchart\" onclick=\"quickchart('df-a6aeb1f8-a922-4827-b675-dbc5828cf663')\"\n",
              "            title=\"Suggest charts.\"\n",
              "            style=\"display:none;\">\n",
              "\n",
              "<svg xmlns=\"http://www.w3.org/2000/svg\" height=\"24px\"viewBox=\"0 0 24 24\"\n",
              "     width=\"24px\">\n",
              "    <g>\n",
              "        <path d=\"M19 3H5c-1.1 0-2 .9-2 2v14c0 1.1.9 2 2 2h14c1.1 0 2-.9 2-2V5c0-1.1-.9-2-2-2zM9 17H7v-7h2v7zm4 0h-2V7h2v10zm4 0h-2v-4h2v4z\"/>\n",
              "    </g>\n",
              "</svg>\n",
              "  </button>\n",
              "\n",
              "<style>\n",
              "  .colab-df-quickchart {\n",
              "      --bg-color: #E8F0FE;\n",
              "      --fill-color: #1967D2;\n",
              "      --hover-bg-color: #E2EBFA;\n",
              "      --hover-fill-color: #174EA6;\n",
              "      --disabled-fill-color: #AAA;\n",
              "      --disabled-bg-color: #DDD;\n",
              "  }\n",
              "\n",
              "  [theme=dark] .colab-df-quickchart {\n",
              "      --bg-color: #3B4455;\n",
              "      --fill-color: #D2E3FC;\n",
              "      --hover-bg-color: #434B5C;\n",
              "      --hover-fill-color: #FFFFFF;\n",
              "      --disabled-bg-color: #3B4455;\n",
              "      --disabled-fill-color: #666;\n",
              "  }\n",
              "\n",
              "  .colab-df-quickchart {\n",
              "    background-color: var(--bg-color);\n",
              "    border: none;\n",
              "    border-radius: 50%;\n",
              "    cursor: pointer;\n",
              "    display: none;\n",
              "    fill: var(--fill-color);\n",
              "    height: 32px;\n",
              "    padding: 0;\n",
              "    width: 32px;\n",
              "  }\n",
              "\n",
              "  .colab-df-quickchart:hover {\n",
              "    background-color: var(--hover-bg-color);\n",
              "    box-shadow: 0 1px 2px rgba(60, 64, 67, 0.3), 0 1px 3px 1px rgba(60, 64, 67, 0.15);\n",
              "    fill: var(--button-hover-fill-color);\n",
              "  }\n",
              "\n",
              "  .colab-df-quickchart-complete:disabled,\n",
              "  .colab-df-quickchart-complete:disabled:hover {\n",
              "    background-color: var(--disabled-bg-color);\n",
              "    fill: var(--disabled-fill-color);\n",
              "    box-shadow: none;\n",
              "  }\n",
              "\n",
              "  .colab-df-spinner {\n",
              "    border: 2px solid var(--fill-color);\n",
              "    border-color: transparent;\n",
              "    border-bottom-color: var(--fill-color);\n",
              "    animation:\n",
              "      spin 1s steps(1) infinite;\n",
              "  }\n",
              "\n",
              "  @keyframes spin {\n",
              "    0% {\n",
              "      border-color: transparent;\n",
              "      border-bottom-color: var(--fill-color);\n",
              "      border-left-color: var(--fill-color);\n",
              "    }\n",
              "    20% {\n",
              "      border-color: transparent;\n",
              "      border-left-color: var(--fill-color);\n",
              "      border-top-color: var(--fill-color);\n",
              "    }\n",
              "    30% {\n",
              "      border-color: transparent;\n",
              "      border-left-color: var(--fill-color);\n",
              "      border-top-color: var(--fill-color);\n",
              "      border-right-color: var(--fill-color);\n",
              "    }\n",
              "    40% {\n",
              "      border-color: transparent;\n",
              "      border-right-color: var(--fill-color);\n",
              "      border-top-color: var(--fill-color);\n",
              "    }\n",
              "    60% {\n",
              "      border-color: transparent;\n",
              "      border-right-color: var(--fill-color);\n",
              "    }\n",
              "    80% {\n",
              "      border-color: transparent;\n",
              "      border-right-color: var(--fill-color);\n",
              "      border-bottom-color: var(--fill-color);\n",
              "    }\n",
              "    90% {\n",
              "      border-color: transparent;\n",
              "      border-bottom-color: var(--fill-color);\n",
              "    }\n",
              "  }\n",
              "</style>\n",
              "\n",
              "  <script>\n",
              "    async function quickchart(key) {\n",
              "      const quickchartButtonEl =\n",
              "        document.querySelector('#' + key + ' button');\n",
              "      quickchartButtonEl.disabled = true;  // To prevent multiple clicks.\n",
              "      quickchartButtonEl.classList.add('colab-df-spinner');\n",
              "      try {\n",
              "        const charts = await google.colab.kernel.invokeFunction(\n",
              "            'suggestCharts', [key], {});\n",
              "      } catch (error) {\n",
              "        console.error('Error during call to suggestCharts:', error);\n",
              "      }\n",
              "      quickchartButtonEl.classList.remove('colab-df-spinner');\n",
              "      quickchartButtonEl.classList.add('colab-df-quickchart-complete');\n",
              "    }\n",
              "    (() => {\n",
              "      let quickchartButtonEl =\n",
              "        document.querySelector('#df-a6aeb1f8-a922-4827-b675-dbc5828cf663 button');\n",
              "      quickchartButtonEl.style.display =\n",
              "        google.colab.kernel.accessAllowed ? 'block' : 'none';\n",
              "    })();\n",
              "  </script>\n",
              "</div>\n",
              "    </div>\n",
              "  </div>\n"
            ]
          },
          "metadata": {},
          "execution_count": 49
        },
        {
          "output_type": "stream",
          "name": "stdout",
          "text": [
            "time: 14.9 ms (started: 2023-09-29 14:11:39 +00:00)\n"
          ]
        }
      ]
    },
    {
      "cell_type": "markdown",
      "source": [
        "### Assess Transcriptions"
      ],
      "metadata": {
        "id": "mJWHTU5JgAhX"
      },
      "id": "mJWHTU5JgAhX"
    },
    {
      "cell_type": "code",
      "source": [
        "def similar(row, indices: list, compare_to='manual_transcriptions'):\n",
        "    t = [\n",
        "        SequenceMatcher(a=row[col], b=row[compare_to]).ratio()\n",
        "        for col in indices\n",
        "    ]\n",
        "    return tuple(t)"
      ],
      "metadata": {
        "colab": {
          "base_uri": "https://localhost:8080/"
        },
        "id": "QIWpdK-z6Y1q",
        "outputId": "f39000d7-a90c-4f09-eb89-436a970cdaa4"
      },
      "id": "QIWpdK-z6Y1q",
      "execution_count": 13,
      "outputs": [
        {
          "output_type": "stream",
          "name": "stdout",
          "text": [
            "time: 723 µs (started: 2023-09-29 18:05:17 +00:00)\n"
          ]
        }
      ]
    },
    {
      "cell_type": "code",
      "source": [
        "scores_series = assessment.progress_apply(similar, axis=1, indices=indices)\n",
        "scores_list = scores_series.values.tolist()\n",
        "scores = pd.DataFrame(scores_list).rename(column_names, axis=1)"
      ],
      "metadata": {
        "colab": {
          "base_uri": "https://localhost:8080/"
        },
        "id": "DfE4tZQycC-e",
        "outputId": "36cd7589-0433-415e-ad17-3baae033103f"
      },
      "id": "DfE4tZQycC-e",
      "execution_count": 52,
      "outputs": [
        {
          "output_type": "stream",
          "name": "stderr",
          "text": [
            "100%|██████████| 10/10 [00:00<00:00, 710.95it/s]"
          ]
        },
        {
          "output_type": "stream",
          "name": "stdout",
          "text": [
            "time: 23.3 ms (started: 2023-09-29 14:12:00 +00:00)\n"
          ]
        },
        {
          "output_type": "stream",
          "name": "stderr",
          "text": [
            "\n"
          ]
        }
      ]
    },
    {
      "cell_type": "code",
      "source": [
        "print(scores.mean().sort_values(ascending=False))"
      ],
      "metadata": {
        "colab": {
          "base_uri": "https://localhost:8080/"
        },
        "id": "n4dJqM6EQ3ig",
        "outputId": "62655f89-da87-4844-8e46-dbb7d1ead89e"
      },
      "id": "n4dJqM6EQ3ig",
      "execution_count": 56,
      "outputs": [
        {
          "output_type": "stream",
          "name": "stdout",
          "text": [
            "whisper    0.682378\n",
            "google     0.639828\n",
            "vosk       0.593321\n",
            "sphinx     0.334570\n",
            "dtype: float64\n",
            "time: 4.41 ms (started: 2023-09-29 14:12:59 +00:00)\n"
          ]
        }
      ]
    },
    {
      "cell_type": "markdown",
      "source": [
        "We can see that whisper has the best score, followed by google and vosk, while sphinx lags behind."
      ],
      "metadata": {
        "id": "JJV07olweT9k"
      },
      "id": "JJV07olweT9k"
    },
    {
      "cell_type": "markdown",
      "source": [
        "## Clean Audio"
      ],
      "metadata": {
        "id": "1F84UEl6flGI"
      },
      "id": "1F84UEl6flGI"
    },
    {
      "cell_type": "markdown",
      "source": [
        "### Aggregate Transcriptions"
      ],
      "metadata": {
        "id": "1BMFHhYygWdT"
      },
      "id": "1BMFHhYygWdT"
    },
    {
      "cell_type": "code",
      "execution_count": 57,
      "metadata": {
        "outputId": "0e1160ce-7ad2-4323-d178-ec714918e0fd",
        "colab": {
          "base_uri": "https://localhost:8080/"
        },
        "id": "L4D7oQtIgWdk"
      },
      "outputs": [
        {
          "output_type": "stream",
          "name": "stderr",
          "text": [
            "100%|██████████| 10/10 [01:51<00:00, 11.16s/it]"
          ]
        },
        {
          "output_type": "stream",
          "name": "stdout",
          "text": [
            "time: 1min 51s (started: 2023-09-29 14:13:21 +00:00)\n"
          ]
        },
        {
          "output_type": "stream",
          "name": "stderr",
          "text": [
            "\n"
          ]
        }
      ],
      "source": [
        "transcriptions_series = filenames.progress_apply(transcribe_file, filter_noise=True)\n",
        "transcriptions_list = transcriptions_series.values.tolist()\n",
        "transcriptions = pd.DataFrame(transcriptions_list).rename(column_names, axis=1)"
      ],
      "id": "L4D7oQtIgWdk"
    },
    {
      "cell_type": "code",
      "source": [
        "assessment_clean = pd.DataFrame({\"filename\": filenames})\n",
        "assessment_clean = pd.concat([assessment_clean, transcriptions], axis=1)"
      ],
      "metadata": {
        "outputId": "511dafc9-8513-4be6-92c2-42e02ddc24c4",
        "colab": {
          "base_uri": "https://localhost:8080/"
        },
        "id": "mRsSurWagWdk"
      },
      "execution_count": 58,
      "outputs": [
        {
          "output_type": "stream",
          "name": "stdout",
          "text": [
            "time: 1.73 ms (started: 2023-09-29 14:15:23 +00:00)\n"
          ]
        }
      ],
      "id": "mRsSurWagWdk"
    },
    {
      "cell_type": "code",
      "source": [
        "assessment_clean = assessment_clean.merge(manual_transcriptions, left_on='filename', right_on='filename')"
      ],
      "metadata": {
        "outputId": "9fbcbc56-830b-43e0-9fa9-00461c8ed959",
        "colab": {
          "base_uri": "https://localhost:8080/"
        },
        "id": "efUwaeV-gWdk"
      },
      "execution_count": 59,
      "outputs": [
        {
          "output_type": "stream",
          "name": "stdout",
          "text": [
            "time: 4.2 ms (started: 2023-09-29 14:15:25 +00:00)\n"
          ]
        }
      ],
      "id": "efUwaeV-gWdk"
    },
    {
      "cell_type": "code",
      "source": [
        "assessment_clean"
      ],
      "metadata": {
        "colab": {
          "base_uri": "https://localhost:8080/",
          "height": 1000
        },
        "id": "45ETv86ohhIT",
        "outputId": "9f6bb200-9817-41cb-8c72-50d2b97d5a65"
      },
      "id": "45ETv86ohhIT",
      "execution_count": 60,
      "outputs": [
        {
          "output_type": "execute_result",
          "data": {
            "text/plain": [
              "                      filename  \\\n",
              "0   911_first6sec/call_8_0.wav   \n",
              "1   911_first6sec/call_9_0.wav   \n",
              "2  911_first6sec/call_10_0.wav   \n",
              "3  911_first6sec/call_11_0.wav   \n",
              "4  911_first6sec/call_15_0.wav   \n",
              "5  911_first6sec/call_17_0.wav   \n",
              "6  911_first6sec/call_20_0.wav   \n",
              "7  911_first6sec/call_21_0.wav   \n",
              "8  911_first6sec/call_28_0.wav   \n",
              "9  911_first6sec/call_31_0.wav   \n",
              "\n",
              "                                              google  \\\n",
              "0              put on hello hello is everything okay   \n",
              "1                                    what's going on   \n",
              "2        damn my pickup was born I had to go find it   \n",
              "3                                UNABLE TO RECOGNIZE   \n",
              "4        I'm downstairs and I just killed two people   \n",
              "5                  on Route 7 right here in Abington   \n",
              "6  get out of the house yet no I get out of the h...   \n",
              "7                                UNABLE TO RECOGNIZE   \n",
              "8                  please send rescue to I think I'm   \n",
              "9  oh my God somebody shooting at the sheriff's d...   \n",
              "\n",
              "                                              sphinx  \\\n",
              "0          and while canal in the making of the coup   \n",
              "1             and i had had a war what owen adam had   \n",
              "2             my own mind at football has invited up   \n",
              "3  i'd really a man am i to have an latent he cou...   \n",
              "4          one delegate in the uphill to people that   \n",
              "5     god that the loaded on little doubt and let it   \n",
              "6  that i'd have now or i didn't have you read th...   \n",
              "7  i have heard of klingon camp but little more k...   \n",
              "8                      and i do her out and adam had   \n",
              "9  i'm alive than he wanted identify have been he...   \n",
              "\n",
              "                                             whisper  \\\n",
              "0             Hello. Hello. Is everything okay? I'm.   \n",
              "1   I need a police officer over here at 7. What'...   \n",
              "2     Ma'am, my kekep was born. I had to go find it.   \n",
              "3   I'm gonna go to the bathroom and close the le...   \n",
              "4      I'm Don Pearson and I just killed two people.   \n",
              "5   We've got a far down here, it's on Route 7, r...   \n",
              "6   You're out of the house yet? No. Or I get out...   \n",
              "7   Yes, it is a police station. Yes, it is. May ...   \n",
              "8       Please send a rescue to I think I'm having a   \n",
              "9   Oh my God, some of these children that they s...   \n",
              "\n",
              "                                                vosk  \\\n",
              "0                   now i'm now it's everything okay   \n",
              "1  anita a police officer of the here the corner ...   \n",
              "2          well my pick up on had to go find that ah   \n",
              "3                 remember my mom i got my house now   \n",
              "4            i'm down here and that it killed people   \n",
              "5  the far down here or out thousand right here t...   \n",
              "6    the out of as you know i get out of as we can't   \n",
              "7     i can't say help you okay i put the ridiculous   \n",
              "8                    that do too i think i'm heading   \n",
              "9  oh my god how many hidden a partner at the sha...   \n",
              "\n",
              "                               manual_transcriptions  \n",
              "0                  um hello hello is everything okay  \n",
              "1  yes um i need a police officer over here at wh...  \n",
              "2  ma'am my pickup was stolen I had to go find it...  \n",
              "3  no ma'am i don't i don't have an emergency two...  \n",
              "4    I'm Dylon Peterson and i just killed two people  \n",
              "5  yeah we got a fire down here at on route seven...  \n",
              "6  are you out of the house yet no alright get ou...  \n",
              "7  yes is this a police station yes it is may i h...  \n",
              "8          can you please send rescue to i think i'm  \n",
              "9  oh my god somebody is shooting at the sheriff'...  "
            ],
            "text/html": [
              "\n",
              "  <div id=\"df-67ce3f75-8221-4abd-8b8e-226410be8e46\" class=\"colab-df-container\">\n",
              "    <div>\n",
              "<style scoped>\n",
              "    .dataframe tbody tr th:only-of-type {\n",
              "        vertical-align: middle;\n",
              "    }\n",
              "\n",
              "    .dataframe tbody tr th {\n",
              "        vertical-align: top;\n",
              "    }\n",
              "\n",
              "    .dataframe thead th {\n",
              "        text-align: right;\n",
              "    }\n",
              "</style>\n",
              "<table border=\"1\" class=\"dataframe\">\n",
              "  <thead>\n",
              "    <tr style=\"text-align: right;\">\n",
              "      <th></th>\n",
              "      <th>filename</th>\n",
              "      <th>google</th>\n",
              "      <th>sphinx</th>\n",
              "      <th>whisper</th>\n",
              "      <th>vosk</th>\n",
              "      <th>manual_transcriptions</th>\n",
              "    </tr>\n",
              "  </thead>\n",
              "  <tbody>\n",
              "    <tr>\n",
              "      <th>0</th>\n",
              "      <td>911_first6sec/call_8_0.wav</td>\n",
              "      <td>put on hello hello is everything okay</td>\n",
              "      <td>and while canal in the making of the coup</td>\n",
              "      <td>Hello. Hello. Is everything okay? I'm.</td>\n",
              "      <td>now i'm now it's everything okay</td>\n",
              "      <td>um hello hello is everything okay</td>\n",
              "    </tr>\n",
              "    <tr>\n",
              "      <th>1</th>\n",
              "      <td>911_first6sec/call_9_0.wav</td>\n",
              "      <td>what's going on</td>\n",
              "      <td>and i had had a war what owen adam had</td>\n",
              "      <td>I need a police officer over here at 7. What'...</td>\n",
              "      <td>anita a police officer of the here the corner ...</td>\n",
              "      <td>yes um i need a police officer over here at wh...</td>\n",
              "    </tr>\n",
              "    <tr>\n",
              "      <th>2</th>\n",
              "      <td>911_first6sec/call_10_0.wav</td>\n",
              "      <td>damn my pickup was born I had to go find it</td>\n",
              "      <td>my own mind at football has invited up</td>\n",
              "      <td>Ma'am, my kekep was born. I had to go find it.</td>\n",
              "      <td>well my pick up on had to go find that ah</td>\n",
              "      <td>ma'am my pickup was stolen I had to go find it...</td>\n",
              "    </tr>\n",
              "    <tr>\n",
              "      <th>3</th>\n",
              "      <td>911_first6sec/call_11_0.wav</td>\n",
              "      <td>UNABLE TO RECOGNIZE</td>\n",
              "      <td>i'd really a man am i to have an latent he cou...</td>\n",
              "      <td>I'm gonna go to the bathroom and close the le...</td>\n",
              "      <td>remember my mom i got my house now</td>\n",
              "      <td>no ma'am i don't i don't have an emergency two...</td>\n",
              "    </tr>\n",
              "    <tr>\n",
              "      <th>4</th>\n",
              "      <td>911_first6sec/call_15_0.wav</td>\n",
              "      <td>I'm downstairs and I just killed two people</td>\n",
              "      <td>one delegate in the uphill to people that</td>\n",
              "      <td>I'm Don Pearson and I just killed two people.</td>\n",
              "      <td>i'm down here and that it killed people</td>\n",
              "      <td>I'm Dylon Peterson and i just killed two people</td>\n",
              "    </tr>\n",
              "    <tr>\n",
              "      <th>5</th>\n",
              "      <td>911_first6sec/call_17_0.wav</td>\n",
              "      <td>on Route 7 right here in Abington</td>\n",
              "      <td>god that the loaded on little doubt and let it</td>\n",
              "      <td>We've got a far down here, it's on Route 7, r...</td>\n",
              "      <td>the far down here or out thousand right here t...</td>\n",
              "      <td>yeah we got a fire down here at on route seven...</td>\n",
              "    </tr>\n",
              "    <tr>\n",
              "      <th>6</th>\n",
              "      <td>911_first6sec/call_20_0.wav</td>\n",
              "      <td>get out of the house yet no I get out of the h...</td>\n",
              "      <td>that i'd have now or i didn't have you read th...</td>\n",
              "      <td>You're out of the house yet? No. Or I get out...</td>\n",
              "      <td>the out of as you know i get out of as we can't</td>\n",
              "      <td>are you out of the house yet no alright get ou...</td>\n",
              "    </tr>\n",
              "    <tr>\n",
              "      <th>7</th>\n",
              "      <td>911_first6sec/call_21_0.wav</td>\n",
              "      <td>UNABLE TO RECOGNIZE</td>\n",
              "      <td>i have heard of klingon camp but little more k...</td>\n",
              "      <td>Yes, it is a police station. Yes, it is. May ...</td>\n",
              "      <td>i can't say help you okay i put the ridiculous</td>\n",
              "      <td>yes is this a police station yes it is may i h...</td>\n",
              "    </tr>\n",
              "    <tr>\n",
              "      <th>8</th>\n",
              "      <td>911_first6sec/call_28_0.wav</td>\n",
              "      <td>please send rescue to I think I'm</td>\n",
              "      <td>and i do her out and adam had</td>\n",
              "      <td>Please send a rescue to I think I'm having a</td>\n",
              "      <td>that do too i think i'm heading</td>\n",
              "      <td>can you please send rescue to i think i'm</td>\n",
              "    </tr>\n",
              "    <tr>\n",
              "      <th>9</th>\n",
              "      <td>911_first6sec/call_31_0.wav</td>\n",
              "      <td>oh my God somebody shooting at the sheriff's d...</td>\n",
              "      <td>i'm alive than he wanted identify have been he...</td>\n",
              "      <td>Oh my God, some of these children that they s...</td>\n",
              "      <td>oh my god how many hidden a partner at the sha...</td>\n",
              "      <td>oh my god somebody is shooting at the sheriff'...</td>\n",
              "    </tr>\n",
              "  </tbody>\n",
              "</table>\n",
              "</div>\n",
              "    <div class=\"colab-df-buttons\">\n",
              "\n",
              "  <div class=\"colab-df-container\">\n",
              "    <button class=\"colab-df-convert\" onclick=\"convertToInteractive('df-67ce3f75-8221-4abd-8b8e-226410be8e46')\"\n",
              "            title=\"Convert this dataframe to an interactive table.\"\n",
              "            style=\"display:none;\">\n",
              "\n",
              "  <svg xmlns=\"http://www.w3.org/2000/svg\" height=\"24px\" viewBox=\"0 -960 960 960\">\n",
              "    <path d=\"M120-120v-720h720v720H120Zm60-500h600v-160H180v160Zm220 220h160v-160H400v160Zm0 220h160v-160H400v160ZM180-400h160v-160H180v160Zm440 0h160v-160H620v160ZM180-180h160v-160H180v160Zm440 0h160v-160H620v160Z\"/>\n",
              "  </svg>\n",
              "    </button>\n",
              "\n",
              "  <style>\n",
              "    .colab-df-container {\n",
              "      display:flex;\n",
              "      gap: 12px;\n",
              "    }\n",
              "\n",
              "    .colab-df-convert {\n",
              "      background-color: #E8F0FE;\n",
              "      border: none;\n",
              "      border-radius: 50%;\n",
              "      cursor: pointer;\n",
              "      display: none;\n",
              "      fill: #1967D2;\n",
              "      height: 32px;\n",
              "      padding: 0 0 0 0;\n",
              "      width: 32px;\n",
              "    }\n",
              "\n",
              "    .colab-df-convert:hover {\n",
              "      background-color: #E2EBFA;\n",
              "      box-shadow: 0px 1px 2px rgba(60, 64, 67, 0.3), 0px 1px 3px 1px rgba(60, 64, 67, 0.15);\n",
              "      fill: #174EA6;\n",
              "    }\n",
              "\n",
              "    .colab-df-buttons div {\n",
              "      margin-bottom: 4px;\n",
              "    }\n",
              "\n",
              "    [theme=dark] .colab-df-convert {\n",
              "      background-color: #3B4455;\n",
              "      fill: #D2E3FC;\n",
              "    }\n",
              "\n",
              "    [theme=dark] .colab-df-convert:hover {\n",
              "      background-color: #434B5C;\n",
              "      box-shadow: 0px 1px 3px 1px rgba(0, 0, 0, 0.15);\n",
              "      filter: drop-shadow(0px 1px 2px rgba(0, 0, 0, 0.3));\n",
              "      fill: #FFFFFF;\n",
              "    }\n",
              "  </style>\n",
              "\n",
              "    <script>\n",
              "      const buttonEl =\n",
              "        document.querySelector('#df-67ce3f75-8221-4abd-8b8e-226410be8e46 button.colab-df-convert');\n",
              "      buttonEl.style.display =\n",
              "        google.colab.kernel.accessAllowed ? 'block' : 'none';\n",
              "\n",
              "      async function convertToInteractive(key) {\n",
              "        const element = document.querySelector('#df-67ce3f75-8221-4abd-8b8e-226410be8e46');\n",
              "        const dataTable =\n",
              "          await google.colab.kernel.invokeFunction('convertToInteractive',\n",
              "                                                    [key], {});\n",
              "        if (!dataTable) return;\n",
              "\n",
              "        const docLinkHtml = 'Like what you see? Visit the ' +\n",
              "          '<a target=\"_blank\" href=https://colab.research.google.com/notebooks/data_table.ipynb>data table notebook</a>'\n",
              "          + ' to learn more about interactive tables.';\n",
              "        element.innerHTML = '';\n",
              "        dataTable['output_type'] = 'display_data';\n",
              "        await google.colab.output.renderOutput(dataTable, element);\n",
              "        const docLink = document.createElement('div');\n",
              "        docLink.innerHTML = docLinkHtml;\n",
              "        element.appendChild(docLink);\n",
              "      }\n",
              "    </script>\n",
              "  </div>\n",
              "\n",
              "\n",
              "<div id=\"df-2e29f6e8-e01b-4ae3-b7e4-303e4f5412e5\">\n",
              "  <button class=\"colab-df-quickchart\" onclick=\"quickchart('df-2e29f6e8-e01b-4ae3-b7e4-303e4f5412e5')\"\n",
              "            title=\"Suggest charts.\"\n",
              "            style=\"display:none;\">\n",
              "\n",
              "<svg xmlns=\"http://www.w3.org/2000/svg\" height=\"24px\"viewBox=\"0 0 24 24\"\n",
              "     width=\"24px\">\n",
              "    <g>\n",
              "        <path d=\"M19 3H5c-1.1 0-2 .9-2 2v14c0 1.1.9 2 2 2h14c1.1 0 2-.9 2-2V5c0-1.1-.9-2-2-2zM9 17H7v-7h2v7zm4 0h-2V7h2v10zm4 0h-2v-4h2v4z\"/>\n",
              "    </g>\n",
              "</svg>\n",
              "  </button>\n",
              "\n",
              "<style>\n",
              "  .colab-df-quickchart {\n",
              "      --bg-color: #E8F0FE;\n",
              "      --fill-color: #1967D2;\n",
              "      --hover-bg-color: #E2EBFA;\n",
              "      --hover-fill-color: #174EA6;\n",
              "      --disabled-fill-color: #AAA;\n",
              "      --disabled-bg-color: #DDD;\n",
              "  }\n",
              "\n",
              "  [theme=dark] .colab-df-quickchart {\n",
              "      --bg-color: #3B4455;\n",
              "      --fill-color: #D2E3FC;\n",
              "      --hover-bg-color: #434B5C;\n",
              "      --hover-fill-color: #FFFFFF;\n",
              "      --disabled-bg-color: #3B4455;\n",
              "      --disabled-fill-color: #666;\n",
              "  }\n",
              "\n",
              "  .colab-df-quickchart {\n",
              "    background-color: var(--bg-color);\n",
              "    border: none;\n",
              "    border-radius: 50%;\n",
              "    cursor: pointer;\n",
              "    display: none;\n",
              "    fill: var(--fill-color);\n",
              "    height: 32px;\n",
              "    padding: 0;\n",
              "    width: 32px;\n",
              "  }\n",
              "\n",
              "  .colab-df-quickchart:hover {\n",
              "    background-color: var(--hover-bg-color);\n",
              "    box-shadow: 0 1px 2px rgba(60, 64, 67, 0.3), 0 1px 3px 1px rgba(60, 64, 67, 0.15);\n",
              "    fill: var(--button-hover-fill-color);\n",
              "  }\n",
              "\n",
              "  .colab-df-quickchart-complete:disabled,\n",
              "  .colab-df-quickchart-complete:disabled:hover {\n",
              "    background-color: var(--disabled-bg-color);\n",
              "    fill: var(--disabled-fill-color);\n",
              "    box-shadow: none;\n",
              "  }\n",
              "\n",
              "  .colab-df-spinner {\n",
              "    border: 2px solid var(--fill-color);\n",
              "    border-color: transparent;\n",
              "    border-bottom-color: var(--fill-color);\n",
              "    animation:\n",
              "      spin 1s steps(1) infinite;\n",
              "  }\n",
              "\n",
              "  @keyframes spin {\n",
              "    0% {\n",
              "      border-color: transparent;\n",
              "      border-bottom-color: var(--fill-color);\n",
              "      border-left-color: var(--fill-color);\n",
              "    }\n",
              "    20% {\n",
              "      border-color: transparent;\n",
              "      border-left-color: var(--fill-color);\n",
              "      border-top-color: var(--fill-color);\n",
              "    }\n",
              "    30% {\n",
              "      border-color: transparent;\n",
              "      border-left-color: var(--fill-color);\n",
              "      border-top-color: var(--fill-color);\n",
              "      border-right-color: var(--fill-color);\n",
              "    }\n",
              "    40% {\n",
              "      border-color: transparent;\n",
              "      border-right-color: var(--fill-color);\n",
              "      border-top-color: var(--fill-color);\n",
              "    }\n",
              "    60% {\n",
              "      border-color: transparent;\n",
              "      border-right-color: var(--fill-color);\n",
              "    }\n",
              "    80% {\n",
              "      border-color: transparent;\n",
              "      border-right-color: var(--fill-color);\n",
              "      border-bottom-color: var(--fill-color);\n",
              "    }\n",
              "    90% {\n",
              "      border-color: transparent;\n",
              "      border-bottom-color: var(--fill-color);\n",
              "    }\n",
              "  }\n",
              "</style>\n",
              "\n",
              "  <script>\n",
              "    async function quickchart(key) {\n",
              "      const quickchartButtonEl =\n",
              "        document.querySelector('#' + key + ' button');\n",
              "      quickchartButtonEl.disabled = true;  // To prevent multiple clicks.\n",
              "      quickchartButtonEl.classList.add('colab-df-spinner');\n",
              "      try {\n",
              "        const charts = await google.colab.kernel.invokeFunction(\n",
              "            'suggestCharts', [key], {});\n",
              "      } catch (error) {\n",
              "        console.error('Error during call to suggestCharts:', error);\n",
              "      }\n",
              "      quickchartButtonEl.classList.remove('colab-df-spinner');\n",
              "      quickchartButtonEl.classList.add('colab-df-quickchart-complete');\n",
              "    }\n",
              "    (() => {\n",
              "      let quickchartButtonEl =\n",
              "        document.querySelector('#df-2e29f6e8-e01b-4ae3-b7e4-303e4f5412e5 button');\n",
              "      quickchartButtonEl.style.display =\n",
              "        google.colab.kernel.accessAllowed ? 'block' : 'none';\n",
              "    })();\n",
              "  </script>\n",
              "</div>\n",
              "    </div>\n",
              "  </div>\n"
            ]
          },
          "metadata": {},
          "execution_count": 60
        },
        {
          "output_type": "stream",
          "name": "stdout",
          "text": [
            "time: 20.9 ms (started: 2023-09-29 14:15:27 +00:00)\n"
          ]
        }
      ]
    },
    {
      "cell_type": "markdown",
      "source": [
        "### Assess Transcriptions"
      ],
      "metadata": {
        "id": "r5F2ZUWpgWdk"
      },
      "id": "r5F2ZUWpgWdk"
    },
    {
      "cell_type": "code",
      "source": [
        "scores_clean_series = assessment_clean.progress_apply(similar, axis=1, indices=indices)\n",
        "scores_clean_list = scores_clean_series.values.tolist()\n",
        "scores_clean = pd.DataFrame(scores_clean_list).rename(column_names, axis=1)"
      ],
      "metadata": {
        "outputId": "ba7d3682-374c-4026-d1ef-5f6a3c30ba6d",
        "colab": {
          "base_uri": "https://localhost:8080/"
        },
        "id": "ezBX90IagWdk"
      },
      "execution_count": 62,
      "outputs": [
        {
          "output_type": "stream",
          "name": "stderr",
          "text": [
            "100%|██████████| 10/10 [00:00<00:00, 582.35it/s]"
          ]
        },
        {
          "output_type": "stream",
          "name": "stdout",
          "text": [
            "time: 24 ms (started: 2023-09-29 14:15:48 +00:00)\n"
          ]
        },
        {
          "output_type": "stream",
          "name": "stderr",
          "text": [
            "\n"
          ]
        }
      ],
      "id": "ezBX90IagWdk"
    },
    {
      "cell_type": "code",
      "source": [
        "print(scores_clean.mean().sort_values(ascending=False))"
      ],
      "metadata": {
        "colab": {
          "base_uri": "https://localhost:8080/"
        },
        "id": "wFTnZC5vSb-g",
        "outputId": "22d57e77-46cd-408d-e052-351e5d816670"
      },
      "id": "wFTnZC5vSb-g",
      "execution_count": 63,
      "outputs": [
        {
          "output_type": "stream",
          "name": "stdout",
          "text": [
            "whisper    0.741748\n",
            "google     0.617476\n",
            "vosk       0.594663\n",
            "sphinx     0.319726\n",
            "dtype: float64\n",
            "time: 3.63 ms (started: 2023-09-29 14:15:52 +00:00)\n"
          ]
        }
      ]
    },
    {
      "cell_type": "markdown",
      "source": [
        "We essentially got the same ranking, with google and sphinx actually worsening as a result of the cleaning, vosk staying roughly the same and whisper improving substantially.\n",
        "\n",
        "Because Google is unreliable in producing a transcription, we will procced with whisper and vosk and check some of the different models available."
      ],
      "metadata": {
        "id": "ibndYpFkgWdk"
      },
      "id": "ibndYpFkgWdk"
    },
    {
      "cell_type": "markdown",
      "id": "82fd0c8d",
      "metadata": {
        "id": "82fd0c8d"
      },
      "source": [
        "## Checking Vosk & Whisper Models"
      ]
    },
    {
      "cell_type": "markdown",
      "id": "ebfd1a8c",
      "metadata": {
        "id": "ebfd1a8c"
      },
      "source": [
        "### VOSK"
      ]
    },
    {
      "cell_type": "markdown",
      "source": [
        "#### Aggregate Transcriptions"
      ],
      "metadata": {
        "id": "b6iStyxA2XK-"
      },
      "id": "b6iStyxA2XK-"
    },
    {
      "cell_type": "code",
      "source": [
        "def transcribe_vosk(filename, filter_noise=False, models=[]):\n",
        "  path = get_path_from_filename(filename)\n",
        "  audio = get_audio(path, filter_noise=filter_noise)\n",
        "\n",
        "  t = []\n",
        "  for model in models:\n",
        "    vt = recognize_vosk(audio, model)\n",
        "    t.append(json.loads(vt)['text'])\n",
        "\n",
        "  return tuple(t)"
      ],
      "metadata": {
        "outputId": "d40420c8-c255-4671-ae25-44487cccc76e",
        "colab": {
          "base_uri": "https://localhost:8080/"
        },
        "id": "XzdNzWXpTIZy"
      },
      "execution_count": 14,
      "outputs": [
        {
          "output_type": "stream",
          "name": "stdout",
          "text": [
            "time: 642 µs (started: 2023-09-29 18:05:21 +00:00)\n"
          ]
        }
      ],
      "id": "XzdNzWXpTIZy"
    },
    {
      "cell_type": "code",
      "source": [
        "vosk_models = ['eng_large', 'eng_small', 'vosk-model-en-us-0.22-lgraph', 'vosk-model-en-us-0.42-gigaspeech']\n",
        "vosk_series = filenames.progress_apply(transcribe_vosk, filter_noise=True, models=vosk_models)\n",
        "vosk_column_names = {\n",
        "    k: v for k, v in enumerate(vosk_models)\n",
        "  }\n",
        "vosk_list = vosk_series.values.tolist()\n",
        "vosk_df = pd.DataFrame(vosk_list).rename(vosk_column_names, axis=1)"
      ],
      "metadata": {
        "colab": {
          "base_uri": "https://localhost:8080/"
        },
        "id": "ar90YHuPh5ve",
        "outputId": "5f069568-29cd-4a04-bf60-411148e088fb"
      },
      "id": "ar90YHuPh5ve",
      "execution_count": 16,
      "outputs": [
        {
          "output_type": "stream",
          "name": "stderr",
          "text": [
            "100%|██████████| 10/10 [16:56<00:00, 101.63s/it]"
          ]
        },
        {
          "output_type": "stream",
          "name": "stdout",
          "text": [
            "time: 16min 56s (started: 2023-09-29 16:26:32 +00:00)\n"
          ]
        },
        {
          "output_type": "stream",
          "name": "stderr",
          "text": [
            "\n"
          ]
        }
      ]
    },
    {
      "cell_type": "code",
      "source": [
        "assessment_vosk = pd.DataFrame({\"filename\": filenames})\n",
        "assessment_vosk = pd.concat([assessment_vosk, vosk_df], axis=1)"
      ],
      "metadata": {
        "colab": {
          "base_uri": "https://localhost:8080/"
        },
        "id": "VRzWr5qR2ild",
        "outputId": "d482220c-67e3-451f-f0b7-7c8559eee1e7"
      },
      "execution_count": 17,
      "outputs": [
        {
          "output_type": "stream",
          "name": "stdout",
          "text": [
            "time: 2.17 ms (started: 2023-09-29 16:43:44 +00:00)\n"
          ]
        }
      ],
      "id": "VRzWr5qR2ild"
    },
    {
      "cell_type": "code",
      "source": [
        "assessment_vosk = assessment_vosk.merge(manual_transcriptions, left_on='filename', right_on='filename')"
      ],
      "metadata": {
        "colab": {
          "base_uri": "https://localhost:8080/"
        },
        "id": "uKjLAMFW2ild",
        "outputId": "db78f1ab-906d-4d73-ca4d-714e1c6a7e76"
      },
      "execution_count": 18,
      "outputs": [
        {
          "output_type": "stream",
          "name": "stdout",
          "text": [
            "time: 74 ms (started: 2023-09-29 16:43:46 +00:00)\n"
          ]
        }
      ],
      "id": "uKjLAMFW2ild"
    },
    {
      "cell_type": "code",
      "source": [
        "assessment_vosk"
      ],
      "metadata": {
        "colab": {
          "base_uri": "https://localhost:8080/",
          "height": 1000
        },
        "outputId": "ddccfd93-cd83-491b-f6f6-6b02dd3925dd",
        "id": "VSbYXuLr2ild"
      },
      "execution_count": 19,
      "outputs": [
        {
          "output_type": "execute_result",
          "data": {
            "text/plain": [
              "                      filename  \\\n",
              "0   911_first6sec/call_8_0.wav   \n",
              "1   911_first6sec/call_9_0.wav   \n",
              "2  911_first6sec/call_10_0.wav   \n",
              "3  911_first6sec/call_11_0.wav   \n",
              "4  911_first6sec/call_15_0.wav   \n",
              "5  911_first6sec/call_17_0.wav   \n",
              "6  911_first6sec/call_20_0.wav   \n",
              "7  911_first6sec/call_21_0.wav   \n",
              "8  911_first6sec/call_28_0.wav   \n",
              "9  911_first6sec/call_31_0.wav   \n",
              "\n",
              "                                           eng_large  \\\n",
              "0                     i know i know is everything ok   \n",
              "1  i need a police officer over here except what'...   \n",
              "2        well my pickup was gone i had to go find it   \n",
              "3  i remember the man again i who am i to please ...   \n",
              "4       i am down there and i just killed two people   \n",
              "5  as far down here at all on route southern righ...   \n",
              "6  out of the house yet no or i get out of the ho...   \n",
              "7  i think i think may help you here okay i put r...   \n",
              "8                we sent back due to epic i'm having   \n",
              "9  oh my god somebody shooting at the sheriff's d...   \n",
              "\n",
              "                                           eng_small  \\\n",
              "0                   now i'm now it's everything okay   \n",
              "1  anita a police officer of the hear the corner ...   \n",
              "2                  well my pick up on a go find that   \n",
              "3         remember my mom i got my house personality   \n",
              "4            i'm down here and that it killed people   \n",
              "5  the far down here at or out thousand right her...   \n",
              "6    the out of as you know i get out of as we can't   \n",
              "7     i can't say help you okay i put the ridiculous   \n",
              "8                    that do too i think i'm heading   \n",
              "9  oh my god how many hidden a partner at the sha...   \n",
              "\n",
              "                        vosk-model-en-us-0.22-lgraph  \\\n",
              "0                  i hello i know is everything okay   \n",
              "1  i need a police officer over here it's of coin...   \n",
              "2              well my a post gone i to go find that   \n",
              "3  i remember a snowman again i who am i going to...   \n",
              "4  i i'm down there in and that as killed two people   \n",
              "5  at the far down here at all on route southern ...   \n",
              "6  it out of the house yet no but i get out of th...   \n",
              "7  in current events may help you here okay i put...   \n",
              "8             we been back due to i think i'm having   \n",
              "9  oh my god somebody shooting at the sheriff's d...   \n",
              "\n",
              "                    vosk-model-en-us-0.42-gigaspeech  \\\n",
              "0              um hello hello is everything okay huh   \n",
              "1  i need a police officer over here at some reco...   \n",
              "2     well my pickup was gone i had to go find it ah   \n",
              "3  unfortunately no ma'am i don't want emergency ...   \n",
              "4      um i'm down here in ny this killed two people   \n",
              "5  so far down here it's on route seven right her...   \n",
              "6  you're out of the house yes no i get out of th...   \n",
              "7  guess it is simply thinking yes it is may help...   \n",
              "8          please send rescue to i think i'm heading   \n",
              "9  oh my god somebody shooting the sheriff's depa...   \n",
              "\n",
              "                               manual_transcriptions  \n",
              "0                  um hello hello is everything okay  \n",
              "1  yes um i need a police officer over here at wh...  \n",
              "2  ma'am my pickup was stolen I had to go find it...  \n",
              "3  no ma'am i don't i don't have an emergency two...  \n",
              "4    I'm Dylon Peterson and i just killed two people  \n",
              "5  yeah we got a fire down here at on route seven...  \n",
              "6  are you out of the house yet no alright get ou...  \n",
              "7  yes is this a police station yes it is may i h...  \n",
              "8          can you please send rescue to i think i'm  \n",
              "9  oh my god somebody is shooting at the sheriff'...  "
            ],
            "text/html": [
              "\n",
              "  <div id=\"df-7aec1bbe-e53d-44b6-b061-6a5feffd0794\" class=\"colab-df-container\">\n",
              "    <div>\n",
              "<style scoped>\n",
              "    .dataframe tbody tr th:only-of-type {\n",
              "        vertical-align: middle;\n",
              "    }\n",
              "\n",
              "    .dataframe tbody tr th {\n",
              "        vertical-align: top;\n",
              "    }\n",
              "\n",
              "    .dataframe thead th {\n",
              "        text-align: right;\n",
              "    }\n",
              "</style>\n",
              "<table border=\"1\" class=\"dataframe\">\n",
              "  <thead>\n",
              "    <tr style=\"text-align: right;\">\n",
              "      <th></th>\n",
              "      <th>filename</th>\n",
              "      <th>eng_large</th>\n",
              "      <th>eng_small</th>\n",
              "      <th>vosk-model-en-us-0.22-lgraph</th>\n",
              "      <th>vosk-model-en-us-0.42-gigaspeech</th>\n",
              "      <th>manual_transcriptions</th>\n",
              "    </tr>\n",
              "  </thead>\n",
              "  <tbody>\n",
              "    <tr>\n",
              "      <th>0</th>\n",
              "      <td>911_first6sec/call_8_0.wav</td>\n",
              "      <td>i know i know is everything ok</td>\n",
              "      <td>now i'm now it's everything okay</td>\n",
              "      <td>i hello i know is everything okay</td>\n",
              "      <td>um hello hello is everything okay huh</td>\n",
              "      <td>um hello hello is everything okay</td>\n",
              "    </tr>\n",
              "    <tr>\n",
              "      <th>1</th>\n",
              "      <td>911_first6sec/call_9_0.wav</td>\n",
              "      <td>i need a police officer over here except what'...</td>\n",
              "      <td>anita a police officer of the hear the corner ...</td>\n",
              "      <td>i need a police officer over here it's of coin...</td>\n",
              "      <td>i need a police officer over here at some reco...</td>\n",
              "      <td>yes um i need a police officer over here at wh...</td>\n",
              "    </tr>\n",
              "    <tr>\n",
              "      <th>2</th>\n",
              "      <td>911_first6sec/call_10_0.wav</td>\n",
              "      <td>well my pickup was gone i had to go find it</td>\n",
              "      <td>well my pick up on a go find that</td>\n",
              "      <td>well my a post gone i to go find that</td>\n",
              "      <td>well my pickup was gone i had to go find it ah</td>\n",
              "      <td>ma'am my pickup was stolen I had to go find it...</td>\n",
              "    </tr>\n",
              "    <tr>\n",
              "      <th>3</th>\n",
              "      <td>911_first6sec/call_11_0.wav</td>\n",
              "      <td>i remember the man again i who am i to please ...</td>\n",
              "      <td>remember my mom i got my house personality</td>\n",
              "      <td>i remember a snowman again i who am i going to...</td>\n",
              "      <td>unfortunately no ma'am i don't want emergency ...</td>\n",
              "      <td>no ma'am i don't i don't have an emergency two...</td>\n",
              "    </tr>\n",
              "    <tr>\n",
              "      <th>4</th>\n",
              "      <td>911_first6sec/call_15_0.wav</td>\n",
              "      <td>i am down there and i just killed two people</td>\n",
              "      <td>i'm down here and that it killed people</td>\n",
              "      <td>i i'm down there in and that as killed two people</td>\n",
              "      <td>um i'm down here in ny this killed two people</td>\n",
              "      <td>I'm Dylon Peterson and i just killed two people</td>\n",
              "    </tr>\n",
              "    <tr>\n",
              "      <th>5</th>\n",
              "      <td>911_first6sec/call_17_0.wav</td>\n",
              "      <td>as far down here at all on route southern righ...</td>\n",
              "      <td>the far down here at or out thousand right her...</td>\n",
              "      <td>at the far down here at all on route southern ...</td>\n",
              "      <td>so far down here it's on route seven right her...</td>\n",
              "      <td>yeah we got a fire down here at on route seven...</td>\n",
              "    </tr>\n",
              "    <tr>\n",
              "      <th>6</th>\n",
              "      <td>911_first6sec/call_20_0.wav</td>\n",
              "      <td>out of the house yet no or i get out of the ho...</td>\n",
              "      <td>the out of as you know i get out of as we can't</td>\n",
              "      <td>it out of the house yet no but i get out of th...</td>\n",
              "      <td>you're out of the house yes no i get out of th...</td>\n",
              "      <td>are you out of the house yet no alright get ou...</td>\n",
              "    </tr>\n",
              "    <tr>\n",
              "      <th>7</th>\n",
              "      <td>911_first6sec/call_21_0.wav</td>\n",
              "      <td>i think i think may help you here okay i put r...</td>\n",
              "      <td>i can't say help you okay i put the ridiculous</td>\n",
              "      <td>in current events may help you here okay i put...</td>\n",
              "      <td>guess it is simply thinking yes it is may help...</td>\n",
              "      <td>yes is this a police station yes it is may i h...</td>\n",
              "    </tr>\n",
              "    <tr>\n",
              "      <th>8</th>\n",
              "      <td>911_first6sec/call_28_0.wav</td>\n",
              "      <td>we sent back due to epic i'm having</td>\n",
              "      <td>that do too i think i'm heading</td>\n",
              "      <td>we been back due to i think i'm having</td>\n",
              "      <td>please send rescue to i think i'm heading</td>\n",
              "      <td>can you please send rescue to i think i'm</td>\n",
              "    </tr>\n",
              "    <tr>\n",
              "      <th>9</th>\n",
              "      <td>911_first6sec/call_31_0.wav</td>\n",
              "      <td>oh my god somebody shooting at the sheriff's d...</td>\n",
              "      <td>oh my god how many hidden a partner at the sha...</td>\n",
              "      <td>oh my god somebody shooting at the sheriff's d...</td>\n",
              "      <td>oh my god somebody shooting the sheriff's depa...</td>\n",
              "      <td>oh my god somebody is shooting at the sheriff'...</td>\n",
              "    </tr>\n",
              "  </tbody>\n",
              "</table>\n",
              "</div>\n",
              "    <div class=\"colab-df-buttons\">\n",
              "\n",
              "  <div class=\"colab-df-container\">\n",
              "    <button class=\"colab-df-convert\" onclick=\"convertToInteractive('df-7aec1bbe-e53d-44b6-b061-6a5feffd0794')\"\n",
              "            title=\"Convert this dataframe to an interactive table.\"\n",
              "            style=\"display:none;\">\n",
              "\n",
              "  <svg xmlns=\"http://www.w3.org/2000/svg\" height=\"24px\" viewBox=\"0 -960 960 960\">\n",
              "    <path d=\"M120-120v-720h720v720H120Zm60-500h600v-160H180v160Zm220 220h160v-160H400v160Zm0 220h160v-160H400v160ZM180-400h160v-160H180v160Zm440 0h160v-160H620v160ZM180-180h160v-160H180v160Zm440 0h160v-160H620v160Z\"/>\n",
              "  </svg>\n",
              "    </button>\n",
              "\n",
              "  <style>\n",
              "    .colab-df-container {\n",
              "      display:flex;\n",
              "      gap: 12px;\n",
              "    }\n",
              "\n",
              "    .colab-df-convert {\n",
              "      background-color: #E8F0FE;\n",
              "      border: none;\n",
              "      border-radius: 50%;\n",
              "      cursor: pointer;\n",
              "      display: none;\n",
              "      fill: #1967D2;\n",
              "      height: 32px;\n",
              "      padding: 0 0 0 0;\n",
              "      width: 32px;\n",
              "    }\n",
              "\n",
              "    .colab-df-convert:hover {\n",
              "      background-color: #E2EBFA;\n",
              "      box-shadow: 0px 1px 2px rgba(60, 64, 67, 0.3), 0px 1px 3px 1px rgba(60, 64, 67, 0.15);\n",
              "      fill: #174EA6;\n",
              "    }\n",
              "\n",
              "    .colab-df-buttons div {\n",
              "      margin-bottom: 4px;\n",
              "    }\n",
              "\n",
              "    [theme=dark] .colab-df-convert {\n",
              "      background-color: #3B4455;\n",
              "      fill: #D2E3FC;\n",
              "    }\n",
              "\n",
              "    [theme=dark] .colab-df-convert:hover {\n",
              "      background-color: #434B5C;\n",
              "      box-shadow: 0px 1px 3px 1px rgba(0, 0, 0, 0.15);\n",
              "      filter: drop-shadow(0px 1px 2px rgba(0, 0, 0, 0.3));\n",
              "      fill: #FFFFFF;\n",
              "    }\n",
              "  </style>\n",
              "\n",
              "    <script>\n",
              "      const buttonEl =\n",
              "        document.querySelector('#df-7aec1bbe-e53d-44b6-b061-6a5feffd0794 button.colab-df-convert');\n",
              "      buttonEl.style.display =\n",
              "        google.colab.kernel.accessAllowed ? 'block' : 'none';\n",
              "\n",
              "      async function convertToInteractive(key) {\n",
              "        const element = document.querySelector('#df-7aec1bbe-e53d-44b6-b061-6a5feffd0794');\n",
              "        const dataTable =\n",
              "          await google.colab.kernel.invokeFunction('convertToInteractive',\n",
              "                                                    [key], {});\n",
              "        if (!dataTable) return;\n",
              "\n",
              "        const docLinkHtml = 'Like what you see? Visit the ' +\n",
              "          '<a target=\"_blank\" href=https://colab.research.google.com/notebooks/data_table.ipynb>data table notebook</a>'\n",
              "          + ' to learn more about interactive tables.';\n",
              "        element.innerHTML = '';\n",
              "        dataTable['output_type'] = 'display_data';\n",
              "        await google.colab.output.renderOutput(dataTable, element);\n",
              "        const docLink = document.createElement('div');\n",
              "        docLink.innerHTML = docLinkHtml;\n",
              "        element.appendChild(docLink);\n",
              "      }\n",
              "    </script>\n",
              "  </div>\n",
              "\n",
              "\n",
              "<div id=\"df-d5bb8b67-7a85-47f0-b8a7-4bb92439f084\">\n",
              "  <button class=\"colab-df-quickchart\" onclick=\"quickchart('df-d5bb8b67-7a85-47f0-b8a7-4bb92439f084')\"\n",
              "            title=\"Suggest charts.\"\n",
              "            style=\"display:none;\">\n",
              "\n",
              "<svg xmlns=\"http://www.w3.org/2000/svg\" height=\"24px\"viewBox=\"0 0 24 24\"\n",
              "     width=\"24px\">\n",
              "    <g>\n",
              "        <path d=\"M19 3H5c-1.1 0-2 .9-2 2v14c0 1.1.9 2 2 2h14c1.1 0 2-.9 2-2V5c0-1.1-.9-2-2-2zM9 17H7v-7h2v7zm4 0h-2V7h2v10zm4 0h-2v-4h2v4z\"/>\n",
              "    </g>\n",
              "</svg>\n",
              "  </button>\n",
              "\n",
              "<style>\n",
              "  .colab-df-quickchart {\n",
              "      --bg-color: #E8F0FE;\n",
              "      --fill-color: #1967D2;\n",
              "      --hover-bg-color: #E2EBFA;\n",
              "      --hover-fill-color: #174EA6;\n",
              "      --disabled-fill-color: #AAA;\n",
              "      --disabled-bg-color: #DDD;\n",
              "  }\n",
              "\n",
              "  [theme=dark] .colab-df-quickchart {\n",
              "      --bg-color: #3B4455;\n",
              "      --fill-color: #D2E3FC;\n",
              "      --hover-bg-color: #434B5C;\n",
              "      --hover-fill-color: #FFFFFF;\n",
              "      --disabled-bg-color: #3B4455;\n",
              "      --disabled-fill-color: #666;\n",
              "  }\n",
              "\n",
              "  .colab-df-quickchart {\n",
              "    background-color: var(--bg-color);\n",
              "    border: none;\n",
              "    border-radius: 50%;\n",
              "    cursor: pointer;\n",
              "    display: none;\n",
              "    fill: var(--fill-color);\n",
              "    height: 32px;\n",
              "    padding: 0;\n",
              "    width: 32px;\n",
              "  }\n",
              "\n",
              "  .colab-df-quickchart:hover {\n",
              "    background-color: var(--hover-bg-color);\n",
              "    box-shadow: 0 1px 2px rgba(60, 64, 67, 0.3), 0 1px 3px 1px rgba(60, 64, 67, 0.15);\n",
              "    fill: var(--button-hover-fill-color);\n",
              "  }\n",
              "\n",
              "  .colab-df-quickchart-complete:disabled,\n",
              "  .colab-df-quickchart-complete:disabled:hover {\n",
              "    background-color: var(--disabled-bg-color);\n",
              "    fill: var(--disabled-fill-color);\n",
              "    box-shadow: none;\n",
              "  }\n",
              "\n",
              "  .colab-df-spinner {\n",
              "    border: 2px solid var(--fill-color);\n",
              "    border-color: transparent;\n",
              "    border-bottom-color: var(--fill-color);\n",
              "    animation:\n",
              "      spin 1s steps(1) infinite;\n",
              "  }\n",
              "\n",
              "  @keyframes spin {\n",
              "    0% {\n",
              "      border-color: transparent;\n",
              "      border-bottom-color: var(--fill-color);\n",
              "      border-left-color: var(--fill-color);\n",
              "    }\n",
              "    20% {\n",
              "      border-color: transparent;\n",
              "      border-left-color: var(--fill-color);\n",
              "      border-top-color: var(--fill-color);\n",
              "    }\n",
              "    30% {\n",
              "      border-color: transparent;\n",
              "      border-left-color: var(--fill-color);\n",
              "      border-top-color: var(--fill-color);\n",
              "      border-right-color: var(--fill-color);\n",
              "    }\n",
              "    40% {\n",
              "      border-color: transparent;\n",
              "      border-right-color: var(--fill-color);\n",
              "      border-top-color: var(--fill-color);\n",
              "    }\n",
              "    60% {\n",
              "      border-color: transparent;\n",
              "      border-right-color: var(--fill-color);\n",
              "    }\n",
              "    80% {\n",
              "      border-color: transparent;\n",
              "      border-right-color: var(--fill-color);\n",
              "      border-bottom-color: var(--fill-color);\n",
              "    }\n",
              "    90% {\n",
              "      border-color: transparent;\n",
              "      border-bottom-color: var(--fill-color);\n",
              "    }\n",
              "  }\n",
              "</style>\n",
              "\n",
              "  <script>\n",
              "    async function quickchart(key) {\n",
              "      const quickchartButtonEl =\n",
              "        document.querySelector('#' + key + ' button');\n",
              "      quickchartButtonEl.disabled = true;  // To prevent multiple clicks.\n",
              "      quickchartButtonEl.classList.add('colab-df-spinner');\n",
              "      try {\n",
              "        const charts = await google.colab.kernel.invokeFunction(\n",
              "            'suggestCharts', [key], {});\n",
              "      } catch (error) {\n",
              "        console.error('Error during call to suggestCharts:', error);\n",
              "      }\n",
              "      quickchartButtonEl.classList.remove('colab-df-spinner');\n",
              "      quickchartButtonEl.classList.add('colab-df-quickchart-complete');\n",
              "    }\n",
              "    (() => {\n",
              "      let quickchartButtonEl =\n",
              "        document.querySelector('#df-d5bb8b67-7a85-47f0-b8a7-4bb92439f084 button');\n",
              "      quickchartButtonEl.style.display =\n",
              "        google.colab.kernel.accessAllowed ? 'block' : 'none';\n",
              "    })();\n",
              "  </script>\n",
              "</div>\n",
              "    </div>\n",
              "  </div>\n"
            ]
          },
          "metadata": {},
          "execution_count": 19
        },
        {
          "output_type": "stream",
          "name": "stdout",
          "text": [
            "time: 22.7 ms (started: 2023-09-29 16:43:47 +00:00)\n"
          ]
        }
      ],
      "id": "VSbYXuLr2ild"
    },
    {
      "cell_type": "markdown",
      "source": [
        "#### Assess Transcriptions"
      ],
      "metadata": {
        "id": "wi6e_w9v2cBI"
      },
      "id": "wi6e_w9v2cBI"
    },
    {
      "cell_type": "code",
      "source": [
        "scores_vosk_series = assessment_vosk.progress_apply(similar, axis=1, indices=vosk_models)\n",
        "scores_vosk_list = scores_vosk_series.values.tolist()\n",
        "scores_vosk = pd.DataFrame(scores_vosk_list).rename(vosk_column_names, axis=1)"
      ],
      "metadata": {
        "outputId": "5edff731-742c-4db3-e98c-0e33b3861592",
        "colab": {
          "base_uri": "https://localhost:8080/"
        },
        "id": "35DOWjf62cBI"
      },
      "execution_count": 27,
      "outputs": [
        {
          "output_type": "stream",
          "name": "stderr",
          "text": [
            "100%|██████████| 10/10 [00:00<00:00, 539.26it/s]"
          ]
        },
        {
          "output_type": "stream",
          "name": "stdout",
          "text": [
            "time: 25.8 ms (started: 2023-09-29 16:45:08 +00:00)\n"
          ]
        },
        {
          "output_type": "stream",
          "name": "stderr",
          "text": [
            "\n"
          ]
        }
      ],
      "id": "35DOWjf62cBI"
    },
    {
      "cell_type": "code",
      "source": [
        "print(scores_vosk.mean().sort_values(ascending=False))"
      ],
      "metadata": {
        "colab": {
          "base_uri": "https://localhost:8080/"
        },
        "id": "dE8XV_EQ1CI-",
        "outputId": "03f7ab16-67f8-48af-f162-f1663777eaac"
      },
      "id": "dE8XV_EQ1CI-",
      "execution_count": 28,
      "outputs": [
        {
          "output_type": "stream",
          "name": "stdout",
          "text": [
            "vosk-model-en-us-0.42-gigaspeech    0.806011\n",
            "eng_large                           0.728483\n",
            "vosk-model-en-us-0.22-lgraph        0.706237\n",
            "eng_small                           0.582618\n",
            "dtype: float64\n",
            "time: 2.31 ms (started: 2023-09-29 16:45:11 +00:00)\n"
          ]
        }
      ]
    },
    {
      "cell_type": "markdown",
      "source": [
        "We've got some pretty good performances here from the heavy models, with the gigaspeech performing very well."
      ],
      "metadata": {
        "id": "gZVBGdKP7qbp"
      },
      "id": "gZVBGdKP7qbp"
    },
    {
      "cell_type": "markdown",
      "id": "1140e86d",
      "metadata": {
        "id": "1140e86d"
      },
      "source": [
        "### Whisper"
      ]
    },
    {
      "cell_type": "markdown",
      "source": [
        "#### Aggregate Transcriptions"
      ],
      "metadata": {
        "id": "nrJhs4By8QId"
      },
      "id": "nrJhs4By8QId"
    },
    {
      "cell_type": "code",
      "source": [
        "def transcribe_whisper(filename, filter_noise=False, models=[]):\n",
        "  path = get_path_from_filename(filename)\n",
        "  audio = get_audio(path, filter_noise=filter_noise)\n",
        "\n",
        "  t = []\n",
        "  for model in models:\n",
        "      t.append(r.recognize_whisper(audio, model))\n",
        "\n",
        "  return tuple(t)"
      ],
      "metadata": {
        "outputId": "c8022c27-eef8-4043-c5d5-8743f146980e",
        "colab": {
          "base_uri": "https://localhost:8080/"
        },
        "id": "3UhOgZzc8QId"
      },
      "execution_count": 23,
      "outputs": [
        {
          "output_type": "stream",
          "name": "stdout",
          "text": [
            "time: 653 µs (started: 2023-09-29 18:56:11 +00:00)\n"
          ]
        }
      ],
      "id": "3UhOgZzc8QId"
    },
    {
      "cell_type": "code",
      "source": [
        "whisper_models = [\n",
        "    'base', 'medium', 'large'\n",
        "    ]\n",
        "whisper_series = filenames.progress_apply(transcribe_whisper, filter_noise=True, models=whisper_models)\n",
        "whisper_column_names = {\n",
        "    k: v for k, v in enumerate(whisper_models)\n",
        "  }\n",
        "whisper_list = whisper_series.values.tolist()\n",
        "whisper_df = pd.DataFrame(whisper_list).rename(whisper_column_names, axis=1)"
      ],
      "metadata": {
        "outputId": "47db6bec-e9e6-4b09-e74b-46b93c3d458d",
        "colab": {
          "base_uri": "https://localhost:8080/"
        },
        "id": "xAn5sQtO8QId"
      },
      "execution_count": 21,
      "outputs": [
        {
          "output_type": "stream",
          "name": "stderr",
          "text": [
            "  0%|          | 0/10 [00:00<?, ?it/s]\n",
            "  0%|                                              | 0.00/2.87G [00:00<?, ?iB/s]\u001b[A\n",
            "  0%|                                     | 5.48M/2.87G [00:00<00:53, 57.4MiB/s]\u001b[A\n",
            "  1%|▎                                     | 22.9M/2.87G [00:00<00:23, 131MiB/s]\u001b[A\n",
            "  1%|▍                                     | 36.6M/2.87G [00:00<00:22, 137MiB/s]\u001b[A\n",
            "  2%|▋                                     | 55.6M/2.87G [00:00<00:18, 161MiB/s]\u001b[A\n",
            "  2%|▉                                     | 71.8M/2.87G [00:00<00:18, 164MiB/s]\u001b[A\n",
            "  3%|█▏                                    | 91.6M/2.87G [00:00<00:16, 179MiB/s]\u001b[A\n",
            "  4%|█▍                                     | 109M/2.87G [00:00<00:17, 173MiB/s]\u001b[A\n",
            "  4%|█▋                                     | 125M/2.87G [00:00<00:17, 169MiB/s]\u001b[A\n",
            "  5%|█▉                                     | 144M/2.87G [00:00<00:16, 178MiB/s]\u001b[A\n",
            "  6%|██▏                                    | 162M/2.87G [00:01<00:16, 182MiB/s]\u001b[A\n",
            "  6%|██▍                                    | 180M/2.87G [00:01<00:16, 180MiB/s]\u001b[A\n",
            "  7%|██▌                                    | 197M/2.87G [00:01<00:15, 182MiB/s]\u001b[A\n",
            "  7%|██▉                                    | 217M/2.87G [00:01<00:15, 189MiB/s]\u001b[A\n",
            "  8%|███                                    | 235M/2.87G [00:01<00:16, 177MiB/s]\u001b[A\n",
            "  9%|███▎                                   | 253M/2.87G [00:01<00:15, 179MiB/s]\u001b[A\n",
            "  9%|███▋                                   | 274M/2.87G [00:01<00:14, 192MiB/s]\u001b[A\n",
            " 10%|███▉                                   | 293M/2.87G [00:01<00:14, 188MiB/s]\u001b[A\n",
            " 11%|████                                   | 311M/2.87G [00:01<00:14, 186MiB/s]\u001b[A\n",
            " 11%|████▍                                  | 331M/2.87G [00:01<00:14, 194MiB/s]\u001b[A\n",
            " 12%|████▋                                  | 350M/2.87G [00:02<00:14, 193MiB/s]\u001b[A\n",
            " 13%|████▉                                  | 368M/2.87G [00:02<00:14, 188MiB/s]\u001b[A\n",
            " 13%|█████                                  | 386M/2.87G [00:02<00:14, 183MiB/s]\u001b[A\n",
            " 14%|█████▎                                 | 404M/2.87G [00:02<00:14, 183MiB/s]\u001b[A\n",
            " 14%|█████▋                                 | 425M/2.87G [00:02<00:13, 195MiB/s]\u001b[A\n",
            " 15%|█████▋                                | 444M/2.87G [00:05<02:04, 21.0MiB/s]\u001b[A\n",
            " 16%|█████▉                                | 465M/2.87G [00:05<01:28, 29.3MiB/s]\u001b[A\n",
            " 16%|██████▏                               | 482M/2.87G [00:05<01:07, 38.2MiB/s]\u001b[A\n",
            " 17%|██████▍                               | 498M/2.87G [00:05<00:53, 48.1MiB/s]\u001b[A\n",
            " 18%|██████▋                               | 517M/2.87G [00:05<00:40, 62.4MiB/s]\u001b[A\n",
            " 18%|██████▉                               | 534M/2.87G [00:05<00:32, 76.7MiB/s]\u001b[A\n",
            " 19%|███████                               | 550M/2.87G [00:06<00:27, 91.6MiB/s]\u001b[A\n",
            " 19%|███████▌                               | 567M/2.87G [00:06<00:23, 106MiB/s]\u001b[A\n",
            " 20%|███████▋                               | 584M/2.87G [00:06<00:20, 121MiB/s]\u001b[A\n",
            " 21%|████████                               | 605M/2.87G [00:06<00:17, 142MiB/s]\u001b[A\n",
            " 21%|████████▎                              | 627M/2.87G [00:06<00:14, 163MiB/s]\u001b[A\n",
            " 22%|████████▌                              | 648M/2.87G [00:06<00:13, 178MiB/s]\u001b[A\n",
            " 23%|████████▊                              | 668M/2.87G [00:06<00:13, 179MiB/s]\u001b[A\n",
            " 23%|█████████                              | 686M/2.87G [00:06<00:13, 179MiB/s]\u001b[A\n",
            " 24%|█████████▍                             | 708M/2.87G [00:06<00:12, 192MiB/s]\u001b[A\n",
            " 25%|█████████▋                             | 727M/2.87G [00:06<00:12, 190MiB/s]\u001b[A\n",
            " 25%|█████████▉                             | 746M/2.87G [00:07<00:21, 108MiB/s]\u001b[A\n",
            " 26%|██████████                             | 761M/2.87G [00:07<00:21, 104MiB/s]\u001b[A\n",
            " 26%|██████████▎                            | 779M/2.87G [00:07<00:18, 120MiB/s]\u001b[A\n",
            " 27%|██████████▌                            | 800M/2.87G [00:07<00:16, 140MiB/s]\u001b[A\n",
            " 28%|██████████▊                            | 818M/2.87G [00:07<00:14, 151MiB/s]\u001b[A\n",
            " 28%|███████████                            | 838M/2.87G [00:07<00:13, 164MiB/s]\u001b[A\n",
            " 29%|███████████▎                           | 857M/2.87G [00:08<00:12, 175MiB/s]\u001b[A\n",
            " 30%|███████████▌                           | 876M/2.87G [00:08<00:12, 180MiB/s]\u001b[A\n",
            " 30%|███████████▊                           | 896M/2.87G [00:08<00:11, 187MiB/s]\u001b[A\n",
            " 31%|████████████▏                          | 918M/2.87G [00:08<00:10, 199MiB/s]\u001b[A\n",
            " 32%|████████████▍                          | 938M/2.87G [00:08<00:10, 204MiB/s]\u001b[A\n",
            " 33%|████████████▋                          | 958M/2.87G [00:08<00:10, 201MiB/s]\u001b[A\n",
            " 33%|████████████▉                          | 978M/2.87G [00:08<00:10, 196MiB/s]\u001b[A\n",
            " 34%|█████████████▏                         | 996M/2.87G [00:08<00:11, 182MiB/s]\u001b[A\n",
            " 35%|█████████████                         | 0.99G/2.87G [00:08<00:10, 189MiB/s]\u001b[A\n",
            " 35%|█████████████▍                        | 1.01G/2.87G [00:08<00:10, 196MiB/s]\u001b[A\n",
            " 36%|█████████████▋                        | 1.03G/2.87G [00:09<00:10, 198MiB/s]\u001b[A\n",
            " 37%|█████████████▉                        | 1.05G/2.87G [00:09<00:09, 199MiB/s]\u001b[A\n",
            " 37%|██████████████                        | 1.07G/2.87G [00:09<00:10, 189MiB/s]\u001b[A\n",
            " 38%|██████████████▎                       | 1.09G/2.87G [00:09<00:10, 184MiB/s]\u001b[A\n",
            " 38%|██████████████▌                       | 1.11G/2.87G [00:09<00:09, 193MiB/s]\u001b[A\n",
            " 39%|██████████████▊                       | 1.12G/2.87G [00:09<00:10, 181MiB/s]\u001b[A\n",
            " 40%|███████████████                       | 1.14G/2.87G [00:09<00:10, 181MiB/s]\u001b[A\n",
            " 40%|███████████████▎                      | 1.16G/2.87G [00:09<00:09, 192MiB/s]\u001b[A\n",
            " 41%|███████████████▋                      | 1.18G/2.87G [00:09<00:09, 198MiB/s]\u001b[A\n",
            " 42%|███████████████▉                      | 1.20G/2.87G [00:10<00:09, 184MiB/s]\u001b[A\n",
            " 42%|████████████████▏                     | 1.22G/2.87G [00:10<00:09, 192MiB/s]\u001b[A\n",
            " 43%|████████████████▍                     | 1.24G/2.87G [00:10<00:08, 199MiB/s]\u001b[A\n",
            " 44%|████████████████▋                     | 1.26G/2.87G [00:10<00:16, 104MiB/s]\u001b[A\n",
            " 44%|████████████████▊                     | 1.27G/2.87G [00:10<00:15, 113MiB/s]\u001b[A\n",
            " 45%|█████████████████                     | 1.29G/2.87G [00:10<00:13, 129MiB/s]\u001b[A\n",
            " 46%|█████████████████▎                    | 1.31G/2.87G [00:10<00:11, 152MiB/s]\u001b[A\n",
            " 46%|█████████████████▋                    | 1.33G/2.87G [00:11<00:09, 168MiB/s]\u001b[A\n",
            " 47%|█████████████████▉                    | 1.36G/2.87G [00:11<00:08, 185MiB/s]\u001b[A\n",
            " 48%|██████████████████▏                   | 1.37G/2.87G [00:11<00:08, 186MiB/s]\u001b[A\n",
            " 49%|██████████████████▍                   | 1.40G/2.87G [00:11<00:07, 201MiB/s]\u001b[A\n",
            " 49%|██████████████████▋                   | 1.42G/2.87G [00:11<00:08, 195MiB/s]\u001b[A\n",
            " 50%|██████████████████▉                   | 1.44G/2.87G [00:11<00:07, 194MiB/s]\u001b[A\n",
            " 51%|███████████████████▎                  | 1.46G/2.87G [00:11<00:07, 202MiB/s]\u001b[A\n",
            " 51%|██████████████████▉                  | 1.48G/2.87G [00:13<00:35, 42.8MiB/s]\u001b[A\n",
            " 52%|███████████████████▏                 | 1.50G/2.87G [00:13<00:26, 55.6MiB/s]\u001b[A\n",
            " 53%|███████████████████▍                 | 1.51G/2.87G [00:13<00:22, 66.2MiB/s]\u001b[A\n",
            " 53%|███████████████████▋                 | 1.53G/2.87G [00:13<00:17, 82.6MiB/s]\u001b[A\n",
            " 54%|███████████████████▉                 | 1.54G/2.87G [00:13<00:14, 95.4MiB/s]\u001b[A\n",
            " 54%|████████████████████▋                 | 1.56G/2.87G [00:13<00:12, 112MiB/s]\u001b[A\n",
            " 55%|████████████████████▉                 | 1.58G/2.87G [00:13<00:10, 128MiB/s]\u001b[A\n",
            " 56%|█████████████████████                 | 1.60G/2.87G [00:13<00:10, 135MiB/s]\u001b[A\n",
            " 56%|█████████████████████▎                | 1.61G/2.87G [00:13<00:09, 142MiB/s]\u001b[A\n",
            " 57%|█████████████████████▌                | 1.63G/2.87G [00:14<00:09, 141MiB/s]\u001b[A\n",
            " 57%|█████████████████████▊                | 1.65G/2.87G [00:14<00:08, 156MiB/s]\u001b[A\n",
            " 58%|██████████████████████                | 1.67G/2.87G [00:14<00:07, 166MiB/s]\u001b[A\n",
            " 59%|██████████████████████▏               | 1.68G/2.87G [00:14<00:07, 170MiB/s]\u001b[A\n",
            " 59%|██████████████████████▍               | 1.70G/2.87G [00:14<00:07, 174MiB/s]\u001b[A\n",
            " 60%|██████████████████████▋               | 1.72G/2.87G [00:14<00:07, 174MiB/s]\u001b[A\n",
            " 60%|██████████████████████▉               | 1.73G/2.87G [00:14<00:07, 175MiB/s]\u001b[A\n",
            " 61%|███████████████████████▏              | 1.75G/2.87G [00:14<00:07, 169MiB/s]\u001b[A\n",
            " 61%|███████████████████████▎              | 1.77G/2.87G [00:14<00:07, 168MiB/s]\u001b[A\n",
            " 62%|███████████████████████▌              | 1.78G/2.87G [00:14<00:06, 175MiB/s]\u001b[A\n",
            " 63%|███████████████████████▊              | 1.80G/2.87G [00:15<00:06, 177MiB/s]\u001b[A\n",
            " 63%|████████████████████████              | 1.82G/2.87G [00:15<00:06, 175MiB/s]\u001b[A\n",
            " 64%|████████████████████████▏             | 1.83G/2.87G [00:15<00:06, 172MiB/s]\u001b[A\n",
            " 64%|████████████████████████▍             | 1.85G/2.87G [00:15<00:06, 175MiB/s]\u001b[A\n",
            " 65%|████████████████████████             | 1.87G/2.87G [00:15<00:12, 84.8MiB/s]\u001b[A\n",
            " 66%|████████████████████████▉             | 1.89G/2.87G [00:15<00:09, 113MiB/s]\u001b[A\n",
            " 67%|█████████████████████████▎            | 1.91G/2.87G [00:16<00:07, 135MiB/s]\u001b[A\n",
            " 67%|█████████████████████████▌            | 1.93G/2.87G [00:16<00:07, 145MiB/s]\u001b[A\n",
            " 68%|█████████████████████████▊            | 1.95G/2.87G [00:16<00:06, 159MiB/s]\u001b[A\n",
            " 68%|█████████████████████████▉            | 1.97G/2.87G [00:16<00:05, 166MiB/s]\u001b[A\n",
            " 69%|██████████████████████████▏           | 1.99G/2.87G [00:16<00:05, 174MiB/s]\u001b[A\n",
            " 70%|██████████████████████████▍           | 2.00G/2.87G [00:16<00:05, 179MiB/s]\u001b[A\n",
            " 70%|██████████████████████████▋           | 2.02G/2.87G [00:16<00:05, 175MiB/s]\u001b[A\n",
            " 71%|██████████████████████████▉           | 2.04G/2.87G [00:16<00:05, 168MiB/s]\u001b[A\n",
            " 71%|███████████████████████████▏          | 2.06G/2.87G [00:16<00:05, 167MiB/s]\u001b[A\n",
            " 72%|███████████████████████████▍          | 2.07G/2.87G [00:17<00:04, 175MiB/s]\u001b[A\n",
            " 73%|███████████████████████████▋          | 2.09G/2.87G [00:17<00:04, 182MiB/s]\u001b[A\n",
            " 73%|███████████████████████████▉          | 2.11G/2.87G [00:17<00:04, 182MiB/s]\u001b[A\n",
            " 74%|████████████████████████████▏         | 2.13G/2.87G [00:17<00:04, 194MiB/s]\u001b[A\n",
            " 75%|████████████████████████████▍         | 2.15G/2.87G [00:17<00:03, 196MiB/s]\u001b[A\n",
            " 75%|████████████████████████████▋         | 2.17G/2.87G [00:17<00:03, 195MiB/s]\u001b[A\n",
            " 76%|████████████████████████████▉         | 2.19G/2.87G [00:17<00:03, 197MiB/s]\u001b[A\n",
            " 77%|█████████████████████████████▏        | 2.20G/2.87G [00:17<00:03, 197MiB/s]\u001b[A\n",
            " 77%|█████████████████████████████▍        | 2.22G/2.87G [00:17<00:03, 176MiB/s]\u001b[A\n",
            " 78%|█████████████████████████████▋        | 2.24G/2.87G [00:17<00:03, 184MiB/s]\u001b[A\n",
            " 79%|█████████████████████████████▉        | 2.26G/2.87G [00:18<00:03, 190MiB/s]\u001b[A\n",
            " 79%|██████████████████████████████        | 2.28G/2.87G [00:18<00:03, 189MiB/s]\u001b[A\n",
            " 80%|██████████████████████████████▎       | 2.30G/2.87G [00:18<00:03, 168MiB/s]\u001b[A\n",
            " 81%|██████████████████████████████▌       | 2.32G/2.87G [00:18<00:03, 178MiB/s]\u001b[A\n",
            " 81%|██████████████████████████████▊       | 2.33G/2.87G [00:18<00:03, 174MiB/s]\u001b[A\n",
            " 82%|██████████████████████████████▏      | 2.35G/2.87G [00:20<00:15, 35.5MiB/s]\u001b[A\n",
            " 82%|██████████████████████████████▍      | 2.37G/2.87G [00:20<00:15, 35.8MiB/s]\u001b[A\n",
            " 83%|██████████████████████████████▊      | 2.39G/2.87G [00:20<00:10, 51.0MiB/s]\u001b[A\n",
            " 84%|██████████████████████████████▉      | 2.40G/2.87G [00:20<00:08, 58.5MiB/s]\u001b[A\n",
            " 84%|███████████████████████████████▏     | 2.42G/2.87G [00:20<00:06, 74.1MiB/s]\u001b[A\n",
            " 85%|███████████████████████████████▍     | 2.44G/2.87G [00:21<00:05, 91.4MiB/s]\u001b[A\n",
            " 85%|████████████████████████████████▍     | 2.46G/2.87G [00:21<00:04, 106MiB/s]\u001b[A\n",
            " 86%|████████████████████████████████▋     | 2.47G/2.87G [00:21<00:03, 112MiB/s]\u001b[A\n",
            " 87%|████████████████████████████████▉     | 2.49G/2.87G [00:21<00:03, 125MiB/s]\u001b[A\n",
            " 87%|█████████████████████████████████     | 2.51G/2.87G [00:21<00:02, 140MiB/s]\u001b[A\n",
            " 88%|█████████████████████████████████▎    | 2.52G/2.87G [00:21<00:02, 134MiB/s]\u001b[A\n",
            " 88%|█████████████████████████████████▌    | 2.54G/2.87G [00:21<00:02, 151MiB/s]\u001b[A\n",
            " 89%|█████████████████████████████████▊    | 2.56G/2.87G [00:21<00:02, 157MiB/s]\u001b[A\n",
            " 89%|█████████████████████████████████    | 2.57G/2.87G [00:25<00:19, 16.7MiB/s]\u001b[A\n",
            " 90%|█████████████████████████████████▎   | 2.58G/2.87G [00:25<00:15, 20.2MiB/s]\u001b[A\n",
            " 91%|█████████████████████████████████▍   | 2.60G/2.87G [00:25<00:10, 29.0MiB/s]\u001b[A\n",
            " 91%|█████████████████████████████████▋   | 2.62G/2.87G [00:25<00:08, 33.9MiB/s]\u001b[A\n",
            " 92%|█████████████████████████████████▉   | 2.64G/2.87G [00:25<00:05, 47.8MiB/s]\u001b[A\n",
            " 92%|██████████████████████████████████▏  | 2.66G/2.87G [00:25<00:03, 62.1MiB/s]\u001b[A\n",
            " 93%|██████████████████████████████████▍  | 2.67G/2.87G [00:25<00:02, 76.8MiB/s]\u001b[A\n",
            " 94%|██████████████████████████████████▌  | 2.69G/2.87G [00:26<00:02, 89.7MiB/s]\u001b[A\n",
            " 94%|███████████████████████████████████▊  | 2.71G/2.87G [00:26<00:01, 110MiB/s]\u001b[A\n",
            " 95%|████████████████████████████████████  | 2.73G/2.87G [00:26<00:01, 130MiB/s]\u001b[A\n",
            " 96%|████████████████████████████████████▎ | 2.75G/2.87G [00:26<00:00, 147MiB/s]\u001b[A\n",
            " 96%|████████████████████████████████████▌ | 2.76G/2.87G [00:26<00:00, 155MiB/s]\u001b[A\n",
            " 97%|████████████████████████████████████▊ | 2.79G/2.87G [00:26<00:00, 173MiB/s]\u001b[A\n",
            " 98%|█████████████████████████████████████ | 2.80G/2.87G [00:26<00:00, 179MiB/s]\u001b[A\n",
            " 98%|████████████████████████████████████▎| 2.82G/2.87G [00:27<00:01, 51.7MiB/s]\u001b[A\n",
            " 99%|████████████████████████████████████▍| 2.84G/2.87G [00:30<00:02, 17.9MiB/s]\u001b[A\n",
            " 99%|████████████████████████████████████▋| 2.85G/2.87G [00:30<00:00, 25.0MiB/s]\u001b[A\n",
            "100%|██████████████████████████████████████| 2.87G/2.87G [00:30<00:00, 101MiB/s]\n",
            "100%|██████████| 10/10 [03:18<00:00, 19.87s/it]"
          ]
        },
        {
          "output_type": "stream",
          "name": "stdout",
          "text": [
            "time: 3min 18s (started: 2023-09-29 18:24:52 +00:00)\n"
          ]
        },
        {
          "output_type": "stream",
          "name": "stderr",
          "text": [
            "\n"
          ]
        }
      ],
      "id": "xAn5sQtO8QId"
    },
    {
      "cell_type": "code",
      "source": [
        "whisper_assessment = pd.DataFrame({\"filename\": filenames})\n",
        "whisper_assessment = pd.concat([whisper_assessment, whisper_df], axis=1)"
      ],
      "metadata": {
        "outputId": "1d1cfcb7-0f7f-443a-93be-a469c741b294",
        "colab": {
          "base_uri": "https://localhost:8080/"
        },
        "id": "r4SQ4MOW8QId"
      },
      "execution_count": 22,
      "outputs": [
        {
          "output_type": "stream",
          "name": "stdout",
          "text": [
            "time: 1.9 ms (started: 2023-09-29 18:28:11 +00:00)\n"
          ]
        }
      ],
      "id": "r4SQ4MOW8QId"
    },
    {
      "cell_type": "code",
      "source": [
        "whisper_assessment = whisper_assessment.merge(manual_transcriptions, left_on='filename', right_on='filename')"
      ],
      "metadata": {
        "outputId": "d469b846-6fcb-4caf-8485-e65aa61ccb4b",
        "colab": {
          "base_uri": "https://localhost:8080/"
        },
        "id": "6sZBTmVf8QId"
      },
      "execution_count": 23,
      "outputs": [
        {
          "output_type": "stream",
          "name": "stdout",
          "text": [
            "time: 71.6 ms (started: 2023-09-29 18:28:11 +00:00)\n"
          ]
        }
      ],
      "id": "6sZBTmVf8QId"
    },
    {
      "cell_type": "code",
      "source": [
        "whisper_assessment"
      ],
      "metadata": {
        "colab": {
          "base_uri": "https://localhost:8080/",
          "height": 1000
        },
        "outputId": "6ff94da0-b870-47e9-b51e-b6c4362b6ae9",
        "id": "KA0Gcd0s8QId"
      },
      "execution_count": 24,
      "outputs": [
        {
          "output_type": "execute_result",
          "data": {
            "text/plain": [
              "                      filename  \\\n",
              "0   911_first6sec/call_8_0.wav   \n",
              "1   911_first6sec/call_9_0.wav   \n",
              "2  911_first6sec/call_10_0.wav   \n",
              "3  911_first6sec/call_11_0.wav   \n",
              "4  911_first6sec/call_15_0.wav   \n",
              "5  911_first6sec/call_17_0.wav   \n",
              "6  911_first6sec/call_20_0.wav   \n",
              "7  911_first6sec/call_21_0.wav   \n",
              "8  911_first6sec/call_28_0.wav   \n",
              "9  911_first6sec/call_31_0.wav   \n",
              "\n",
              "                                                base  \\\n",
              "0             Hello. Hello. Is everything okay? I'm.   \n",
              "1   I need a police officer over here at 7. What'...   \n",
              "2     Ma'am, my kekep was born. I had to go find it.   \n",
              "3   I'm gonna go to the bathroom and close the le...   \n",
              "4      I'm Don Pearson and I just killed two people.   \n",
              "5   We've got a far down here, it's on Route 7, r...   \n",
              "6   You're out of the house yet? No. Or I get out...   \n",
              "7   Yes, it is a police station. Yes, it is. May ...   \n",
              "8       Please send a rescue to I think I'm having a   \n",
              "9   Oh my God, some of these children that they s...   \n",
              "\n",
              "                                              medium  \\\n",
              "0              Hello. Hello. Is everything okay? Um.   \n",
              "1   I need a police officer over here at 7th. Wha...   \n",
              "2   Ma'am, my pickup was stolen. I had to go find...   \n",
              "3   No ma'am I don't. I don't have an emergency. ...   \n",
              "4   I'm Dylan Beards and that has killed two people.   \n",
              "5   We've got a fire down here on Route 7, right ...   \n",
              "6   Are you out of the house yet? No. All right, ...   \n",
              "7   Yes, is this the police station? Yes it is, m...   \n",
              "8          police and rescue to. I think I'm having.   \n",
              "9   Oh my god, so many students at the sheriff's ...   \n",
              "\n",
              "                                               large  \\\n",
              "0    Um, hello. Hello. Is everything okay? Um... ...   \n",
              "1   I need a police officer over here at 7th and ...   \n",
              "2   Ma'am, my pickup was stolen. I had to go find...   \n",
              "3   No ma'am I don't. I don't have an emergency t...   \n",
              "4     I'm Dylan Pierce and I just killed two people.   \n",
              "5   We've got a fire down here on Route 7, right ...   \n",
              "6                          you out of the house yet?   \n",
              "7   Yes, is this the police station? Yes, it is. ...   \n",
              "8     Please send rescue to... I think I'm having...   \n",
              "9   Oh my god, somebody's shooting at the Sheriff...   \n",
              "\n",
              "                               manual_transcriptions  \n",
              "0                  um hello hello is everything okay  \n",
              "1  yes um i need a police officer over here at wh...  \n",
              "2  ma'am my pickup was stolen I had to go find it...  \n",
              "3  no ma'am i don't i don't have an emergency two...  \n",
              "4    I'm Dylon Peterson and i just killed two people  \n",
              "5  yeah we got a fire down here at on route seven...  \n",
              "6  are you out of the house yet no alright get ou...  \n",
              "7  yes is this a police station yes it is may i h...  \n",
              "8          can you please send rescue to i think i'm  \n",
              "9  oh my god somebody is shooting at the sheriff'...  "
            ],
            "text/html": [
              "\n",
              "  <div id=\"df-ca970935-a59e-4c17-88fb-8a72ce132b95\" class=\"colab-df-container\">\n",
              "    <div>\n",
              "<style scoped>\n",
              "    .dataframe tbody tr th:only-of-type {\n",
              "        vertical-align: middle;\n",
              "    }\n",
              "\n",
              "    .dataframe tbody tr th {\n",
              "        vertical-align: top;\n",
              "    }\n",
              "\n",
              "    .dataframe thead th {\n",
              "        text-align: right;\n",
              "    }\n",
              "</style>\n",
              "<table border=\"1\" class=\"dataframe\">\n",
              "  <thead>\n",
              "    <tr style=\"text-align: right;\">\n",
              "      <th></th>\n",
              "      <th>filename</th>\n",
              "      <th>base</th>\n",
              "      <th>medium</th>\n",
              "      <th>large</th>\n",
              "      <th>manual_transcriptions</th>\n",
              "    </tr>\n",
              "  </thead>\n",
              "  <tbody>\n",
              "    <tr>\n",
              "      <th>0</th>\n",
              "      <td>911_first6sec/call_8_0.wav</td>\n",
              "      <td>Hello. Hello. Is everything okay? I'm.</td>\n",
              "      <td>Hello. Hello. Is everything okay? Um.</td>\n",
              "      <td>Um, hello. Hello. Is everything okay? Um... ...</td>\n",
              "      <td>um hello hello is everything okay</td>\n",
              "    </tr>\n",
              "    <tr>\n",
              "      <th>1</th>\n",
              "      <td>911_first6sec/call_9_0.wav</td>\n",
              "      <td>I need a police officer over here at 7. What'...</td>\n",
              "      <td>I need a police officer over here at 7th. Wha...</td>\n",
              "      <td>I need a police officer over here at 7th and ...</td>\n",
              "      <td>yes um i need a police officer over here at wh...</td>\n",
              "    </tr>\n",
              "    <tr>\n",
              "      <th>2</th>\n",
              "      <td>911_first6sec/call_10_0.wav</td>\n",
              "      <td>Ma'am, my kekep was born. I had to go find it.</td>\n",
              "      <td>Ma'am, my pickup was stolen. I had to go find...</td>\n",
              "      <td>Ma'am, my pickup was stolen. I had to go find...</td>\n",
              "      <td>ma'am my pickup was stolen I had to go find it...</td>\n",
              "    </tr>\n",
              "    <tr>\n",
              "      <th>3</th>\n",
              "      <td>911_first6sec/call_11_0.wav</td>\n",
              "      <td>I'm gonna go to the bathroom and close the le...</td>\n",
              "      <td>No ma'am I don't. I don't have an emergency. ...</td>\n",
              "      <td>No ma'am I don't. I don't have an emergency t...</td>\n",
              "      <td>no ma'am i don't i don't have an emergency two...</td>\n",
              "    </tr>\n",
              "    <tr>\n",
              "      <th>4</th>\n",
              "      <td>911_first6sec/call_15_0.wav</td>\n",
              "      <td>I'm Don Pearson and I just killed two people.</td>\n",
              "      <td>I'm Dylan Beards and that has killed two people.</td>\n",
              "      <td>I'm Dylan Pierce and I just killed two people.</td>\n",
              "      <td>I'm Dylon Peterson and i just killed two people</td>\n",
              "    </tr>\n",
              "    <tr>\n",
              "      <th>5</th>\n",
              "      <td>911_first6sec/call_17_0.wav</td>\n",
              "      <td>We've got a far down here, it's on Route 7, r...</td>\n",
              "      <td>We've got a fire down here on Route 7, right ...</td>\n",
              "      <td>We've got a fire down here on Route 7, right ...</td>\n",
              "      <td>yeah we got a fire down here at on route seven...</td>\n",
              "    </tr>\n",
              "    <tr>\n",
              "      <th>6</th>\n",
              "      <td>911_first6sec/call_20_0.wav</td>\n",
              "      <td>You're out of the house yet? No. Or I get out...</td>\n",
              "      <td>Are you out of the house yet? No. All right, ...</td>\n",
              "      <td>you out of the house yet?</td>\n",
              "      <td>are you out of the house yet no alright get ou...</td>\n",
              "    </tr>\n",
              "    <tr>\n",
              "      <th>7</th>\n",
              "      <td>911_first6sec/call_21_0.wav</td>\n",
              "      <td>Yes, it is a police station. Yes, it is. May ...</td>\n",
              "      <td>Yes, is this the police station? Yes it is, m...</td>\n",
              "      <td>Yes, is this the police station? Yes, it is. ...</td>\n",
              "      <td>yes is this a police station yes it is may i h...</td>\n",
              "    </tr>\n",
              "    <tr>\n",
              "      <th>8</th>\n",
              "      <td>911_first6sec/call_28_0.wav</td>\n",
              "      <td>Please send a rescue to I think I'm having a</td>\n",
              "      <td>police and rescue to. I think I'm having.</td>\n",
              "      <td>Please send rescue to... I think I'm having...</td>\n",
              "      <td>can you please send rescue to i think i'm</td>\n",
              "    </tr>\n",
              "    <tr>\n",
              "      <th>9</th>\n",
              "      <td>911_first6sec/call_31_0.wav</td>\n",
              "      <td>Oh my God, some of these children that they s...</td>\n",
              "      <td>Oh my god, so many students at the sheriff's ...</td>\n",
              "      <td>Oh my god, somebody's shooting at the Sheriff...</td>\n",
              "      <td>oh my god somebody is shooting at the sheriff'...</td>\n",
              "    </tr>\n",
              "  </tbody>\n",
              "</table>\n",
              "</div>\n",
              "    <div class=\"colab-df-buttons\">\n",
              "\n",
              "  <div class=\"colab-df-container\">\n",
              "    <button class=\"colab-df-convert\" onclick=\"convertToInteractive('df-ca970935-a59e-4c17-88fb-8a72ce132b95')\"\n",
              "            title=\"Convert this dataframe to an interactive table.\"\n",
              "            style=\"display:none;\">\n",
              "\n",
              "  <svg xmlns=\"http://www.w3.org/2000/svg\" height=\"24px\" viewBox=\"0 -960 960 960\">\n",
              "    <path d=\"M120-120v-720h720v720H120Zm60-500h600v-160H180v160Zm220 220h160v-160H400v160Zm0 220h160v-160H400v160ZM180-400h160v-160H180v160Zm440 0h160v-160H620v160ZM180-180h160v-160H180v160Zm440 0h160v-160H620v160Z\"/>\n",
              "  </svg>\n",
              "    </button>\n",
              "\n",
              "  <style>\n",
              "    .colab-df-container {\n",
              "      display:flex;\n",
              "      gap: 12px;\n",
              "    }\n",
              "\n",
              "    .colab-df-convert {\n",
              "      background-color: #E8F0FE;\n",
              "      border: none;\n",
              "      border-radius: 50%;\n",
              "      cursor: pointer;\n",
              "      display: none;\n",
              "      fill: #1967D2;\n",
              "      height: 32px;\n",
              "      padding: 0 0 0 0;\n",
              "      width: 32px;\n",
              "    }\n",
              "\n",
              "    .colab-df-convert:hover {\n",
              "      background-color: #E2EBFA;\n",
              "      box-shadow: 0px 1px 2px rgba(60, 64, 67, 0.3), 0px 1px 3px 1px rgba(60, 64, 67, 0.15);\n",
              "      fill: #174EA6;\n",
              "    }\n",
              "\n",
              "    .colab-df-buttons div {\n",
              "      margin-bottom: 4px;\n",
              "    }\n",
              "\n",
              "    [theme=dark] .colab-df-convert {\n",
              "      background-color: #3B4455;\n",
              "      fill: #D2E3FC;\n",
              "    }\n",
              "\n",
              "    [theme=dark] .colab-df-convert:hover {\n",
              "      background-color: #434B5C;\n",
              "      box-shadow: 0px 1px 3px 1px rgba(0, 0, 0, 0.15);\n",
              "      filter: drop-shadow(0px 1px 2px rgba(0, 0, 0, 0.3));\n",
              "      fill: #FFFFFF;\n",
              "    }\n",
              "  </style>\n",
              "\n",
              "    <script>\n",
              "      const buttonEl =\n",
              "        document.querySelector('#df-ca970935-a59e-4c17-88fb-8a72ce132b95 button.colab-df-convert');\n",
              "      buttonEl.style.display =\n",
              "        google.colab.kernel.accessAllowed ? 'block' : 'none';\n",
              "\n",
              "      async function convertToInteractive(key) {\n",
              "        const element = document.querySelector('#df-ca970935-a59e-4c17-88fb-8a72ce132b95');\n",
              "        const dataTable =\n",
              "          await google.colab.kernel.invokeFunction('convertToInteractive',\n",
              "                                                    [key], {});\n",
              "        if (!dataTable) return;\n",
              "\n",
              "        const docLinkHtml = 'Like what you see? Visit the ' +\n",
              "          '<a target=\"_blank\" href=https://colab.research.google.com/notebooks/data_table.ipynb>data table notebook</a>'\n",
              "          + ' to learn more about interactive tables.';\n",
              "        element.innerHTML = '';\n",
              "        dataTable['output_type'] = 'display_data';\n",
              "        await google.colab.output.renderOutput(dataTable, element);\n",
              "        const docLink = document.createElement('div');\n",
              "        docLink.innerHTML = docLinkHtml;\n",
              "        element.appendChild(docLink);\n",
              "      }\n",
              "    </script>\n",
              "  </div>\n",
              "\n",
              "\n",
              "<div id=\"df-587125fe-61eb-480c-9db5-061b17b0974a\">\n",
              "  <button class=\"colab-df-quickchart\" onclick=\"quickchart('df-587125fe-61eb-480c-9db5-061b17b0974a')\"\n",
              "            title=\"Suggest charts.\"\n",
              "            style=\"display:none;\">\n",
              "\n",
              "<svg xmlns=\"http://www.w3.org/2000/svg\" height=\"24px\"viewBox=\"0 0 24 24\"\n",
              "     width=\"24px\">\n",
              "    <g>\n",
              "        <path d=\"M19 3H5c-1.1 0-2 .9-2 2v14c0 1.1.9 2 2 2h14c1.1 0 2-.9 2-2V5c0-1.1-.9-2-2-2zM9 17H7v-7h2v7zm4 0h-2V7h2v10zm4 0h-2v-4h2v4z\"/>\n",
              "    </g>\n",
              "</svg>\n",
              "  </button>\n",
              "\n",
              "<style>\n",
              "  .colab-df-quickchart {\n",
              "      --bg-color: #E8F0FE;\n",
              "      --fill-color: #1967D2;\n",
              "      --hover-bg-color: #E2EBFA;\n",
              "      --hover-fill-color: #174EA6;\n",
              "      --disabled-fill-color: #AAA;\n",
              "      --disabled-bg-color: #DDD;\n",
              "  }\n",
              "\n",
              "  [theme=dark] .colab-df-quickchart {\n",
              "      --bg-color: #3B4455;\n",
              "      --fill-color: #D2E3FC;\n",
              "      --hover-bg-color: #434B5C;\n",
              "      --hover-fill-color: #FFFFFF;\n",
              "      --disabled-bg-color: #3B4455;\n",
              "      --disabled-fill-color: #666;\n",
              "  }\n",
              "\n",
              "  .colab-df-quickchart {\n",
              "    background-color: var(--bg-color);\n",
              "    border: none;\n",
              "    border-radius: 50%;\n",
              "    cursor: pointer;\n",
              "    display: none;\n",
              "    fill: var(--fill-color);\n",
              "    height: 32px;\n",
              "    padding: 0;\n",
              "    width: 32px;\n",
              "  }\n",
              "\n",
              "  .colab-df-quickchart:hover {\n",
              "    background-color: var(--hover-bg-color);\n",
              "    box-shadow: 0 1px 2px rgba(60, 64, 67, 0.3), 0 1px 3px 1px rgba(60, 64, 67, 0.15);\n",
              "    fill: var(--button-hover-fill-color);\n",
              "  }\n",
              "\n",
              "  .colab-df-quickchart-complete:disabled,\n",
              "  .colab-df-quickchart-complete:disabled:hover {\n",
              "    background-color: var(--disabled-bg-color);\n",
              "    fill: var(--disabled-fill-color);\n",
              "    box-shadow: none;\n",
              "  }\n",
              "\n",
              "  .colab-df-spinner {\n",
              "    border: 2px solid var(--fill-color);\n",
              "    border-color: transparent;\n",
              "    border-bottom-color: var(--fill-color);\n",
              "    animation:\n",
              "      spin 1s steps(1) infinite;\n",
              "  }\n",
              "\n",
              "  @keyframes spin {\n",
              "    0% {\n",
              "      border-color: transparent;\n",
              "      border-bottom-color: var(--fill-color);\n",
              "      border-left-color: var(--fill-color);\n",
              "    }\n",
              "    20% {\n",
              "      border-color: transparent;\n",
              "      border-left-color: var(--fill-color);\n",
              "      border-top-color: var(--fill-color);\n",
              "    }\n",
              "    30% {\n",
              "      border-color: transparent;\n",
              "      border-left-color: var(--fill-color);\n",
              "      border-top-color: var(--fill-color);\n",
              "      border-right-color: var(--fill-color);\n",
              "    }\n",
              "    40% {\n",
              "      border-color: transparent;\n",
              "      border-right-color: var(--fill-color);\n",
              "      border-top-color: var(--fill-color);\n",
              "    }\n",
              "    60% {\n",
              "      border-color: transparent;\n",
              "      border-right-color: var(--fill-color);\n",
              "    }\n",
              "    80% {\n",
              "      border-color: transparent;\n",
              "      border-right-color: var(--fill-color);\n",
              "      border-bottom-color: var(--fill-color);\n",
              "    }\n",
              "    90% {\n",
              "      border-color: transparent;\n",
              "      border-bottom-color: var(--fill-color);\n",
              "    }\n",
              "  }\n",
              "</style>\n",
              "\n",
              "  <script>\n",
              "    async function quickchart(key) {\n",
              "      const quickchartButtonEl =\n",
              "        document.querySelector('#' + key + ' button');\n",
              "      quickchartButtonEl.disabled = true;  // To prevent multiple clicks.\n",
              "      quickchartButtonEl.classList.add('colab-df-spinner');\n",
              "      try {\n",
              "        const charts = await google.colab.kernel.invokeFunction(\n",
              "            'suggestCharts', [key], {});\n",
              "      } catch (error) {\n",
              "        console.error('Error during call to suggestCharts:', error);\n",
              "      }\n",
              "      quickchartButtonEl.classList.remove('colab-df-spinner');\n",
              "      quickchartButtonEl.classList.add('colab-df-quickchart-complete');\n",
              "    }\n",
              "    (() => {\n",
              "      let quickchartButtonEl =\n",
              "        document.querySelector('#df-587125fe-61eb-480c-9db5-061b17b0974a button');\n",
              "      quickchartButtonEl.style.display =\n",
              "        google.colab.kernel.accessAllowed ? 'block' : 'none';\n",
              "    })();\n",
              "  </script>\n",
              "</div>\n",
              "    </div>\n",
              "  </div>\n"
            ]
          },
          "metadata": {},
          "execution_count": 24
        },
        {
          "output_type": "stream",
          "name": "stdout",
          "text": [
            "time: 13 ms (started: 2023-09-29 18:28:11 +00:00)\n"
          ]
        }
      ],
      "id": "KA0Gcd0s8QId"
    },
    {
      "cell_type": "markdown",
      "source": [
        "### Assess Transcriptions"
      ],
      "metadata": {
        "id": "PBxSsX0r8QIt"
      },
      "id": "PBxSsX0r8QIt"
    },
    {
      "cell_type": "code",
      "source": [
        "whisper_scores_series = whisper_assessment.progress_apply(similar, axis=1, indices=whisper_models)\n",
        "whisper_scores_list = whisper_scores_series.values.tolist()\n",
        "whisper_scores = pd.DataFrame(whisper_scores_list).rename(whisper_column_names, axis=1)"
      ],
      "metadata": {
        "outputId": "35ea42fa-b95a-4d83-d13e-8d850cec46c9",
        "colab": {
          "base_uri": "https://localhost:8080/"
        },
        "id": "I5a1CLli8QIt"
      },
      "execution_count": 36,
      "outputs": [
        {
          "output_type": "stream",
          "name": "stderr",
          "text": [
            "100%|██████████| 10/10 [00:00<00:00, 443.49it/s]"
          ]
        },
        {
          "output_type": "stream",
          "name": "stdout",
          "text": [
            "time: 31.2 ms (started: 2023-09-29 16:52:10 +00:00)\n"
          ]
        },
        {
          "output_type": "stream",
          "name": "stderr",
          "text": [
            "\n"
          ]
        }
      ],
      "id": "I5a1CLli8QIt"
    },
    {
      "cell_type": "code",
      "source": [
        "print(whisper_scores.mean().sort_values(ascending=False))"
      ],
      "metadata": {
        "colab": {
          "base_uri": "https://localhost:8080/"
        },
        "id": "Qpf14_UE1QKI",
        "outputId": "f56bdfc1-9c37-4bc5-99d2-e66f52318eef"
      },
      "id": "Qpf14_UE1QKI",
      "execution_count": 37,
      "outputs": [
        {
          "output_type": "stream",
          "name": "stdout",
          "text": [
            "medium    0.808133\n",
            "large     0.755207\n",
            "base      0.741748\n",
            "dtype: float64\n",
            "time: 8.7 ms (started: 2023-09-29 16:52:13 +00:00)\n"
          ]
        }
      ]
    },
    {
      "cell_type": "markdown",
      "source": [
        "Interestingly the medium model performed better than the large model, with performance roughlt equivalent to the vosk gigaspeech model, lets comoare their time benhcmarks next."
      ],
      "metadata": {
        "id": "0CmFRVnV8QIt"
      },
      "id": "0CmFRVnV8QIt"
    },
    {
      "cell_type": "markdown",
      "source": [
        "### Vosk Gigaspeech vs Whisper Medium - Time Benchmark"
      ],
      "metadata": {
        "id": "M1CHgFSa2wN6"
      },
      "id": "M1CHgFSa2wN6"
    },
    {
      "cell_type": "code",
      "source": [
        "def time_transcribe(filename, transcriber, models):\n",
        "  timer = timeit.Timer(\n",
        "    lambda: transcriber(filename, filter_noise=True, models=models))\n",
        "  return timer.timeit(1)"
      ],
      "metadata": {
        "colab": {
          "base_uri": "https://localhost:8080/"
        },
        "id": "fugsNnye50NZ",
        "outputId": "e7f5ae3a-6d80-471f-9322-8866463633c9"
      },
      "id": "fugsNnye50NZ",
      "execution_count": 17,
      "outputs": [
        {
          "output_type": "stream",
          "name": "stdout",
          "text": [
            "time: 610 µs (started: 2023-09-29 18:06:32 +00:00)\n"
          ]
        }
      ]
    },
    {
      "cell_type": "code",
      "source": [
        "whisper_models = ['medium']\n",
        "whisper_time = filenames.progress_apply(time_transcribe, transcriber=transcribe_whisper, models=whisper_models)"
      ],
      "metadata": {
        "colab": {
          "base_uri": "https://localhost:8080/"
        },
        "id": "h83STiNN2_Lv",
        "outputId": "e8c98d2d-5bb2-4bb4-ebda-ca1ae155974f"
      },
      "id": "h83STiNN2_Lv",
      "execution_count": 23,
      "outputs": [
        {
          "output_type": "stream",
          "name": "stderr",
          "text": [
            "100%|██████████| 10/10 [00:51<00:00,  5.13s/it]"
          ]
        },
        {
          "output_type": "stream",
          "name": "stdout",
          "text": [
            "time: 51.3 s (started: 2023-09-29 18:01:20 +00:00)\n"
          ]
        },
        {
          "output_type": "stream",
          "name": "stderr",
          "text": [
            "\n"
          ]
        }
      ]
    },
    {
      "cell_type": "code",
      "source": [
        "transcribe_time = pd.DataFrame(filenames)\n",
        "transcribe_time['whisper_time'] = whisper_time\n",
        "transcribe_time"
      ],
      "metadata": {
        "colab": {
          "base_uri": "https://localhost:8080/",
          "height": 380
        },
        "id": "x83rWzJN5sA5",
        "outputId": "48608bf3-2a06-4a07-963b-667ab78bef2d"
      },
      "id": "x83rWzJN5sA5",
      "execution_count": 24,
      "outputs": [
        {
          "output_type": "execute_result",
          "data": {
            "text/plain": [
              "                      filename  whisper_time\n",
              "0   911_first6sec/call_8_0.wav     38.522525\n",
              "1   911_first6sec/call_9_0.wav      1.369517\n",
              "2  911_first6sec/call_10_0.wav      1.215789\n",
              "3  911_first6sec/call_11_0.wav      1.404257\n",
              "4  911_first6sec/call_15_0.wav      0.955023\n",
              "5  911_first6sec/call_17_0.wav      1.127166\n",
              "6  911_first6sec/call_20_0.wav      1.734471\n",
              "7  911_first6sec/call_21_0.wav      1.755536\n",
              "8  911_first6sec/call_28_0.wav      0.982879\n",
              "9  911_first6sec/call_31_0.wav      2.022964"
            ],
            "text/html": [
              "\n",
              "  <div id=\"df-1669d0b3-42a7-434c-84da-7685916f1805\" class=\"colab-df-container\">\n",
              "    <div>\n",
              "<style scoped>\n",
              "    .dataframe tbody tr th:only-of-type {\n",
              "        vertical-align: middle;\n",
              "    }\n",
              "\n",
              "    .dataframe tbody tr th {\n",
              "        vertical-align: top;\n",
              "    }\n",
              "\n",
              "    .dataframe thead th {\n",
              "        text-align: right;\n",
              "    }\n",
              "</style>\n",
              "<table border=\"1\" class=\"dataframe\">\n",
              "  <thead>\n",
              "    <tr style=\"text-align: right;\">\n",
              "      <th></th>\n",
              "      <th>filename</th>\n",
              "      <th>whisper_time</th>\n",
              "    </tr>\n",
              "  </thead>\n",
              "  <tbody>\n",
              "    <tr>\n",
              "      <th>0</th>\n",
              "      <td>911_first6sec/call_8_0.wav</td>\n",
              "      <td>38.522525</td>\n",
              "    </tr>\n",
              "    <tr>\n",
              "      <th>1</th>\n",
              "      <td>911_first6sec/call_9_0.wav</td>\n",
              "      <td>1.369517</td>\n",
              "    </tr>\n",
              "    <tr>\n",
              "      <th>2</th>\n",
              "      <td>911_first6sec/call_10_0.wav</td>\n",
              "      <td>1.215789</td>\n",
              "    </tr>\n",
              "    <tr>\n",
              "      <th>3</th>\n",
              "      <td>911_first6sec/call_11_0.wav</td>\n",
              "      <td>1.404257</td>\n",
              "    </tr>\n",
              "    <tr>\n",
              "      <th>4</th>\n",
              "      <td>911_first6sec/call_15_0.wav</td>\n",
              "      <td>0.955023</td>\n",
              "    </tr>\n",
              "    <tr>\n",
              "      <th>5</th>\n",
              "      <td>911_first6sec/call_17_0.wav</td>\n",
              "      <td>1.127166</td>\n",
              "    </tr>\n",
              "    <tr>\n",
              "      <th>6</th>\n",
              "      <td>911_first6sec/call_20_0.wav</td>\n",
              "      <td>1.734471</td>\n",
              "    </tr>\n",
              "    <tr>\n",
              "      <th>7</th>\n",
              "      <td>911_first6sec/call_21_0.wav</td>\n",
              "      <td>1.755536</td>\n",
              "    </tr>\n",
              "    <tr>\n",
              "      <th>8</th>\n",
              "      <td>911_first6sec/call_28_0.wav</td>\n",
              "      <td>0.982879</td>\n",
              "    </tr>\n",
              "    <tr>\n",
              "      <th>9</th>\n",
              "      <td>911_first6sec/call_31_0.wav</td>\n",
              "      <td>2.022964</td>\n",
              "    </tr>\n",
              "  </tbody>\n",
              "</table>\n",
              "</div>\n",
              "    <div class=\"colab-df-buttons\">\n",
              "\n",
              "  <div class=\"colab-df-container\">\n",
              "    <button class=\"colab-df-convert\" onclick=\"convertToInteractive('df-1669d0b3-42a7-434c-84da-7685916f1805')\"\n",
              "            title=\"Convert this dataframe to an interactive table.\"\n",
              "            style=\"display:none;\">\n",
              "\n",
              "  <svg xmlns=\"http://www.w3.org/2000/svg\" height=\"24px\" viewBox=\"0 -960 960 960\">\n",
              "    <path d=\"M120-120v-720h720v720H120Zm60-500h600v-160H180v160Zm220 220h160v-160H400v160Zm0 220h160v-160H400v160ZM180-400h160v-160H180v160Zm440 0h160v-160H620v160ZM180-180h160v-160H180v160Zm440 0h160v-160H620v160Z\"/>\n",
              "  </svg>\n",
              "    </button>\n",
              "\n",
              "  <style>\n",
              "    .colab-df-container {\n",
              "      display:flex;\n",
              "      gap: 12px;\n",
              "    }\n",
              "\n",
              "    .colab-df-convert {\n",
              "      background-color: #E8F0FE;\n",
              "      border: none;\n",
              "      border-radius: 50%;\n",
              "      cursor: pointer;\n",
              "      display: none;\n",
              "      fill: #1967D2;\n",
              "      height: 32px;\n",
              "      padding: 0 0 0 0;\n",
              "      width: 32px;\n",
              "    }\n",
              "\n",
              "    .colab-df-convert:hover {\n",
              "      background-color: #E2EBFA;\n",
              "      box-shadow: 0px 1px 2px rgba(60, 64, 67, 0.3), 0px 1px 3px 1px rgba(60, 64, 67, 0.15);\n",
              "      fill: #174EA6;\n",
              "    }\n",
              "\n",
              "    .colab-df-buttons div {\n",
              "      margin-bottom: 4px;\n",
              "    }\n",
              "\n",
              "    [theme=dark] .colab-df-convert {\n",
              "      background-color: #3B4455;\n",
              "      fill: #D2E3FC;\n",
              "    }\n",
              "\n",
              "    [theme=dark] .colab-df-convert:hover {\n",
              "      background-color: #434B5C;\n",
              "      box-shadow: 0px 1px 3px 1px rgba(0, 0, 0, 0.15);\n",
              "      filter: drop-shadow(0px 1px 2px rgba(0, 0, 0, 0.3));\n",
              "      fill: #FFFFFF;\n",
              "    }\n",
              "  </style>\n",
              "\n",
              "    <script>\n",
              "      const buttonEl =\n",
              "        document.querySelector('#df-1669d0b3-42a7-434c-84da-7685916f1805 button.colab-df-convert');\n",
              "      buttonEl.style.display =\n",
              "        google.colab.kernel.accessAllowed ? 'block' : 'none';\n",
              "\n",
              "      async function convertToInteractive(key) {\n",
              "        const element = document.querySelector('#df-1669d0b3-42a7-434c-84da-7685916f1805');\n",
              "        const dataTable =\n",
              "          await google.colab.kernel.invokeFunction('convertToInteractive',\n",
              "                                                    [key], {});\n",
              "        if (!dataTable) return;\n",
              "\n",
              "        const docLinkHtml = 'Like what you see? Visit the ' +\n",
              "          '<a target=\"_blank\" href=https://colab.research.google.com/notebooks/data_table.ipynb>data table notebook</a>'\n",
              "          + ' to learn more about interactive tables.';\n",
              "        element.innerHTML = '';\n",
              "        dataTable['output_type'] = 'display_data';\n",
              "        await google.colab.output.renderOutput(dataTable, element);\n",
              "        const docLink = document.createElement('div');\n",
              "        docLink.innerHTML = docLinkHtml;\n",
              "        element.appendChild(docLink);\n",
              "      }\n",
              "    </script>\n",
              "  </div>\n",
              "\n",
              "\n",
              "<div id=\"df-4bf97f06-558e-451c-836f-ff1f0957dc5d\">\n",
              "  <button class=\"colab-df-quickchart\" onclick=\"quickchart('df-4bf97f06-558e-451c-836f-ff1f0957dc5d')\"\n",
              "            title=\"Suggest charts.\"\n",
              "            style=\"display:none;\">\n",
              "\n",
              "<svg xmlns=\"http://www.w3.org/2000/svg\" height=\"24px\"viewBox=\"0 0 24 24\"\n",
              "     width=\"24px\">\n",
              "    <g>\n",
              "        <path d=\"M19 3H5c-1.1 0-2 .9-2 2v14c0 1.1.9 2 2 2h14c1.1 0 2-.9 2-2V5c0-1.1-.9-2-2-2zM9 17H7v-7h2v7zm4 0h-2V7h2v10zm4 0h-2v-4h2v4z\"/>\n",
              "    </g>\n",
              "</svg>\n",
              "  </button>\n",
              "\n",
              "<style>\n",
              "  .colab-df-quickchart {\n",
              "      --bg-color: #E8F0FE;\n",
              "      --fill-color: #1967D2;\n",
              "      --hover-bg-color: #E2EBFA;\n",
              "      --hover-fill-color: #174EA6;\n",
              "      --disabled-fill-color: #AAA;\n",
              "      --disabled-bg-color: #DDD;\n",
              "  }\n",
              "\n",
              "  [theme=dark] .colab-df-quickchart {\n",
              "      --bg-color: #3B4455;\n",
              "      --fill-color: #D2E3FC;\n",
              "      --hover-bg-color: #434B5C;\n",
              "      --hover-fill-color: #FFFFFF;\n",
              "      --disabled-bg-color: #3B4455;\n",
              "      --disabled-fill-color: #666;\n",
              "  }\n",
              "\n",
              "  .colab-df-quickchart {\n",
              "    background-color: var(--bg-color);\n",
              "    border: none;\n",
              "    border-radius: 50%;\n",
              "    cursor: pointer;\n",
              "    display: none;\n",
              "    fill: var(--fill-color);\n",
              "    height: 32px;\n",
              "    padding: 0;\n",
              "    width: 32px;\n",
              "  }\n",
              "\n",
              "  .colab-df-quickchart:hover {\n",
              "    background-color: var(--hover-bg-color);\n",
              "    box-shadow: 0 1px 2px rgba(60, 64, 67, 0.3), 0 1px 3px 1px rgba(60, 64, 67, 0.15);\n",
              "    fill: var(--button-hover-fill-color);\n",
              "  }\n",
              "\n",
              "  .colab-df-quickchart-complete:disabled,\n",
              "  .colab-df-quickchart-complete:disabled:hover {\n",
              "    background-color: var(--disabled-bg-color);\n",
              "    fill: var(--disabled-fill-color);\n",
              "    box-shadow: none;\n",
              "  }\n",
              "\n",
              "  .colab-df-spinner {\n",
              "    border: 2px solid var(--fill-color);\n",
              "    border-color: transparent;\n",
              "    border-bottom-color: var(--fill-color);\n",
              "    animation:\n",
              "      spin 1s steps(1) infinite;\n",
              "  }\n",
              "\n",
              "  @keyframes spin {\n",
              "    0% {\n",
              "      border-color: transparent;\n",
              "      border-bottom-color: var(--fill-color);\n",
              "      border-left-color: var(--fill-color);\n",
              "    }\n",
              "    20% {\n",
              "      border-color: transparent;\n",
              "      border-left-color: var(--fill-color);\n",
              "      border-top-color: var(--fill-color);\n",
              "    }\n",
              "    30% {\n",
              "      border-color: transparent;\n",
              "      border-left-color: var(--fill-color);\n",
              "      border-top-color: var(--fill-color);\n",
              "      border-right-color: var(--fill-color);\n",
              "    }\n",
              "    40% {\n",
              "      border-color: transparent;\n",
              "      border-right-color: var(--fill-color);\n",
              "      border-top-color: var(--fill-color);\n",
              "    }\n",
              "    60% {\n",
              "      border-color: transparent;\n",
              "      border-right-color: var(--fill-color);\n",
              "    }\n",
              "    80% {\n",
              "      border-color: transparent;\n",
              "      border-right-color: var(--fill-color);\n",
              "      border-bottom-color: var(--fill-color);\n",
              "    }\n",
              "    90% {\n",
              "      border-color: transparent;\n",
              "      border-bottom-color: var(--fill-color);\n",
              "    }\n",
              "  }\n",
              "</style>\n",
              "\n",
              "  <script>\n",
              "    async function quickchart(key) {\n",
              "      const quickchartButtonEl =\n",
              "        document.querySelector('#' + key + ' button');\n",
              "      quickchartButtonEl.disabled = true;  // To prevent multiple clicks.\n",
              "      quickchartButtonEl.classList.add('colab-df-spinner');\n",
              "      try {\n",
              "        const charts = await google.colab.kernel.invokeFunction(\n",
              "            'suggestCharts', [key], {});\n",
              "      } catch (error) {\n",
              "        console.error('Error during call to suggestCharts:', error);\n",
              "      }\n",
              "      quickchartButtonEl.classList.remove('colab-df-spinner');\n",
              "      quickchartButtonEl.classList.add('colab-df-quickchart-complete');\n",
              "    }\n",
              "    (() => {\n",
              "      let quickchartButtonEl =\n",
              "        document.querySelector('#df-4bf97f06-558e-451c-836f-ff1f0957dc5d button');\n",
              "      quickchartButtonEl.style.display =\n",
              "        google.colab.kernel.accessAllowed ? 'block' : 'none';\n",
              "    })();\n",
              "  </script>\n",
              "</div>\n",
              "    </div>\n",
              "  </div>\n"
            ]
          },
          "metadata": {},
          "execution_count": 24
        },
        {
          "output_type": "stream",
          "name": "stdout",
          "text": [
            "time: 18.9 ms (started: 2023-09-29 18:02:13 +00:00)\n"
          ]
        }
      ]
    },
    {
      "cell_type": "markdown",
      "source": [
        "We can see a longer time for the first transcription, most likely as a result of loading the model to memory, but after that consistently fast performance."
      ],
      "metadata": {
        "id": "V6SEdIz-JzGg"
      },
      "id": "V6SEdIz-JzGg"
    },
    {
      "cell_type": "code",
      "source": [
        "vosk_models = ['vosk-model-en-us-0.42-gigaspeech']\n",
        "vosk_time = filenames.progress_apply(time_transcribe, transcriber=transcribe_vosk, models=vosk_models)"
      ],
      "metadata": {
        "colab": {
          "base_uri": "https://localhost:8080/"
        },
        "id": "9-Ao55MG63Qn",
        "outputId": "d603dc6f-be68-48f8-b7ec-458fb4b68311"
      },
      "id": "9-Ao55MG63Qn",
      "execution_count": 18,
      "outputs": [
        {
          "output_type": "stream",
          "name": "stderr",
          "text": [
            "100%|██████████| 10/10 [07:58<00:00, 47.83s/it]"
          ]
        },
        {
          "output_type": "stream",
          "name": "stdout",
          "text": [
            "time: 7min 58s (started: 2023-09-29 18:06:33 +00:00)\n"
          ]
        },
        {
          "output_type": "stream",
          "name": "stderr",
          "text": [
            "\n"
          ]
        }
      ]
    },
    {
      "cell_type": "code",
      "source": [
        "transcribe_time = pd.DataFrame(filenames)\n",
        "transcribe_time['vosk_time'] = vosk_time\n",
        "transcribe_time"
      ],
      "metadata": {
        "colab": {
          "base_uri": "https://localhost:8080/",
          "height": 380
        },
        "id": "YIY7lKiD_S9w",
        "outputId": "55c8db7e-9d93-4021-bd50-16573cb6a868"
      },
      "id": "YIY7lKiD_S9w",
      "execution_count": 19,
      "outputs": [
        {
          "output_type": "execute_result",
          "data": {
            "text/plain": [
              "                      filename  vosk_time\n",
              "0   911_first6sec/call_8_0.wav  44.812025\n",
              "1   911_first6sec/call_9_0.wav  44.612384\n",
              "2  911_first6sec/call_10_0.wav  49.292902\n",
              "3  911_first6sec/call_11_0.wav  47.072907\n",
              "4  911_first6sec/call_15_0.wav  43.161186\n",
              "5  911_first6sec/call_17_0.wav  47.722744\n",
              "6  911_first6sec/call_20_0.wav  52.146974\n",
              "7  911_first6sec/call_21_0.wav  47.600496\n",
              "8  911_first6sec/call_28_0.wav  49.787880\n",
              "9  911_first6sec/call_31_0.wav  52.042737"
            ],
            "text/html": [
              "\n",
              "  <div id=\"df-8e028224-375a-4f30-bfdf-c57a63b3a79f\" class=\"colab-df-container\">\n",
              "    <div>\n",
              "<style scoped>\n",
              "    .dataframe tbody tr th:only-of-type {\n",
              "        vertical-align: middle;\n",
              "    }\n",
              "\n",
              "    .dataframe tbody tr th {\n",
              "        vertical-align: top;\n",
              "    }\n",
              "\n",
              "    .dataframe thead th {\n",
              "        text-align: right;\n",
              "    }\n",
              "</style>\n",
              "<table border=\"1\" class=\"dataframe\">\n",
              "  <thead>\n",
              "    <tr style=\"text-align: right;\">\n",
              "      <th></th>\n",
              "      <th>filename</th>\n",
              "      <th>vosk_time</th>\n",
              "    </tr>\n",
              "  </thead>\n",
              "  <tbody>\n",
              "    <tr>\n",
              "      <th>0</th>\n",
              "      <td>911_first6sec/call_8_0.wav</td>\n",
              "      <td>44.812025</td>\n",
              "    </tr>\n",
              "    <tr>\n",
              "      <th>1</th>\n",
              "      <td>911_first6sec/call_9_0.wav</td>\n",
              "      <td>44.612384</td>\n",
              "    </tr>\n",
              "    <tr>\n",
              "      <th>2</th>\n",
              "      <td>911_first6sec/call_10_0.wav</td>\n",
              "      <td>49.292902</td>\n",
              "    </tr>\n",
              "    <tr>\n",
              "      <th>3</th>\n",
              "      <td>911_first6sec/call_11_0.wav</td>\n",
              "      <td>47.072907</td>\n",
              "    </tr>\n",
              "    <tr>\n",
              "      <th>4</th>\n",
              "      <td>911_first6sec/call_15_0.wav</td>\n",
              "      <td>43.161186</td>\n",
              "    </tr>\n",
              "    <tr>\n",
              "      <th>5</th>\n",
              "      <td>911_first6sec/call_17_0.wav</td>\n",
              "      <td>47.722744</td>\n",
              "    </tr>\n",
              "    <tr>\n",
              "      <th>6</th>\n",
              "      <td>911_first6sec/call_20_0.wav</td>\n",
              "      <td>52.146974</td>\n",
              "    </tr>\n",
              "    <tr>\n",
              "      <th>7</th>\n",
              "      <td>911_first6sec/call_21_0.wav</td>\n",
              "      <td>47.600496</td>\n",
              "    </tr>\n",
              "    <tr>\n",
              "      <th>8</th>\n",
              "      <td>911_first6sec/call_28_0.wav</td>\n",
              "      <td>49.787880</td>\n",
              "    </tr>\n",
              "    <tr>\n",
              "      <th>9</th>\n",
              "      <td>911_first6sec/call_31_0.wav</td>\n",
              "      <td>52.042737</td>\n",
              "    </tr>\n",
              "  </tbody>\n",
              "</table>\n",
              "</div>\n",
              "    <div class=\"colab-df-buttons\">\n",
              "\n",
              "  <div class=\"colab-df-container\">\n",
              "    <button class=\"colab-df-convert\" onclick=\"convertToInteractive('df-8e028224-375a-4f30-bfdf-c57a63b3a79f')\"\n",
              "            title=\"Convert this dataframe to an interactive table.\"\n",
              "            style=\"display:none;\">\n",
              "\n",
              "  <svg xmlns=\"http://www.w3.org/2000/svg\" height=\"24px\" viewBox=\"0 -960 960 960\">\n",
              "    <path d=\"M120-120v-720h720v720H120Zm60-500h600v-160H180v160Zm220 220h160v-160H400v160Zm0 220h160v-160H400v160ZM180-400h160v-160H180v160Zm440 0h160v-160H620v160ZM180-180h160v-160H180v160Zm440 0h160v-160H620v160Z\"/>\n",
              "  </svg>\n",
              "    </button>\n",
              "\n",
              "  <style>\n",
              "    .colab-df-container {\n",
              "      display:flex;\n",
              "      gap: 12px;\n",
              "    }\n",
              "\n",
              "    .colab-df-convert {\n",
              "      background-color: #E8F0FE;\n",
              "      border: none;\n",
              "      border-radius: 50%;\n",
              "      cursor: pointer;\n",
              "      display: none;\n",
              "      fill: #1967D2;\n",
              "      height: 32px;\n",
              "      padding: 0 0 0 0;\n",
              "      width: 32px;\n",
              "    }\n",
              "\n",
              "    .colab-df-convert:hover {\n",
              "      background-color: #E2EBFA;\n",
              "      box-shadow: 0px 1px 2px rgba(60, 64, 67, 0.3), 0px 1px 3px 1px rgba(60, 64, 67, 0.15);\n",
              "      fill: #174EA6;\n",
              "    }\n",
              "\n",
              "    .colab-df-buttons div {\n",
              "      margin-bottom: 4px;\n",
              "    }\n",
              "\n",
              "    [theme=dark] .colab-df-convert {\n",
              "      background-color: #3B4455;\n",
              "      fill: #D2E3FC;\n",
              "    }\n",
              "\n",
              "    [theme=dark] .colab-df-convert:hover {\n",
              "      background-color: #434B5C;\n",
              "      box-shadow: 0px 1px 3px 1px rgba(0, 0, 0, 0.15);\n",
              "      filter: drop-shadow(0px 1px 2px rgba(0, 0, 0, 0.3));\n",
              "      fill: #FFFFFF;\n",
              "    }\n",
              "  </style>\n",
              "\n",
              "    <script>\n",
              "      const buttonEl =\n",
              "        document.querySelector('#df-8e028224-375a-4f30-bfdf-c57a63b3a79f button.colab-df-convert');\n",
              "      buttonEl.style.display =\n",
              "        google.colab.kernel.accessAllowed ? 'block' : 'none';\n",
              "\n",
              "      async function convertToInteractive(key) {\n",
              "        const element = document.querySelector('#df-8e028224-375a-4f30-bfdf-c57a63b3a79f');\n",
              "        const dataTable =\n",
              "          await google.colab.kernel.invokeFunction('convertToInteractive',\n",
              "                                                    [key], {});\n",
              "        if (!dataTable) return;\n",
              "\n",
              "        const docLinkHtml = 'Like what you see? Visit the ' +\n",
              "          '<a target=\"_blank\" href=https://colab.research.google.com/notebooks/data_table.ipynb>data table notebook</a>'\n",
              "          + ' to learn more about interactive tables.';\n",
              "        element.innerHTML = '';\n",
              "        dataTable['output_type'] = 'display_data';\n",
              "        await google.colab.output.renderOutput(dataTable, element);\n",
              "        const docLink = document.createElement('div');\n",
              "        docLink.innerHTML = docLinkHtml;\n",
              "        element.appendChild(docLink);\n",
              "      }\n",
              "    </script>\n",
              "  </div>\n",
              "\n",
              "\n",
              "<div id=\"df-fe6ae736-c5be-4ddb-8650-6f3abc77cc1f\">\n",
              "  <button class=\"colab-df-quickchart\" onclick=\"quickchart('df-fe6ae736-c5be-4ddb-8650-6f3abc77cc1f')\"\n",
              "            title=\"Suggest charts.\"\n",
              "            style=\"display:none;\">\n",
              "\n",
              "<svg xmlns=\"http://www.w3.org/2000/svg\" height=\"24px\"viewBox=\"0 0 24 24\"\n",
              "     width=\"24px\">\n",
              "    <g>\n",
              "        <path d=\"M19 3H5c-1.1 0-2 .9-2 2v14c0 1.1.9 2 2 2h14c1.1 0 2-.9 2-2V5c0-1.1-.9-2-2-2zM9 17H7v-7h2v7zm4 0h-2V7h2v10zm4 0h-2v-4h2v4z\"/>\n",
              "    </g>\n",
              "</svg>\n",
              "  </button>\n",
              "\n",
              "<style>\n",
              "  .colab-df-quickchart {\n",
              "      --bg-color: #E8F0FE;\n",
              "      --fill-color: #1967D2;\n",
              "      --hover-bg-color: #E2EBFA;\n",
              "      --hover-fill-color: #174EA6;\n",
              "      --disabled-fill-color: #AAA;\n",
              "      --disabled-bg-color: #DDD;\n",
              "  }\n",
              "\n",
              "  [theme=dark] .colab-df-quickchart {\n",
              "      --bg-color: #3B4455;\n",
              "      --fill-color: #D2E3FC;\n",
              "      --hover-bg-color: #434B5C;\n",
              "      --hover-fill-color: #FFFFFF;\n",
              "      --disabled-bg-color: #3B4455;\n",
              "      --disabled-fill-color: #666;\n",
              "  }\n",
              "\n",
              "  .colab-df-quickchart {\n",
              "    background-color: var(--bg-color);\n",
              "    border: none;\n",
              "    border-radius: 50%;\n",
              "    cursor: pointer;\n",
              "    display: none;\n",
              "    fill: var(--fill-color);\n",
              "    height: 32px;\n",
              "    padding: 0;\n",
              "    width: 32px;\n",
              "  }\n",
              "\n",
              "  .colab-df-quickchart:hover {\n",
              "    background-color: var(--hover-bg-color);\n",
              "    box-shadow: 0 1px 2px rgba(60, 64, 67, 0.3), 0 1px 3px 1px rgba(60, 64, 67, 0.15);\n",
              "    fill: var(--button-hover-fill-color);\n",
              "  }\n",
              "\n",
              "  .colab-df-quickchart-complete:disabled,\n",
              "  .colab-df-quickchart-complete:disabled:hover {\n",
              "    background-color: var(--disabled-bg-color);\n",
              "    fill: var(--disabled-fill-color);\n",
              "    box-shadow: none;\n",
              "  }\n",
              "\n",
              "  .colab-df-spinner {\n",
              "    border: 2px solid var(--fill-color);\n",
              "    border-color: transparent;\n",
              "    border-bottom-color: var(--fill-color);\n",
              "    animation:\n",
              "      spin 1s steps(1) infinite;\n",
              "  }\n",
              "\n",
              "  @keyframes spin {\n",
              "    0% {\n",
              "      border-color: transparent;\n",
              "      border-bottom-color: var(--fill-color);\n",
              "      border-left-color: var(--fill-color);\n",
              "    }\n",
              "    20% {\n",
              "      border-color: transparent;\n",
              "      border-left-color: var(--fill-color);\n",
              "      border-top-color: var(--fill-color);\n",
              "    }\n",
              "    30% {\n",
              "      border-color: transparent;\n",
              "      border-left-color: var(--fill-color);\n",
              "      border-top-color: var(--fill-color);\n",
              "      border-right-color: var(--fill-color);\n",
              "    }\n",
              "    40% {\n",
              "      border-color: transparent;\n",
              "      border-right-color: var(--fill-color);\n",
              "      border-top-color: var(--fill-color);\n",
              "    }\n",
              "    60% {\n",
              "      border-color: transparent;\n",
              "      border-right-color: var(--fill-color);\n",
              "    }\n",
              "    80% {\n",
              "      border-color: transparent;\n",
              "      border-right-color: var(--fill-color);\n",
              "      border-bottom-color: var(--fill-color);\n",
              "    }\n",
              "    90% {\n",
              "      border-color: transparent;\n",
              "      border-bottom-color: var(--fill-color);\n",
              "    }\n",
              "  }\n",
              "</style>\n",
              "\n",
              "  <script>\n",
              "    async function quickchart(key) {\n",
              "      const quickchartButtonEl =\n",
              "        document.querySelector('#' + key + ' button');\n",
              "      quickchartButtonEl.disabled = true;  // To prevent multiple clicks.\n",
              "      quickchartButtonEl.classList.add('colab-df-spinner');\n",
              "      try {\n",
              "        const charts = await google.colab.kernel.invokeFunction(\n",
              "            'suggestCharts', [key], {});\n",
              "      } catch (error) {\n",
              "        console.error('Error during call to suggestCharts:', error);\n",
              "      }\n",
              "      quickchartButtonEl.classList.remove('colab-df-spinner');\n",
              "      quickchartButtonEl.classList.add('colab-df-quickchart-complete');\n",
              "    }\n",
              "    (() => {\n",
              "      let quickchartButtonEl =\n",
              "        document.querySelector('#df-fe6ae736-c5be-4ddb-8650-6f3abc77cc1f button');\n",
              "      quickchartButtonEl.style.display =\n",
              "        google.colab.kernel.accessAllowed ? 'block' : 'none';\n",
              "    })();\n",
              "  </script>\n",
              "</div>\n",
              "    </div>\n",
              "  </div>\n"
            ]
          },
          "metadata": {},
          "execution_count": 19
        },
        {
          "output_type": "stream",
          "name": "stdout",
          "text": [
            "time: 30.6 ms (started: 2023-09-29 18:15:19 +00:00)\n"
          ]
        }
      ]
    },
    {
      "cell_type": "markdown",
      "source": [
        "This model is much slower, and with having almost equal accuracy to whisper, we will choose the whisper-medium model as our transcription model."
      ],
      "metadata": {
        "id": "31DuDhpKKAgm"
      },
      "id": "31DuDhpKKAgm"
    },
    {
      "cell_type": "markdown",
      "source": [
        "## Transcribing the Dataset"
      ],
      "metadata": {
        "id": "IJ2Ga--AMzxv"
      },
      "id": "IJ2Ga--AMzxv"
    },
    {
      "cell_type": "code",
      "source": [
        "metadata_df = pd.read_csv(metadata_path)"
      ],
      "metadata": {
        "id": "IaIIx7onN4Dn",
        "outputId": "d004b56b-d188-4986-b1be-9a459423a1c2",
        "colab": {
          "base_uri": "https://localhost:8080/"
        }
      },
      "id": "IaIIx7onN4Dn",
      "execution_count": 24,
      "outputs": [
        {
          "output_type": "stream",
          "name": "stdout",
          "text": [
            "time: 5.11 s (started: 2023-09-29 18:56:13 +00:00)\n"
          ]
        }
      ]
    },
    {
      "cell_type": "code",
      "source": [
        "filenames = pd.Series(metadata_df['filename'].unique())"
      ],
      "metadata": {
        "id": "cxRhQ900OVpJ",
        "outputId": "e56274bd-9074-48b5-f945-298b123a63ee",
        "colab": {
          "base_uri": "https://localhost:8080/"
        }
      },
      "id": "cxRhQ900OVpJ",
      "execution_count": 27,
      "outputs": [
        {
          "output_type": "stream",
          "name": "stdout",
          "text": [
            "time: 1.37 ms (started: 2023-09-29 18:56:45 +00:00)\n"
          ]
        }
      ]
    },
    {
      "cell_type": "code",
      "source": [
        "whisper_models = ['medium']\n",
        "whisper_series = filenames.progress_apply(\n",
        "    transcribe_whisper, filter_noise=True, models=whisper_models)\n",
        "whisper_column_names = {\n",
        "    k: v for k, v in enumerate(whisper_models)\n",
        "  }\n",
        "whisper_list = whisper_series.values.tolist()\n",
        "whisper_df = pd.DataFrame(whisper_list).rename(whisper_column_names, axis=1)"
      ],
      "metadata": {
        "id": "jqerVJy7PCXc"
      },
      "id": "jqerVJy7PCXc",
      "execution_count": null,
      "outputs": []
    },
    {
      "cell_type": "code",
      "source": [
        "whisper_df"
      ],
      "metadata": {
        "id": "jYbyL8o8cPb2",
        "outputId": "64a0ec7a-9025-44d2-80d2-05d1766f5abf",
        "colab": {
          "base_uri": "https://localhost:8080/",
          "height": 441
        }
      },
      "id": "jYbyL8o8cPb2",
      "execution_count": 29,
      "outputs": [
        {
          "output_type": "execute_result",
          "data": {
            "text/plain": [
              "                                                medium\n",
              "0                               My mom had a bad time.\n",
              "1                Hello. Hello. Is everything okay? Um.\n",
              "2     I need a police officer over here at 7th. Wha...\n",
              "3     Ma'am, my pickup was stolen. I had to go find...\n",
              "4     No ma'am I don't. I don't have an emergency. ...\n",
              "..                                                 ...\n",
              "702     She's not waking up. Okay. What's her address?\n",
              "703   I just shot the Mormon bishop over here on Tu...\n",
              "704   And this guy has a gun in my hat. I need the ...\n",
              "705   There are like at least four or five people w...\n",
              "706   I'm going to call my studies, this is her, by...\n",
              "\n",
              "[707 rows x 1 columns]"
            ],
            "text/html": [
              "\n",
              "  <div id=\"df-62d74676-e7bc-4a65-a9fb-9193a7f90984\" class=\"colab-df-container\">\n",
              "    <div>\n",
              "<style scoped>\n",
              "    .dataframe tbody tr th:only-of-type {\n",
              "        vertical-align: middle;\n",
              "    }\n",
              "\n",
              "    .dataframe tbody tr th {\n",
              "        vertical-align: top;\n",
              "    }\n",
              "\n",
              "    .dataframe thead th {\n",
              "        text-align: right;\n",
              "    }\n",
              "</style>\n",
              "<table border=\"1\" class=\"dataframe\">\n",
              "  <thead>\n",
              "    <tr style=\"text-align: right;\">\n",
              "      <th></th>\n",
              "      <th>medium</th>\n",
              "    </tr>\n",
              "  </thead>\n",
              "  <tbody>\n",
              "    <tr>\n",
              "      <th>0</th>\n",
              "      <td>My mom had a bad time.</td>\n",
              "    </tr>\n",
              "    <tr>\n",
              "      <th>1</th>\n",
              "      <td>Hello. Hello. Is everything okay? Um.</td>\n",
              "    </tr>\n",
              "    <tr>\n",
              "      <th>2</th>\n",
              "      <td>I need a police officer over here at 7th. Wha...</td>\n",
              "    </tr>\n",
              "    <tr>\n",
              "      <th>3</th>\n",
              "      <td>Ma'am, my pickup was stolen. I had to go find...</td>\n",
              "    </tr>\n",
              "    <tr>\n",
              "      <th>4</th>\n",
              "      <td>No ma'am I don't. I don't have an emergency. ...</td>\n",
              "    </tr>\n",
              "    <tr>\n",
              "      <th>...</th>\n",
              "      <td>...</td>\n",
              "    </tr>\n",
              "    <tr>\n",
              "      <th>702</th>\n",
              "      <td>She's not waking up. Okay. What's her address?</td>\n",
              "    </tr>\n",
              "    <tr>\n",
              "      <th>703</th>\n",
              "      <td>I just shot the Mormon bishop over here on Tu...</td>\n",
              "    </tr>\n",
              "    <tr>\n",
              "      <th>704</th>\n",
              "      <td>And this guy has a gun in my hat. I need the ...</td>\n",
              "    </tr>\n",
              "    <tr>\n",
              "      <th>705</th>\n",
              "      <td>There are like at least four or five people w...</td>\n",
              "    </tr>\n",
              "    <tr>\n",
              "      <th>706</th>\n",
              "      <td>I'm going to call my studies, this is her, by...</td>\n",
              "    </tr>\n",
              "  </tbody>\n",
              "</table>\n",
              "<p>707 rows × 1 columns</p>\n",
              "</div>\n",
              "    <div class=\"colab-df-buttons\">\n",
              "\n",
              "  <div class=\"colab-df-container\">\n",
              "    <button class=\"colab-df-convert\" onclick=\"convertToInteractive('df-62d74676-e7bc-4a65-a9fb-9193a7f90984')\"\n",
              "            title=\"Convert this dataframe to an interactive table.\"\n",
              "            style=\"display:none;\">\n",
              "\n",
              "  <svg xmlns=\"http://www.w3.org/2000/svg\" height=\"24px\" viewBox=\"0 -960 960 960\">\n",
              "    <path d=\"M120-120v-720h720v720H120Zm60-500h600v-160H180v160Zm220 220h160v-160H400v160Zm0 220h160v-160H400v160ZM180-400h160v-160H180v160Zm440 0h160v-160H620v160ZM180-180h160v-160H180v160Zm440 0h160v-160H620v160Z\"/>\n",
              "  </svg>\n",
              "    </button>\n",
              "\n",
              "  <style>\n",
              "    .colab-df-container {\n",
              "      display:flex;\n",
              "      gap: 12px;\n",
              "    }\n",
              "\n",
              "    .colab-df-convert {\n",
              "      background-color: #E8F0FE;\n",
              "      border: none;\n",
              "      border-radius: 50%;\n",
              "      cursor: pointer;\n",
              "      display: none;\n",
              "      fill: #1967D2;\n",
              "      height: 32px;\n",
              "      padding: 0 0 0 0;\n",
              "      width: 32px;\n",
              "    }\n",
              "\n",
              "    .colab-df-convert:hover {\n",
              "      background-color: #E2EBFA;\n",
              "      box-shadow: 0px 1px 2px rgba(60, 64, 67, 0.3), 0px 1px 3px 1px rgba(60, 64, 67, 0.15);\n",
              "      fill: #174EA6;\n",
              "    }\n",
              "\n",
              "    .colab-df-buttons div {\n",
              "      margin-bottom: 4px;\n",
              "    }\n",
              "\n",
              "    [theme=dark] .colab-df-convert {\n",
              "      background-color: #3B4455;\n",
              "      fill: #D2E3FC;\n",
              "    }\n",
              "\n",
              "    [theme=dark] .colab-df-convert:hover {\n",
              "      background-color: #434B5C;\n",
              "      box-shadow: 0px 1px 3px 1px rgba(0, 0, 0, 0.15);\n",
              "      filter: drop-shadow(0px 1px 2px rgba(0, 0, 0, 0.3));\n",
              "      fill: #FFFFFF;\n",
              "    }\n",
              "  </style>\n",
              "\n",
              "    <script>\n",
              "      const buttonEl =\n",
              "        document.querySelector('#df-62d74676-e7bc-4a65-a9fb-9193a7f90984 button.colab-df-convert');\n",
              "      buttonEl.style.display =\n",
              "        google.colab.kernel.accessAllowed ? 'block' : 'none';\n",
              "\n",
              "      async function convertToInteractive(key) {\n",
              "        const element = document.querySelector('#df-62d74676-e7bc-4a65-a9fb-9193a7f90984');\n",
              "        const dataTable =\n",
              "          await google.colab.kernel.invokeFunction('convertToInteractive',\n",
              "                                                    [key], {});\n",
              "        if (!dataTable) return;\n",
              "\n",
              "        const docLinkHtml = 'Like what you see? Visit the ' +\n",
              "          '<a target=\"_blank\" href=https://colab.research.google.com/notebooks/data_table.ipynb>data table notebook</a>'\n",
              "          + ' to learn more about interactive tables.';\n",
              "        element.innerHTML = '';\n",
              "        dataTable['output_type'] = 'display_data';\n",
              "        await google.colab.output.renderOutput(dataTable, element);\n",
              "        const docLink = document.createElement('div');\n",
              "        docLink.innerHTML = docLinkHtml;\n",
              "        element.appendChild(docLink);\n",
              "      }\n",
              "    </script>\n",
              "  </div>\n",
              "\n",
              "\n",
              "<div id=\"df-b466f18e-c568-4684-aa4a-7630e50eb6ad\">\n",
              "  <button class=\"colab-df-quickchart\" onclick=\"quickchart('df-b466f18e-c568-4684-aa4a-7630e50eb6ad')\"\n",
              "            title=\"Suggest charts.\"\n",
              "            style=\"display:none;\">\n",
              "\n",
              "<svg xmlns=\"http://www.w3.org/2000/svg\" height=\"24px\"viewBox=\"0 0 24 24\"\n",
              "     width=\"24px\">\n",
              "    <g>\n",
              "        <path d=\"M19 3H5c-1.1 0-2 .9-2 2v14c0 1.1.9 2 2 2h14c1.1 0 2-.9 2-2V5c0-1.1-.9-2-2-2zM9 17H7v-7h2v7zm4 0h-2V7h2v10zm4 0h-2v-4h2v4z\"/>\n",
              "    </g>\n",
              "</svg>\n",
              "  </button>\n",
              "\n",
              "<style>\n",
              "  .colab-df-quickchart {\n",
              "      --bg-color: #E8F0FE;\n",
              "      --fill-color: #1967D2;\n",
              "      --hover-bg-color: #E2EBFA;\n",
              "      --hover-fill-color: #174EA6;\n",
              "      --disabled-fill-color: #AAA;\n",
              "      --disabled-bg-color: #DDD;\n",
              "  }\n",
              "\n",
              "  [theme=dark] .colab-df-quickchart {\n",
              "      --bg-color: #3B4455;\n",
              "      --fill-color: #D2E3FC;\n",
              "      --hover-bg-color: #434B5C;\n",
              "      --hover-fill-color: #FFFFFF;\n",
              "      --disabled-bg-color: #3B4455;\n",
              "      --disabled-fill-color: #666;\n",
              "  }\n",
              "\n",
              "  .colab-df-quickchart {\n",
              "    background-color: var(--bg-color);\n",
              "    border: none;\n",
              "    border-radius: 50%;\n",
              "    cursor: pointer;\n",
              "    display: none;\n",
              "    fill: var(--fill-color);\n",
              "    height: 32px;\n",
              "    padding: 0;\n",
              "    width: 32px;\n",
              "  }\n",
              "\n",
              "  .colab-df-quickchart:hover {\n",
              "    background-color: var(--hover-bg-color);\n",
              "    box-shadow: 0 1px 2px rgba(60, 64, 67, 0.3), 0 1px 3px 1px rgba(60, 64, 67, 0.15);\n",
              "    fill: var(--button-hover-fill-color);\n",
              "  }\n",
              "\n",
              "  .colab-df-quickchart-complete:disabled,\n",
              "  .colab-df-quickchart-complete:disabled:hover {\n",
              "    background-color: var(--disabled-bg-color);\n",
              "    fill: var(--disabled-fill-color);\n",
              "    box-shadow: none;\n",
              "  }\n",
              "\n",
              "  .colab-df-spinner {\n",
              "    border: 2px solid var(--fill-color);\n",
              "    border-color: transparent;\n",
              "    border-bottom-color: var(--fill-color);\n",
              "    animation:\n",
              "      spin 1s steps(1) infinite;\n",
              "  }\n",
              "\n",
              "  @keyframes spin {\n",
              "    0% {\n",
              "      border-color: transparent;\n",
              "      border-bottom-color: var(--fill-color);\n",
              "      border-left-color: var(--fill-color);\n",
              "    }\n",
              "    20% {\n",
              "      border-color: transparent;\n",
              "      border-left-color: var(--fill-color);\n",
              "      border-top-color: var(--fill-color);\n",
              "    }\n",
              "    30% {\n",
              "      border-color: transparent;\n",
              "      border-left-color: var(--fill-color);\n",
              "      border-top-color: var(--fill-color);\n",
              "      border-right-color: var(--fill-color);\n",
              "    }\n",
              "    40% {\n",
              "      border-color: transparent;\n",
              "      border-right-color: var(--fill-color);\n",
              "      border-top-color: var(--fill-color);\n",
              "    }\n",
              "    60% {\n",
              "      border-color: transparent;\n",
              "      border-right-color: var(--fill-color);\n",
              "    }\n",
              "    80% {\n",
              "      border-color: transparent;\n",
              "      border-right-color: var(--fill-color);\n",
              "      border-bottom-color: var(--fill-color);\n",
              "    }\n",
              "    90% {\n",
              "      border-color: transparent;\n",
              "      border-bottom-color: var(--fill-color);\n",
              "    }\n",
              "  }\n",
              "</style>\n",
              "\n",
              "  <script>\n",
              "    async function quickchart(key) {\n",
              "      const quickchartButtonEl =\n",
              "        document.querySelector('#' + key + ' button');\n",
              "      quickchartButtonEl.disabled = true;  // To prevent multiple clicks.\n",
              "      quickchartButtonEl.classList.add('colab-df-spinner');\n",
              "      try {\n",
              "        const charts = await google.colab.kernel.invokeFunction(\n",
              "            'suggestCharts', [key], {});\n",
              "      } catch (error) {\n",
              "        console.error('Error during call to suggestCharts:', error);\n",
              "      }\n",
              "      quickchartButtonEl.classList.remove('colab-df-spinner');\n",
              "      quickchartButtonEl.classList.add('colab-df-quickchart-complete');\n",
              "    }\n",
              "    (() => {\n",
              "      let quickchartButtonEl =\n",
              "        document.querySelector('#df-b466f18e-c568-4684-aa4a-7630e50eb6ad button');\n",
              "      quickchartButtonEl.style.display =\n",
              "        google.colab.kernel.accessAllowed ? 'block' : 'none';\n",
              "    })();\n",
              "  </script>\n",
              "</div>\n",
              "    </div>\n",
              "  </div>\n"
            ]
          },
          "metadata": {},
          "execution_count": 29
        },
        {
          "output_type": "stream",
          "name": "stdout",
          "text": [
            "time: 35.6 ms (started: 2023-09-29 19:36:12 +00:00)\n"
          ]
        }
      ]
    },
    {
      "cell_type": "code",
      "source": [
        "filenames = filenames.rename('filename')\n",
        "filenames_df = pd.DataFrame(filenames)\n",
        "transcriptions_df = pd.concat([filenames, whisper_df], axis=1)"
      ],
      "metadata": {
        "id": "SLDCH-99cXu2",
        "outputId": "93057d6a-288f-4b6f-aa1f-50c4040bdbb5",
        "colab": {
          "base_uri": "https://localhost:8080/"
        }
      },
      "id": "SLDCH-99cXu2",
      "execution_count": 37,
      "outputs": [
        {
          "output_type": "stream",
          "name": "stdout",
          "text": [
            "time: 4.44 ms (started: 2023-09-29 19:39:22 +00:00)\n"
          ]
        }
      ]
    },
    {
      "cell_type": "code",
      "source": [
        "transcriptions_df.head(10)"
      ],
      "metadata": {
        "id": "kVxIClhpdACV",
        "outputId": "6b6904c9-ffd6-4071-b42e-2604ec5b8781",
        "colab": {
          "base_uri": "https://localhost:8080/",
          "height": 380
        }
      },
      "id": "kVxIClhpdACV",
      "execution_count": 38,
      "outputs": [
        {
          "output_type": "execute_result",
          "data": {
            "text/plain": [
              "                      filename  \\\n",
              "0   911_first6sec/call_2_0.wav   \n",
              "1   911_first6sec/call_8_0.wav   \n",
              "2   911_first6sec/call_9_0.wav   \n",
              "3  911_first6sec/call_10_0.wav   \n",
              "4  911_first6sec/call_11_0.wav   \n",
              "5  911_first6sec/call_12_0.wav   \n",
              "6  911_first6sec/call_13_0.wav   \n",
              "7  911_first6sec/call_15_0.wav   \n",
              "8  911_first6sec/call_16_0.wav   \n",
              "9  911_first6sec/call_17_0.wav   \n",
              "\n",
              "                                              medium  \n",
              "0                             My mom had a bad time.  \n",
              "1              Hello. Hello. Is everything okay? Um.  \n",
              "2   I need a police officer over here at 7th. Wha...  \n",
              "3   Ma'am, my pickup was stolen. I had to go find...  \n",
              "4   No ma'am I don't. I don't have an emergency. ...  \n",
              "5                                              shirt  \n",
              "6   We're winning, ma'am. Police! What's going on...  \n",
              "7   I'm Dylan Beards and that has killed two people.  \n",
              "8   ambulance, the police officer at one. OK, you...  \n",
              "9   We've got a fire down here on Route 7, right ...  "
            ],
            "text/html": [
              "\n",
              "  <div id=\"df-ee99aef3-9de7-4b14-abeb-efa1e68335ca\" class=\"colab-df-container\">\n",
              "    <div>\n",
              "<style scoped>\n",
              "    .dataframe tbody tr th:only-of-type {\n",
              "        vertical-align: middle;\n",
              "    }\n",
              "\n",
              "    .dataframe tbody tr th {\n",
              "        vertical-align: top;\n",
              "    }\n",
              "\n",
              "    .dataframe thead th {\n",
              "        text-align: right;\n",
              "    }\n",
              "</style>\n",
              "<table border=\"1\" class=\"dataframe\">\n",
              "  <thead>\n",
              "    <tr style=\"text-align: right;\">\n",
              "      <th></th>\n",
              "      <th>filename</th>\n",
              "      <th>medium</th>\n",
              "    </tr>\n",
              "  </thead>\n",
              "  <tbody>\n",
              "    <tr>\n",
              "      <th>0</th>\n",
              "      <td>911_first6sec/call_2_0.wav</td>\n",
              "      <td>My mom had a bad time.</td>\n",
              "    </tr>\n",
              "    <tr>\n",
              "      <th>1</th>\n",
              "      <td>911_first6sec/call_8_0.wav</td>\n",
              "      <td>Hello. Hello. Is everything okay? Um.</td>\n",
              "    </tr>\n",
              "    <tr>\n",
              "      <th>2</th>\n",
              "      <td>911_first6sec/call_9_0.wav</td>\n",
              "      <td>I need a police officer over here at 7th. Wha...</td>\n",
              "    </tr>\n",
              "    <tr>\n",
              "      <th>3</th>\n",
              "      <td>911_first6sec/call_10_0.wav</td>\n",
              "      <td>Ma'am, my pickup was stolen. I had to go find...</td>\n",
              "    </tr>\n",
              "    <tr>\n",
              "      <th>4</th>\n",
              "      <td>911_first6sec/call_11_0.wav</td>\n",
              "      <td>No ma'am I don't. I don't have an emergency. ...</td>\n",
              "    </tr>\n",
              "    <tr>\n",
              "      <th>5</th>\n",
              "      <td>911_first6sec/call_12_0.wav</td>\n",
              "      <td>shirt</td>\n",
              "    </tr>\n",
              "    <tr>\n",
              "      <th>6</th>\n",
              "      <td>911_first6sec/call_13_0.wav</td>\n",
              "      <td>We're winning, ma'am. Police! What's going on...</td>\n",
              "    </tr>\n",
              "    <tr>\n",
              "      <th>7</th>\n",
              "      <td>911_first6sec/call_15_0.wav</td>\n",
              "      <td>I'm Dylan Beards and that has killed two people.</td>\n",
              "    </tr>\n",
              "    <tr>\n",
              "      <th>8</th>\n",
              "      <td>911_first6sec/call_16_0.wav</td>\n",
              "      <td>ambulance, the police officer at one. OK, you...</td>\n",
              "    </tr>\n",
              "    <tr>\n",
              "      <th>9</th>\n",
              "      <td>911_first6sec/call_17_0.wav</td>\n",
              "      <td>We've got a fire down here on Route 7, right ...</td>\n",
              "    </tr>\n",
              "  </tbody>\n",
              "</table>\n",
              "</div>\n",
              "    <div class=\"colab-df-buttons\">\n",
              "\n",
              "  <div class=\"colab-df-container\">\n",
              "    <button class=\"colab-df-convert\" onclick=\"convertToInteractive('df-ee99aef3-9de7-4b14-abeb-efa1e68335ca')\"\n",
              "            title=\"Convert this dataframe to an interactive table.\"\n",
              "            style=\"display:none;\">\n",
              "\n",
              "  <svg xmlns=\"http://www.w3.org/2000/svg\" height=\"24px\" viewBox=\"0 -960 960 960\">\n",
              "    <path d=\"M120-120v-720h720v720H120Zm60-500h600v-160H180v160Zm220 220h160v-160H400v160Zm0 220h160v-160H400v160ZM180-400h160v-160H180v160Zm440 0h160v-160H620v160ZM180-180h160v-160H180v160Zm440 0h160v-160H620v160Z\"/>\n",
              "  </svg>\n",
              "    </button>\n",
              "\n",
              "  <style>\n",
              "    .colab-df-container {\n",
              "      display:flex;\n",
              "      gap: 12px;\n",
              "    }\n",
              "\n",
              "    .colab-df-convert {\n",
              "      background-color: #E8F0FE;\n",
              "      border: none;\n",
              "      border-radius: 50%;\n",
              "      cursor: pointer;\n",
              "      display: none;\n",
              "      fill: #1967D2;\n",
              "      height: 32px;\n",
              "      padding: 0 0 0 0;\n",
              "      width: 32px;\n",
              "    }\n",
              "\n",
              "    .colab-df-convert:hover {\n",
              "      background-color: #E2EBFA;\n",
              "      box-shadow: 0px 1px 2px rgba(60, 64, 67, 0.3), 0px 1px 3px 1px rgba(60, 64, 67, 0.15);\n",
              "      fill: #174EA6;\n",
              "    }\n",
              "\n",
              "    .colab-df-buttons div {\n",
              "      margin-bottom: 4px;\n",
              "    }\n",
              "\n",
              "    [theme=dark] .colab-df-convert {\n",
              "      background-color: #3B4455;\n",
              "      fill: #D2E3FC;\n",
              "    }\n",
              "\n",
              "    [theme=dark] .colab-df-convert:hover {\n",
              "      background-color: #434B5C;\n",
              "      box-shadow: 0px 1px 3px 1px rgba(0, 0, 0, 0.15);\n",
              "      filter: drop-shadow(0px 1px 2px rgba(0, 0, 0, 0.3));\n",
              "      fill: #FFFFFF;\n",
              "    }\n",
              "  </style>\n",
              "\n",
              "    <script>\n",
              "      const buttonEl =\n",
              "        document.querySelector('#df-ee99aef3-9de7-4b14-abeb-efa1e68335ca button.colab-df-convert');\n",
              "      buttonEl.style.display =\n",
              "        google.colab.kernel.accessAllowed ? 'block' : 'none';\n",
              "\n",
              "      async function convertToInteractive(key) {\n",
              "        const element = document.querySelector('#df-ee99aef3-9de7-4b14-abeb-efa1e68335ca');\n",
              "        const dataTable =\n",
              "          await google.colab.kernel.invokeFunction('convertToInteractive',\n",
              "                                                    [key], {});\n",
              "        if (!dataTable) return;\n",
              "\n",
              "        const docLinkHtml = 'Like what you see? Visit the ' +\n",
              "          '<a target=\"_blank\" href=https://colab.research.google.com/notebooks/data_table.ipynb>data table notebook</a>'\n",
              "          + ' to learn more about interactive tables.';\n",
              "        element.innerHTML = '';\n",
              "        dataTable['output_type'] = 'display_data';\n",
              "        await google.colab.output.renderOutput(dataTable, element);\n",
              "        const docLink = document.createElement('div');\n",
              "        docLink.innerHTML = docLinkHtml;\n",
              "        element.appendChild(docLink);\n",
              "      }\n",
              "    </script>\n",
              "  </div>\n",
              "\n",
              "\n",
              "<div id=\"df-8f618233-6147-4b8c-9ed9-3b93c1e0d3ec\">\n",
              "  <button class=\"colab-df-quickchart\" onclick=\"quickchart('df-8f618233-6147-4b8c-9ed9-3b93c1e0d3ec')\"\n",
              "            title=\"Suggest charts.\"\n",
              "            style=\"display:none;\">\n",
              "\n",
              "<svg xmlns=\"http://www.w3.org/2000/svg\" height=\"24px\"viewBox=\"0 0 24 24\"\n",
              "     width=\"24px\">\n",
              "    <g>\n",
              "        <path d=\"M19 3H5c-1.1 0-2 .9-2 2v14c0 1.1.9 2 2 2h14c1.1 0 2-.9 2-2V5c0-1.1-.9-2-2-2zM9 17H7v-7h2v7zm4 0h-2V7h2v10zm4 0h-2v-4h2v4z\"/>\n",
              "    </g>\n",
              "</svg>\n",
              "  </button>\n",
              "\n",
              "<style>\n",
              "  .colab-df-quickchart {\n",
              "      --bg-color: #E8F0FE;\n",
              "      --fill-color: #1967D2;\n",
              "      --hover-bg-color: #E2EBFA;\n",
              "      --hover-fill-color: #174EA6;\n",
              "      --disabled-fill-color: #AAA;\n",
              "      --disabled-bg-color: #DDD;\n",
              "  }\n",
              "\n",
              "  [theme=dark] .colab-df-quickchart {\n",
              "      --bg-color: #3B4455;\n",
              "      --fill-color: #D2E3FC;\n",
              "      --hover-bg-color: #434B5C;\n",
              "      --hover-fill-color: #FFFFFF;\n",
              "      --disabled-bg-color: #3B4455;\n",
              "      --disabled-fill-color: #666;\n",
              "  }\n",
              "\n",
              "  .colab-df-quickchart {\n",
              "    background-color: var(--bg-color);\n",
              "    border: none;\n",
              "    border-radius: 50%;\n",
              "    cursor: pointer;\n",
              "    display: none;\n",
              "    fill: var(--fill-color);\n",
              "    height: 32px;\n",
              "    padding: 0;\n",
              "    width: 32px;\n",
              "  }\n",
              "\n",
              "  .colab-df-quickchart:hover {\n",
              "    background-color: var(--hover-bg-color);\n",
              "    box-shadow: 0 1px 2px rgba(60, 64, 67, 0.3), 0 1px 3px 1px rgba(60, 64, 67, 0.15);\n",
              "    fill: var(--button-hover-fill-color);\n",
              "  }\n",
              "\n",
              "  .colab-df-quickchart-complete:disabled,\n",
              "  .colab-df-quickchart-complete:disabled:hover {\n",
              "    background-color: var(--disabled-bg-color);\n",
              "    fill: var(--disabled-fill-color);\n",
              "    box-shadow: none;\n",
              "  }\n",
              "\n",
              "  .colab-df-spinner {\n",
              "    border: 2px solid var(--fill-color);\n",
              "    border-color: transparent;\n",
              "    border-bottom-color: var(--fill-color);\n",
              "    animation:\n",
              "      spin 1s steps(1) infinite;\n",
              "  }\n",
              "\n",
              "  @keyframes spin {\n",
              "    0% {\n",
              "      border-color: transparent;\n",
              "      border-bottom-color: var(--fill-color);\n",
              "      border-left-color: var(--fill-color);\n",
              "    }\n",
              "    20% {\n",
              "      border-color: transparent;\n",
              "      border-left-color: var(--fill-color);\n",
              "      border-top-color: var(--fill-color);\n",
              "    }\n",
              "    30% {\n",
              "      border-color: transparent;\n",
              "      border-left-color: var(--fill-color);\n",
              "      border-top-color: var(--fill-color);\n",
              "      border-right-color: var(--fill-color);\n",
              "    }\n",
              "    40% {\n",
              "      border-color: transparent;\n",
              "      border-right-color: var(--fill-color);\n",
              "      border-top-color: var(--fill-color);\n",
              "    }\n",
              "    60% {\n",
              "      border-color: transparent;\n",
              "      border-right-color: var(--fill-color);\n",
              "    }\n",
              "    80% {\n",
              "      border-color: transparent;\n",
              "      border-right-color: var(--fill-color);\n",
              "      border-bottom-color: var(--fill-color);\n",
              "    }\n",
              "    90% {\n",
              "      border-color: transparent;\n",
              "      border-bottom-color: var(--fill-color);\n",
              "    }\n",
              "  }\n",
              "</style>\n",
              "\n",
              "  <script>\n",
              "    async function quickchart(key) {\n",
              "      const quickchartButtonEl =\n",
              "        document.querySelector('#' + key + ' button');\n",
              "      quickchartButtonEl.disabled = true;  // To prevent multiple clicks.\n",
              "      quickchartButtonEl.classList.add('colab-df-spinner');\n",
              "      try {\n",
              "        const charts = await google.colab.kernel.invokeFunction(\n",
              "            'suggestCharts', [key], {});\n",
              "      } catch (error) {\n",
              "        console.error('Error during call to suggestCharts:', error);\n",
              "      }\n",
              "      quickchartButtonEl.classList.remove('colab-df-spinner');\n",
              "      quickchartButtonEl.classList.add('colab-df-quickchart-complete');\n",
              "    }\n",
              "    (() => {\n",
              "      let quickchartButtonEl =\n",
              "        document.querySelector('#df-8f618233-6147-4b8c-9ed9-3b93c1e0d3ec button');\n",
              "      quickchartButtonEl.style.display =\n",
              "        google.colab.kernel.accessAllowed ? 'block' : 'none';\n",
              "    })();\n",
              "  </script>\n",
              "</div>\n",
              "    </div>\n",
              "  </div>\n"
            ]
          },
          "metadata": {},
          "execution_count": 38
        },
        {
          "output_type": "stream",
          "name": "stdout",
          "text": [
            "time: 31.1 ms (started: 2023-09-29 19:39:36 +00:00)\n"
          ]
        }
      ]
    },
    {
      "cell_type": "code",
      "source": [
        "path_to_transcr = os.path.join(calls_dir, '911_first6sec', 'transcriptions')\n",
        "transcriptions_df.to_csv(path_to_transcr, index=False)"
      ],
      "metadata": {
        "id": "-aZY3hEYdCa8",
        "outputId": "bda6c74c-77fd-4de4-b006-ab1168e0ba92",
        "colab": {
          "base_uri": "https://localhost:8080/"
        }
      },
      "id": "-aZY3hEYdCa8",
      "execution_count": 40,
      "outputs": [
        {
          "output_type": "stream",
          "name": "stdout",
          "text": [
            "time: 28.8 ms (started: 2023-09-29 19:42:45 +00:00)\n"
          ]
        }
      ]
    },
    {
      "cell_type": "markdown",
      "id": "cb98e75b",
      "metadata": {
        "id": "cb98e75b"
      },
      "source": [
        "# Sentiment Analysis - OLD"
      ]
    },
    {
      "cell_type": "markdown",
      "id": "7e11504d",
      "metadata": {
        "id": "7e11504d"
      },
      "source": [
        "### UTILS"
      ]
    },
    {
      "cell_type": "code",
      "execution_count": null,
      "id": "3b6fa26c",
      "metadata": {
        "id": "3b6fa26c"
      },
      "outputs": [],
      "source": [
        "from nltk.corpus import stopwords\n",
        "import pandas as pd\n",
        "import string\n",
        "from nltk.tokenize import RegexpTokenizer\n",
        "\n",
        "def tokenize(raw):\n",
        "    tokenizer = RegexpTokenizer(r\"\\w+\\'?\\w*\")\n",
        "    return tokenizer.tokenize(raw)\n",
        "\n",
        "def preprocess_words_fast(tokens):\n",
        "    t = pd.Series(tokens).str.lower()\n",
        "    t = t[~(t.isin(stopwords.words('english')) | t.isin(list(string.punctuation)))]\n",
        "    return t.tolist()"
      ]
    },
    {
      "cell_type": "code",
      "execution_count": null,
      "id": "6c4b0804",
      "metadata": {
        "id": "6c4b0804",
        "outputId": "4485a7d4-37d5-4950-a5ac-c01751e9a8b6"
      },
      "outputs": [
        {
          "name": "stdout",
          "output_type": "stream",
          "text": [
            "[\"ma'am\", 'pickup', 'stolen', 'go', 'find', 'ahh']\n"
          ]
        }
      ],
      "source": [
        "raw = \" Ma'am, my pickup was stolen. I had to go find it. Ahh!\"\n",
        "tokens = tokenize(raw)\n",
        "words = preprocess_words_fast(tokens)\n",
        "print(words)"
      ]
    },
    {
      "cell_type": "markdown",
      "id": "4e8f9cb1",
      "metadata": {
        "id": "4e8f9cb1"
      },
      "source": [
        "### vader"
      ]
    },
    {
      "cell_type": "code",
      "execution_count": null,
      "id": "fdabc4b8",
      "metadata": {
        "id": "fdabc4b8"
      },
      "outputs": [],
      "source": [
        "from nltk.sentiment.vader import SentimentIntensityAnalyzer\n",
        "sid = SentimentIntensityAnalyzer()"
      ]
    },
    {
      "cell_type": "code",
      "execution_count": null,
      "id": "195cb79a",
      "metadata": {
        "scrolled": true,
        "id": "195cb79a",
        "outputId": "135395ce-3f2b-4629-c1bd-4eebae68d900"
      },
      "outputs": [
        {
          "data": {
            "text/plain": [
              "{'neg': 0.259, 'neu': 0.741, 'pos': 0.0, 'compound': -0.5411}"
            ]
          },
          "execution_count": 122,
          "metadata": {},
          "output_type": "execute_result"
        }
      ],
      "source": [
        "# dirty\n",
        "sid.polarity_scores(raw)"
      ]
    },
    {
      "cell_type": "code",
      "execution_count": null,
      "id": "f88147b3",
      "metadata": {
        "id": "f88147b3",
        "outputId": "e4352f6d-d450-47f4-8e0e-3ca9ae93e3df"
      },
      "outputs": [
        {
          "data": {
            "text/plain": [
              "{'neg': 0.39, 'neu': 0.61, 'pos': 0.0, 'compound': -0.4939}"
            ]
          },
          "execution_count": 123,
          "metadata": {},
          "output_type": "execute_result"
        }
      ],
      "source": [
        "# clean\n",
        "sid.polarity_scores(' '.join(words))"
      ]
    },
    {
      "cell_type": "markdown",
      "id": "4c14f5b6",
      "metadata": {
        "id": "4c14f5b6"
      },
      "source": [
        "### textblob"
      ]
    },
    {
      "cell_type": "code",
      "execution_count": null,
      "id": "090eb2f7",
      "metadata": {
        "id": "090eb2f7"
      },
      "outputs": [],
      "source": [
        "from textblob import TextBlob"
      ]
    },
    {
      "cell_type": "code",
      "execution_count": null,
      "id": "aa122f1a",
      "metadata": {
        "id": "aa122f1a",
        "outputId": "e653288f-6ca5-4803-8d89-7dec86b3b275"
      },
      "outputs": [
        {
          "name": "stdout",
          "output_type": "stream",
          "text": [
            "Sentiment(polarity=0.0, subjectivity=0.0)\n"
          ]
        }
      ],
      "source": [
        "# dirty\n",
        "testimonial = TextBlob(raw)\n",
        "print(testimonial.sentiment)"
      ]
    },
    {
      "cell_type": "code",
      "execution_count": null,
      "id": "403922f0",
      "metadata": {
        "id": "403922f0",
        "outputId": "6d861aa3-ea87-4a3a-f43a-1cf660798205"
      },
      "outputs": [
        {
          "name": "stdout",
          "output_type": "stream",
          "text": [
            "Sentiment(polarity=0.0, subjectivity=0.0)\n"
          ]
        }
      ],
      "source": [
        "# clean\n",
        "testimonial = TextBlob(' '.join(words))\n",
        "print(testimonial.sentiment)"
      ]
    },
    {
      "cell_type": "markdown",
      "id": "18c7abdf",
      "metadata": {
        "id": "18c7abdf"
      },
      "source": [
        "### Flair"
      ]
    },
    {
      "cell_type": "code",
      "execution_count": null,
      "id": "8b5ab7b6",
      "metadata": {
        "id": "8b5ab7b6"
      },
      "outputs": [],
      "source": [
        "from flair.models import TextClassifier\n",
        "from flair.data import Sentence"
      ]
    },
    {
      "cell_type": "code",
      "execution_count": null,
      "id": "885b73f2",
      "metadata": {
        "id": "885b73f2"
      },
      "outputs": [],
      "source": [
        "classifier = TextClassifier.load('en-sentiment')"
      ]
    },
    {
      "cell_type": "code",
      "execution_count": null,
      "id": "699dff8b",
      "metadata": {
        "id": "699dff8b",
        "outputId": "eb1df9a5-d00d-4787-90bc-8c5dcdb3c7fd"
      },
      "outputs": [
        {
          "name": "stdout",
          "output_type": "stream",
          "text": [
            "Sentence above is:  ['Sentence[16]: \" Ma'am, my pickup was stolen. I had to go find it. Ahh!\"'/'NEGATIVE' (0.9804)]\n"
          ]
        }
      ],
      "source": [
        "sentence = Sentence(raw)\n",
        "classifier.predict(sentence)\n",
        "\n",
        "# print sentence with predicted labels\n",
        "print('Sentence above is: ', sentence.labels)"
      ]
    },
    {
      "cell_type": "code",
      "execution_count": null,
      "id": "944d5857",
      "metadata": {
        "id": "944d5857",
        "outputId": "d12007b0-13db-4c7a-f26b-54a861e17fcf"
      },
      "outputs": [
        {
          "name": "stdout",
          "output_type": "stream",
          "text": [
            "Sentence above is:  ['Sentence[6]: \"ma'am pickup stolen go find ahh\"'/'NEGATIVE' (0.9505)]\n"
          ]
        }
      ],
      "source": [
        "sentence = Sentence(' '.join(words))\n",
        "classifier.predict(sentence)\n",
        "\n",
        "# print sentence with predicted labels\n",
        "print('Sentence above is: ', sentence.labels)"
      ]
    },
    {
      "cell_type": "markdown",
      "id": "1c1dd161",
      "metadata": {
        "id": "1c1dd161"
      },
      "source": [
        "### Transformers"
      ]
    },
    {
      "cell_type": "code",
      "execution_count": null,
      "id": "8ed42651",
      "metadata": {
        "id": "8ed42651"
      },
      "outputs": [],
      "source": [
        "from transformers import pipeline"
      ]
    },
    {
      "cell_type": "code",
      "execution_count": null,
      "id": "f721f289",
      "metadata": {
        "id": "f721f289"
      },
      "outputs": [],
      "source": [
        "classifier = pipeline(\"sentiment-analysis\")"
      ]
    },
    {
      "cell_type": "code",
      "execution_count": null,
      "id": "7b7ebf1b",
      "metadata": {
        "id": "7b7ebf1b",
        "outputId": "0f965548-d99b-4911-a251-3612544d996d"
      },
      "outputs": [
        {
          "data": {
            "text/plain": [
              "[{'label': 'NEGATIVE', 'score': 0.9987456798553467}]"
            ]
          },
          "execution_count": 19,
          "metadata": {},
          "output_type": "execute_result"
        }
      ],
      "source": [
        "# dirty\n",
        "classifier([raw])"
      ]
    },
    {
      "cell_type": "code",
      "execution_count": null,
      "id": "a278e480",
      "metadata": {
        "id": "a278e480",
        "outputId": "0d418913-8ca8-40fa-8a1e-fbeaaaaffd08"
      },
      "outputs": [
        {
          "data": {
            "text/plain": [
              "[{'label': 'NEGATIVE', 'score': 0.9751687049865723}]"
            ]
          },
          "execution_count": 20,
          "metadata": {},
          "output_type": "execute_result"
        }
      ],
      "source": [
        "# clean\n",
        "classifier([''.join(words)])"
      ]
    },
    {
      "cell_type": "markdown",
      "id": "bc33e9ab",
      "metadata": {
        "id": "bc33e9ab"
      },
      "source": [
        "# lets use transformers pipeline to analyze sentiment"
      ]
    },
    {
      "cell_type": "code",
      "execution_count": null,
      "id": "6980d1c7",
      "metadata": {
        "id": "6980d1c7"
      },
      "outputs": [],
      "source": [
        "from transformers import pipeline\n",
        "\n",
        "def get_sentiment_transformers(text):\n",
        "    classifier = pipeline(\"sentiment-analysis\")\n",
        "    sent = classifier([text])\n",
        "    return sent[0]['label']"
      ]
    },
    {
      "cell_type": "code",
      "execution_count": null,
      "id": "ddbec23c",
      "metadata": {
        "id": "ddbec23c",
        "outputId": "baa9991a-cdcd-4f45-a46f-8287ba310f1b"
      },
      "outputs": [
        {
          "data": {
            "text/plain": [
              "0     NEGATIVE\n",
              "1     POSITIVE\n",
              "2     NEGATIVE\n",
              "3     NEGATIVE\n",
              "4     NEGATIVE\n",
              "        ...   \n",
              "95    NEGATIVE\n",
              "96    POSITIVE\n",
              "97    NEGATIVE\n",
              "98    NEGATIVE\n",
              "99    NEGATIVE\n",
              "Name: filename, Length: 100, dtype: object"
            ]
          },
          "execution_count": 80,
          "metadata": {},
          "output_type": "execute_result"
        }
      ],
      "source": [
        "sentiment_df = text_series.apply(get_sentiment_transformers)\n",
        "sentiment_df"
      ]
    },
    {
      "cell_type": "code",
      "execution_count": null,
      "id": "8fdbd31d",
      "metadata": {
        "id": "8fdbd31d",
        "outputId": "f8090fed-130a-4c1f-c19c-5bb4770f193f"
      },
      "outputs": [
        {
          "data": {
            "text/html": [
              "<div>\n",
              "<style scoped>\n",
              "    .dataframe tbody tr th:only-of-type {\n",
              "        vertical-align: middle;\n",
              "    }\n",
              "\n",
              "    .dataframe tbody tr th {\n",
              "        vertical-align: top;\n",
              "    }\n",
              "\n",
              "    .dataframe thead th {\n",
              "        text-align: right;\n",
              "    }\n",
              "</style>\n",
              "<table border=\"1\" class=\"dataframe\">\n",
              "  <thead>\n",
              "    <tr style=\"text-align: right;\">\n",
              "      <th></th>\n",
              "      <th>filename</th>\n",
              "      <th>text</th>\n",
              "      <th>sentiment</th>\n",
              "    </tr>\n",
              "  </thead>\n",
              "  <tbody>\n",
              "    <tr>\n",
              "      <th>0</th>\n",
              "      <td>911_first6sec/call_2_0.wav</td>\n",
              "      <td>My mom had a bad time.</td>\n",
              "      <td>NEGATIVE</td>\n",
              "    </tr>\n",
              "    <tr>\n",
              "      <th>1</th>\n",
              "      <td>911_first6sec/call_8_0.wav</td>\n",
              "      <td>Hello. Hello. Is everything okay?</td>\n",
              "      <td>POSITIVE</td>\n",
              "    </tr>\n",
              "    <tr>\n",
              "      <th>2</th>\n",
              "      <td>911_first6sec/call_9_0.wav</td>\n",
              "      <td>I need a police officer over here at 7th. Wha...</td>\n",
              "      <td>NEGATIVE</td>\n",
              "    </tr>\n",
              "    <tr>\n",
              "      <th>3</th>\n",
              "      <td>911_first6sec/call_10_0.wav</td>\n",
              "      <td>Ma'am, my pickup was stolen. I had to go find...</td>\n",
              "      <td>NEGATIVE</td>\n",
              "    </tr>\n",
              "    <tr>\n",
              "      <th>4</th>\n",
              "      <td>911_first6sec/call_11_0.wav</td>\n",
              "      <td>No ma'am I don't. I don't have an emergency. ...</td>\n",
              "      <td>NEGATIVE</td>\n",
              "    </tr>\n",
              "    <tr>\n",
              "      <th>...</th>\n",
              "      <td>...</td>\n",
              "      <td>...</td>\n",
              "      <td>...</td>\n",
              "    </tr>\n",
              "    <tr>\n",
              "      <th>95</th>\n",
              "      <td>911_first6sec/call_110_0.wav</td>\n",
              "      <td>This is Gifford. Hello? Hello? Oh, number one...</td>\n",
              "      <td>NEGATIVE</td>\n",
              "    </tr>\n",
              "    <tr>\n",
              "      <th>96</th>\n",
              "      <td>911_first6sec/call_111_0.wav</td>\n",
              "      <td>across, forty seven oh nine fourty隔s avenue f...</td>\n",
              "      <td>POSITIVE</td>\n",
              "    </tr>\n",
              "    <tr>\n",
              "      <th>97</th>\n",
              "      <td>911_first6sec/call_112_0.wav</td>\n",
              "      <td>I have, um, I need somebody escorted out of m...</td>\n",
              "      <td>NEGATIVE</td>\n",
              "    </tr>\n",
              "    <tr>\n",
              "      <th>98</th>\n",
              "      <td>911_first6sec/call_114_0.wav</td>\n",
              "      <td>Hello? Hello? Hello? Hello 911? Hello?</td>\n",
              "      <td>NEGATIVE</td>\n",
              "    </tr>\n",
              "    <tr>\n",
              "      <th>99</th>\n",
              "      <td>911_first6sec/call_115_0.wav</td>\n",
              "      <td>I got three zip-holes attacking people. Attac...</td>\n",
              "      <td>NEGATIVE</td>\n",
              "    </tr>\n",
              "  </tbody>\n",
              "</table>\n",
              "<p>100 rows × 3 columns</p>\n",
              "</div>"
            ],
            "text/plain": [
              "                        filename  \\\n",
              "0     911_first6sec/call_2_0.wav   \n",
              "1     911_first6sec/call_8_0.wav   \n",
              "2     911_first6sec/call_9_0.wav   \n",
              "3    911_first6sec/call_10_0.wav   \n",
              "4    911_first6sec/call_11_0.wav   \n",
              "..                           ...   \n",
              "95  911_first6sec/call_110_0.wav   \n",
              "96  911_first6sec/call_111_0.wav   \n",
              "97  911_first6sec/call_112_0.wav   \n",
              "98  911_first6sec/call_114_0.wav   \n",
              "99  911_first6sec/call_115_0.wav   \n",
              "\n",
              "                                                 text sentiment  \n",
              "0                              My mom had a bad time.  NEGATIVE  \n",
              "1                   Hello. Hello. Is everything okay?  POSITIVE  \n",
              "2    I need a police officer over here at 7th. Wha...  NEGATIVE  \n",
              "3    Ma'am, my pickup was stolen. I had to go find...  NEGATIVE  \n",
              "4    No ma'am I don't. I don't have an emergency. ...  NEGATIVE  \n",
              "..                                                ...       ...  \n",
              "95   This is Gifford. Hello? Hello? Oh, number one...  NEGATIVE  \n",
              "96   across, forty seven oh nine fourty隔s avenue f...  POSITIVE  \n",
              "97   I have, um, I need somebody escorted out of m...  NEGATIVE  \n",
              "98             Hello? Hello? Hello? Hello 911? Hello?  NEGATIVE  \n",
              "99   I got three zip-holes attacking people. Attac...  NEGATIVE  \n",
              "\n",
              "[100 rows x 3 columns]"
            ]
          },
          "execution_count": 86,
          "metadata": {},
          "output_type": "execute_result"
        }
      ],
      "source": [
        "full_df = pd.DataFrame([df['filename'][:100], text_series, sentiment_df]).T\n",
        "full_df.columns=['filename', 'text', 'sentiment']\n",
        "full_df"
      ]
    },
    {
      "cell_type": "code",
      "execution_count": null,
      "id": "821bac6a",
      "metadata": {
        "id": "821bac6a",
        "outputId": "7140a129-630c-4dc1-87b3-d83343db9975"
      },
      "outputs": [
        {
          "data": {
            "text/plain": [
              "filename     78\n",
              "text         78\n",
              "sentiment    78\n",
              "dtype: int64"
            ]
          },
          "execution_count": 87,
          "metadata": {},
          "output_type": "execute_result"
        }
      ],
      "source": [
        "full_df[full_df['sentiment'] == 'NEGATIVE'].count()"
      ]
    },
    {
      "cell_type": "markdown",
      "id": "66c63906",
      "metadata": {
        "id": "66c63906"
      },
      "source": [
        "# lets use Vader pipeline to analyze sentiment"
      ]
    },
    {
      "cell_type": "code",
      "execution_count": null,
      "id": "73c8b28c",
      "metadata": {
        "id": "73c8b28c"
      },
      "outputs": [],
      "source": [
        "from nltk.sentiment.vader import SentimentIntensityAnalyzer\n",
        "\n",
        "def get_sentiment_vader(text):\n",
        "    sid = SentimentIntensityAnalyzer()\n",
        "    sent = sid.polarity_scores(text)\n",
        "    compund = sent['compound']\n",
        "    if compund > 1/3:\n",
        "        return 'POSITIVE'\n",
        "    elif compund < - 1/3:\n",
        "        return 'NEGATIVE'\n",
        "    else:\n",
        "        return 'UNKOWN'"
      ]
    },
    {
      "cell_type": "code",
      "execution_count": null,
      "id": "dbe08eed",
      "metadata": {
        "id": "dbe08eed",
        "outputId": "ec0ab388-732c-4a3d-aa09-851de70334a4"
      },
      "outputs": [
        {
          "data": {
            "text/plain": [
              "0     NEGATIVE\n",
              "1       UNKOWN\n",
              "2       UNKOWN\n",
              "3     NEGATIVE\n",
              "4       UNKOWN\n",
              "        ...   \n",
              "95      UNKOWN\n",
              "96    NEGATIVE\n",
              "97    NEGATIVE\n",
              "98      UNKOWN\n",
              "99    NEGATIVE\n",
              "Name: filename, Length: 100, dtype: object"
            ]
          },
          "execution_count": 94,
          "metadata": {},
          "output_type": "execute_result"
        }
      ],
      "source": [
        "sentiment_df_vader = text_series.apply(get_sentiment_vader)\n",
        "sentiment_df_vader"
      ]
    },
    {
      "cell_type": "code",
      "execution_count": null,
      "id": "51b96566",
      "metadata": {
        "id": "51b96566",
        "outputId": "106f227c-7831-45df-e766-963e16c663f8"
      },
      "outputs": [
        {
          "data": {
            "text/html": [
              "<div>\n",
              "<style scoped>\n",
              "    .dataframe tbody tr th:only-of-type {\n",
              "        vertical-align: middle;\n",
              "    }\n",
              "\n",
              "    .dataframe tbody tr th {\n",
              "        vertical-align: top;\n",
              "    }\n",
              "\n",
              "    .dataframe thead th {\n",
              "        text-align: right;\n",
              "    }\n",
              "</style>\n",
              "<table border=\"1\" class=\"dataframe\">\n",
              "  <thead>\n",
              "    <tr style=\"text-align: right;\">\n",
              "      <th></th>\n",
              "      <th>filename</th>\n",
              "      <th>text</th>\n",
              "      <th>sentiment</th>\n",
              "    </tr>\n",
              "  </thead>\n",
              "  <tbody>\n",
              "    <tr>\n",
              "      <th>0</th>\n",
              "      <td>911_first6sec/call_2_0.wav</td>\n",
              "      <td>My mom had a bad time.</td>\n",
              "      <td>NEGATIVE</td>\n",
              "    </tr>\n",
              "    <tr>\n",
              "      <th>1</th>\n",
              "      <td>911_first6sec/call_8_0.wav</td>\n",
              "      <td>Hello. Hello. Is everything okay?</td>\n",
              "      <td>UNKOWN</td>\n",
              "    </tr>\n",
              "    <tr>\n",
              "      <th>2</th>\n",
              "      <td>911_first6sec/call_9_0.wav</td>\n",
              "      <td>I need a police officer over here at 7th. Wha...</td>\n",
              "      <td>UNKOWN</td>\n",
              "    </tr>\n",
              "    <tr>\n",
              "      <th>3</th>\n",
              "      <td>911_first6sec/call_10_0.wav</td>\n",
              "      <td>Ma'am, my pickup was stolen. I had to go find...</td>\n",
              "      <td>NEGATIVE</td>\n",
              "    </tr>\n",
              "    <tr>\n",
              "      <th>4</th>\n",
              "      <td>911_first6sec/call_11_0.wav</td>\n",
              "      <td>No ma'am I don't. I don't have an emergency. ...</td>\n",
              "      <td>UNKOWN</td>\n",
              "    </tr>\n",
              "    <tr>\n",
              "      <th>...</th>\n",
              "      <td>...</td>\n",
              "      <td>...</td>\n",
              "      <td>...</td>\n",
              "    </tr>\n",
              "    <tr>\n",
              "      <th>95</th>\n",
              "      <td>911_first6sec/call_110_0.wav</td>\n",
              "      <td>This is Gifford. Hello? Hello? Oh, number one...</td>\n",
              "      <td>UNKOWN</td>\n",
              "    </tr>\n",
              "    <tr>\n",
              "      <th>96</th>\n",
              "      <td>911_first6sec/call_111_0.wav</td>\n",
              "      <td>across, forty seven oh nine fourty隔s avenue f...</td>\n",
              "      <td>NEGATIVE</td>\n",
              "    </tr>\n",
              "    <tr>\n",
              "      <th>97</th>\n",
              "      <td>911_first6sec/call_112_0.wav</td>\n",
              "      <td>I have, um, I need somebody escorted out of m...</td>\n",
              "      <td>NEGATIVE</td>\n",
              "    </tr>\n",
              "    <tr>\n",
              "      <th>98</th>\n",
              "      <td>911_first6sec/call_114_0.wav</td>\n",
              "      <td>Hello? Hello? Hello? Hello 911? Hello?</td>\n",
              "      <td>UNKOWN</td>\n",
              "    </tr>\n",
              "    <tr>\n",
              "      <th>99</th>\n",
              "      <td>911_first6sec/call_115_0.wav</td>\n",
              "      <td>I got three zip-holes attacking people. Attac...</td>\n",
              "      <td>NEGATIVE</td>\n",
              "    </tr>\n",
              "  </tbody>\n",
              "</table>\n",
              "<p>100 rows × 3 columns</p>\n",
              "</div>"
            ],
            "text/plain": [
              "                        filename  \\\n",
              "0     911_first6sec/call_2_0.wav   \n",
              "1     911_first6sec/call_8_0.wav   \n",
              "2     911_first6sec/call_9_0.wav   \n",
              "3    911_first6sec/call_10_0.wav   \n",
              "4    911_first6sec/call_11_0.wav   \n",
              "..                           ...   \n",
              "95  911_first6sec/call_110_0.wav   \n",
              "96  911_first6sec/call_111_0.wav   \n",
              "97  911_first6sec/call_112_0.wav   \n",
              "98  911_first6sec/call_114_0.wav   \n",
              "99  911_first6sec/call_115_0.wav   \n",
              "\n",
              "                                                 text sentiment  \n",
              "0                              My mom had a bad time.  NEGATIVE  \n",
              "1                   Hello. Hello. Is everything okay?    UNKOWN  \n",
              "2    I need a police officer over here at 7th. Wha...    UNKOWN  \n",
              "3    Ma'am, my pickup was stolen. I had to go find...  NEGATIVE  \n",
              "4    No ma'am I don't. I don't have an emergency. ...    UNKOWN  \n",
              "..                                                ...       ...  \n",
              "95   This is Gifford. Hello? Hello? Oh, number one...    UNKOWN  \n",
              "96   across, forty seven oh nine fourty隔s avenue f...  NEGATIVE  \n",
              "97   I have, um, I need somebody escorted out of m...  NEGATIVE  \n",
              "98             Hello? Hello? Hello? Hello 911? Hello?    UNKOWN  \n",
              "99   I got three zip-holes attacking people. Attac...  NEGATIVE  \n",
              "\n",
              "[100 rows x 3 columns]"
            ]
          },
          "execution_count": 99,
          "metadata": {},
          "output_type": "execute_result"
        }
      ],
      "source": [
        "full_df_vader = pd.DataFrame([df['filename'][:100], text_series, sentiment_df_vader]).T\n",
        "full_df_vader.columns=['filename', 'text', 'sentiment']\n",
        "full_df_vader"
      ]
    },
    {
      "cell_type": "code",
      "execution_count": null,
      "id": "8597888f",
      "metadata": {
        "id": "8597888f",
        "outputId": "dbea5783-ab70-4f4c-feee-c0078fc885c4"
      },
      "outputs": [
        {
          "data": {
            "text/plain": [
              "21"
            ]
          },
          "execution_count": 97,
          "metadata": {},
          "output_type": "execute_result"
        }
      ],
      "source": [
        "sentiment_df_vader[sentiment_df_vader == 'NEGATIVE'].count()"
      ]
    },
    {
      "cell_type": "code",
      "execution_count": null,
      "id": "eb0804c0",
      "metadata": {
        "id": "eb0804c0",
        "outputId": "578eb143-f1af-4f82-e558-fade51701f2d"
      },
      "outputs": [
        {
          "data": {
            "text/plain": [
              "20"
            ]
          },
          "execution_count": 98,
          "metadata": {},
          "output_type": "execute_result"
        }
      ],
      "source": [
        "sentiment_df_vader[sentiment_df_vader == 'POSITIVE'].count()"
      ]
    },
    {
      "cell_type": "code",
      "execution_count": null,
      "id": "8bbfcf09",
      "metadata": {
        "id": "8bbfcf09"
      },
      "outputs": [],
      "source": [
        "import torch"
      ]
    },
    {
      "cell_type": "code",
      "execution_count": null,
      "id": "11d3bd53",
      "metadata": {
        "id": "11d3bd53",
        "outputId": "f7aa7967-f485-4218-a499-b0199476faa4"
      },
      "outputs": [
        {
          "name": "stdout",
          "output_type": "stream",
          "text": [
            "False\n"
          ]
        }
      ],
      "source": [
        "print(torch.cuda.is_available())"
      ]
    },
    {
      "cell_type": "code",
      "execution_count": null,
      "id": "c1d11122",
      "metadata": {
        "id": "c1d11122",
        "outputId": "fc5f00af-a0b2-47dd-e072-9e8b4785d4af"
      },
      "outputs": [
        {
          "name": "stdout",
          "output_type": "stream",
          "text": [
            "^C\n",
            "\n",
            "Note: you may need to restart the kernel to use updated packages.\n"
          ]
        }
      ],
      "source": [
        "%conda install -c conda-forge cudatoolkit=11.2 cudnn=8.1.0"
      ]
    },
    {
      "cell_type": "code",
      "execution_count": null,
      "id": "362931c8",
      "metadata": {
        "id": "362931c8"
      },
      "outputs": [],
      "source": []
    }
  ],
  "metadata": {
    "kernelspec": {
      "display_name": "Python 3",
      "name": "python3"
    },
    "language_info": {
      "codemirror_mode": {
        "name": "ipython",
        "version": 3
      },
      "file_extension": ".py",
      "mimetype": "text/x-python",
      "name": "python",
      "nbconvert_exporter": "python",
      "pygments_lexer": "ipython3",
      "version": "3.11.4"
    },
    "colab": {
      "provenance": [],
      "gpuType": "T4"
    },
    "accelerator": "GPU"
  },
  "nbformat": 4,
  "nbformat_minor": 5
}