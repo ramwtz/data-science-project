{
  "cells": [
    {
      "cell_type": "markdown",
      "source": [
        "# Git Repository Bringup"
      ],
      "metadata": {
        "id": "fHo3M0LL_ROe"
      },
      "id": "fHo3M0LL_ROe"
    },
    {
      "cell_type": "code",
      "source": [
        "!git version"
      ],
      "metadata": {
        "colab": {
          "base_uri": "https://localhost:8080/"
        },
        "id": "KafsLa2z8ALj",
        "outputId": "59426ce2-45a3-4799-f3f2-eddc2e1e2969"
      },
      "execution_count": 21,
      "outputs": [
        {
          "output_type": "stream",
          "name": "stdout",
          "text": [
            "git version 2.34.1\n",
            "time: 107 ms (started: 2023-09-28 16:48:31 +00:00)\n"
          ]
        }
      ],
      "id": "KafsLa2z8ALj"
    },
    {
      "cell_type": "code",
      "source": [
        "!git clone https://github.com/ramwtz/data-science-project.git"
      ],
      "metadata": {
        "colab": {
          "base_uri": "https://localhost:8080/"
        },
        "id": "MvDOev_38vZw",
        "outputId": "ceaf377c-6999-4462-96a6-96e6e9eecdcb"
      },
      "execution_count": 22,
      "outputs": [
        {
          "output_type": "stream",
          "name": "stdout",
          "text": [
            "fatal: destination path 'data-science-project' already exists and is not an empty directory.\n",
            "time: 107 ms (started: 2023-09-28 16:48:32 +00:00)\n"
          ]
        }
      ],
      "id": "MvDOev_38vZw"
    },
    {
      "cell_type": "code",
      "source": [
        "!ls"
      ],
      "metadata": {
        "colab": {
          "base_uri": "https://localhost:8080/"
        },
        "id": "8fE-lpOF80Dr",
        "outputId": "46fbf64f-4060-4053-d4fb-a64fbd42bce4"
      },
      "execution_count": 23,
      "outputs": [
        {
          "output_type": "stream",
          "name": "stdout",
          "text": [
            "data-science-project  drive  sample_data\n",
            "time: 112 ms (started: 2023-09-28 16:48:32 +00:00)\n"
          ]
        }
      ],
      "id": "8fE-lpOF80Dr"
    },
    {
      "cell_type": "code",
      "source": [
        "%cd data-science-project/"
      ],
      "metadata": {
        "colab": {
          "base_uri": "https://localhost:8080/"
        },
        "id": "bi3CTOvT86iy",
        "outputId": "63384602-de8c-4b63-868c-5dd471bb7d54"
      },
      "execution_count": 24,
      "outputs": [
        {
          "output_type": "stream",
          "name": "stdout",
          "text": [
            "/content/data-science-project\n",
            "time: 7.5 ms (started: 2023-09-28 16:48:32 +00:00)\n"
          ]
        }
      ],
      "id": "bi3CTOvT86iy"
    },
    {
      "cell_type": "code",
      "source": [
        "!pwd"
      ],
      "metadata": {
        "colab": {
          "base_uri": "https://localhost:8080/"
        },
        "id": "o-Y_VO-79Htx",
        "outputId": "452ce5fe-99ae-4e67-871b-e7c206439067"
      },
      "execution_count": 25,
      "outputs": [
        {
          "output_type": "stream",
          "name": "stdout",
          "text": [
            "/content/data-science-project\n",
            "time: 107 ms (started: 2023-09-28 16:48:32 +00:00)\n"
          ]
        }
      ],
      "id": "o-Y_VO-79Htx"
    },
    {
      "cell_type": "code",
      "source": [
        "!git switch dev/ram"
      ],
      "metadata": {
        "colab": {
          "base_uri": "https://localhost:8080/"
        },
        "id": "r4EAABzL9Loj",
        "outputId": "d05de440-e0f2-414a-e311-c3e6817f206f"
      },
      "execution_count": 26,
      "outputs": [
        {
          "output_type": "stream",
          "name": "stdout",
          "text": [
            "Already on 'dev/ram'\n",
            "Your branch is up to date with 'origin/dev/ram'.\n",
            "time: 109 ms (started: 2023-09-28 16:48:32 +00:00)\n"
          ]
        }
      ],
      "id": "r4EAABzL9Loj"
    },
    {
      "cell_type": "code",
      "source": [
        "!git pull"
      ],
      "metadata": {
        "colab": {
          "base_uri": "https://localhost:8080/"
        },
        "id": "z-7DQR06SD8O",
        "outputId": "e1727076-5326-4ffa-fbbd-8b237e9909d4"
      },
      "execution_count": 27,
      "outputs": [
        {
          "output_type": "stream",
          "name": "stdout",
          "text": [
            "Already up to date.\n",
            "time: 415 ms (started: 2023-09-28 16:48:32 +00:00)\n"
          ]
        }
      ],
      "id": "z-7DQR06SD8O"
    },
    {
      "cell_type": "code",
      "source": [
        "%cd .."
      ],
      "metadata": {
        "id": "O-zkQbWh-sA1",
        "outputId": "a1bc6b1f-4f9a-4bb5-c318-bd97b28ceeee",
        "colab": {
          "base_uri": "https://localhost:8080/"
        }
      },
      "execution_count": 28,
      "outputs": [
        {
          "output_type": "stream",
          "name": "stdout",
          "text": [
            "/content\n",
            "time: 3.55 ms (started: 2023-09-28 16:48:33 +00:00)\n"
          ]
        }
      ],
      "id": "O-zkQbWh-sA1"
    },
    {
      "cell_type": "markdown",
      "source": [
        "# Basic Bringup for Remote Envrionment"
      ],
      "metadata": {
        "id": "JPVMPUUUo2UP"
      },
      "id": "JPVMPUUUo2UP"
    },
    {
      "cell_type": "code",
      "source": [
        "from google.colab import drive\n",
        "drive.mount('/content/drive')"
      ],
      "metadata": {
        "id": "aQs8AozzPWrB",
        "outputId": "35bccead-f5c0-417c-bb7c-483f3b37cce9",
        "colab": {
          "base_uri": "https://localhost:8080/"
        }
      },
      "execution_count": 29,
      "outputs": [
        {
          "output_type": "stream",
          "name": "stdout",
          "text": [
            "Drive already mounted at /content/drive; to attempt to forcibly remount, call drive.mount(\"/content/drive\", force_remount=True).\n",
            "time: 4.62 s (started: 2023-09-28 16:48:37 +00:00)\n"
          ]
        }
      ],
      "id": "aQs8AozzPWrB"
    },
    {
      "cell_type": "code",
      "source": [
        "# Necessary packages for this nb\n",
        "!pip install --quiet --upgrade -r '/content/data-science-project/dependencies.txt'\n",
        "!pip install pocketsphinx"
      ],
      "metadata": {
        "id": "blDntGCvK0pM",
        "colab": {
          "base_uri": "https://localhost:8080/"
        },
        "outputId": "0c1b9b48-fce8-41b0-8516-76562897f542"
      },
      "execution_count": 61,
      "outputs": [
        {
          "output_type": "stream",
          "name": "stdout",
          "text": [
            "Collecting pocketsphinx\n",
            "  Downloading pocketsphinx-5.0.2-cp310-cp310-manylinux_2_17_x86_64.manylinux2014_x86_64.whl (29.2 MB)\n",
            "\u001b[2K     \u001b[90m━━━━━━━━━━━━━━━━━━━━━━━━━━━━━━━━━━━━━━━━\u001b[0m \u001b[32m29.2/29.2 MB\u001b[0m \u001b[31m23.3 MB/s\u001b[0m eta \u001b[36m0:00:00\u001b[0m\n",
            "\u001b[?25hCollecting sounddevice (from pocketsphinx)\n",
            "  Downloading sounddevice-0.4.6-py3-none-any.whl (31 kB)\n",
            "Requirement already satisfied: CFFI>=1.0 in /usr/local/lib/python3.10/dist-packages (from sounddevice->pocketsphinx) (1.15.1)\n",
            "Requirement already satisfied: pycparser in /usr/local/lib/python3.10/dist-packages (from CFFI>=1.0->sounddevice->pocketsphinx) (2.21)\n",
            "Installing collected packages: sounddevice, pocketsphinx\n",
            "Successfully installed pocketsphinx-5.0.2 sounddevice-0.4.6\n",
            "time: 28.9 s (started: 2023-09-28 17:21:15 +00:00)\n"
          ]
        }
      ],
      "id": "blDntGCvK0pM"
    },
    {
      "cell_type": "markdown",
      "source": [
        "# Initialize Env"
      ],
      "metadata": {
        "id": "_q5b3nG_pLQ2"
      },
      "id": "_q5b3nG_pLQ2"
    },
    {
      "cell_type": "code",
      "execution_count": 107,
      "metadata": {
        "id": "S2PBoyn8PpqC",
        "colab": {
          "base_uri": "https://localhost:8080/"
        },
        "outputId": "10488ebe-d2f8-4678-dcfe-6132e6a09a61"
      },
      "outputs": [
        {
          "output_type": "stream",
          "name": "stdout",
          "text": [
            "The autotime extension is already loaded. To reload it, use:\n",
            "  %reload_ext autotime\n",
            "time: 6.47 ms (started: 2023-09-28 18:14:56 +00:00)\n"
          ]
        }
      ],
      "source": [
        "# Imports\n",
        "import speech_recognition as sr\n",
        "from vosk import Model, KaldiRecognizer\n",
        "import os\n",
        "import librosa as lbrs\n",
        "from tqdm import tqdm\n",
        "import pandas as pd\n",
        "import json\n",
        "\n",
        "# Configs\n",
        "%load_ext autotime\n",
        "tqdm.pandas()"
      ],
      "id": "S2PBoyn8PpqC"
    },
    {
      "cell_type": "code",
      "source": [
        "gen_data_dir = os.path.join('drive', 'MyDrive', 'project', 'data')\n",
        "calls_dir = os.path.join(gen_data_dir, 'calls')\n",
        "new_data_dir = os.path.join(gen_data_dir, 'new')\n",
        "models_path = os.path.join('drive', 'MyDrive', 'model')\n",
        "metadata_path = os.path.join(calls_dir, '911_first6sec', '911_metadata_6sec.csv')"
      ],
      "metadata": {
        "id": "z8f4V1ZtQP2Q",
        "colab": {
          "base_uri": "https://localhost:8080/"
        },
        "outputId": "31ffe30b-1678-4065-9f31-9f6bd0b53ab7"
      },
      "execution_count": 64,
      "outputs": [
        {
          "output_type": "stream",
          "name": "stdout",
          "text": [
            "time: 1.18 ms (started: 2023-09-28 17:24:44 +00:00)\n"
          ]
        }
      ],
      "id": "z8f4V1ZtQP2Q"
    },
    {
      "cell_type": "code",
      "source": [
        "def get_path_from_filename(audio_file_name):\n",
        "    type_dir, file_name = audio_file_name.split('/')\n",
        "    return os.path.join(calls_dir, type_dir, file_name)"
      ],
      "metadata": {
        "colab": {
          "base_uri": "https://localhost:8080/"
        },
        "id": "dDpiusDus7SE",
        "outputId": "abef964f-2104-4216-997e-2ba1361c9ee4"
      },
      "execution_count": 33,
      "outputs": [
        {
          "output_type": "stream",
          "name": "stdout",
          "text": [
            "time: 578 µs (started: 2023-09-28 16:49:20 +00:00)\n"
          ]
        }
      ],
      "id": "dDpiusDus7SE"
    },
    {
      "cell_type": "code",
      "source": [
        "def create_audio_series(audio_file_name):\n",
        "    audio_file_path = get_path_from_filename(audio_file_name)\n",
        "    data, sample_rate = lbrs.load(audio_file_path)\n",
        "    return data, sample_rate"
      ],
      "metadata": {
        "colab": {
          "base_uri": "https://localhost:8080/"
        },
        "id": "J0WK_yhqLYZh",
        "outputId": "aab0e208-470d-4745-c646-4e0d4ca3ae95"
      },
      "execution_count": 34,
      "outputs": [
        {
          "output_type": "stream",
          "name": "stdout",
          "text": [
            "time: 637 µs (started: 2023-09-28 16:49:20 +00:00)\n"
          ]
        }
      ],
      "id": "J0WK_yhqLYZh"
    },
    {
      "cell_type": "markdown",
      "source": [
        "# Fetching the Transcription\n",
        "We're going to you the SpeechRecognition library to transform the audio to test to use as features for our model training"
      ],
      "metadata": {
        "id": "8qwpm9feTxwO"
      },
      "id": "8qwpm9feTxwO"
    },
    {
      "cell_type": "markdown",
      "source": [
        "## Defs"
      ],
      "metadata": {
        "id": "Sl4gLC-Qffd9"
      },
      "id": "Sl4gLC-Qffd9"
    },
    {
      "cell_type": "code",
      "source": [
        "r = sr.Recognizer()"
      ],
      "metadata": {
        "id": "74311TtYyeN6",
        "outputId": "aff9b2b2-17f4-47f0-cb18-3e329e959f97",
        "colab": {
          "base_uri": "https://localhost:8080/"
        }
      },
      "id": "74311TtYyeN6",
      "execution_count": 52,
      "outputs": [
        {
          "output_type": "stream",
          "name": "stdout",
          "text": [
            "time: 586 µs (started: 2023-09-28 17:19:03 +00:00)\n"
          ]
        }
      ]
    },
    {
      "cell_type": "code",
      "execution_count": 223,
      "id": "a7898c1f",
      "metadata": {
        "id": "a7898c1f",
        "outputId": "97328e33-4a42-416b-eacf-f52e49a62b73",
        "colab": {
          "base_uri": "https://localhost:8080/"
        }
      },
      "outputs": [
        {
          "output_type": "stream",
          "name": "stdout",
          "text": [
            "time: 7.3 ms (started: 2023-09-28 20:31:10 +00:00)\n"
          ]
        }
      ],
      "source": [
        "def get_audio(audio_file_path, filter_noise=False):\n",
        "  with sr.AudioFile(audio_file_path) as src:\n",
        "    if filter_noise:\n",
        "      r.adjust_for_ambient_noise(src, duration=0.5)\n",
        "    return r.record(src)"
      ]
    },
    {
      "cell_type": "code",
      "source": [
        "def recognize_vosk(audio, model=None):\n",
        "  if model is None:\n",
        "    model_path = os.path.join(models_path, 'vosk', 'eng_small')\n",
        "\n",
        "  vosk_audio = audio.get_raw_data(convert_rate=16000, convert_width=2)\n",
        "\n",
        "  #\n",
        "  model = Model(model_path)\n",
        "  recognizer = KaldiRecognizer(model, 16000)\n",
        "  recognizer.AcceptWaveform(vosk_audio)\n",
        "  return recognizer.FinalResult()"
      ],
      "metadata": {
        "id": "LAwQ73y9yujx",
        "outputId": "0df98bb0-15ab-45d5-c509-314f3ce4c981",
        "colab": {
          "base_uri": "https://localhost:8080/"
        }
      },
      "id": "LAwQ73y9yujx",
      "execution_count": 65,
      "outputs": [
        {
          "output_type": "stream",
          "name": "stdout",
          "text": [
            "time: 948 µs (started: 2023-09-28 17:24:55 +00:00)\n"
          ]
        }
      ]
    },
    {
      "cell_type": "code",
      "source": [
        "def get_path_from_filename(audio_file_name):\n",
        "    type_dir, file_name = audio_file_name.split('/')\n",
        "    return os.path.join(calls_dir, type_dir, file_name)"
      ],
      "metadata": {
        "id": "1DWlYpryyQ7H",
        "outputId": "cf8dceda-3f93-40a8-cc64-87fcee2eac29",
        "colab": {
          "base_uri": "https://localhost:8080/"
        }
      },
      "id": "1DWlYpryyQ7H",
      "execution_count": 55,
      "outputs": [
        {
          "output_type": "stream",
          "name": "stdout",
          "text": [
            "time: 662 µs (started: 2023-09-28 17:19:04 +00:00)\n"
          ]
        }
      ]
    },
    {
      "cell_type": "code",
      "source": [
        "def transcribe_file(filename, filter_noise=False):\n",
        "  path = get_path_from_filename(filename)\n",
        "  audio = get_audio(path, filter_noise=filter_noise)\n",
        "\n",
        "  try:\n",
        "    g = r.recognize_google(audio)\n",
        "  except:\n",
        "    g = \"UNABLE TO RECOGNIZE\"\n",
        "\n",
        "  s = r.recognize_sphinx(audio)\n",
        "\n",
        "  w = r.recognize_whisper(audio)\n",
        "\n",
        "  vt = recognize_vosk(audio)\n",
        "  v = json.loads(vt)['text']\n",
        "\n",
        "  return g, s, w, v"
      ],
      "metadata": {
        "id": "neVYtvrwx9HI",
        "outputId": "1a9bfee5-70f1-4917-bde3-4d46edf2503e",
        "colab": {
          "base_uri": "https://localhost:8080/"
        }
      },
      "id": "neVYtvrwx9HI",
      "execution_count": 224,
      "outputs": [
        {
          "output_type": "stream",
          "name": "stdout",
          "text": [
            "time: 20.5 ms (started: 2023-09-28 20:31:32 +00:00)\n"
          ]
        }
      ]
    },
    {
      "cell_type": "markdown",
      "id": "ade9470c",
      "metadata": {
        "id": "ade9470c"
      },
      "source": [
        "## Raw Audio\n",
        "We will first try to decipher the audio as is using four different speach to text engines: Google, Sphinx, Vosk & Whisper (all engines that have free APIs). The transcription of the text is: \"Ma'am, my pickup was stolen, I had to go find it. ahh\""
      ]
    },
    {
      "cell_type": "markdown",
      "source": [
        "### Aggregate Transcriptions"
      ],
      "metadata": {
        "id": "WTMpkyPef1-G"
      },
      "id": "WTMpkyPef1-G"
    },
    {
      "cell_type": "code",
      "source": [
        "metadata_df = pd.read_csv(metadata_path)"
      ],
      "metadata": {
        "colab": {
          "base_uri": "https://localhost:8080/"
        },
        "id": "PoZ8RvcItUyb",
        "outputId": "e0c18955-c673-4b6a-f2ee-66ad7c8fa7e4"
      },
      "id": "PoZ8RvcItUyb",
      "execution_count": 37,
      "outputs": [
        {
          "output_type": "stream",
          "name": "stdout",
          "text": [
            "time: 584 ms (started: 2023-09-28 16:53:20 +00:00)\n"
          ]
        }
      ]
    },
    {
      "cell_type": "code",
      "source": [
        "manual_transcriptions = {\n",
        "    '911_first6sec/call_8_0.wav': \"um hello hello is everything okay\",\n",
        "    '911_first6sec/call_9_0.wav': 'yes um i need a police officer over here at whats going on',\n",
        "    '911_first6sec/call_10_0.wav': \"ma'am my pickup was stolen I had to go find it uhh\",\n",
        "    '911_first6sec/call_11_0.wav': \"no ma'am i don't i don't have an emergency two police officers just at my house just now\",\n",
        "    '911_first6sec/call_15_0.wav': \"I'm Dylon Peterson and i just killed two people\",\n",
        "    '911_first6sec/call_17_0.wav': \"yeah we got a fire down here at on route seven right here at abington\",\n",
        "    '911_first6sec/call_20_0.wav': \"are you out of the house yet no alright get out of the house we can't theres a\",\n",
        "    '911_first6sec/call_21_0.wav': \"yes is this a police station yes it is may i help you yeah okay i put this is ridiculous\",\n",
        "    '911_first6sec/call_28_0.wav': \"can you please send rescue to i think i'm\",\n",
        "    '911_first6sec/call_31_0.wav': \"oh my god somebody is shooting at the sheriff's department at the sheriff department yes building?\"\n",
        "}\n",
        "\n",
        "manual_transcriptions = pd.Series(manual_transcriptions)\n",
        "manual_transcriptions = manual_transcriptions.rename('manual_transcriptions')\n",
        "manual_transcriptions = pd.DataFrame(manual_transcriptions).reset_index()\n",
        "manual_transcriptions = manual_transcriptions.rename({'index': 'filename'}, axis=1)"
      ],
      "metadata": {
        "colab": {
          "base_uri": "https://localhost:8080/"
        },
        "id": "Gh3uAFKBulqk",
        "outputId": "e3ab0956-13b0-4bde-ffd8-4036761130be"
      },
      "id": "Gh3uAFKBulqk",
      "execution_count": 190,
      "outputs": [
        {
          "output_type": "stream",
          "name": "stdout",
          "text": [
            "time: 15.2 ms (started: 2023-09-28 20:13:06 +00:00)\n"
          ]
        }
      ]
    },
    {
      "cell_type": "code",
      "source": [
        "filenames = pd.Series(manual_transcriptions['filename'])"
      ],
      "metadata": {
        "colab": {
          "base_uri": "https://localhost:8080/"
        },
        "id": "-Cr-3jgSDs3C",
        "outputId": "c844fdbc-cef9-4793-a4f6-c23db95722f1"
      },
      "id": "-Cr-3jgSDs3C",
      "execution_count": 192,
      "outputs": [
        {
          "output_type": "execute_result",
          "data": {
            "text/plain": [
              "0     911_first6sec/call_8_0.wav\n",
              "1     911_first6sec/call_9_0.wav\n",
              "2    911_first6sec/call_10_0.wav\n",
              "3    911_first6sec/call_11_0.wav\n",
              "4    911_first6sec/call_15_0.wav\n",
              "5    911_first6sec/call_17_0.wav\n",
              "6    911_first6sec/call_20_0.wav\n",
              "7    911_first6sec/call_21_0.wav\n",
              "8    911_first6sec/call_28_0.wav\n",
              "9    911_first6sec/call_31_0.wav\n",
              "Name: filename, dtype: object"
            ]
          },
          "metadata": {},
          "execution_count": 192
        },
        {
          "output_type": "stream",
          "name": "stdout",
          "text": [
            "time: 14.9 ms (started: 2023-09-28 20:13:36 +00:00)\n"
          ]
        }
      ]
    },
    {
      "cell_type": "code",
      "execution_count": 140,
      "id": "e3fb3eaf",
      "metadata": {
        "colab": {
          "base_uri": "https://localhost:8080/",
          "height": 502
        },
        "id": "e3fb3eaf",
        "outputId": "93b7ae90-f4f4-4bde-fc3e-64530ffda923"
      },
      "outputs": [
        {
          "output_type": "stream",
          "name": "stderr",
          "text": [
            "100%|██████████| 10/10 [03:46<00:00, 22.65s/it]\n"
          ]
        },
        {
          "output_type": "execute_result",
          "data": {
            "text/plain": [
              "                                              google  \\\n",
              "0                     hello hello is everything okay   \n",
              "1                                UNABLE TO RECOGNIZE   \n",
              "2        damn my pickup was born I had to go find it   \n",
              "3                                UNABLE TO RECOGNIZE   \n",
              "4     I'm done Peterson and I just killed two people   \n",
              "5  yeah we got a fire down here it's on Route 7 r...   \n",
              "6  are you out of the house yet no or I get out o...   \n",
              "7                                UNABLE TO RECOGNIZE   \n",
              "8          can you please send rescue to I think I'm   \n",
              "9  oh my God somebody shooting at the sheriff's d...   \n",
              "\n",
              "                                              sphinx  \\\n",
              "0      and while the al and then again okay go ahead   \n",
              "1  he had an idea of a pound and a coil of oil an...   \n",
              "2          no wonder the political had invited laugh   \n",
              "3  i'd really a man am i to have an latent he cou...   \n",
              "4   glendon beard and that is killed two people that   \n",
              "5  the little hard and long little doubt and let ...   \n",
              "6  we have our dead and now or i didn't have reac...   \n",
              "7  whether you're completely hemmed and looking f...   \n",
              "8                    and i knew her out and adam had   \n",
              "9  so why when you hear more than that but i'd ha...   \n",
              "\n",
              "                                             whisper  \\\n",
              "0                     Hello. Is everything okay? On.   \n",
              "1   Yes, I need a police officer over here. What'...   \n",
              "2      Ma'am, my cat is a person. I had it offended.   \n",
              "3   I'm gonna go to the bathroom and close the le...   \n",
              "4   I'm Joan Pearson and that has killed two people.   \n",
              "5   We've got a far down here, it's around 7, rig...   \n",
              "6   Are you out of the house yet? No. Or I get ou...   \n",
              "7   Yes, it is. Please return. Yes, it is. May he...   \n",
              "8   Can you please send rescue to... I think I'm ...   \n",
              "9   Oh my God, so many students at this year's de...   \n",
              "\n",
              "                                                vosk  \n",
              "0                  ah now i'm now is everything okay  \n",
              "1  that i'm anita police officer over here the co...  \n",
              "2               now my pick up on to go find that ah  \n",
              "3         remember my mom i got my house personality  \n",
              "4   i'm i'm down there and that it killed few people  \n",
              "5  there we go too far down here at our or out th...  \n",
              "6   i get out of our now i get out of as we can't to  \n",
              "7          i can't help you okay i put is ridiculous  \n",
              "8       you keep him back to cook i think i'm having  \n",
              "9  oh look at how many shooting here for partner ...  "
            ],
            "text/html": [
              "\n",
              "  <div id=\"df-5cfe1d4b-2159-454f-acbd-f2d1089da1fe\" class=\"colab-df-container\">\n",
              "    <div>\n",
              "<style scoped>\n",
              "    .dataframe tbody tr th:only-of-type {\n",
              "        vertical-align: middle;\n",
              "    }\n",
              "\n",
              "    .dataframe tbody tr th {\n",
              "        vertical-align: top;\n",
              "    }\n",
              "\n",
              "    .dataframe thead th {\n",
              "        text-align: right;\n",
              "    }\n",
              "</style>\n",
              "<table border=\"1\" class=\"dataframe\">\n",
              "  <thead>\n",
              "    <tr style=\"text-align: right;\">\n",
              "      <th></th>\n",
              "      <th>google</th>\n",
              "      <th>sphinx</th>\n",
              "      <th>whisper</th>\n",
              "      <th>vosk</th>\n",
              "    </tr>\n",
              "  </thead>\n",
              "  <tbody>\n",
              "    <tr>\n",
              "      <th>0</th>\n",
              "      <td>hello hello is everything okay</td>\n",
              "      <td>and while the al and then again okay go ahead</td>\n",
              "      <td>Hello. Is everything okay? On.</td>\n",
              "      <td>ah now i'm now is everything okay</td>\n",
              "    </tr>\n",
              "    <tr>\n",
              "      <th>1</th>\n",
              "      <td>UNABLE TO RECOGNIZE</td>\n",
              "      <td>he had an idea of a pound and a coil of oil an...</td>\n",
              "      <td>Yes, I need a police officer over here. What'...</td>\n",
              "      <td>that i'm anita police officer over here the co...</td>\n",
              "    </tr>\n",
              "    <tr>\n",
              "      <th>2</th>\n",
              "      <td>damn my pickup was born I had to go find it</td>\n",
              "      <td>no wonder the political had invited laugh</td>\n",
              "      <td>Ma'am, my cat is a person. I had it offended.</td>\n",
              "      <td>now my pick up on to go find that ah</td>\n",
              "    </tr>\n",
              "    <tr>\n",
              "      <th>3</th>\n",
              "      <td>UNABLE TO RECOGNIZE</td>\n",
              "      <td>i'd really a man am i to have an latent he cou...</td>\n",
              "      <td>I'm gonna go to the bathroom and close the le...</td>\n",
              "      <td>remember my mom i got my house personality</td>\n",
              "    </tr>\n",
              "    <tr>\n",
              "      <th>4</th>\n",
              "      <td>I'm done Peterson and I just killed two people</td>\n",
              "      <td>glendon beard and that is killed two people that</td>\n",
              "      <td>I'm Joan Pearson and that has killed two people.</td>\n",
              "      <td>i'm i'm down there and that it killed few people</td>\n",
              "    </tr>\n",
              "    <tr>\n",
              "      <th>5</th>\n",
              "      <td>yeah we got a fire down here it's on Route 7 r...</td>\n",
              "      <td>the little hard and long little doubt and let ...</td>\n",
              "      <td>We've got a far down here, it's around 7, rig...</td>\n",
              "      <td>there we go too far down here at our or out th...</td>\n",
              "    </tr>\n",
              "    <tr>\n",
              "      <th>6</th>\n",
              "      <td>are you out of the house yet no or I get out o...</td>\n",
              "      <td>we have our dead and now or i didn't have reac...</td>\n",
              "      <td>Are you out of the house yet? No. Or I get ou...</td>\n",
              "      <td>i get out of our now i get out of as we can't to</td>\n",
              "    </tr>\n",
              "    <tr>\n",
              "      <th>7</th>\n",
              "      <td>UNABLE TO RECOGNIZE</td>\n",
              "      <td>whether you're completely hemmed and looking f...</td>\n",
              "      <td>Yes, it is. Please return. Yes, it is. May he...</td>\n",
              "      <td>i can't help you okay i put is ridiculous</td>\n",
              "    </tr>\n",
              "    <tr>\n",
              "      <th>8</th>\n",
              "      <td>can you please send rescue to I think I'm</td>\n",
              "      <td>and i knew her out and adam had</td>\n",
              "      <td>Can you please send rescue to... I think I'm ...</td>\n",
              "      <td>you keep him back to cook i think i'm having</td>\n",
              "    </tr>\n",
              "    <tr>\n",
              "      <th>9</th>\n",
              "      <td>oh my God somebody shooting at the sheriff's d...</td>\n",
              "      <td>so why when you hear more than that but i'd ha...</td>\n",
              "      <td>Oh my God, so many students at this year's de...</td>\n",
              "      <td>oh look at how many shooting here for partner ...</td>\n",
              "    </tr>\n",
              "  </tbody>\n",
              "</table>\n",
              "</div>\n",
              "    <div class=\"colab-df-buttons\">\n",
              "\n",
              "  <div class=\"colab-df-container\">\n",
              "    <button class=\"colab-df-convert\" onclick=\"convertToInteractive('df-5cfe1d4b-2159-454f-acbd-f2d1089da1fe')\"\n",
              "            title=\"Convert this dataframe to an interactive table.\"\n",
              "            style=\"display:none;\">\n",
              "\n",
              "  <svg xmlns=\"http://www.w3.org/2000/svg\" height=\"24px\" viewBox=\"0 -960 960 960\">\n",
              "    <path d=\"M120-120v-720h720v720H120Zm60-500h600v-160H180v160Zm220 220h160v-160H400v160Zm0 220h160v-160H400v160ZM180-400h160v-160H180v160Zm440 0h160v-160H620v160ZM180-180h160v-160H180v160Zm440 0h160v-160H620v160Z\"/>\n",
              "  </svg>\n",
              "    </button>\n",
              "\n",
              "  <style>\n",
              "    .colab-df-container {\n",
              "      display:flex;\n",
              "      gap: 12px;\n",
              "    }\n",
              "\n",
              "    .colab-df-convert {\n",
              "      background-color: #E8F0FE;\n",
              "      border: none;\n",
              "      border-radius: 50%;\n",
              "      cursor: pointer;\n",
              "      display: none;\n",
              "      fill: #1967D2;\n",
              "      height: 32px;\n",
              "      padding: 0 0 0 0;\n",
              "      width: 32px;\n",
              "    }\n",
              "\n",
              "    .colab-df-convert:hover {\n",
              "      background-color: #E2EBFA;\n",
              "      box-shadow: 0px 1px 2px rgba(60, 64, 67, 0.3), 0px 1px 3px 1px rgba(60, 64, 67, 0.15);\n",
              "      fill: #174EA6;\n",
              "    }\n",
              "\n",
              "    .colab-df-buttons div {\n",
              "      margin-bottom: 4px;\n",
              "    }\n",
              "\n",
              "    [theme=dark] .colab-df-convert {\n",
              "      background-color: #3B4455;\n",
              "      fill: #D2E3FC;\n",
              "    }\n",
              "\n",
              "    [theme=dark] .colab-df-convert:hover {\n",
              "      background-color: #434B5C;\n",
              "      box-shadow: 0px 1px 3px 1px rgba(0, 0, 0, 0.15);\n",
              "      filter: drop-shadow(0px 1px 2px rgba(0, 0, 0, 0.3));\n",
              "      fill: #FFFFFF;\n",
              "    }\n",
              "  </style>\n",
              "\n",
              "    <script>\n",
              "      const buttonEl =\n",
              "        document.querySelector('#df-5cfe1d4b-2159-454f-acbd-f2d1089da1fe button.colab-df-convert');\n",
              "      buttonEl.style.display =\n",
              "        google.colab.kernel.accessAllowed ? 'block' : 'none';\n",
              "\n",
              "      async function convertToInteractive(key) {\n",
              "        const element = document.querySelector('#df-5cfe1d4b-2159-454f-acbd-f2d1089da1fe');\n",
              "        const dataTable =\n",
              "          await google.colab.kernel.invokeFunction('convertToInteractive',\n",
              "                                                    [key], {});\n",
              "        if (!dataTable) return;\n",
              "\n",
              "        const docLinkHtml = 'Like what you see? Visit the ' +\n",
              "          '<a target=\"_blank\" href=https://colab.research.google.com/notebooks/data_table.ipynb>data table notebook</a>'\n",
              "          + ' to learn more about interactive tables.';\n",
              "        element.innerHTML = '';\n",
              "        dataTable['output_type'] = 'display_data';\n",
              "        await google.colab.output.renderOutput(dataTable, element);\n",
              "        const docLink = document.createElement('div');\n",
              "        docLink.innerHTML = docLinkHtml;\n",
              "        element.appendChild(docLink);\n",
              "      }\n",
              "    </script>\n",
              "  </div>\n",
              "\n",
              "\n",
              "<div id=\"df-c502d09b-5428-4141-959f-9831b255d599\">\n",
              "  <button class=\"colab-df-quickchart\" onclick=\"quickchart('df-c502d09b-5428-4141-959f-9831b255d599')\"\n",
              "            title=\"Suggest charts.\"\n",
              "            style=\"display:none;\">\n",
              "\n",
              "<svg xmlns=\"http://www.w3.org/2000/svg\" height=\"24px\"viewBox=\"0 0 24 24\"\n",
              "     width=\"24px\">\n",
              "    <g>\n",
              "        <path d=\"M19 3H5c-1.1 0-2 .9-2 2v14c0 1.1.9 2 2 2h14c1.1 0 2-.9 2-2V5c0-1.1-.9-2-2-2zM9 17H7v-7h2v7zm4 0h-2V7h2v10zm4 0h-2v-4h2v4z\"/>\n",
              "    </g>\n",
              "</svg>\n",
              "  </button>\n",
              "\n",
              "<style>\n",
              "  .colab-df-quickchart {\n",
              "      --bg-color: #E8F0FE;\n",
              "      --fill-color: #1967D2;\n",
              "      --hover-bg-color: #E2EBFA;\n",
              "      --hover-fill-color: #174EA6;\n",
              "      --disabled-fill-color: #AAA;\n",
              "      --disabled-bg-color: #DDD;\n",
              "  }\n",
              "\n",
              "  [theme=dark] .colab-df-quickchart {\n",
              "      --bg-color: #3B4455;\n",
              "      --fill-color: #D2E3FC;\n",
              "      --hover-bg-color: #434B5C;\n",
              "      --hover-fill-color: #FFFFFF;\n",
              "      --disabled-bg-color: #3B4455;\n",
              "      --disabled-fill-color: #666;\n",
              "  }\n",
              "\n",
              "  .colab-df-quickchart {\n",
              "    background-color: var(--bg-color);\n",
              "    border: none;\n",
              "    border-radius: 50%;\n",
              "    cursor: pointer;\n",
              "    display: none;\n",
              "    fill: var(--fill-color);\n",
              "    height: 32px;\n",
              "    padding: 0;\n",
              "    width: 32px;\n",
              "  }\n",
              "\n",
              "  .colab-df-quickchart:hover {\n",
              "    background-color: var(--hover-bg-color);\n",
              "    box-shadow: 0 1px 2px rgba(60, 64, 67, 0.3), 0 1px 3px 1px rgba(60, 64, 67, 0.15);\n",
              "    fill: var(--button-hover-fill-color);\n",
              "  }\n",
              "\n",
              "  .colab-df-quickchart-complete:disabled,\n",
              "  .colab-df-quickchart-complete:disabled:hover {\n",
              "    background-color: var(--disabled-bg-color);\n",
              "    fill: var(--disabled-fill-color);\n",
              "    box-shadow: none;\n",
              "  }\n",
              "\n",
              "  .colab-df-spinner {\n",
              "    border: 2px solid var(--fill-color);\n",
              "    border-color: transparent;\n",
              "    border-bottom-color: var(--fill-color);\n",
              "    animation:\n",
              "      spin 1s steps(1) infinite;\n",
              "  }\n",
              "\n",
              "  @keyframes spin {\n",
              "    0% {\n",
              "      border-color: transparent;\n",
              "      border-bottom-color: var(--fill-color);\n",
              "      border-left-color: var(--fill-color);\n",
              "    }\n",
              "    20% {\n",
              "      border-color: transparent;\n",
              "      border-left-color: var(--fill-color);\n",
              "      border-top-color: var(--fill-color);\n",
              "    }\n",
              "    30% {\n",
              "      border-color: transparent;\n",
              "      border-left-color: var(--fill-color);\n",
              "      border-top-color: var(--fill-color);\n",
              "      border-right-color: var(--fill-color);\n",
              "    }\n",
              "    40% {\n",
              "      border-color: transparent;\n",
              "      border-right-color: var(--fill-color);\n",
              "      border-top-color: var(--fill-color);\n",
              "    }\n",
              "    60% {\n",
              "      border-color: transparent;\n",
              "      border-right-color: var(--fill-color);\n",
              "    }\n",
              "    80% {\n",
              "      border-color: transparent;\n",
              "      border-right-color: var(--fill-color);\n",
              "      border-bottom-color: var(--fill-color);\n",
              "    }\n",
              "    90% {\n",
              "      border-color: transparent;\n",
              "      border-bottom-color: var(--fill-color);\n",
              "    }\n",
              "  }\n",
              "</style>\n",
              "\n",
              "  <script>\n",
              "    async function quickchart(key) {\n",
              "      const quickchartButtonEl =\n",
              "        document.querySelector('#' + key + ' button');\n",
              "      quickchartButtonEl.disabled = true;  // To prevent multiple clicks.\n",
              "      quickchartButtonEl.classList.add('colab-df-spinner');\n",
              "      try {\n",
              "        const charts = await google.colab.kernel.invokeFunction(\n",
              "            'suggestCharts', [key], {});\n",
              "      } catch (error) {\n",
              "        console.error('Error during call to suggestCharts:', error);\n",
              "      }\n",
              "      quickchartButtonEl.classList.remove('colab-df-spinner');\n",
              "      quickchartButtonEl.classList.add('colab-df-quickchart-complete');\n",
              "    }\n",
              "    (() => {\n",
              "      let quickchartButtonEl =\n",
              "        document.querySelector('#df-c502d09b-5428-4141-959f-9831b255d599 button');\n",
              "      quickchartButtonEl.style.display =\n",
              "        google.colab.kernel.accessAllowed ? 'block' : 'none';\n",
              "    })();\n",
              "  </script>\n",
              "</div>\n",
              "    </div>\n",
              "  </div>\n"
            ]
          },
          "metadata": {},
          "execution_count": 140
        },
        {
          "output_type": "stream",
          "name": "stdout",
          "text": [
            "time: 3min 46s (started: 2023-09-28 18:31:17 +00:00)\n"
          ]
        }
      ],
      "source": [
        "transcriptions_series = filenames.progress_apply(transcribe_file)\n",
        "column_names = {0: 'google', 1: 'sphinx', 2: 'whisper', 3: 'vosk'}\n",
        "transcriptions_list = transcriptions_series.values.tolist()\n",
        "transcriptions = pd.DataFrame(transcriptions_list).rename(column_names, axis=1)"
      ]
    },
    {
      "cell_type": "code",
      "source": [
        "assessment = pd.DataFrame({\"filename\": filenames})\n",
        "assessment = pd.concat([assessment, transcriptions], axis=1)"
      ],
      "metadata": {
        "colab": {
          "base_uri": "https://localhost:8080/",
          "height": 554
        },
        "id": "DkZ83hY39_QI",
        "outputId": "3aad0108-6449-4d59-9935-4943c7d771dd"
      },
      "id": "DkZ83hY39_QI",
      "execution_count": 194,
      "outputs": [
        {
          "output_type": "execute_result",
          "data": {
            "text/plain": [
              "                      filename  \\\n",
              "0   911_first6sec/call_8_0.wav   \n",
              "1   911_first6sec/call_9_0.wav   \n",
              "2  911_first6sec/call_10_0.wav   \n",
              "3  911_first6sec/call_11_0.wav   \n",
              "4  911_first6sec/call_15_0.wav   \n",
              "5  911_first6sec/call_17_0.wav   \n",
              "6  911_first6sec/call_20_0.wav   \n",
              "7  911_first6sec/call_21_0.wav   \n",
              "8  911_first6sec/call_28_0.wav   \n",
              "9  911_first6sec/call_31_0.wav   \n",
              "\n",
              "                                              google  \\\n",
              "0                     hello hello is everything okay   \n",
              "1                                UNABLE TO RECOGNIZE   \n",
              "2        damn my pickup was born I had to go find it   \n",
              "3                                UNABLE TO RECOGNIZE   \n",
              "4     I'm done Peterson and I just killed two people   \n",
              "5  yeah we got a fire down here it's on Route 7 r...   \n",
              "6  are you out of the house yet no or I get out o...   \n",
              "7                                UNABLE TO RECOGNIZE   \n",
              "8          can you please send rescue to I think I'm   \n",
              "9  oh my God somebody shooting at the sheriff's d...   \n",
              "\n",
              "                                              sphinx  \\\n",
              "0      and while the al and then again okay go ahead   \n",
              "1  he had an idea of a pound and a coil of oil an...   \n",
              "2          no wonder the political had invited laugh   \n",
              "3  i'd really a man am i to have an latent he cou...   \n",
              "4   glendon beard and that is killed two people that   \n",
              "5  the little hard and long little doubt and let ...   \n",
              "6  we have our dead and now or i didn't have reac...   \n",
              "7  whether you're completely hemmed and looking f...   \n",
              "8                    and i knew her out and adam had   \n",
              "9  so why when you hear more than that but i'd ha...   \n",
              "\n",
              "                                             whisper  \\\n",
              "0                     Hello. Is everything okay? On.   \n",
              "1   Yes, I need a police officer over here. What'...   \n",
              "2      Ma'am, my cat is a person. I had it offended.   \n",
              "3   I'm gonna go to the bathroom and close the le...   \n",
              "4   I'm Joan Pearson and that has killed two people.   \n",
              "5   We've got a far down here, it's around 7, rig...   \n",
              "6   Are you out of the house yet? No. Or I get ou...   \n",
              "7   Yes, it is. Please return. Yes, it is. May he...   \n",
              "8   Can you please send rescue to... I think I'm ...   \n",
              "9   Oh my God, so many students at this year's de...   \n",
              "\n",
              "                                                vosk  \n",
              "0                  ah now i'm now is everything okay  \n",
              "1  that i'm anita police officer over here the co...  \n",
              "2               now my pick up on to go find that ah  \n",
              "3         remember my mom i got my house personality  \n",
              "4   i'm i'm down there and that it killed few people  \n",
              "5  there we go too far down here at our or out th...  \n",
              "6   i get out of our now i get out of as we can't to  \n",
              "7          i can't help you okay i put is ridiculous  \n",
              "8       you keep him back to cook i think i'm having  \n",
              "9  oh look at how many shooting here for partner ...  "
            ],
            "text/html": [
              "\n",
              "  <div id=\"df-50db9a47-b53a-49ce-a50e-080e17152942\" class=\"colab-df-container\">\n",
              "    <div>\n",
              "<style scoped>\n",
              "    .dataframe tbody tr th:only-of-type {\n",
              "        vertical-align: middle;\n",
              "    }\n",
              "\n",
              "    .dataframe tbody tr th {\n",
              "        vertical-align: top;\n",
              "    }\n",
              "\n",
              "    .dataframe thead th {\n",
              "        text-align: right;\n",
              "    }\n",
              "</style>\n",
              "<table border=\"1\" class=\"dataframe\">\n",
              "  <thead>\n",
              "    <tr style=\"text-align: right;\">\n",
              "      <th></th>\n",
              "      <th>filename</th>\n",
              "      <th>google</th>\n",
              "      <th>sphinx</th>\n",
              "      <th>whisper</th>\n",
              "      <th>vosk</th>\n",
              "    </tr>\n",
              "  </thead>\n",
              "  <tbody>\n",
              "    <tr>\n",
              "      <th>0</th>\n",
              "      <td>911_first6sec/call_8_0.wav</td>\n",
              "      <td>hello hello is everything okay</td>\n",
              "      <td>and while the al and then again okay go ahead</td>\n",
              "      <td>Hello. Is everything okay? On.</td>\n",
              "      <td>ah now i'm now is everything okay</td>\n",
              "    </tr>\n",
              "    <tr>\n",
              "      <th>1</th>\n",
              "      <td>911_first6sec/call_9_0.wav</td>\n",
              "      <td>UNABLE TO RECOGNIZE</td>\n",
              "      <td>he had an idea of a pound and a coil of oil an...</td>\n",
              "      <td>Yes, I need a police officer over here. What'...</td>\n",
              "      <td>that i'm anita police officer over here the co...</td>\n",
              "    </tr>\n",
              "    <tr>\n",
              "      <th>2</th>\n",
              "      <td>911_first6sec/call_10_0.wav</td>\n",
              "      <td>damn my pickup was born I had to go find it</td>\n",
              "      <td>no wonder the political had invited laugh</td>\n",
              "      <td>Ma'am, my cat is a person. I had it offended.</td>\n",
              "      <td>now my pick up on to go find that ah</td>\n",
              "    </tr>\n",
              "    <tr>\n",
              "      <th>3</th>\n",
              "      <td>911_first6sec/call_11_0.wav</td>\n",
              "      <td>UNABLE TO RECOGNIZE</td>\n",
              "      <td>i'd really a man am i to have an latent he cou...</td>\n",
              "      <td>I'm gonna go to the bathroom and close the le...</td>\n",
              "      <td>remember my mom i got my house personality</td>\n",
              "    </tr>\n",
              "    <tr>\n",
              "      <th>4</th>\n",
              "      <td>911_first6sec/call_15_0.wav</td>\n",
              "      <td>I'm done Peterson and I just killed two people</td>\n",
              "      <td>glendon beard and that is killed two people that</td>\n",
              "      <td>I'm Joan Pearson and that has killed two people.</td>\n",
              "      <td>i'm i'm down there and that it killed few people</td>\n",
              "    </tr>\n",
              "    <tr>\n",
              "      <th>5</th>\n",
              "      <td>911_first6sec/call_17_0.wav</td>\n",
              "      <td>yeah we got a fire down here it's on Route 7 r...</td>\n",
              "      <td>the little hard and long little doubt and let ...</td>\n",
              "      <td>We've got a far down here, it's around 7, rig...</td>\n",
              "      <td>there we go too far down here at our or out th...</td>\n",
              "    </tr>\n",
              "    <tr>\n",
              "      <th>6</th>\n",
              "      <td>911_first6sec/call_20_0.wav</td>\n",
              "      <td>are you out of the house yet no or I get out o...</td>\n",
              "      <td>we have our dead and now or i didn't have reac...</td>\n",
              "      <td>Are you out of the house yet? No. Or I get ou...</td>\n",
              "      <td>i get out of our now i get out of as we can't to</td>\n",
              "    </tr>\n",
              "    <tr>\n",
              "      <th>7</th>\n",
              "      <td>911_first6sec/call_21_0.wav</td>\n",
              "      <td>UNABLE TO RECOGNIZE</td>\n",
              "      <td>whether you're completely hemmed and looking f...</td>\n",
              "      <td>Yes, it is. Please return. Yes, it is. May he...</td>\n",
              "      <td>i can't help you okay i put is ridiculous</td>\n",
              "    </tr>\n",
              "    <tr>\n",
              "      <th>8</th>\n",
              "      <td>911_first6sec/call_28_0.wav</td>\n",
              "      <td>can you please send rescue to I think I'm</td>\n",
              "      <td>and i knew her out and adam had</td>\n",
              "      <td>Can you please send rescue to... I think I'm ...</td>\n",
              "      <td>you keep him back to cook i think i'm having</td>\n",
              "    </tr>\n",
              "    <tr>\n",
              "      <th>9</th>\n",
              "      <td>911_first6sec/call_31_0.wav</td>\n",
              "      <td>oh my God somebody shooting at the sheriff's d...</td>\n",
              "      <td>so why when you hear more than that but i'd ha...</td>\n",
              "      <td>Oh my God, so many students at this year's de...</td>\n",
              "      <td>oh look at how many shooting here for partner ...</td>\n",
              "    </tr>\n",
              "  </tbody>\n",
              "</table>\n",
              "</div>\n",
              "    <div class=\"colab-df-buttons\">\n",
              "\n",
              "  <div class=\"colab-df-container\">\n",
              "    <button class=\"colab-df-convert\" onclick=\"convertToInteractive('df-50db9a47-b53a-49ce-a50e-080e17152942')\"\n",
              "            title=\"Convert this dataframe to an interactive table.\"\n",
              "            style=\"display:none;\">\n",
              "\n",
              "  <svg xmlns=\"http://www.w3.org/2000/svg\" height=\"24px\" viewBox=\"0 -960 960 960\">\n",
              "    <path d=\"M120-120v-720h720v720H120Zm60-500h600v-160H180v160Zm220 220h160v-160H400v160Zm0 220h160v-160H400v160ZM180-400h160v-160H180v160Zm440 0h160v-160H620v160ZM180-180h160v-160H180v160Zm440 0h160v-160H620v160Z\"/>\n",
              "  </svg>\n",
              "    </button>\n",
              "\n",
              "  <style>\n",
              "    .colab-df-container {\n",
              "      display:flex;\n",
              "      gap: 12px;\n",
              "    }\n",
              "\n",
              "    .colab-df-convert {\n",
              "      background-color: #E8F0FE;\n",
              "      border: none;\n",
              "      border-radius: 50%;\n",
              "      cursor: pointer;\n",
              "      display: none;\n",
              "      fill: #1967D2;\n",
              "      height: 32px;\n",
              "      padding: 0 0 0 0;\n",
              "      width: 32px;\n",
              "    }\n",
              "\n",
              "    .colab-df-convert:hover {\n",
              "      background-color: #E2EBFA;\n",
              "      box-shadow: 0px 1px 2px rgba(60, 64, 67, 0.3), 0px 1px 3px 1px rgba(60, 64, 67, 0.15);\n",
              "      fill: #174EA6;\n",
              "    }\n",
              "\n",
              "    .colab-df-buttons div {\n",
              "      margin-bottom: 4px;\n",
              "    }\n",
              "\n",
              "    [theme=dark] .colab-df-convert {\n",
              "      background-color: #3B4455;\n",
              "      fill: #D2E3FC;\n",
              "    }\n",
              "\n",
              "    [theme=dark] .colab-df-convert:hover {\n",
              "      background-color: #434B5C;\n",
              "      box-shadow: 0px 1px 3px 1px rgba(0, 0, 0, 0.15);\n",
              "      filter: drop-shadow(0px 1px 2px rgba(0, 0, 0, 0.3));\n",
              "      fill: #FFFFFF;\n",
              "    }\n",
              "  </style>\n",
              "\n",
              "    <script>\n",
              "      const buttonEl =\n",
              "        document.querySelector('#df-50db9a47-b53a-49ce-a50e-080e17152942 button.colab-df-convert');\n",
              "      buttonEl.style.display =\n",
              "        google.colab.kernel.accessAllowed ? 'block' : 'none';\n",
              "\n",
              "      async function convertToInteractive(key) {\n",
              "        const element = document.querySelector('#df-50db9a47-b53a-49ce-a50e-080e17152942');\n",
              "        const dataTable =\n",
              "          await google.colab.kernel.invokeFunction('convertToInteractive',\n",
              "                                                    [key], {});\n",
              "        if (!dataTable) return;\n",
              "\n",
              "        const docLinkHtml = 'Like what you see? Visit the ' +\n",
              "          '<a target=\"_blank\" href=https://colab.research.google.com/notebooks/data_table.ipynb>data table notebook</a>'\n",
              "          + ' to learn more about interactive tables.';\n",
              "        element.innerHTML = '';\n",
              "        dataTable['output_type'] = 'display_data';\n",
              "        await google.colab.output.renderOutput(dataTable, element);\n",
              "        const docLink = document.createElement('div');\n",
              "        docLink.innerHTML = docLinkHtml;\n",
              "        element.appendChild(docLink);\n",
              "      }\n",
              "    </script>\n",
              "  </div>\n",
              "\n",
              "\n",
              "<div id=\"df-b9f46466-f3f1-485f-80bf-d7868bfffb60\">\n",
              "  <button class=\"colab-df-quickchart\" onclick=\"quickchart('df-b9f46466-f3f1-485f-80bf-d7868bfffb60')\"\n",
              "            title=\"Suggest charts.\"\n",
              "            style=\"display:none;\">\n",
              "\n",
              "<svg xmlns=\"http://www.w3.org/2000/svg\" height=\"24px\"viewBox=\"0 0 24 24\"\n",
              "     width=\"24px\">\n",
              "    <g>\n",
              "        <path d=\"M19 3H5c-1.1 0-2 .9-2 2v14c0 1.1.9 2 2 2h14c1.1 0 2-.9 2-2V5c0-1.1-.9-2-2-2zM9 17H7v-7h2v7zm4 0h-2V7h2v10zm4 0h-2v-4h2v4z\"/>\n",
              "    </g>\n",
              "</svg>\n",
              "  </button>\n",
              "\n",
              "<style>\n",
              "  .colab-df-quickchart {\n",
              "      --bg-color: #E8F0FE;\n",
              "      --fill-color: #1967D2;\n",
              "      --hover-bg-color: #E2EBFA;\n",
              "      --hover-fill-color: #174EA6;\n",
              "      --disabled-fill-color: #AAA;\n",
              "      --disabled-bg-color: #DDD;\n",
              "  }\n",
              "\n",
              "  [theme=dark] .colab-df-quickchart {\n",
              "      --bg-color: #3B4455;\n",
              "      --fill-color: #D2E3FC;\n",
              "      --hover-bg-color: #434B5C;\n",
              "      --hover-fill-color: #FFFFFF;\n",
              "      --disabled-bg-color: #3B4455;\n",
              "      --disabled-fill-color: #666;\n",
              "  }\n",
              "\n",
              "  .colab-df-quickchart {\n",
              "    background-color: var(--bg-color);\n",
              "    border: none;\n",
              "    border-radius: 50%;\n",
              "    cursor: pointer;\n",
              "    display: none;\n",
              "    fill: var(--fill-color);\n",
              "    height: 32px;\n",
              "    padding: 0;\n",
              "    width: 32px;\n",
              "  }\n",
              "\n",
              "  .colab-df-quickchart:hover {\n",
              "    background-color: var(--hover-bg-color);\n",
              "    box-shadow: 0 1px 2px rgba(60, 64, 67, 0.3), 0 1px 3px 1px rgba(60, 64, 67, 0.15);\n",
              "    fill: var(--button-hover-fill-color);\n",
              "  }\n",
              "\n",
              "  .colab-df-quickchart-complete:disabled,\n",
              "  .colab-df-quickchart-complete:disabled:hover {\n",
              "    background-color: var(--disabled-bg-color);\n",
              "    fill: var(--disabled-fill-color);\n",
              "    box-shadow: none;\n",
              "  }\n",
              "\n",
              "  .colab-df-spinner {\n",
              "    border: 2px solid var(--fill-color);\n",
              "    border-color: transparent;\n",
              "    border-bottom-color: var(--fill-color);\n",
              "    animation:\n",
              "      spin 1s steps(1) infinite;\n",
              "  }\n",
              "\n",
              "  @keyframes spin {\n",
              "    0% {\n",
              "      border-color: transparent;\n",
              "      border-bottom-color: var(--fill-color);\n",
              "      border-left-color: var(--fill-color);\n",
              "    }\n",
              "    20% {\n",
              "      border-color: transparent;\n",
              "      border-left-color: var(--fill-color);\n",
              "      border-top-color: var(--fill-color);\n",
              "    }\n",
              "    30% {\n",
              "      border-color: transparent;\n",
              "      border-left-color: var(--fill-color);\n",
              "      border-top-color: var(--fill-color);\n",
              "      border-right-color: var(--fill-color);\n",
              "    }\n",
              "    40% {\n",
              "      border-color: transparent;\n",
              "      border-right-color: var(--fill-color);\n",
              "      border-top-color: var(--fill-color);\n",
              "    }\n",
              "    60% {\n",
              "      border-color: transparent;\n",
              "      border-right-color: var(--fill-color);\n",
              "    }\n",
              "    80% {\n",
              "      border-color: transparent;\n",
              "      border-right-color: var(--fill-color);\n",
              "      border-bottom-color: var(--fill-color);\n",
              "    }\n",
              "    90% {\n",
              "      border-color: transparent;\n",
              "      border-bottom-color: var(--fill-color);\n",
              "    }\n",
              "  }\n",
              "</style>\n",
              "\n",
              "  <script>\n",
              "    async function quickchart(key) {\n",
              "      const quickchartButtonEl =\n",
              "        document.querySelector('#' + key + ' button');\n",
              "      quickchartButtonEl.disabled = true;  // To prevent multiple clicks.\n",
              "      quickchartButtonEl.classList.add('colab-df-spinner');\n",
              "      try {\n",
              "        const charts = await google.colab.kernel.invokeFunction(\n",
              "            'suggestCharts', [key], {});\n",
              "      } catch (error) {\n",
              "        console.error('Error during call to suggestCharts:', error);\n",
              "      }\n",
              "      quickchartButtonEl.classList.remove('colab-df-spinner');\n",
              "      quickchartButtonEl.classList.add('colab-df-quickchart-complete');\n",
              "    }\n",
              "    (() => {\n",
              "      let quickchartButtonEl =\n",
              "        document.querySelector('#df-b9f46466-f3f1-485f-80bf-d7868bfffb60 button');\n",
              "      quickchartButtonEl.style.display =\n",
              "        google.colab.kernel.accessAllowed ? 'block' : 'none';\n",
              "    })();\n",
              "  </script>\n",
              "</div>\n",
              "    </div>\n",
              "  </div>\n"
            ]
          },
          "metadata": {},
          "execution_count": 194
        },
        {
          "output_type": "stream",
          "name": "stdout",
          "text": [
            "time: 18.6 ms (started: 2023-09-28 20:14:28 +00:00)\n"
          ]
        }
      ]
    },
    {
      "cell_type": "code",
      "source": [
        "assessment = assessment.merge(manual_transcriptions, left_on='filename', right_on='filename')"
      ],
      "metadata": {
        "colab": {
          "base_uri": "https://localhost:8080/",
          "height": 554
        },
        "id": "zuatSfvsWJJy",
        "outputId": "bebcfc80-6567-4788-b84f-d904eb5cdaa7"
      },
      "id": "zuatSfvsWJJy",
      "execution_count": 195,
      "outputs": [
        {
          "output_type": "execute_result",
          "data": {
            "text/plain": [
              "                      filename  \\\n",
              "0   911_first6sec/call_8_0.wav   \n",
              "1   911_first6sec/call_9_0.wav   \n",
              "2  911_first6sec/call_10_0.wav   \n",
              "3  911_first6sec/call_11_0.wav   \n",
              "4  911_first6sec/call_15_0.wav   \n",
              "5  911_first6sec/call_17_0.wav   \n",
              "6  911_first6sec/call_20_0.wav   \n",
              "7  911_first6sec/call_21_0.wav   \n",
              "8  911_first6sec/call_28_0.wav   \n",
              "9  911_first6sec/call_31_0.wav   \n",
              "\n",
              "                                              google  \\\n",
              "0                     hello hello is everything okay   \n",
              "1                                UNABLE TO RECOGNIZE   \n",
              "2        damn my pickup was born I had to go find it   \n",
              "3                                UNABLE TO RECOGNIZE   \n",
              "4     I'm done Peterson and I just killed two people   \n",
              "5  yeah we got a fire down here it's on Route 7 r...   \n",
              "6  are you out of the house yet no or I get out o...   \n",
              "7                                UNABLE TO RECOGNIZE   \n",
              "8          can you please send rescue to I think I'm   \n",
              "9  oh my God somebody shooting at the sheriff's d...   \n",
              "\n",
              "                                              sphinx  \\\n",
              "0      and while the al and then again okay go ahead   \n",
              "1  he had an idea of a pound and a coil of oil an...   \n",
              "2          no wonder the political had invited laugh   \n",
              "3  i'd really a man am i to have an latent he cou...   \n",
              "4   glendon beard and that is killed two people that   \n",
              "5  the little hard and long little doubt and let ...   \n",
              "6  we have our dead and now or i didn't have reac...   \n",
              "7  whether you're completely hemmed and looking f...   \n",
              "8                    and i knew her out and adam had   \n",
              "9  so why when you hear more than that but i'd ha...   \n",
              "\n",
              "                                             whisper  \\\n",
              "0                     Hello. Is everything okay? On.   \n",
              "1   Yes, I need a police officer over here. What'...   \n",
              "2      Ma'am, my cat is a person. I had it offended.   \n",
              "3   I'm gonna go to the bathroom and close the le...   \n",
              "4   I'm Joan Pearson and that has killed two people.   \n",
              "5   We've got a far down here, it's around 7, rig...   \n",
              "6   Are you out of the house yet? No. Or I get ou...   \n",
              "7   Yes, it is. Please return. Yes, it is. May he...   \n",
              "8   Can you please send rescue to... I think I'm ...   \n",
              "9   Oh my God, so many students at this year's de...   \n",
              "\n",
              "                                                vosk  \\\n",
              "0                  ah now i'm now is everything okay   \n",
              "1  that i'm anita police officer over here the co...   \n",
              "2               now my pick up on to go find that ah   \n",
              "3         remember my mom i got my house personality   \n",
              "4   i'm i'm down there and that it killed few people   \n",
              "5  there we go too far down here at our or out th...   \n",
              "6   i get out of our now i get out of as we can't to   \n",
              "7          i can't help you okay i put is ridiculous   \n",
              "8       you keep him back to cook i think i'm having   \n",
              "9  oh look at how many shooting here for partner ...   \n",
              "\n",
              "                               manual_transcriptions  \n",
              "0                  um hello hello is everything okay  \n",
              "1  yes um i need a police officer over here at wh...  \n",
              "2  ma'am my pickup was stolen I had to go find it...  \n",
              "3  no ma'am i don't i don't have an emergency two...  \n",
              "4    I'm Dylon Peterson and i just killed two people  \n",
              "5  yeah we got a fire down here at on route seven...  \n",
              "6  are you out of the house yet no alright get ou...  \n",
              "7  yes is this a police station yes it is may i h...  \n",
              "8          can you please send rescue to i think i'm  \n",
              "9  oh my god somebody is shooting at the sheriff'...  "
            ],
            "text/html": [
              "\n",
              "  <div id=\"df-ebb6695f-a03f-4136-97a8-af887de5639d\" class=\"colab-df-container\">\n",
              "    <div>\n",
              "<style scoped>\n",
              "    .dataframe tbody tr th:only-of-type {\n",
              "        vertical-align: middle;\n",
              "    }\n",
              "\n",
              "    .dataframe tbody tr th {\n",
              "        vertical-align: top;\n",
              "    }\n",
              "\n",
              "    .dataframe thead th {\n",
              "        text-align: right;\n",
              "    }\n",
              "</style>\n",
              "<table border=\"1\" class=\"dataframe\">\n",
              "  <thead>\n",
              "    <tr style=\"text-align: right;\">\n",
              "      <th></th>\n",
              "      <th>filename</th>\n",
              "      <th>google</th>\n",
              "      <th>sphinx</th>\n",
              "      <th>whisper</th>\n",
              "      <th>vosk</th>\n",
              "      <th>manual_transcriptions</th>\n",
              "    </tr>\n",
              "  </thead>\n",
              "  <tbody>\n",
              "    <tr>\n",
              "      <th>0</th>\n",
              "      <td>911_first6sec/call_8_0.wav</td>\n",
              "      <td>hello hello is everything okay</td>\n",
              "      <td>and while the al and then again okay go ahead</td>\n",
              "      <td>Hello. Is everything okay? On.</td>\n",
              "      <td>ah now i'm now is everything okay</td>\n",
              "      <td>um hello hello is everything okay</td>\n",
              "    </tr>\n",
              "    <tr>\n",
              "      <th>1</th>\n",
              "      <td>911_first6sec/call_9_0.wav</td>\n",
              "      <td>UNABLE TO RECOGNIZE</td>\n",
              "      <td>he had an idea of a pound and a coil of oil an...</td>\n",
              "      <td>Yes, I need a police officer over here. What'...</td>\n",
              "      <td>that i'm anita police officer over here the co...</td>\n",
              "      <td>yes um i need a police officer over here at wh...</td>\n",
              "    </tr>\n",
              "    <tr>\n",
              "      <th>2</th>\n",
              "      <td>911_first6sec/call_10_0.wav</td>\n",
              "      <td>damn my pickup was born I had to go find it</td>\n",
              "      <td>no wonder the political had invited laugh</td>\n",
              "      <td>Ma'am, my cat is a person. I had it offended.</td>\n",
              "      <td>now my pick up on to go find that ah</td>\n",
              "      <td>ma'am my pickup was stolen I had to go find it...</td>\n",
              "    </tr>\n",
              "    <tr>\n",
              "      <th>3</th>\n",
              "      <td>911_first6sec/call_11_0.wav</td>\n",
              "      <td>UNABLE TO RECOGNIZE</td>\n",
              "      <td>i'd really a man am i to have an latent he cou...</td>\n",
              "      <td>I'm gonna go to the bathroom and close the le...</td>\n",
              "      <td>remember my mom i got my house personality</td>\n",
              "      <td>no ma'am i don't i don't have an emergency two...</td>\n",
              "    </tr>\n",
              "    <tr>\n",
              "      <th>4</th>\n",
              "      <td>911_first6sec/call_15_0.wav</td>\n",
              "      <td>I'm done Peterson and I just killed two people</td>\n",
              "      <td>glendon beard and that is killed two people that</td>\n",
              "      <td>I'm Joan Pearson and that has killed two people.</td>\n",
              "      <td>i'm i'm down there and that it killed few people</td>\n",
              "      <td>I'm Dylon Peterson and i just killed two people</td>\n",
              "    </tr>\n",
              "    <tr>\n",
              "      <th>5</th>\n",
              "      <td>911_first6sec/call_17_0.wav</td>\n",
              "      <td>yeah we got a fire down here it's on Route 7 r...</td>\n",
              "      <td>the little hard and long little doubt and let ...</td>\n",
              "      <td>We've got a far down here, it's around 7, rig...</td>\n",
              "      <td>there we go too far down here at our or out th...</td>\n",
              "      <td>yeah we got a fire down here at on route seven...</td>\n",
              "    </tr>\n",
              "    <tr>\n",
              "      <th>6</th>\n",
              "      <td>911_first6sec/call_20_0.wav</td>\n",
              "      <td>are you out of the house yet no or I get out o...</td>\n",
              "      <td>we have our dead and now or i didn't have reac...</td>\n",
              "      <td>Are you out of the house yet? No. Or I get ou...</td>\n",
              "      <td>i get out of our now i get out of as we can't to</td>\n",
              "      <td>are you out of the house yet no alright get ou...</td>\n",
              "    </tr>\n",
              "    <tr>\n",
              "      <th>7</th>\n",
              "      <td>911_first6sec/call_21_0.wav</td>\n",
              "      <td>UNABLE TO RECOGNIZE</td>\n",
              "      <td>whether you're completely hemmed and looking f...</td>\n",
              "      <td>Yes, it is. Please return. Yes, it is. May he...</td>\n",
              "      <td>i can't help you okay i put is ridiculous</td>\n",
              "      <td>yes is this a police station yes it is may i h...</td>\n",
              "    </tr>\n",
              "    <tr>\n",
              "      <th>8</th>\n",
              "      <td>911_first6sec/call_28_0.wav</td>\n",
              "      <td>can you please send rescue to I think I'm</td>\n",
              "      <td>and i knew her out and adam had</td>\n",
              "      <td>Can you please send rescue to... I think I'm ...</td>\n",
              "      <td>you keep him back to cook i think i'm having</td>\n",
              "      <td>can you please send rescue to i think i'm</td>\n",
              "    </tr>\n",
              "    <tr>\n",
              "      <th>9</th>\n",
              "      <td>911_first6sec/call_31_0.wav</td>\n",
              "      <td>oh my God somebody shooting at the sheriff's d...</td>\n",
              "      <td>so why when you hear more than that but i'd ha...</td>\n",
              "      <td>Oh my God, so many students at this year's de...</td>\n",
              "      <td>oh look at how many shooting here for partner ...</td>\n",
              "      <td>oh my god somebody is shooting at the sheriff'...</td>\n",
              "    </tr>\n",
              "  </tbody>\n",
              "</table>\n",
              "</div>\n",
              "    <div class=\"colab-df-buttons\">\n",
              "\n",
              "  <div class=\"colab-df-container\">\n",
              "    <button class=\"colab-df-convert\" onclick=\"convertToInteractive('df-ebb6695f-a03f-4136-97a8-af887de5639d')\"\n",
              "            title=\"Convert this dataframe to an interactive table.\"\n",
              "            style=\"display:none;\">\n",
              "\n",
              "  <svg xmlns=\"http://www.w3.org/2000/svg\" height=\"24px\" viewBox=\"0 -960 960 960\">\n",
              "    <path d=\"M120-120v-720h720v720H120Zm60-500h600v-160H180v160Zm220 220h160v-160H400v160Zm0 220h160v-160H400v160ZM180-400h160v-160H180v160Zm440 0h160v-160H620v160ZM180-180h160v-160H180v160Zm440 0h160v-160H620v160Z\"/>\n",
              "  </svg>\n",
              "    </button>\n",
              "\n",
              "  <style>\n",
              "    .colab-df-container {\n",
              "      display:flex;\n",
              "      gap: 12px;\n",
              "    }\n",
              "\n",
              "    .colab-df-convert {\n",
              "      background-color: #E8F0FE;\n",
              "      border: none;\n",
              "      border-radius: 50%;\n",
              "      cursor: pointer;\n",
              "      display: none;\n",
              "      fill: #1967D2;\n",
              "      height: 32px;\n",
              "      padding: 0 0 0 0;\n",
              "      width: 32px;\n",
              "    }\n",
              "\n",
              "    .colab-df-convert:hover {\n",
              "      background-color: #E2EBFA;\n",
              "      box-shadow: 0px 1px 2px rgba(60, 64, 67, 0.3), 0px 1px 3px 1px rgba(60, 64, 67, 0.15);\n",
              "      fill: #174EA6;\n",
              "    }\n",
              "\n",
              "    .colab-df-buttons div {\n",
              "      margin-bottom: 4px;\n",
              "    }\n",
              "\n",
              "    [theme=dark] .colab-df-convert {\n",
              "      background-color: #3B4455;\n",
              "      fill: #D2E3FC;\n",
              "    }\n",
              "\n",
              "    [theme=dark] .colab-df-convert:hover {\n",
              "      background-color: #434B5C;\n",
              "      box-shadow: 0px 1px 3px 1px rgba(0, 0, 0, 0.15);\n",
              "      filter: drop-shadow(0px 1px 2px rgba(0, 0, 0, 0.3));\n",
              "      fill: #FFFFFF;\n",
              "    }\n",
              "  </style>\n",
              "\n",
              "    <script>\n",
              "      const buttonEl =\n",
              "        document.querySelector('#df-ebb6695f-a03f-4136-97a8-af887de5639d button.colab-df-convert');\n",
              "      buttonEl.style.display =\n",
              "        google.colab.kernel.accessAllowed ? 'block' : 'none';\n",
              "\n",
              "      async function convertToInteractive(key) {\n",
              "        const element = document.querySelector('#df-ebb6695f-a03f-4136-97a8-af887de5639d');\n",
              "        const dataTable =\n",
              "          await google.colab.kernel.invokeFunction('convertToInteractive',\n",
              "                                                    [key], {});\n",
              "        if (!dataTable) return;\n",
              "\n",
              "        const docLinkHtml = 'Like what you see? Visit the ' +\n",
              "          '<a target=\"_blank\" href=https://colab.research.google.com/notebooks/data_table.ipynb>data table notebook</a>'\n",
              "          + ' to learn more about interactive tables.';\n",
              "        element.innerHTML = '';\n",
              "        dataTable['output_type'] = 'display_data';\n",
              "        await google.colab.output.renderOutput(dataTable, element);\n",
              "        const docLink = document.createElement('div');\n",
              "        docLink.innerHTML = docLinkHtml;\n",
              "        element.appendChild(docLink);\n",
              "      }\n",
              "    </script>\n",
              "  </div>\n",
              "\n",
              "\n",
              "<div id=\"df-28f87688-f183-447c-b7ad-e02ea49d2137\">\n",
              "  <button class=\"colab-df-quickchart\" onclick=\"quickchart('df-28f87688-f183-447c-b7ad-e02ea49d2137')\"\n",
              "            title=\"Suggest charts.\"\n",
              "            style=\"display:none;\">\n",
              "\n",
              "<svg xmlns=\"http://www.w3.org/2000/svg\" height=\"24px\"viewBox=\"0 0 24 24\"\n",
              "     width=\"24px\">\n",
              "    <g>\n",
              "        <path d=\"M19 3H5c-1.1 0-2 .9-2 2v14c0 1.1.9 2 2 2h14c1.1 0 2-.9 2-2V5c0-1.1-.9-2-2-2zM9 17H7v-7h2v7zm4 0h-2V7h2v10zm4 0h-2v-4h2v4z\"/>\n",
              "    </g>\n",
              "</svg>\n",
              "  </button>\n",
              "\n",
              "<style>\n",
              "  .colab-df-quickchart {\n",
              "      --bg-color: #E8F0FE;\n",
              "      --fill-color: #1967D2;\n",
              "      --hover-bg-color: #E2EBFA;\n",
              "      --hover-fill-color: #174EA6;\n",
              "      --disabled-fill-color: #AAA;\n",
              "      --disabled-bg-color: #DDD;\n",
              "  }\n",
              "\n",
              "  [theme=dark] .colab-df-quickchart {\n",
              "      --bg-color: #3B4455;\n",
              "      --fill-color: #D2E3FC;\n",
              "      --hover-bg-color: #434B5C;\n",
              "      --hover-fill-color: #FFFFFF;\n",
              "      --disabled-bg-color: #3B4455;\n",
              "      --disabled-fill-color: #666;\n",
              "  }\n",
              "\n",
              "  .colab-df-quickchart {\n",
              "    background-color: var(--bg-color);\n",
              "    border: none;\n",
              "    border-radius: 50%;\n",
              "    cursor: pointer;\n",
              "    display: none;\n",
              "    fill: var(--fill-color);\n",
              "    height: 32px;\n",
              "    padding: 0;\n",
              "    width: 32px;\n",
              "  }\n",
              "\n",
              "  .colab-df-quickchart:hover {\n",
              "    background-color: var(--hover-bg-color);\n",
              "    box-shadow: 0 1px 2px rgba(60, 64, 67, 0.3), 0 1px 3px 1px rgba(60, 64, 67, 0.15);\n",
              "    fill: var(--button-hover-fill-color);\n",
              "  }\n",
              "\n",
              "  .colab-df-quickchart-complete:disabled,\n",
              "  .colab-df-quickchart-complete:disabled:hover {\n",
              "    background-color: var(--disabled-bg-color);\n",
              "    fill: var(--disabled-fill-color);\n",
              "    box-shadow: none;\n",
              "  }\n",
              "\n",
              "  .colab-df-spinner {\n",
              "    border: 2px solid var(--fill-color);\n",
              "    border-color: transparent;\n",
              "    border-bottom-color: var(--fill-color);\n",
              "    animation:\n",
              "      spin 1s steps(1) infinite;\n",
              "  }\n",
              "\n",
              "  @keyframes spin {\n",
              "    0% {\n",
              "      border-color: transparent;\n",
              "      border-bottom-color: var(--fill-color);\n",
              "      border-left-color: var(--fill-color);\n",
              "    }\n",
              "    20% {\n",
              "      border-color: transparent;\n",
              "      border-left-color: var(--fill-color);\n",
              "      border-top-color: var(--fill-color);\n",
              "    }\n",
              "    30% {\n",
              "      border-color: transparent;\n",
              "      border-left-color: var(--fill-color);\n",
              "      border-top-color: var(--fill-color);\n",
              "      border-right-color: var(--fill-color);\n",
              "    }\n",
              "    40% {\n",
              "      border-color: transparent;\n",
              "      border-right-color: var(--fill-color);\n",
              "      border-top-color: var(--fill-color);\n",
              "    }\n",
              "    60% {\n",
              "      border-color: transparent;\n",
              "      border-right-color: var(--fill-color);\n",
              "    }\n",
              "    80% {\n",
              "      border-color: transparent;\n",
              "      border-right-color: var(--fill-color);\n",
              "      border-bottom-color: var(--fill-color);\n",
              "    }\n",
              "    90% {\n",
              "      border-color: transparent;\n",
              "      border-bottom-color: var(--fill-color);\n",
              "    }\n",
              "  }\n",
              "</style>\n",
              "\n",
              "  <script>\n",
              "    async function quickchart(key) {\n",
              "      const quickchartButtonEl =\n",
              "        document.querySelector('#' + key + ' button');\n",
              "      quickchartButtonEl.disabled = true;  // To prevent multiple clicks.\n",
              "      quickchartButtonEl.classList.add('colab-df-spinner');\n",
              "      try {\n",
              "        const charts = await google.colab.kernel.invokeFunction(\n",
              "            'suggestCharts', [key], {});\n",
              "      } catch (error) {\n",
              "        console.error('Error during call to suggestCharts:', error);\n",
              "      }\n",
              "      quickchartButtonEl.classList.remove('colab-df-spinner');\n",
              "      quickchartButtonEl.classList.add('colab-df-quickchart-complete');\n",
              "    }\n",
              "    (() => {\n",
              "      let quickchartButtonEl =\n",
              "        document.querySelector('#df-28f87688-f183-447c-b7ad-e02ea49d2137 button');\n",
              "      quickchartButtonEl.style.display =\n",
              "        google.colab.kernel.accessAllowed ? 'block' : 'none';\n",
              "    })();\n",
              "  </script>\n",
              "</div>\n",
              "    </div>\n",
              "  </div>\n"
            ]
          },
          "metadata": {},
          "execution_count": 195
        },
        {
          "output_type": "stream",
          "name": "stdout",
          "text": [
            "time: 17.8 ms (started: 2023-09-28 20:14:30 +00:00)\n"
          ]
        }
      ]
    },
    {
      "cell_type": "markdown",
      "source": [
        "### Assess Transcriptions"
      ],
      "metadata": {
        "id": "mJWHTU5JgAhX"
      },
      "id": "mJWHTU5JgAhX"
    },
    {
      "cell_type": "code",
      "source": [
        "from difflib import SequenceMatcher\n",
        "\n",
        "def similar(row):\n",
        "    if row['google'] == 'UNABLE TO RECOGNIZE':\n",
        "      gr = 0\n",
        "    else:\n",
        "      gr = SequenceMatcher(None, row['google'], row['manual_transcriptions']).ratio()\n",
        "    sr = SequenceMatcher(None, row['sphinx'], row['manual_transcriptions']).ratio()\n",
        "    wr = SequenceMatcher(None, row['whisper'], row['manual_transcriptions']).ratio()\n",
        "    vr = SequenceMatcher(None, row['vosk'], row['manual_transcriptions']).ratio()\n",
        "    return gr, sr, wr, vr"
      ],
      "metadata": {
        "colab": {
          "base_uri": "https://localhost:8080/"
        },
        "id": "hd8p7pcBbtZN",
        "outputId": "c384c16c-5e0e-41cb-e528-26491ddd8050"
      },
      "id": "hd8p7pcBbtZN",
      "execution_count": 220,
      "outputs": [
        {
          "output_type": "stream",
          "name": "stdout",
          "text": [
            "time: 1.14 ms (started: 2023-09-28 20:25:33 +00:00)\n"
          ]
        }
      ]
    },
    {
      "cell_type": "code",
      "source": [
        "scores_series = assessment.progress_apply(similar, axis=1)\n",
        "column_names = {0: 'google', 1: 'sphinx', 2: 'whisper', 3: 'vosk'}\n",
        "scores_list = scores_series.values.tolist()\n",
        "scores = pd.DataFrame(scores_list).rename(column_names, axis=1)\n",
        "scores.mean()"
      ],
      "metadata": {
        "colab": {
          "base_uri": "https://localhost:8080/"
        },
        "id": "DfE4tZQycC-e",
        "outputId": "fb280d05-2e9f-4609-a8b2-8eb89d75d3f2"
      },
      "id": "DfE4tZQycC-e",
      "execution_count": 227,
      "outputs": [
        {
          "output_type": "stream",
          "name": "stderr",
          "text": [
            "100%|██████████| 10/10 [00:00<00:00, 321.87it/s]\n"
          ]
        },
        {
          "output_type": "execute_result",
          "data": {
            "text/plain": [
              "google     0.625686\n",
              "sphinx     0.334570\n",
              "whisper    0.682378\n",
              "vosk       0.586600\n",
              "dtype: float64"
            ]
          },
          "metadata": {},
          "execution_count": 227
        },
        {
          "output_type": "stream",
          "name": "stdout",
          "text": [
            "time: 53 ms (started: 2023-09-28 20:35:18 +00:00)\n"
          ]
        }
      ]
    },
    {
      "cell_type": "markdown",
      "source": [
        "We can see that whisper has the best score, followed by google and vosk, while sphinx lags behind."
      ],
      "metadata": {
        "id": "JJV07olweT9k"
      },
      "id": "JJV07olweT9k"
    },
    {
      "cell_type": "markdown",
      "source": [
        "## Clean Audio"
      ],
      "metadata": {
        "id": "1F84UEl6flGI"
      },
      "id": "1F84UEl6flGI"
    },
    {
      "cell_type": "markdown",
      "source": [
        "### Aggregate Transcriptions"
      ],
      "metadata": {
        "id": "1BMFHhYygWdT"
      },
      "id": "1BMFHhYygWdT"
    },
    {
      "cell_type": "code",
      "execution_count": 228,
      "metadata": {
        "outputId": "0297231a-8c07-4caa-989f-c487a69c5d87",
        "colab": {
          "base_uri": "https://localhost:8080/"
        },
        "id": "L4D7oQtIgWdk"
      },
      "outputs": [
        {
          "output_type": "stream",
          "name": "stderr",
          "text": [
            "100%|██████████| 10/10 [03:56<00:00, 23.69s/it]"
          ]
        },
        {
          "output_type": "stream",
          "name": "stdout",
          "text": [
            "time: 3min 56s (started: 2023-09-28 20:36:40 +00:00)\n"
          ]
        },
        {
          "output_type": "stream",
          "name": "stderr",
          "text": [
            "\n"
          ]
        }
      ],
      "source": [
        "transcriptions_series = filenames.progress_apply(transcribe_file, filter_noise=True)\n",
        "column_names = {0: 'google', 1: 'sphinx', 2: 'whisper', 3: 'vosk'}\n",
        "transcriptions_list = transcriptions_series.values.tolist()\n",
        "transcriptions = pd.DataFrame(transcriptions_list).rename(column_names, axis=1)"
      ],
      "id": "L4D7oQtIgWdk"
    },
    {
      "cell_type": "code",
      "source": [
        "assessment = pd.DataFrame({\"filename\": filenames})\n",
        "assessment = pd.concat([assessment, transcriptions], axis=1)"
      ],
      "metadata": {
        "outputId": "13d80bbd-0124-4ba4-ec79-798e565ae8a8",
        "colab": {
          "base_uri": "https://localhost:8080/"
        },
        "id": "mRsSurWagWdk"
      },
      "execution_count": 229,
      "outputs": [
        {
          "output_type": "stream",
          "name": "stdout",
          "text": [
            "time: 2.34 ms (started: 2023-09-28 20:40:58 +00:00)\n"
          ]
        }
      ],
      "id": "mRsSurWagWdk"
    },
    {
      "cell_type": "code",
      "source": [
        "assessment = assessment.merge(manual_transcriptions, left_on='filename', right_on='filename')"
      ],
      "metadata": {
        "outputId": "6b05cd4c-3957-45b4-a3e4-7331a21fece5",
        "colab": {
          "base_uri": "https://localhost:8080/"
        },
        "id": "efUwaeV-gWdk"
      },
      "execution_count": 230,
      "outputs": [
        {
          "output_type": "stream",
          "name": "stdout",
          "text": [
            "time: 6.9 ms (started: 2023-09-28 20:41:01 +00:00)\n"
          ]
        }
      ],
      "id": "efUwaeV-gWdk"
    },
    {
      "cell_type": "code",
      "source": [
        "assessment"
      ],
      "metadata": {
        "id": "45ETv86ohhIT",
        "outputId": "281894ae-97f9-4119-aa4d-3173fbaf4f13",
        "colab": {
          "base_uri": "https://localhost:8080/",
          "height": 554
        }
      },
      "id": "45ETv86ohhIT",
      "execution_count": 231,
      "outputs": [
        {
          "output_type": "execute_result",
          "data": {
            "text/plain": [
              "                      filename  \\\n",
              "0   911_first6sec/call_8_0.wav   \n",
              "1   911_first6sec/call_9_0.wav   \n",
              "2  911_first6sec/call_10_0.wav   \n",
              "3  911_first6sec/call_11_0.wav   \n",
              "4  911_first6sec/call_15_0.wav   \n",
              "5  911_first6sec/call_17_0.wav   \n",
              "6  911_first6sec/call_20_0.wav   \n",
              "7  911_first6sec/call_21_0.wav   \n",
              "8  911_first6sec/call_28_0.wav   \n",
              "9  911_first6sec/call_31_0.wav   \n",
              "\n",
              "                                              google  \\\n",
              "0              put on hello hello is everything okay   \n",
              "1                                    what's going on   \n",
              "2        damn my pickup was born I had to go find it   \n",
              "3                                UNABLE TO RECOGNIZE   \n",
              "4        I'm downstairs and I just killed two people   \n",
              "5                  on Route 7 right here in Abington   \n",
              "6  get out of the house yet no I get out of the h...   \n",
              "7                                UNABLE TO RECOGNIZE   \n",
              "8                  please send rescue to I think I'm   \n",
              "9  oh my God somebody shooting at the sheriff's d...   \n",
              "\n",
              "                                              sphinx  \\\n",
              "0          and while canal in the making of the coup   \n",
              "1             and i had had a war what owen adam had   \n",
              "2             my own mind at football has invited up   \n",
              "3  i'd really a man am i to have an latent he cou...   \n",
              "4          one delegate in the uphill to people that   \n",
              "5     god that the loaded on little doubt and let it   \n",
              "6  that i'd have now or i didn't have you read th...   \n",
              "7  i have heard of klingon camp but little more k...   \n",
              "8                      and i do her out and adam had   \n",
              "9  i'm alive than he wanted identify have been he...   \n",
              "\n",
              "                                             whisper  \\\n",
              "0             Hello. Hello. Is everything okay? I'm.   \n",
              "1   I need a police officer over here at 7. What'...   \n",
              "2     Ma'am, my kekep was born. I had to go find it.   \n",
              "3   I'm gonna go to the bathroom and close the le...   \n",
              "4      I'm Don Pearson and I just killed two people.   \n",
              "5   We've got a far down here, it's on Route 7, r...   \n",
              "6   You're out of the house yet? No. Or I get out...   \n",
              "7   Yes, it is a police station. Yes, it is. May ...   \n",
              "8       Please send a rescue to I think I'm having a   \n",
              "9   Oh my God, some of these children that they s...   \n",
              "\n",
              "                                                vosk  \\\n",
              "0                   now i'm now it's everything okay   \n",
              "1  anita a police officer of the here the corner ...   \n",
              "2               well my pick up on a go find that ah   \n",
              "3         remember my mom i got my house personality   \n",
              "4        i'm down here and that it killed few people   \n",
              "5  the far down here at or out thousand right her...   \n",
              "6    the out of as you know i get out of as we can't   \n",
              "7     i can't say help you okay i put the ridiculous   \n",
              "8                    that do too i think i'm heading   \n",
              "9  oh my god how many hidden a partner at the sha...   \n",
              "\n",
              "                               manual_transcriptions  \n",
              "0                  um hello hello is everything okay  \n",
              "1  yes um i need a police officer over here at wh...  \n",
              "2  ma'am my pickup was stolen I had to go find it...  \n",
              "3  no ma'am i don't i don't have an emergency two...  \n",
              "4    I'm Dylon Peterson and i just killed two people  \n",
              "5  yeah we got a fire down here at on route seven...  \n",
              "6  are you out of the house yet no alright get ou...  \n",
              "7  yes is this a police station yes it is may i h...  \n",
              "8          can you please send rescue to i think i'm  \n",
              "9  oh my god somebody is shooting at the sheriff'...  "
            ],
            "text/html": [
              "\n",
              "  <div id=\"df-c2558bed-11c2-4b49-98a3-0085ad506f98\" class=\"colab-df-container\">\n",
              "    <div>\n",
              "<style scoped>\n",
              "    .dataframe tbody tr th:only-of-type {\n",
              "        vertical-align: middle;\n",
              "    }\n",
              "\n",
              "    .dataframe tbody tr th {\n",
              "        vertical-align: top;\n",
              "    }\n",
              "\n",
              "    .dataframe thead th {\n",
              "        text-align: right;\n",
              "    }\n",
              "</style>\n",
              "<table border=\"1\" class=\"dataframe\">\n",
              "  <thead>\n",
              "    <tr style=\"text-align: right;\">\n",
              "      <th></th>\n",
              "      <th>filename</th>\n",
              "      <th>google</th>\n",
              "      <th>sphinx</th>\n",
              "      <th>whisper</th>\n",
              "      <th>vosk</th>\n",
              "      <th>manual_transcriptions</th>\n",
              "    </tr>\n",
              "  </thead>\n",
              "  <tbody>\n",
              "    <tr>\n",
              "      <th>0</th>\n",
              "      <td>911_first6sec/call_8_0.wav</td>\n",
              "      <td>put on hello hello is everything okay</td>\n",
              "      <td>and while canal in the making of the coup</td>\n",
              "      <td>Hello. Hello. Is everything okay? I'm.</td>\n",
              "      <td>now i'm now it's everything okay</td>\n",
              "      <td>um hello hello is everything okay</td>\n",
              "    </tr>\n",
              "    <tr>\n",
              "      <th>1</th>\n",
              "      <td>911_first6sec/call_9_0.wav</td>\n",
              "      <td>what's going on</td>\n",
              "      <td>and i had had a war what owen adam had</td>\n",
              "      <td>I need a police officer over here at 7. What'...</td>\n",
              "      <td>anita a police officer of the here the corner ...</td>\n",
              "      <td>yes um i need a police officer over here at wh...</td>\n",
              "    </tr>\n",
              "    <tr>\n",
              "      <th>2</th>\n",
              "      <td>911_first6sec/call_10_0.wav</td>\n",
              "      <td>damn my pickup was born I had to go find it</td>\n",
              "      <td>my own mind at football has invited up</td>\n",
              "      <td>Ma'am, my kekep was born. I had to go find it.</td>\n",
              "      <td>well my pick up on a go find that ah</td>\n",
              "      <td>ma'am my pickup was stolen I had to go find it...</td>\n",
              "    </tr>\n",
              "    <tr>\n",
              "      <th>3</th>\n",
              "      <td>911_first6sec/call_11_0.wav</td>\n",
              "      <td>UNABLE TO RECOGNIZE</td>\n",
              "      <td>i'd really a man am i to have an latent he cou...</td>\n",
              "      <td>I'm gonna go to the bathroom and close the le...</td>\n",
              "      <td>remember my mom i got my house personality</td>\n",
              "      <td>no ma'am i don't i don't have an emergency two...</td>\n",
              "    </tr>\n",
              "    <tr>\n",
              "      <th>4</th>\n",
              "      <td>911_first6sec/call_15_0.wav</td>\n",
              "      <td>I'm downstairs and I just killed two people</td>\n",
              "      <td>one delegate in the uphill to people that</td>\n",
              "      <td>I'm Don Pearson and I just killed two people.</td>\n",
              "      <td>i'm down here and that it killed few people</td>\n",
              "      <td>I'm Dylon Peterson and i just killed two people</td>\n",
              "    </tr>\n",
              "    <tr>\n",
              "      <th>5</th>\n",
              "      <td>911_first6sec/call_17_0.wav</td>\n",
              "      <td>on Route 7 right here in Abington</td>\n",
              "      <td>god that the loaded on little doubt and let it</td>\n",
              "      <td>We've got a far down here, it's on Route 7, r...</td>\n",
              "      <td>the far down here at or out thousand right her...</td>\n",
              "      <td>yeah we got a fire down here at on route seven...</td>\n",
              "    </tr>\n",
              "    <tr>\n",
              "      <th>6</th>\n",
              "      <td>911_first6sec/call_20_0.wav</td>\n",
              "      <td>get out of the house yet no I get out of the h...</td>\n",
              "      <td>that i'd have now or i didn't have you read th...</td>\n",
              "      <td>You're out of the house yet? No. Or I get out...</td>\n",
              "      <td>the out of as you know i get out of as we can't</td>\n",
              "      <td>are you out of the house yet no alright get ou...</td>\n",
              "    </tr>\n",
              "    <tr>\n",
              "      <th>7</th>\n",
              "      <td>911_first6sec/call_21_0.wav</td>\n",
              "      <td>UNABLE TO RECOGNIZE</td>\n",
              "      <td>i have heard of klingon camp but little more k...</td>\n",
              "      <td>Yes, it is a police station. Yes, it is. May ...</td>\n",
              "      <td>i can't say help you okay i put the ridiculous</td>\n",
              "      <td>yes is this a police station yes it is may i h...</td>\n",
              "    </tr>\n",
              "    <tr>\n",
              "      <th>8</th>\n",
              "      <td>911_first6sec/call_28_0.wav</td>\n",
              "      <td>please send rescue to I think I'm</td>\n",
              "      <td>and i do her out and adam had</td>\n",
              "      <td>Please send a rescue to I think I'm having a</td>\n",
              "      <td>that do too i think i'm heading</td>\n",
              "      <td>can you please send rescue to i think i'm</td>\n",
              "    </tr>\n",
              "    <tr>\n",
              "      <th>9</th>\n",
              "      <td>911_first6sec/call_31_0.wav</td>\n",
              "      <td>oh my God somebody shooting at the sheriff's d...</td>\n",
              "      <td>i'm alive than he wanted identify have been he...</td>\n",
              "      <td>Oh my God, some of these children that they s...</td>\n",
              "      <td>oh my god how many hidden a partner at the sha...</td>\n",
              "      <td>oh my god somebody is shooting at the sheriff'...</td>\n",
              "    </tr>\n",
              "  </tbody>\n",
              "</table>\n",
              "</div>\n",
              "    <div class=\"colab-df-buttons\">\n",
              "\n",
              "  <div class=\"colab-df-container\">\n",
              "    <button class=\"colab-df-convert\" onclick=\"convertToInteractive('df-c2558bed-11c2-4b49-98a3-0085ad506f98')\"\n",
              "            title=\"Convert this dataframe to an interactive table.\"\n",
              "            style=\"display:none;\">\n",
              "\n",
              "  <svg xmlns=\"http://www.w3.org/2000/svg\" height=\"24px\" viewBox=\"0 -960 960 960\">\n",
              "    <path d=\"M120-120v-720h720v720H120Zm60-500h600v-160H180v160Zm220 220h160v-160H400v160Zm0 220h160v-160H400v160ZM180-400h160v-160H180v160Zm440 0h160v-160H620v160ZM180-180h160v-160H180v160Zm440 0h160v-160H620v160Z\"/>\n",
              "  </svg>\n",
              "    </button>\n",
              "\n",
              "  <style>\n",
              "    .colab-df-container {\n",
              "      display:flex;\n",
              "      gap: 12px;\n",
              "    }\n",
              "\n",
              "    .colab-df-convert {\n",
              "      background-color: #E8F0FE;\n",
              "      border: none;\n",
              "      border-radius: 50%;\n",
              "      cursor: pointer;\n",
              "      display: none;\n",
              "      fill: #1967D2;\n",
              "      height: 32px;\n",
              "      padding: 0 0 0 0;\n",
              "      width: 32px;\n",
              "    }\n",
              "\n",
              "    .colab-df-convert:hover {\n",
              "      background-color: #E2EBFA;\n",
              "      box-shadow: 0px 1px 2px rgba(60, 64, 67, 0.3), 0px 1px 3px 1px rgba(60, 64, 67, 0.15);\n",
              "      fill: #174EA6;\n",
              "    }\n",
              "\n",
              "    .colab-df-buttons div {\n",
              "      margin-bottom: 4px;\n",
              "    }\n",
              "\n",
              "    [theme=dark] .colab-df-convert {\n",
              "      background-color: #3B4455;\n",
              "      fill: #D2E3FC;\n",
              "    }\n",
              "\n",
              "    [theme=dark] .colab-df-convert:hover {\n",
              "      background-color: #434B5C;\n",
              "      box-shadow: 0px 1px 3px 1px rgba(0, 0, 0, 0.15);\n",
              "      filter: drop-shadow(0px 1px 2px rgba(0, 0, 0, 0.3));\n",
              "      fill: #FFFFFF;\n",
              "    }\n",
              "  </style>\n",
              "\n",
              "    <script>\n",
              "      const buttonEl =\n",
              "        document.querySelector('#df-c2558bed-11c2-4b49-98a3-0085ad506f98 button.colab-df-convert');\n",
              "      buttonEl.style.display =\n",
              "        google.colab.kernel.accessAllowed ? 'block' : 'none';\n",
              "\n",
              "      async function convertToInteractive(key) {\n",
              "        const element = document.querySelector('#df-c2558bed-11c2-4b49-98a3-0085ad506f98');\n",
              "        const dataTable =\n",
              "          await google.colab.kernel.invokeFunction('convertToInteractive',\n",
              "                                                    [key], {});\n",
              "        if (!dataTable) return;\n",
              "\n",
              "        const docLinkHtml = 'Like what you see? Visit the ' +\n",
              "          '<a target=\"_blank\" href=https://colab.research.google.com/notebooks/data_table.ipynb>data table notebook</a>'\n",
              "          + ' to learn more about interactive tables.';\n",
              "        element.innerHTML = '';\n",
              "        dataTable['output_type'] = 'display_data';\n",
              "        await google.colab.output.renderOutput(dataTable, element);\n",
              "        const docLink = document.createElement('div');\n",
              "        docLink.innerHTML = docLinkHtml;\n",
              "        element.appendChild(docLink);\n",
              "      }\n",
              "    </script>\n",
              "  </div>\n",
              "\n",
              "\n",
              "<div id=\"df-39c1402b-0485-4f4f-b5ac-b8e599d7a04d\">\n",
              "  <button class=\"colab-df-quickchart\" onclick=\"quickchart('df-39c1402b-0485-4f4f-b5ac-b8e599d7a04d')\"\n",
              "            title=\"Suggest charts.\"\n",
              "            style=\"display:none;\">\n",
              "\n",
              "<svg xmlns=\"http://www.w3.org/2000/svg\" height=\"24px\"viewBox=\"0 0 24 24\"\n",
              "     width=\"24px\">\n",
              "    <g>\n",
              "        <path d=\"M19 3H5c-1.1 0-2 .9-2 2v14c0 1.1.9 2 2 2h14c1.1 0 2-.9 2-2V5c0-1.1-.9-2-2-2zM9 17H7v-7h2v7zm4 0h-2V7h2v10zm4 0h-2v-4h2v4z\"/>\n",
              "    </g>\n",
              "</svg>\n",
              "  </button>\n",
              "\n",
              "<style>\n",
              "  .colab-df-quickchart {\n",
              "      --bg-color: #E8F0FE;\n",
              "      --fill-color: #1967D2;\n",
              "      --hover-bg-color: #E2EBFA;\n",
              "      --hover-fill-color: #174EA6;\n",
              "      --disabled-fill-color: #AAA;\n",
              "      --disabled-bg-color: #DDD;\n",
              "  }\n",
              "\n",
              "  [theme=dark] .colab-df-quickchart {\n",
              "      --bg-color: #3B4455;\n",
              "      --fill-color: #D2E3FC;\n",
              "      --hover-bg-color: #434B5C;\n",
              "      --hover-fill-color: #FFFFFF;\n",
              "      --disabled-bg-color: #3B4455;\n",
              "      --disabled-fill-color: #666;\n",
              "  }\n",
              "\n",
              "  .colab-df-quickchart {\n",
              "    background-color: var(--bg-color);\n",
              "    border: none;\n",
              "    border-radius: 50%;\n",
              "    cursor: pointer;\n",
              "    display: none;\n",
              "    fill: var(--fill-color);\n",
              "    height: 32px;\n",
              "    padding: 0;\n",
              "    width: 32px;\n",
              "  }\n",
              "\n",
              "  .colab-df-quickchart:hover {\n",
              "    background-color: var(--hover-bg-color);\n",
              "    box-shadow: 0 1px 2px rgba(60, 64, 67, 0.3), 0 1px 3px 1px rgba(60, 64, 67, 0.15);\n",
              "    fill: var(--button-hover-fill-color);\n",
              "  }\n",
              "\n",
              "  .colab-df-quickchart-complete:disabled,\n",
              "  .colab-df-quickchart-complete:disabled:hover {\n",
              "    background-color: var(--disabled-bg-color);\n",
              "    fill: var(--disabled-fill-color);\n",
              "    box-shadow: none;\n",
              "  }\n",
              "\n",
              "  .colab-df-spinner {\n",
              "    border: 2px solid var(--fill-color);\n",
              "    border-color: transparent;\n",
              "    border-bottom-color: var(--fill-color);\n",
              "    animation:\n",
              "      spin 1s steps(1) infinite;\n",
              "  }\n",
              "\n",
              "  @keyframes spin {\n",
              "    0% {\n",
              "      border-color: transparent;\n",
              "      border-bottom-color: var(--fill-color);\n",
              "      border-left-color: var(--fill-color);\n",
              "    }\n",
              "    20% {\n",
              "      border-color: transparent;\n",
              "      border-left-color: var(--fill-color);\n",
              "      border-top-color: var(--fill-color);\n",
              "    }\n",
              "    30% {\n",
              "      border-color: transparent;\n",
              "      border-left-color: var(--fill-color);\n",
              "      border-top-color: var(--fill-color);\n",
              "      border-right-color: var(--fill-color);\n",
              "    }\n",
              "    40% {\n",
              "      border-color: transparent;\n",
              "      border-right-color: var(--fill-color);\n",
              "      border-top-color: var(--fill-color);\n",
              "    }\n",
              "    60% {\n",
              "      border-color: transparent;\n",
              "      border-right-color: var(--fill-color);\n",
              "    }\n",
              "    80% {\n",
              "      border-color: transparent;\n",
              "      border-right-color: var(--fill-color);\n",
              "      border-bottom-color: var(--fill-color);\n",
              "    }\n",
              "    90% {\n",
              "      border-color: transparent;\n",
              "      border-bottom-color: var(--fill-color);\n",
              "    }\n",
              "  }\n",
              "</style>\n",
              "\n",
              "  <script>\n",
              "    async function quickchart(key) {\n",
              "      const quickchartButtonEl =\n",
              "        document.querySelector('#' + key + ' button');\n",
              "      quickchartButtonEl.disabled = true;  // To prevent multiple clicks.\n",
              "      quickchartButtonEl.classList.add('colab-df-spinner');\n",
              "      try {\n",
              "        const charts = await google.colab.kernel.invokeFunction(\n",
              "            'suggestCharts', [key], {});\n",
              "      } catch (error) {\n",
              "        console.error('Error during call to suggestCharts:', error);\n",
              "      }\n",
              "      quickchartButtonEl.classList.remove('colab-df-spinner');\n",
              "      quickchartButtonEl.classList.add('colab-df-quickchart-complete');\n",
              "    }\n",
              "    (() => {\n",
              "      let quickchartButtonEl =\n",
              "        document.querySelector('#df-39c1402b-0485-4f4f-b5ac-b8e599d7a04d button');\n",
              "      quickchartButtonEl.style.display =\n",
              "        google.colab.kernel.accessAllowed ? 'block' : 'none';\n",
              "    })();\n",
              "  </script>\n",
              "</div>\n",
              "    </div>\n",
              "  </div>\n"
            ]
          },
          "metadata": {},
          "execution_count": 231
        },
        {
          "output_type": "stream",
          "name": "stdout",
          "text": [
            "time: 30.6 ms (started: 2023-09-28 20:41:08 +00:00)\n"
          ]
        }
      ]
    },
    {
      "cell_type": "markdown",
      "source": [
        "### Assess Transcriptions"
      ],
      "metadata": {
        "id": "r5F2ZUWpgWdk"
      },
      "id": "r5F2ZUWpgWdk"
    },
    {
      "cell_type": "code",
      "source": [
        "scores_clean_series = assessment.progress_apply(similar, axis=1)\n",
        "column_names = {0: 'google', 1: 'sphinx', 2: 'whisper', 3: 'vosk'}\n",
        "scores_clean_list = scores_clean_series.values.tolist()\n",
        "scores_clean = pd.DataFrame(scores_clean_list).rename(column_names, axis=1)\n",
        "scores_clean.mean()"
      ],
      "metadata": {
        "outputId": "c20a4ad2-fe55-42ec-dbe6-892aa779f263",
        "colab": {
          "base_uri": "https://localhost:8080/"
        },
        "id": "ezBX90IagWdk"
      },
      "execution_count": 233,
      "outputs": [
        {
          "output_type": "stream",
          "name": "stderr",
          "text": [
            "100%|██████████| 10/10 [00:00<00:00, 247.60it/s]\n"
          ]
        },
        {
          "output_type": "execute_result",
          "data": {
            "text/plain": [
              "google     0.610000\n",
              "sphinx     0.319726\n",
              "whisper    0.741748\n",
              "vosk       0.587776\n",
              "dtype: float64"
            ]
          },
          "metadata": {},
          "execution_count": 233
        },
        {
          "output_type": "stream",
          "name": "stdout",
          "text": [
            "time: 65.6 ms (started: 2023-09-28 20:42:06 +00:00)\n"
          ]
        }
      ],
      "id": "ezBX90IagWdk"
    },
    {
      "cell_type": "markdown",
      "source": [
        "We essentially got the same ranking, with google and sphinx actually worsening as a result of the cleaning, vosk improving margiannly and whisper improving substantially.\n",
        "\n",
        "Because Google is unreliable in producing a transcription, we will procced with whisper and vosk and check some of the different models available."
      ],
      "metadata": {
        "id": "ibndYpFkgWdk"
      },
      "id": "ibndYpFkgWdk"
    },
    {
      "cell_type": "markdown",
      "id": "82fd0c8d",
      "metadata": {
        "id": "82fd0c8d"
      },
      "source": [
        "### Checking vosk & whisper models"
      ]
    },
    {
      "cell_type": "code",
      "execution_count": null,
      "id": "5310a150",
      "metadata": {
        "id": "5310a150",
        "outputId": "f4536a88-a70b-4da3-f8c5-09f1c630e022"
      },
      "outputs": [
        {
          "data": {
            "text/plain": [
              "'damn my pickup was born I had to go find it'"
            ]
          },
          "execution_count": 59,
          "metadata": {},
          "output_type": "execute_result"
        }
      ],
      "source": [
        "r.recognize_google(audio_clean)"
      ]
    },
    {
      "cell_type": "code",
      "execution_count": null,
      "id": "5c372d02",
      "metadata": {
        "id": "5c372d02",
        "outputId": "21c70bfe-83dc-4313-a1c7-0ff6f99670cf"
      },
      "outputs": [
        {
          "data": {
            "text/plain": [
              "'my own mind at football has invited up'"
            ]
          },
          "execution_count": 60,
          "metadata": {},
          "output_type": "execute_result"
        }
      ],
      "source": [
        "r.recognize_sphinx(audio_clean)"
      ]
    },
    {
      "cell_type": "code",
      "execution_count": null,
      "id": "a4fc52b8",
      "metadata": {
        "id": "a4fc52b8",
        "outputId": "ec2ae6af-199e-4bce-94e7-854704af8fd5"
      },
      "outputs": [
        {
          "data": {
            "text/plain": [
              "\" Ma'am, my kekep was born. I had to go find it.\""
            ]
          },
          "execution_count": 61,
          "metadata": {},
          "output_type": "execute_result"
        }
      ],
      "source": [
        "r.recognize_whisper(audio_clean, language='english')"
      ]
    },
    {
      "cell_type": "code",
      "execution_count": null,
      "id": "d075b1d4",
      "metadata": {
        "id": "d075b1d4",
        "outputId": "c9ccdd50-0bac-47f6-bf98-e025a5fefacf"
      },
      "outputs": [
        {
          "data": {
            "text/plain": [
              "'{\\n  \"text\" : \"well my pick up on had to go find that\"\\n}'"
            ]
          },
          "execution_count": 62,
          "metadata": {},
          "output_type": "execute_result"
        }
      ],
      "source": [
        "model_path = _os.path.join('model', 'vosk', 'eng_small')\n",
        "vosk_audio = audio_clean.get_raw_data(convert_rate=16000, convert_width=2)\n",
        "\n",
        "#\n",
        "model = Model(model_path)\n",
        "recognizer = KaldiRecognizer(model, 16000)\n",
        "recognizer.AcceptWaveform(vosk_audio);\n",
        "recognizer.FinalResult()"
      ]
    },
    {
      "cell_type": "markdown",
      "id": "32afee17",
      "metadata": {
        "id": "32afee17"
      },
      "source": [
        "we can see that google hasn't been affected by the atttempted cleaning, with vosk doing a lateral move, and sphinx is just shit.\n",
        "whisper has seen marginal improvement, yet not enough to rival google, lets try this with some heavier models:"
      ]
    },
    {
      "cell_type": "markdown",
      "id": "a9aeeb93",
      "metadata": {
        "id": "a9aeeb93"
      },
      "source": [
        "Now lets try with heavier models with the original audio:"
      ]
    },
    {
      "cell_type": "code",
      "execution_count": null,
      "id": "846ee2db",
      "metadata": {
        "id": "846ee2db",
        "outputId": "bc4b030e-0540-47e5-f40f-67070c169c4f"
      },
      "outputs": [
        {
          "name": "stderr",
          "output_type": "stream",
          "text": [
            "C:\\Users\\USER\\AppData\\Roaming\\Python\\Python311\\site-packages\\whisper\\timing.py:57: NumbaDeprecationWarning: \u001b[1mThe 'nopython' keyword argument was not supplied to the 'numba.jit' decorator. The implicit default value for this argument is currently False, but it will be changed to True in Numba 0.59.0. See https://numba.readthedocs.io/en/stable/reference/deprecation.html#deprecation-of-object-mode-fall-back-behaviour-when-using-jit for details.\u001b[0m\n",
            "  @numba.jit\n"
          ]
        },
        {
          "name": "stdout",
          "output_type": "stream",
          "text": [
            "22.6 s ± 388 ms per loop (mean ± std. dev. of 7 runs, 1 loop each)\n"
          ]
        }
      ],
      "source": [
        "%%timeit\n",
        "r.recognize_whisper(audio, model='large', language='english')"
      ]
    },
    {
      "cell_type": "code",
      "execution_count": null,
      "id": "acc606e0",
      "metadata": {
        "id": "acc606e0",
        "outputId": "8eb8cd3b-3c72-4caa-c7b0-1941bd0b6809"
      },
      "outputs": [
        {
          "data": {
            "text/plain": [
              "\" Ma'am, my pickup was stolen. I had to go find it. AGH!\""
            ]
          },
          "execution_count": 64,
          "metadata": {},
          "output_type": "execute_result"
        }
      ],
      "source": [
        "r.recognize_whisper(audio, model='large', language='english')"
      ]
    },
    {
      "cell_type": "markdown",
      "id": "ebfd1a8c",
      "metadata": {
        "id": "ebfd1a8c"
      },
      "source": [
        "## VOSK"
      ]
    },
    {
      "cell_type": "code",
      "execution_count": null,
      "id": "8ae5bdb6",
      "metadata": {
        "id": "8ae5bdb6"
      },
      "outputs": [],
      "source": []
    },
    {
      "cell_type": "markdown",
      "id": "1803b4b5",
      "metadata": {
        "id": "1803b4b5"
      },
      "source": [
        "### regular audio / large model"
      ]
    },
    {
      "cell_type": "code",
      "execution_count": null,
      "id": "6905c885",
      "metadata": {
        "id": "6905c885",
        "outputId": "eb59105b-3254-4c76-d145-c80f65f9cdb3"
      },
      "outputs": [
        {
          "name": "stdout",
          "output_type": "stream",
          "text": [
            "35.9 s ± 13.5 s per loop (mean ± std. dev. of 7 runs, 1 loop each)\n"
          ]
        }
      ],
      "source": [
        "%%timeit\n",
        "vosk_rec(audio, 'eng_large')"
      ]
    },
    {
      "cell_type": "code",
      "execution_count": null,
      "id": "af93cbea",
      "metadata": {
        "id": "af93cbea",
        "outputId": "8804e789-96bd-480b-c919-f53b13b9db5d"
      },
      "outputs": [
        {
          "data": {
            "text/plain": [
              "'{\\n  \"text\" : \"ma\\'am my pickup was gone i had to go find it\"\\n}'"
            ]
          },
          "execution_count": 25,
          "metadata": {},
          "output_type": "execute_result"
        }
      ],
      "source": [
        "vosk_rec(audio, 'eng_large')"
      ]
    },
    {
      "cell_type": "markdown",
      "id": "189f5d1d",
      "metadata": {
        "id": "189f5d1d"
      },
      "source": [
        "### regular audio / small model"
      ]
    },
    {
      "cell_type": "code",
      "execution_count": null,
      "id": "5ca87262",
      "metadata": {
        "id": "5ca87262",
        "outputId": "ff784c49-92d9-4a5a-b3a2-6a7be3c31407"
      },
      "outputs": [
        {
          "name": "stdout",
          "output_type": "stream",
          "text": [
            "2.04 s ± 16.9 ms per loop (mean ± std. dev. of 7 runs, 1 loop each)\n"
          ]
        }
      ],
      "source": [
        "%%timeit\n",
        "vosk_rec(audio, 'eng_small')"
      ]
    },
    {
      "cell_type": "code",
      "execution_count": null,
      "id": "cb41de03",
      "metadata": {
        "id": "cb41de03",
        "outputId": "f6265f36-e7ca-45e8-ade9-3be563e28c5b"
      },
      "outputs": [
        {
          "data": {
            "text/plain": [
              "'{\\n  \"text\" : \"now my pick up on to go find that ah\"\\n}'"
            ]
          },
          "execution_count": 23,
          "metadata": {},
          "output_type": "execute_result"
        }
      ],
      "source": [
        "vosk_rec(audio, 'eng_small')"
      ]
    },
    {
      "cell_type": "markdown",
      "id": "362e6350",
      "metadata": {
        "id": "362e6350"
      },
      "source": [
        "### regular audio / lgraph model"
      ]
    },
    {
      "cell_type": "code",
      "execution_count": null,
      "id": "e4fb63fd",
      "metadata": {
        "id": "e4fb63fd",
        "outputId": "78cea862-0c3a-4ebc-ed67-a83c932e9480"
      },
      "outputs": [
        {
          "name": "stdout",
          "output_type": "stream",
          "text": [
            "10.6 s ± 46.3 ms per loop (mean ± std. dev. of 7 runs, 1 loop each)\n"
          ]
        }
      ],
      "source": [
        "%%timeit\n",
        "vosk_rec(audio, 'vosk-model-en-us-0.22-lgraph')"
      ]
    },
    {
      "cell_type": "code",
      "execution_count": null,
      "id": "6543afc8",
      "metadata": {
        "id": "6543afc8",
        "outputId": "d84b82f4-57e5-4681-a0b5-935064ec1056"
      },
      "outputs": [
        {
          "data": {
            "text/plain": [
              "'{\\n  \"text\" : \"ma\\'am my pickup post gone i had to go find it\"\\n}'"
            ]
          },
          "execution_count": 27,
          "metadata": {},
          "output_type": "execute_result"
        }
      ],
      "source": [
        "vosk_rec(audio, 'vosk-model-en-us-0.22-lgraph')"
      ]
    },
    {
      "cell_type": "markdown",
      "id": "6f07fbef",
      "metadata": {
        "id": "6f07fbef"
      },
      "source": [
        "### regular audio / giant model"
      ]
    },
    {
      "cell_type": "code",
      "execution_count": null,
      "id": "c6791d26",
      "metadata": {
        "id": "c6791d26",
        "outputId": "04c82e43-2052-43b3-d9bd-b28b657d9987"
      },
      "outputs": [
        {
          "name": "stdout",
          "output_type": "stream",
          "text": [
            "48.3 s ± 2.45 s per loop (mean ± std. dev. of 7 runs, 1 loop each)\n"
          ]
        }
      ],
      "source": [
        "%%timeit\n",
        "vosk_rec(audio, 'vosk-model-en-us-0.42-gigaspeech')"
      ]
    },
    {
      "cell_type": "code",
      "execution_count": null,
      "id": "4d80b3de",
      "metadata": {
        "id": "4d80b3de",
        "outputId": "a0c547f8-bf69-4c36-fba4-6d73cabe6b6d"
      },
      "outputs": [
        {
          "data": {
            "text/plain": [
              "'{\\n  \"text\" : \"well my pickup was gone i had to go find that ah\"\\n}'"
            ]
          },
          "execution_count": 29,
          "metadata": {},
          "output_type": "execute_result"
        }
      ],
      "source": [
        "vosk_rec(audio, 'vosk-model-en-us-0.42-gigaspeech')"
      ]
    },
    {
      "cell_type": "markdown",
      "id": "1d4128c3",
      "metadata": {
        "id": "1d4128c3"
      },
      "source": [
        "### clean audio / large model"
      ]
    },
    {
      "cell_type": "code",
      "execution_count": null,
      "id": "6e30b98f",
      "metadata": {
        "id": "6e30b98f",
        "outputId": "a1c6a5a3-20c0-4582-911e-414a1a859f2b"
      },
      "outputs": [
        {
          "name": "stdout",
          "output_type": "stream",
          "text": [
            "29.6 s ± 135 ms per loop (mean ± std. dev. of 7 runs, 1 loop each)\n"
          ]
        }
      ],
      "source": [
        "%%timeit\n",
        "vosk_rec(audio_clean, 'eng_large')"
      ]
    },
    {
      "cell_type": "code",
      "execution_count": null,
      "id": "a33f14c8",
      "metadata": {
        "id": "a33f14c8",
        "outputId": "a2a02137-34f0-40b5-ea99-99ddfd638f62"
      },
      "outputs": [
        {
          "data": {
            "text/plain": [
              "'{\\n  \"text\" : \"well my pickup was gone i had to go find it\"\\n}'"
            ]
          },
          "execution_count": 31,
          "metadata": {},
          "output_type": "execute_result"
        }
      ],
      "source": [
        "vosk_rec(audio_clean, 'eng_large')"
      ]
    },
    {
      "cell_type": "markdown",
      "id": "b90d0d2c",
      "metadata": {
        "id": "b90d0d2c"
      },
      "source": [
        "### clean audio / small model"
      ]
    },
    {
      "cell_type": "code",
      "execution_count": null,
      "id": "16dc1931",
      "metadata": {
        "id": "16dc1931",
        "outputId": "de7395a5-0502-4a65-dabb-3593a281717f"
      },
      "outputs": [
        {
          "name": "stdout",
          "output_type": "stream",
          "text": [
            "2.01 s ± 8.09 ms per loop (mean ± std. dev. of 7 runs, 1 loop each)\n"
          ]
        }
      ],
      "source": [
        "%%timeit\n",
        "vosk_rec(audio_clean, 'eng_small')"
      ]
    },
    {
      "cell_type": "code",
      "execution_count": null,
      "id": "1651ea6b",
      "metadata": {
        "id": "1651ea6b",
        "outputId": "110ff241-93df-4feb-f8cf-3187468beed2"
      },
      "outputs": [
        {
          "data": {
            "text/plain": [
              "'{\\n  \"text\" : \"well my pick up on had to go find that ah\"\\n}'"
            ]
          },
          "execution_count": 33,
          "metadata": {},
          "output_type": "execute_result"
        }
      ],
      "source": [
        "vosk_rec(audio_clean, 'eng_small')"
      ]
    },
    {
      "cell_type": "markdown",
      "id": "8a72cf2a",
      "metadata": {
        "id": "8a72cf2a"
      },
      "source": [
        "### clean audio / lgraph model"
      ]
    },
    {
      "cell_type": "code",
      "execution_count": null,
      "id": "2eb8c7fd",
      "metadata": {
        "id": "2eb8c7fd",
        "outputId": "aa538712-a445-4f2e-cf58-787139952d28"
      },
      "outputs": [
        {
          "name": "stdout",
          "output_type": "stream",
          "text": [
            "10.5 s ± 29.8 ms per loop (mean ± std. dev. of 7 runs, 1 loop each)\n"
          ]
        }
      ],
      "source": [
        "%%timeit\n",
        "vosk_rec(audio_clean, 'vosk-model-en-us-0.22-lgraph')"
      ]
    },
    {
      "cell_type": "code",
      "execution_count": null,
      "id": "67ff0cec",
      "metadata": {
        "id": "67ff0cec",
        "outputId": "1f0ef459-4345-4c74-9344-f13902557656"
      },
      "outputs": [
        {
          "data": {
            "text/plain": [
              "'{\\n  \"text\" : \"well my a post gone i to go find that\"\\n}'"
            ]
          },
          "execution_count": 35,
          "metadata": {},
          "output_type": "execute_result"
        }
      ],
      "source": [
        "vosk_rec(audio_clean, 'vosk-model-en-us-0.22-lgraph')"
      ]
    },
    {
      "cell_type": "markdown",
      "id": "d7812002",
      "metadata": {
        "id": "d7812002"
      },
      "source": [
        "### clean audio / giant model"
      ]
    },
    {
      "cell_type": "code",
      "execution_count": null,
      "id": "9d08af29",
      "metadata": {
        "id": "9d08af29",
        "outputId": "74d6299d-86e7-4a72-bab0-a18a81ec6c74"
      },
      "outputs": [
        {
          "name": "stdout",
          "output_type": "stream",
          "text": [
            "49.1 s ± 639 ms per loop (mean ± std. dev. of 7 runs, 1 loop each)\n"
          ]
        }
      ],
      "source": [
        "%%timeit\n",
        "vosk_rec(audio_clean, 'vosk-model-en-us-0.42-gigaspeech')"
      ]
    },
    {
      "cell_type": "code",
      "execution_count": null,
      "id": "c907aff7",
      "metadata": {
        "scrolled": true,
        "id": "c907aff7",
        "outputId": "1d48c1cb-6a3e-441f-8397-f9e33d1a9c25"
      },
      "outputs": [
        {
          "data": {
            "text/plain": [
              "'{\\n  \"text\" : \"well my pickup was gone i had to go find it\"\\n}'"
            ]
          },
          "execution_count": 37,
          "metadata": {},
          "output_type": "execute_result"
        }
      ],
      "source": [
        "vosk_rec(audio_clean, 'vosk-model-en-us-0.42-gigaspeech')"
      ]
    },
    {
      "cell_type": "markdown",
      "id": "1140e86d",
      "metadata": {
        "id": "1140e86d"
      },
      "source": [
        "## Whisper"
      ]
    },
    {
      "cell_type": "markdown",
      "id": "6e7d983b",
      "metadata": {
        "id": "6e7d983b"
      },
      "source": [
        "### regular audio / tiny model"
      ]
    },
    {
      "cell_type": "code",
      "execution_count": null,
      "id": "572b85e5",
      "metadata": {
        "id": "572b85e5",
        "outputId": "61ad008e-0e55-4a18-a60f-d059445a2680"
      },
      "outputs": [
        {
          "name": "stderr",
          "output_type": "stream",
          "text": [
            "100%|█████████████████████████████████████| 72.1M/72.1M [00:10<00:00, 6.93MiB/s]\n"
          ]
        },
        {
          "name": "stdout",
          "output_type": "stream",
          "text": [
            "1.06 s ± 23.5 ms per loop (mean ± std. dev. of 7 runs, 1 loop each)\n"
          ]
        }
      ],
      "source": [
        "%%timeit\n",
        "r.recognize_whisper(audio, model='tiny')"
      ]
    },
    {
      "cell_type": "code",
      "execution_count": null,
      "id": "4830d672",
      "metadata": {
        "id": "4830d672",
        "outputId": "61ab2a62-8b39-4c84-accc-0b4c70ba4cd5"
      },
      "outputs": [
        {
          "data": {
            "text/plain": [
              "' Now my character postponed. I had it offended.'"
            ]
          },
          "execution_count": 40,
          "metadata": {},
          "output_type": "execute_result"
        }
      ],
      "source": [
        "r.recognize_whisper(audio, model='tiny')"
      ]
    },
    {
      "cell_type": "markdown",
      "id": "c8f358c6",
      "metadata": {
        "id": "c8f358c6"
      },
      "source": [
        "### regular audio / base model"
      ]
    },
    {
      "cell_type": "code",
      "execution_count": null,
      "id": "1d48a3a0",
      "metadata": {
        "id": "1d48a3a0",
        "outputId": "61c28a1c-7144-4e24-bd6e-2542def7d774"
      },
      "outputs": [
        {
          "name": "stdout",
          "output_type": "stream",
          "text": [
            "2.38 s ± 55.3 ms per loop (mean ± std. dev. of 7 runs, 1 loop each)\n"
          ]
        }
      ],
      "source": [
        "%%timeit\n",
        "r.recognize_whisper(audio, model='base')"
      ]
    },
    {
      "cell_type": "code",
      "execution_count": null,
      "id": "7b42ae73",
      "metadata": {
        "id": "7b42ae73",
        "outputId": "f1bd2ecb-d193-4a2e-f5ec-9713e437b2f7"
      },
      "outputs": [
        {
          "data": {
            "text/plain": [
              "\" Ma'am, my cat is a person. I had it offended.\""
            ]
          },
          "execution_count": 42,
          "metadata": {},
          "output_type": "execute_result"
        }
      ],
      "source": [
        "r.recognize_whisper(audio, model='base')"
      ]
    },
    {
      "cell_type": "markdown",
      "id": "0f5d66c7",
      "metadata": {
        "id": "0f5d66c7"
      },
      "source": [
        "### regular audio / small model"
      ]
    },
    {
      "cell_type": "code",
      "execution_count": null,
      "id": "d1eebff2",
      "metadata": {
        "id": "d1eebff2",
        "outputId": "4c61ee13-3147-4c32-cf69-d1d5212d5d73"
      },
      "outputs": [
        {
          "name": "stderr",
          "output_type": "stream",
          "text": [
            "100%|███████████████████████████████████████| 461M/461M [00:53<00:00, 8.97MiB/s]\n"
          ]
        },
        {
          "name": "stdout",
          "output_type": "stream",
          "text": [
            "7.15 s ± 70.9 ms per loop (mean ± std. dev. of 7 runs, 1 loop each)\n"
          ]
        }
      ],
      "source": [
        "%%timeit\n",
        "r.recognize_whisper(audio, model='small')"
      ]
    },
    {
      "cell_type": "code",
      "execution_count": null,
      "id": "3363fc92",
      "metadata": {
        "id": "3363fc92",
        "outputId": "6a6add85-c2d6-4dfc-9cf1-c07836daf8a9"
      },
      "outputs": [
        {
          "data": {
            "text/plain": [
              "\" Ma'am, my cat got postponed. I had to go find it.\""
            ]
          },
          "execution_count": 44,
          "metadata": {},
          "output_type": "execute_result"
        }
      ],
      "source": [
        "r.recognize_whisper(audio, model='small')"
      ]
    },
    {
      "cell_type": "markdown",
      "id": "caf29cfc",
      "metadata": {
        "id": "caf29cfc"
      },
      "source": [
        "### regular audio / medium model"
      ]
    },
    {
      "cell_type": "code",
      "execution_count": null,
      "id": "4833d3c8",
      "metadata": {
        "id": "4833d3c8",
        "outputId": "9a43a396-19af-4f3c-9db8-e47d5e53320c"
      },
      "outputs": [
        {
          "name": "stderr",
          "output_type": "stream",
          "text": [
            "100%|█████████████████████████████████████| 1.42G/1.42G [03:08<00:00, 8.11MiB/s]\n"
          ]
        },
        {
          "name": "stdout",
          "output_type": "stream",
          "text": [
            "21.7 s ± 302 ms per loop (mean ± std. dev. of 7 runs, 1 loop each)\n"
          ]
        }
      ],
      "source": [
        "%%timeit\n",
        "r.recognize_whisper(audio, model='medium')"
      ]
    },
    {
      "cell_type": "code",
      "execution_count": null,
      "id": "95b70307",
      "metadata": {
        "id": "95b70307",
        "outputId": "9e0b7b59-16be-4f5e-dcd0-4d68200aa9e9"
      },
      "outputs": [
        {
          "data": {
            "text/plain": [
              "\" Ma'am, my paper was stolen. I had to go find it. Ah!\""
            ]
          },
          "execution_count": 46,
          "metadata": {},
          "output_type": "execute_result"
        }
      ],
      "source": [
        "r.recognize_whisper(audio, model='medium')"
      ]
    },
    {
      "cell_type": "markdown",
      "id": "83cdbfb6",
      "metadata": {
        "id": "83cdbfb6"
      },
      "source": [
        "### regular audio / large model"
      ]
    },
    {
      "cell_type": "code",
      "execution_count": null,
      "id": "8d7d08ae",
      "metadata": {
        "id": "8d7d08ae",
        "outputId": "65d017f4-acc7-4c1b-a8d6-2cfc3c7f2a3b"
      },
      "outputs": [
        {
          "name": "stdout",
          "output_type": "stream",
          "text": [
            "40.6 s ± 2.17 s per loop (mean ± std. dev. of 7 runs, 1 loop each)\n"
          ]
        }
      ],
      "source": [
        "%%timeit\n",
        "r.recognize_whisper(audio, model='large')"
      ]
    },
    {
      "cell_type": "code",
      "execution_count": null,
      "id": "0ee48261",
      "metadata": {
        "id": "0ee48261",
        "outputId": "9714ba7d-02bd-4a2e-e489-f2ea34add37b"
      },
      "outputs": [
        {
          "data": {
            "text/plain": [
              "\" Ma'am, my pickup was stolen. I had to go find it. AGH!\""
            ]
          },
          "execution_count": 48,
          "metadata": {},
          "output_type": "execute_result"
        }
      ],
      "source": [
        "r.recognize_whisper(audio, model='large')"
      ]
    },
    {
      "cell_type": "markdown",
      "id": "0e670498",
      "metadata": {
        "id": "0e670498"
      },
      "source": [
        "### clean audio / tiny model"
      ]
    },
    {
      "cell_type": "code",
      "execution_count": null,
      "id": "fa7dea08",
      "metadata": {
        "id": "fa7dea08",
        "outputId": "8bc270c0-0090-41de-df1e-7a22ff234c88"
      },
      "outputs": [
        {
          "name": "stdout",
          "output_type": "stream",
          "text": [
            "3.77 s ± 1.24 s per loop (mean ± std. dev. of 7 runs, 1 loop each)\n"
          ]
        }
      ],
      "source": [
        "%%timeit\n",
        "r.recognize_whisper(audio_clean, model='tiny')"
      ]
    },
    {
      "cell_type": "code",
      "execution_count": null,
      "id": "e6a12644",
      "metadata": {
        "id": "e6a12644",
        "outputId": "157b3aa6-05f0-4ba0-bcec-99de370ed347"
      },
      "outputs": [
        {
          "data": {
            "text/plain": [
              "\" then I'll check their post on I had it recorded\""
            ]
          },
          "execution_count": 50,
          "metadata": {},
          "output_type": "execute_result"
        }
      ],
      "source": [
        "r.recognize_whisper(audio_clean, model='tiny')"
      ]
    },
    {
      "cell_type": "markdown",
      "id": "f0de08ca",
      "metadata": {
        "id": "f0de08ca"
      },
      "source": [
        "### regular audio / base model"
      ]
    },
    {
      "cell_type": "code",
      "execution_count": null,
      "id": "4fc6a5c9",
      "metadata": {
        "id": "4fc6a5c9",
        "outputId": "dca5cc19-851c-475f-dd37-e33bfbbb7452"
      },
      "outputs": [
        {
          "name": "stdout",
          "output_type": "stream",
          "text": [
            "2.59 s ± 31.3 ms per loop (mean ± std. dev. of 7 runs, 1 loop each)\n"
          ]
        }
      ],
      "source": [
        "%%timeit\n",
        "r.recognize_whisper(audio_clean, model='base')"
      ]
    },
    {
      "cell_type": "code",
      "execution_count": null,
      "id": "f90128ac",
      "metadata": {
        "id": "f90128ac",
        "outputId": "a2bc8b76-6dbd-4829-d3fb-4c2ceeee2692"
      },
      "outputs": [
        {
          "data": {
            "text/plain": [
              "\" Ma'am, my kekep was born. I had to go find it.\""
            ]
          },
          "execution_count": 52,
          "metadata": {},
          "output_type": "execute_result"
        }
      ],
      "source": [
        "r.recognize_whisper(audio_clean, model='base')"
      ]
    },
    {
      "cell_type": "markdown",
      "id": "47c34c21",
      "metadata": {
        "id": "47c34c21"
      },
      "source": [
        "### regular audio / small model"
      ]
    },
    {
      "cell_type": "code",
      "execution_count": null,
      "id": "14c45b56",
      "metadata": {
        "id": "14c45b56",
        "outputId": "e74d7afd-0b50-4052-cb4f-98e27ec882ad"
      },
      "outputs": [
        {
          "name": "stdout",
          "output_type": "stream",
          "text": [
            "7.5 s ± 71.2 ms per loop (mean ± std. dev. of 7 runs, 1 loop each)\n"
          ]
        }
      ],
      "source": [
        "%%timeit\n",
        "r.recognize_whisper(audio_clean, model='small')"
      ]
    },
    {
      "cell_type": "code",
      "execution_count": null,
      "id": "d6d1ecdd",
      "metadata": {
        "id": "d6d1ecdd",
        "outputId": "621b7edd-ff81-4e6a-893f-947a3c923422"
      },
      "outputs": [
        {
          "data": {
            "text/plain": [
              "\" Ma'am, my kekka pushed on. I had to go find it.\""
            ]
          },
          "execution_count": 54,
          "metadata": {},
          "output_type": "execute_result"
        }
      ],
      "source": [
        "r.recognize_whisper(audio_clean, model='small')"
      ]
    },
    {
      "cell_type": "markdown",
      "id": "c95a0c5c",
      "metadata": {
        "id": "c95a0c5c"
      },
      "source": [
        "### regular audio / medium model"
      ]
    },
    {
      "cell_type": "code",
      "execution_count": null,
      "id": "67217c3d",
      "metadata": {
        "id": "67217c3d",
        "outputId": "f10ccb11-00b1-42f8-9f40-6d6236d8996c"
      },
      "outputs": [
        {
          "name": "stdout",
          "output_type": "stream",
          "text": [
            "22.5 s ± 94.5 ms per loop (mean ± std. dev. of 7 runs, 1 loop each)\n"
          ]
        }
      ],
      "source": [
        "%%timeit\n",
        "r.recognize_whisper(audio_clean, model='medium')"
      ]
    },
    {
      "cell_type": "code",
      "execution_count": null,
      "id": "7030e37b",
      "metadata": {
        "id": "7030e37b",
        "outputId": "8ab68434-025f-438a-bf0e-283451c12246"
      },
      "outputs": [
        {
          "data": {
            "text/plain": [
              "\" Ma'am, my pickup was stolen. I had to go find it. Ah!\""
            ]
          },
          "execution_count": 56,
          "metadata": {},
          "output_type": "execute_result"
        }
      ],
      "source": [
        "r.recognize_whisper(audio_clean, model='medium')"
      ]
    },
    {
      "cell_type": "markdown",
      "id": "d2e5d2c2",
      "metadata": {
        "id": "d2e5d2c2"
      },
      "source": [
        "### regular audio / large model"
      ]
    },
    {
      "cell_type": "code",
      "execution_count": null,
      "id": "5225f854",
      "metadata": {
        "id": "5225f854",
        "outputId": "8ca39750-6a59-4554-8487-29fe095d6df2"
      },
      "outputs": [
        {
          "name": "stdout",
          "output_type": "stream",
          "text": [
            "2min 26s ± 36.7 s per loop (mean ± std. dev. of 7 runs, 1 loop each)\n"
          ]
        }
      ],
      "source": [
        "%%timeit\n",
        "r.recognize_whisper(audio_clean, model='large')"
      ]
    },
    {
      "cell_type": "code",
      "execution_count": null,
      "id": "af3e94ea",
      "metadata": {
        "id": "af3e94ea",
        "outputId": "f84d1a78-0b3c-4ee7-dd1e-5720c6be628e"
      },
      "outputs": [
        {
          "data": {
            "text/plain": [
              "\" Ma'am, my pickup was stolen. I had to go find it. Ahh!\""
            ]
          },
          "execution_count": 58,
          "metadata": {},
          "output_type": "execute_result"
        }
      ],
      "source": [
        "r.recognize_whisper(audio_clean, model='large')"
      ]
    },
    {
      "cell_type": "markdown",
      "id": "e3609257",
      "metadata": {
        "id": "e3609257"
      },
      "source": [
        "## lets try to reduce the noise"
      ]
    },
    {
      "cell_type": "code",
      "execution_count": null,
      "id": "8f2b6c92",
      "metadata": {
        "id": "8f2b6c92"
      },
      "outputs": [],
      "source": [
        "import noisereduce as nr\n",
        "from scipy.io import wavfile"
      ]
    },
    {
      "cell_type": "code",
      "execution_count": null,
      "id": "2d7e8548",
      "metadata": {
        "id": "2d7e8548"
      },
      "outputs": [],
      "source": [
        "audio_file_32_path = _os.path.join('data', 'calls', '911_first6sec', 'call_32_0.wav')"
      ]
    },
    {
      "cell_type": "code",
      "execution_count": null,
      "id": "141ebd0a",
      "metadata": {
        "id": "141ebd0a",
        "outputId": "9ab11ddc-dabb-43c8-f185-3ea05fe8b315"
      },
      "outputs": [
        {
          "name": "stdout",
          "output_type": "stream",
          "text": [
            "48000 [[    0     0]\n",
            " [    0     0]\n",
            " [    0     0]\n",
            " ...\n",
            " [10792 10799]\n",
            " [10601 10608]\n",
            " [10238 10243]]\n"
          ]
        },
        {
          "ename": "MemoryError",
          "evalue": "Unable to allocate 129. GiB for an array with shape (288000, 60002) and data type float64",
          "output_type": "error",
          "traceback": [
            "\u001b[1;31m---------------------------------------------------------------------------\u001b[0m",
            "\u001b[1;31mMemoryError\u001b[0m                               Traceback (most recent call last)",
            "Cell \u001b[1;32mIn[66], line 5\u001b[0m\n\u001b[0;32m      3\u001b[0m \u001b[38;5;28mprint\u001b[39m(rate, data)\n\u001b[0;32m      4\u001b[0m \u001b[38;5;66;03m# perform noise reduction\u001b[39;00m\n\u001b[1;32m----> 5\u001b[0m reduced_noise \u001b[38;5;241m=\u001b[39m nr\u001b[38;5;241m.\u001b[39mreduce_noise(y\u001b[38;5;241m=\u001b[39mdata, sr\u001b[38;5;241m=\u001b[39mrate)\n\u001b[0;32m      6\u001b[0m wavfile\u001b[38;5;241m.\u001b[39mwrite(\u001b[38;5;124m\"\u001b[39m\u001b[38;5;124mmywav_reduced_noise.wav\u001b[39m\u001b[38;5;124m\"\u001b[39m, rate, reduced_noise)\n",
            "File \u001b[1;32m~\\AppData\\Roaming\\Python\\Python311\\site-packages\\noisereduce\\noisereduce.py:597\u001b[0m, in \u001b[0;36mreduce_noise\u001b[1;34m(y, sr, stationary, y_noise, prop_decrease, time_constant_s, freq_mask_smooth_hz, time_mask_smooth_ms, thresh_n_mult_nonstationary, sigmoid_slope_nonstationary, n_std_thresh_stationary, tmp_folder, chunk_size, padding, n_fft, win_length, hop_length, clip_noise_stationary, use_tqdm, n_jobs)\u001b[0m\n\u001b[0;32m    578\u001b[0m \u001b[38;5;28;01melse\u001b[39;00m:\n\u001b[0;32m    579\u001b[0m     sg \u001b[38;5;241m=\u001b[39m SpectralGateNonStationary(\n\u001b[0;32m    580\u001b[0m         y\u001b[38;5;241m=\u001b[39my, \n\u001b[0;32m    581\u001b[0m         sr\u001b[38;5;241m=\u001b[39msr, \n\u001b[1;32m   (...)\u001b[0m\n\u001b[0;32m    595\u001b[0m         n_jobs \u001b[38;5;241m=\u001b[39m n_jobs\n\u001b[0;32m    596\u001b[0m     )\n\u001b[1;32m--> 597\u001b[0m \u001b[38;5;28;01mreturn\u001b[39;00m sg\u001b[38;5;241m.\u001b[39mget_traces()\n",
            "File \u001b[1;32m~\\AppData\\Roaming\\Python\\Python311\\site-packages\\noisereduce\\noisereduce.py:235\u001b[0m, in \u001b[0;36mSpectralGate.get_traces\u001b[1;34m(self, start_frame, end_frame)\u001b[0m\n\u001b[0;32m    232\u001b[0m             \u001b[38;5;28;01melse\u001b[39;00m:\n\u001b[0;32m    233\u001b[0m                 \u001b[38;5;28;01mreturn\u001b[39;00m filtered_chunk\u001b[38;5;241m.\u001b[39mastype(\u001b[38;5;28mself\u001b[39m\u001b[38;5;241m.\u001b[39m_dtype)\n\u001b[1;32m--> 235\u001b[0m filtered_chunk \u001b[38;5;241m=\u001b[39m \u001b[38;5;28mself\u001b[39m\u001b[38;5;241m.\u001b[39mfilter_chunk(start_frame\u001b[38;5;241m=\u001b[39m\u001b[38;5;241m0\u001b[39m, end_frame\u001b[38;5;241m=\u001b[39mend_frame)\n\u001b[0;32m    236\u001b[0m \u001b[38;5;28;01mif\u001b[39;00m \u001b[38;5;28mself\u001b[39m\u001b[38;5;241m.\u001b[39mflat:\n\u001b[0;32m    237\u001b[0m     \u001b[38;5;28;01mreturn\u001b[39;00m filtered_chunk\u001b[38;5;241m.\u001b[39mastype(\u001b[38;5;28mself\u001b[39m\u001b[38;5;241m.\u001b[39m_dtype)\u001b[38;5;241m.\u001b[39mflatten()\n",
            "File \u001b[1;32m~\\AppData\\Roaming\\Python\\Python311\\site-packages\\noisereduce\\noisereduce.py:165\u001b[0m, in \u001b[0;36mSpectralGate.filter_chunk\u001b[1;34m(self, start_frame, end_frame)\u001b[0m\n\u001b[0;32m    163\u001b[0m i1 \u001b[38;5;241m=\u001b[39m start_frame \u001b[38;5;241m-\u001b[39m \u001b[38;5;28mself\u001b[39m\u001b[38;5;241m.\u001b[39mpadding\n\u001b[0;32m    164\u001b[0m i2 \u001b[38;5;241m=\u001b[39m end_frame \u001b[38;5;241m+\u001b[39m \u001b[38;5;28mself\u001b[39m\u001b[38;5;241m.\u001b[39mpadding\n\u001b[1;32m--> 165\u001b[0m padded_chunk \u001b[38;5;241m=\u001b[39m \u001b[38;5;28mself\u001b[39m\u001b[38;5;241m.\u001b[39m_read_chunk(i1, i2)\n\u001b[0;32m    166\u001b[0m filtered_padded_chunk \u001b[38;5;241m=\u001b[39m \u001b[38;5;28mself\u001b[39m\u001b[38;5;241m.\u001b[39m_do_filter(padded_chunk)\n\u001b[0;32m    167\u001b[0m \u001b[38;5;28;01mreturn\u001b[39;00m filtered_padded_chunk[:, start_frame \u001b[38;5;241m-\u001b[39m i1 : end_frame \u001b[38;5;241m-\u001b[39m i1]\n",
            "File \u001b[1;32m~\\AppData\\Roaming\\Python\\Python311\\site-packages\\noisereduce\\noisereduce.py:157\u001b[0m, in \u001b[0;36mSpectralGate._read_chunk\u001b[1;34m(self, i1, i2)\u001b[0m\n\u001b[0;32m    155\u001b[0m \u001b[38;5;28;01melse\u001b[39;00m:\n\u001b[0;32m    156\u001b[0m     i2b \u001b[38;5;241m=\u001b[39m i2\n\u001b[1;32m--> 157\u001b[0m chunk \u001b[38;5;241m=\u001b[39m np\u001b[38;5;241m.\u001b[39mzeros((\u001b[38;5;28mself\u001b[39m\u001b[38;5;241m.\u001b[39mn_channels, i2 \u001b[38;5;241m-\u001b[39m i1))\n\u001b[0;32m    158\u001b[0m chunk[:, i1b \u001b[38;5;241m-\u001b[39m i1 : i2b \u001b[38;5;241m-\u001b[39m i1] \u001b[38;5;241m=\u001b[39m \u001b[38;5;28mself\u001b[39m\u001b[38;5;241m.\u001b[39my[:, i1b:i2b]\n\u001b[0;32m    159\u001b[0m \u001b[38;5;28;01mreturn\u001b[39;00m chunk\n",
            "\u001b[1;31mMemoryError\u001b[0m: Unable to allocate 129. GiB for an array with shape (288000, 60002) and data type float64"
          ]
        }
      ],
      "source": [
        "# load data\n",
        "rate, data = wavfile.read(audio_file_32_path)\n",
        "print(rate, data)\n",
        "# perform noise reduction\n",
        "reduced_noise = nr.reduce_noise(y=data, sr=rate)\n",
        "wavfile.write(\"mywav_reduced_noise.wav\", rate, reduced_noise)"
      ]
    },
    {
      "cell_type": "markdown",
      "id": "cb98e75b",
      "metadata": {
        "id": "cb98e75b"
      },
      "source": [
        "# Sentiment Analysis"
      ]
    },
    {
      "cell_type": "markdown",
      "id": "7e11504d",
      "metadata": {
        "id": "7e11504d"
      },
      "source": [
        "### UTILS"
      ]
    },
    {
      "cell_type": "code",
      "execution_count": null,
      "id": "3b6fa26c",
      "metadata": {
        "id": "3b6fa26c"
      },
      "outputs": [],
      "source": [
        "from nltk.corpus import stopwords\n",
        "import pandas as pd\n",
        "import string\n",
        "from nltk.tokenize import RegexpTokenizer\n",
        "\n",
        "def tokenize(raw):\n",
        "    tokenizer = RegexpTokenizer(r\"\\w+\\'?\\w*\")\n",
        "    return tokenizer.tokenize(raw)\n",
        "\n",
        "def preprocess_words_fast(tokens):\n",
        "    t = pd.Series(tokens).str.lower()\n",
        "    t = t[~(t.isin(stopwords.words('english')) | t.isin(list(string.punctuation)))]\n",
        "    return t.tolist()"
      ]
    },
    {
      "cell_type": "code",
      "execution_count": null,
      "id": "6c4b0804",
      "metadata": {
        "id": "6c4b0804",
        "outputId": "4485a7d4-37d5-4950-a5ac-c01751e9a8b6"
      },
      "outputs": [
        {
          "name": "stdout",
          "output_type": "stream",
          "text": [
            "[\"ma'am\", 'pickup', 'stolen', 'go', 'find', 'ahh']\n"
          ]
        }
      ],
      "source": [
        "raw = \" Ma'am, my pickup was stolen. I had to go find it. Ahh!\"\n",
        "tokens = tokenize(raw)\n",
        "words = preprocess_words_fast(tokens)\n",
        "print(words)"
      ]
    },
    {
      "cell_type": "markdown",
      "id": "4e8f9cb1",
      "metadata": {
        "id": "4e8f9cb1"
      },
      "source": [
        "### vader"
      ]
    },
    {
      "cell_type": "code",
      "execution_count": null,
      "id": "fdabc4b8",
      "metadata": {
        "id": "fdabc4b8"
      },
      "outputs": [],
      "source": [
        "from nltk.sentiment.vader import SentimentIntensityAnalyzer\n",
        "sid = SentimentIntensityAnalyzer()"
      ]
    },
    {
      "cell_type": "code",
      "execution_count": null,
      "id": "195cb79a",
      "metadata": {
        "scrolled": true,
        "id": "195cb79a",
        "outputId": "135395ce-3f2b-4629-c1bd-4eebae68d900"
      },
      "outputs": [
        {
          "data": {
            "text/plain": [
              "{'neg': 0.259, 'neu': 0.741, 'pos': 0.0, 'compound': -0.5411}"
            ]
          },
          "execution_count": 122,
          "metadata": {},
          "output_type": "execute_result"
        }
      ],
      "source": [
        "# dirty\n",
        "sid.polarity_scores(raw)"
      ]
    },
    {
      "cell_type": "code",
      "execution_count": null,
      "id": "f88147b3",
      "metadata": {
        "id": "f88147b3",
        "outputId": "e4352f6d-d450-47f4-8e0e-3ca9ae93e3df"
      },
      "outputs": [
        {
          "data": {
            "text/plain": [
              "{'neg': 0.39, 'neu': 0.61, 'pos': 0.0, 'compound': -0.4939}"
            ]
          },
          "execution_count": 123,
          "metadata": {},
          "output_type": "execute_result"
        }
      ],
      "source": [
        "# clean\n",
        "sid.polarity_scores(' '.join(words))"
      ]
    },
    {
      "cell_type": "markdown",
      "id": "4c14f5b6",
      "metadata": {
        "id": "4c14f5b6"
      },
      "source": [
        "### textblob"
      ]
    },
    {
      "cell_type": "code",
      "execution_count": null,
      "id": "090eb2f7",
      "metadata": {
        "id": "090eb2f7"
      },
      "outputs": [],
      "source": [
        "from textblob import TextBlob"
      ]
    },
    {
      "cell_type": "code",
      "execution_count": null,
      "id": "aa122f1a",
      "metadata": {
        "id": "aa122f1a",
        "outputId": "e653288f-6ca5-4803-8d89-7dec86b3b275"
      },
      "outputs": [
        {
          "name": "stdout",
          "output_type": "stream",
          "text": [
            "Sentiment(polarity=0.0, subjectivity=0.0)\n"
          ]
        }
      ],
      "source": [
        "# dirty\n",
        "testimonial = TextBlob(raw)\n",
        "print(testimonial.sentiment)"
      ]
    },
    {
      "cell_type": "code",
      "execution_count": null,
      "id": "403922f0",
      "metadata": {
        "id": "403922f0",
        "outputId": "6d861aa3-ea87-4a3a-f43a-1cf660798205"
      },
      "outputs": [
        {
          "name": "stdout",
          "output_type": "stream",
          "text": [
            "Sentiment(polarity=0.0, subjectivity=0.0)\n"
          ]
        }
      ],
      "source": [
        "# clean\n",
        "testimonial = TextBlob(' '.join(words))\n",
        "print(testimonial.sentiment)"
      ]
    },
    {
      "cell_type": "markdown",
      "id": "18c7abdf",
      "metadata": {
        "id": "18c7abdf"
      },
      "source": [
        "### Flair"
      ]
    },
    {
      "cell_type": "code",
      "execution_count": null,
      "id": "8b5ab7b6",
      "metadata": {
        "id": "8b5ab7b6"
      },
      "outputs": [],
      "source": [
        "from flair.models import TextClassifier\n",
        "from flair.data import Sentence"
      ]
    },
    {
      "cell_type": "code",
      "execution_count": null,
      "id": "885b73f2",
      "metadata": {
        "id": "885b73f2"
      },
      "outputs": [],
      "source": [
        "classifier = TextClassifier.load('en-sentiment')"
      ]
    },
    {
      "cell_type": "code",
      "execution_count": null,
      "id": "699dff8b",
      "metadata": {
        "id": "699dff8b",
        "outputId": "eb1df9a5-d00d-4787-90bc-8c5dcdb3c7fd"
      },
      "outputs": [
        {
          "name": "stdout",
          "output_type": "stream",
          "text": [
            "Sentence above is:  ['Sentence[16]: \" Ma'am, my pickup was stolen. I had to go find it. Ahh!\"'/'NEGATIVE' (0.9804)]\n"
          ]
        }
      ],
      "source": [
        "sentence = Sentence(raw)\n",
        "classifier.predict(sentence)\n",
        "\n",
        "# print sentence with predicted labels\n",
        "print('Sentence above is: ', sentence.labels)"
      ]
    },
    {
      "cell_type": "code",
      "execution_count": null,
      "id": "944d5857",
      "metadata": {
        "id": "944d5857",
        "outputId": "d12007b0-13db-4c7a-f26b-54a861e17fcf"
      },
      "outputs": [
        {
          "name": "stdout",
          "output_type": "stream",
          "text": [
            "Sentence above is:  ['Sentence[6]: \"ma'am pickup stolen go find ahh\"'/'NEGATIVE' (0.9505)]\n"
          ]
        }
      ],
      "source": [
        "sentence = Sentence(' '.join(words))\n",
        "classifier.predict(sentence)\n",
        "\n",
        "# print sentence with predicted labels\n",
        "print('Sentence above is: ', sentence.labels)"
      ]
    },
    {
      "cell_type": "markdown",
      "id": "1c1dd161",
      "metadata": {
        "id": "1c1dd161"
      },
      "source": [
        "### Transformers"
      ]
    },
    {
      "cell_type": "code",
      "execution_count": null,
      "id": "8ed42651",
      "metadata": {
        "id": "8ed42651"
      },
      "outputs": [],
      "source": [
        "from transformers import pipeline"
      ]
    },
    {
      "cell_type": "code",
      "execution_count": null,
      "id": "f721f289",
      "metadata": {
        "id": "f721f289"
      },
      "outputs": [],
      "source": [
        "classifier = pipeline(\"sentiment-analysis\")"
      ]
    },
    {
      "cell_type": "code",
      "execution_count": null,
      "id": "7b7ebf1b",
      "metadata": {
        "id": "7b7ebf1b",
        "outputId": "0f965548-d99b-4911-a251-3612544d996d"
      },
      "outputs": [
        {
          "data": {
            "text/plain": [
              "[{'label': 'NEGATIVE', 'score': 0.9987456798553467}]"
            ]
          },
          "execution_count": 19,
          "metadata": {},
          "output_type": "execute_result"
        }
      ],
      "source": [
        "# dirty\n",
        "classifier([raw])"
      ]
    },
    {
      "cell_type": "code",
      "execution_count": null,
      "id": "a278e480",
      "metadata": {
        "id": "a278e480",
        "outputId": "0d418913-8ca8-40fa-8a1e-fbeaaaaffd08"
      },
      "outputs": [
        {
          "data": {
            "text/plain": [
              "[{'label': 'NEGATIVE', 'score': 0.9751687049865723}]"
            ]
          },
          "execution_count": 20,
          "metadata": {},
          "output_type": "execute_result"
        }
      ],
      "source": [
        "# clean\n",
        "classifier([''.join(words)])"
      ]
    },
    {
      "cell_type": "markdown",
      "id": "67e951b7",
      "metadata": {
        "id": "67e951b7"
      },
      "source": [
        "# get the full sentiment table of all the audio"
      ]
    },
    {
      "cell_type": "code",
      "execution_count": null,
      "id": "90d104f2",
      "metadata": {
        "id": "90d104f2"
      },
      "outputs": [],
      "source": [
        "audio_file_csv = _os.path.join(audio_file_dir, '911_metadata.csv')\n",
        "df = pd.read_csv(audio_file_csv)"
      ]
    },
    {
      "cell_type": "code",
      "execution_count": null,
      "id": "5124b2db",
      "metadata": {
        "id": "5124b2db"
      },
      "outputs": [],
      "source": [
        "import speech_recognition as sr"
      ]
    },
    {
      "cell_type": "code",
      "execution_count": null,
      "id": "218765e8",
      "metadata": {
        "id": "218765e8"
      },
      "outputs": [],
      "source": [
        "r = sr.Recognizer()\n",
        "def get_text_from_audio(audio_file_name):\n",
        "    dirr, name = audio_file_name.split('/')\n",
        "    audio_file_path = _os.path.join('data', 'calls', dirr, name)\n",
        "    with sr.AudioFile(audio_file_path) as src:\n",
        "        r.adjust_for_ambient_noise(src, duration=0.5)\n",
        "        audio = r.record(src)\n",
        "        return r.recognize_whisper(audio, model='medium')"
      ]
    },
    {
      "cell_type": "code",
      "execution_count": null,
      "id": "667a327e",
      "metadata": {
        "id": "667a327e",
        "outputId": "0b12bf16-c8f1-476e-8610-741f583d5d5a"
      },
      "outputs": [
        {
          "data": {
            "text/plain": [
              "0                                My mom had a bad time.\n",
              "1                     Hello. Hello. Is everything okay?\n",
              "2      I need a police officer over here at 7th. Wha...\n",
              "3      Ma'am, my pickup was stolen. I had to go find...\n",
              "4      No ma'am I don't. I don't have an emergency. ...\n",
              "                            ...                        \n",
              "95     This is Gifford. Hello? Hello? Oh, number one...\n",
              "96     across, forty seven oh nine fourty隔s avenue f...\n",
              "97     I have, um, I need somebody escorted out of m...\n",
              "98               Hello? Hello? Hello? Hello 911? Hello?\n",
              "99     I got three zip-holes attacking people. Attac...\n",
              "Name: filename, Length: 100, dtype: object"
            ]
          },
          "execution_count": 77,
          "metadata": {},
          "output_type": "execute_result"
        }
      ],
      "source": [
        "text_series = df['filename'][:100].apply(get_text_from_audio)\n",
        "text_series"
      ]
    },
    {
      "cell_type": "markdown",
      "id": "bc33e9ab",
      "metadata": {
        "id": "bc33e9ab"
      },
      "source": [
        "# lets use transformers pipeline to analyze sentiment"
      ]
    },
    {
      "cell_type": "code",
      "execution_count": null,
      "id": "6980d1c7",
      "metadata": {
        "id": "6980d1c7"
      },
      "outputs": [],
      "source": [
        "from transformers import pipeline\n",
        "\n",
        "def get_sentiment_transformers(text):\n",
        "    classifier = pipeline(\"sentiment-analysis\")\n",
        "    sent = classifier([text])\n",
        "    return sent[0]['label']"
      ]
    },
    {
      "cell_type": "code",
      "execution_count": null,
      "id": "ddbec23c",
      "metadata": {
        "id": "ddbec23c",
        "outputId": "baa9991a-cdcd-4f45-a46f-8287ba310f1b"
      },
      "outputs": [
        {
          "data": {
            "text/plain": [
              "0     NEGATIVE\n",
              "1     POSITIVE\n",
              "2     NEGATIVE\n",
              "3     NEGATIVE\n",
              "4     NEGATIVE\n",
              "        ...   \n",
              "95    NEGATIVE\n",
              "96    POSITIVE\n",
              "97    NEGATIVE\n",
              "98    NEGATIVE\n",
              "99    NEGATIVE\n",
              "Name: filename, Length: 100, dtype: object"
            ]
          },
          "execution_count": 80,
          "metadata": {},
          "output_type": "execute_result"
        }
      ],
      "source": [
        "sentiment_df = text_series.apply(get_sentiment_transformers)\n",
        "sentiment_df"
      ]
    },
    {
      "cell_type": "code",
      "execution_count": null,
      "id": "8fdbd31d",
      "metadata": {
        "id": "8fdbd31d",
        "outputId": "f8090fed-130a-4c1f-c19c-5bb4770f193f"
      },
      "outputs": [
        {
          "data": {
            "text/html": [
              "<div>\n",
              "<style scoped>\n",
              "    .dataframe tbody tr th:only-of-type {\n",
              "        vertical-align: middle;\n",
              "    }\n",
              "\n",
              "    .dataframe tbody tr th {\n",
              "        vertical-align: top;\n",
              "    }\n",
              "\n",
              "    .dataframe thead th {\n",
              "        text-align: right;\n",
              "    }\n",
              "</style>\n",
              "<table border=\"1\" class=\"dataframe\">\n",
              "  <thead>\n",
              "    <tr style=\"text-align: right;\">\n",
              "      <th></th>\n",
              "      <th>filename</th>\n",
              "      <th>text</th>\n",
              "      <th>sentiment</th>\n",
              "    </tr>\n",
              "  </thead>\n",
              "  <tbody>\n",
              "    <tr>\n",
              "      <th>0</th>\n",
              "      <td>911_first6sec/call_2_0.wav</td>\n",
              "      <td>My mom had a bad time.</td>\n",
              "      <td>NEGATIVE</td>\n",
              "    </tr>\n",
              "    <tr>\n",
              "      <th>1</th>\n",
              "      <td>911_first6sec/call_8_0.wav</td>\n",
              "      <td>Hello. Hello. Is everything okay?</td>\n",
              "      <td>POSITIVE</td>\n",
              "    </tr>\n",
              "    <tr>\n",
              "      <th>2</th>\n",
              "      <td>911_first6sec/call_9_0.wav</td>\n",
              "      <td>I need a police officer over here at 7th. Wha...</td>\n",
              "      <td>NEGATIVE</td>\n",
              "    </tr>\n",
              "    <tr>\n",
              "      <th>3</th>\n",
              "      <td>911_first6sec/call_10_0.wav</td>\n",
              "      <td>Ma'am, my pickup was stolen. I had to go find...</td>\n",
              "      <td>NEGATIVE</td>\n",
              "    </tr>\n",
              "    <tr>\n",
              "      <th>4</th>\n",
              "      <td>911_first6sec/call_11_0.wav</td>\n",
              "      <td>No ma'am I don't. I don't have an emergency. ...</td>\n",
              "      <td>NEGATIVE</td>\n",
              "    </tr>\n",
              "    <tr>\n",
              "      <th>...</th>\n",
              "      <td>...</td>\n",
              "      <td>...</td>\n",
              "      <td>...</td>\n",
              "    </tr>\n",
              "    <tr>\n",
              "      <th>95</th>\n",
              "      <td>911_first6sec/call_110_0.wav</td>\n",
              "      <td>This is Gifford. Hello? Hello? Oh, number one...</td>\n",
              "      <td>NEGATIVE</td>\n",
              "    </tr>\n",
              "    <tr>\n",
              "      <th>96</th>\n",
              "      <td>911_first6sec/call_111_0.wav</td>\n",
              "      <td>across, forty seven oh nine fourty隔s avenue f...</td>\n",
              "      <td>POSITIVE</td>\n",
              "    </tr>\n",
              "    <tr>\n",
              "      <th>97</th>\n",
              "      <td>911_first6sec/call_112_0.wav</td>\n",
              "      <td>I have, um, I need somebody escorted out of m...</td>\n",
              "      <td>NEGATIVE</td>\n",
              "    </tr>\n",
              "    <tr>\n",
              "      <th>98</th>\n",
              "      <td>911_first6sec/call_114_0.wav</td>\n",
              "      <td>Hello? Hello? Hello? Hello 911? Hello?</td>\n",
              "      <td>NEGATIVE</td>\n",
              "    </tr>\n",
              "    <tr>\n",
              "      <th>99</th>\n",
              "      <td>911_first6sec/call_115_0.wav</td>\n",
              "      <td>I got three zip-holes attacking people. Attac...</td>\n",
              "      <td>NEGATIVE</td>\n",
              "    </tr>\n",
              "  </tbody>\n",
              "</table>\n",
              "<p>100 rows × 3 columns</p>\n",
              "</div>"
            ],
            "text/plain": [
              "                        filename  \\\n",
              "0     911_first6sec/call_2_0.wav   \n",
              "1     911_first6sec/call_8_0.wav   \n",
              "2     911_first6sec/call_9_0.wav   \n",
              "3    911_first6sec/call_10_0.wav   \n",
              "4    911_first6sec/call_11_0.wav   \n",
              "..                           ...   \n",
              "95  911_first6sec/call_110_0.wav   \n",
              "96  911_first6sec/call_111_0.wav   \n",
              "97  911_first6sec/call_112_0.wav   \n",
              "98  911_first6sec/call_114_0.wav   \n",
              "99  911_first6sec/call_115_0.wav   \n",
              "\n",
              "                                                 text sentiment  \n",
              "0                              My mom had a bad time.  NEGATIVE  \n",
              "1                   Hello. Hello. Is everything okay?  POSITIVE  \n",
              "2    I need a police officer over here at 7th. Wha...  NEGATIVE  \n",
              "3    Ma'am, my pickup was stolen. I had to go find...  NEGATIVE  \n",
              "4    No ma'am I don't. I don't have an emergency. ...  NEGATIVE  \n",
              "..                                                ...       ...  \n",
              "95   This is Gifford. Hello? Hello? Oh, number one...  NEGATIVE  \n",
              "96   across, forty seven oh nine fourty隔s avenue f...  POSITIVE  \n",
              "97   I have, um, I need somebody escorted out of m...  NEGATIVE  \n",
              "98             Hello? Hello? Hello? Hello 911? Hello?  NEGATIVE  \n",
              "99   I got three zip-holes attacking people. Attac...  NEGATIVE  \n",
              "\n",
              "[100 rows x 3 columns]"
            ]
          },
          "execution_count": 86,
          "metadata": {},
          "output_type": "execute_result"
        }
      ],
      "source": [
        "full_df = pd.DataFrame([df['filename'][:100], text_series, sentiment_df]).T\n",
        "full_df.columns=['filename', 'text', 'sentiment']\n",
        "full_df"
      ]
    },
    {
      "cell_type": "code",
      "execution_count": null,
      "id": "821bac6a",
      "metadata": {
        "id": "821bac6a",
        "outputId": "7140a129-630c-4dc1-87b3-d83343db9975"
      },
      "outputs": [
        {
          "data": {
            "text/plain": [
              "filename     78\n",
              "text         78\n",
              "sentiment    78\n",
              "dtype: int64"
            ]
          },
          "execution_count": 87,
          "metadata": {},
          "output_type": "execute_result"
        }
      ],
      "source": [
        "full_df[full_df['sentiment'] == 'NEGATIVE'].count()"
      ]
    },
    {
      "cell_type": "markdown",
      "id": "66c63906",
      "metadata": {
        "id": "66c63906"
      },
      "source": [
        "# lets use Vader pipeline to analyze sentiment"
      ]
    },
    {
      "cell_type": "code",
      "execution_count": null,
      "id": "73c8b28c",
      "metadata": {
        "id": "73c8b28c"
      },
      "outputs": [],
      "source": [
        "from nltk.sentiment.vader import SentimentIntensityAnalyzer\n",
        "\n",
        "def get_sentiment_vader(text):\n",
        "    sid = SentimentIntensityAnalyzer()\n",
        "    sent = sid.polarity_scores(text)\n",
        "    compund = sent['compound']\n",
        "    if compund > 1/3:\n",
        "        return 'POSITIVE'\n",
        "    elif compund < - 1/3:\n",
        "        return 'NEGATIVE'\n",
        "    else:\n",
        "        return 'UNKOWN'"
      ]
    },
    {
      "cell_type": "code",
      "execution_count": null,
      "id": "dbe08eed",
      "metadata": {
        "id": "dbe08eed",
        "outputId": "ec0ab388-732c-4a3d-aa09-851de70334a4"
      },
      "outputs": [
        {
          "data": {
            "text/plain": [
              "0     NEGATIVE\n",
              "1       UNKOWN\n",
              "2       UNKOWN\n",
              "3     NEGATIVE\n",
              "4       UNKOWN\n",
              "        ...   \n",
              "95      UNKOWN\n",
              "96    NEGATIVE\n",
              "97    NEGATIVE\n",
              "98      UNKOWN\n",
              "99    NEGATIVE\n",
              "Name: filename, Length: 100, dtype: object"
            ]
          },
          "execution_count": 94,
          "metadata": {},
          "output_type": "execute_result"
        }
      ],
      "source": [
        "sentiment_df_vader = text_series.apply(get_sentiment_vader)\n",
        "sentiment_df_vader"
      ]
    },
    {
      "cell_type": "code",
      "execution_count": null,
      "id": "51b96566",
      "metadata": {
        "id": "51b96566",
        "outputId": "106f227c-7831-45df-e766-963e16c663f8"
      },
      "outputs": [
        {
          "data": {
            "text/html": [
              "<div>\n",
              "<style scoped>\n",
              "    .dataframe tbody tr th:only-of-type {\n",
              "        vertical-align: middle;\n",
              "    }\n",
              "\n",
              "    .dataframe tbody tr th {\n",
              "        vertical-align: top;\n",
              "    }\n",
              "\n",
              "    .dataframe thead th {\n",
              "        text-align: right;\n",
              "    }\n",
              "</style>\n",
              "<table border=\"1\" class=\"dataframe\">\n",
              "  <thead>\n",
              "    <tr style=\"text-align: right;\">\n",
              "      <th></th>\n",
              "      <th>filename</th>\n",
              "      <th>text</th>\n",
              "      <th>sentiment</th>\n",
              "    </tr>\n",
              "  </thead>\n",
              "  <tbody>\n",
              "    <tr>\n",
              "      <th>0</th>\n",
              "      <td>911_first6sec/call_2_0.wav</td>\n",
              "      <td>My mom had a bad time.</td>\n",
              "      <td>NEGATIVE</td>\n",
              "    </tr>\n",
              "    <tr>\n",
              "      <th>1</th>\n",
              "      <td>911_first6sec/call_8_0.wav</td>\n",
              "      <td>Hello. Hello. Is everything okay?</td>\n",
              "      <td>UNKOWN</td>\n",
              "    </tr>\n",
              "    <tr>\n",
              "      <th>2</th>\n",
              "      <td>911_first6sec/call_9_0.wav</td>\n",
              "      <td>I need a police officer over here at 7th. Wha...</td>\n",
              "      <td>UNKOWN</td>\n",
              "    </tr>\n",
              "    <tr>\n",
              "      <th>3</th>\n",
              "      <td>911_first6sec/call_10_0.wav</td>\n",
              "      <td>Ma'am, my pickup was stolen. I had to go find...</td>\n",
              "      <td>NEGATIVE</td>\n",
              "    </tr>\n",
              "    <tr>\n",
              "      <th>4</th>\n",
              "      <td>911_first6sec/call_11_0.wav</td>\n",
              "      <td>No ma'am I don't. I don't have an emergency. ...</td>\n",
              "      <td>UNKOWN</td>\n",
              "    </tr>\n",
              "    <tr>\n",
              "      <th>...</th>\n",
              "      <td>...</td>\n",
              "      <td>...</td>\n",
              "      <td>...</td>\n",
              "    </tr>\n",
              "    <tr>\n",
              "      <th>95</th>\n",
              "      <td>911_first6sec/call_110_0.wav</td>\n",
              "      <td>This is Gifford. Hello? Hello? Oh, number one...</td>\n",
              "      <td>UNKOWN</td>\n",
              "    </tr>\n",
              "    <tr>\n",
              "      <th>96</th>\n",
              "      <td>911_first6sec/call_111_0.wav</td>\n",
              "      <td>across, forty seven oh nine fourty隔s avenue f...</td>\n",
              "      <td>NEGATIVE</td>\n",
              "    </tr>\n",
              "    <tr>\n",
              "      <th>97</th>\n",
              "      <td>911_first6sec/call_112_0.wav</td>\n",
              "      <td>I have, um, I need somebody escorted out of m...</td>\n",
              "      <td>NEGATIVE</td>\n",
              "    </tr>\n",
              "    <tr>\n",
              "      <th>98</th>\n",
              "      <td>911_first6sec/call_114_0.wav</td>\n",
              "      <td>Hello? Hello? Hello? Hello 911? Hello?</td>\n",
              "      <td>UNKOWN</td>\n",
              "    </tr>\n",
              "    <tr>\n",
              "      <th>99</th>\n",
              "      <td>911_first6sec/call_115_0.wav</td>\n",
              "      <td>I got three zip-holes attacking people. Attac...</td>\n",
              "      <td>NEGATIVE</td>\n",
              "    </tr>\n",
              "  </tbody>\n",
              "</table>\n",
              "<p>100 rows × 3 columns</p>\n",
              "</div>"
            ],
            "text/plain": [
              "                        filename  \\\n",
              "0     911_first6sec/call_2_0.wav   \n",
              "1     911_first6sec/call_8_0.wav   \n",
              "2     911_first6sec/call_9_0.wav   \n",
              "3    911_first6sec/call_10_0.wav   \n",
              "4    911_first6sec/call_11_0.wav   \n",
              "..                           ...   \n",
              "95  911_first6sec/call_110_0.wav   \n",
              "96  911_first6sec/call_111_0.wav   \n",
              "97  911_first6sec/call_112_0.wav   \n",
              "98  911_first6sec/call_114_0.wav   \n",
              "99  911_first6sec/call_115_0.wav   \n",
              "\n",
              "                                                 text sentiment  \n",
              "0                              My mom had a bad time.  NEGATIVE  \n",
              "1                   Hello. Hello. Is everything okay?    UNKOWN  \n",
              "2    I need a police officer over here at 7th. Wha...    UNKOWN  \n",
              "3    Ma'am, my pickup was stolen. I had to go find...  NEGATIVE  \n",
              "4    No ma'am I don't. I don't have an emergency. ...    UNKOWN  \n",
              "..                                                ...       ...  \n",
              "95   This is Gifford. Hello? Hello? Oh, number one...    UNKOWN  \n",
              "96   across, forty seven oh nine fourty隔s avenue f...  NEGATIVE  \n",
              "97   I have, um, I need somebody escorted out of m...  NEGATIVE  \n",
              "98             Hello? Hello? Hello? Hello 911? Hello?    UNKOWN  \n",
              "99   I got three zip-holes attacking people. Attac...  NEGATIVE  \n",
              "\n",
              "[100 rows x 3 columns]"
            ]
          },
          "execution_count": 99,
          "metadata": {},
          "output_type": "execute_result"
        }
      ],
      "source": [
        "full_df_vader = pd.DataFrame([df['filename'][:100], text_series, sentiment_df_vader]).T\n",
        "full_df_vader.columns=['filename', 'text', 'sentiment']\n",
        "full_df_vader"
      ]
    },
    {
      "cell_type": "code",
      "execution_count": null,
      "id": "8597888f",
      "metadata": {
        "id": "8597888f",
        "outputId": "dbea5783-ab70-4f4c-feee-c0078fc885c4"
      },
      "outputs": [
        {
          "data": {
            "text/plain": [
              "21"
            ]
          },
          "execution_count": 97,
          "metadata": {},
          "output_type": "execute_result"
        }
      ],
      "source": [
        "sentiment_df_vader[sentiment_df_vader == 'NEGATIVE'].count()"
      ]
    },
    {
      "cell_type": "code",
      "execution_count": null,
      "id": "eb0804c0",
      "metadata": {
        "id": "eb0804c0",
        "outputId": "578eb143-f1af-4f82-e558-fade51701f2d"
      },
      "outputs": [
        {
          "data": {
            "text/plain": [
              "20"
            ]
          },
          "execution_count": 98,
          "metadata": {},
          "output_type": "execute_result"
        }
      ],
      "source": [
        "sentiment_df_vader[sentiment_df_vader == 'POSITIVE'].count()"
      ]
    },
    {
      "cell_type": "code",
      "execution_count": null,
      "id": "8bbfcf09",
      "metadata": {
        "id": "8bbfcf09"
      },
      "outputs": [],
      "source": [
        "import torch"
      ]
    },
    {
      "cell_type": "code",
      "execution_count": null,
      "id": "11d3bd53",
      "metadata": {
        "id": "11d3bd53",
        "outputId": "f7aa7967-f485-4218-a499-b0199476faa4"
      },
      "outputs": [
        {
          "name": "stdout",
          "output_type": "stream",
          "text": [
            "False\n"
          ]
        }
      ],
      "source": [
        "print(torch.cuda.is_available())"
      ]
    },
    {
      "cell_type": "code",
      "execution_count": null,
      "id": "c1d11122",
      "metadata": {
        "id": "c1d11122",
        "outputId": "fc5f00af-a0b2-47dd-e072-9e8b4785d4af"
      },
      "outputs": [
        {
          "name": "stdout",
          "output_type": "stream",
          "text": [
            "^C\n",
            "\n",
            "Note: you may need to restart the kernel to use updated packages.\n"
          ]
        }
      ],
      "source": [
        "%conda install -c conda-forge cudatoolkit=11.2 cudnn=8.1.0"
      ]
    },
    {
      "cell_type": "code",
      "execution_count": null,
      "id": "362931c8",
      "metadata": {
        "id": "362931c8"
      },
      "outputs": [],
      "source": []
    }
  ],
  "metadata": {
    "kernelspec": {
      "display_name": "Python 3 (ipykernel)",
      "language": "python",
      "name": "python3"
    },
    "language_info": {
      "codemirror_mode": {
        "name": "ipython",
        "version": 3
      },
      "file_extension": ".py",
      "mimetype": "text/x-python",
      "name": "python",
      "nbconvert_exporter": "python",
      "pygments_lexer": "ipython3",
      "version": "3.11.4"
    },
    "colab": {
      "provenance": []
    }
  },
  "nbformat": 4,
  "nbformat_minor": 5
}