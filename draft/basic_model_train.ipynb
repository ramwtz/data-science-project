{
  "nbformat": 4,
  "nbformat_minor": 0,
  "metadata": {
    "colab": {
      "provenance": [],
      "collapsed_sections": [
        "_q5b3nG_pLQ2",
        "MYDYr2dXuW8v",
        "HTZJEt9I0ArV",
        "r_o5mXRe6rTU"
      ]
    },
    "kernelspec": {
      "name": "python3",
      "display_name": "Python 3"
    },
    "language_info": {
      "name": "python"
    }
  },
  "cells": [
    {
      "cell_type": "markdown",
      "source": [
        "# Git Repository Bringup"
      ],
      "metadata": {
        "id": "fHo3M0LL_ROe"
      }
    },
    {
      "cell_type": "code",
      "source": [
        "!git version"
      ],
      "metadata": {
        "colab": {
          "base_uri": "https://localhost:8080/"
        },
        "id": "KafsLa2z8ALj",
        "outputId": "84e13a0b-1e98-442c-b63c-cb0f55575c9f"
      },
      "execution_count": 64,
      "outputs": [
        {
          "output_type": "stream",
          "name": "stdout",
          "text": [
            "git version 2.34.1\n",
            "time: 105 ms (started: 2023-09-25 17:49:30 +00:00)\n"
          ]
        }
      ]
    },
    {
      "cell_type": "code",
      "source": [
        "!git clone https://github.com/ramwtz/data-science-project.git"
      ],
      "metadata": {
        "colab": {
          "base_uri": "https://localhost:8080/"
        },
        "id": "MvDOev_38vZw",
        "outputId": "34b5c894-47d7-4ab9-9893-660aadb278f5"
      },
      "execution_count": 65,
      "outputs": [
        {
          "output_type": "stream",
          "name": "stdout",
          "text": [
            "fatal: destination path 'data-science-project' already exists and is not an empty directory.\n",
            "time: 728 ms (started: 2023-09-25 17:49:30 +00:00)\n"
          ]
        }
      ]
    },
    {
      "cell_type": "code",
      "source": [
        "!ls"
      ],
      "metadata": {
        "colab": {
          "base_uri": "https://localhost:8080/"
        },
        "id": "8fE-lpOF80Dr",
        "outputId": "005a6902-bf11-4163-bc9e-485bad80e6e6"
      },
      "execution_count": 66,
      "outputs": [
        {
          "output_type": "stream",
          "name": "stdout",
          "text": [
            "data-science-project  drive  sample_data\n",
            "time: 107 ms (started: 2023-09-25 17:49:31 +00:00)\n"
          ]
        }
      ]
    },
    {
      "cell_type": "code",
      "source": [
        "%cd data-science-project/"
      ],
      "metadata": {
        "colab": {
          "base_uri": "https://localhost:8080/"
        },
        "id": "bi3CTOvT86iy",
        "outputId": "5c66b164-e00b-4322-c598-2ba13fbe39a1"
      },
      "execution_count": 67,
      "outputs": [
        {
          "output_type": "stream",
          "name": "stdout",
          "text": [
            "/content/data-science-project\n",
            "time: 3.66 ms (started: 2023-09-25 17:49:31 +00:00)\n"
          ]
        }
      ]
    },
    {
      "cell_type": "code",
      "source": [
        "!pwd"
      ],
      "metadata": {
        "colab": {
          "base_uri": "https://localhost:8080/"
        },
        "id": "o-Y_VO-79Htx",
        "outputId": "87f80a45-8890-4bc5-8350-0050bdbd0a62"
      },
      "execution_count": 68,
      "outputs": [
        {
          "output_type": "stream",
          "name": "stdout",
          "text": [
            "/content/data-science-project\n",
            "time: 104 ms (started: 2023-09-25 17:49:31 +00:00)\n"
          ]
        }
      ]
    },
    {
      "cell_type": "code",
      "source": [
        "!git switch dev/ram"
      ],
      "metadata": {
        "colab": {
          "base_uri": "https://localhost:8080/"
        },
        "id": "r4EAABzL9Loj",
        "outputId": "c663fc22-8ec0-4200-f5c0-d8c198952bf1"
      },
      "execution_count": 69,
      "outputs": [
        {
          "output_type": "stream",
          "name": "stdout",
          "text": [
            "Already on 'dev/ram'\n",
            "Your branch is up to date with 'origin/dev/ram'.\n",
            "time: 106 ms (started: 2023-09-25 17:49:31 +00:00)\n"
          ]
        }
      ]
    },
    {
      "cell_type": "code",
      "source": [
        "%cd .."
      ],
      "metadata": {
        "id": "O-zkQbWh-sA1",
        "outputId": "eb1eac37-4387-4224-ac58-a35a933a7be8",
        "colab": {
          "base_uri": "https://localhost:8080/"
        }
      },
      "execution_count": 70,
      "outputs": [
        {
          "output_type": "stream",
          "name": "stdout",
          "text": [
            "/content\n",
            "time: 1.52 ms (started: 2023-09-25 17:49:31 +00:00)\n"
          ]
        }
      ]
    },
    {
      "cell_type": "markdown",
      "source": [
        "# Basic Bringup for Remote Envrionment"
      ],
      "metadata": {
        "id": "JPVMPUUUo2UP"
      }
    },
    {
      "cell_type": "code",
      "source": [
        "from google.colab import drive\n",
        "drive.mount('/content/drive')"
      ],
      "metadata": {
        "id": "aQs8AozzPWrB",
        "outputId": "441aa31e-64c7-404f-9fe2-d7c52d7cb6f8",
        "colab": {
          "base_uri": "https://localhost:8080/"
        }
      },
      "execution_count": 71,
      "outputs": [
        {
          "output_type": "stream",
          "name": "stdout",
          "text": [
            "Drive already mounted at /content/drive; to attempt to forcibly remount, call drive.mount(\"/content/drive\", force_remount=True).\n",
            "time: 1.85 s (started: 2023-09-25 17:49:34 +00:00)\n"
          ]
        }
      ]
    },
    {
      "cell_type": "code",
      "source": [
        "# Necessary packages for this nb\n",
        "!pip install --quiet -r '/content/data-science-project/dependencies.txt'"
      ],
      "metadata": {
        "id": "blDntGCvK0pM",
        "colab": {
          "base_uri": "https://localhost:8080/"
        },
        "outputId": "7a472f39-83a4-4c53-d336-e24396e32e37"
      },
      "execution_count": 72,
      "outputs": [
        {
          "output_type": "stream",
          "name": "stdout",
          "text": [
            "time: 7.24 s (started: 2023-09-25 17:49:36 +00:00)\n"
          ]
        }
      ]
    },
    {
      "cell_type": "markdown",
      "source": [
        "# Initialize Env"
      ],
      "metadata": {
        "id": "_q5b3nG_pLQ2"
      }
    },
    {
      "cell_type": "code",
      "execution_count": 73,
      "metadata": {
        "id": "S2PBoyn8PpqC",
        "colab": {
          "base_uri": "https://localhost:8080/"
        },
        "outputId": "d831f432-c70c-4972-fe05-b65dc7c0cf8a"
      },
      "outputs": [
        {
          "output_type": "stream",
          "name": "stdout",
          "text": [
            "The autotime extension is already loaded. To reload it, use:\n",
            "  %reload_ext autotime\n",
            "time: 4.75 ms (started: 2023-09-25 17:49:47 +00:00)\n"
          ]
        }
      ],
      "source": [
        "# Imports\n",
        "import os\n",
        "import pandas as pd\n",
        "import numpy as np\n",
        "import matplotlib.pyplot as plt\n",
        "import matplotlib.patches as mpatches\n",
        "import librosa as lbrs\n",
        "import IPython\n",
        "import IPython.display as ipd\n",
        "import seaborn as sns\n",
        "from tqdm import tqdm\n",
        "from sklearn.model_selection import train_test_split\n",
        "from tensorflow.keras import models, layers, optimizers, callbacks\n",
        "from sklearn import metrics\n",
        "from scipy import fft\n",
        "\n",
        "# Configs\n",
        "%load_ext autotime\n",
        "tqdm.pandas()"
      ]
    },
    {
      "cell_type": "code",
      "source": [
        "gen_data_dir = os.path.join('drive', 'MyDrive', 'project', 'data')\n",
        "calls_dir = os.path.join(gen_data_dir, 'calls')\n",
        "new_data_dir = os.path.join(gen_data_dir, 'new')\n",
        "\n",
        "#\n",
        "metadata_path = os.path.join(calls_dir, '911_first6sec', '911_metadata_6sec.csv')"
      ],
      "metadata": {
        "id": "z8f4V1ZtQP2Q",
        "colab": {
          "base_uri": "https://localhost:8080/"
        },
        "outputId": "9865296c-b37d-459d-e97f-cc239c60e092"
      },
      "execution_count": 74,
      "outputs": [
        {
          "output_type": "stream",
          "name": "stdout",
          "text": [
            "time: 1.33 ms (started: 2023-09-25 17:49:47 +00:00)\n"
          ]
        }
      ]
    },
    {
      "cell_type": "code",
      "source": [
        "def get_path_from_filename(audio_file_name):\n",
        "    type_dir, file_name = audio_file_name.split('/')\n",
        "    return os.path.join(calls_dir, type_dir, file_name)"
      ],
      "metadata": {
        "colab": {
          "base_uri": "https://localhost:8080/"
        },
        "id": "dDpiusDus7SE",
        "outputId": "1cb27c75-0308-445a-9147-cfe2b34e7f44"
      },
      "execution_count": 75,
      "outputs": [
        {
          "output_type": "stream",
          "name": "stdout",
          "text": [
            "time: 481 µs (started: 2023-09-25 17:49:47 +00:00)\n"
          ]
        }
      ]
    },
    {
      "cell_type": "code",
      "source": [
        "def create_audio_series(audio_file_name):\n",
        "    audio_file_path = get_path_from_filename(audio_file_name)\n",
        "    data, sample_rate = lbrs.load(audio_file_path)\n",
        "    return audio_file_name, data, sample_rate"
      ],
      "metadata": {
        "colab": {
          "base_uri": "https://localhost:8080/"
        },
        "id": "J0WK_yhqLYZh",
        "outputId": "5f1d3372-88c3-4a7b-93fd-56c39e4d5a4b"
      },
      "execution_count": 76,
      "outputs": [
        {
          "output_type": "stream",
          "name": "stdout",
          "text": [
            "time: 436 µs (started: 2023-09-25 17:49:47 +00:00)\n"
          ]
        }
      ]
    },
    {
      "cell_type": "markdown",
      "source": [
        "# MFCC Model - First Attempt\n",
        "For our first model we will use [this paper](https://ietresearch.onlinelibrary.wiley.com/doi/full/10.1049/tje2.12082) on speech recognition by Rakibul Hasan, Mahbub Hasan & Zakir Hossain,  as a reference point, although dpeech recognition is not the intent, the model we are attempting to build is tangentialially related, and so this is a good reference point to start from."
      ],
      "metadata": {
        "id": "MYDYr2dXuW8v"
      }
    },
    {
      "cell_type": "markdown",
      "source": [
        "## Initial Build"
      ],
      "metadata": {
        "id": "chlJEG5fxT8w"
      }
    },
    {
      "cell_type": "code",
      "source": [
        "# load metadata from csv to a pandas dataframe\n",
        "metadata_df = pd.read_csv(metadata_path)"
      ],
      "metadata": {
        "colab": {
          "base_uri": "https://localhost:8080/"
        },
        "id": "w_7XiiNdNyEe",
        "outputId": "8e78e65f-50e4-45f2-8a47-ea5ddaa319d6"
      },
      "execution_count": 78,
      "outputs": [
        {
          "output_type": "stream",
          "name": "stdout",
          "text": [
            "time: 32.8 ms (started: 2023-09-25 17:49:55 +00:00)\n"
          ]
        }
      ]
    },
    {
      "cell_type": "code",
      "source": [
        "print(metadata_df.count())"
      ],
      "metadata": {
        "colab": {
          "base_uri": "https://localhost:8080/"
        },
        "id": "r_gYACdyQuWC",
        "outputId": "58379dc0-3127-4122-d4d9-10c572415831"
      },
      "execution_count": 79,
      "outputs": [
        {
          "output_type": "stream",
          "name": "stdout",
          "text": [
            "id                 710\n",
            "event_id           710\n",
            "link               710\n",
            "title              710\n",
            "date               689\n",
            "state              702\n",
            "deaths             709\n",
            "potential_death    709\n",
            "false_alarm        709\n",
            "description        701\n",
            "deaths_binary      710\n",
            "break              710\n",
            "filename           710\n",
            "dtype: int64\n",
            "time: 19.9 ms (started: 2023-09-25 17:49:56 +00:00)\n"
          ]
        }
      ]
    },
    {
      "cell_type": "code",
      "source": [
        "# TODO (ram): need to find the duplicates\n",
        "metadata_df.drop_duplicates(subset=['filename'], inplace=True)\n",
        "metadata_df.reset_index(drop=True, inplace=True)\n",
        "print(metadata_df.count())"
      ],
      "metadata": {
        "colab": {
          "base_uri": "https://localhost:8080/"
        },
        "id": "Kw0sAo4WrHD3",
        "outputId": "df0e327a-c013-4190-f95b-89fb121ed669"
      },
      "execution_count": 80,
      "outputs": [
        {
          "output_type": "stream",
          "name": "stdout",
          "text": [
            "id                 707\n",
            "event_id           707\n",
            "link               707\n",
            "title              707\n",
            "date               686\n",
            "state              699\n",
            "deaths             706\n",
            "potential_death    706\n",
            "false_alarm        706\n",
            "description        699\n",
            "deaths_binary      707\n",
            "break              707\n",
            "filename           707\n",
            "dtype: int64\n",
            "time: 15.6 ms (started: 2023-09-25 17:49:56 +00:00)\n"
          ]
        }
      ]
    },
    {
      "cell_type": "code",
      "source": [
        "metadata_df[metadata_df['deaths'].isnull()]"
      ],
      "metadata": {
        "colab": {
          "base_uri": "https://localhost:8080/",
          "height": 98
        },
        "id": "WXSWs8HXx3qu",
        "outputId": "ddb4733e-e3d5-464b-d07f-83fbb15f99cb"
      },
      "execution_count": 81,
      "outputs": [
        {
          "output_type": "execute_result",
          "data": {
            "text/plain": [
              "    id  event_id                                               link  \\\n",
              "39  39        54  https://web.archive.org/web/20150417085342/htt...   \n",
              "\n",
              "                     title date state  deaths  potential_death  false_alarm  \\\n",
              "39  Boat rescue #1 – Minn.  NaN   NaN     NaN              NaN          NaN   \n",
              "\n",
              "   description  deaths_binary  break                     filename  \n",
              "39         NaN              0    2.0  911_first6sec/call_54_0.wav  "
            ],
            "text/html": [
              "\n",
              "  <div id=\"df-063697fc-bf7b-4af6-9fbf-7d0f581bcbdf\" class=\"colab-df-container\">\n",
              "    <div>\n",
              "<style scoped>\n",
              "    .dataframe tbody tr th:only-of-type {\n",
              "        vertical-align: middle;\n",
              "    }\n",
              "\n",
              "    .dataframe tbody tr th {\n",
              "        vertical-align: top;\n",
              "    }\n",
              "\n",
              "    .dataframe thead th {\n",
              "        text-align: right;\n",
              "    }\n",
              "</style>\n",
              "<table border=\"1\" class=\"dataframe\">\n",
              "  <thead>\n",
              "    <tr style=\"text-align: right;\">\n",
              "      <th></th>\n",
              "      <th>id</th>\n",
              "      <th>event_id</th>\n",
              "      <th>link</th>\n",
              "      <th>title</th>\n",
              "      <th>date</th>\n",
              "      <th>state</th>\n",
              "      <th>deaths</th>\n",
              "      <th>potential_death</th>\n",
              "      <th>false_alarm</th>\n",
              "      <th>description</th>\n",
              "      <th>deaths_binary</th>\n",
              "      <th>break</th>\n",
              "      <th>filename</th>\n",
              "    </tr>\n",
              "  </thead>\n",
              "  <tbody>\n",
              "    <tr>\n",
              "      <th>39</th>\n",
              "      <td>39</td>\n",
              "      <td>54</td>\n",
              "      <td>https://web.archive.org/web/20150417085342/htt...</td>\n",
              "      <td>Boat rescue #1 – Minn.</td>\n",
              "      <td>NaN</td>\n",
              "      <td>NaN</td>\n",
              "      <td>NaN</td>\n",
              "      <td>NaN</td>\n",
              "      <td>NaN</td>\n",
              "      <td>NaN</td>\n",
              "      <td>0</td>\n",
              "      <td>2.0</td>\n",
              "      <td>911_first6sec/call_54_0.wav</td>\n",
              "    </tr>\n",
              "  </tbody>\n",
              "</table>\n",
              "</div>\n",
              "    <div class=\"colab-df-buttons\">\n",
              "\n",
              "  <div class=\"colab-df-container\">\n",
              "    <button class=\"colab-df-convert\" onclick=\"convertToInteractive('df-063697fc-bf7b-4af6-9fbf-7d0f581bcbdf')\"\n",
              "            title=\"Convert this dataframe to an interactive table.\"\n",
              "            style=\"display:none;\">\n",
              "\n",
              "  <svg xmlns=\"http://www.w3.org/2000/svg\" height=\"24px\" viewBox=\"0 -960 960 960\">\n",
              "    <path d=\"M120-120v-720h720v720H120Zm60-500h600v-160H180v160Zm220 220h160v-160H400v160Zm0 220h160v-160H400v160ZM180-400h160v-160H180v160Zm440 0h160v-160H620v160ZM180-180h160v-160H180v160Zm440 0h160v-160H620v160Z\"/>\n",
              "  </svg>\n",
              "    </button>\n",
              "\n",
              "  <style>\n",
              "    .colab-df-container {\n",
              "      display:flex;\n",
              "      gap: 12px;\n",
              "    }\n",
              "\n",
              "    .colab-df-convert {\n",
              "      background-color: #E8F0FE;\n",
              "      border: none;\n",
              "      border-radius: 50%;\n",
              "      cursor: pointer;\n",
              "      display: none;\n",
              "      fill: #1967D2;\n",
              "      height: 32px;\n",
              "      padding: 0 0 0 0;\n",
              "      width: 32px;\n",
              "    }\n",
              "\n",
              "    .colab-df-convert:hover {\n",
              "      background-color: #E2EBFA;\n",
              "      box-shadow: 0px 1px 2px rgba(60, 64, 67, 0.3), 0px 1px 3px 1px rgba(60, 64, 67, 0.15);\n",
              "      fill: #174EA6;\n",
              "    }\n",
              "\n",
              "    .colab-df-buttons div {\n",
              "      margin-bottom: 4px;\n",
              "    }\n",
              "\n",
              "    [theme=dark] .colab-df-convert {\n",
              "      background-color: #3B4455;\n",
              "      fill: #D2E3FC;\n",
              "    }\n",
              "\n",
              "    [theme=dark] .colab-df-convert:hover {\n",
              "      background-color: #434B5C;\n",
              "      box-shadow: 0px 1px 3px 1px rgba(0, 0, 0, 0.15);\n",
              "      filter: drop-shadow(0px 1px 2px rgba(0, 0, 0, 0.3));\n",
              "      fill: #FFFFFF;\n",
              "    }\n",
              "  </style>\n",
              "\n",
              "    <script>\n",
              "      const buttonEl =\n",
              "        document.querySelector('#df-063697fc-bf7b-4af6-9fbf-7d0f581bcbdf button.colab-df-convert');\n",
              "      buttonEl.style.display =\n",
              "        google.colab.kernel.accessAllowed ? 'block' : 'none';\n",
              "\n",
              "      async function convertToInteractive(key) {\n",
              "        const element = document.querySelector('#df-063697fc-bf7b-4af6-9fbf-7d0f581bcbdf');\n",
              "        const dataTable =\n",
              "          await google.colab.kernel.invokeFunction('convertToInteractive',\n",
              "                                                    [key], {});\n",
              "        if (!dataTable) return;\n",
              "\n",
              "        const docLinkHtml = 'Like what you see? Visit the ' +\n",
              "          '<a target=\"_blank\" href=https://colab.research.google.com/notebooks/data_table.ipynb>data table notebook</a>'\n",
              "          + ' to learn more about interactive tables.';\n",
              "        element.innerHTML = '';\n",
              "        dataTable['output_type'] = 'display_data';\n",
              "        await google.colab.output.renderOutput(dataTable, element);\n",
              "        const docLink = document.createElement('div');\n",
              "        docLink.innerHTML = docLinkHtml;\n",
              "        element.appendChild(docLink);\n",
              "      }\n",
              "    </script>\n",
              "  </div>\n",
              "\n",
              "    </div>\n",
              "  </div>\n"
            ]
          },
          "metadata": {},
          "execution_count": 81
        },
        {
          "output_type": "stream",
          "name": "stdout",
          "text": [
            "time: 823 ms (started: 2023-09-25 17:49:56 +00:00)\n"
          ]
        }
      ]
    },
    {
      "cell_type": "code",
      "source": [
        "# TODO (Ram): maybe we can tag this ourselves\n",
        "metadata_df = metadata_df[metadata_df['deaths'].notna()]\n",
        "metadata_df.reset_index(drop=True, inplace=True)\n",
        "print(metadata_df.count())"
      ],
      "metadata": {
        "colab": {
          "base_uri": "https://localhost:8080/"
        },
        "id": "GQE3PdI3x6tr",
        "outputId": "7eba6879-69a2-4b06-df85-dee9ea9b9aa7"
      },
      "execution_count": 82,
      "outputs": [
        {
          "output_type": "stream",
          "name": "stdout",
          "text": [
            "id                 706\n",
            "event_id           706\n",
            "link               706\n",
            "title              706\n",
            "date               686\n",
            "state              699\n",
            "deaths             706\n",
            "potential_death    706\n",
            "false_alarm        706\n",
            "description        699\n",
            "deaths_binary      706\n",
            "break              706\n",
            "filename           706\n",
            "dtype: int64\n",
            "time: 12.6 ms (started: 2023-09-25 17:49:57 +00:00)\n"
          ]
        }
      ]
    },
    {
      "cell_type": "markdown",
      "source": [
        "## The Models features\n",
        "We will use Mel-frequency cepstral coefficients as our features, as is common in speech recognition (but not exclusive to).\n",
        "\n",
        "The MFCCs are essentialy an extension of the STFT that we've seen in the previous section, in that the MFCCs are computed by breaking up the signal into windows and computing the DFT for each window, but expands upon this by mapping the signal to the mel-scale, taking the log of mapping and applying a discrete cosine transform, with the MFCC being the magnitude of the resulting spectrum."
      ],
      "metadata": {
        "id": "4SiTSx3FWRTO"
      }
    },
    {
      "cell_type": "code",
      "source": [
        "def mfcc_feature_extractor(filename, n_mfcc=13, n_fft=512, hop_length=124):\n",
        "  _, data, sr = create_audio_series(filename)\n",
        "  mfcc = lbrs.feature.mfcc(\n",
        "      y=data, sr=sr, n_mfcc=n_mfcc,\n",
        "      n_fft=n_fft, hop_length=hop_length\n",
        "      )\n",
        "\n",
        "  return np.mean(mfcc.T, axis=0)"
      ],
      "metadata": {
        "colab": {
          "base_uri": "https://localhost:8080/"
        },
        "id": "JDbSYBtczz37",
        "outputId": "d15b5517-3843-43f1-fc9d-a8e09c190f93"
      },
      "execution_count": 174,
      "outputs": [
        {
          "output_type": "stream",
          "name": "stdout",
          "text": [
            "time: 885 µs (started: 2023-09-25 19:14:35 +00:00)\n"
          ]
        }
      ]
    },
    {
      "cell_type": "code",
      "source": [
        "# paths\n",
        "filenames = metadata_df['filename']\n",
        "features = filenames.progress_apply(mfcc_feature_extractor, n_mfcc=25)\n",
        "features.rename('features', inplace=True)\n",
        "\n",
        "features_named = pd.concat([filenames, features], axis=1)\n",
        "features_named.head(10)"
      ],
      "metadata": {
        "colab": {
          "base_uri": "https://localhost:8080/",
          "height": 398
        },
        "id": "_gGCgs-n9foE",
        "outputId": "57c2f67a-8a17-4567-f342-9a7a97ccf471"
      },
      "execution_count": 175,
      "outputs": [
        {
          "output_type": "stream",
          "name": "stderr",
          "text": [
            "100%|██████████| 706/706 [00:32<00:00, 21.59it/s]\n"
          ]
        },
        {
          "output_type": "execute_result",
          "data": {
            "text/plain": [
              "                      filename  \\\n",
              "0   911_first6sec/call_2_0.wav   \n",
              "1   911_first6sec/call_8_0.wav   \n",
              "2   911_first6sec/call_9_0.wav   \n",
              "3  911_first6sec/call_10_0.wav   \n",
              "4  911_first6sec/call_11_0.wav   \n",
              "5  911_first6sec/call_12_0.wav   \n",
              "6  911_first6sec/call_13_0.wav   \n",
              "7  911_first6sec/call_15_0.wav   \n",
              "8  911_first6sec/call_16_0.wav   \n",
              "9  911_first6sec/call_17_0.wav   \n",
              "\n",
              "                                            features  \n",
              "0  [-496.04065, 136.32658, -38.824547, -2.956653,...  \n",
              "1  [-542.26483, 113.492096, -54.898445, -16.93544...  \n",
              "2  [-469.10492, 144.50133, -53.16924, -35.66156, ...  \n",
              "3  [-461.7921, 102.00011, 4.2778754, -3.2980382, ...  \n",
              "4  [-388.4136, 191.76454, -68.483246, -28.393341,...  \n",
              "5  [-366.632, 123.76255, -8.727576, -9.830455, 2....  \n",
              "6  [-328.94275, 173.40773, -122.68931, -22.340195...  \n",
              "7  [-388.2811, 92.171074, 0.91390646, -14.596169,...  \n",
              "8  [-500.0724, 121.41379, -37.134045, 13.093015, ...  \n",
              "9  [-335.3681, 180.51752, -75.116455, -6.7831354,...  "
            ],
            "text/html": [
              "\n",
              "  <div id=\"df-ef7949b0-5031-4e7e-8c64-881722c73c56\" class=\"colab-df-container\">\n",
              "    <div>\n",
              "<style scoped>\n",
              "    .dataframe tbody tr th:only-of-type {\n",
              "        vertical-align: middle;\n",
              "    }\n",
              "\n",
              "    .dataframe tbody tr th {\n",
              "        vertical-align: top;\n",
              "    }\n",
              "\n",
              "    .dataframe thead th {\n",
              "        text-align: right;\n",
              "    }\n",
              "</style>\n",
              "<table border=\"1\" class=\"dataframe\">\n",
              "  <thead>\n",
              "    <tr style=\"text-align: right;\">\n",
              "      <th></th>\n",
              "      <th>filename</th>\n",
              "      <th>features</th>\n",
              "    </tr>\n",
              "  </thead>\n",
              "  <tbody>\n",
              "    <tr>\n",
              "      <th>0</th>\n",
              "      <td>911_first6sec/call_2_0.wav</td>\n",
              "      <td>[-496.04065, 136.32658, -38.824547, -2.956653,...</td>\n",
              "    </tr>\n",
              "    <tr>\n",
              "      <th>1</th>\n",
              "      <td>911_first6sec/call_8_0.wav</td>\n",
              "      <td>[-542.26483, 113.492096, -54.898445, -16.93544...</td>\n",
              "    </tr>\n",
              "    <tr>\n",
              "      <th>2</th>\n",
              "      <td>911_first6sec/call_9_0.wav</td>\n",
              "      <td>[-469.10492, 144.50133, -53.16924, -35.66156, ...</td>\n",
              "    </tr>\n",
              "    <tr>\n",
              "      <th>3</th>\n",
              "      <td>911_first6sec/call_10_0.wav</td>\n",
              "      <td>[-461.7921, 102.00011, 4.2778754, -3.2980382, ...</td>\n",
              "    </tr>\n",
              "    <tr>\n",
              "      <th>4</th>\n",
              "      <td>911_first6sec/call_11_0.wav</td>\n",
              "      <td>[-388.4136, 191.76454, -68.483246, -28.393341,...</td>\n",
              "    </tr>\n",
              "    <tr>\n",
              "      <th>5</th>\n",
              "      <td>911_first6sec/call_12_0.wav</td>\n",
              "      <td>[-366.632, 123.76255, -8.727576, -9.830455, 2....</td>\n",
              "    </tr>\n",
              "    <tr>\n",
              "      <th>6</th>\n",
              "      <td>911_first6sec/call_13_0.wav</td>\n",
              "      <td>[-328.94275, 173.40773, -122.68931, -22.340195...</td>\n",
              "    </tr>\n",
              "    <tr>\n",
              "      <th>7</th>\n",
              "      <td>911_first6sec/call_15_0.wav</td>\n",
              "      <td>[-388.2811, 92.171074, 0.91390646, -14.596169,...</td>\n",
              "    </tr>\n",
              "    <tr>\n",
              "      <th>8</th>\n",
              "      <td>911_first6sec/call_16_0.wav</td>\n",
              "      <td>[-500.0724, 121.41379, -37.134045, 13.093015, ...</td>\n",
              "    </tr>\n",
              "    <tr>\n",
              "      <th>9</th>\n",
              "      <td>911_first6sec/call_17_0.wav</td>\n",
              "      <td>[-335.3681, 180.51752, -75.116455, -6.7831354,...</td>\n",
              "    </tr>\n",
              "  </tbody>\n",
              "</table>\n",
              "</div>\n",
              "    <div class=\"colab-df-buttons\">\n",
              "\n",
              "  <div class=\"colab-df-container\">\n",
              "    <button class=\"colab-df-convert\" onclick=\"convertToInteractive('df-ef7949b0-5031-4e7e-8c64-881722c73c56')\"\n",
              "            title=\"Convert this dataframe to an interactive table.\"\n",
              "            style=\"display:none;\">\n",
              "\n",
              "  <svg xmlns=\"http://www.w3.org/2000/svg\" height=\"24px\" viewBox=\"0 -960 960 960\">\n",
              "    <path d=\"M120-120v-720h720v720H120Zm60-500h600v-160H180v160Zm220 220h160v-160H400v160Zm0 220h160v-160H400v160ZM180-400h160v-160H180v160Zm440 0h160v-160H620v160ZM180-180h160v-160H180v160Zm440 0h160v-160H620v160Z\"/>\n",
              "  </svg>\n",
              "    </button>\n",
              "\n",
              "  <style>\n",
              "    .colab-df-container {\n",
              "      display:flex;\n",
              "      gap: 12px;\n",
              "    }\n",
              "\n",
              "    .colab-df-convert {\n",
              "      background-color: #E8F0FE;\n",
              "      border: none;\n",
              "      border-radius: 50%;\n",
              "      cursor: pointer;\n",
              "      display: none;\n",
              "      fill: #1967D2;\n",
              "      height: 32px;\n",
              "      padding: 0 0 0 0;\n",
              "      width: 32px;\n",
              "    }\n",
              "\n",
              "    .colab-df-convert:hover {\n",
              "      background-color: #E2EBFA;\n",
              "      box-shadow: 0px 1px 2px rgba(60, 64, 67, 0.3), 0px 1px 3px 1px rgba(60, 64, 67, 0.15);\n",
              "      fill: #174EA6;\n",
              "    }\n",
              "\n",
              "    .colab-df-buttons div {\n",
              "      margin-bottom: 4px;\n",
              "    }\n",
              "\n",
              "    [theme=dark] .colab-df-convert {\n",
              "      background-color: #3B4455;\n",
              "      fill: #D2E3FC;\n",
              "    }\n",
              "\n",
              "    [theme=dark] .colab-df-convert:hover {\n",
              "      background-color: #434B5C;\n",
              "      box-shadow: 0px 1px 3px 1px rgba(0, 0, 0, 0.15);\n",
              "      filter: drop-shadow(0px 1px 2px rgba(0, 0, 0, 0.3));\n",
              "      fill: #FFFFFF;\n",
              "    }\n",
              "  </style>\n",
              "\n",
              "    <script>\n",
              "      const buttonEl =\n",
              "        document.querySelector('#df-ef7949b0-5031-4e7e-8c64-881722c73c56 button.colab-df-convert');\n",
              "      buttonEl.style.display =\n",
              "        google.colab.kernel.accessAllowed ? 'block' : 'none';\n",
              "\n",
              "      async function convertToInteractive(key) {\n",
              "        const element = document.querySelector('#df-ef7949b0-5031-4e7e-8c64-881722c73c56');\n",
              "        const dataTable =\n",
              "          await google.colab.kernel.invokeFunction('convertToInteractive',\n",
              "                                                    [key], {});\n",
              "        if (!dataTable) return;\n",
              "\n",
              "        const docLinkHtml = 'Like what you see? Visit the ' +\n",
              "          '<a target=\"_blank\" href=https://colab.research.google.com/notebooks/data_table.ipynb>data table notebook</a>'\n",
              "          + ' to learn more about interactive tables.';\n",
              "        element.innerHTML = '';\n",
              "        dataTable['output_type'] = 'display_data';\n",
              "        await google.colab.output.renderOutput(dataTable, element);\n",
              "        const docLink = document.createElement('div');\n",
              "        docLink.innerHTML = docLinkHtml;\n",
              "        element.appendChild(docLink);\n",
              "      }\n",
              "    </script>\n",
              "  </div>\n",
              "\n",
              "\n",
              "<div id=\"df-542eb11a-670f-45d2-bd38-817c307964be\">\n",
              "  <button class=\"colab-df-quickchart\" onclick=\"quickchart('df-542eb11a-670f-45d2-bd38-817c307964be')\"\n",
              "            title=\"Suggest charts.\"\n",
              "            style=\"display:none;\">\n",
              "\n",
              "<svg xmlns=\"http://www.w3.org/2000/svg\" height=\"24px\"viewBox=\"0 0 24 24\"\n",
              "     width=\"24px\">\n",
              "    <g>\n",
              "        <path d=\"M19 3H5c-1.1 0-2 .9-2 2v14c0 1.1.9 2 2 2h14c1.1 0 2-.9 2-2V5c0-1.1-.9-2-2-2zM9 17H7v-7h2v7zm4 0h-2V7h2v10zm4 0h-2v-4h2v4z\"/>\n",
              "    </g>\n",
              "</svg>\n",
              "  </button>\n",
              "\n",
              "<style>\n",
              "  .colab-df-quickchart {\n",
              "      --bg-color: #E8F0FE;\n",
              "      --fill-color: #1967D2;\n",
              "      --hover-bg-color: #E2EBFA;\n",
              "      --hover-fill-color: #174EA6;\n",
              "      --disabled-fill-color: #AAA;\n",
              "      --disabled-bg-color: #DDD;\n",
              "  }\n",
              "\n",
              "  [theme=dark] .colab-df-quickchart {\n",
              "      --bg-color: #3B4455;\n",
              "      --fill-color: #D2E3FC;\n",
              "      --hover-bg-color: #434B5C;\n",
              "      --hover-fill-color: #FFFFFF;\n",
              "      --disabled-bg-color: #3B4455;\n",
              "      --disabled-fill-color: #666;\n",
              "  }\n",
              "\n",
              "  .colab-df-quickchart {\n",
              "    background-color: var(--bg-color);\n",
              "    border: none;\n",
              "    border-radius: 50%;\n",
              "    cursor: pointer;\n",
              "    display: none;\n",
              "    fill: var(--fill-color);\n",
              "    height: 32px;\n",
              "    padding: 0;\n",
              "    width: 32px;\n",
              "  }\n",
              "\n",
              "  .colab-df-quickchart:hover {\n",
              "    background-color: var(--hover-bg-color);\n",
              "    box-shadow: 0 1px 2px rgba(60, 64, 67, 0.3), 0 1px 3px 1px rgba(60, 64, 67, 0.15);\n",
              "    fill: var(--button-hover-fill-color);\n",
              "  }\n",
              "\n",
              "  .colab-df-quickchart-complete:disabled,\n",
              "  .colab-df-quickchart-complete:disabled:hover {\n",
              "    background-color: var(--disabled-bg-color);\n",
              "    fill: var(--disabled-fill-color);\n",
              "    box-shadow: none;\n",
              "  }\n",
              "\n",
              "  .colab-df-spinner {\n",
              "    border: 2px solid var(--fill-color);\n",
              "    border-color: transparent;\n",
              "    border-bottom-color: var(--fill-color);\n",
              "    animation:\n",
              "      spin 1s steps(1) infinite;\n",
              "  }\n",
              "\n",
              "  @keyframes spin {\n",
              "    0% {\n",
              "      border-color: transparent;\n",
              "      border-bottom-color: var(--fill-color);\n",
              "      border-left-color: var(--fill-color);\n",
              "    }\n",
              "    20% {\n",
              "      border-color: transparent;\n",
              "      border-left-color: var(--fill-color);\n",
              "      border-top-color: var(--fill-color);\n",
              "    }\n",
              "    30% {\n",
              "      border-color: transparent;\n",
              "      border-left-color: var(--fill-color);\n",
              "      border-top-color: var(--fill-color);\n",
              "      border-right-color: var(--fill-color);\n",
              "    }\n",
              "    40% {\n",
              "      border-color: transparent;\n",
              "      border-right-color: var(--fill-color);\n",
              "      border-top-color: var(--fill-color);\n",
              "    }\n",
              "    60% {\n",
              "      border-color: transparent;\n",
              "      border-right-color: var(--fill-color);\n",
              "    }\n",
              "    80% {\n",
              "      border-color: transparent;\n",
              "      border-right-color: var(--fill-color);\n",
              "      border-bottom-color: var(--fill-color);\n",
              "    }\n",
              "    90% {\n",
              "      border-color: transparent;\n",
              "      border-bottom-color: var(--fill-color);\n",
              "    }\n",
              "  }\n",
              "</style>\n",
              "\n",
              "  <script>\n",
              "    async function quickchart(key) {\n",
              "      const quickchartButtonEl =\n",
              "        document.querySelector('#' + key + ' button');\n",
              "      quickchartButtonEl.disabled = true;  // To prevent multiple clicks.\n",
              "      quickchartButtonEl.classList.add('colab-df-spinner');\n",
              "      try {\n",
              "        const charts = await google.colab.kernel.invokeFunction(\n",
              "            'suggestCharts', [key], {});\n",
              "      } catch (error) {\n",
              "        console.error('Error during call to suggestCharts:', error);\n",
              "      }\n",
              "      quickchartButtonEl.classList.remove('colab-df-spinner');\n",
              "      quickchartButtonEl.classList.add('colab-df-quickchart-complete');\n",
              "    }\n",
              "    (() => {\n",
              "      let quickchartButtonEl =\n",
              "        document.querySelector('#df-542eb11a-670f-45d2-bd38-817c307964be button');\n",
              "      quickchartButtonEl.style.display =\n",
              "        google.colab.kernel.accessAllowed ? 'block' : 'none';\n",
              "    })();\n",
              "  </script>\n",
              "</div>\n",
              "    </div>\n",
              "  </div>\n"
            ]
          },
          "metadata": {},
          "execution_count": 175
        },
        {
          "output_type": "stream",
          "name": "stdout",
          "text": [
            "time: 32.7 s (started: 2023-09-25 19:14:44 +00:00)\n"
          ]
        }
      ]
    },
    {
      "cell_type": "code",
      "source": [
        "print(f'Number of samples: {len(features)}')\n",
        "print(f'Number of MFCCs per sample: {len(features[0])}')"
      ],
      "metadata": {
        "colab": {
          "base_uri": "https://localhost:8080/"
        },
        "id": "7r2jOvC78sD-",
        "outputId": "7d420fe1-ebf2-43c6-c546-ee22b349fc6c"
      },
      "execution_count": 176,
      "outputs": [
        {
          "output_type": "stream",
          "name": "stdout",
          "text": [
            "Number of samples: 706\n",
            "Number of MFCCs per sample: 25\n",
            "time: 1.28 ms (started: 2023-09-25 19:15:19 +00:00)\n"
          ]
        }
      ]
    },
    {
      "cell_type": "markdown",
      "source": [
        " ## The Models Classes"
      ],
      "metadata": {
        "id": "dbPdw3UmiYfq"
      }
    },
    {
      "cell_type": "code",
      "source": [
        "# Create classification\n",
        "classes_named = metadata_df[['filename', 'deaths_binary']]\n",
        "\n",
        "classes_named = classes_named.rename(\n",
        "  columns={'deaths_binary': 'resulted_in_deaths'})\n",
        "\n",
        "# Create combied dataframe\n",
        "features_classes = pd.merge(features_named, classes_named)\n",
        "features_classes.head(10)"
      ],
      "metadata": {
        "colab": {
          "base_uri": "https://localhost:8080/",
          "height": 380
        },
        "id": "AetKovPFXdwg",
        "outputId": "4ca551b7-f1dc-4c69-ef93-6e5172acf984"
      },
      "execution_count": 177,
      "outputs": [
        {
          "output_type": "execute_result",
          "data": {
            "text/plain": [
              "                      filename  \\\n",
              "0   911_first6sec/call_2_0.wav   \n",
              "1   911_first6sec/call_8_0.wav   \n",
              "2   911_first6sec/call_9_0.wav   \n",
              "3  911_first6sec/call_10_0.wav   \n",
              "4  911_first6sec/call_11_0.wav   \n",
              "5  911_first6sec/call_12_0.wav   \n",
              "6  911_first6sec/call_13_0.wav   \n",
              "7  911_first6sec/call_15_0.wav   \n",
              "8  911_first6sec/call_16_0.wav   \n",
              "9  911_first6sec/call_17_0.wav   \n",
              "\n",
              "                                            features  resulted_in_deaths  \n",
              "0  [-496.04065, 136.32658, -38.824547, -2.956653,...                   1  \n",
              "1  [-542.26483, 113.492096, -54.898445, -16.93544...                   1  \n",
              "2  [-469.10492, 144.50133, -53.16924, -35.66156, ...                   0  \n",
              "3  [-461.7921, 102.00011, 4.2778754, -3.2980382, ...                   1  \n",
              "4  [-388.4136, 191.76454, -68.483246, -28.393341,...                   0  \n",
              "5  [-366.632, 123.76255, -8.727576, -9.830455, 2....                   1  \n",
              "6  [-328.94275, 173.40773, -122.68931, -22.340195...                   1  \n",
              "7  [-388.2811, 92.171074, 0.91390646, -14.596169,...                   1  \n",
              "8  [-500.0724, 121.41379, -37.134045, 13.093015, ...                   1  \n",
              "9  [-335.3681, 180.51752, -75.116455, -6.7831354,...                   1  "
            ],
            "text/html": [
              "\n",
              "  <div id=\"df-980f1032-da86-4487-b5bf-788bd8eebaa5\" class=\"colab-df-container\">\n",
              "    <div>\n",
              "<style scoped>\n",
              "    .dataframe tbody tr th:only-of-type {\n",
              "        vertical-align: middle;\n",
              "    }\n",
              "\n",
              "    .dataframe tbody tr th {\n",
              "        vertical-align: top;\n",
              "    }\n",
              "\n",
              "    .dataframe thead th {\n",
              "        text-align: right;\n",
              "    }\n",
              "</style>\n",
              "<table border=\"1\" class=\"dataframe\">\n",
              "  <thead>\n",
              "    <tr style=\"text-align: right;\">\n",
              "      <th></th>\n",
              "      <th>filename</th>\n",
              "      <th>features</th>\n",
              "      <th>resulted_in_deaths</th>\n",
              "    </tr>\n",
              "  </thead>\n",
              "  <tbody>\n",
              "    <tr>\n",
              "      <th>0</th>\n",
              "      <td>911_first6sec/call_2_0.wav</td>\n",
              "      <td>[-496.04065, 136.32658, -38.824547, -2.956653,...</td>\n",
              "      <td>1</td>\n",
              "    </tr>\n",
              "    <tr>\n",
              "      <th>1</th>\n",
              "      <td>911_first6sec/call_8_0.wav</td>\n",
              "      <td>[-542.26483, 113.492096, -54.898445, -16.93544...</td>\n",
              "      <td>1</td>\n",
              "    </tr>\n",
              "    <tr>\n",
              "      <th>2</th>\n",
              "      <td>911_first6sec/call_9_0.wav</td>\n",
              "      <td>[-469.10492, 144.50133, -53.16924, -35.66156, ...</td>\n",
              "      <td>0</td>\n",
              "    </tr>\n",
              "    <tr>\n",
              "      <th>3</th>\n",
              "      <td>911_first6sec/call_10_0.wav</td>\n",
              "      <td>[-461.7921, 102.00011, 4.2778754, -3.2980382, ...</td>\n",
              "      <td>1</td>\n",
              "    </tr>\n",
              "    <tr>\n",
              "      <th>4</th>\n",
              "      <td>911_first6sec/call_11_0.wav</td>\n",
              "      <td>[-388.4136, 191.76454, -68.483246, -28.393341,...</td>\n",
              "      <td>0</td>\n",
              "    </tr>\n",
              "    <tr>\n",
              "      <th>5</th>\n",
              "      <td>911_first6sec/call_12_0.wav</td>\n",
              "      <td>[-366.632, 123.76255, -8.727576, -9.830455, 2....</td>\n",
              "      <td>1</td>\n",
              "    </tr>\n",
              "    <tr>\n",
              "      <th>6</th>\n",
              "      <td>911_first6sec/call_13_0.wav</td>\n",
              "      <td>[-328.94275, 173.40773, -122.68931, -22.340195...</td>\n",
              "      <td>1</td>\n",
              "    </tr>\n",
              "    <tr>\n",
              "      <th>7</th>\n",
              "      <td>911_first6sec/call_15_0.wav</td>\n",
              "      <td>[-388.2811, 92.171074, 0.91390646, -14.596169,...</td>\n",
              "      <td>1</td>\n",
              "    </tr>\n",
              "    <tr>\n",
              "      <th>8</th>\n",
              "      <td>911_first6sec/call_16_0.wav</td>\n",
              "      <td>[-500.0724, 121.41379, -37.134045, 13.093015, ...</td>\n",
              "      <td>1</td>\n",
              "    </tr>\n",
              "    <tr>\n",
              "      <th>9</th>\n",
              "      <td>911_first6sec/call_17_0.wav</td>\n",
              "      <td>[-335.3681, 180.51752, -75.116455, -6.7831354,...</td>\n",
              "      <td>1</td>\n",
              "    </tr>\n",
              "  </tbody>\n",
              "</table>\n",
              "</div>\n",
              "    <div class=\"colab-df-buttons\">\n",
              "\n",
              "  <div class=\"colab-df-container\">\n",
              "    <button class=\"colab-df-convert\" onclick=\"convertToInteractive('df-980f1032-da86-4487-b5bf-788bd8eebaa5')\"\n",
              "            title=\"Convert this dataframe to an interactive table.\"\n",
              "            style=\"display:none;\">\n",
              "\n",
              "  <svg xmlns=\"http://www.w3.org/2000/svg\" height=\"24px\" viewBox=\"0 -960 960 960\">\n",
              "    <path d=\"M120-120v-720h720v720H120Zm60-500h600v-160H180v160Zm220 220h160v-160H400v160Zm0 220h160v-160H400v160ZM180-400h160v-160H180v160Zm440 0h160v-160H620v160ZM180-180h160v-160H180v160Zm440 0h160v-160H620v160Z\"/>\n",
              "  </svg>\n",
              "    </button>\n",
              "\n",
              "  <style>\n",
              "    .colab-df-container {\n",
              "      display:flex;\n",
              "      gap: 12px;\n",
              "    }\n",
              "\n",
              "    .colab-df-convert {\n",
              "      background-color: #E8F0FE;\n",
              "      border: none;\n",
              "      border-radius: 50%;\n",
              "      cursor: pointer;\n",
              "      display: none;\n",
              "      fill: #1967D2;\n",
              "      height: 32px;\n",
              "      padding: 0 0 0 0;\n",
              "      width: 32px;\n",
              "    }\n",
              "\n",
              "    .colab-df-convert:hover {\n",
              "      background-color: #E2EBFA;\n",
              "      box-shadow: 0px 1px 2px rgba(60, 64, 67, 0.3), 0px 1px 3px 1px rgba(60, 64, 67, 0.15);\n",
              "      fill: #174EA6;\n",
              "    }\n",
              "\n",
              "    .colab-df-buttons div {\n",
              "      margin-bottom: 4px;\n",
              "    }\n",
              "\n",
              "    [theme=dark] .colab-df-convert {\n",
              "      background-color: #3B4455;\n",
              "      fill: #D2E3FC;\n",
              "    }\n",
              "\n",
              "    [theme=dark] .colab-df-convert:hover {\n",
              "      background-color: #434B5C;\n",
              "      box-shadow: 0px 1px 3px 1px rgba(0, 0, 0, 0.15);\n",
              "      filter: drop-shadow(0px 1px 2px rgba(0, 0, 0, 0.3));\n",
              "      fill: #FFFFFF;\n",
              "    }\n",
              "  </style>\n",
              "\n",
              "    <script>\n",
              "      const buttonEl =\n",
              "        document.querySelector('#df-980f1032-da86-4487-b5bf-788bd8eebaa5 button.colab-df-convert');\n",
              "      buttonEl.style.display =\n",
              "        google.colab.kernel.accessAllowed ? 'block' : 'none';\n",
              "\n",
              "      async function convertToInteractive(key) {\n",
              "        const element = document.querySelector('#df-980f1032-da86-4487-b5bf-788bd8eebaa5');\n",
              "        const dataTable =\n",
              "          await google.colab.kernel.invokeFunction('convertToInteractive',\n",
              "                                                    [key], {});\n",
              "        if (!dataTable) return;\n",
              "\n",
              "        const docLinkHtml = 'Like what you see? Visit the ' +\n",
              "          '<a target=\"_blank\" href=https://colab.research.google.com/notebooks/data_table.ipynb>data table notebook</a>'\n",
              "          + ' to learn more about interactive tables.';\n",
              "        element.innerHTML = '';\n",
              "        dataTable['output_type'] = 'display_data';\n",
              "        await google.colab.output.renderOutput(dataTable, element);\n",
              "        const docLink = document.createElement('div');\n",
              "        docLink.innerHTML = docLinkHtml;\n",
              "        element.appendChild(docLink);\n",
              "      }\n",
              "    </script>\n",
              "  </div>\n",
              "\n",
              "\n",
              "<div id=\"df-b5d9d79f-0c15-4f8d-be73-1dcb99e6cd90\">\n",
              "  <button class=\"colab-df-quickchart\" onclick=\"quickchart('df-b5d9d79f-0c15-4f8d-be73-1dcb99e6cd90')\"\n",
              "            title=\"Suggest charts.\"\n",
              "            style=\"display:none;\">\n",
              "\n",
              "<svg xmlns=\"http://www.w3.org/2000/svg\" height=\"24px\"viewBox=\"0 0 24 24\"\n",
              "     width=\"24px\">\n",
              "    <g>\n",
              "        <path d=\"M19 3H5c-1.1 0-2 .9-2 2v14c0 1.1.9 2 2 2h14c1.1 0 2-.9 2-2V5c0-1.1-.9-2-2-2zM9 17H7v-7h2v7zm4 0h-2V7h2v10zm4 0h-2v-4h2v4z\"/>\n",
              "    </g>\n",
              "</svg>\n",
              "  </button>\n",
              "\n",
              "<style>\n",
              "  .colab-df-quickchart {\n",
              "      --bg-color: #E8F0FE;\n",
              "      --fill-color: #1967D2;\n",
              "      --hover-bg-color: #E2EBFA;\n",
              "      --hover-fill-color: #174EA6;\n",
              "      --disabled-fill-color: #AAA;\n",
              "      --disabled-bg-color: #DDD;\n",
              "  }\n",
              "\n",
              "  [theme=dark] .colab-df-quickchart {\n",
              "      --bg-color: #3B4455;\n",
              "      --fill-color: #D2E3FC;\n",
              "      --hover-bg-color: #434B5C;\n",
              "      --hover-fill-color: #FFFFFF;\n",
              "      --disabled-bg-color: #3B4455;\n",
              "      --disabled-fill-color: #666;\n",
              "  }\n",
              "\n",
              "  .colab-df-quickchart {\n",
              "    background-color: var(--bg-color);\n",
              "    border: none;\n",
              "    border-radius: 50%;\n",
              "    cursor: pointer;\n",
              "    display: none;\n",
              "    fill: var(--fill-color);\n",
              "    height: 32px;\n",
              "    padding: 0;\n",
              "    width: 32px;\n",
              "  }\n",
              "\n",
              "  .colab-df-quickchart:hover {\n",
              "    background-color: var(--hover-bg-color);\n",
              "    box-shadow: 0 1px 2px rgba(60, 64, 67, 0.3), 0 1px 3px 1px rgba(60, 64, 67, 0.15);\n",
              "    fill: var(--button-hover-fill-color);\n",
              "  }\n",
              "\n",
              "  .colab-df-quickchart-complete:disabled,\n",
              "  .colab-df-quickchart-complete:disabled:hover {\n",
              "    background-color: var(--disabled-bg-color);\n",
              "    fill: var(--disabled-fill-color);\n",
              "    box-shadow: none;\n",
              "  }\n",
              "\n",
              "  .colab-df-spinner {\n",
              "    border: 2px solid var(--fill-color);\n",
              "    border-color: transparent;\n",
              "    border-bottom-color: var(--fill-color);\n",
              "    animation:\n",
              "      spin 1s steps(1) infinite;\n",
              "  }\n",
              "\n",
              "  @keyframes spin {\n",
              "    0% {\n",
              "      border-color: transparent;\n",
              "      border-bottom-color: var(--fill-color);\n",
              "      border-left-color: var(--fill-color);\n",
              "    }\n",
              "    20% {\n",
              "      border-color: transparent;\n",
              "      border-left-color: var(--fill-color);\n",
              "      border-top-color: var(--fill-color);\n",
              "    }\n",
              "    30% {\n",
              "      border-color: transparent;\n",
              "      border-left-color: var(--fill-color);\n",
              "      border-top-color: var(--fill-color);\n",
              "      border-right-color: var(--fill-color);\n",
              "    }\n",
              "    40% {\n",
              "      border-color: transparent;\n",
              "      border-right-color: var(--fill-color);\n",
              "      border-top-color: var(--fill-color);\n",
              "    }\n",
              "    60% {\n",
              "      border-color: transparent;\n",
              "      border-right-color: var(--fill-color);\n",
              "    }\n",
              "    80% {\n",
              "      border-color: transparent;\n",
              "      border-right-color: var(--fill-color);\n",
              "      border-bottom-color: var(--fill-color);\n",
              "    }\n",
              "    90% {\n",
              "      border-color: transparent;\n",
              "      border-bottom-color: var(--fill-color);\n",
              "    }\n",
              "  }\n",
              "</style>\n",
              "\n",
              "  <script>\n",
              "    async function quickchart(key) {\n",
              "      const quickchartButtonEl =\n",
              "        document.querySelector('#' + key + ' button');\n",
              "      quickchartButtonEl.disabled = true;  // To prevent multiple clicks.\n",
              "      quickchartButtonEl.classList.add('colab-df-spinner');\n",
              "      try {\n",
              "        const charts = await google.colab.kernel.invokeFunction(\n",
              "            'suggestCharts', [key], {});\n",
              "      } catch (error) {\n",
              "        console.error('Error during call to suggestCharts:', error);\n",
              "      }\n",
              "      quickchartButtonEl.classList.remove('colab-df-spinner');\n",
              "      quickchartButtonEl.classList.add('colab-df-quickchart-complete');\n",
              "    }\n",
              "    (() => {\n",
              "      let quickchartButtonEl =\n",
              "        document.querySelector('#df-b5d9d79f-0c15-4f8d-be73-1dcb99e6cd90 button');\n",
              "      quickchartButtonEl.style.display =\n",
              "        google.colab.kernel.accessAllowed ? 'block' : 'none';\n",
              "    })();\n",
              "  </script>\n",
              "</div>\n",
              "    </div>\n",
              "  </div>\n"
            ]
          },
          "metadata": {},
          "execution_count": 177
        },
        {
          "output_type": "stream",
          "name": "stdout",
          "text": [
            "time: 26.9 ms (started: 2023-09-25 19:15:22 +00:00)\n"
          ]
        }
      ]
    },
    {
      "cell_type": "code",
      "source": [
        "# save to csv in new data directory\n",
        "features_classes_path = os.path.join(new_data_dir, 'features_classes.csv')\n",
        "features_classes.to_csv(features_classes_path, encoding='utf-8', index=False)"
      ],
      "metadata": {
        "id": "uI4XOu7-n-mW",
        "outputId": "305b92b5-1a0a-4120-bde4-43bced07a957",
        "colab": {
          "base_uri": "https://localhost:8080/"
        }
      },
      "execution_count": 178,
      "outputs": [
        {
          "output_type": "stream",
          "name": "stdout",
          "text": [
            "time: 302 ms (started: 2023-09-25 19:15:25 +00:00)\n"
          ]
        }
      ]
    },
    {
      "cell_type": "markdown",
      "source": [
        "## Create Feature and Class series"
      ],
      "metadata": {
        "id": "IwGMP3j8Asiw"
      }
    },
    {
      "cell_type": "code",
      "source": [
        "features = np.array(features_classes['features'].tolist())\n",
        "classes = np.array(features_classes['resulted_in_deaths'].tolist())"
      ],
      "metadata": {
        "colab": {
          "base_uri": "https://localhost:8080/"
        },
        "id": "7l93oceRA-26",
        "outputId": "f8480a2d-086e-48e4-9030-7342847d4cb5"
      },
      "execution_count": 189,
      "outputs": [
        {
          "output_type": "stream",
          "name": "stdout",
          "text": [
            "time: 2.65 ms (started: 2023-09-25 19:18:08 +00:00)\n"
          ]
        }
      ]
    },
    {
      "cell_type": "code",
      "source": [
        "print(features.shape)"
      ],
      "metadata": {
        "colab": {
          "base_uri": "https://localhost:8080/"
        },
        "id": "-LxbJq9qBSKG",
        "outputId": "9e9328c7-39db-45e3-826d-2db72efb6779"
      },
      "execution_count": 190,
      "outputs": [
        {
          "output_type": "stream",
          "name": "stdout",
          "text": [
            "(706, 25)\n",
            "time: 1.26 ms (started: 2023-09-25 19:18:09 +00:00)\n"
          ]
        }
      ]
    },
    {
      "cell_type": "code",
      "source": [
        "X_train, X_test, y_train, y_test = train_test_split(\n",
        "    features, classes ,test_size=0.25, shuffle=True, stratify=classes,\n",
        "    random_state=0\n",
        "    )"
      ],
      "metadata": {
        "colab": {
          "base_uri": "https://localhost:8080/"
        },
        "outputId": "ddc00b87-abfd-49a5-fcb1-d39da6d589db",
        "id": "uKPH9YwkBZz9"
      },
      "execution_count": null,
      "outputs": [
        {
          "output_type": "stream",
          "name": "stdout",
          "text": [
            "time: 2.55 ms (started: 2023-09-25 19:19:14 +00:00)\n"
          ]
        }
      ]
    },
    {
      "cell_type": "markdown",
      "source": [
        "## Train - Defs"
      ],
      "metadata": {
        "id": "A3690eF7BZz9"
      }
    },
    {
      "cell_type": "code",
      "source": [
        "checkpointer = callbacks.ModelCheckpoint(\n",
        "    filepath='saved_models/audio_classification.hdf5',\n",
        "    verbose=1, save_best_only=True)"
      ],
      "metadata": {
        "colab": {
          "base_uri": "https://localhost:8080/"
        },
        "id": "tb6X3K45nz8B",
        "outputId": "f6014150-3339-4ce8-c91a-2f9cec70c9dc"
      },
      "execution_count": 145,
      "outputs": [
        {
          "output_type": "stream",
          "name": "stdout",
          "text": [
            "time: 848 µs (started: 2023-09-25 18:39:06 +00:00)\n"
          ]
        }
      ]
    },
    {
      "cell_type": "markdown",
      "source": [
        "## Train"
      ],
      "metadata": {
        "id": "BLoGt9AzwbcR"
      }
    },
    {
      "cell_type": "code",
      "source": [
        "def create_4hl_model(input_shape, optimizer_name='Adam', learning_rate=0.0005,\n",
        "                     epochs=500, activation='tanh'):\n",
        "  model = models.Sequential()\n",
        "  model.add(layers.InputLayer(input_shape=input_shape))\n",
        "  model.add(layers.Dense(units=128, activation=activation))\n",
        "  model.add(layers.Dense(units=64, activation=activation))\n",
        "  model.add(layers.Dense(units=32, activation=activation))\n",
        "  model.add(layers.Dense(units=16, activation=activation))\n",
        "  model.add(layers.Dense(units=2, activation='softmax'))\n",
        "\n",
        "  opt = getattr(optimizers, optimizer_name)\n",
        "  model.compile(\n",
        "    loss='sparse_categorical_crossentropy',\n",
        "    metrics=['accuracy'],\n",
        "    optimizer=opt(learning_rate))\n",
        "\n",
        "  return model"
      ],
      "metadata": {
        "id": "uC8nMA42sy3I",
        "outputId": "43cfc1cd-1f3f-488b-a068-9e0407f8748f",
        "colab": {
          "base_uri": "https://localhost:8080/"
        }
      },
      "execution_count": 336,
      "outputs": [
        {
          "output_type": "stream",
          "name": "stdout",
          "text": [
            "time: 1.21 ms (started: 2023-09-25 21:09:24 +00:00)\n"
          ]
        }
      ]
    },
    {
      "cell_type": "code",
      "source": [
        "input_shape = (features.shape[1],)\n",
        "optimizer_name = 'Adam'\n",
        "learning_rate = 0.0001\n",
        "epochs = 500\n",
        "\n",
        "model = create_4hl_model(input_shape, optimizer_name, learning_rate, epochs)"
      ],
      "metadata": {
        "colab": {
          "base_uri": "https://localhost:8080/"
        },
        "id": "2uMYrBOnoNj5",
        "outputId": "6cf137ac-d554-4880-a07b-edb91716ceb1"
      },
      "execution_count": 466,
      "outputs": [
        {
          "output_type": "stream",
          "name": "stdout",
          "text": [
            "time: 471 ms (started: 2023-09-25 22:21:57 +00:00)\n"
          ]
        }
      ]
    },
    {
      "cell_type": "code",
      "source": [
        "# define callbacks\n",
        "reduce_lr_callback = callbacks.ReduceLROnPlateau(\n",
        "    monitor='val_loss', factor=0.5, patience=10, min_lr=0.000005, verbose=1)\n",
        "\n",
        "earlystopping = callbacks.EarlyStopping(\n",
        "    monitor=\"loss\", patience=50, restore_best_weights=True,\n",
        "    verbose=1)"
      ],
      "metadata": {
        "id": "-yqQRsZyriHj",
        "colab": {
          "base_uri": "https://localhost:8080/"
        },
        "outputId": "70ab1026-73c0-4230-92ef-7f1a4066f946"
      },
      "execution_count": 467,
      "outputs": [
        {
          "output_type": "stream",
          "name": "stdout",
          "text": [
            "time: 800 µs (started: 2023-09-25 22:21:59 +00:00)\n"
          ]
        }
      ]
    },
    {
      "cell_type": "code",
      "source": [
        "train_res  = model.fit(\n",
        "    X_train,\n",
        "    y_train,\n",
        "    epochs=epochs,\n",
        "    validation_data=(X_test, y_test),\n",
        "    callbacks=[\n",
        "        # checkpointer,\n",
        "        earlystopping,\n",
        "        reduce_lr_callback\n",
        "        ],\n",
        "    verbose=1\n",
        "    )\n",
        "print()"
      ],
      "metadata": {
        "colab": {
          "base_uri": "https://localhost:8080/"
        },
        "outputId": "d728d0f8-6d7b-4455-fc64-f87205079b2b",
        "id": "rsFQjdNwBZz9"
      },
      "execution_count": 468,
      "outputs": [
        {
          "output_type": "stream",
          "name": "stdout",
          "text": [
            "Epoch 1/500\n",
            "17/17 [==============================] - 1s 16ms/step - loss: 0.6871 - accuracy: 0.5690 - val_loss: 0.6856 - val_accuracy: 0.5932 - lr: 1.0000e-04\n",
            "Epoch 2/500\n",
            "17/17 [==============================] - 0s 5ms/step - loss: 0.6781 - accuracy: 0.5917 - val_loss: 0.6841 - val_accuracy: 0.5932 - lr: 1.0000e-04\n",
            "Epoch 3/500\n",
            "17/17 [==============================] - 0s 4ms/step - loss: 0.6762 - accuracy: 0.5879 - val_loss: 0.6841 - val_accuracy: 0.5932 - lr: 1.0000e-04\n",
            "Epoch 4/500\n",
            "17/17 [==============================] - 0s 5ms/step - loss: 0.6701 - accuracy: 0.5917 - val_loss: 0.6844 - val_accuracy: 0.5932 - lr: 1.0000e-04\n",
            "Epoch 5/500\n",
            "17/17 [==============================] - 0s 5ms/step - loss: 0.6692 - accuracy: 0.5955 - val_loss: 0.6852 - val_accuracy: 0.5876 - lr: 1.0000e-04\n",
            "Epoch 6/500\n",
            "17/17 [==============================] - 0s 4ms/step - loss: 0.6664 - accuracy: 0.5936 - val_loss: 0.6865 - val_accuracy: 0.5932 - lr: 1.0000e-04\n",
            "Epoch 7/500\n",
            "17/17 [==============================] - 0s 5ms/step - loss: 0.6655 - accuracy: 0.5917 - val_loss: 0.6880 - val_accuracy: 0.5819 - lr: 1.0000e-04\n",
            "Epoch 8/500\n",
            "17/17 [==============================] - 0s 5ms/step - loss: 0.6641 - accuracy: 0.5936 - val_loss: 0.6884 - val_accuracy: 0.5932 - lr: 1.0000e-04\n",
            "Epoch 9/500\n",
            "17/17 [==============================] - 0s 5ms/step - loss: 0.6606 - accuracy: 0.5917 - val_loss: 0.6896 - val_accuracy: 0.5819 - lr: 1.0000e-04\n",
            "Epoch 10/500\n",
            "17/17 [==============================] - 0s 5ms/step - loss: 0.6587 - accuracy: 0.5955 - val_loss: 0.6906 - val_accuracy: 0.5819 - lr: 1.0000e-04\n",
            "Epoch 11/500\n",
            "17/17 [==============================] - 0s 4ms/step - loss: 0.6565 - accuracy: 0.5955 - val_loss: 0.6913 - val_accuracy: 0.5763 - lr: 1.0000e-04\n",
            "Epoch 12/500\n",
            " 1/17 [>.............................] - ETA: 0s - loss: 0.7251 - accuracy: 0.3750\n",
            "Epoch 12: ReduceLROnPlateau reducing learning rate to 4.999999873689376e-05.\n",
            "17/17 [==============================] - 0s 5ms/step - loss: 0.6546 - accuracy: 0.5974 - val_loss: 0.6921 - val_accuracy: 0.5763 - lr: 1.0000e-04\n",
            "Epoch 13/500\n",
            "17/17 [==============================] - 0s 4ms/step - loss: 0.6522 - accuracy: 0.5974 - val_loss: 0.6924 - val_accuracy: 0.5706 - lr: 5.0000e-05\n",
            "Epoch 14/500\n",
            "17/17 [==============================] - 0s 5ms/step - loss: 0.6509 - accuracy: 0.5955 - val_loss: 0.6932 - val_accuracy: 0.5650 - lr: 5.0000e-05\n",
            "Epoch 15/500\n",
            "17/17 [==============================] - 0s 5ms/step - loss: 0.6497 - accuracy: 0.5974 - val_loss: 0.6940 - val_accuracy: 0.5763 - lr: 5.0000e-05\n",
            "Epoch 16/500\n",
            "17/17 [==============================] - 0s 5ms/step - loss: 0.6487 - accuracy: 0.6011 - val_loss: 0.6947 - val_accuracy: 0.5650 - lr: 5.0000e-05\n",
            "Epoch 17/500\n",
            "17/17 [==============================] - 0s 5ms/step - loss: 0.6485 - accuracy: 0.5974 - val_loss: 0.6960 - val_accuracy: 0.5650 - lr: 5.0000e-05\n",
            "Epoch 18/500\n",
            "17/17 [==============================] - 0s 5ms/step - loss: 0.6470 - accuracy: 0.6144 - val_loss: 0.6968 - val_accuracy: 0.5537 - lr: 5.0000e-05\n",
            "Epoch 19/500\n",
            "17/17 [==============================] - 0s 4ms/step - loss: 0.6450 - accuracy: 0.6219 - val_loss: 0.6976 - val_accuracy: 0.5480 - lr: 5.0000e-05\n",
            "Epoch 20/500\n",
            "17/17 [==============================] - 0s 4ms/step - loss: 0.6435 - accuracy: 0.6238 - val_loss: 0.6977 - val_accuracy: 0.5537 - lr: 5.0000e-05\n",
            "Epoch 21/500\n",
            "17/17 [==============================] - 0s 4ms/step - loss: 0.6435 - accuracy: 0.6030 - val_loss: 0.6988 - val_accuracy: 0.5593 - lr: 5.0000e-05\n",
            "Epoch 22/500\n",
            " 1/17 [>.............................] - ETA: 0s - loss: 0.5613 - accuracy: 0.7188\n",
            "Epoch 22: ReduceLROnPlateau reducing learning rate to 2.499999936844688e-05.\n",
            "17/17 [==============================] - 0s 5ms/step - loss: 0.6419 - accuracy: 0.6200 - val_loss: 0.7002 - val_accuracy: 0.5480 - lr: 5.0000e-05\n",
            "Epoch 23/500\n",
            "17/17 [==============================] - 0s 5ms/step - loss: 0.6399 - accuracy: 0.6238 - val_loss: 0.7005 - val_accuracy: 0.5537 - lr: 2.5000e-05\n",
            "Epoch 24/500\n",
            "17/17 [==============================] - 0s 5ms/step - loss: 0.6391 - accuracy: 0.6219 - val_loss: 0.7007 - val_accuracy: 0.5537 - lr: 2.5000e-05\n",
            "Epoch 25/500\n",
            "17/17 [==============================] - 0s 5ms/step - loss: 0.6382 - accuracy: 0.6200 - val_loss: 0.7009 - val_accuracy: 0.5480 - lr: 2.5000e-05\n",
            "Epoch 26/500\n",
            "17/17 [==============================] - 0s 6ms/step - loss: 0.6379 - accuracy: 0.6200 - val_loss: 0.7014 - val_accuracy: 0.5480 - lr: 2.5000e-05\n",
            "Epoch 27/500\n",
            "17/17 [==============================] - 0s 4ms/step - loss: 0.6371 - accuracy: 0.6163 - val_loss: 0.7015 - val_accuracy: 0.5537 - lr: 2.5000e-05\n",
            "Epoch 28/500\n",
            "17/17 [==============================] - 0s 4ms/step - loss: 0.6366 - accuracy: 0.6200 - val_loss: 0.7022 - val_accuracy: 0.5537 - lr: 2.5000e-05\n",
            "Epoch 29/500\n",
            "17/17 [==============================] - 33s 2s/step - loss: 0.6357 - accuracy: 0.6276 - val_loss: 0.7024 - val_accuracy: 0.5480 - lr: 2.5000e-05\n",
            "Epoch 30/500\n",
            "17/17 [==============================] - 0s 8ms/step - loss: 0.6353 - accuracy: 0.6200 - val_loss: 0.7027 - val_accuracy: 0.5480 - lr: 2.5000e-05\n",
            "Epoch 31/500\n",
            "17/17 [==============================] - 0s 7ms/step - loss: 0.6347 - accuracy: 0.6163 - val_loss: 0.7031 - val_accuracy: 0.5424 - lr: 2.5000e-05\n",
            "Epoch 32/500\n",
            " 1/17 [>.............................] - ETA: 0s - loss: 0.6457 - accuracy: 0.5625\n",
            "Epoch 32: ReduceLROnPlateau reducing learning rate to 1.249999968422344e-05.\n",
            "17/17 [==============================] - 0s 7ms/step - loss: 0.6336 - accuracy: 0.6238 - val_loss: 0.7034 - val_accuracy: 0.5480 - lr: 2.5000e-05\n",
            "Epoch 33/500\n",
            "17/17 [==============================] - 0s 8ms/step - loss: 0.6332 - accuracy: 0.6238 - val_loss: 0.7036 - val_accuracy: 0.5480 - lr: 1.2500e-05\n",
            "Epoch 34/500\n",
            "17/17 [==============================] - 0s 9ms/step - loss: 0.6327 - accuracy: 0.6238 - val_loss: 0.7039 - val_accuracy: 0.5480 - lr: 1.2500e-05\n",
            "Epoch 35/500\n",
            "17/17 [==============================] - 0s 8ms/step - loss: 0.6325 - accuracy: 0.6219 - val_loss: 0.7041 - val_accuracy: 0.5480 - lr: 1.2500e-05\n",
            "Epoch 36/500\n",
            "17/17 [==============================] - 0s 11ms/step - loss: 0.6320 - accuracy: 0.6314 - val_loss: 0.7042 - val_accuracy: 0.5424 - lr: 1.2500e-05\n",
            "Epoch 37/500\n",
            "17/17 [==============================] - 0s 9ms/step - loss: 0.6317 - accuracy: 0.6389 - val_loss: 0.7045 - val_accuracy: 0.5537 - lr: 1.2500e-05\n",
            "Epoch 38/500\n",
            "17/17 [==============================] - 0s 7ms/step - loss: 0.6314 - accuracy: 0.6314 - val_loss: 0.7046 - val_accuracy: 0.5424 - lr: 1.2500e-05\n",
            "Epoch 39/500\n",
            "17/17 [==============================] - 0s 8ms/step - loss: 0.6309 - accuracy: 0.6295 - val_loss: 0.7049 - val_accuracy: 0.5424 - lr: 1.2500e-05\n",
            "Epoch 40/500\n",
            "17/17 [==============================] - 0s 8ms/step - loss: 0.6306 - accuracy: 0.6352 - val_loss: 0.7054 - val_accuracy: 0.5480 - lr: 1.2500e-05\n",
            "Epoch 41/500\n",
            "17/17 [==============================] - 0s 8ms/step - loss: 0.6302 - accuracy: 0.6446 - val_loss: 0.7056 - val_accuracy: 0.5480 - lr: 1.2500e-05\n",
            "Epoch 42/500\n",
            "17/17 [==============================] - ETA: 0s - loss: 0.6302 - accuracy: 0.6276\n",
            "Epoch 42: ReduceLROnPlateau reducing learning rate to 6.24999984211172e-06.\n",
            "17/17 [==============================] - 0s 8ms/step - loss: 0.6302 - accuracy: 0.6276 - val_loss: 0.7056 - val_accuracy: 0.5424 - lr: 1.2500e-05\n",
            "Epoch 43/500\n",
            "17/17 [==============================] - 0s 5ms/step - loss: 0.6294 - accuracy: 0.6371 - val_loss: 0.7058 - val_accuracy: 0.5424 - lr: 6.2500e-06\n",
            "Epoch 44/500\n",
            "17/17 [==============================] - 0s 5ms/step - loss: 0.6293 - accuracy: 0.6389 - val_loss: 0.7060 - val_accuracy: 0.5367 - lr: 6.2500e-06\n",
            "Epoch 45/500\n",
            "17/17 [==============================] - 0s 5ms/step - loss: 0.6291 - accuracy: 0.6427 - val_loss: 0.7061 - val_accuracy: 0.5424 - lr: 6.2500e-06\n",
            "Epoch 46/500\n",
            "17/17 [==============================] - 0s 5ms/step - loss: 0.6290 - accuracy: 0.6446 - val_loss: 0.7062 - val_accuracy: 0.5367 - lr: 6.2500e-06\n",
            "Epoch 47/500\n",
            "17/17 [==============================] - 0s 5ms/step - loss: 0.6289 - accuracy: 0.6389 - val_loss: 0.7063 - val_accuracy: 0.5424 - lr: 6.2500e-06\n",
            "Epoch 48/500\n",
            "17/17 [==============================] - 0s 6ms/step - loss: 0.6286 - accuracy: 0.6408 - val_loss: 0.7064 - val_accuracy: 0.5424 - lr: 6.2500e-06\n",
            "Epoch 49/500\n",
            "17/17 [==============================] - 0s 5ms/step - loss: 0.6285 - accuracy: 0.6408 - val_loss: 0.7065 - val_accuracy: 0.5424 - lr: 6.2500e-06\n",
            "Epoch 50/500\n",
            "17/17 [==============================] - 0s 6ms/step - loss: 0.6283 - accuracy: 0.6389 - val_loss: 0.7066 - val_accuracy: 0.5424 - lr: 6.2500e-06\n",
            "Epoch 51/500\n",
            "17/17 [==============================] - 0s 6ms/step - loss: 0.6281 - accuracy: 0.6389 - val_loss: 0.7067 - val_accuracy: 0.5424 - lr: 6.2500e-06\n",
            "Epoch 52/500\n",
            " 1/17 [>.............................] - ETA: 0s - loss: 0.6483 - accuracy: 0.5000\n",
            "Epoch 52: ReduceLROnPlateau reducing learning rate to 5e-06.\n",
            "17/17 [==============================] - 0s 6ms/step - loss: 0.6279 - accuracy: 0.6408 - val_loss: 0.7068 - val_accuracy: 0.5424 - lr: 6.2500e-06\n",
            "Epoch 53/500\n",
            "17/17 [==============================] - 0s 5ms/step - loss: 0.6278 - accuracy: 0.6427 - val_loss: 0.7069 - val_accuracy: 0.5424 - lr: 5.0000e-06\n",
            "Epoch 54/500\n",
            "17/17 [==============================] - 0s 6ms/step - loss: 0.6276 - accuracy: 0.6427 - val_loss: 0.7070 - val_accuracy: 0.5424 - lr: 5.0000e-06\n",
            "Epoch 55/500\n",
            "17/17 [==============================] - 0s 5ms/step - loss: 0.6276 - accuracy: 0.6371 - val_loss: 0.7070 - val_accuracy: 0.5424 - lr: 5.0000e-06\n",
            "Epoch 56/500\n",
            "17/17 [==============================] - 0s 5ms/step - loss: 0.6273 - accuracy: 0.6427 - val_loss: 0.7071 - val_accuracy: 0.5424 - lr: 5.0000e-06\n",
            "Epoch 57/500\n",
            "17/17 [==============================] - 0s 5ms/step - loss: 0.6272 - accuracy: 0.6484 - val_loss: 0.7072 - val_accuracy: 0.5311 - lr: 5.0000e-06\n",
            "Epoch 58/500\n",
            "17/17 [==============================] - 0s 5ms/step - loss: 0.6273 - accuracy: 0.6484 - val_loss: 0.7073 - val_accuracy: 0.5311 - lr: 5.0000e-06\n",
            "Epoch 59/500\n",
            "17/17 [==============================] - 0s 5ms/step - loss: 0.6269 - accuracy: 0.6484 - val_loss: 0.7073 - val_accuracy: 0.5424 - lr: 5.0000e-06\n",
            "Epoch 60/500\n",
            "17/17 [==============================] - 0s 5ms/step - loss: 0.6269 - accuracy: 0.6522 - val_loss: 0.7074 - val_accuracy: 0.5254 - lr: 5.0000e-06\n",
            "Epoch 61/500\n",
            "17/17 [==============================] - 0s 5ms/step - loss: 0.6267 - accuracy: 0.6522 - val_loss: 0.7075 - val_accuracy: 0.5311 - lr: 5.0000e-06\n",
            "Epoch 62/500\n",
            "17/17 [==============================] - 0s 5ms/step - loss: 0.6266 - accuracy: 0.6503 - val_loss: 0.7076 - val_accuracy: 0.5311 - lr: 5.0000e-06\n",
            "Epoch 63/500\n",
            "17/17 [==============================] - 0s 5ms/step - loss: 0.6264 - accuracy: 0.6522 - val_loss: 0.7077 - val_accuracy: 0.5311 - lr: 5.0000e-06\n",
            "Epoch 64/500\n",
            "17/17 [==============================] - 0s 5ms/step - loss: 0.6263 - accuracy: 0.6522 - val_loss: 0.7078 - val_accuracy: 0.5254 - lr: 5.0000e-06\n",
            "Epoch 65/500\n",
            "17/17 [==============================] - 0s 6ms/step - loss: 0.6261 - accuracy: 0.6541 - val_loss: 0.7079 - val_accuracy: 0.5311 - lr: 5.0000e-06\n",
            "Epoch 66/500\n",
            "17/17 [==============================] - 0s 6ms/step - loss: 0.6260 - accuracy: 0.6541 - val_loss: 0.7080 - val_accuracy: 0.5254 - lr: 5.0000e-06\n",
            "Epoch 67/500\n",
            "17/17 [==============================] - 0s 5ms/step - loss: 0.6259 - accuracy: 0.6522 - val_loss: 0.7081 - val_accuracy: 0.5311 - lr: 5.0000e-06\n",
            "Epoch 68/500\n",
            "17/17 [==============================] - 0s 5ms/step - loss: 0.6257 - accuracy: 0.6522 - val_loss: 0.7081 - val_accuracy: 0.5311 - lr: 5.0000e-06\n",
            "Epoch 69/500\n",
            "17/17 [==============================] - 0s 6ms/step - loss: 0.6256 - accuracy: 0.6522 - val_loss: 0.7082 - val_accuracy: 0.5311 - lr: 5.0000e-06\n",
            "Epoch 70/500\n",
            "17/17 [==============================] - 0s 6ms/step - loss: 0.6255 - accuracy: 0.6541 - val_loss: 0.7083 - val_accuracy: 0.5254 - lr: 5.0000e-06\n",
            "Epoch 71/500\n",
            "17/17 [==============================] - 0s 6ms/step - loss: 0.6254 - accuracy: 0.6560 - val_loss: 0.7084 - val_accuracy: 0.5254 - lr: 5.0000e-06\n",
            "Epoch 72/500\n",
            "17/17 [==============================] - 0s 5ms/step - loss: 0.6252 - accuracy: 0.6522 - val_loss: 0.7085 - val_accuracy: 0.5254 - lr: 5.0000e-06\n",
            "Epoch 73/500\n",
            "17/17 [==============================] - 0s 5ms/step - loss: 0.6251 - accuracy: 0.6541 - val_loss: 0.7085 - val_accuracy: 0.5254 - lr: 5.0000e-06\n",
            "Epoch 74/500\n",
            "17/17 [==============================] - 0s 6ms/step - loss: 0.6250 - accuracy: 0.6560 - val_loss: 0.7087 - val_accuracy: 0.5254 - lr: 5.0000e-06\n",
            "Epoch 75/500\n",
            "17/17 [==============================] - 0s 6ms/step - loss: 0.6249 - accuracy: 0.6560 - val_loss: 0.7087 - val_accuracy: 0.5254 - lr: 5.0000e-06\n",
            "Epoch 76/500\n",
            "17/17 [==============================] - 0s 5ms/step - loss: 0.6247 - accuracy: 0.6560 - val_loss: 0.7088 - val_accuracy: 0.5254 - lr: 5.0000e-06\n",
            "Epoch 77/500\n",
            "17/17 [==============================] - 0s 5ms/step - loss: 0.6247 - accuracy: 0.6578 - val_loss: 0.7089 - val_accuracy: 0.5367 - lr: 5.0000e-06\n",
            "Epoch 78/500\n",
            "17/17 [==============================] - 0s 5ms/step - loss: 0.6244 - accuracy: 0.6578 - val_loss: 0.7090 - val_accuracy: 0.5367 - lr: 5.0000e-06\n",
            "Epoch 79/500\n",
            "17/17 [==============================] - 0s 5ms/step - loss: 0.6243 - accuracy: 0.6578 - val_loss: 0.7091 - val_accuracy: 0.5311 - lr: 5.0000e-06\n",
            "Epoch 80/500\n",
            "17/17 [==============================] - 0s 5ms/step - loss: 0.6242 - accuracy: 0.6560 - val_loss: 0.7092 - val_accuracy: 0.5367 - lr: 5.0000e-06\n",
            "Epoch 81/500\n",
            "17/17 [==============================] - 0s 5ms/step - loss: 0.6241 - accuracy: 0.6578 - val_loss: 0.7093 - val_accuracy: 0.5311 - lr: 5.0000e-06\n",
            "Epoch 82/500\n",
            "17/17 [==============================] - 0s 5ms/step - loss: 0.6240 - accuracy: 0.6578 - val_loss: 0.7093 - val_accuracy: 0.5367 - lr: 5.0000e-06\n",
            "Epoch 83/500\n",
            "17/17 [==============================] - 0s 5ms/step - loss: 0.6238 - accuracy: 0.6597 - val_loss: 0.7094 - val_accuracy: 0.5367 - lr: 5.0000e-06\n",
            "Epoch 84/500\n",
            "17/17 [==============================] - 0s 5ms/step - loss: 0.6236 - accuracy: 0.6597 - val_loss: 0.7095 - val_accuracy: 0.5311 - lr: 5.0000e-06\n",
            "Epoch 85/500\n",
            "17/17 [==============================] - 0s 6ms/step - loss: 0.6235 - accuracy: 0.6578 - val_loss: 0.7096 - val_accuracy: 0.5311 - lr: 5.0000e-06\n",
            "Epoch 86/500\n",
            "17/17 [==============================] - 0s 6ms/step - loss: 0.6234 - accuracy: 0.6578 - val_loss: 0.7096 - val_accuracy: 0.5311 - lr: 5.0000e-06\n",
            "Epoch 87/500\n",
            "17/17 [==============================] - 0s 5ms/step - loss: 0.6234 - accuracy: 0.6616 - val_loss: 0.7098 - val_accuracy: 0.5480 - lr: 5.0000e-06\n",
            "Epoch 88/500\n",
            "17/17 [==============================] - 0s 5ms/step - loss: 0.6232 - accuracy: 0.6597 - val_loss: 0.7098 - val_accuracy: 0.5367 - lr: 5.0000e-06\n",
            "Epoch 89/500\n",
            "17/17 [==============================] - 0s 6ms/step - loss: 0.6230 - accuracy: 0.6616 - val_loss: 0.7100 - val_accuracy: 0.5480 - lr: 5.0000e-06\n",
            "Epoch 90/500\n",
            "17/17 [==============================] - 0s 6ms/step - loss: 0.6229 - accuracy: 0.6616 - val_loss: 0.7100 - val_accuracy: 0.5480 - lr: 5.0000e-06\n",
            "Epoch 91/500\n",
            "17/17 [==============================] - 0s 5ms/step - loss: 0.6227 - accuracy: 0.6616 - val_loss: 0.7100 - val_accuracy: 0.5480 - lr: 5.0000e-06\n",
            "Epoch 92/500\n",
            "17/17 [==============================] - 0s 6ms/step - loss: 0.6227 - accuracy: 0.6616 - val_loss: 0.7101 - val_accuracy: 0.5480 - lr: 5.0000e-06\n",
            "Epoch 93/500\n",
            "17/17 [==============================] - 0s 5ms/step - loss: 0.6226 - accuracy: 0.6616 - val_loss: 0.7103 - val_accuracy: 0.5480 - lr: 5.0000e-06\n",
            "Epoch 94/500\n",
            "17/17 [==============================] - 0s 5ms/step - loss: 0.6224 - accuracy: 0.6616 - val_loss: 0.7104 - val_accuracy: 0.5480 - lr: 5.0000e-06\n",
            "Epoch 95/500\n",
            "17/17 [==============================] - 0s 6ms/step - loss: 0.6222 - accuracy: 0.6616 - val_loss: 0.7104 - val_accuracy: 0.5480 - lr: 5.0000e-06\n",
            "Epoch 96/500\n",
            "17/17 [==============================] - 0s 5ms/step - loss: 0.6221 - accuracy: 0.6616 - val_loss: 0.7105 - val_accuracy: 0.5480 - lr: 5.0000e-06\n",
            "Epoch 97/500\n",
            "17/17 [==============================] - 0s 5ms/step - loss: 0.6220 - accuracy: 0.6616 - val_loss: 0.7107 - val_accuracy: 0.5480 - lr: 5.0000e-06\n",
            "Epoch 98/500\n",
            "17/17 [==============================] - 0s 5ms/step - loss: 0.6218 - accuracy: 0.6616 - val_loss: 0.7107 - val_accuracy: 0.5480 - lr: 5.0000e-06\n",
            "Epoch 99/500\n",
            "17/17 [==============================] - 0s 6ms/step - loss: 0.6218 - accuracy: 0.6616 - val_loss: 0.7107 - val_accuracy: 0.5480 - lr: 5.0000e-06\n",
            "Epoch 100/500\n",
            "17/17 [==============================] - 0s 6ms/step - loss: 0.6216 - accuracy: 0.6616 - val_loss: 0.7109 - val_accuracy: 0.5480 - lr: 5.0000e-06\n",
            "Epoch 101/500\n",
            "17/17 [==============================] - 0s 5ms/step - loss: 0.6214 - accuracy: 0.6616 - val_loss: 0.7109 - val_accuracy: 0.5537 - lr: 5.0000e-06\n",
            "Epoch 102/500\n",
            "17/17 [==============================] - 0s 5ms/step - loss: 0.6213 - accuracy: 0.6654 - val_loss: 0.7111 - val_accuracy: 0.5537 - lr: 5.0000e-06\n",
            "Epoch 103/500\n",
            "17/17 [==============================] - 0s 6ms/step - loss: 0.6213 - accuracy: 0.6654 - val_loss: 0.7111 - val_accuracy: 0.5537 - lr: 5.0000e-06\n",
            "Epoch 104/500\n",
            "17/17 [==============================] - 0s 5ms/step - loss: 0.6211 - accuracy: 0.6654 - val_loss: 0.7112 - val_accuracy: 0.5480 - lr: 5.0000e-06\n",
            "Epoch 105/500\n",
            "17/17 [==============================] - 0s 5ms/step - loss: 0.6211 - accuracy: 0.6616 - val_loss: 0.7112 - val_accuracy: 0.5480 - lr: 5.0000e-06\n",
            "Epoch 106/500\n",
            "17/17 [==============================] - 0s 6ms/step - loss: 0.6208 - accuracy: 0.6616 - val_loss: 0.7113 - val_accuracy: 0.5480 - lr: 5.0000e-06\n",
            "Epoch 107/500\n",
            "17/17 [==============================] - 0s 5ms/step - loss: 0.6207 - accuracy: 0.6654 - val_loss: 0.7114 - val_accuracy: 0.5480 - lr: 5.0000e-06\n",
            "Epoch 108/500\n",
            "17/17 [==============================] - 0s 6ms/step - loss: 0.6205 - accuracy: 0.6673 - val_loss: 0.7115 - val_accuracy: 0.5480 - lr: 5.0000e-06\n",
            "Epoch 109/500\n",
            "17/17 [==============================] - 0s 5ms/step - loss: 0.6204 - accuracy: 0.6635 - val_loss: 0.7115 - val_accuracy: 0.5480 - lr: 5.0000e-06\n",
            "Epoch 110/500\n",
            "17/17 [==============================] - 0s 5ms/step - loss: 0.6203 - accuracy: 0.6616 - val_loss: 0.7116 - val_accuracy: 0.5424 - lr: 5.0000e-06\n",
            "Epoch 111/500\n",
            "17/17 [==============================] - 0s 6ms/step - loss: 0.6203 - accuracy: 0.6635 - val_loss: 0.7117 - val_accuracy: 0.5480 - lr: 5.0000e-06\n",
            "Epoch 112/500\n",
            "17/17 [==============================] - 0s 6ms/step - loss: 0.6200 - accuracy: 0.6654 - val_loss: 0.7118 - val_accuracy: 0.5480 - lr: 5.0000e-06\n",
            "Epoch 113/500\n",
            "17/17 [==============================] - 0s 5ms/step - loss: 0.6199 - accuracy: 0.6635 - val_loss: 0.7119 - val_accuracy: 0.5480 - lr: 5.0000e-06\n",
            "Epoch 114/500\n",
            "17/17 [==============================] - 0s 5ms/step - loss: 0.6198 - accuracy: 0.6654 - val_loss: 0.7120 - val_accuracy: 0.5480 - lr: 5.0000e-06\n",
            "Epoch 115/500\n",
            "17/17 [==============================] - 0s 6ms/step - loss: 0.6197 - accuracy: 0.6635 - val_loss: 0.7120 - val_accuracy: 0.5480 - lr: 5.0000e-06\n",
            "Epoch 116/500\n",
            "17/17 [==============================] - 0s 5ms/step - loss: 0.6196 - accuracy: 0.6654 - val_loss: 0.7122 - val_accuracy: 0.5480 - lr: 5.0000e-06\n",
            "Epoch 117/500\n",
            "17/17 [==============================] - 0s 5ms/step - loss: 0.6194 - accuracy: 0.6654 - val_loss: 0.7122 - val_accuracy: 0.5480 - lr: 5.0000e-06\n",
            "Epoch 118/500\n",
            "17/17 [==============================] - 0s 5ms/step - loss: 0.6194 - accuracy: 0.6673 - val_loss: 0.7124 - val_accuracy: 0.5480 - lr: 5.0000e-06\n",
            "Epoch 119/500\n",
            "17/17 [==============================] - 0s 5ms/step - loss: 0.6192 - accuracy: 0.6673 - val_loss: 0.7124 - val_accuracy: 0.5480 - lr: 5.0000e-06\n",
            "Epoch 120/500\n",
            "17/17 [==============================] - 0s 5ms/step - loss: 0.6192 - accuracy: 0.6635 - val_loss: 0.7125 - val_accuracy: 0.5480 - lr: 5.0000e-06\n",
            "Epoch 121/500\n",
            "17/17 [==============================] - 0s 6ms/step - loss: 0.6189 - accuracy: 0.6635 - val_loss: 0.7126 - val_accuracy: 0.5480 - lr: 5.0000e-06\n",
            "Epoch 122/500\n",
            "17/17 [==============================] - 0s 5ms/step - loss: 0.6188 - accuracy: 0.6673 - val_loss: 0.7127 - val_accuracy: 0.5480 - lr: 5.0000e-06\n",
            "Epoch 123/500\n",
            "17/17 [==============================] - 0s 5ms/step - loss: 0.6186 - accuracy: 0.6673 - val_loss: 0.7128 - val_accuracy: 0.5424 - lr: 5.0000e-06\n",
            "Epoch 124/500\n",
            "17/17 [==============================] - 0s 6ms/step - loss: 0.6185 - accuracy: 0.6673 - val_loss: 0.7130 - val_accuracy: 0.5424 - lr: 5.0000e-06\n",
            "Epoch 125/500\n",
            "17/17 [==============================] - 0s 6ms/step - loss: 0.6184 - accuracy: 0.6673 - val_loss: 0.7130 - val_accuracy: 0.5480 - lr: 5.0000e-06\n",
            "Epoch 126/500\n",
            "17/17 [==============================] - 0s 5ms/step - loss: 0.6183 - accuracy: 0.6673 - val_loss: 0.7131 - val_accuracy: 0.5367 - lr: 5.0000e-06\n",
            "Epoch 127/500\n",
            "17/17 [==============================] - 0s 6ms/step - loss: 0.6181 - accuracy: 0.6692 - val_loss: 0.7132 - val_accuracy: 0.5367 - lr: 5.0000e-06\n",
            "Epoch 128/500\n",
            "17/17 [==============================] - 0s 6ms/step - loss: 0.6181 - accuracy: 0.6692 - val_loss: 0.7133 - val_accuracy: 0.5367 - lr: 5.0000e-06\n",
            "Epoch 129/500\n",
            "17/17 [==============================] - 0s 5ms/step - loss: 0.6179 - accuracy: 0.6654 - val_loss: 0.7134 - val_accuracy: 0.5367 - lr: 5.0000e-06\n",
            "Epoch 130/500\n",
            "17/17 [==============================] - 0s 6ms/step - loss: 0.6178 - accuracy: 0.6654 - val_loss: 0.7134 - val_accuracy: 0.5367 - lr: 5.0000e-06\n",
            "Epoch 131/500\n",
            "17/17 [==============================] - 0s 5ms/step - loss: 0.6177 - accuracy: 0.6673 - val_loss: 0.7135 - val_accuracy: 0.5367 - lr: 5.0000e-06\n",
            "Epoch 132/500\n",
            "17/17 [==============================] - 0s 5ms/step - loss: 0.6175 - accuracy: 0.6692 - val_loss: 0.7136 - val_accuracy: 0.5367 - lr: 5.0000e-06\n",
            "Epoch 133/500\n",
            "17/17 [==============================] - 0s 5ms/step - loss: 0.6175 - accuracy: 0.6673 - val_loss: 0.7137 - val_accuracy: 0.5367 - lr: 5.0000e-06\n",
            "Epoch 134/500\n",
            "17/17 [==============================] - 0s 5ms/step - loss: 0.6174 - accuracy: 0.6692 - val_loss: 0.7138 - val_accuracy: 0.5424 - lr: 5.0000e-06\n",
            "Epoch 135/500\n",
            "17/17 [==============================] - 0s 6ms/step - loss: 0.6171 - accuracy: 0.6692 - val_loss: 0.7139 - val_accuracy: 0.5367 - lr: 5.0000e-06\n",
            "Epoch 136/500\n",
            "17/17 [==============================] - 0s 6ms/step - loss: 0.6171 - accuracy: 0.6654 - val_loss: 0.7139 - val_accuracy: 0.5367 - lr: 5.0000e-06\n",
            "Epoch 137/500\n",
            "17/17 [==============================] - 0s 5ms/step - loss: 0.6170 - accuracy: 0.6673 - val_loss: 0.7141 - val_accuracy: 0.5367 - lr: 5.0000e-06\n",
            "Epoch 138/500\n",
            "17/17 [==============================] - 0s 6ms/step - loss: 0.6167 - accuracy: 0.6673 - val_loss: 0.7142 - val_accuracy: 0.5367 - lr: 5.0000e-06\n",
            "Epoch 139/500\n",
            "17/17 [==============================] - 0s 5ms/step - loss: 0.6166 - accuracy: 0.6673 - val_loss: 0.7143 - val_accuracy: 0.5367 - lr: 5.0000e-06\n",
            "Epoch 140/500\n",
            "17/17 [==============================] - 0s 5ms/step - loss: 0.6165 - accuracy: 0.6673 - val_loss: 0.7144 - val_accuracy: 0.5367 - lr: 5.0000e-06\n",
            "Epoch 141/500\n",
            "17/17 [==============================] - 0s 6ms/step - loss: 0.6164 - accuracy: 0.6673 - val_loss: 0.7144 - val_accuracy: 0.5367 - lr: 5.0000e-06\n",
            "Epoch 142/500\n",
            "17/17 [==============================] - 0s 5ms/step - loss: 0.6163 - accuracy: 0.6673 - val_loss: 0.7146 - val_accuracy: 0.5367 - lr: 5.0000e-06\n",
            "Epoch 143/500\n",
            "17/17 [==============================] - 0s 5ms/step - loss: 0.6162 - accuracy: 0.6692 - val_loss: 0.7146 - val_accuracy: 0.5367 - lr: 5.0000e-06\n",
            "Epoch 144/500\n",
            "17/17 [==============================] - 0s 6ms/step - loss: 0.6160 - accuracy: 0.6673 - val_loss: 0.7147 - val_accuracy: 0.5367 - lr: 5.0000e-06\n",
            "Epoch 145/500\n",
            "17/17 [==============================] - 0s 5ms/step - loss: 0.6161 - accuracy: 0.6673 - val_loss: 0.7149 - val_accuracy: 0.5367 - lr: 5.0000e-06\n",
            "Epoch 146/500\n",
            "17/17 [==============================] - 0s 8ms/step - loss: 0.6158 - accuracy: 0.6673 - val_loss: 0.7150 - val_accuracy: 0.5367 - lr: 5.0000e-06\n",
            "Epoch 147/500\n",
            "17/17 [==============================] - 0s 8ms/step - loss: 0.6156 - accuracy: 0.6692 - val_loss: 0.7151 - val_accuracy: 0.5367 - lr: 5.0000e-06\n",
            "Epoch 148/500\n",
            "17/17 [==============================] - 0s 8ms/step - loss: 0.6156 - accuracy: 0.6673 - val_loss: 0.7152 - val_accuracy: 0.5367 - lr: 5.0000e-06\n",
            "Epoch 149/500\n",
            "17/17 [==============================] - 0s 8ms/step - loss: 0.6154 - accuracy: 0.6692 - val_loss: 0.7153 - val_accuracy: 0.5367 - lr: 5.0000e-06\n",
            "Epoch 150/500\n",
            "17/17 [==============================] - 0s 7ms/step - loss: 0.6153 - accuracy: 0.6673 - val_loss: 0.7152 - val_accuracy: 0.5367 - lr: 5.0000e-06\n",
            "Epoch 151/500\n",
            "17/17 [==============================] - 0s 7ms/step - loss: 0.6152 - accuracy: 0.6673 - val_loss: 0.7153 - val_accuracy: 0.5367 - lr: 5.0000e-06\n",
            "Epoch 152/500\n",
            "17/17 [==============================] - 0s 6ms/step - loss: 0.6151 - accuracy: 0.6673 - val_loss: 0.7155 - val_accuracy: 0.5367 - lr: 5.0000e-06\n",
            "Epoch 153/500\n",
            "17/17 [==============================] - 0s 7ms/step - loss: 0.6149 - accuracy: 0.6673 - val_loss: 0.7156 - val_accuracy: 0.5367 - lr: 5.0000e-06\n",
            "Epoch 154/500\n",
            "17/17 [==============================] - 0s 9ms/step - loss: 0.6148 - accuracy: 0.6692 - val_loss: 0.7158 - val_accuracy: 0.5367 - lr: 5.0000e-06\n",
            "Epoch 155/500\n",
            "17/17 [==============================] - 0s 8ms/step - loss: 0.6146 - accuracy: 0.6711 - val_loss: 0.7158 - val_accuracy: 0.5367 - lr: 5.0000e-06\n",
            "Epoch 156/500\n",
            "17/17 [==============================] - 0s 7ms/step - loss: 0.6146 - accuracy: 0.6692 - val_loss: 0.7159 - val_accuracy: 0.5367 - lr: 5.0000e-06\n",
            "Epoch 157/500\n",
            "17/17 [==============================] - 0s 7ms/step - loss: 0.6145 - accuracy: 0.6635 - val_loss: 0.7159 - val_accuracy: 0.5311 - lr: 5.0000e-06\n",
            "Epoch 158/500\n",
            "17/17 [==============================] - 0s 7ms/step - loss: 0.6144 - accuracy: 0.6673 - val_loss: 0.7160 - val_accuracy: 0.5367 - lr: 5.0000e-06\n",
            "Epoch 159/500\n",
            "17/17 [==============================] - 0s 7ms/step - loss: 0.6141 - accuracy: 0.6692 - val_loss: 0.7161 - val_accuracy: 0.5311 - lr: 5.0000e-06\n",
            "Epoch 160/500\n",
            "17/17 [==============================] - 0s 7ms/step - loss: 0.6140 - accuracy: 0.6692 - val_loss: 0.7163 - val_accuracy: 0.5311 - lr: 5.0000e-06\n",
            "Epoch 161/500\n",
            "17/17 [==============================] - 0s 7ms/step - loss: 0.6139 - accuracy: 0.6711 - val_loss: 0.7163 - val_accuracy: 0.5367 - lr: 5.0000e-06\n",
            "Epoch 162/500\n",
            "17/17 [==============================] - 0s 6ms/step - loss: 0.6137 - accuracy: 0.6711 - val_loss: 0.7164 - val_accuracy: 0.5311 - lr: 5.0000e-06\n",
            "Epoch 163/500\n",
            "17/17 [==============================] - 0s 7ms/step - loss: 0.6137 - accuracy: 0.6711 - val_loss: 0.7165 - val_accuracy: 0.5311 - lr: 5.0000e-06\n",
            "Epoch 164/500\n",
            "17/17 [==============================] - 0s 7ms/step - loss: 0.6135 - accuracy: 0.6730 - val_loss: 0.7165 - val_accuracy: 0.5367 - lr: 5.0000e-06\n",
            "Epoch 165/500\n",
            "17/17 [==============================] - 0s 8ms/step - loss: 0.6134 - accuracy: 0.6730 - val_loss: 0.7167 - val_accuracy: 0.5367 - lr: 5.0000e-06\n",
            "Epoch 166/500\n",
            "17/17 [==============================] - 0s 7ms/step - loss: 0.6133 - accuracy: 0.6711 - val_loss: 0.7168 - val_accuracy: 0.5311 - lr: 5.0000e-06\n",
            "Epoch 167/500\n",
            "17/17 [==============================] - 0s 7ms/step - loss: 0.6131 - accuracy: 0.6730 - val_loss: 0.7168 - val_accuracy: 0.5367 - lr: 5.0000e-06\n",
            "Epoch 168/500\n",
            "17/17 [==============================] - 0s 7ms/step - loss: 0.6130 - accuracy: 0.6730 - val_loss: 0.7169 - val_accuracy: 0.5311 - lr: 5.0000e-06\n",
            "Epoch 169/500\n",
            "17/17 [==============================] - 0s 7ms/step - loss: 0.6129 - accuracy: 0.6749 - val_loss: 0.7170 - val_accuracy: 0.5311 - lr: 5.0000e-06\n",
            "Epoch 170/500\n",
            "17/17 [==============================] - 0s 7ms/step - loss: 0.6127 - accuracy: 0.6767 - val_loss: 0.7171 - val_accuracy: 0.5311 - lr: 5.0000e-06\n",
            "Epoch 171/500\n",
            "17/17 [==============================] - 0s 8ms/step - loss: 0.6126 - accuracy: 0.6786 - val_loss: 0.7171 - val_accuracy: 0.5311 - lr: 5.0000e-06\n",
            "Epoch 172/500\n",
            "17/17 [==============================] - 0s 6ms/step - loss: 0.6125 - accuracy: 0.6711 - val_loss: 0.7173 - val_accuracy: 0.5311 - lr: 5.0000e-06\n",
            "Epoch 173/500\n",
            "17/17 [==============================] - 0s 10ms/step - loss: 0.6124 - accuracy: 0.6749 - val_loss: 0.7174 - val_accuracy: 0.5311 - lr: 5.0000e-06\n",
            "Epoch 174/500\n",
            "17/17 [==============================] - 0s 8ms/step - loss: 0.6123 - accuracy: 0.6749 - val_loss: 0.7175 - val_accuracy: 0.5311 - lr: 5.0000e-06\n",
            "Epoch 175/500\n",
            "17/17 [==============================] - 0s 8ms/step - loss: 0.6122 - accuracy: 0.6730 - val_loss: 0.7176 - val_accuracy: 0.5311 - lr: 5.0000e-06\n",
            "Epoch 176/500\n",
            "17/17 [==============================] - 0s 6ms/step - loss: 0.6120 - accuracy: 0.6767 - val_loss: 0.7178 - val_accuracy: 0.5311 - lr: 5.0000e-06\n",
            "Epoch 177/500\n",
            "17/17 [==============================] - 0s 8ms/step - loss: 0.6119 - accuracy: 0.6749 - val_loss: 0.7178 - val_accuracy: 0.5311 - lr: 5.0000e-06\n",
            "Epoch 178/500\n",
            "17/17 [==============================] - 0s 7ms/step - loss: 0.6118 - accuracy: 0.6711 - val_loss: 0.7179 - val_accuracy: 0.5311 - lr: 5.0000e-06\n",
            "Epoch 179/500\n",
            "17/17 [==============================] - 0s 7ms/step - loss: 0.6116 - accuracy: 0.6711 - val_loss: 0.7180 - val_accuracy: 0.5311 - lr: 5.0000e-06\n",
            "Epoch 180/500\n",
            "17/17 [==============================] - 0s 7ms/step - loss: 0.6115 - accuracy: 0.6711 - val_loss: 0.7181 - val_accuracy: 0.5254 - lr: 5.0000e-06\n",
            "Epoch 181/500\n",
            "17/17 [==============================] - 0s 8ms/step - loss: 0.6115 - accuracy: 0.6730 - val_loss: 0.7182 - val_accuracy: 0.5254 - lr: 5.0000e-06\n",
            "Epoch 182/500\n",
            "17/17 [==============================] - 0s 8ms/step - loss: 0.6113 - accuracy: 0.6749 - val_loss: 0.7183 - val_accuracy: 0.5311 - lr: 5.0000e-06\n",
            "Epoch 183/500\n",
            "17/17 [==============================] - 0s 7ms/step - loss: 0.6111 - accuracy: 0.6730 - val_loss: 0.7184 - val_accuracy: 0.5254 - lr: 5.0000e-06\n",
            "Epoch 184/500\n",
            "17/17 [==============================] - 0s 7ms/step - loss: 0.6110 - accuracy: 0.6749 - val_loss: 0.7185 - val_accuracy: 0.5254 - lr: 5.0000e-06\n",
            "Epoch 185/500\n",
            "17/17 [==============================] - 0s 6ms/step - loss: 0.6109 - accuracy: 0.6730 - val_loss: 0.7186 - val_accuracy: 0.5254 - lr: 5.0000e-06\n",
            "Epoch 186/500\n",
            "17/17 [==============================] - 0s 5ms/step - loss: 0.6108 - accuracy: 0.6749 - val_loss: 0.7187 - val_accuracy: 0.5311 - lr: 5.0000e-06\n",
            "Epoch 187/500\n",
            "17/17 [==============================] - 0s 5ms/step - loss: 0.6106 - accuracy: 0.6786 - val_loss: 0.7188 - val_accuracy: 0.5254 - lr: 5.0000e-06\n",
            "Epoch 188/500\n",
            "17/17 [==============================] - 0s 5ms/step - loss: 0.6105 - accuracy: 0.6767 - val_loss: 0.7189 - val_accuracy: 0.5311 - lr: 5.0000e-06\n",
            "Epoch 189/500\n",
            "17/17 [==============================] - 0s 5ms/step - loss: 0.6105 - accuracy: 0.6749 - val_loss: 0.7190 - val_accuracy: 0.5311 - lr: 5.0000e-06\n",
            "Epoch 190/500\n",
            "17/17 [==============================] - 0s 5ms/step - loss: 0.6102 - accuracy: 0.6767 - val_loss: 0.7190 - val_accuracy: 0.5311 - lr: 5.0000e-06\n",
            "Epoch 191/500\n",
            "17/17 [==============================] - 0s 6ms/step - loss: 0.6101 - accuracy: 0.6767 - val_loss: 0.7192 - val_accuracy: 0.5311 - lr: 5.0000e-06\n",
            "Epoch 192/500\n",
            "17/17 [==============================] - 0s 5ms/step - loss: 0.6102 - accuracy: 0.6767 - val_loss: 0.7193 - val_accuracy: 0.5311 - lr: 5.0000e-06\n",
            "Epoch 193/500\n",
            "17/17 [==============================] - 0s 5ms/step - loss: 0.6099 - accuracy: 0.6786 - val_loss: 0.7194 - val_accuracy: 0.5311 - lr: 5.0000e-06\n",
            "Epoch 194/500\n",
            "17/17 [==============================] - 0s 5ms/step - loss: 0.6099 - accuracy: 0.6767 - val_loss: 0.7195 - val_accuracy: 0.5311 - lr: 5.0000e-06\n",
            "Epoch 195/500\n",
            "17/17 [==============================] - 0s 5ms/step - loss: 0.6096 - accuracy: 0.6749 - val_loss: 0.7196 - val_accuracy: 0.5311 - lr: 5.0000e-06\n",
            "Epoch 196/500\n",
            "17/17 [==============================] - 0s 5ms/step - loss: 0.6095 - accuracy: 0.6767 - val_loss: 0.7197 - val_accuracy: 0.5254 - lr: 5.0000e-06\n",
            "Epoch 197/500\n",
            "17/17 [==============================] - 0s 5ms/step - loss: 0.6094 - accuracy: 0.6767 - val_loss: 0.7198 - val_accuracy: 0.5311 - lr: 5.0000e-06\n",
            "Epoch 198/500\n",
            "17/17 [==============================] - 0s 5ms/step - loss: 0.6094 - accuracy: 0.6786 - val_loss: 0.7199 - val_accuracy: 0.5254 - lr: 5.0000e-06\n",
            "Epoch 199/500\n",
            "17/17 [==============================] - 0s 6ms/step - loss: 0.6091 - accuracy: 0.6805 - val_loss: 0.7200 - val_accuracy: 0.5311 - lr: 5.0000e-06\n",
            "Epoch 200/500\n",
            "17/17 [==============================] - 0s 5ms/step - loss: 0.6090 - accuracy: 0.6749 - val_loss: 0.7200 - val_accuracy: 0.5254 - lr: 5.0000e-06\n",
            "Epoch 201/500\n",
            "17/17 [==============================] - 0s 6ms/step - loss: 0.6089 - accuracy: 0.6805 - val_loss: 0.7200 - val_accuracy: 0.5311 - lr: 5.0000e-06\n",
            "Epoch 202/500\n",
            "17/17 [==============================] - 0s 5ms/step - loss: 0.6089 - accuracy: 0.6824 - val_loss: 0.7202 - val_accuracy: 0.5254 - lr: 5.0000e-06\n",
            "Epoch 203/500\n",
            "17/17 [==============================] - 0s 6ms/step - loss: 0.6088 - accuracy: 0.6786 - val_loss: 0.7203 - val_accuracy: 0.5254 - lr: 5.0000e-06\n",
            "Epoch 204/500\n",
            "17/17 [==============================] - 0s 5ms/step - loss: 0.6087 - accuracy: 0.6786 - val_loss: 0.7204 - val_accuracy: 0.5254 - lr: 5.0000e-06\n",
            "Epoch 205/500\n",
            "17/17 [==============================] - 0s 6ms/step - loss: 0.6084 - accuracy: 0.6843 - val_loss: 0.7205 - val_accuracy: 0.5311 - lr: 5.0000e-06\n",
            "Epoch 206/500\n",
            "17/17 [==============================] - 0s 6ms/step - loss: 0.6084 - accuracy: 0.6767 - val_loss: 0.7206 - val_accuracy: 0.5311 - lr: 5.0000e-06\n",
            "Epoch 207/500\n",
            "17/17 [==============================] - 0s 6ms/step - loss: 0.6082 - accuracy: 0.6749 - val_loss: 0.7206 - val_accuracy: 0.5254 - lr: 5.0000e-06\n",
            "Epoch 208/500\n",
            "17/17 [==============================] - 0s 5ms/step - loss: 0.6081 - accuracy: 0.6786 - val_loss: 0.7208 - val_accuracy: 0.5254 - lr: 5.0000e-06\n",
            "Epoch 209/500\n",
            "17/17 [==============================] - 0s 5ms/step - loss: 0.6081 - accuracy: 0.6767 - val_loss: 0.7209 - val_accuracy: 0.5311 - lr: 5.0000e-06\n",
            "Epoch 210/500\n",
            "17/17 [==============================] - 0s 5ms/step - loss: 0.6078 - accuracy: 0.6749 - val_loss: 0.7210 - val_accuracy: 0.5198 - lr: 5.0000e-06\n",
            "Epoch 211/500\n",
            "17/17 [==============================] - 0s 5ms/step - loss: 0.6077 - accuracy: 0.6767 - val_loss: 0.7211 - val_accuracy: 0.5198 - lr: 5.0000e-06\n",
            "Epoch 212/500\n",
            "17/17 [==============================] - 0s 6ms/step - loss: 0.6076 - accuracy: 0.6767 - val_loss: 0.7212 - val_accuracy: 0.5198 - lr: 5.0000e-06\n",
            "Epoch 213/500\n",
            "17/17 [==============================] - 0s 5ms/step - loss: 0.6076 - accuracy: 0.6730 - val_loss: 0.7213 - val_accuracy: 0.5254 - lr: 5.0000e-06\n",
            "Epoch 214/500\n",
            "17/17 [==============================] - 0s 5ms/step - loss: 0.6073 - accuracy: 0.6786 - val_loss: 0.7213 - val_accuracy: 0.5198 - lr: 5.0000e-06\n",
            "Epoch 215/500\n",
            "17/17 [==============================] - 0s 6ms/step - loss: 0.6072 - accuracy: 0.6767 - val_loss: 0.7214 - val_accuracy: 0.5198 - lr: 5.0000e-06\n",
            "Epoch 216/500\n",
            "17/17 [==============================] - 0s 6ms/step - loss: 0.6070 - accuracy: 0.6767 - val_loss: 0.7215 - val_accuracy: 0.5198 - lr: 5.0000e-06\n",
            "Epoch 217/500\n",
            "17/17 [==============================] - 0s 6ms/step - loss: 0.6069 - accuracy: 0.6767 - val_loss: 0.7216 - val_accuracy: 0.5198 - lr: 5.0000e-06\n",
            "Epoch 218/500\n",
            "17/17 [==============================] - 0s 6ms/step - loss: 0.6069 - accuracy: 0.6767 - val_loss: 0.7217 - val_accuracy: 0.5254 - lr: 5.0000e-06\n",
            "Epoch 219/500\n",
            "17/17 [==============================] - 0s 5ms/step - loss: 0.6067 - accuracy: 0.6749 - val_loss: 0.7217 - val_accuracy: 0.5198 - lr: 5.0000e-06\n",
            "Epoch 220/500\n",
            "17/17 [==============================] - 0s 5ms/step - loss: 0.6066 - accuracy: 0.6749 - val_loss: 0.7218 - val_accuracy: 0.5198 - lr: 5.0000e-06\n",
            "Epoch 221/500\n",
            "17/17 [==============================] - 0s 6ms/step - loss: 0.6065 - accuracy: 0.6767 - val_loss: 0.7220 - val_accuracy: 0.5198 - lr: 5.0000e-06\n",
            "Epoch 222/500\n",
            "17/17 [==============================] - 0s 6ms/step - loss: 0.6063 - accuracy: 0.6749 - val_loss: 0.7220 - val_accuracy: 0.5198 - lr: 5.0000e-06\n",
            "Epoch 223/500\n",
            "17/17 [==============================] - 0s 5ms/step - loss: 0.6062 - accuracy: 0.6749 - val_loss: 0.7222 - val_accuracy: 0.5198 - lr: 5.0000e-06\n",
            "Epoch 224/500\n",
            "17/17 [==============================] - 0s 6ms/step - loss: 0.6062 - accuracy: 0.6749 - val_loss: 0.7223 - val_accuracy: 0.5198 - lr: 5.0000e-06\n",
            "Epoch 225/500\n",
            "17/17 [==============================] - 0s 6ms/step - loss: 0.6060 - accuracy: 0.6767 - val_loss: 0.7224 - val_accuracy: 0.5198 - lr: 5.0000e-06\n",
            "Epoch 226/500\n",
            "17/17 [==============================] - 0s 5ms/step - loss: 0.6058 - accuracy: 0.6749 - val_loss: 0.7225 - val_accuracy: 0.5198 - lr: 5.0000e-06\n",
            "Epoch 227/500\n",
            "17/17 [==============================] - 0s 6ms/step - loss: 0.6060 - accuracy: 0.6767 - val_loss: 0.7226 - val_accuracy: 0.5311 - lr: 5.0000e-06\n",
            "Epoch 228/500\n",
            "17/17 [==============================] - 0s 6ms/step - loss: 0.6056 - accuracy: 0.6767 - val_loss: 0.7227 - val_accuracy: 0.5198 - lr: 5.0000e-06\n",
            "Epoch 229/500\n",
            "17/17 [==============================] - 0s 6ms/step - loss: 0.6057 - accuracy: 0.6711 - val_loss: 0.7228 - val_accuracy: 0.5254 - lr: 5.0000e-06\n",
            "Epoch 230/500\n",
            "17/17 [==============================] - 0s 6ms/step - loss: 0.6053 - accuracy: 0.6749 - val_loss: 0.7229 - val_accuracy: 0.5198 - lr: 5.0000e-06\n",
            "Epoch 231/500\n",
            "17/17 [==============================] - 0s 6ms/step - loss: 0.6052 - accuracy: 0.6767 - val_loss: 0.7229 - val_accuracy: 0.5198 - lr: 5.0000e-06\n",
            "Epoch 232/500\n",
            "17/17 [==============================] - 0s 6ms/step - loss: 0.6051 - accuracy: 0.6786 - val_loss: 0.7231 - val_accuracy: 0.5198 - lr: 5.0000e-06\n",
            "Epoch 233/500\n",
            "17/17 [==============================] - 0s 5ms/step - loss: 0.6050 - accuracy: 0.6749 - val_loss: 0.7232 - val_accuracy: 0.5254 - lr: 5.0000e-06\n",
            "Epoch 234/500\n",
            "17/17 [==============================] - 0s 6ms/step - loss: 0.6049 - accuracy: 0.6730 - val_loss: 0.7233 - val_accuracy: 0.5254 - lr: 5.0000e-06\n",
            "Epoch 235/500\n",
            "17/17 [==============================] - 0s 6ms/step - loss: 0.6048 - accuracy: 0.6749 - val_loss: 0.7235 - val_accuracy: 0.5311 - lr: 5.0000e-06\n",
            "Epoch 236/500\n",
            "17/17 [==============================] - 0s 5ms/step - loss: 0.6046 - accuracy: 0.6749 - val_loss: 0.7234 - val_accuracy: 0.5254 - lr: 5.0000e-06\n",
            "Epoch 237/500\n",
            "17/17 [==============================] - 0s 5ms/step - loss: 0.6049 - accuracy: 0.6749 - val_loss: 0.7237 - val_accuracy: 0.5311 - lr: 5.0000e-06\n",
            "Epoch 238/500\n",
            "17/17 [==============================] - 0s 6ms/step - loss: 0.6043 - accuracy: 0.6749 - val_loss: 0.7237 - val_accuracy: 0.5254 - lr: 5.0000e-06\n",
            "Epoch 239/500\n",
            "17/17 [==============================] - 0s 5ms/step - loss: 0.6043 - accuracy: 0.6749 - val_loss: 0.7237 - val_accuracy: 0.5254 - lr: 5.0000e-06\n",
            "Epoch 240/500\n",
            "17/17 [==============================] - 0s 6ms/step - loss: 0.6042 - accuracy: 0.6730 - val_loss: 0.7238 - val_accuracy: 0.5311 - lr: 5.0000e-06\n",
            "Epoch 241/500\n",
            "17/17 [==============================] - 0s 5ms/step - loss: 0.6040 - accuracy: 0.6805 - val_loss: 0.7238 - val_accuracy: 0.5254 - lr: 5.0000e-06\n",
            "Epoch 242/500\n",
            "17/17 [==============================] - 0s 6ms/step - loss: 0.6039 - accuracy: 0.6767 - val_loss: 0.7239 - val_accuracy: 0.5254 - lr: 5.0000e-06\n",
            "Epoch 243/500\n",
            "17/17 [==============================] - 0s 5ms/step - loss: 0.6037 - accuracy: 0.6786 - val_loss: 0.7240 - val_accuracy: 0.5311 - lr: 5.0000e-06\n",
            "Epoch 244/500\n",
            "17/17 [==============================] - 0s 5ms/step - loss: 0.6036 - accuracy: 0.6749 - val_loss: 0.7242 - val_accuracy: 0.5311 - lr: 5.0000e-06\n",
            "Epoch 245/500\n",
            "17/17 [==============================] - 0s 5ms/step - loss: 0.6035 - accuracy: 0.6767 - val_loss: 0.7242 - val_accuracy: 0.5311 - lr: 5.0000e-06\n",
            "Epoch 246/500\n",
            "17/17 [==============================] - 0s 5ms/step - loss: 0.6034 - accuracy: 0.6786 - val_loss: 0.7244 - val_accuracy: 0.5311 - lr: 5.0000e-06\n",
            "Epoch 247/500\n",
            "17/17 [==============================] - 0s 6ms/step - loss: 0.6033 - accuracy: 0.6749 - val_loss: 0.7245 - val_accuracy: 0.5311 - lr: 5.0000e-06\n",
            "Epoch 248/500\n",
            "17/17 [==============================] - 0s 6ms/step - loss: 0.6031 - accuracy: 0.6767 - val_loss: 0.7245 - val_accuracy: 0.5311 - lr: 5.0000e-06\n",
            "Epoch 249/500\n",
            "17/17 [==============================] - 0s 6ms/step - loss: 0.6030 - accuracy: 0.6786 - val_loss: 0.7246 - val_accuracy: 0.5311 - lr: 5.0000e-06\n",
            "Epoch 250/500\n",
            "17/17 [==============================] - 0s 5ms/step - loss: 0.6029 - accuracy: 0.6786 - val_loss: 0.7247 - val_accuracy: 0.5311 - lr: 5.0000e-06\n",
            "Epoch 251/500\n",
            "17/17 [==============================] - 0s 5ms/step - loss: 0.6029 - accuracy: 0.6767 - val_loss: 0.7248 - val_accuracy: 0.5311 - lr: 5.0000e-06\n",
            "Epoch 252/500\n",
            "17/17 [==============================] - 0s 5ms/step - loss: 0.6027 - accuracy: 0.6767 - val_loss: 0.7249 - val_accuracy: 0.5311 - lr: 5.0000e-06\n",
            "Epoch 253/500\n",
            "17/17 [==============================] - 0s 7ms/step - loss: 0.6026 - accuracy: 0.6786 - val_loss: 0.7250 - val_accuracy: 0.5311 - lr: 5.0000e-06\n",
            "Epoch 254/500\n",
            "17/17 [==============================] - 0s 5ms/step - loss: 0.6024 - accuracy: 0.6767 - val_loss: 0.7252 - val_accuracy: 0.5311 - lr: 5.0000e-06\n",
            "Epoch 255/500\n",
            "17/17 [==============================] - 0s 5ms/step - loss: 0.6022 - accuracy: 0.6767 - val_loss: 0.7253 - val_accuracy: 0.5311 - lr: 5.0000e-06\n",
            "Epoch 256/500\n",
            "17/17 [==============================] - 0s 6ms/step - loss: 0.6021 - accuracy: 0.6749 - val_loss: 0.7254 - val_accuracy: 0.5311 - lr: 5.0000e-06\n",
            "Epoch 257/500\n",
            "17/17 [==============================] - 0s 5ms/step - loss: 0.6023 - accuracy: 0.6767 - val_loss: 0.7255 - val_accuracy: 0.5311 - lr: 5.0000e-06\n",
            "Epoch 258/500\n",
            "17/17 [==============================] - 0s 6ms/step - loss: 0.6019 - accuracy: 0.6805 - val_loss: 0.7256 - val_accuracy: 0.5311 - lr: 5.0000e-06\n",
            "Epoch 259/500\n",
            "17/17 [==============================] - 0s 5ms/step - loss: 0.6018 - accuracy: 0.6767 - val_loss: 0.7258 - val_accuracy: 0.5311 - lr: 5.0000e-06\n",
            "Epoch 260/500\n",
            "17/17 [==============================] - 0s 5ms/step - loss: 0.6016 - accuracy: 0.6786 - val_loss: 0.7257 - val_accuracy: 0.5311 - lr: 5.0000e-06\n",
            "Epoch 261/500\n",
            "17/17 [==============================] - 0s 6ms/step - loss: 0.6016 - accuracy: 0.6786 - val_loss: 0.7259 - val_accuracy: 0.5311 - lr: 5.0000e-06\n",
            "Epoch 262/500\n",
            "17/17 [==============================] - 0s 5ms/step - loss: 0.6014 - accuracy: 0.6786 - val_loss: 0.7261 - val_accuracy: 0.5311 - lr: 5.0000e-06\n",
            "Epoch 263/500\n",
            "17/17 [==============================] - 0s 7ms/step - loss: 0.6013 - accuracy: 0.6805 - val_loss: 0.7262 - val_accuracy: 0.5311 - lr: 5.0000e-06\n",
            "Epoch 264/500\n",
            "17/17 [==============================] - 0s 5ms/step - loss: 0.6011 - accuracy: 0.6767 - val_loss: 0.7262 - val_accuracy: 0.5311 - lr: 5.0000e-06\n",
            "Epoch 265/500\n",
            "17/17 [==============================] - 0s 6ms/step - loss: 0.6011 - accuracy: 0.6805 - val_loss: 0.7264 - val_accuracy: 0.5311 - lr: 5.0000e-06\n",
            "Epoch 266/500\n",
            "17/17 [==============================] - 0s 6ms/step - loss: 0.6010 - accuracy: 0.6749 - val_loss: 0.7265 - val_accuracy: 0.5311 - lr: 5.0000e-06\n",
            "Epoch 267/500\n",
            "17/17 [==============================] - 0s 6ms/step - loss: 0.6007 - accuracy: 0.6824 - val_loss: 0.7266 - val_accuracy: 0.5311 - lr: 5.0000e-06\n",
            "Epoch 268/500\n",
            "17/17 [==============================] - 0s 6ms/step - loss: 0.6007 - accuracy: 0.6881 - val_loss: 0.7268 - val_accuracy: 0.5311 - lr: 5.0000e-06\n",
            "Epoch 269/500\n",
            "17/17 [==============================] - 0s 5ms/step - loss: 0.6005 - accuracy: 0.6938 - val_loss: 0.7269 - val_accuracy: 0.5311 - lr: 5.0000e-06\n",
            "Epoch 270/500\n",
            "17/17 [==============================] - 0s 5ms/step - loss: 0.6004 - accuracy: 0.6919 - val_loss: 0.7269 - val_accuracy: 0.5311 - lr: 5.0000e-06\n",
            "Epoch 271/500\n",
            "17/17 [==============================] - 0s 6ms/step - loss: 0.6003 - accuracy: 0.6919 - val_loss: 0.7271 - val_accuracy: 0.5367 - lr: 5.0000e-06\n",
            "Epoch 272/500\n",
            "17/17 [==============================] - 0s 6ms/step - loss: 0.6001 - accuracy: 0.6843 - val_loss: 0.7271 - val_accuracy: 0.5311 - lr: 5.0000e-06\n",
            "Epoch 273/500\n",
            "17/17 [==============================] - 0s 8ms/step - loss: 0.6000 - accuracy: 0.6824 - val_loss: 0.7272 - val_accuracy: 0.5311 - lr: 5.0000e-06\n",
            "Epoch 274/500\n",
            "17/17 [==============================] - 0s 5ms/step - loss: 0.5999 - accuracy: 0.6824 - val_loss: 0.7273 - val_accuracy: 0.5311 - lr: 5.0000e-06\n",
            "Epoch 275/500\n",
            "17/17 [==============================] - 0s 5ms/step - loss: 0.5998 - accuracy: 0.6843 - val_loss: 0.7274 - val_accuracy: 0.5311 - lr: 5.0000e-06\n",
            "Epoch 276/500\n",
            "17/17 [==============================] - 0s 6ms/step - loss: 0.5997 - accuracy: 0.6824 - val_loss: 0.7275 - val_accuracy: 0.5311 - lr: 5.0000e-06\n",
            "Epoch 277/500\n",
            "17/17 [==============================] - 0s 6ms/step - loss: 0.5995 - accuracy: 0.6824 - val_loss: 0.7275 - val_accuracy: 0.5311 - lr: 5.0000e-06\n",
            "Epoch 278/500\n",
            "17/17 [==============================] - 0s 5ms/step - loss: 0.5995 - accuracy: 0.6843 - val_loss: 0.7276 - val_accuracy: 0.5311 - lr: 5.0000e-06\n",
            "Epoch 279/500\n",
            "17/17 [==============================] - 0s 5ms/step - loss: 0.5993 - accuracy: 0.6900 - val_loss: 0.7277 - val_accuracy: 0.5311 - lr: 5.0000e-06\n",
            "Epoch 280/500\n",
            "17/17 [==============================] - 0s 6ms/step - loss: 0.5993 - accuracy: 0.6900 - val_loss: 0.7278 - val_accuracy: 0.5311 - lr: 5.0000e-06\n",
            "Epoch 281/500\n",
            "17/17 [==============================] - 0s 5ms/step - loss: 0.5990 - accuracy: 0.6862 - val_loss: 0.7279 - val_accuracy: 0.5311 - lr: 5.0000e-06\n",
            "Epoch 282/500\n",
            "17/17 [==============================] - 0s 5ms/step - loss: 0.5990 - accuracy: 0.6900 - val_loss: 0.7280 - val_accuracy: 0.5424 - lr: 5.0000e-06\n",
            "Epoch 283/500\n",
            "17/17 [==============================] - 0s 6ms/step - loss: 0.5988 - accuracy: 0.6919 - val_loss: 0.7281 - val_accuracy: 0.5311 - lr: 5.0000e-06\n",
            "Epoch 284/500\n",
            "17/17 [==============================] - 0s 8ms/step - loss: 0.5987 - accuracy: 0.6862 - val_loss: 0.7282 - val_accuracy: 0.5311 - lr: 5.0000e-06\n",
            "Epoch 285/500\n",
            "17/17 [==============================] - 0s 7ms/step - loss: 0.5985 - accuracy: 0.6862 - val_loss: 0.7284 - val_accuracy: 0.5311 - lr: 5.0000e-06\n",
            "Epoch 286/500\n",
            "17/17 [==============================] - 0s 8ms/step - loss: 0.5986 - accuracy: 0.6938 - val_loss: 0.7285 - val_accuracy: 0.5424 - lr: 5.0000e-06\n",
            "Epoch 287/500\n",
            "17/17 [==============================] - 0s 8ms/step - loss: 0.5984 - accuracy: 0.6919 - val_loss: 0.7286 - val_accuracy: 0.5424 - lr: 5.0000e-06\n",
            "Epoch 288/500\n",
            "17/17 [==============================] - 0s 8ms/step - loss: 0.5982 - accuracy: 0.6900 - val_loss: 0.7287 - val_accuracy: 0.5424 - lr: 5.0000e-06\n",
            "Epoch 289/500\n",
            "17/17 [==============================] - 0s 7ms/step - loss: 0.5981 - accuracy: 0.6881 - val_loss: 0.7288 - val_accuracy: 0.5424 - lr: 5.0000e-06\n",
            "Epoch 290/500\n",
            "17/17 [==============================] - 0s 7ms/step - loss: 0.5979 - accuracy: 0.6881 - val_loss: 0.7289 - val_accuracy: 0.5424 - lr: 5.0000e-06\n",
            "Epoch 291/500\n",
            "17/17 [==============================] - 0s 8ms/step - loss: 0.5978 - accuracy: 0.6938 - val_loss: 0.7289 - val_accuracy: 0.5424 - lr: 5.0000e-06\n",
            "Epoch 292/500\n",
            "17/17 [==============================] - 0s 7ms/step - loss: 0.5979 - accuracy: 0.6919 - val_loss: 0.7291 - val_accuracy: 0.5424 - lr: 5.0000e-06\n",
            "Epoch 293/500\n",
            "17/17 [==============================] - 0s 7ms/step - loss: 0.5975 - accuracy: 0.6900 - val_loss: 0.7292 - val_accuracy: 0.5424 - lr: 5.0000e-06\n",
            "Epoch 294/500\n",
            "17/17 [==============================] - 0s 9ms/step - loss: 0.5974 - accuracy: 0.6938 - val_loss: 0.7293 - val_accuracy: 0.5424 - lr: 5.0000e-06\n",
            "Epoch 295/500\n",
            "17/17 [==============================] - 0s 9ms/step - loss: 0.5973 - accuracy: 0.6919 - val_loss: 0.7295 - val_accuracy: 0.5424 - lr: 5.0000e-06\n",
            "Epoch 296/500\n",
            "17/17 [==============================] - 0s 7ms/step - loss: 0.5972 - accuracy: 0.6919 - val_loss: 0.7296 - val_accuracy: 0.5424 - lr: 5.0000e-06\n",
            "Epoch 297/500\n",
            "17/17 [==============================] - 0s 9ms/step - loss: 0.5971 - accuracy: 0.6938 - val_loss: 0.7298 - val_accuracy: 0.5424 - lr: 5.0000e-06\n",
            "Epoch 298/500\n",
            "17/17 [==============================] - 0s 7ms/step - loss: 0.5970 - accuracy: 0.6938 - val_loss: 0.7299 - val_accuracy: 0.5424 - lr: 5.0000e-06\n",
            "Epoch 299/500\n",
            "17/17 [==============================] - 0s 8ms/step - loss: 0.5968 - accuracy: 0.6938 - val_loss: 0.7300 - val_accuracy: 0.5424 - lr: 5.0000e-06\n",
            "Epoch 300/500\n",
            "17/17 [==============================] - 0s 8ms/step - loss: 0.5967 - accuracy: 0.6938 - val_loss: 0.7300 - val_accuracy: 0.5424 - lr: 5.0000e-06\n",
            "Epoch 301/500\n",
            "17/17 [==============================] - 0s 7ms/step - loss: 0.5966 - accuracy: 0.6900 - val_loss: 0.7300 - val_accuracy: 0.5424 - lr: 5.0000e-06\n",
            "Epoch 302/500\n",
            "17/17 [==============================] - 0s 8ms/step - loss: 0.5964 - accuracy: 0.6900 - val_loss: 0.7302 - val_accuracy: 0.5424 - lr: 5.0000e-06\n",
            "Epoch 303/500\n",
            "17/17 [==============================] - 0s 8ms/step - loss: 0.5963 - accuracy: 0.6919 - val_loss: 0.7303 - val_accuracy: 0.5424 - lr: 5.0000e-06\n",
            "Epoch 304/500\n",
            "17/17 [==============================] - 0s 7ms/step - loss: 0.5962 - accuracy: 0.6881 - val_loss: 0.7304 - val_accuracy: 0.5424 - lr: 5.0000e-06\n",
            "Epoch 305/500\n",
            "17/17 [==============================] - 0s 8ms/step - loss: 0.5961 - accuracy: 0.6881 - val_loss: 0.7306 - val_accuracy: 0.5424 - lr: 5.0000e-06\n",
            "Epoch 306/500\n",
            "17/17 [==============================] - 0s 7ms/step - loss: 0.5959 - accuracy: 0.6900 - val_loss: 0.7308 - val_accuracy: 0.5424 - lr: 5.0000e-06\n",
            "Epoch 307/500\n",
            "17/17 [==============================] - 0s 8ms/step - loss: 0.5960 - accuracy: 0.6919 - val_loss: 0.7308 - val_accuracy: 0.5424 - lr: 5.0000e-06\n",
            "Epoch 308/500\n",
            "17/17 [==============================] - 0s 7ms/step - loss: 0.5958 - accuracy: 0.6919 - val_loss: 0.7309 - val_accuracy: 0.5424 - lr: 5.0000e-06\n",
            "Epoch 309/500\n",
            "17/17 [==============================] - 0s 9ms/step - loss: 0.5957 - accuracy: 0.6938 - val_loss: 0.7310 - val_accuracy: 0.5367 - lr: 5.0000e-06\n",
            "Epoch 310/500\n",
            "17/17 [==============================] - 0s 7ms/step - loss: 0.5955 - accuracy: 0.6938 - val_loss: 0.7310 - val_accuracy: 0.5367 - lr: 5.0000e-06\n",
            "Epoch 311/500\n",
            "17/17 [==============================] - 0s 6ms/step - loss: 0.5955 - accuracy: 0.6900 - val_loss: 0.7311 - val_accuracy: 0.5424 - lr: 5.0000e-06\n",
            "Epoch 312/500\n",
            "17/17 [==============================] - 0s 7ms/step - loss: 0.5952 - accuracy: 0.6938 - val_loss: 0.7313 - val_accuracy: 0.5424 - lr: 5.0000e-06\n",
            "Epoch 313/500\n",
            "17/17 [==============================] - 0s 7ms/step - loss: 0.5951 - accuracy: 0.6938 - val_loss: 0.7313 - val_accuracy: 0.5367 - lr: 5.0000e-06\n",
            "Epoch 314/500\n",
            "17/17 [==============================] - 0s 7ms/step - loss: 0.5950 - accuracy: 0.6900 - val_loss: 0.7314 - val_accuracy: 0.5424 - lr: 5.0000e-06\n",
            "Epoch 315/500\n",
            "17/17 [==============================] - 0s 8ms/step - loss: 0.5949 - accuracy: 0.6919 - val_loss: 0.7315 - val_accuracy: 0.5424 - lr: 5.0000e-06\n",
            "Epoch 316/500\n",
            "17/17 [==============================] - 0s 10ms/step - loss: 0.5948 - accuracy: 0.6938 - val_loss: 0.7317 - val_accuracy: 0.5367 - lr: 5.0000e-06\n",
            "Epoch 317/500\n",
            "17/17 [==============================] - 0s 7ms/step - loss: 0.5946 - accuracy: 0.6938 - val_loss: 0.7318 - val_accuracy: 0.5367 - lr: 5.0000e-06\n",
            "Epoch 318/500\n",
            "17/17 [==============================] - 0s 9ms/step - loss: 0.5947 - accuracy: 0.6919 - val_loss: 0.7319 - val_accuracy: 0.5424 - lr: 5.0000e-06\n",
            "Epoch 319/500\n",
            "17/17 [==============================] - 0s 9ms/step - loss: 0.5945 - accuracy: 0.6919 - val_loss: 0.7319 - val_accuracy: 0.5424 - lr: 5.0000e-06\n",
            "Epoch 320/500\n",
            "17/17 [==============================] - 0s 9ms/step - loss: 0.5943 - accuracy: 0.6919 - val_loss: 0.7321 - val_accuracy: 0.5424 - lr: 5.0000e-06\n",
            "Epoch 321/500\n",
            "17/17 [==============================] - 0s 9ms/step - loss: 0.5941 - accuracy: 0.6919 - val_loss: 0.7323 - val_accuracy: 0.5367 - lr: 5.0000e-06\n",
            "Epoch 322/500\n",
            "17/17 [==============================] - 0s 9ms/step - loss: 0.5942 - accuracy: 0.6900 - val_loss: 0.7323 - val_accuracy: 0.5424 - lr: 5.0000e-06\n",
            "Epoch 323/500\n",
            "17/17 [==============================] - 0s 7ms/step - loss: 0.5939 - accuracy: 0.6900 - val_loss: 0.7325 - val_accuracy: 0.5424 - lr: 5.0000e-06\n",
            "Epoch 324/500\n",
            "17/17 [==============================] - 0s 5ms/step - loss: 0.5938 - accuracy: 0.6938 - val_loss: 0.7326 - val_accuracy: 0.5367 - lr: 5.0000e-06\n",
            "Epoch 325/500\n",
            "17/17 [==============================] - 0s 5ms/step - loss: 0.5936 - accuracy: 0.6919 - val_loss: 0.7327 - val_accuracy: 0.5367 - lr: 5.0000e-06\n",
            "Epoch 326/500\n",
            "17/17 [==============================] - 0s 5ms/step - loss: 0.5937 - accuracy: 0.6919 - val_loss: 0.7328 - val_accuracy: 0.5424 - lr: 5.0000e-06\n",
            "Epoch 327/500\n",
            "17/17 [==============================] - 0s 6ms/step - loss: 0.5934 - accuracy: 0.6938 - val_loss: 0.7329 - val_accuracy: 0.5424 - lr: 5.0000e-06\n",
            "Epoch 328/500\n",
            "17/17 [==============================] - 0s 6ms/step - loss: 0.5933 - accuracy: 0.6919 - val_loss: 0.7330 - val_accuracy: 0.5424 - lr: 5.0000e-06\n",
            "Epoch 329/500\n",
            "17/17 [==============================] - 0s 5ms/step - loss: 0.5931 - accuracy: 0.6900 - val_loss: 0.7331 - val_accuracy: 0.5424 - lr: 5.0000e-06\n",
            "Epoch 330/500\n",
            "17/17 [==============================] - 0s 6ms/step - loss: 0.5931 - accuracy: 0.6881 - val_loss: 0.7333 - val_accuracy: 0.5424 - lr: 5.0000e-06\n",
            "Epoch 331/500\n",
            "17/17 [==============================] - 0s 6ms/step - loss: 0.5929 - accuracy: 0.6919 - val_loss: 0.7334 - val_accuracy: 0.5367 - lr: 5.0000e-06\n",
            "Epoch 332/500\n",
            "17/17 [==============================] - 0s 6ms/step - loss: 0.5928 - accuracy: 0.6900 - val_loss: 0.7335 - val_accuracy: 0.5480 - lr: 5.0000e-06\n",
            "Epoch 333/500\n",
            "17/17 [==============================] - 0s 5ms/step - loss: 0.5927 - accuracy: 0.6919 - val_loss: 0.7337 - val_accuracy: 0.5367 - lr: 5.0000e-06\n",
            "Epoch 334/500\n",
            "17/17 [==============================] - 0s 5ms/step - loss: 0.5925 - accuracy: 0.6900 - val_loss: 0.7338 - val_accuracy: 0.5367 - lr: 5.0000e-06\n",
            "Epoch 335/500\n",
            "17/17 [==============================] - 0s 6ms/step - loss: 0.5925 - accuracy: 0.6900 - val_loss: 0.7338 - val_accuracy: 0.5424 - lr: 5.0000e-06\n",
            "Epoch 336/500\n",
            "17/17 [==============================] - 0s 5ms/step - loss: 0.5923 - accuracy: 0.6900 - val_loss: 0.7339 - val_accuracy: 0.5480 - lr: 5.0000e-06\n",
            "Epoch 337/500\n",
            "17/17 [==============================] - 0s 6ms/step - loss: 0.5922 - accuracy: 0.6881 - val_loss: 0.7340 - val_accuracy: 0.5480 - lr: 5.0000e-06\n",
            "Epoch 338/500\n",
            "17/17 [==============================] - 0s 6ms/step - loss: 0.5921 - accuracy: 0.6900 - val_loss: 0.7342 - val_accuracy: 0.5480 - lr: 5.0000e-06\n",
            "Epoch 339/500\n",
            "17/17 [==============================] - 0s 6ms/step - loss: 0.5919 - accuracy: 0.6900 - val_loss: 0.7343 - val_accuracy: 0.5480 - lr: 5.0000e-06\n",
            "Epoch 340/500\n",
            "17/17 [==============================] - 0s 5ms/step - loss: 0.5919 - accuracy: 0.6881 - val_loss: 0.7345 - val_accuracy: 0.5367 - lr: 5.0000e-06\n",
            "Epoch 341/500\n",
            "17/17 [==============================] - 0s 6ms/step - loss: 0.5917 - accuracy: 0.6919 - val_loss: 0.7346 - val_accuracy: 0.5480 - lr: 5.0000e-06\n",
            "Epoch 342/500\n",
            "17/17 [==============================] - 0s 6ms/step - loss: 0.5915 - accuracy: 0.6919 - val_loss: 0.7347 - val_accuracy: 0.5367 - lr: 5.0000e-06\n",
            "Epoch 343/500\n",
            "17/17 [==============================] - 0s 5ms/step - loss: 0.5916 - accuracy: 0.6919 - val_loss: 0.7349 - val_accuracy: 0.5367 - lr: 5.0000e-06\n",
            "Epoch 344/500\n",
            "17/17 [==============================] - 0s 6ms/step - loss: 0.5914 - accuracy: 0.6862 - val_loss: 0.7350 - val_accuracy: 0.5424 - lr: 5.0000e-06\n",
            "Epoch 345/500\n",
            "17/17 [==============================] - 0s 5ms/step - loss: 0.5913 - accuracy: 0.6881 - val_loss: 0.7351 - val_accuracy: 0.5424 - lr: 5.0000e-06\n",
            "Epoch 346/500\n",
            "17/17 [==============================] - 0s 5ms/step - loss: 0.5911 - accuracy: 0.6938 - val_loss: 0.7353 - val_accuracy: 0.5367 - lr: 5.0000e-06\n",
            "Epoch 347/500\n",
            "17/17 [==============================] - 0s 6ms/step - loss: 0.5909 - accuracy: 0.6900 - val_loss: 0.7354 - val_accuracy: 0.5424 - lr: 5.0000e-06\n",
            "Epoch 348/500\n",
            "17/17 [==============================] - 0s 5ms/step - loss: 0.5909 - accuracy: 0.6881 - val_loss: 0.7356 - val_accuracy: 0.5424 - lr: 5.0000e-06\n",
            "Epoch 349/500\n",
            "17/17 [==============================] - 0s 6ms/step - loss: 0.5908 - accuracy: 0.6900 - val_loss: 0.7357 - val_accuracy: 0.5424 - lr: 5.0000e-06\n",
            "Epoch 350/500\n",
            "17/17 [==============================] - 0s 5ms/step - loss: 0.5906 - accuracy: 0.6919 - val_loss: 0.7357 - val_accuracy: 0.5424 - lr: 5.0000e-06\n",
            "Epoch 351/500\n",
            "17/17 [==============================] - 0s 6ms/step - loss: 0.5906 - accuracy: 0.6919 - val_loss: 0.7358 - val_accuracy: 0.5424 - lr: 5.0000e-06\n",
            "Epoch 352/500\n",
            "17/17 [==============================] - 0s 6ms/step - loss: 0.5903 - accuracy: 0.6881 - val_loss: 0.7359 - val_accuracy: 0.5424 - lr: 5.0000e-06\n",
            "Epoch 353/500\n",
            "17/17 [==============================] - 0s 5ms/step - loss: 0.5902 - accuracy: 0.6881 - val_loss: 0.7359 - val_accuracy: 0.5424 - lr: 5.0000e-06\n",
            "Epoch 354/500\n",
            "17/17 [==============================] - 0s 6ms/step - loss: 0.5902 - accuracy: 0.6881 - val_loss: 0.7361 - val_accuracy: 0.5424 - lr: 5.0000e-06\n",
            "Epoch 355/500\n",
            "17/17 [==============================] - 0s 5ms/step - loss: 0.5900 - accuracy: 0.6919 - val_loss: 0.7363 - val_accuracy: 0.5424 - lr: 5.0000e-06\n",
            "Epoch 356/500\n",
            "17/17 [==============================] - 0s 6ms/step - loss: 0.5898 - accuracy: 0.6900 - val_loss: 0.7362 - val_accuracy: 0.5424 - lr: 5.0000e-06\n",
            "Epoch 357/500\n",
            "17/17 [==============================] - 0s 5ms/step - loss: 0.5897 - accuracy: 0.6900 - val_loss: 0.7364 - val_accuracy: 0.5424 - lr: 5.0000e-06\n",
            "Epoch 358/500\n",
            "17/17 [==============================] - 0s 6ms/step - loss: 0.5896 - accuracy: 0.6881 - val_loss: 0.7364 - val_accuracy: 0.5424 - lr: 5.0000e-06\n",
            "Epoch 359/500\n",
            "17/17 [==============================] - 0s 6ms/step - loss: 0.5896 - accuracy: 0.6919 - val_loss: 0.7366 - val_accuracy: 0.5424 - lr: 5.0000e-06\n",
            "Epoch 360/500\n",
            "17/17 [==============================] - 0s 5ms/step - loss: 0.5894 - accuracy: 0.6881 - val_loss: 0.7366 - val_accuracy: 0.5424 - lr: 5.0000e-06\n",
            "Epoch 361/500\n",
            "17/17 [==============================] - 0s 6ms/step - loss: 0.5892 - accuracy: 0.6881 - val_loss: 0.7369 - val_accuracy: 0.5424 - lr: 5.0000e-06\n",
            "Epoch 362/500\n",
            "17/17 [==============================] - 0s 6ms/step - loss: 0.5891 - accuracy: 0.6919 - val_loss: 0.7370 - val_accuracy: 0.5424 - lr: 5.0000e-06\n",
            "Epoch 363/500\n",
            "17/17 [==============================] - 0s 6ms/step - loss: 0.5890 - accuracy: 0.6900 - val_loss: 0.7371 - val_accuracy: 0.5424 - lr: 5.0000e-06\n",
            "Epoch 364/500\n",
            "17/17 [==============================] - 0s 5ms/step - loss: 0.5889 - accuracy: 0.6881 - val_loss: 0.7372 - val_accuracy: 0.5424 - lr: 5.0000e-06\n",
            "Epoch 365/500\n",
            "17/17 [==============================] - 0s 5ms/step - loss: 0.5888 - accuracy: 0.6900 - val_loss: 0.7374 - val_accuracy: 0.5424 - lr: 5.0000e-06\n",
            "Epoch 366/500\n",
            "17/17 [==============================] - 0s 6ms/step - loss: 0.5886 - accuracy: 0.6881 - val_loss: 0.7375 - val_accuracy: 0.5424 - lr: 5.0000e-06\n",
            "Epoch 367/500\n",
            "17/17 [==============================] - 0s 5ms/step - loss: 0.5887 - accuracy: 0.6881 - val_loss: 0.7376 - val_accuracy: 0.5424 - lr: 5.0000e-06\n",
            "Epoch 368/500\n",
            "17/17 [==============================] - 0s 6ms/step - loss: 0.5885 - accuracy: 0.6881 - val_loss: 0.7378 - val_accuracy: 0.5424 - lr: 5.0000e-06\n",
            "Epoch 369/500\n",
            "17/17 [==============================] - 0s 5ms/step - loss: 0.5883 - accuracy: 0.6881 - val_loss: 0.7378 - val_accuracy: 0.5424 - lr: 5.0000e-06\n",
            "Epoch 370/500\n",
            "17/17 [==============================] - 0s 6ms/step - loss: 0.5881 - accuracy: 0.6881 - val_loss: 0.7380 - val_accuracy: 0.5424 - lr: 5.0000e-06\n",
            "Epoch 371/500\n",
            "17/17 [==============================] - 0s 6ms/step - loss: 0.5881 - accuracy: 0.6900 - val_loss: 0.7381 - val_accuracy: 0.5367 - lr: 5.0000e-06\n",
            "Epoch 372/500\n",
            "17/17 [==============================] - 0s 7ms/step - loss: 0.5880 - accuracy: 0.6881 - val_loss: 0.7383 - val_accuracy: 0.5424 - lr: 5.0000e-06\n",
            "Epoch 373/500\n",
            "17/17 [==============================] - 0s 6ms/step - loss: 0.5880 - accuracy: 0.6881 - val_loss: 0.7383 - val_accuracy: 0.5424 - lr: 5.0000e-06\n",
            "Epoch 374/500\n",
            "17/17 [==============================] - 0s 6ms/step - loss: 0.5876 - accuracy: 0.6900 - val_loss: 0.7385 - val_accuracy: 0.5424 - lr: 5.0000e-06\n",
            "Epoch 375/500\n",
            "17/17 [==============================] - 0s 6ms/step - loss: 0.5875 - accuracy: 0.6900 - val_loss: 0.7386 - val_accuracy: 0.5424 - lr: 5.0000e-06\n",
            "Epoch 376/500\n",
            "17/17 [==============================] - 0s 5ms/step - loss: 0.5874 - accuracy: 0.6900 - val_loss: 0.7387 - val_accuracy: 0.5424 - lr: 5.0000e-06\n",
            "Epoch 377/500\n",
            "17/17 [==============================] - 0s 6ms/step - loss: 0.5873 - accuracy: 0.6919 - val_loss: 0.7388 - val_accuracy: 0.5424 - lr: 5.0000e-06\n",
            "Epoch 378/500\n",
            "17/17 [==============================] - 0s 6ms/step - loss: 0.5871 - accuracy: 0.6919 - val_loss: 0.7389 - val_accuracy: 0.5424 - lr: 5.0000e-06\n",
            "Epoch 379/500\n",
            "17/17 [==============================] - 0s 5ms/step - loss: 0.5871 - accuracy: 0.6900 - val_loss: 0.7391 - val_accuracy: 0.5424 - lr: 5.0000e-06\n",
            "Epoch 380/500\n",
            "17/17 [==============================] - 0s 6ms/step - loss: 0.5870 - accuracy: 0.6900 - val_loss: 0.7392 - val_accuracy: 0.5424 - lr: 5.0000e-06\n",
            "Epoch 381/500\n",
            "17/17 [==============================] - 0s 6ms/step - loss: 0.5867 - accuracy: 0.6919 - val_loss: 0.7393 - val_accuracy: 0.5367 - lr: 5.0000e-06\n",
            "Epoch 382/500\n",
            "17/17 [==============================] - 0s 6ms/step - loss: 0.5867 - accuracy: 0.6938 - val_loss: 0.7395 - val_accuracy: 0.5367 - lr: 5.0000e-06\n",
            "Epoch 383/500\n",
            "17/17 [==============================] - 0s 6ms/step - loss: 0.5866 - accuracy: 0.6957 - val_loss: 0.7396 - val_accuracy: 0.5254 - lr: 5.0000e-06\n",
            "Epoch 384/500\n",
            "17/17 [==============================] - 0s 6ms/step - loss: 0.5864 - accuracy: 0.6957 - val_loss: 0.7398 - val_accuracy: 0.5254 - lr: 5.0000e-06\n",
            "Epoch 385/500\n",
            "17/17 [==============================] - 0s 5ms/step - loss: 0.5863 - accuracy: 0.6938 - val_loss: 0.7400 - val_accuracy: 0.5254 - lr: 5.0000e-06\n",
            "Epoch 386/500\n",
            "17/17 [==============================] - 0s 8ms/step - loss: 0.5863 - accuracy: 0.6938 - val_loss: 0.7401 - val_accuracy: 0.5424 - lr: 5.0000e-06\n",
            "Epoch 387/500\n",
            "17/17 [==============================] - 0s 5ms/step - loss: 0.5860 - accuracy: 0.6900 - val_loss: 0.7401 - val_accuracy: 0.5367 - lr: 5.0000e-06\n",
            "Epoch 388/500\n",
            "17/17 [==============================] - 0s 5ms/step - loss: 0.5859 - accuracy: 0.6938 - val_loss: 0.7403 - val_accuracy: 0.5367 - lr: 5.0000e-06\n",
            "Epoch 389/500\n",
            "17/17 [==============================] - 0s 6ms/step - loss: 0.5858 - accuracy: 0.6957 - val_loss: 0.7403 - val_accuracy: 0.5424 - lr: 5.0000e-06\n",
            "Epoch 390/500\n",
            "17/17 [==============================] - 0s 5ms/step - loss: 0.5856 - accuracy: 0.6938 - val_loss: 0.7404 - val_accuracy: 0.5367 - lr: 5.0000e-06\n",
            "Epoch 391/500\n",
            "17/17 [==============================] - 0s 6ms/step - loss: 0.5855 - accuracy: 0.6957 - val_loss: 0.7405 - val_accuracy: 0.5367 - lr: 5.0000e-06\n",
            "Epoch 392/500\n",
            "17/17 [==============================] - 0s 6ms/step - loss: 0.5854 - accuracy: 0.6938 - val_loss: 0.7407 - val_accuracy: 0.5367 - lr: 5.0000e-06\n",
            "Epoch 393/500\n",
            "17/17 [==============================] - 0s 6ms/step - loss: 0.5852 - accuracy: 0.6938 - val_loss: 0.7409 - val_accuracy: 0.5367 - lr: 5.0000e-06\n",
            "Epoch 394/500\n",
            "17/17 [==============================] - 0s 6ms/step - loss: 0.5851 - accuracy: 0.6957 - val_loss: 0.7410 - val_accuracy: 0.5367 - lr: 5.0000e-06\n",
            "Epoch 395/500\n",
            "17/17 [==============================] - 0s 5ms/step - loss: 0.5850 - accuracy: 0.6975 - val_loss: 0.7412 - val_accuracy: 0.5367 - lr: 5.0000e-06\n",
            "Epoch 396/500\n",
            "17/17 [==============================] - 0s 6ms/step - loss: 0.5848 - accuracy: 0.6975 - val_loss: 0.7413 - val_accuracy: 0.5367 - lr: 5.0000e-06\n",
            "Epoch 397/500\n",
            "17/17 [==============================] - 0s 5ms/step - loss: 0.5848 - accuracy: 0.6975 - val_loss: 0.7413 - val_accuracy: 0.5367 - lr: 5.0000e-06\n",
            "Epoch 398/500\n",
            "17/17 [==============================] - 0s 5ms/step - loss: 0.5849 - accuracy: 0.6881 - val_loss: 0.7416 - val_accuracy: 0.5424 - lr: 5.0000e-06\n",
            "Epoch 399/500\n",
            "17/17 [==============================] - 0s 5ms/step - loss: 0.5845 - accuracy: 0.6975 - val_loss: 0.7416 - val_accuracy: 0.5311 - lr: 5.0000e-06\n",
            "Epoch 400/500\n",
            "17/17 [==============================] - 0s 6ms/step - loss: 0.5843 - accuracy: 0.6957 - val_loss: 0.7418 - val_accuracy: 0.5311 - lr: 5.0000e-06\n",
            "Epoch 401/500\n",
            "17/17 [==============================] - 0s 6ms/step - loss: 0.5842 - accuracy: 0.6975 - val_loss: 0.7420 - val_accuracy: 0.5311 - lr: 5.0000e-06\n",
            "Epoch 402/500\n",
            "17/17 [==============================] - 0s 6ms/step - loss: 0.5841 - accuracy: 0.6938 - val_loss: 0.7421 - val_accuracy: 0.5311 - lr: 5.0000e-06\n",
            "Epoch 403/500\n",
            "17/17 [==============================] - 0s 6ms/step - loss: 0.5841 - accuracy: 0.6919 - val_loss: 0.7423 - val_accuracy: 0.5198 - lr: 5.0000e-06\n",
            "Epoch 404/500\n",
            "17/17 [==============================] - 0s 6ms/step - loss: 0.5840 - accuracy: 0.6957 - val_loss: 0.7425 - val_accuracy: 0.5367 - lr: 5.0000e-06\n",
            "Epoch 405/500\n",
            "17/17 [==============================] - 0s 5ms/step - loss: 0.5837 - accuracy: 0.6957 - val_loss: 0.7426 - val_accuracy: 0.5254 - lr: 5.0000e-06\n",
            "Epoch 406/500\n",
            "17/17 [==============================] - 0s 5ms/step - loss: 0.5836 - accuracy: 0.6938 - val_loss: 0.7427 - val_accuracy: 0.5311 - lr: 5.0000e-06\n",
            "Epoch 407/500\n",
            "17/17 [==============================] - 0s 5ms/step - loss: 0.5834 - accuracy: 0.6975 - val_loss: 0.7429 - val_accuracy: 0.5311 - lr: 5.0000e-06\n",
            "Epoch 408/500\n",
            "17/17 [==============================] - 0s 5ms/step - loss: 0.5833 - accuracy: 0.6975 - val_loss: 0.7430 - val_accuracy: 0.5311 - lr: 5.0000e-06\n",
            "Epoch 409/500\n",
            "17/17 [==============================] - 0s 5ms/step - loss: 0.5833 - accuracy: 0.6975 - val_loss: 0.7431 - val_accuracy: 0.5367 - lr: 5.0000e-06\n",
            "Epoch 410/500\n",
            "17/17 [==============================] - 0s 5ms/step - loss: 0.5832 - accuracy: 0.6975 - val_loss: 0.7432 - val_accuracy: 0.5311 - lr: 5.0000e-06\n",
            "Epoch 411/500\n",
            "17/17 [==============================] - 0s 6ms/step - loss: 0.5829 - accuracy: 0.6957 - val_loss: 0.7434 - val_accuracy: 0.5311 - lr: 5.0000e-06\n",
            "Epoch 412/500\n",
            "17/17 [==============================] - 0s 5ms/step - loss: 0.5829 - accuracy: 0.6975 - val_loss: 0.7436 - val_accuracy: 0.5367 - lr: 5.0000e-06\n",
            "Epoch 413/500\n",
            "17/17 [==============================] - 0s 6ms/step - loss: 0.5827 - accuracy: 0.6975 - val_loss: 0.7438 - val_accuracy: 0.5311 - lr: 5.0000e-06\n",
            "Epoch 414/500\n",
            "17/17 [==============================] - 0s 6ms/step - loss: 0.5825 - accuracy: 0.6975 - val_loss: 0.7438 - val_accuracy: 0.5311 - lr: 5.0000e-06\n",
            "Epoch 415/500\n",
            "17/17 [==============================] - 0s 6ms/step - loss: 0.5825 - accuracy: 0.6975 - val_loss: 0.7440 - val_accuracy: 0.5367 - lr: 5.0000e-06\n",
            "Epoch 416/500\n",
            "17/17 [==============================] - 0s 6ms/step - loss: 0.5825 - accuracy: 0.6975 - val_loss: 0.7442 - val_accuracy: 0.5367 - lr: 5.0000e-06\n",
            "Epoch 417/500\n",
            "17/17 [==============================] - 0s 6ms/step - loss: 0.5821 - accuracy: 0.6975 - val_loss: 0.7443 - val_accuracy: 0.5311 - lr: 5.0000e-06\n",
            "Epoch 418/500\n",
            "17/17 [==============================] - 0s 5ms/step - loss: 0.5820 - accuracy: 0.6938 - val_loss: 0.7445 - val_accuracy: 0.5198 - lr: 5.0000e-06\n",
            "Epoch 419/500\n",
            "17/17 [==============================] - 0s 6ms/step - loss: 0.5819 - accuracy: 0.6938 - val_loss: 0.7446 - val_accuracy: 0.5311 - lr: 5.0000e-06\n",
            "Epoch 420/500\n",
            "17/17 [==============================] - 0s 8ms/step - loss: 0.5818 - accuracy: 0.6938 - val_loss: 0.7446 - val_accuracy: 0.5311 - lr: 5.0000e-06\n",
            "Epoch 421/500\n",
            "17/17 [==============================] - 0s 11ms/step - loss: 0.5817 - accuracy: 0.6957 - val_loss: 0.7449 - val_accuracy: 0.5311 - lr: 5.0000e-06\n",
            "Epoch 422/500\n",
            "17/17 [==============================] - 0s 8ms/step - loss: 0.5814 - accuracy: 0.6957 - val_loss: 0.7451 - val_accuracy: 0.5311 - lr: 5.0000e-06\n",
            "Epoch 423/500\n",
            "17/17 [==============================] - 0s 7ms/step - loss: 0.5816 - accuracy: 0.6975 - val_loss: 0.7451 - val_accuracy: 0.5367 - lr: 5.0000e-06\n",
            "Epoch 424/500\n",
            "17/17 [==============================] - 0s 7ms/step - loss: 0.5812 - accuracy: 0.6975 - val_loss: 0.7454 - val_accuracy: 0.5311 - lr: 5.0000e-06\n",
            "Epoch 425/500\n",
            "17/17 [==============================] - 0s 7ms/step - loss: 0.5812 - accuracy: 0.6957 - val_loss: 0.7455 - val_accuracy: 0.5141 - lr: 5.0000e-06\n",
            "Epoch 426/500\n",
            "17/17 [==============================] - 0s 8ms/step - loss: 0.5811 - accuracy: 0.6975 - val_loss: 0.7456 - val_accuracy: 0.5254 - lr: 5.0000e-06\n",
            "Epoch 427/500\n",
            "17/17 [==============================] - 0s 6ms/step - loss: 0.5810 - accuracy: 0.7013 - val_loss: 0.7457 - val_accuracy: 0.5141 - lr: 5.0000e-06\n",
            "Epoch 428/500\n",
            "17/17 [==============================] - 0s 7ms/step - loss: 0.5808 - accuracy: 0.6975 - val_loss: 0.7458 - val_accuracy: 0.5311 - lr: 5.0000e-06\n",
            "Epoch 429/500\n",
            "17/17 [==============================] - 0s 8ms/step - loss: 0.5807 - accuracy: 0.6938 - val_loss: 0.7460 - val_accuracy: 0.5254 - lr: 5.0000e-06\n",
            "Epoch 430/500\n",
            "17/17 [==============================] - 0s 7ms/step - loss: 0.5806 - accuracy: 0.6994 - val_loss: 0.7462 - val_accuracy: 0.5311 - lr: 5.0000e-06\n",
            "Epoch 431/500\n",
            "17/17 [==============================] - 0s 8ms/step - loss: 0.5804 - accuracy: 0.6994 - val_loss: 0.7463 - val_accuracy: 0.5311 - lr: 5.0000e-06\n",
            "Epoch 432/500\n",
            "17/17 [==============================] - 0s 6ms/step - loss: 0.5804 - accuracy: 0.6957 - val_loss: 0.7465 - val_accuracy: 0.5311 - lr: 5.0000e-06\n",
            "Epoch 433/500\n",
            "17/17 [==============================] - 0s 7ms/step - loss: 0.5803 - accuracy: 0.6975 - val_loss: 0.7467 - val_accuracy: 0.5311 - lr: 5.0000e-06\n",
            "Epoch 434/500\n",
            "17/17 [==============================] - 0s 9ms/step - loss: 0.5801 - accuracy: 0.6994 - val_loss: 0.7467 - val_accuracy: 0.5254 - lr: 5.0000e-06\n",
            "Epoch 435/500\n",
            "17/17 [==============================] - 0s 9ms/step - loss: 0.5799 - accuracy: 0.7013 - val_loss: 0.7469 - val_accuracy: 0.5311 - lr: 5.0000e-06\n",
            "Epoch 436/500\n",
            "17/17 [==============================] - 0s 9ms/step - loss: 0.5798 - accuracy: 0.6994 - val_loss: 0.7470 - val_accuracy: 0.5254 - lr: 5.0000e-06\n",
            "Epoch 437/500\n",
            "17/17 [==============================] - 0s 8ms/step - loss: 0.5800 - accuracy: 0.7032 - val_loss: 0.7472 - val_accuracy: 0.5141 - lr: 5.0000e-06\n",
            "Epoch 438/500\n",
            "17/17 [==============================] - 0s 9ms/step - loss: 0.5795 - accuracy: 0.6994 - val_loss: 0.7473 - val_accuracy: 0.5198 - lr: 5.0000e-06\n",
            "Epoch 439/500\n",
            "17/17 [==============================] - 0s 7ms/step - loss: 0.5795 - accuracy: 0.7013 - val_loss: 0.7474 - val_accuracy: 0.5311 - lr: 5.0000e-06\n",
            "Epoch 440/500\n",
            "17/17 [==============================] - 0s 7ms/step - loss: 0.5794 - accuracy: 0.6957 - val_loss: 0.7476 - val_accuracy: 0.5311 - lr: 5.0000e-06\n",
            "Epoch 441/500\n",
            "17/17 [==============================] - 0s 7ms/step - loss: 0.5792 - accuracy: 0.6957 - val_loss: 0.7477 - val_accuracy: 0.5311 - lr: 5.0000e-06\n",
            "Epoch 442/500\n",
            "17/17 [==============================] - 0s 6ms/step - loss: 0.5794 - accuracy: 0.6957 - val_loss: 0.7478 - val_accuracy: 0.5311 - lr: 5.0000e-06\n",
            "Epoch 443/500\n",
            "17/17 [==============================] - 0s 6ms/step - loss: 0.5790 - accuracy: 0.6957 - val_loss: 0.7479 - val_accuracy: 0.5311 - lr: 5.0000e-06\n",
            "Epoch 444/500\n",
            "17/17 [==============================] - 0s 8ms/step - loss: 0.5790 - accuracy: 0.6957 - val_loss: 0.7481 - val_accuracy: 0.5141 - lr: 5.0000e-06\n",
            "Epoch 445/500\n",
            "17/17 [==============================] - 0s 11ms/step - loss: 0.5788 - accuracy: 0.6994 - val_loss: 0.7482 - val_accuracy: 0.5198 - lr: 5.0000e-06\n",
            "Epoch 446/500\n",
            "17/17 [==============================] - 0s 9ms/step - loss: 0.5787 - accuracy: 0.6994 - val_loss: 0.7483 - val_accuracy: 0.5311 - lr: 5.0000e-06\n",
            "Epoch 447/500\n",
            "17/17 [==============================] - 0s 8ms/step - loss: 0.5785 - accuracy: 0.6994 - val_loss: 0.7485 - val_accuracy: 0.5198 - lr: 5.0000e-06\n",
            "Epoch 448/500\n",
            "17/17 [==============================] - 0s 7ms/step - loss: 0.5783 - accuracy: 0.7032 - val_loss: 0.7487 - val_accuracy: 0.5198 - lr: 5.0000e-06\n",
            "Epoch 449/500\n",
            "17/17 [==============================] - 0s 8ms/step - loss: 0.5782 - accuracy: 0.7013 - val_loss: 0.7487 - val_accuracy: 0.5198 - lr: 5.0000e-06\n",
            "Epoch 450/500\n",
            "17/17 [==============================] - 0s 8ms/step - loss: 0.5781 - accuracy: 0.7013 - val_loss: 0.7489 - val_accuracy: 0.5254 - lr: 5.0000e-06\n",
            "Epoch 451/500\n",
            "17/17 [==============================] - 0s 8ms/step - loss: 0.5780 - accuracy: 0.6975 - val_loss: 0.7490 - val_accuracy: 0.5141 - lr: 5.0000e-06\n",
            "Epoch 452/500\n",
            "17/17 [==============================] - 0s 8ms/step - loss: 0.5778 - accuracy: 0.7013 - val_loss: 0.7491 - val_accuracy: 0.5141 - lr: 5.0000e-06\n",
            "Epoch 453/500\n",
            "17/17 [==============================] - 0s 9ms/step - loss: 0.5777 - accuracy: 0.6994 - val_loss: 0.7493 - val_accuracy: 0.5254 - lr: 5.0000e-06\n",
            "Epoch 454/500\n",
            "17/17 [==============================] - 0s 9ms/step - loss: 0.5776 - accuracy: 0.7013 - val_loss: 0.7494 - val_accuracy: 0.5198 - lr: 5.0000e-06\n",
            "Epoch 455/500\n",
            "17/17 [==============================] - 0s 8ms/step - loss: 0.5775 - accuracy: 0.7032 - val_loss: 0.7495 - val_accuracy: 0.5141 - lr: 5.0000e-06\n",
            "Epoch 456/500\n",
            "17/17 [==============================] - 0s 8ms/step - loss: 0.5774 - accuracy: 0.7013 - val_loss: 0.7497 - val_accuracy: 0.5198 - lr: 5.0000e-06\n",
            "Epoch 457/500\n",
            "17/17 [==============================] - 0s 8ms/step - loss: 0.5772 - accuracy: 0.7013 - val_loss: 0.7499 - val_accuracy: 0.5198 - lr: 5.0000e-06\n",
            "Epoch 458/500\n",
            "17/17 [==============================] - 0s 8ms/step - loss: 0.5771 - accuracy: 0.7032 - val_loss: 0.7500 - val_accuracy: 0.5311 - lr: 5.0000e-06\n",
            "Epoch 459/500\n",
            "17/17 [==============================] - 0s 11ms/step - loss: 0.5770 - accuracy: 0.6994 - val_loss: 0.7501 - val_accuracy: 0.5311 - lr: 5.0000e-06\n",
            "Epoch 460/500\n",
            "17/17 [==============================] - 0s 5ms/step - loss: 0.5768 - accuracy: 0.7013 - val_loss: 0.7502 - val_accuracy: 0.5198 - lr: 5.0000e-06\n",
            "Epoch 461/500\n",
            "17/17 [==============================] - 0s 5ms/step - loss: 0.5767 - accuracy: 0.7032 - val_loss: 0.7504 - val_accuracy: 0.5198 - lr: 5.0000e-06\n",
            "Epoch 462/500\n",
            "17/17 [==============================] - 0s 5ms/step - loss: 0.5766 - accuracy: 0.7013 - val_loss: 0.7505 - val_accuracy: 0.5141 - lr: 5.0000e-06\n",
            "Epoch 463/500\n",
            "17/17 [==============================] - 0s 6ms/step - loss: 0.5765 - accuracy: 0.7013 - val_loss: 0.7507 - val_accuracy: 0.5028 - lr: 5.0000e-06\n",
            "Epoch 464/500\n",
            "17/17 [==============================] - 0s 5ms/step - loss: 0.5765 - accuracy: 0.7051 - val_loss: 0.7508 - val_accuracy: 0.5085 - lr: 5.0000e-06\n",
            "Epoch 465/500\n",
            "17/17 [==============================] - 0s 5ms/step - loss: 0.5764 - accuracy: 0.7051 - val_loss: 0.7509 - val_accuracy: 0.5141 - lr: 5.0000e-06\n",
            "Epoch 466/500\n",
            "17/17 [==============================] - 0s 6ms/step - loss: 0.5762 - accuracy: 0.7032 - val_loss: 0.7511 - val_accuracy: 0.5085 - lr: 5.0000e-06\n",
            "Epoch 467/500\n",
            "17/17 [==============================] - 0s 6ms/step - loss: 0.5761 - accuracy: 0.7013 - val_loss: 0.7512 - val_accuracy: 0.5028 - lr: 5.0000e-06\n",
            "Epoch 468/500\n",
            "17/17 [==============================] - 0s 5ms/step - loss: 0.5759 - accuracy: 0.7013 - val_loss: 0.7513 - val_accuracy: 0.5085 - lr: 5.0000e-06\n",
            "Epoch 469/500\n",
            "17/17 [==============================] - 0s 8ms/step - loss: 0.5758 - accuracy: 0.7013 - val_loss: 0.7515 - val_accuracy: 0.5085 - lr: 5.0000e-06\n",
            "Epoch 470/500\n",
            "17/17 [==============================] - 0s 6ms/step - loss: 0.5757 - accuracy: 0.7013 - val_loss: 0.7517 - val_accuracy: 0.5085 - lr: 5.0000e-06\n",
            "Epoch 471/500\n",
            "17/17 [==============================] - 0s 6ms/step - loss: 0.5755 - accuracy: 0.7013 - val_loss: 0.7517 - val_accuracy: 0.5085 - lr: 5.0000e-06\n",
            "Epoch 472/500\n",
            "17/17 [==============================] - 0s 5ms/step - loss: 0.5754 - accuracy: 0.7013 - val_loss: 0.7519 - val_accuracy: 0.5028 - lr: 5.0000e-06\n",
            "Epoch 473/500\n",
            "17/17 [==============================] - 0s 5ms/step - loss: 0.5754 - accuracy: 0.7032 - val_loss: 0.7520 - val_accuracy: 0.5141 - lr: 5.0000e-06\n",
            "Epoch 474/500\n",
            "17/17 [==============================] - 0s 5ms/step - loss: 0.5753 - accuracy: 0.7051 - val_loss: 0.7521 - val_accuracy: 0.5141 - lr: 5.0000e-06\n",
            "Epoch 475/500\n",
            "17/17 [==============================] - 0s 5ms/step - loss: 0.5751 - accuracy: 0.7032 - val_loss: 0.7523 - val_accuracy: 0.5141 - lr: 5.0000e-06\n",
            "Epoch 476/500\n",
            "17/17 [==============================] - 0s 5ms/step - loss: 0.5749 - accuracy: 0.7051 - val_loss: 0.7524 - val_accuracy: 0.5085 - lr: 5.0000e-06\n",
            "Epoch 477/500\n",
            "17/17 [==============================] - 0s 6ms/step - loss: 0.5748 - accuracy: 0.7013 - val_loss: 0.7524 - val_accuracy: 0.4972 - lr: 5.0000e-06\n",
            "Epoch 478/500\n",
            "17/17 [==============================] - 0s 6ms/step - loss: 0.5747 - accuracy: 0.7013 - val_loss: 0.7527 - val_accuracy: 0.5028 - lr: 5.0000e-06\n",
            "Epoch 479/500\n",
            "17/17 [==============================] - 0s 7ms/step - loss: 0.5747 - accuracy: 0.7013 - val_loss: 0.7527 - val_accuracy: 0.5085 - lr: 5.0000e-06\n",
            "Epoch 480/500\n",
            "17/17 [==============================] - 0s 6ms/step - loss: 0.5747 - accuracy: 0.7051 - val_loss: 0.7528 - val_accuracy: 0.5198 - lr: 5.0000e-06\n",
            "Epoch 481/500\n",
            "17/17 [==============================] - 0s 6ms/step - loss: 0.5742 - accuracy: 0.7032 - val_loss: 0.7530 - val_accuracy: 0.5028 - lr: 5.0000e-06\n",
            "Epoch 482/500\n",
            "17/17 [==============================] - 0s 6ms/step - loss: 0.5743 - accuracy: 0.7070 - val_loss: 0.7531 - val_accuracy: 0.5028 - lr: 5.0000e-06\n",
            "Epoch 483/500\n",
            "17/17 [==============================] - 0s 6ms/step - loss: 0.5743 - accuracy: 0.7032 - val_loss: 0.7531 - val_accuracy: 0.5028 - lr: 5.0000e-06\n",
            "Epoch 484/500\n",
            "17/17 [==============================] - 0s 6ms/step - loss: 0.5740 - accuracy: 0.7013 - val_loss: 0.7532 - val_accuracy: 0.5028 - lr: 5.0000e-06\n",
            "Epoch 485/500\n",
            "17/17 [==============================] - 0s 6ms/step - loss: 0.5738 - accuracy: 0.7051 - val_loss: 0.7534 - val_accuracy: 0.5028 - lr: 5.0000e-06\n",
            "Epoch 486/500\n",
            "17/17 [==============================] - 0s 6ms/step - loss: 0.5738 - accuracy: 0.7051 - val_loss: 0.7535 - val_accuracy: 0.5028 - lr: 5.0000e-06\n",
            "Epoch 487/500\n",
            "17/17 [==============================] - 0s 5ms/step - loss: 0.5737 - accuracy: 0.7032 - val_loss: 0.7536 - val_accuracy: 0.5028 - lr: 5.0000e-06\n",
            "Epoch 488/500\n",
            "17/17 [==============================] - 0s 7ms/step - loss: 0.5736 - accuracy: 0.7051 - val_loss: 0.7537 - val_accuracy: 0.5028 - lr: 5.0000e-06\n",
            "Epoch 489/500\n",
            "17/17 [==============================] - 0s 5ms/step - loss: 0.5734 - accuracy: 0.7051 - val_loss: 0.7539 - val_accuracy: 0.5085 - lr: 5.0000e-06\n",
            "Epoch 490/500\n",
            "17/17 [==============================] - 0s 6ms/step - loss: 0.5732 - accuracy: 0.7032 - val_loss: 0.7540 - val_accuracy: 0.5028 - lr: 5.0000e-06\n",
            "Epoch 491/500\n",
            "17/17 [==============================] - 0s 5ms/step - loss: 0.5733 - accuracy: 0.7070 - val_loss: 0.7541 - val_accuracy: 0.5141 - lr: 5.0000e-06\n",
            "Epoch 492/500\n",
            "17/17 [==============================] - 0s 5ms/step - loss: 0.5730 - accuracy: 0.7089 - val_loss: 0.7543 - val_accuracy: 0.5085 - lr: 5.0000e-06\n",
            "Epoch 493/500\n",
            "17/17 [==============================] - 0s 6ms/step - loss: 0.5729 - accuracy: 0.7032 - val_loss: 0.7544 - val_accuracy: 0.5028 - lr: 5.0000e-06\n",
            "Epoch 494/500\n",
            "17/17 [==============================] - 0s 5ms/step - loss: 0.5728 - accuracy: 0.7051 - val_loss: 0.7545 - val_accuracy: 0.5085 - lr: 5.0000e-06\n",
            "Epoch 495/500\n",
            "17/17 [==============================] - 0s 5ms/step - loss: 0.5727 - accuracy: 0.7051 - val_loss: 0.7546 - val_accuracy: 0.5028 - lr: 5.0000e-06\n",
            "Epoch 496/500\n",
            "17/17 [==============================] - 0s 6ms/step - loss: 0.5725 - accuracy: 0.7051 - val_loss: 0.7546 - val_accuracy: 0.5085 - lr: 5.0000e-06\n",
            "Epoch 497/500\n",
            "17/17 [==============================] - 0s 5ms/step - loss: 0.5724 - accuracy: 0.7051 - val_loss: 0.7548 - val_accuracy: 0.5028 - lr: 5.0000e-06\n",
            "Epoch 498/500\n",
            "17/17 [==============================] - 0s 6ms/step - loss: 0.5723 - accuracy: 0.7032 - val_loss: 0.7549 - val_accuracy: 0.5028 - lr: 5.0000e-06\n",
            "Epoch 499/500\n",
            "17/17 [==============================] - 0s 5ms/step - loss: 0.5723 - accuracy: 0.7070 - val_loss: 0.7550 - val_accuracy: 0.5028 - lr: 5.0000e-06\n",
            "Epoch 500/500\n",
            "17/17 [==============================] - 0s 6ms/step - loss: 0.5721 - accuracy: 0.7051 - val_loss: 0.7552 - val_accuracy: 0.5028 - lr: 5.0000e-06\n",
            "\n",
            "time: 1min 29s (started: 2023-09-25 22:22:01 +00:00)\n"
          ]
        }
      ]
    },
    {
      "cell_type": "code",
      "source": [
        "cnn_feats_history_pd = pd.DataFrame(train_res.history)\n",
        "title = f'{epochs} Epochs \\ {optimizer_name} \\ {learning_rate:.10f}'\n",
        "cnn_feats_history_pd[['loss','val_loss']].plot(title=title,xlabel='steps', ylabel='loss')\n",
        "plt.show()"
      ],
      "metadata": {
        "id": "VrqJSs9L1L3P",
        "colab": {
          "base_uri": "https://localhost:8080/",
          "height": 490
        },
        "outputId": "747cd247-0ac6-412b-8296-81f31a888b6a"
      },
      "execution_count": 469,
      "outputs": [
        {
          "output_type": "display_data",
          "data": {
            "text/plain": [
              "<Figure size 640x480 with 1 Axes>"
            ],
            "image/png": "[encoded data removed]"
          },
          "metadata": {}
        },
        {
          "output_type": "stream",
          "name": "stdout",
          "text": [
            "time: 306 ms (started: 2023-09-25 22:23:34 +00:00)\n"
          ]
        }
      ]
    },
    {
      "cell_type": "code",
      "source": [
        "title = f'{epochs} Epochs \\ {optimizer_name} \\ {learning_rate:.10f}'\n",
        "cnn_feats_history_pd[['accuracy','val_accuracy']].plot(title=title,xlabel='steps', ylabel='accuracy')\n",
        "plt.show()"
      ],
      "metadata": {
        "id": "3iSZo6sr3nqz",
        "colab": {
          "base_uri": "https://localhost:8080/",
          "height": 490
        },
        "outputId": "b5d26028-ff1a-47ba-b419-033ed410447c"
      },
      "execution_count": 470,
      "outputs": [
        {
          "output_type": "display_data",
          "data": {
            "text/plain": [
              "<Figure size 640x480 with 1 Axes>"
            ],
            "image/png": "[encoded data removed]"
          },
          "metadata": {}
        },
        {
          "output_type": "stream",
          "name": "stdout",
          "text": [
            "time: 592 ms (started: 2023-09-25 22:23:40 +00:00)\n"
          ]
        }
      ]
    },
    {
      "cell_type": "code",
      "source": [
        "test_accuracy = model.evaluate(X_test, y_test,\n",
        "  # batch_size=num_batch_size,\n",
        "  verbose=0)\n",
        "print(test_accuracy)"
      ],
      "metadata": {
        "id": "pr9CU8ynBZz9",
        "colab": {
          "base_uri": "https://localhost:8080/"
        },
        "outputId": "c7bea2fe-814e-4a1f-f6d9-f908fc52ac54"
      },
      "execution_count": 471,
      "outputs": [
        {
          "output_type": "stream",
          "name": "stdout",
          "text": [
            "[0.7551520466804504, 0.5028248429298401]\n",
            "time: 118 ms (started: 2023-09-25 22:23:44 +00:00)\n"
          ]
        }
      ]
    },
    {
      "cell_type": "code",
      "source": [
        "y_probs = model.predict(X_test)"
      ],
      "metadata": {
        "id": "oYlNaxexBZz9",
        "colab": {
          "base_uri": "https://localhost:8080/"
        },
        "outputId": "bd1ccdb4-b95c-4693-b1d9-4d536482cbb9"
      },
      "execution_count": 472,
      "outputs": [
        {
          "output_type": "stream",
          "name": "stdout",
          "text": [
            "6/6 [==============================] - 0s 3ms/step\n",
            "time: 245 ms (started: 2023-09-25 22:23:48 +00:00)\n"
          ]
        }
      ]
    },
    {
      "cell_type": "code",
      "source": [
        "y_predicted = np.argmax(y_probs, axis=-1)\n",
        "print(y_predicted)"
      ],
      "metadata": {
        "id": "JparjB14BZz9",
        "colab": {
          "base_uri": "https://localhost:8080/"
        },
        "outputId": "0eb65799-4e88-42d0-ef95-81876fe9a6ea"
      },
      "execution_count": 473,
      "outputs": [
        {
          "output_type": "stream",
          "name": "stdout",
          "text": [
            "[1 1 1 1 1 0 0 1 1 0 0 1 1 1 1 0 1 1 0 1 1 1 1 1 1 1 1 1 1 1 0 1 1 1 0 1 0\n",
            " 1 1 0 1 1 1 1 0 0 1 0 0 1 0 1 0 1 1 1 1 0 1 1 1 0 1 1 0 1 1 0 0 1 1 1 1 1\n",
            " 1 0 1 0 1 1 0 1 1 1 1 1 1 1 1 0 1 0 1 1 1 0 1 0 1 0 1 1 1 1 1 1 1 0 1 1 0\n",
            " 1 0 0 1 0 1 1 1 0 1 1 1 1 1 1 1 0 1 0 1 0 1 1 1 1 1 0 1 1 0 0 1 0 0 1 0 1\n",
            " 1 1 1 1 1 0 0 1 0 1 1 1 1 0 1 1 1 0 1 1 1 0 1 1 1 1 1 1 1]\n",
            "time: 1.51 ms (started: 2023-09-25 22:23:54 +00:00)\n"
          ]
        }
      ]
    },
    {
      "cell_type": "code",
      "source": [
        "# notice the y_test and not cat\n",
        "print(metrics.classification_report(y_test, y_predicted, digits=4, target_names=['no-death','death']))"
      ],
      "metadata": {
        "id": "RRRXklenBZz9",
        "colab": {
          "base_uri": "https://localhost:8080/"
        },
        "outputId": "c235f41f-a0ad-44fa-bd62-253e0bee837b"
      },
      "execution_count": 474,
      "outputs": [
        {
          "output_type": "stream",
          "name": "stdout",
          "text": [
            "              precision    recall  f1-score   support\n",
            "\n",
            "    no-death     0.3400    0.2361    0.2787        72\n",
            "       death     0.5669    0.6857    0.6207       105\n",
            "\n",
            "    accuracy                         0.5028       177\n",
            "   macro avg     0.4535    0.4609    0.4497       177\n",
            "weighted avg     0.4746    0.5028    0.4816       177\n",
            "\n",
            "time: 16.3 ms (started: 2023-09-25 22:23:55 +00:00)\n"
          ]
        }
      ]
    },
    {
      "cell_type": "code",
      "source": [
        "deep_feats_cm = metrics.confusion_matrix(y_test, y_predicted)"
      ],
      "metadata": {
        "id": "O8jyng7UB-Wz",
        "colab": {
          "base_uri": "https://localhost:8080/"
        },
        "outputId": "78f1ece2-f127-4c7c-e0dc-c3a547c5f1de"
      },
      "execution_count": 459,
      "outputs": [
        {
          "output_type": "stream",
          "name": "stdout",
          "text": [
            "time: 2.98 ms (started: 2023-09-25 22:18:42 +00:00)\n"
          ]
        }
      ]
    },
    {
      "cell_type": "code",
      "source": [
        "ax = sns.heatmap(deep_feats_cm, annot=True, linewidths=0.01, cmap=\"Greens\", linecolor=\"gray\", fmt='g')\n",
        "\n",
        "ax.set_xlabel(\"\\nPredicted Label\")\n",
        "ax.set_ylabel(\"True Label\\n\")\n",
        "\n",
        "ax.xaxis.set_ticklabels(['Non-Fatal','Fatal'])\n",
        "ax.yaxis.set_ticklabels(['Non-Fatal','Fatal'])\n",
        "\n",
        "\n",
        "ax.set_title(\"Confusion matrix for deep features neural network\\n\")\n",
        "\n",
        "plt.show()\n",
        "\n",
        "sensitivity1 = deep_feats_cm[0,0]/(deep_feats_cm[0,0]+deep_feats_cm[0,1])\n",
        "print('Sensitivity : ', sensitivity1 )\n",
        "\n",
        "specificity1 = deep_feats_cm[1,1]/(deep_feats_cm[1,0]+deep_feats_cm[1,1])\n",
        "print('Specificity : ', specificity1)"
      ],
      "metadata": {
        "id": "ZckFbGd84H1s",
        "colab": {
          "base_uri": "https://localhost:8080/",
          "height": 562
        },
        "outputId": "0e1066fc-309c-49df-95aa-459fb09b0a40"
      },
      "execution_count": 460,
      "outputs": [
        {
          "output_type": "display_data",
          "data": {
            "text/plain": [
              "<Figure size 640x480 with 2 Axes>"
            ],
            "image/png": "[encoded data removed]"
          },
          "metadata": {}
        },
        {
          "output_type": "stream",
          "name": "stdout",
          "text": [
            "Sensitivity :  0.3472222222222222\n",
            "Specificity :  0.6857142857142857\n",
            "time: 259 ms (started: 2023-09-25 22:18:44 +00:00)\n"
          ]
        }
      ]
    },
    {
      "cell_type": "markdown",
      "source": [
        "# Model Train - Evened-out Classes"
      ],
      "metadata": {
        "id": "z931O-50kWue"
      }
    },
    {
      "cell_type": "code",
      "source": [
        "classes = classes_named['resulted_in_deaths']\n",
        "print(classes.value_counts())"
      ],
      "metadata": {
        "colab": {
          "base_uri": "https://localhost:8080/"
        },
        "id": "hp43SDFCnB-0",
        "outputId": "a05a90ed-4512-4b80-d51c-a4f242d4b1d0"
      },
      "execution_count": null,
      "outputs": [
        {
          "output_type": "stream",
          "name": "stdout",
          "text": [
            "1    418\n",
            "0    288\n",
            "Name: resulted_in_deaths, dtype: int64\n",
            "time: 4.8 ms (started: 2023-09-25 17:54:04 +00:00)\n"
          ]
        }
      ]
    },
    {
      "cell_type": "code",
      "source": [
        "# Create classification\n",
        "num_of_non_death = classes.value_counts()[0]\n",
        "t = classes[classes == 1].sample(num_of_non_death)\n",
        "evened_classes = pd.concat([t, classes[classes == 0]])\n",
        "print(evened_classes.value_counts())\n",
        "evened_classes"
      ],
      "metadata": {
        "colab": {
          "base_uri": "https://localhost:8080/"
        },
        "outputId": "5d3e0a4f-f323-4e60-a49d-d7069a924f61",
        "id": "o0ILNB8P9neA"
      },
      "execution_count": null,
      "outputs": [
        {
          "output_type": "stream",
          "name": "stdout",
          "text": [
            "1    288\n",
            "0    288\n",
            "Name: resulted_in_deaths, dtype: int64\n"
          ]
        },
        {
          "output_type": "execute_result",
          "data": {
            "text/plain": [
              "415    1\n",
              "340    1\n",
              "540    1\n",
              "195    1\n",
              "311    1\n",
              "      ..\n",
              "687    0\n",
              "693    0\n",
              "701    0\n",
              "702    0\n",
              "705    0\n",
              "Name: resulted_in_deaths, Length: 576, dtype: int64"
            ]
          },
          "metadata": {},
          "execution_count": 96
        },
        {
          "output_type": "stream",
          "name": "stdout",
          "text": [
            "time: 1.55 s (started: 2023-09-25 17:55:38 +00:00)\n"
          ]
        }
      ]
    }
  ]
}