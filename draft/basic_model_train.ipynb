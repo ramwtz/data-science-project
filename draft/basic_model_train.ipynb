{
  "nbformat": 4,
  "nbformat_minor": 0,
  "metadata": {
    "colab": {
      "provenance": [],
      "collapsed_sections": [
        "_q5b3nG_pLQ2",
        "MYDYr2dXuW8v",
        "HTZJEt9I0ArV",
        "r_o5mXRe6rTU"
      ]
    },
    "kernelspec": {
      "name": "python3",
      "display_name": "Python 3"
    },
    "language_info": {
      "name": "python"
    }
  },
  "cells": [
    {
      "cell_type": "markdown",
      "source": [
        "# Git Repository Bringup"
      ],
      "metadata": {
        "id": "fHo3M0LL_ROe"
      }
    },
    {
      "cell_type": "code",
      "source": [
        "!git version"
      ],
      "metadata": {
        "colab": {
          "base_uri": "https://localhost:8080/"
        },
        "id": "KafsLa2z8ALj",
        "outputId": "7bc3ce27-c2dd-4756-9bd0-802df3044983"
      },
      "execution_count": 104,
      "outputs": [
        {
          "output_type": "stream",
          "name": "stdout",
          "text": [
            "git version 2.34.1\n",
            "time: 107 ms (started: 2023-09-26 10:13:29 +00:00)\n"
          ]
        }
      ]
    },
    {
      "cell_type": "code",
      "source": [
        "!git clone https://github.com/ramwtz/data-science-project.git"
      ],
      "metadata": {
        "colab": {
          "base_uri": "https://localhost:8080/"
        },
        "id": "MvDOev_38vZw",
        "outputId": "0541a382-5f4d-4efe-ad14-e87de60e36a3"
      },
      "execution_count": 105,
      "outputs": [
        {
          "output_type": "stream",
          "name": "stdout",
          "text": [
            "fatal: destination path 'data-science-project' already exists and is not an empty directory.\n",
            "time: 107 ms (started: 2023-09-26 10:13:30 +00:00)\n"
          ]
        }
      ]
    },
    {
      "cell_type": "code",
      "source": [
        "!ls"
      ],
      "metadata": {
        "colab": {
          "base_uri": "https://localhost:8080/"
        },
        "id": "8fE-lpOF80Dr",
        "outputId": "c16aec9d-a6ca-4b8b-d57d-d32ce20f0e13"
      },
      "execution_count": 106,
      "outputs": [
        {
          "output_type": "stream",
          "name": "stdout",
          "text": [
            "data-science-project  drive  sample_data\n",
            "time: 105 ms (started: 2023-09-26 10:13:30 +00:00)\n"
          ]
        }
      ]
    },
    {
      "cell_type": "code",
      "source": [
        "%cd data-science-project/"
      ],
      "metadata": {
        "colab": {
          "base_uri": "https://localhost:8080/"
        },
        "id": "bi3CTOvT86iy",
        "outputId": "36cb198c-31a4-48e2-9913-e9648963238f"
      },
      "execution_count": 107,
      "outputs": [
        {
          "output_type": "stream",
          "name": "stdout",
          "text": [
            "/content/data-science-project\n",
            "time: 2.56 ms (started: 2023-09-26 10:13:30 +00:00)\n"
          ]
        }
      ]
    },
    {
      "cell_type": "code",
      "source": [
        "!pwd"
      ],
      "metadata": {
        "colab": {
          "base_uri": "https://localhost:8080/"
        },
        "id": "o-Y_VO-79Htx",
        "outputId": "88f962a3-eb92-45cc-eca2-656ffd989372"
      },
      "execution_count": 108,
      "outputs": [
        {
          "output_type": "stream",
          "name": "stdout",
          "text": [
            "/content/data-science-project\n",
            "time: 105 ms (started: 2023-09-26 10:13:30 +00:00)\n"
          ]
        }
      ]
    },
    {
      "cell_type": "code",
      "source": [
        "!git switch dev/ram"
      ],
      "metadata": {
        "colab": {
          "base_uri": "https://localhost:8080/"
        },
        "id": "r4EAABzL9Loj",
        "outputId": "39afa9e4-c4ed-40bb-8ec3-0ba6ef30675a"
      },
      "execution_count": 109,
      "outputs": [
        {
          "output_type": "stream",
          "name": "stdout",
          "text": [
            "Already on 'dev/ram'\n",
            "Your branch is up to date with 'origin/dev/ram'.\n",
            "time: 105 ms (started: 2023-09-26 10:13:30 +00:00)\n"
          ]
        }
      ]
    },
    {
      "cell_type": "code",
      "source": [
        "%cd .."
      ],
      "metadata": {
        "id": "O-zkQbWh-sA1",
        "outputId": "67024fd5-0ed0-4194-ea02-b4abb232494d",
        "colab": {
          "base_uri": "https://localhost:8080/"
        }
      },
      "execution_count": 110,
      "outputs": [
        {
          "output_type": "stream",
          "name": "stdout",
          "text": [
            "/content\n",
            "time: 2.03 ms (started: 2023-09-26 10:13:30 +00:00)\n"
          ]
        }
      ]
    },
    {
      "cell_type": "markdown",
      "source": [
        "# Basic Bringup for Remote Envrionment"
      ],
      "metadata": {
        "id": "JPVMPUUUo2UP"
      }
    },
    {
      "cell_type": "code",
      "source": [
        "from google.colab import drive\n",
        "drive.mount('/content/drive')"
      ],
      "metadata": {
        "id": "aQs8AozzPWrB",
        "outputId": "e46d2b49-a620-44eb-87ea-985b443e09c1",
        "colab": {
          "base_uri": "https://localhost:8080/"
        }
      },
      "execution_count": 111,
      "outputs": [
        {
          "output_type": "stream",
          "name": "stdout",
          "text": [
            "Drive already mounted at /content/drive; to attempt to forcibly remount, call drive.mount(\"/content/drive\", force_remount=True).\n",
            "time: 1.92 s (started: 2023-09-26 10:13:32 +00:00)\n"
          ]
        }
      ]
    },
    {
      "cell_type": "code",
      "source": [
        "# Necessary packages for this nb\n",
        "!pip install --quiet -r '/content/data-science-project/dependencies.txt'"
      ],
      "metadata": {
        "id": "blDntGCvK0pM",
        "colab": {
          "base_uri": "https://localhost:8080/"
        },
        "outputId": "5987c6cf-218b-4214-d606-2898c6a68aed"
      },
      "execution_count": 112,
      "outputs": [
        {
          "output_type": "stream",
          "name": "stdout",
          "text": [
            "time: 7.43 s (started: 2023-09-26 10:13:34 +00:00)\n"
          ]
        }
      ]
    },
    {
      "cell_type": "markdown",
      "source": [
        "# Initialize Env"
      ],
      "metadata": {
        "id": "_q5b3nG_pLQ2"
      }
    },
    {
      "cell_type": "code",
      "execution_count": 289,
      "metadata": {
        "id": "S2PBoyn8PpqC",
        "colab": {
          "base_uri": "https://localhost:8080/"
        },
        "outputId": "a6c6eb91-8e43-4b2c-fb7e-2e9c856e673d"
      },
      "outputs": [
        {
          "output_type": "stream",
          "name": "stdout",
          "text": [
            "The autotime extension is already loaded. To reload it, use:\n",
            "  %reload_ext autotime\n",
            "time: 11.2 ms (started: 2023-09-26 11:31:52 +00:00)\n"
          ]
        }
      ],
      "source": [
        "# Imports\n",
        "import os\n",
        "import pandas as pd\n",
        "import numpy as np\n",
        "import matplotlib.pyplot as plt\n",
        "import matplotlib.patches as mpatches\n",
        "import librosa as lbrs\n",
        "import IPython\n",
        "import IPython.display as ipd\n",
        "import seaborn as sns\n",
        "from tqdm import tqdm\n",
        "from sklearn.model_selection import train_test_split\n",
        "from tensorflow.keras import models, layers, optimizers, callbacks\n",
        "from sklearn import metrics\n",
        "from scipy import fft\n",
        "from tensorflow.keras.utils import plot_model\n",
        "\n",
        "# Configs\n",
        "%load_ext autotime\n",
        "tqdm.pandas()"
      ]
    },
    {
      "cell_type": "code",
      "source": [
        "gen_data_dir = os.path.join('drive', 'MyDrive', 'project', 'data')\n",
        "calls_dir = os.path.join(gen_data_dir, 'calls')\n",
        "new_data_dir = os.path.join(gen_data_dir, 'new')\n",
        "\n",
        "#\n",
        "metadata_path = os.path.join(calls_dir, '911_first6sec', '911_metadata_6sec.csv')"
      ],
      "metadata": {
        "id": "z8f4V1ZtQP2Q",
        "colab": {
          "base_uri": "https://localhost:8080/"
        },
        "outputId": "197838a9-c728-449d-bae5-b4abc5a7b26b"
      },
      "execution_count": 114,
      "outputs": [
        {
          "output_type": "stream",
          "name": "stdout",
          "text": [
            "time: 906 µs (started: 2023-09-26 10:13:46 +00:00)\n"
          ]
        }
      ]
    },
    {
      "cell_type": "code",
      "source": [
        "def get_path_from_filename(audio_file_name):\n",
        "    type_dir, file_name = audio_file_name.split('/')\n",
        "    return os.path.join(calls_dir, type_dir, file_name)"
      ],
      "metadata": {
        "colab": {
          "base_uri": "https://localhost:8080/"
        },
        "id": "dDpiusDus7SE",
        "outputId": "4ffa5cc6-9eae-4ab7-9491-d34785915e8a"
      },
      "execution_count": 115,
      "outputs": [
        {
          "output_type": "stream",
          "name": "stdout",
          "text": [
            "time: 643 µs (started: 2023-09-26 10:13:46 +00:00)\n"
          ]
        }
      ]
    },
    {
      "cell_type": "code",
      "source": [
        "def create_audio_series(audio_file_name):\n",
        "    audio_file_path = get_path_from_filename(audio_file_name)\n",
        "    data, sample_rate = lbrs.load(audio_file_path)\n",
        "    return data, sample_rate"
      ],
      "metadata": {
        "colab": {
          "base_uri": "https://localhost:8080/"
        },
        "id": "J0WK_yhqLYZh",
        "outputId": "87d5d6dc-f61a-403b-ba59-a951ea2a35da"
      },
      "execution_count": 116,
      "outputs": [
        {
          "output_type": "stream",
          "name": "stdout",
          "text": [
            "time: 648 µs (started: 2023-09-26 10:13:46 +00:00)\n"
          ]
        }
      ]
    },
    {
      "cell_type": "markdown",
      "source": [
        "# Create Metadata Dataframe"
      ],
      "metadata": {
        "id": "WjLlXbmX8q0X"
      }
    },
    {
      "cell_type": "code",
      "source": [
        "# load metadata from csv to a pandas dataframe\n",
        "metadata_df = pd.read_csv(metadata_path)"
      ],
      "metadata": {
        "colab": {
          "base_uri": "https://localhost:8080/"
        },
        "id": "w_7XiiNdNyEe",
        "outputId": "5df6f3ad-cac2-4ddd-98c8-a1d8710f62b2"
      },
      "execution_count": 117,
      "outputs": [
        {
          "output_type": "stream",
          "name": "stdout",
          "text": [
            "time: 43.5 ms (started: 2023-09-26 10:13:48 +00:00)\n"
          ]
        }
      ]
    },
    {
      "cell_type": "code",
      "source": [
        "print(metadata_df.count())"
      ],
      "metadata": {
        "colab": {
          "base_uri": "https://localhost:8080/"
        },
        "id": "r_gYACdyQuWC",
        "outputId": "51933bc0-f938-4ea9-b63d-850fb409d288"
      },
      "execution_count": 118,
      "outputs": [
        {
          "output_type": "stream",
          "name": "stdout",
          "text": [
            "id                 710\n",
            "event_id           710\n",
            "link               710\n",
            "title              710\n",
            "date               689\n",
            "state              702\n",
            "deaths             709\n",
            "potential_death    709\n",
            "false_alarm        709\n",
            "description        701\n",
            "deaths_binary      710\n",
            "break              710\n",
            "filename           710\n",
            "dtype: int64\n",
            "time: 6.38 ms (started: 2023-09-26 10:13:48 +00:00)\n"
          ]
        }
      ]
    },
    {
      "cell_type": "code",
      "source": [
        "# TODO (ram): need to find the duplicates\n",
        "metadata_df.drop_duplicates(subset=['filename'], inplace=True)\n",
        "metadata_df.reset_index(drop=True, inplace=True)\n",
        "print(metadata_df.count())"
      ],
      "metadata": {
        "colab": {
          "base_uri": "https://localhost:8080/"
        },
        "id": "Kw0sAo4WrHD3",
        "outputId": "e483c4a6-ba36-411d-c9aa-da71ecca691b"
      },
      "execution_count": 119,
      "outputs": [
        {
          "output_type": "stream",
          "name": "stdout",
          "text": [
            "id                 707\n",
            "event_id           707\n",
            "link               707\n",
            "title              707\n",
            "date               686\n",
            "state              699\n",
            "deaths             706\n",
            "potential_death    706\n",
            "false_alarm        706\n",
            "description        699\n",
            "deaths_binary      707\n",
            "break              707\n",
            "filename           707\n",
            "dtype: int64\n",
            "time: 28.6 ms (started: 2023-09-26 10:13:48 +00:00)\n"
          ]
        }
      ]
    },
    {
      "cell_type": "code",
      "source": [
        "metadata_df[metadata_df['deaths'].isnull()]"
      ],
      "metadata": {
        "colab": {
          "base_uri": "https://localhost:8080/",
          "height": 98
        },
        "id": "WXSWs8HXx3qu",
        "outputId": "63945c74-a0c3-415d-9c29-943760b7754b"
      },
      "execution_count": 120,
      "outputs": [
        {
          "output_type": "execute_result",
          "data": {
            "text/plain": [
              "    id  event_id                                               link  \\\n",
              "39  39        54  https://web.archive.org/web/20150417085342/htt...   \n",
              "\n",
              "                     title date state  deaths  potential_death  false_alarm  \\\n",
              "39  Boat rescue #1 – Minn.  NaN   NaN     NaN              NaN          NaN   \n",
              "\n",
              "   description  deaths_binary  break                     filename  \n",
              "39         NaN              0    2.0  911_first6sec/call_54_0.wav  "
            ],
            "text/html": [
              "\n",
              "  <div id=\"df-7d9c6892-bf47-43d1-a3a8-0650d6f158f8\" class=\"colab-df-container\">\n",
              "    <div>\n",
              "<style scoped>\n",
              "    .dataframe tbody tr th:only-of-type {\n",
              "        vertical-align: middle;\n",
              "    }\n",
              "\n",
              "    .dataframe tbody tr th {\n",
              "        vertical-align: top;\n",
              "    }\n",
              "\n",
              "    .dataframe thead th {\n",
              "        text-align: right;\n",
              "    }\n",
              "</style>\n",
              "<table border=\"1\" class=\"dataframe\">\n",
              "  <thead>\n",
              "    <tr style=\"text-align: right;\">\n",
              "      <th></th>\n",
              "      <th>id</th>\n",
              "      <th>event_id</th>\n",
              "      <th>link</th>\n",
              "      <th>title</th>\n",
              "      <th>date</th>\n",
              "      <th>state</th>\n",
              "      <th>deaths</th>\n",
              "      <th>potential_death</th>\n",
              "      <th>false_alarm</th>\n",
              "      <th>description</th>\n",
              "      <th>deaths_binary</th>\n",
              "      <th>break</th>\n",
              "      <th>filename</th>\n",
              "    </tr>\n",
              "  </thead>\n",
              "  <tbody>\n",
              "    <tr>\n",
              "      <th>39</th>\n",
              "      <td>39</td>\n",
              "      <td>54</td>\n",
              "      <td>https://web.archive.org/web/20150417085342/htt...</td>\n",
              "      <td>Boat rescue #1 – Minn.</td>\n",
              "      <td>NaN</td>\n",
              "      <td>NaN</td>\n",
              "      <td>NaN</td>\n",
              "      <td>NaN</td>\n",
              "      <td>NaN</td>\n",
              "      <td>NaN</td>\n",
              "      <td>0</td>\n",
              "      <td>2.0</td>\n",
              "      <td>911_first6sec/call_54_0.wav</td>\n",
              "    </tr>\n",
              "  </tbody>\n",
              "</table>\n",
              "</div>\n",
              "    <div class=\"colab-df-buttons\">\n",
              "\n",
              "  <div class=\"colab-df-container\">\n",
              "    <button class=\"colab-df-convert\" onclick=\"convertToInteractive('df-7d9c6892-bf47-43d1-a3a8-0650d6f158f8')\"\n",
              "            title=\"Convert this dataframe to an interactive table.\"\n",
              "            style=\"display:none;\">\n",
              "\n",
              "  <svg xmlns=\"http://www.w3.org/2000/svg\" height=\"24px\" viewBox=\"0 -960 960 960\">\n",
              "    <path d=\"M120-120v-720h720v720H120Zm60-500h600v-160H180v160Zm220 220h160v-160H400v160Zm0 220h160v-160H400v160ZM180-400h160v-160H180v160Zm440 0h160v-160H620v160ZM180-180h160v-160H180v160Zm440 0h160v-160H620v160Z\"/>\n",
              "  </svg>\n",
              "    </button>\n",
              "\n",
              "  <style>\n",
              "    .colab-df-container {\n",
              "      display:flex;\n",
              "      gap: 12px;\n",
              "    }\n",
              "\n",
              "    .colab-df-convert {\n",
              "      background-color: #E8F0FE;\n",
              "      border: none;\n",
              "      border-radius: 50%;\n",
              "      cursor: pointer;\n",
              "      display: none;\n",
              "      fill: #1967D2;\n",
              "      height: 32px;\n",
              "      padding: 0 0 0 0;\n",
              "      width: 32px;\n",
              "    }\n",
              "\n",
              "    .colab-df-convert:hover {\n",
              "      background-color: #E2EBFA;\n",
              "      box-shadow: 0px 1px 2px rgba(60, 64, 67, 0.3), 0px 1px 3px 1px rgba(60, 64, 67, 0.15);\n",
              "      fill: #174EA6;\n",
              "    }\n",
              "\n",
              "    .colab-df-buttons div {\n",
              "      margin-bottom: 4px;\n",
              "    }\n",
              "\n",
              "    [theme=dark] .colab-df-convert {\n",
              "      background-color: #3B4455;\n",
              "      fill: #D2E3FC;\n",
              "    }\n",
              "\n",
              "    [theme=dark] .colab-df-convert:hover {\n",
              "      background-color: #434B5C;\n",
              "      box-shadow: 0px 1px 3px 1px rgba(0, 0, 0, 0.15);\n",
              "      filter: drop-shadow(0px 1px 2px rgba(0, 0, 0, 0.3));\n",
              "      fill: #FFFFFF;\n",
              "    }\n",
              "  </style>\n",
              "\n",
              "    <script>\n",
              "      const buttonEl =\n",
              "        document.querySelector('#df-7d9c6892-bf47-43d1-a3a8-0650d6f158f8 button.colab-df-convert');\n",
              "      buttonEl.style.display =\n",
              "        google.colab.kernel.accessAllowed ? 'block' : 'none';\n",
              "\n",
              "      async function convertToInteractive(key) {\n",
              "        const element = document.querySelector('#df-7d9c6892-bf47-43d1-a3a8-0650d6f158f8');\n",
              "        const dataTable =\n",
              "          await google.colab.kernel.invokeFunction('convertToInteractive',\n",
              "                                                    [key], {});\n",
              "        if (!dataTable) return;\n",
              "\n",
              "        const docLinkHtml = 'Like what you see? Visit the ' +\n",
              "          '<a target=\"_blank\" href=https://colab.research.google.com/notebooks/data_table.ipynb>data table notebook</a>'\n",
              "          + ' to learn more about interactive tables.';\n",
              "        element.innerHTML = '';\n",
              "        dataTable['output_type'] = 'display_data';\n",
              "        await google.colab.output.renderOutput(dataTable, element);\n",
              "        const docLink = document.createElement('div');\n",
              "        docLink.innerHTML = docLinkHtml;\n",
              "        element.appendChild(docLink);\n",
              "      }\n",
              "    </script>\n",
              "  </div>\n",
              "\n",
              "    </div>\n",
              "  </div>\n"
            ]
          },
          "metadata": {},
          "execution_count": 120
        },
        {
          "output_type": "stream",
          "name": "stdout",
          "text": [
            "time: 19.5 ms (started: 2023-09-26 10:13:48 +00:00)\n"
          ]
        }
      ]
    },
    {
      "cell_type": "code",
      "source": [
        "# TODO (Ram): maybe we can tag this ourselves\n",
        "metadata_df = metadata_df[metadata_df['deaths'].notna()]\n",
        "metadata_df.reset_index(drop=True, inplace=True)\n",
        "print(metadata_df.count())"
      ],
      "metadata": {
        "colab": {
          "base_uri": "https://localhost:8080/"
        },
        "id": "GQE3PdI3x6tr",
        "outputId": "bc4b47a0-fc2e-43ff-bc2b-b39ec35efb7f"
      },
      "execution_count": 121,
      "outputs": [
        {
          "output_type": "stream",
          "name": "stdout",
          "text": [
            "id                 706\n",
            "event_id           706\n",
            "link               706\n",
            "title              706\n",
            "date               686\n",
            "state              699\n",
            "deaths             706\n",
            "potential_death    706\n",
            "false_alarm        706\n",
            "description        699\n",
            "deaths_binary      706\n",
            "break              706\n",
            "filename           706\n",
            "dtype: int64\n",
            "time: 9.29 ms (started: 2023-09-26 10:13:48 +00:00)\n"
          ]
        }
      ]
    },
    {
      "cell_type": "markdown",
      "source": [
        "# MFCC Model - Introduction\n",
        "We will begin our attempts with models using Mel-frequency cepstral coefficients (MFCCs) as features, using as a reference [this paper](https://ietresearch.onlinelibrary.wiley.com/doi/full/10.1049/tje2.12082) on speech recognition by Rakibul Hasan, Mahbub Hasan & Zakir Hossain, although speech recognition is not the intent, the model we are attempting to build is tangentialially related, and so this is a good reference point to start from."
      ],
      "metadata": {
        "id": "MYDYr2dXuW8v"
      }
    },
    {
      "cell_type": "markdown",
      "source": [
        "The following method will be applied to a data frame,\n",
        "receiving number of mfcc featuresm and additionally window size and hop length if needed."
      ],
      "metadata": {
        "id": "wwaTd10x8CcM"
      }
    },
    {
      "cell_type": "code",
      "source": [
        "def mfcc_feature_extractor(filename, n_mfcc=13, n_fft=512, hop_length=124):\n",
        "  data, sr = create_audio_series(filename)\n",
        "  mfcc = lbrs.feature.mfcc(\n",
        "      y=data, sr=sr, n_mfcc=n_mfcc,\n",
        "      n_fft=n_fft, hop_length=hop_length\n",
        "      )\n",
        "\n",
        "  return np.mean(mfcc.T, axis=0)"
      ],
      "metadata": {
        "colab": {
          "base_uri": "https://localhost:8080/"
        },
        "id": "JDbSYBtczz37",
        "outputId": "9f4787fc-389f-49b7-9dce-1726c0068ce6"
      },
      "execution_count": 122,
      "outputs": [
        {
          "output_type": "stream",
          "name": "stdout",
          "text": [
            "time: 867 µs (started: 2023-09-26 10:14:08 +00:00)\n"
          ]
        }
      ]
    },
    {
      "cell_type": "markdown",
      "source": [
        "The following function is a 'modular' model creation method that allows us versitility with our on the fly model creations:"
      ],
      "metadata": {
        "id": "kWemsY_97Gt_"
      }
    },
    {
      "cell_type": "code",
      "source": [
        "def create_model(input_shape, hidden_layers, unit_scalar=3, optimizer_name='Adam',\n",
        "                     learning_rate=0.0005, epochs=500, activation='tanh'):\n",
        "  if unit_scalar < 0:\n",
        "    raise AttributeError(\"unit_scalar must be non-negative\")\n",
        "\n",
        "  # create model & input layer, with the number of input layers\n",
        "  # equal to the number of features per sample\n",
        "  model = models.Sequential()\n",
        "  model._name = f'model_{hidden_layers}hl_{input_shape[0]}mfcc'\n",
        "  model.add(layers.InputLayer(input_shape=input_shape))\n",
        "\n",
        "  # add hidden layers dynamically\n",
        "  for i in range(hidden_layers):\n",
        "    units = 2 ** (hidden_layers + unit_scalar - i)\n",
        "    lyr = layers.Dense(units=units, activation=activation)\n",
        "    lyr._name = f'hidden_layer_{i+1}'\n",
        "    model.add(lyr)\n",
        "\n",
        "  # out put layer of size 2 as the number of classes\n",
        "  out_lyr = layers.Dense(units=2, activation='softmax')\n",
        "  out_lyr._name = 'output_layer'\n",
        "  model.add(out_lyr)\n",
        "\n",
        "  # TODO add optimizer scheduler?\n",
        "  # https://keras.io/api/optimizers/\n",
        "\n",
        "  # add optimizer and compile model\n",
        "  opt = getattr(optimizers, optimizer_name)\n",
        "  model.compile(\n",
        "    loss='sparse_categorical_crossentropy',\n",
        "    # TODO other metrics?\n",
        "    metrics=['accuracy'],\n",
        "    optimizer=opt(learning_rate))\n",
        "\n",
        "  return model"
      ],
      "metadata": {
        "colab": {
          "base_uri": "https://localhost:8080/"
        },
        "id": "uC8nMA42sy3I",
        "outputId": "7bd0eab8-87a9-4f6c-f374-a74c0d3d8f07"
      },
      "execution_count": 206,
      "outputs": [
        {
          "output_type": "stream",
          "name": "stdout",
          "text": [
            "time: 9.23 ms (started: 2023-09-26 10:54:46 +00:00)\n"
          ]
        }
      ]
    },
    {
      "cell_type": "markdown",
      "source": [
        "# MFCC Model - Large Model\n",
        "We will begin with what the aforementioned paper referenced as higher performing models, specifically a model using 25 MFCC features, and 4 hidden layers"
      ],
      "metadata": {
        "id": "wBqXdDZj5v7t"
      }
    },
    {
      "cell_type": "markdown",
      "source": [
        "## Extracting Features and Classes"
      ],
      "metadata": {
        "id": "8zAO8n8u9vu3"
      }
    },
    {
      "cell_type": "markdown",
      "source": [
        "### The Models' features\n",
        "MFCCs are essentialy an extension of the STFT that we've seen in the previous section, in that the MFCCs are computed by breaking up the signal into windows and computing the DFT for each window, but expands upon this by mapping the signal to the mel-scale, taking the log of mapping and applying a discrete cosine transform, with the MFCC being the magnitude of the resulting spectrum."
      ],
      "metadata": {
        "id": "4SiTSx3FWRTO"
      }
    },
    {
      "cell_type": "code",
      "source": [
        "# paths\n",
        "filenames = metadata_df['filename']\n",
        "features = filenames.progress_apply(mfcc_feature_extractor, n_mfcc=25)\n",
        "features.rename('features', inplace=True)\n",
        "\n",
        "features_named = pd.concat([filenames, features], axis=1)\n",
        "features_named.head(10)"
      ],
      "metadata": {
        "colab": {
          "base_uri": "https://localhost:8080/",
          "height": 398
        },
        "id": "_gGCgs-n9foE",
        "outputId": "743bb4a0-fe7a-4004-dc7b-8746e32692f3"
      },
      "execution_count": 124,
      "outputs": [
        {
          "output_type": "stream",
          "name": "stderr",
          "text": [
            "100%|██████████| 706/706 [00:37<00:00, 18.99it/s]\n"
          ]
        },
        {
          "output_type": "execute_result",
          "data": {
            "text/plain": [
              "                      filename  \\\n",
              "0   911_first6sec/call_2_0.wav   \n",
              "1   911_first6sec/call_8_0.wav   \n",
              "2   911_first6sec/call_9_0.wav   \n",
              "3  911_first6sec/call_10_0.wav   \n",
              "4  911_first6sec/call_11_0.wav   \n",
              "5  911_first6sec/call_12_0.wav   \n",
              "6  911_first6sec/call_13_0.wav   \n",
              "7  911_first6sec/call_15_0.wav   \n",
              "8  911_first6sec/call_16_0.wav   \n",
              "9  911_first6sec/call_17_0.wav   \n",
              "\n",
              "                                            features  \n",
              "0  [-496.04065, 136.32658, -38.824547, -2.956653,...  \n",
              "1  [-542.26483, 113.492096, -54.898445, -16.93544...  \n",
              "2  [-469.10492, 144.50133, -53.16924, -35.66156, ...  \n",
              "3  [-461.7921, 102.00011, 4.2778754, -3.2980382, ...  \n",
              "4  [-388.4136, 191.76454, -68.483246, -28.393341,...  \n",
              "5  [-366.632, 123.76255, -8.727576, -9.830455, 2....  \n",
              "6  [-328.94275, 173.40773, -122.68931, -22.340195...  \n",
              "7  [-388.2811, 92.171074, 0.91390646, -14.596169,...  \n",
              "8  [-500.0724, 121.41379, -37.134045, 13.093015, ...  \n",
              "9  [-335.3681, 180.51752, -75.116455, -6.7831354,...  "
            ],
            "text/html": [
              "\n",
              "  <div id=\"df-bb2bf5bb-fa38-423d-a046-fa0dacbe4b9f\" class=\"colab-df-container\">\n",
              "    <div>\n",
              "<style scoped>\n",
              "    .dataframe tbody tr th:only-of-type {\n",
              "        vertical-align: middle;\n",
              "    }\n",
              "\n",
              "    .dataframe tbody tr th {\n",
              "        vertical-align: top;\n",
              "    }\n",
              "\n",
              "    .dataframe thead th {\n",
              "        text-align: right;\n",
              "    }\n",
              "</style>\n",
              "<table border=\"1\" class=\"dataframe\">\n",
              "  <thead>\n",
              "    <tr style=\"text-align: right;\">\n",
              "      <th></th>\n",
              "      <th>filename</th>\n",
              "      <th>features</th>\n",
              "    </tr>\n",
              "  </thead>\n",
              "  <tbody>\n",
              "    <tr>\n",
              "      <th>0</th>\n",
              "      <td>911_first6sec/call_2_0.wav</td>\n",
              "      <td>[-496.04065, 136.32658, -38.824547, -2.956653,...</td>\n",
              "    </tr>\n",
              "    <tr>\n",
              "      <th>1</th>\n",
              "      <td>911_first6sec/call_8_0.wav</td>\n",
              "      <td>[-542.26483, 113.492096, -54.898445, -16.93544...</td>\n",
              "    </tr>\n",
              "    <tr>\n",
              "      <th>2</th>\n",
              "      <td>911_first6sec/call_9_0.wav</td>\n",
              "      <td>[-469.10492, 144.50133, -53.16924, -35.66156, ...</td>\n",
              "    </tr>\n",
              "    <tr>\n",
              "      <th>3</th>\n",
              "      <td>911_first6sec/call_10_0.wav</td>\n",
              "      <td>[-461.7921, 102.00011, 4.2778754, -3.2980382, ...</td>\n",
              "    </tr>\n",
              "    <tr>\n",
              "      <th>4</th>\n",
              "      <td>911_first6sec/call_11_0.wav</td>\n",
              "      <td>[-388.4136, 191.76454, -68.483246, -28.393341,...</td>\n",
              "    </tr>\n",
              "    <tr>\n",
              "      <th>5</th>\n",
              "      <td>911_first6sec/call_12_0.wav</td>\n",
              "      <td>[-366.632, 123.76255, -8.727576, -9.830455, 2....</td>\n",
              "    </tr>\n",
              "    <tr>\n",
              "      <th>6</th>\n",
              "      <td>911_first6sec/call_13_0.wav</td>\n",
              "      <td>[-328.94275, 173.40773, -122.68931, -22.340195...</td>\n",
              "    </tr>\n",
              "    <tr>\n",
              "      <th>7</th>\n",
              "      <td>911_first6sec/call_15_0.wav</td>\n",
              "      <td>[-388.2811, 92.171074, 0.91390646, -14.596169,...</td>\n",
              "    </tr>\n",
              "    <tr>\n",
              "      <th>8</th>\n",
              "      <td>911_first6sec/call_16_0.wav</td>\n",
              "      <td>[-500.0724, 121.41379, -37.134045, 13.093015, ...</td>\n",
              "    </tr>\n",
              "    <tr>\n",
              "      <th>9</th>\n",
              "      <td>911_first6sec/call_17_0.wav</td>\n",
              "      <td>[-335.3681, 180.51752, -75.116455, -6.7831354,...</td>\n",
              "    </tr>\n",
              "  </tbody>\n",
              "</table>\n",
              "</div>\n",
              "    <div class=\"colab-df-buttons\">\n",
              "\n",
              "  <div class=\"colab-df-container\">\n",
              "    <button class=\"colab-df-convert\" onclick=\"convertToInteractive('df-bb2bf5bb-fa38-423d-a046-fa0dacbe4b9f')\"\n",
              "            title=\"Convert this dataframe to an interactive table.\"\n",
              "            style=\"display:none;\">\n",
              "\n",
              "  <svg xmlns=\"http://www.w3.org/2000/svg\" height=\"24px\" viewBox=\"0 -960 960 960\">\n",
              "    <path d=\"M120-120v-720h720v720H120Zm60-500h600v-160H180v160Zm220 220h160v-160H400v160Zm0 220h160v-160H400v160ZM180-400h160v-160H180v160Zm440 0h160v-160H620v160ZM180-180h160v-160H180v160Zm440 0h160v-160H620v160Z\"/>\n",
              "  </svg>\n",
              "    </button>\n",
              "\n",
              "  <style>\n",
              "    .colab-df-container {\n",
              "      display:flex;\n",
              "      gap: 12px;\n",
              "    }\n",
              "\n",
              "    .colab-df-convert {\n",
              "      background-color: #E8F0FE;\n",
              "      border: none;\n",
              "      border-radius: 50%;\n",
              "      cursor: pointer;\n",
              "      display: none;\n",
              "      fill: #1967D2;\n",
              "      height: 32px;\n",
              "      padding: 0 0 0 0;\n",
              "      width: 32px;\n",
              "    }\n",
              "\n",
              "    .colab-df-convert:hover {\n",
              "      background-color: #E2EBFA;\n",
              "      box-shadow: 0px 1px 2px rgba(60, 64, 67, 0.3), 0px 1px 3px 1px rgba(60, 64, 67, 0.15);\n",
              "      fill: #174EA6;\n",
              "    }\n",
              "\n",
              "    .colab-df-buttons div {\n",
              "      margin-bottom: 4px;\n",
              "    }\n",
              "\n",
              "    [theme=dark] .colab-df-convert {\n",
              "      background-color: #3B4455;\n",
              "      fill: #D2E3FC;\n",
              "    }\n",
              "\n",
              "    [theme=dark] .colab-df-convert:hover {\n",
              "      background-color: #434B5C;\n",
              "      box-shadow: 0px 1px 3px 1px rgba(0, 0, 0, 0.15);\n",
              "      filter: drop-shadow(0px 1px 2px rgba(0, 0, 0, 0.3));\n",
              "      fill: #FFFFFF;\n",
              "    }\n",
              "  </style>\n",
              "\n",
              "    <script>\n",
              "      const buttonEl =\n",
              "        document.querySelector('#df-bb2bf5bb-fa38-423d-a046-fa0dacbe4b9f button.colab-df-convert');\n",
              "      buttonEl.style.display =\n",
              "        google.colab.kernel.accessAllowed ? 'block' : 'none';\n",
              "\n",
              "      async function convertToInteractive(key) {\n",
              "        const element = document.querySelector('#df-bb2bf5bb-fa38-423d-a046-fa0dacbe4b9f');\n",
              "        const dataTable =\n",
              "          await google.colab.kernel.invokeFunction('convertToInteractive',\n",
              "                                                    [key], {});\n",
              "        if (!dataTable) return;\n",
              "\n",
              "        const docLinkHtml = 'Like what you see? Visit the ' +\n",
              "          '<a target=\"_blank\" href=https://colab.research.google.com/notebooks/data_table.ipynb>data table notebook</a>'\n",
              "          + ' to learn more about interactive tables.';\n",
              "        element.innerHTML = '';\n",
              "        dataTable['output_type'] = 'display_data';\n",
              "        await google.colab.output.renderOutput(dataTable, element);\n",
              "        const docLink = document.createElement('div');\n",
              "        docLink.innerHTML = docLinkHtml;\n",
              "        element.appendChild(docLink);\n",
              "      }\n",
              "    </script>\n",
              "  </div>\n",
              "\n",
              "\n",
              "<div id=\"df-aa1f0baa-5c67-4fa0-9f51-b264bf043b68\">\n",
              "  <button class=\"colab-df-quickchart\" onclick=\"quickchart('df-aa1f0baa-5c67-4fa0-9f51-b264bf043b68')\"\n",
              "            title=\"Suggest charts.\"\n",
              "            style=\"display:none;\">\n",
              "\n",
              "<svg xmlns=\"http://www.w3.org/2000/svg\" height=\"24px\"viewBox=\"0 0 24 24\"\n",
              "     width=\"24px\">\n",
              "    <g>\n",
              "        <path d=\"M19 3H5c-1.1 0-2 .9-2 2v14c0 1.1.9 2 2 2h14c1.1 0 2-.9 2-2V5c0-1.1-.9-2-2-2zM9 17H7v-7h2v7zm4 0h-2V7h2v10zm4 0h-2v-4h2v4z\"/>\n",
              "    </g>\n",
              "</svg>\n",
              "  </button>\n",
              "\n",
              "<style>\n",
              "  .colab-df-quickchart {\n",
              "      --bg-color: #E8F0FE;\n",
              "      --fill-color: #1967D2;\n",
              "      --hover-bg-color: #E2EBFA;\n",
              "      --hover-fill-color: #174EA6;\n",
              "      --disabled-fill-color: #AAA;\n",
              "      --disabled-bg-color: #DDD;\n",
              "  }\n",
              "\n",
              "  [theme=dark] .colab-df-quickchart {\n",
              "      --bg-color: #3B4455;\n",
              "      --fill-color: #D2E3FC;\n",
              "      --hover-bg-color: #434B5C;\n",
              "      --hover-fill-color: #FFFFFF;\n",
              "      --disabled-bg-color: #3B4455;\n",
              "      --disabled-fill-color: #666;\n",
              "  }\n",
              "\n",
              "  .colab-df-quickchart {\n",
              "    background-color: var(--bg-color);\n",
              "    border: none;\n",
              "    border-radius: 50%;\n",
              "    cursor: pointer;\n",
              "    display: none;\n",
              "    fill: var(--fill-color);\n",
              "    height: 32px;\n",
              "    padding: 0;\n",
              "    width: 32px;\n",
              "  }\n",
              "\n",
              "  .colab-df-quickchart:hover {\n",
              "    background-color: var(--hover-bg-color);\n",
              "    box-shadow: 0 1px 2px rgba(60, 64, 67, 0.3), 0 1px 3px 1px rgba(60, 64, 67, 0.15);\n",
              "    fill: var(--button-hover-fill-color);\n",
              "  }\n",
              "\n",
              "  .colab-df-quickchart-complete:disabled,\n",
              "  .colab-df-quickchart-complete:disabled:hover {\n",
              "    background-color: var(--disabled-bg-color);\n",
              "    fill: var(--disabled-fill-color);\n",
              "    box-shadow: none;\n",
              "  }\n",
              "\n",
              "  .colab-df-spinner {\n",
              "    border: 2px solid var(--fill-color);\n",
              "    border-color: transparent;\n",
              "    border-bottom-color: var(--fill-color);\n",
              "    animation:\n",
              "      spin 1s steps(1) infinite;\n",
              "  }\n",
              "\n",
              "  @keyframes spin {\n",
              "    0% {\n",
              "      border-color: transparent;\n",
              "      border-bottom-color: var(--fill-color);\n",
              "      border-left-color: var(--fill-color);\n",
              "    }\n",
              "    20% {\n",
              "      border-color: transparent;\n",
              "      border-left-color: var(--fill-color);\n",
              "      border-top-color: var(--fill-color);\n",
              "    }\n",
              "    30% {\n",
              "      border-color: transparent;\n",
              "      border-left-color: var(--fill-color);\n",
              "      border-top-color: var(--fill-color);\n",
              "      border-right-color: var(--fill-color);\n",
              "    }\n",
              "    40% {\n",
              "      border-color: transparent;\n",
              "      border-right-color: var(--fill-color);\n",
              "      border-top-color: var(--fill-color);\n",
              "    }\n",
              "    60% {\n",
              "      border-color: transparent;\n",
              "      border-right-color: var(--fill-color);\n",
              "    }\n",
              "    80% {\n",
              "      border-color: transparent;\n",
              "      border-right-color: var(--fill-color);\n",
              "      border-bottom-color: var(--fill-color);\n",
              "    }\n",
              "    90% {\n",
              "      border-color: transparent;\n",
              "      border-bottom-color: var(--fill-color);\n",
              "    }\n",
              "  }\n",
              "</style>\n",
              "\n",
              "  <script>\n",
              "    async function quickchart(key) {\n",
              "      const quickchartButtonEl =\n",
              "        document.querySelector('#' + key + ' button');\n",
              "      quickchartButtonEl.disabled = true;  // To prevent multiple clicks.\n",
              "      quickchartButtonEl.classList.add('colab-df-spinner');\n",
              "      try {\n",
              "        const charts = await google.colab.kernel.invokeFunction(\n",
              "            'suggestCharts', [key], {});\n",
              "      } catch (error) {\n",
              "        console.error('Error during call to suggestCharts:', error);\n",
              "      }\n",
              "      quickchartButtonEl.classList.remove('colab-df-spinner');\n",
              "      quickchartButtonEl.classList.add('colab-df-quickchart-complete');\n",
              "    }\n",
              "    (() => {\n",
              "      let quickchartButtonEl =\n",
              "        document.querySelector('#df-aa1f0baa-5c67-4fa0-9f51-b264bf043b68 button');\n",
              "      quickchartButtonEl.style.display =\n",
              "        google.colab.kernel.accessAllowed ? 'block' : 'none';\n",
              "    })();\n",
              "  </script>\n",
              "</div>\n",
              "    </div>\n",
              "  </div>\n"
            ]
          },
          "metadata": {},
          "execution_count": 124
        },
        {
          "output_type": "stream",
          "name": "stdout",
          "text": [
            "time: 37.2 s (started: 2023-09-26 10:14:14 +00:00)\n"
          ]
        }
      ]
    },
    {
      "cell_type": "code",
      "source": [
        "print(f'Number of samples: {len(features)}')\n",
        "print(f'Number of MFCCs per sample: {len(features[0])}')"
      ],
      "metadata": {
        "colab": {
          "base_uri": "https://localhost:8080/"
        },
        "id": "7r2jOvC78sD-",
        "outputId": "2873c241-6fb1-46b7-8ea0-136c9ecc778a"
      },
      "execution_count": 125,
      "outputs": [
        {
          "output_type": "stream",
          "name": "stdout",
          "text": [
            "Number of samples: 706\n",
            "Number of MFCCs per sample: 25\n",
            "time: 8.45 ms (started: 2023-09-26 10:14:51 +00:00)\n"
          ]
        }
      ]
    },
    {
      "cell_type": "markdown",
      "source": [
        " ### The Models' Classes"
      ],
      "metadata": {
        "id": "dbPdw3UmiYfq"
      }
    },
    {
      "cell_type": "code",
      "source": [
        "# Create classification\n",
        "classes_named = metadata_df[['filename', 'deaths_binary']]\n",
        "\n",
        "classes_named = classes_named.rename(\n",
        "  columns={'deaths_binary': 'resulted_in_deaths'})\n",
        "\n",
        "# Create combied dataframe\n",
        "features_classes = pd.merge(features_named, classes_named)\n",
        "features_classes.head(10)"
      ],
      "metadata": {
        "colab": {
          "base_uri": "https://localhost:8080/",
          "height": 380
        },
        "id": "AetKovPFXdwg",
        "outputId": "c9299ff2-2c27-45c0-b596-1e4d2d00e3cf"
      },
      "execution_count": 126,
      "outputs": [
        {
          "output_type": "execute_result",
          "data": {
            "text/plain": [
              "                      filename  \\\n",
              "0   911_first6sec/call_2_0.wav   \n",
              "1   911_first6sec/call_8_0.wav   \n",
              "2   911_first6sec/call_9_0.wav   \n",
              "3  911_first6sec/call_10_0.wav   \n",
              "4  911_first6sec/call_11_0.wav   \n",
              "5  911_first6sec/call_12_0.wav   \n",
              "6  911_first6sec/call_13_0.wav   \n",
              "7  911_first6sec/call_15_0.wav   \n",
              "8  911_first6sec/call_16_0.wav   \n",
              "9  911_first6sec/call_17_0.wav   \n",
              "\n",
              "                                            features  resulted_in_deaths  \n",
              "0  [-496.04065, 136.32658, -38.824547, -2.956653,...                   1  \n",
              "1  [-542.26483, 113.492096, -54.898445, -16.93544...                   1  \n",
              "2  [-469.10492, 144.50133, -53.16924, -35.66156, ...                   0  \n",
              "3  [-461.7921, 102.00011, 4.2778754, -3.2980382, ...                   1  \n",
              "4  [-388.4136, 191.76454, -68.483246, -28.393341,...                   0  \n",
              "5  [-366.632, 123.76255, -8.727576, -9.830455, 2....                   1  \n",
              "6  [-328.94275, 173.40773, -122.68931, -22.340195...                   1  \n",
              "7  [-388.2811, 92.171074, 0.91390646, -14.596169,...                   1  \n",
              "8  [-500.0724, 121.41379, -37.134045, 13.093015, ...                   1  \n",
              "9  [-335.3681, 180.51752, -75.116455, -6.7831354,...                   1  "
            ],
            "text/html": [
              "\n",
              "  <div id=\"df-655e6ece-63c1-458f-aba6-80ed61031cce\" class=\"colab-df-container\">\n",
              "    <div>\n",
              "<style scoped>\n",
              "    .dataframe tbody tr th:only-of-type {\n",
              "        vertical-align: middle;\n",
              "    }\n",
              "\n",
              "    .dataframe tbody tr th {\n",
              "        vertical-align: top;\n",
              "    }\n",
              "\n",
              "    .dataframe thead th {\n",
              "        text-align: right;\n",
              "    }\n",
              "</style>\n",
              "<table border=\"1\" class=\"dataframe\">\n",
              "  <thead>\n",
              "    <tr style=\"text-align: right;\">\n",
              "      <th></th>\n",
              "      <th>filename</th>\n",
              "      <th>features</th>\n",
              "      <th>resulted_in_deaths</th>\n",
              "    </tr>\n",
              "  </thead>\n",
              "  <tbody>\n",
              "    <tr>\n",
              "      <th>0</th>\n",
              "      <td>911_first6sec/call_2_0.wav</td>\n",
              "      <td>[-496.04065, 136.32658, -38.824547, -2.956653,...</td>\n",
              "      <td>1</td>\n",
              "    </tr>\n",
              "    <tr>\n",
              "      <th>1</th>\n",
              "      <td>911_first6sec/call_8_0.wav</td>\n",
              "      <td>[-542.26483, 113.492096, -54.898445, -16.93544...</td>\n",
              "      <td>1</td>\n",
              "    </tr>\n",
              "    <tr>\n",
              "      <th>2</th>\n",
              "      <td>911_first6sec/call_9_0.wav</td>\n",
              "      <td>[-469.10492, 144.50133, -53.16924, -35.66156, ...</td>\n",
              "      <td>0</td>\n",
              "    </tr>\n",
              "    <tr>\n",
              "      <th>3</th>\n",
              "      <td>911_first6sec/call_10_0.wav</td>\n",
              "      <td>[-461.7921, 102.00011, 4.2778754, -3.2980382, ...</td>\n",
              "      <td>1</td>\n",
              "    </tr>\n",
              "    <tr>\n",
              "      <th>4</th>\n",
              "      <td>911_first6sec/call_11_0.wav</td>\n",
              "      <td>[-388.4136, 191.76454, -68.483246, -28.393341,...</td>\n",
              "      <td>0</td>\n",
              "    </tr>\n",
              "    <tr>\n",
              "      <th>5</th>\n",
              "      <td>911_first6sec/call_12_0.wav</td>\n",
              "      <td>[-366.632, 123.76255, -8.727576, -9.830455, 2....</td>\n",
              "      <td>1</td>\n",
              "    </tr>\n",
              "    <tr>\n",
              "      <th>6</th>\n",
              "      <td>911_first6sec/call_13_0.wav</td>\n",
              "      <td>[-328.94275, 173.40773, -122.68931, -22.340195...</td>\n",
              "      <td>1</td>\n",
              "    </tr>\n",
              "    <tr>\n",
              "      <th>7</th>\n",
              "      <td>911_first6sec/call_15_0.wav</td>\n",
              "      <td>[-388.2811, 92.171074, 0.91390646, -14.596169,...</td>\n",
              "      <td>1</td>\n",
              "    </tr>\n",
              "    <tr>\n",
              "      <th>8</th>\n",
              "      <td>911_first6sec/call_16_0.wav</td>\n",
              "      <td>[-500.0724, 121.41379, -37.134045, 13.093015, ...</td>\n",
              "      <td>1</td>\n",
              "    </tr>\n",
              "    <tr>\n",
              "      <th>9</th>\n",
              "      <td>911_first6sec/call_17_0.wav</td>\n",
              "      <td>[-335.3681, 180.51752, -75.116455, -6.7831354,...</td>\n",
              "      <td>1</td>\n",
              "    </tr>\n",
              "  </tbody>\n",
              "</table>\n",
              "</div>\n",
              "    <div class=\"colab-df-buttons\">\n",
              "\n",
              "  <div class=\"colab-df-container\">\n",
              "    <button class=\"colab-df-convert\" onclick=\"convertToInteractive('df-655e6ece-63c1-458f-aba6-80ed61031cce')\"\n",
              "            title=\"Convert this dataframe to an interactive table.\"\n",
              "            style=\"display:none;\">\n",
              "\n",
              "  <svg xmlns=\"http://www.w3.org/2000/svg\" height=\"24px\" viewBox=\"0 -960 960 960\">\n",
              "    <path d=\"M120-120v-720h720v720H120Zm60-500h600v-160H180v160Zm220 220h160v-160H400v160Zm0 220h160v-160H400v160ZM180-400h160v-160H180v160Zm440 0h160v-160H620v160ZM180-180h160v-160H180v160Zm440 0h160v-160H620v160Z\"/>\n",
              "  </svg>\n",
              "    </button>\n",
              "\n",
              "  <style>\n",
              "    .colab-df-container {\n",
              "      display:flex;\n",
              "      gap: 12px;\n",
              "    }\n",
              "\n",
              "    .colab-df-convert {\n",
              "      background-color: #E8F0FE;\n",
              "      border: none;\n",
              "      border-radius: 50%;\n",
              "      cursor: pointer;\n",
              "      display: none;\n",
              "      fill: #1967D2;\n",
              "      height: 32px;\n",
              "      padding: 0 0 0 0;\n",
              "      width: 32px;\n",
              "    }\n",
              "\n",
              "    .colab-df-convert:hover {\n",
              "      background-color: #E2EBFA;\n",
              "      box-shadow: 0px 1px 2px rgba(60, 64, 67, 0.3), 0px 1px 3px 1px rgba(60, 64, 67, 0.15);\n",
              "      fill: #174EA6;\n",
              "    }\n",
              "\n",
              "    .colab-df-buttons div {\n",
              "      margin-bottom: 4px;\n",
              "    }\n",
              "\n",
              "    [theme=dark] .colab-df-convert {\n",
              "      background-color: #3B4455;\n",
              "      fill: #D2E3FC;\n",
              "    }\n",
              "\n",
              "    [theme=dark] .colab-df-convert:hover {\n",
              "      background-color: #434B5C;\n",
              "      box-shadow: 0px 1px 3px 1px rgba(0, 0, 0, 0.15);\n",
              "      filter: drop-shadow(0px 1px 2px rgba(0, 0, 0, 0.3));\n",
              "      fill: #FFFFFF;\n",
              "    }\n",
              "  </style>\n",
              "\n",
              "    <script>\n",
              "      const buttonEl =\n",
              "        document.querySelector('#df-655e6ece-63c1-458f-aba6-80ed61031cce button.colab-df-convert');\n",
              "      buttonEl.style.display =\n",
              "        google.colab.kernel.accessAllowed ? 'block' : 'none';\n",
              "\n",
              "      async function convertToInteractive(key) {\n",
              "        const element = document.querySelector('#df-655e6ece-63c1-458f-aba6-80ed61031cce');\n",
              "        const dataTable =\n",
              "          await google.colab.kernel.invokeFunction('convertToInteractive',\n",
              "                                                    [key], {});\n",
              "        if (!dataTable) return;\n",
              "\n",
              "        const docLinkHtml = 'Like what you see? Visit the ' +\n",
              "          '<a target=\"_blank\" href=https://colab.research.google.com/notebooks/data_table.ipynb>data table notebook</a>'\n",
              "          + ' to learn more about interactive tables.';\n",
              "        element.innerHTML = '';\n",
              "        dataTable['output_type'] = 'display_data';\n",
              "        await google.colab.output.renderOutput(dataTable, element);\n",
              "        const docLink = document.createElement('div');\n",
              "        docLink.innerHTML = docLinkHtml;\n",
              "        element.appendChild(docLink);\n",
              "      }\n",
              "    </script>\n",
              "  </div>\n",
              "\n",
              "\n",
              "<div id=\"df-35483757-477c-46e1-9909-8f481e058471\">\n",
              "  <button class=\"colab-df-quickchart\" onclick=\"quickchart('df-35483757-477c-46e1-9909-8f481e058471')\"\n",
              "            title=\"Suggest charts.\"\n",
              "            style=\"display:none;\">\n",
              "\n",
              "<svg xmlns=\"http://www.w3.org/2000/svg\" height=\"24px\"viewBox=\"0 0 24 24\"\n",
              "     width=\"24px\">\n",
              "    <g>\n",
              "        <path d=\"M19 3H5c-1.1 0-2 .9-2 2v14c0 1.1.9 2 2 2h14c1.1 0 2-.9 2-2V5c0-1.1-.9-2-2-2zM9 17H7v-7h2v7zm4 0h-2V7h2v10zm4 0h-2v-4h2v4z\"/>\n",
              "    </g>\n",
              "</svg>\n",
              "  </button>\n",
              "\n",
              "<style>\n",
              "  .colab-df-quickchart {\n",
              "      --bg-color: #E8F0FE;\n",
              "      --fill-color: #1967D2;\n",
              "      --hover-bg-color: #E2EBFA;\n",
              "      --hover-fill-color: #174EA6;\n",
              "      --disabled-fill-color: #AAA;\n",
              "      --disabled-bg-color: #DDD;\n",
              "  }\n",
              "\n",
              "  [theme=dark] .colab-df-quickchart {\n",
              "      --bg-color: #3B4455;\n",
              "      --fill-color: #D2E3FC;\n",
              "      --hover-bg-color: #434B5C;\n",
              "      --hover-fill-color: #FFFFFF;\n",
              "      --disabled-bg-color: #3B4455;\n",
              "      --disabled-fill-color: #666;\n",
              "  }\n",
              "\n",
              "  .colab-df-quickchart {\n",
              "    background-color: var(--bg-color);\n",
              "    border: none;\n",
              "    border-radius: 50%;\n",
              "    cursor: pointer;\n",
              "    display: none;\n",
              "    fill: var(--fill-color);\n",
              "    height: 32px;\n",
              "    padding: 0;\n",
              "    width: 32px;\n",
              "  }\n",
              "\n",
              "  .colab-df-quickchart:hover {\n",
              "    background-color: var(--hover-bg-color);\n",
              "    box-shadow: 0 1px 2px rgba(60, 64, 67, 0.3), 0 1px 3px 1px rgba(60, 64, 67, 0.15);\n",
              "    fill: var(--button-hover-fill-color);\n",
              "  }\n",
              "\n",
              "  .colab-df-quickchart-complete:disabled,\n",
              "  .colab-df-quickchart-complete:disabled:hover {\n",
              "    background-color: var(--disabled-bg-color);\n",
              "    fill: var(--disabled-fill-color);\n",
              "    box-shadow: none;\n",
              "  }\n",
              "\n",
              "  .colab-df-spinner {\n",
              "    border: 2px solid var(--fill-color);\n",
              "    border-color: transparent;\n",
              "    border-bottom-color: var(--fill-color);\n",
              "    animation:\n",
              "      spin 1s steps(1) infinite;\n",
              "  }\n",
              "\n",
              "  @keyframes spin {\n",
              "    0% {\n",
              "      border-color: transparent;\n",
              "      border-bottom-color: var(--fill-color);\n",
              "      border-left-color: var(--fill-color);\n",
              "    }\n",
              "    20% {\n",
              "      border-color: transparent;\n",
              "      border-left-color: var(--fill-color);\n",
              "      border-top-color: var(--fill-color);\n",
              "    }\n",
              "    30% {\n",
              "      border-color: transparent;\n",
              "      border-left-color: var(--fill-color);\n",
              "      border-top-color: var(--fill-color);\n",
              "      border-right-color: var(--fill-color);\n",
              "    }\n",
              "    40% {\n",
              "      border-color: transparent;\n",
              "      border-right-color: var(--fill-color);\n",
              "      border-top-color: var(--fill-color);\n",
              "    }\n",
              "    60% {\n",
              "      border-color: transparent;\n",
              "      border-right-color: var(--fill-color);\n",
              "    }\n",
              "    80% {\n",
              "      border-color: transparent;\n",
              "      border-right-color: var(--fill-color);\n",
              "      border-bottom-color: var(--fill-color);\n",
              "    }\n",
              "    90% {\n",
              "      border-color: transparent;\n",
              "      border-bottom-color: var(--fill-color);\n",
              "    }\n",
              "  }\n",
              "</style>\n",
              "\n",
              "  <script>\n",
              "    async function quickchart(key) {\n",
              "      const quickchartButtonEl =\n",
              "        document.querySelector('#' + key + ' button');\n",
              "      quickchartButtonEl.disabled = true;  // To prevent multiple clicks.\n",
              "      quickchartButtonEl.classList.add('colab-df-spinner');\n",
              "      try {\n",
              "        const charts = await google.colab.kernel.invokeFunction(\n",
              "            'suggestCharts', [key], {});\n",
              "      } catch (error) {\n",
              "        console.error('Error during call to suggestCharts:', error);\n",
              "      }\n",
              "      quickchartButtonEl.classList.remove('colab-df-spinner');\n",
              "      quickchartButtonEl.classList.add('colab-df-quickchart-complete');\n",
              "    }\n",
              "    (() => {\n",
              "      let quickchartButtonEl =\n",
              "        document.querySelector('#df-35483757-477c-46e1-9909-8f481e058471 button');\n",
              "      quickchartButtonEl.style.display =\n",
              "        google.colab.kernel.accessAllowed ? 'block' : 'none';\n",
              "    })();\n",
              "  </script>\n",
              "</div>\n",
              "    </div>\n",
              "  </div>\n"
            ]
          },
          "metadata": {},
          "execution_count": 126
        },
        {
          "output_type": "stream",
          "name": "stdout",
          "text": [
            "time: 39.3 ms (started: 2023-09-26 10:14:51 +00:00)\n"
          ]
        }
      ]
    },
    {
      "cell_type": "code",
      "source": [
        "# save to csv in new data directory\n",
        "features_classes_path = os.path.join(new_data_dir, 'features_classes.csv')\n",
        "features_classes.to_csv(features_classes_path, encoding='utf-8', index=False)"
      ],
      "metadata": {
        "colab": {
          "base_uri": "https://localhost:8080/"
        },
        "id": "uI4XOu7-n-mW",
        "outputId": "d6ffdee1-8332-4b03-c4f1-661c25fc8a20"
      },
      "execution_count": 127,
      "outputs": [
        {
          "output_type": "stream",
          "name": "stdout",
          "text": [
            "time: 288 ms (started: 2023-09-26 10:14:51 +00:00)\n"
          ]
        }
      ]
    },
    {
      "cell_type": "markdown",
      "source": [
        "### Creating Training and Testing Sets"
      ],
      "metadata": {
        "id": "IwGMP3j8Asiw"
      }
    },
    {
      "cell_type": "code",
      "source": [
        "features = np.array(features_classes['features'].tolist())\n",
        "classes = np.array(features_classes['resulted_in_deaths'])"
      ],
      "metadata": {
        "colab": {
          "base_uri": "https://localhost:8080/"
        },
        "id": "7l93oceRA-26",
        "outputId": "c32032fd-047b-4134-ff3a-24e12b778cb2"
      },
      "execution_count": 488,
      "outputs": [
        {
          "output_type": "stream",
          "name": "stdout",
          "text": [
            "time: 2.86 ms (started: 2023-09-26 12:36:53 +00:00)\n"
          ]
        }
      ]
    },
    {
      "cell_type": "code",
      "source": [
        "print(classes.shape)"
      ],
      "metadata": {
        "id": "FuoTzrQffZy6",
        "outputId": "e5850b12-9147-4878-a9ba-b9bb18463dc8",
        "colab": {
          "base_uri": "https://localhost:8080/"
        }
      },
      "execution_count": 489,
      "outputs": [
        {
          "output_type": "stream",
          "name": "stdout",
          "text": [
            "(706,)\n",
            "time: 1.74 ms (started: 2023-09-26 12:36:55 +00:00)\n"
          ]
        }
      ]
    },
    {
      "cell_type": "code",
      "source": [
        "print(features.shape)"
      ],
      "metadata": {
        "colab": {
          "base_uri": "https://localhost:8080/"
        },
        "id": "-LxbJq9qBSKG",
        "outputId": "3fc76ee7-859d-492e-c6f0-da62fb448ac4"
      },
      "execution_count": 490,
      "outputs": [
        {
          "output_type": "stream",
          "name": "stdout",
          "text": [
            "(706, 13)\n",
            "time: 2.27 ms (started: 2023-09-26 12:36:56 +00:00)\n"
          ]
        }
      ]
    },
    {
      "cell_type": "code",
      "source": [
        "X_train, X_test, y_train, y_test = train_test_split(\n",
        "    features, classes ,test_size=0.25, shuffle=True, stratify=classes,\n",
        "    random_state=0\n",
        "    )"
      ],
      "metadata": {
        "colab": {
          "base_uri": "https://localhost:8080/"
        },
        "outputId": "95c6031d-9be9-4c3d-d7e0-ed5fcf3935fa",
        "id": "uKPH9YwkBZz9"
      },
      "execution_count": 491,
      "outputs": [
        {
          "output_type": "stream",
          "name": "stdout",
          "text": [
            "time: 4.12 ms (started: 2023-09-26 12:36:57 +00:00)\n"
          ]
        }
      ]
    },
    {
      "cell_type": "markdown",
      "source": [
        "## Defining and Training the Model"
      ],
      "metadata": {
        "id": "BLoGt9AzwbcR"
      }
    },
    {
      "cell_type": "code",
      "source": [
        "input_shape = (features.shape[1],)\n",
        "hidden_layers = 4\n",
        "unit_scalar = 3\n",
        "\n",
        "optimizer_name = 'Adam'\n",
        "learning_rate = 0.0005\n",
        "epochs = 500\n",
        "\n",
        "large_model = create_model(\n",
        "    input_shape=input_shape, hidden_layers=hidden_layers,\n",
        "    unit_scalar=unit_scalar, optimizer_name=optimizer_name,\n",
        "    learning_rate=learning_rate, epochs=epochs)\n",
        "\n",
        "print(large_model.summary())"
      ],
      "metadata": {
        "colab": {
          "base_uri": "https://localhost:8080/"
        },
        "id": "2uMYrBOnoNj5",
        "outputId": "dc153ef1-9aa3-4d16-a2c2-3ffc76148969"
      },
      "execution_count": 651,
      "outputs": [
        {
          "output_type": "stream",
          "name": "stdout",
          "text": [
            "Model: \"model_4hl_13mfcc\"\n",
            "_________________________________________________________________\n",
            " Layer (type)                Output Shape              Param #   \n",
            "=================================================================\n",
            " hidden_layer_1 (Dense)      (None, 128)               1792      \n",
            "                                                                 \n",
            " hidden_layer_2 (Dense)      (None, 64)                8256      \n",
            "                                                                 \n",
            " hidden_layer_3 (Dense)      (None, 32)                2080      \n",
            "                                                                 \n",
            " hidden_layer_4 (Dense)      (None, 16)                528       \n",
            "                                                                 \n",
            " output_layer (Dense)        (None, 2)                 34        \n",
            "                                                                 \n",
            "=================================================================\n",
            "Total params: 12690 (49.57 KB)\n",
            "Trainable params: 12690 (49.57 KB)\n",
            "Non-trainable params: 0 (0.00 Byte)\n",
            "_________________________________________________________________\n",
            "None\n",
            "time: 99 ms (started: 2023-09-26 13:13:19 +00:00)\n"
          ]
        }
      ]
    },
    {
      "cell_type": "code",
      "source": [
        "plot_model(large_model, show_shapes=True, show_layer_activations=True)"
      ],
      "metadata": {
        "id": "oWuhVSSpm4zx",
        "outputId": "b0033e96-aef7-4774-f6e2-6f84499e394d",
        "colab": {
          "base_uri": "https://localhost:8080/",
          "height": 662
        }
      },
      "execution_count": 652,
      "outputs": [
        {
          "output_type": "execute_result",
          "data": {
            "image/png": "[encoded data removed]",
            "text/plain": [
              "<IPython.core.display.Image object>"
            ]
          },
          "metadata": {},
          "execution_count": 652
        },
        {
          "output_type": "stream",
          "name": "stdout",
          "text": [
            "time: 60 ms (started: 2023-09-26 13:13:19 +00:00)\n"
          ]
        }
      ]
    },
    {
      "cell_type": "code",
      "source": [
        "# define callbacks\n",
        "reduce_lr_callback = callbacks.ReduceLROnPlateau(\n",
        "    monitor='val_loss', factor=0.5, patience=10, min_lr=0.000005, verbose=1)\n",
        "\n",
        "earlystopping = callbacks.EarlyStopping(\n",
        "    monitor=\"val_loss\", patience=50, restore_best_weights=True,\n",
        "    verbose=1)"
      ],
      "metadata": {
        "id": "-yqQRsZyriHj",
        "colab": {
          "base_uri": "https://localhost:8080/"
        },
        "outputId": "f95ba53f-0b86-4f47-a6d7-126f132e8cb1"
      },
      "execution_count": 653,
      "outputs": [
        {
          "output_type": "stream",
          "name": "stdout",
          "text": [
            "time: 1.28 ms (started: 2023-09-26 13:13:19 +00:00)\n"
          ]
        }
      ]
    },
    {
      "cell_type": "code",
      "source": [
        "large_fit  = large_model.fit(\n",
        "    X_train,\n",
        "    y_train,\n",
        "    epochs=epochs,\n",
        "    validation_data=(X_test, y_test),\n",
        "    callbacks=[\n",
        "        earlystopping,\n",
        "        reduce_lr_callback\n",
        "        ],\n",
        "    verbose=1)\n",
        "print()"
      ],
      "metadata": {
        "colab": {
          "base_uri": "https://localhost:8080/"
        },
        "outputId": "11426ba8-145b-4b4e-958e-073231f715a6",
        "id": "rsFQjdNwBZz9"
      },
      "execution_count": 654,
      "outputs": [
        {
          "output_type": "stream",
          "name": "stdout",
          "text": [
            "Epoch 1/500\n",
            "14/14 [==============================] - 1s 19ms/step - loss: 0.9114 - accuracy: 0.4792 - val_loss: 0.7454 - val_accuracy: 0.4931 - lr: 5.0000e-04\n",
            "Epoch 2/500\n",
            "14/14 [==============================] - 0s 5ms/step - loss: 0.6926 - accuracy: 0.5463 - val_loss: 0.7371 - val_accuracy: 0.4514 - lr: 5.0000e-04\n",
            "Epoch 3/500\n",
            "14/14 [==============================] - 0s 6ms/step - loss: 0.6825 - accuracy: 0.5532 - val_loss: 0.7353 - val_accuracy: 0.4514 - lr: 5.0000e-04\n",
            "Epoch 4/500\n",
            "14/14 [==============================] - 0s 6ms/step - loss: 0.6786 - accuracy: 0.5532 - val_loss: 0.7373 - val_accuracy: 0.4722 - lr: 5.0000e-04\n",
            "Epoch 5/500\n",
            "14/14 [==============================] - 0s 6ms/step - loss: 0.6712 - accuracy: 0.6134 - val_loss: 0.7388 - val_accuracy: 0.3889 - lr: 5.0000e-04\n",
            "Epoch 6/500\n",
            "14/14 [==============================] - 0s 6ms/step - loss: 0.6614 - accuracy: 0.6319 - val_loss: 0.7449 - val_accuracy: 0.3750 - lr: 5.0000e-04\n",
            "Epoch 7/500\n",
            "14/14 [==============================] - 0s 5ms/step - loss: 0.6628 - accuracy: 0.6227 - val_loss: 0.7588 - val_accuracy: 0.3750 - lr: 5.0000e-04\n",
            "Epoch 8/500\n",
            "14/14 [==============================] - 0s 6ms/step - loss: 0.6576 - accuracy: 0.6319 - val_loss: 0.7647 - val_accuracy: 0.4028 - lr: 5.0000e-04\n",
            "Epoch 9/500\n",
            "14/14 [==============================] - 0s 5ms/step - loss: 0.6611 - accuracy: 0.6042 - val_loss: 0.7645 - val_accuracy: 0.4306 - lr: 5.0000e-04\n",
            "Epoch 10/500\n",
            "14/14 [==============================] - 0s 5ms/step - loss: 0.6479 - accuracy: 0.6227 - val_loss: 0.7678 - val_accuracy: 0.4375 - lr: 5.0000e-04\n",
            "Epoch 11/500\n",
            "14/14 [==============================] - 0s 5ms/step - loss: 0.6350 - accuracy: 0.6481 - val_loss: 0.7987 - val_accuracy: 0.4444 - lr: 5.0000e-04\n",
            "Epoch 12/500\n",
            "14/14 [==============================] - 0s 6ms/step - loss: 0.6334 - accuracy: 0.6574 - val_loss: 0.7864 - val_accuracy: 0.4097 - lr: 5.0000e-04\n",
            "Epoch 13/500\n",
            " 1/14 [=>............................] - ETA: 0s - loss: 0.6094 - accuracy: 0.7188\n",
            "Epoch 13: ReduceLROnPlateau reducing learning rate to 0.0002500000118743628.\n",
            "14/14 [==============================] - 0s 6ms/step - loss: 0.6285 - accuracy: 0.6528 - val_loss: 0.8191 - val_accuracy: 0.4167 - lr: 5.0000e-04\n",
            "Epoch 14/500\n",
            "14/14 [==============================] - 0s 6ms/step - loss: 0.6194 - accuracy: 0.6644 - val_loss: 0.8090 - val_accuracy: 0.4167 - lr: 2.5000e-04\n",
            "Epoch 15/500\n",
            "14/14 [==============================] - 0s 6ms/step - loss: 0.6033 - accuracy: 0.6921 - val_loss: 0.8219 - val_accuracy: 0.4236 - lr: 2.5000e-04\n",
            "Epoch 16/500\n",
            "14/14 [==============================] - 0s 5ms/step - loss: 0.6092 - accuracy: 0.6806 - val_loss: 0.8196 - val_accuracy: 0.4514 - lr: 2.5000e-04\n",
            "Epoch 17/500\n",
            "14/14 [==============================] - 0s 5ms/step - loss: 0.5980 - accuracy: 0.6991 - val_loss: 0.8354 - val_accuracy: 0.4167 - lr: 2.5000e-04\n",
            "Epoch 18/500\n",
            "14/14 [==============================] - 0s 6ms/step - loss: 0.5989 - accuracy: 0.6944 - val_loss: 0.8260 - val_accuracy: 0.4236 - lr: 2.5000e-04\n",
            "Epoch 19/500\n",
            "14/14 [==============================] - 0s 6ms/step - loss: 0.5914 - accuracy: 0.7014 - val_loss: 0.8380 - val_accuracy: 0.4306 - lr: 2.5000e-04\n",
            "Epoch 20/500\n",
            "14/14 [==============================] - 0s 6ms/step - loss: 0.5916 - accuracy: 0.7199 - val_loss: 0.8506 - val_accuracy: 0.4375 - lr: 2.5000e-04\n",
            "Epoch 21/500\n",
            "14/14 [==============================] - 0s 5ms/step - loss: 0.5820 - accuracy: 0.6968 - val_loss: 0.8453 - val_accuracy: 0.4306 - lr: 2.5000e-04\n",
            "Epoch 22/500\n",
            "14/14 [==============================] - 0s 7ms/step - loss: 0.5780 - accuracy: 0.7130 - val_loss: 0.8743 - val_accuracy: 0.4236 - lr: 2.5000e-04\n",
            "Epoch 23/500\n",
            " 1/14 [=>............................] - ETA: 0s - loss: 0.4473 - accuracy: 0.8125\n",
            "Epoch 23: ReduceLROnPlateau reducing learning rate to 0.0001250000059371814.\n",
            "14/14 [==============================] - 0s 6ms/step - loss: 0.5947 - accuracy: 0.6782 - val_loss: 0.8597 - val_accuracy: 0.4375 - lr: 2.5000e-04\n",
            "Epoch 24/500\n",
            "14/14 [==============================] - 0s 5ms/step - loss: 0.5763 - accuracy: 0.7199 - val_loss: 0.8706 - val_accuracy: 0.4306 - lr: 1.2500e-04\n",
            "Epoch 25/500\n",
            "14/14 [==============================] - 0s 5ms/step - loss: 0.5698 - accuracy: 0.7199 - val_loss: 0.8641 - val_accuracy: 0.4097 - lr: 1.2500e-04\n",
            "Epoch 26/500\n",
            "14/14 [==============================] - 0s 5ms/step - loss: 0.5679 - accuracy: 0.7292 - val_loss: 0.8663 - val_accuracy: 0.4236 - lr: 1.2500e-04\n",
            "Epoch 27/500\n",
            "14/14 [==============================] - 0s 5ms/step - loss: 0.5644 - accuracy: 0.7106 - val_loss: 0.8685 - val_accuracy: 0.4167 - lr: 1.2500e-04\n",
            "Epoch 28/500\n",
            "14/14 [==============================] - 0s 6ms/step - loss: 0.5636 - accuracy: 0.7384 - val_loss: 0.8819 - val_accuracy: 0.4375 - lr: 1.2500e-04\n",
            "Epoch 29/500\n",
            "14/14 [==============================] - 0s 6ms/step - loss: 0.5595 - accuracy: 0.7106 - val_loss: 0.8715 - val_accuracy: 0.4236 - lr: 1.2500e-04\n",
            "Epoch 30/500\n",
            "14/14 [==============================] - 0s 6ms/step - loss: 0.5565 - accuracy: 0.7454 - val_loss: 0.8777 - val_accuracy: 0.4375 - lr: 1.2500e-04\n",
            "Epoch 31/500\n",
            "14/14 [==============================] - 0s 6ms/step - loss: 0.5637 - accuracy: 0.6944 - val_loss: 0.8822 - val_accuracy: 0.4375 - lr: 1.2500e-04\n",
            "Epoch 32/500\n",
            "14/14 [==============================] - 0s 6ms/step - loss: 0.5644 - accuracy: 0.7153 - val_loss: 0.8852 - val_accuracy: 0.4375 - lr: 1.2500e-04\n",
            "Epoch 33/500\n",
            " 1/14 [=>............................] - ETA: 0s - loss: 0.5724 - accuracy: 0.7188\n",
            "Epoch 33: ReduceLROnPlateau reducing learning rate to 6.25000029685907e-05.\n",
            "14/14 [==============================] - 0s 6ms/step - loss: 0.5575 - accuracy: 0.7546 - val_loss: 0.8918 - val_accuracy: 0.4444 - lr: 1.2500e-04\n",
            "Epoch 34/500\n",
            "14/14 [==============================] - 0s 5ms/step - loss: 0.5486 - accuracy: 0.7176 - val_loss: 0.8881 - val_accuracy: 0.4375 - lr: 6.2500e-05\n",
            "Epoch 35/500\n",
            "14/14 [==============================] - 0s 6ms/step - loss: 0.5460 - accuracy: 0.7407 - val_loss: 0.8904 - val_accuracy: 0.4097 - lr: 6.2500e-05\n",
            "Epoch 36/500\n",
            "14/14 [==============================] - 0s 5ms/step - loss: 0.5446 - accuracy: 0.7269 - val_loss: 0.8905 - val_accuracy: 0.4236 - lr: 6.2500e-05\n",
            "Epoch 37/500\n",
            "14/14 [==============================] - 0s 6ms/step - loss: 0.5432 - accuracy: 0.7292 - val_loss: 0.8895 - val_accuracy: 0.4167 - lr: 6.2500e-05\n",
            "Epoch 38/500\n",
            "14/14 [==============================] - 0s 5ms/step - loss: 0.5440 - accuracy: 0.7222 - val_loss: 0.8952 - val_accuracy: 0.4306 - lr: 6.2500e-05\n",
            "Epoch 39/500\n",
            "14/14 [==============================] - 0s 5ms/step - loss: 0.5417 - accuracy: 0.7477 - val_loss: 0.8988 - val_accuracy: 0.4167 - lr: 6.2500e-05\n",
            "Epoch 40/500\n",
            "14/14 [==============================] - 0s 7ms/step - loss: 0.5417 - accuracy: 0.7361 - val_loss: 0.9016 - val_accuracy: 0.4306 - lr: 6.2500e-05\n",
            "Epoch 41/500\n",
            "14/14 [==============================] - 0s 6ms/step - loss: 0.5418 - accuracy: 0.7431 - val_loss: 0.8990 - val_accuracy: 0.4236 - lr: 6.2500e-05\n",
            "Epoch 42/500\n",
            "14/14 [==============================] - 0s 6ms/step - loss: 0.5377 - accuracy: 0.7315 - val_loss: 0.9012 - val_accuracy: 0.4306 - lr: 6.2500e-05\n",
            "Epoch 43/500\n",
            " 1/14 [=>............................] - ETA: 0s - loss: 0.4868 - accuracy: 0.8125\n",
            "Epoch 43: ReduceLROnPlateau reducing learning rate to 3.125000148429535e-05.\n",
            "14/14 [==============================] - 0s 6ms/step - loss: 0.5391 - accuracy: 0.7199 - val_loss: 0.9007 - val_accuracy: 0.4236 - lr: 6.2500e-05\n",
            "Epoch 44/500\n",
            "14/14 [==============================] - 0s 6ms/step - loss: 0.5344 - accuracy: 0.7384 - val_loss: 0.9017 - val_accuracy: 0.4167 - lr: 3.1250e-05\n",
            "Epoch 45/500\n",
            "14/14 [==============================] - 0s 7ms/step - loss: 0.5362 - accuracy: 0.7569 - val_loss: 0.9053 - val_accuracy: 0.4167 - lr: 3.1250e-05\n",
            "Epoch 46/500\n",
            "14/14 [==============================] - 0s 6ms/step - loss: 0.5357 - accuracy: 0.7616 - val_loss: 0.9058 - val_accuracy: 0.4097 - lr: 3.1250e-05\n",
            "Epoch 47/500\n",
            "14/14 [==============================] - 0s 6ms/step - loss: 0.5340 - accuracy: 0.7245 - val_loss: 0.9092 - val_accuracy: 0.4306 - lr: 3.1250e-05\n",
            "Epoch 48/500\n",
            "14/14 [==============================] - 0s 5ms/step - loss: 0.5343 - accuracy: 0.7384 - val_loss: 0.9055 - val_accuracy: 0.4028 - lr: 3.1250e-05\n",
            "Epoch 49/500\n",
            "14/14 [==============================] - 0s 5ms/step - loss: 0.5374 - accuracy: 0.7222 - val_loss: 0.9100 - val_accuracy: 0.4306 - lr: 3.1250e-05\n",
            "Epoch 50/500\n",
            "14/14 [==============================] - 0s 6ms/step - loss: 0.5319 - accuracy: 0.7477 - val_loss: 0.9085 - val_accuracy: 0.4236 - lr: 3.1250e-05\n",
            "Epoch 51/500\n",
            "14/14 [==============================] - 0s 5ms/step - loss: 0.5317 - accuracy: 0.7523 - val_loss: 0.9091 - val_accuracy: 0.4306 - lr: 3.1250e-05\n",
            "Epoch 52/500\n",
            "14/14 [==============================] - 0s 6ms/step - loss: 0.5307 - accuracy: 0.7384 - val_loss: 0.9093 - val_accuracy: 0.4375 - lr: 3.1250e-05\n",
            "Epoch 53/500\n",
            " 1/14 [=>............................] - ETA: 0s - loss: 0.5484 - accuracy: 0.7812Restoring model weights from the end of the best epoch: 3.\n",
            "\n",
            "Epoch 53: ReduceLROnPlateau reducing learning rate to 1.5625000742147677e-05.\n",
            "14/14 [==============================] - 0s 7ms/step - loss: 0.5315 - accuracy: 0.7338 - val_loss: 0.9099 - val_accuracy: 0.4375 - lr: 3.1250e-05\n",
            "Epoch 53: early stopping\n",
            "\n",
            "time: 5.72 s (started: 2023-09-26 13:13:19 +00:00)\n"
          ]
        }
      ]
    },
    {
      "cell_type": "markdown",
      "source": [
        "## Assessing the Model"
      ],
      "metadata": {
        "id": "bXQNLSaT-MEL"
      }
    },
    {
      "cell_type": "code",
      "source": [
        "large_fit_history = pd.DataFrame(large_fit.history)\n",
        "title = f'{features.shape[1]} MFCCs | {hidden_layers} Hidden Layers'\n",
        "large_fit_history[['loss','val_loss']].plot(title=title,xlabel='steps', ylabel='loss')\n",
        "plt.show()"
      ],
      "metadata": {
        "id": "VrqJSs9L1L3P",
        "colab": {
          "base_uri": "https://localhost:8080/",
          "height": 490
        },
        "outputId": "d3315439-f96c-48c8-e35a-91c4c27ebae9"
      },
      "execution_count": 664,
      "outputs": [
        {
          "output_type": "display_data",
          "data": {
            "text/plain": [
              "<Figure size 640x480 with 1 Axes>"
            ],
            "image/png": "[encoded data removed]"
          },
          "metadata": {}
        },
        {
          "output_type": "stream",
          "name": "stdout",
          "text": [
            "time: 544 ms (started: 2023-09-26 13:14:17 +00:00)\n"
          ]
        }
      ]
    },
    {
      "cell_type": "code",
      "source": [
        "title = f'{features.shape[1]} MFCCs | {hidden_layers} Hidden Layers'\n",
        "large_fit_history[['accuracy','val_accuracy']].plot(title=title,xlabel='steps', ylabel='accuracy')\n",
        "plt.show()"
      ],
      "metadata": {
        "id": "3iSZo6sr3nqz",
        "colab": {
          "base_uri": "https://localhost:8080/",
          "height": 490
        },
        "outputId": "77130b0d-9f17-4be6-8a1f-57aca694482b"
      },
      "execution_count": 665,
      "outputs": [
        {
          "output_type": "display_data",
          "data": {
            "text/plain": [
              "<Figure size 640x480 with 1 Axes>"
            ],
            "image/png": "[encoded data removed]"
          },
          "metadata": {}
        },
        {
          "output_type": "stream",
          "name": "stdout",
          "text": [
            "time: 264 ms (started: 2023-09-26 13:14:36 +00:00)\n"
          ]
        }
      ]
    },
    {
      "cell_type": "code",
      "source": [
        "large_model_accuracy = large_model.evaluate(X_test, y_test,\n",
        "  verbose=0)\n",
        "print(large_model_accuracy)"
      ],
      "metadata": {
        "id": "pr9CU8ynBZz9",
        "colab": {
          "base_uri": "https://localhost:8080/"
        },
        "outputId": "7365decd-51a6-4e46-fbe3-d5148b85e7ff"
      },
      "execution_count": 657,
      "outputs": [
        {
          "output_type": "stream",
          "name": "stdout",
          "text": [
            "[0.7041136026382446, 0.5208333134651184]\n",
            "time: 105 ms (started: 2023-09-26 13:13:31 +00:00)\n"
          ]
        }
      ]
    },
    {
      "cell_type": "code",
      "source": [
        "large_model_y_probability = large_model.predict(X_test, verbose=0)\n",
        "large_model_y_predicted = np.argmax(large_model_y_probability, axis=-1)\n",
        "print(large_model_y_predicted)"
      ],
      "metadata": {
        "id": "oYlNaxexBZz9",
        "colab": {
          "base_uri": "https://localhost:8080/"
        },
        "outputId": "dddb23f6-9209-456a-86ff-f45838b1ce75"
      },
      "execution_count": 679,
      "outputs": [
        {
          "output_type": "stream",
          "name": "stdout",
          "text": [
            "[1 1 1 1 0 1 1 1 1 1 1 1 0 1 1 1 1 1 0 1 1 1 1 1 1 1 1 1 1 0 1 0 1 1 1 1 1\n",
            " 1 1 1 1 1 1 0 1 1 1 1 1 0 1 1 1 1 1 1 0 1 1 1 1 1 1 1 1 1 1 1 0 1 1 1 1 1\n",
            " 1 1 0 1 1 1 1 0 1 1 1 1 1 1 1 1 1 1 1 1 0 1 0 0 1 1 1 1 0 1 1 1 1 1 1 1 1\n",
            " 1 0 1 0 1 1 1 1 1 1 1 1 1 1 1 1 1 0 1 1 0 1 1 0 1 1 0 1 1 1 1 1 1]\n",
            "time: 87 ms (started: 2023-09-26 13:29:56 +00:00)\n"
          ]
        }
      ]
    },
    {
      "cell_type": "code",
      "source": [
        "# notice the y_test and not cat\n",
        "large_model_report = metrics.classification_report(\n",
        "    y_test, large_model_y_predicted, digits=4, target_names=['no-death','death'])\n",
        "print(large_model_report)"
      ],
      "metadata": {
        "id": "RRRXklenBZz9",
        "colab": {
          "base_uri": "https://localhost:8080/"
        },
        "outputId": "e42cf988-eeef-48d1-9525-aa81fceb47c1"
      },
      "execution_count": 674,
      "outputs": [
        {
          "output_type": "stream",
          "name": "stdout",
          "text": [
            "              precision    recall  f1-score   support\n",
            "\n",
            "    no-death     0.3333    0.0972    0.1505        72\n",
            "       death     0.4715    0.8056    0.5949        72\n",
            "\n",
            "    accuracy                         0.4514       144\n",
            "   macro avg     0.4024    0.4514    0.3727       144\n",
            "weighted avg     0.4024    0.4514    0.3727       144\n",
            "\n",
            "time: 21.5 ms (started: 2023-09-26 13:22:34 +00:00)\n"
          ]
        }
      ]
    },
    {
      "cell_type": "code",
      "source": [
        "large_model_conf_mat = metrics.confusion_matrix(y_test, large_model_y_predicted)"
      ],
      "metadata": {
        "id": "O8jyng7UB-Wz",
        "colab": {
          "base_uri": "https://localhost:8080/"
        },
        "outputId": "5f43c129-b27f-41ff-d283-ed254245adb2"
      },
      "execution_count": 677,
      "outputs": [
        {
          "output_type": "stream",
          "name": "stdout",
          "text": [
            "time: 3.2 ms (started: 2023-09-26 13:23:35 +00:00)\n"
          ]
        }
      ]
    },
    {
      "cell_type": "code",
      "source": [
        "ax = sns.heatmap(\n",
        "    large_model_conf_mat, annot=True, linewidths=0.01,\n",
        "    cmap=\"Greens\", linecolor=\"gray\", fmt='g')\n",
        "\n",
        "ax.set_xlabel(\"\\nPredicted Label\")\n",
        "ax.set_ylabel(\"True Label\\n\")\n",
        "\n",
        "ax.xaxis.set_ticklabels(['Non-Fatal','Fatal'])\n",
        "ax.yaxis.set_ticklabels(['Non-Fatal','Fatal'])\n",
        "\n",
        "\n",
        "ax.set_title(\"Confusion matrix for deep features neural network\\n\")\n",
        "\n",
        "plt.show()\n",
        "\n",
        "sensitivity1 = large_model_conf_mat[0,0]/(large_model_conf_mat[0,0]+large_model_conf_mat[0,1])\n",
        "print('Sensitivity : ', sensitivity1 )\n",
        "\n",
        "specificity1 = large_model_conf_mat[1,1]/(large_model_conf_mat[1,0]+large_model_conf_mat[1,1])\n",
        "print('Specificity : ', specificity1)"
      ],
      "metadata": {
        "id": "ZckFbGd84H1s",
        "colab": {
          "base_uri": "https://localhost:8080/",
          "height": 562
        },
        "outputId": "f136b5ba-ed81-4dc7-8362-e0ab58ded519"
      },
      "execution_count": 678,
      "outputs": [
        {
          "output_type": "display_data",
          "data": {
            "text/plain": [
              "<Figure size 640x480 with 2 Axes>"
            ],
            "image/png": "[encoded data removed]"
          },
          "metadata": {}
        },
        {
          "output_type": "stream",
          "name": "stdout",
          "text": [
            "Sensitivity :  0.09722222222222222\n",
            "Specificity :  0.8055555555555556\n",
            "time: 244 ms (started: 2023-09-26 13:23:36 +00:00)\n"
          ]
        }
      ]
    },
    {
      "cell_type": "markdown",
      "source": [
        "# MFCC Model - Small Model"
      ],
      "metadata": {
        "id": "ZikSegL5_oG7"
      }
    },
    {
      "cell_type": "markdown",
      "source": [
        "## Extracting Features and Classes"
      ],
      "metadata": {
        "id": "3mDdQPJw_oHM"
      }
    },
    {
      "cell_type": "markdown",
      "source": [
        "### The Models' features"
      ],
      "metadata": {
        "id": "KztnMsCk_oHM"
      }
    },
    {
      "cell_type": "code",
      "source": [
        "# paths\n",
        "filenames = metadata_df['filename']\n",
        "features = filenames.progress_apply(mfcc_feature_extractor, n_mfcc=13)\n",
        "features.rename('features', inplace=True)\n",
        "\n",
        "features_named = pd.concat([filenames, features], axis=1)\n",
        "features_named.head(10)"
      ],
      "metadata": {
        "colab": {
          "base_uri": "https://localhost:8080/",
          "height": 398
        },
        "outputId": "511d106a-8d6f-497c-8127-20e77e87efb7",
        "id": "IcOOnnqn_oHM"
      },
      "execution_count": 198,
      "outputs": [
        {
          "output_type": "stream",
          "name": "stderr",
          "text": [
            "100%|██████████| 706/706 [00:31<00:00, 22.63it/s]\n"
          ]
        },
        {
          "output_type": "execute_result",
          "data": {
            "text/plain": [
              "                      filename  \\\n",
              "0   911_first6sec/call_2_0.wav   \n",
              "1   911_first6sec/call_8_0.wav   \n",
              "2   911_first6sec/call_9_0.wav   \n",
              "3  911_first6sec/call_10_0.wav   \n",
              "4  911_first6sec/call_11_0.wav   \n",
              "5  911_first6sec/call_12_0.wav   \n",
              "6  911_first6sec/call_13_0.wav   \n",
              "7  911_first6sec/call_15_0.wav   \n",
              "8  911_first6sec/call_16_0.wav   \n",
              "9  911_first6sec/call_17_0.wav   \n",
              "\n",
              "                                            features  \n",
              "0  [-496.04065, 136.32658, -38.824547, -2.956653,...  \n",
              "1  [-542.26483, 113.492096, -54.898445, -16.93544...  \n",
              "2  [-469.10492, 144.50133, -53.16924, -35.66156, ...  \n",
              "3  [-461.7921, 102.00011, 4.2778754, -3.2980382, ...  \n",
              "4  [-388.4136, 191.76454, -68.483246, -28.393341,...  \n",
              "5  [-366.632, 123.76255, -8.727576, -9.830455, 2....  \n",
              "6  [-328.94275, 173.40773, -122.68931, -22.340195...  \n",
              "7  [-388.2811, 92.171074, 0.91390646, -14.596169,...  \n",
              "8  [-500.0724, 121.41379, -37.134045, 13.093015, ...  \n",
              "9  [-335.3681, 180.51752, -75.116455, -6.7831354,...  "
            ],
            "text/html": [
              "\n",
              "  <div id=\"df-ff7beb91-0280-41a4-9504-bced561a9f5a\" class=\"colab-df-container\">\n",
              "    <div>\n",
              "<style scoped>\n",
              "    .dataframe tbody tr th:only-of-type {\n",
              "        vertical-align: middle;\n",
              "    }\n",
              "\n",
              "    .dataframe tbody tr th {\n",
              "        vertical-align: top;\n",
              "    }\n",
              "\n",
              "    .dataframe thead th {\n",
              "        text-align: right;\n",
              "    }\n",
              "</style>\n",
              "<table border=\"1\" class=\"dataframe\">\n",
              "  <thead>\n",
              "    <tr style=\"text-align: right;\">\n",
              "      <th></th>\n",
              "      <th>filename</th>\n",
              "      <th>features</th>\n",
              "    </tr>\n",
              "  </thead>\n",
              "  <tbody>\n",
              "    <tr>\n",
              "      <th>0</th>\n",
              "      <td>911_first6sec/call_2_0.wav</td>\n",
              "      <td>[-496.04065, 136.32658, -38.824547, -2.956653,...</td>\n",
              "    </tr>\n",
              "    <tr>\n",
              "      <th>1</th>\n",
              "      <td>911_first6sec/call_8_0.wav</td>\n",
              "      <td>[-542.26483, 113.492096, -54.898445, -16.93544...</td>\n",
              "    </tr>\n",
              "    <tr>\n",
              "      <th>2</th>\n",
              "      <td>911_first6sec/call_9_0.wav</td>\n",
              "      <td>[-469.10492, 144.50133, -53.16924, -35.66156, ...</td>\n",
              "    </tr>\n",
              "    <tr>\n",
              "      <th>3</th>\n",
              "      <td>911_first6sec/call_10_0.wav</td>\n",
              "      <td>[-461.7921, 102.00011, 4.2778754, -3.2980382, ...</td>\n",
              "    </tr>\n",
              "    <tr>\n",
              "      <th>4</th>\n",
              "      <td>911_first6sec/call_11_0.wav</td>\n",
              "      <td>[-388.4136, 191.76454, -68.483246, -28.393341,...</td>\n",
              "    </tr>\n",
              "    <tr>\n",
              "      <th>5</th>\n",
              "      <td>911_first6sec/call_12_0.wav</td>\n",
              "      <td>[-366.632, 123.76255, -8.727576, -9.830455, 2....</td>\n",
              "    </tr>\n",
              "    <tr>\n",
              "      <th>6</th>\n",
              "      <td>911_first6sec/call_13_0.wav</td>\n",
              "      <td>[-328.94275, 173.40773, -122.68931, -22.340195...</td>\n",
              "    </tr>\n",
              "    <tr>\n",
              "      <th>7</th>\n",
              "      <td>911_first6sec/call_15_0.wav</td>\n",
              "      <td>[-388.2811, 92.171074, 0.91390646, -14.596169,...</td>\n",
              "    </tr>\n",
              "    <tr>\n",
              "      <th>8</th>\n",
              "      <td>911_first6sec/call_16_0.wav</td>\n",
              "      <td>[-500.0724, 121.41379, -37.134045, 13.093015, ...</td>\n",
              "    </tr>\n",
              "    <tr>\n",
              "      <th>9</th>\n",
              "      <td>911_first6sec/call_17_0.wav</td>\n",
              "      <td>[-335.3681, 180.51752, -75.116455, -6.7831354,...</td>\n",
              "    </tr>\n",
              "  </tbody>\n",
              "</table>\n",
              "</div>\n",
              "    <div class=\"colab-df-buttons\">\n",
              "\n",
              "  <div class=\"colab-df-container\">\n",
              "    <button class=\"colab-df-convert\" onclick=\"convertToInteractive('df-ff7beb91-0280-41a4-9504-bced561a9f5a')\"\n",
              "            title=\"Convert this dataframe to an interactive table.\"\n",
              "            style=\"display:none;\">\n",
              "\n",
              "  <svg xmlns=\"http://www.w3.org/2000/svg\" height=\"24px\" viewBox=\"0 -960 960 960\">\n",
              "    <path d=\"M120-120v-720h720v720H120Zm60-500h600v-160H180v160Zm220 220h160v-160H400v160Zm0 220h160v-160H400v160ZM180-400h160v-160H180v160Zm440 0h160v-160H620v160ZM180-180h160v-160H180v160Zm440 0h160v-160H620v160Z\"/>\n",
              "  </svg>\n",
              "    </button>\n",
              "\n",
              "  <style>\n",
              "    .colab-df-container {\n",
              "      display:flex;\n",
              "      gap: 12px;\n",
              "    }\n",
              "\n",
              "    .colab-df-convert {\n",
              "      background-color: #E8F0FE;\n",
              "      border: none;\n",
              "      border-radius: 50%;\n",
              "      cursor: pointer;\n",
              "      display: none;\n",
              "      fill: #1967D2;\n",
              "      height: 32px;\n",
              "      padding: 0 0 0 0;\n",
              "      width: 32px;\n",
              "    }\n",
              "\n",
              "    .colab-df-convert:hover {\n",
              "      background-color: #E2EBFA;\n",
              "      box-shadow: 0px 1px 2px rgba(60, 64, 67, 0.3), 0px 1px 3px 1px rgba(60, 64, 67, 0.15);\n",
              "      fill: #174EA6;\n",
              "    }\n",
              "\n",
              "    .colab-df-buttons div {\n",
              "      margin-bottom: 4px;\n",
              "    }\n",
              "\n",
              "    [theme=dark] .colab-df-convert {\n",
              "      background-color: #3B4455;\n",
              "      fill: #D2E3FC;\n",
              "    }\n",
              "\n",
              "    [theme=dark] .colab-df-convert:hover {\n",
              "      background-color: #434B5C;\n",
              "      box-shadow: 0px 1px 3px 1px rgba(0, 0, 0, 0.15);\n",
              "      filter: drop-shadow(0px 1px 2px rgba(0, 0, 0, 0.3));\n",
              "      fill: #FFFFFF;\n",
              "    }\n",
              "  </style>\n",
              "\n",
              "    <script>\n",
              "      const buttonEl =\n",
              "        document.querySelector('#df-ff7beb91-0280-41a4-9504-bced561a9f5a button.colab-df-convert');\n",
              "      buttonEl.style.display =\n",
              "        google.colab.kernel.accessAllowed ? 'block' : 'none';\n",
              "\n",
              "      async function convertToInteractive(key) {\n",
              "        const element = document.querySelector('#df-ff7beb91-0280-41a4-9504-bced561a9f5a');\n",
              "        const dataTable =\n",
              "          await google.colab.kernel.invokeFunction('convertToInteractive',\n",
              "                                                    [key], {});\n",
              "        if (!dataTable) return;\n",
              "\n",
              "        const docLinkHtml = 'Like what you see? Visit the ' +\n",
              "          '<a target=\"_blank\" href=https://colab.research.google.com/notebooks/data_table.ipynb>data table notebook</a>'\n",
              "          + ' to learn more about interactive tables.';\n",
              "        element.innerHTML = '';\n",
              "        dataTable['output_type'] = 'display_data';\n",
              "        await google.colab.output.renderOutput(dataTable, element);\n",
              "        const docLink = document.createElement('div');\n",
              "        docLink.innerHTML = docLinkHtml;\n",
              "        element.appendChild(docLink);\n",
              "      }\n",
              "    </script>\n",
              "  </div>\n",
              "\n",
              "\n",
              "<div id=\"df-1ecddd0d-8930-4463-9bbf-df636c32b372\">\n",
              "  <button class=\"colab-df-quickchart\" onclick=\"quickchart('df-1ecddd0d-8930-4463-9bbf-df636c32b372')\"\n",
              "            title=\"Suggest charts.\"\n",
              "            style=\"display:none;\">\n",
              "\n",
              "<svg xmlns=\"http://www.w3.org/2000/svg\" height=\"24px\"viewBox=\"0 0 24 24\"\n",
              "     width=\"24px\">\n",
              "    <g>\n",
              "        <path d=\"M19 3H5c-1.1 0-2 .9-2 2v14c0 1.1.9 2 2 2h14c1.1 0 2-.9 2-2V5c0-1.1-.9-2-2-2zM9 17H7v-7h2v7zm4 0h-2V7h2v10zm4 0h-2v-4h2v4z\"/>\n",
              "    </g>\n",
              "</svg>\n",
              "  </button>\n",
              "\n",
              "<style>\n",
              "  .colab-df-quickchart {\n",
              "      --bg-color: #E8F0FE;\n",
              "      --fill-color: #1967D2;\n",
              "      --hover-bg-color: #E2EBFA;\n",
              "      --hover-fill-color: #174EA6;\n",
              "      --disabled-fill-color: #AAA;\n",
              "      --disabled-bg-color: #DDD;\n",
              "  }\n",
              "\n",
              "  [theme=dark] .colab-df-quickchart {\n",
              "      --bg-color: #3B4455;\n",
              "      --fill-color: #D2E3FC;\n",
              "      --hover-bg-color: #434B5C;\n",
              "      --hover-fill-color: #FFFFFF;\n",
              "      --disabled-bg-color: #3B4455;\n",
              "      --disabled-fill-color: #666;\n",
              "  }\n",
              "\n",
              "  .colab-df-quickchart {\n",
              "    background-color: var(--bg-color);\n",
              "    border: none;\n",
              "    border-radius: 50%;\n",
              "    cursor: pointer;\n",
              "    display: none;\n",
              "    fill: var(--fill-color);\n",
              "    height: 32px;\n",
              "    padding: 0;\n",
              "    width: 32px;\n",
              "  }\n",
              "\n",
              "  .colab-df-quickchart:hover {\n",
              "    background-color: var(--hover-bg-color);\n",
              "    box-shadow: 0 1px 2px rgba(60, 64, 67, 0.3), 0 1px 3px 1px rgba(60, 64, 67, 0.15);\n",
              "    fill: var(--button-hover-fill-color);\n",
              "  }\n",
              "\n",
              "  .colab-df-quickchart-complete:disabled,\n",
              "  .colab-df-quickchart-complete:disabled:hover {\n",
              "    background-color: var(--disabled-bg-color);\n",
              "    fill: var(--disabled-fill-color);\n",
              "    box-shadow: none;\n",
              "  }\n",
              "\n",
              "  .colab-df-spinner {\n",
              "    border: 2px solid var(--fill-color);\n",
              "    border-color: transparent;\n",
              "    border-bottom-color: var(--fill-color);\n",
              "    animation:\n",
              "      spin 1s steps(1) infinite;\n",
              "  }\n",
              "\n",
              "  @keyframes spin {\n",
              "    0% {\n",
              "      border-color: transparent;\n",
              "      border-bottom-color: var(--fill-color);\n",
              "      border-left-color: var(--fill-color);\n",
              "    }\n",
              "    20% {\n",
              "      border-color: transparent;\n",
              "      border-left-color: var(--fill-color);\n",
              "      border-top-color: var(--fill-color);\n",
              "    }\n",
              "    30% {\n",
              "      border-color: transparent;\n",
              "      border-left-color: var(--fill-color);\n",
              "      border-top-color: var(--fill-color);\n",
              "      border-right-color: var(--fill-color);\n",
              "    }\n",
              "    40% {\n",
              "      border-color: transparent;\n",
              "      border-right-color: var(--fill-color);\n",
              "      border-top-color: var(--fill-color);\n",
              "    }\n",
              "    60% {\n",
              "      border-color: transparent;\n",
              "      border-right-color: var(--fill-color);\n",
              "    }\n",
              "    80% {\n",
              "      border-color: transparent;\n",
              "      border-right-color: var(--fill-color);\n",
              "      border-bottom-color: var(--fill-color);\n",
              "    }\n",
              "    90% {\n",
              "      border-color: transparent;\n",
              "      border-bottom-color: var(--fill-color);\n",
              "    }\n",
              "  }\n",
              "</style>\n",
              "\n",
              "  <script>\n",
              "    async function quickchart(key) {\n",
              "      const quickchartButtonEl =\n",
              "        document.querySelector('#' + key + ' button');\n",
              "      quickchartButtonEl.disabled = true;  // To prevent multiple clicks.\n",
              "      quickchartButtonEl.classList.add('colab-df-spinner');\n",
              "      try {\n",
              "        const charts = await google.colab.kernel.invokeFunction(\n",
              "            'suggestCharts', [key], {});\n",
              "      } catch (error) {\n",
              "        console.error('Error during call to suggestCharts:', error);\n",
              "      }\n",
              "      quickchartButtonEl.classList.remove('colab-df-spinner');\n",
              "      quickchartButtonEl.classList.add('colab-df-quickchart-complete');\n",
              "    }\n",
              "    (() => {\n",
              "      let quickchartButtonEl =\n",
              "        document.querySelector('#df-1ecddd0d-8930-4463-9bbf-df636c32b372 button');\n",
              "      quickchartButtonEl.style.display =\n",
              "        google.colab.kernel.accessAllowed ? 'block' : 'none';\n",
              "    })();\n",
              "  </script>\n",
              "</div>\n",
              "    </div>\n",
              "  </div>\n"
            ]
          },
          "metadata": {},
          "execution_count": 198
        },
        {
          "output_type": "stream",
          "name": "stdout",
          "text": [
            "time: 31.2 s (started: 2023-09-26 10:53:07 +00:00)\n"
          ]
        }
      ]
    },
    {
      "cell_type": "code",
      "source": [
        "print(f'Number of samples: {len(features)}')\n",
        "print(f'Number of MFCCs per sample: {len(features[0])}')"
      ],
      "metadata": {
        "colab": {
          "base_uri": "https://localhost:8080/"
        },
        "outputId": "807289d9-45a8-46ce-f0ce-1ca3fe03eb93",
        "id": "d9G8st0y_oHM"
      },
      "execution_count": 199,
      "outputs": [
        {
          "output_type": "stream",
          "name": "stdout",
          "text": [
            "Number of samples: 706\n",
            "Number of MFCCs per sample: 13\n",
            "time: 4.89 ms (started: 2023-09-26 10:53:38 +00:00)\n"
          ]
        }
      ]
    },
    {
      "cell_type": "markdown",
      "source": [
        " ### The Models' Classes"
      ],
      "metadata": {
        "id": "B1MVRzXN_oHM"
      }
    },
    {
      "cell_type": "code",
      "source": [
        "# Create classification\n",
        "classes_named = metadata_df[['filename', 'deaths_binary']]\n",
        "\n",
        "classes_named = classes_named.rename(\n",
        "  columns={'deaths_binary': 'resulted_in_deaths'})\n",
        "\n",
        "# Create combied dataframe\n",
        "features_classes = pd.merge(features_named, classes_named)\n",
        "features_classes.head(10)"
      ],
      "metadata": {
        "colab": {
          "base_uri": "https://localhost:8080/",
          "height": 380
        },
        "outputId": "6a7e83ab-7718-4fa0-8292-5d9c03fd20b1",
        "id": "aAlwvY3u_oHM"
      },
      "execution_count": 200,
      "outputs": [
        {
          "output_type": "execute_result",
          "data": {
            "text/plain": [
              "                      filename  \\\n",
              "0   911_first6sec/call_2_0.wav   \n",
              "1   911_first6sec/call_8_0.wav   \n",
              "2   911_first6sec/call_9_0.wav   \n",
              "3  911_first6sec/call_10_0.wav   \n",
              "4  911_first6sec/call_11_0.wav   \n",
              "5  911_first6sec/call_12_0.wav   \n",
              "6  911_first6sec/call_13_0.wav   \n",
              "7  911_first6sec/call_15_0.wav   \n",
              "8  911_first6sec/call_16_0.wav   \n",
              "9  911_first6sec/call_17_0.wav   \n",
              "\n",
              "                                            features  resulted_in_deaths  \n",
              "0  [-496.04065, 136.32658, -38.824547, -2.956653,...                   1  \n",
              "1  [-542.26483, 113.492096, -54.898445, -16.93544...                   1  \n",
              "2  [-469.10492, 144.50133, -53.16924, -35.66156, ...                   0  \n",
              "3  [-461.7921, 102.00011, 4.2778754, -3.2980382, ...                   1  \n",
              "4  [-388.4136, 191.76454, -68.483246, -28.393341,...                   0  \n",
              "5  [-366.632, 123.76255, -8.727576, -9.830455, 2....                   1  \n",
              "6  [-328.94275, 173.40773, -122.68931, -22.340195...                   1  \n",
              "7  [-388.2811, 92.171074, 0.91390646, -14.596169,...                   1  \n",
              "8  [-500.0724, 121.41379, -37.134045, 13.093015, ...                   1  \n",
              "9  [-335.3681, 180.51752, -75.116455, -6.7831354,...                   1  "
            ],
            "text/html": [
              "\n",
              "  <div id=\"df-55a9af58-8cfd-471c-b9c9-cab08ef36dd6\" class=\"colab-df-container\">\n",
              "    <div>\n",
              "<style scoped>\n",
              "    .dataframe tbody tr th:only-of-type {\n",
              "        vertical-align: middle;\n",
              "    }\n",
              "\n",
              "    .dataframe tbody tr th {\n",
              "        vertical-align: top;\n",
              "    }\n",
              "\n",
              "    .dataframe thead th {\n",
              "        text-align: right;\n",
              "    }\n",
              "</style>\n",
              "<table border=\"1\" class=\"dataframe\">\n",
              "  <thead>\n",
              "    <tr style=\"text-align: right;\">\n",
              "      <th></th>\n",
              "      <th>filename</th>\n",
              "      <th>features</th>\n",
              "      <th>resulted_in_deaths</th>\n",
              "    </tr>\n",
              "  </thead>\n",
              "  <tbody>\n",
              "    <tr>\n",
              "      <th>0</th>\n",
              "      <td>911_first6sec/call_2_0.wav</td>\n",
              "      <td>[-496.04065, 136.32658, -38.824547, -2.956653,...</td>\n",
              "      <td>1</td>\n",
              "    </tr>\n",
              "    <tr>\n",
              "      <th>1</th>\n",
              "      <td>911_first6sec/call_8_0.wav</td>\n",
              "      <td>[-542.26483, 113.492096, -54.898445, -16.93544...</td>\n",
              "      <td>1</td>\n",
              "    </tr>\n",
              "    <tr>\n",
              "      <th>2</th>\n",
              "      <td>911_first6sec/call_9_0.wav</td>\n",
              "      <td>[-469.10492, 144.50133, -53.16924, -35.66156, ...</td>\n",
              "      <td>0</td>\n",
              "    </tr>\n",
              "    <tr>\n",
              "      <th>3</th>\n",
              "      <td>911_first6sec/call_10_0.wav</td>\n",
              "      <td>[-461.7921, 102.00011, 4.2778754, -3.2980382, ...</td>\n",
              "      <td>1</td>\n",
              "    </tr>\n",
              "    <tr>\n",
              "      <th>4</th>\n",
              "      <td>911_first6sec/call_11_0.wav</td>\n",
              "      <td>[-388.4136, 191.76454, -68.483246, -28.393341,...</td>\n",
              "      <td>0</td>\n",
              "    </tr>\n",
              "    <tr>\n",
              "      <th>5</th>\n",
              "      <td>911_first6sec/call_12_0.wav</td>\n",
              "      <td>[-366.632, 123.76255, -8.727576, -9.830455, 2....</td>\n",
              "      <td>1</td>\n",
              "    </tr>\n",
              "    <tr>\n",
              "      <th>6</th>\n",
              "      <td>911_first6sec/call_13_0.wav</td>\n",
              "      <td>[-328.94275, 173.40773, -122.68931, -22.340195...</td>\n",
              "      <td>1</td>\n",
              "    </tr>\n",
              "    <tr>\n",
              "      <th>7</th>\n",
              "      <td>911_first6sec/call_15_0.wav</td>\n",
              "      <td>[-388.2811, 92.171074, 0.91390646, -14.596169,...</td>\n",
              "      <td>1</td>\n",
              "    </tr>\n",
              "    <tr>\n",
              "      <th>8</th>\n",
              "      <td>911_first6sec/call_16_0.wav</td>\n",
              "      <td>[-500.0724, 121.41379, -37.134045, 13.093015, ...</td>\n",
              "      <td>1</td>\n",
              "    </tr>\n",
              "    <tr>\n",
              "      <th>9</th>\n",
              "      <td>911_first6sec/call_17_0.wav</td>\n",
              "      <td>[-335.3681, 180.51752, -75.116455, -6.7831354,...</td>\n",
              "      <td>1</td>\n",
              "    </tr>\n",
              "  </tbody>\n",
              "</table>\n",
              "</div>\n",
              "    <div class=\"colab-df-buttons\">\n",
              "\n",
              "  <div class=\"colab-df-container\">\n",
              "    <button class=\"colab-df-convert\" onclick=\"convertToInteractive('df-55a9af58-8cfd-471c-b9c9-cab08ef36dd6')\"\n",
              "            title=\"Convert this dataframe to an interactive table.\"\n",
              "            style=\"display:none;\">\n",
              "\n",
              "  <svg xmlns=\"http://www.w3.org/2000/svg\" height=\"24px\" viewBox=\"0 -960 960 960\">\n",
              "    <path d=\"M120-120v-720h720v720H120Zm60-500h600v-160H180v160Zm220 220h160v-160H400v160Zm0 220h160v-160H400v160ZM180-400h160v-160H180v160Zm440 0h160v-160H620v160ZM180-180h160v-160H180v160Zm440 0h160v-160H620v160Z\"/>\n",
              "  </svg>\n",
              "    </button>\n",
              "\n",
              "  <style>\n",
              "    .colab-df-container {\n",
              "      display:flex;\n",
              "      gap: 12px;\n",
              "    }\n",
              "\n",
              "    .colab-df-convert {\n",
              "      background-color: #E8F0FE;\n",
              "      border: none;\n",
              "      border-radius: 50%;\n",
              "      cursor: pointer;\n",
              "      display: none;\n",
              "      fill: #1967D2;\n",
              "      height: 32px;\n",
              "      padding: 0 0 0 0;\n",
              "      width: 32px;\n",
              "    }\n",
              "\n",
              "    .colab-df-convert:hover {\n",
              "      background-color: #E2EBFA;\n",
              "      box-shadow: 0px 1px 2px rgba(60, 64, 67, 0.3), 0px 1px 3px 1px rgba(60, 64, 67, 0.15);\n",
              "      fill: #174EA6;\n",
              "    }\n",
              "\n",
              "    .colab-df-buttons div {\n",
              "      margin-bottom: 4px;\n",
              "    }\n",
              "\n",
              "    [theme=dark] .colab-df-convert {\n",
              "      background-color: #3B4455;\n",
              "      fill: #D2E3FC;\n",
              "    }\n",
              "\n",
              "    [theme=dark] .colab-df-convert:hover {\n",
              "      background-color: #434B5C;\n",
              "      box-shadow: 0px 1px 3px 1px rgba(0, 0, 0, 0.15);\n",
              "      filter: drop-shadow(0px 1px 2px rgba(0, 0, 0, 0.3));\n",
              "      fill: #FFFFFF;\n",
              "    }\n",
              "  </style>\n",
              "\n",
              "    <script>\n",
              "      const buttonEl =\n",
              "        document.querySelector('#df-55a9af58-8cfd-471c-b9c9-cab08ef36dd6 button.colab-df-convert');\n",
              "      buttonEl.style.display =\n",
              "        google.colab.kernel.accessAllowed ? 'block' : 'none';\n",
              "\n",
              "      async function convertToInteractive(key) {\n",
              "        const element = document.querySelector('#df-55a9af58-8cfd-471c-b9c9-cab08ef36dd6');\n",
              "        const dataTable =\n",
              "          await google.colab.kernel.invokeFunction('convertToInteractive',\n",
              "                                                    [key], {});\n",
              "        if (!dataTable) return;\n",
              "\n",
              "        const docLinkHtml = 'Like what you see? Visit the ' +\n",
              "          '<a target=\"_blank\" href=https://colab.research.google.com/notebooks/data_table.ipynb>data table notebook</a>'\n",
              "          + ' to learn more about interactive tables.';\n",
              "        element.innerHTML = '';\n",
              "        dataTable['output_type'] = 'display_data';\n",
              "        await google.colab.output.renderOutput(dataTable, element);\n",
              "        const docLink = document.createElement('div');\n",
              "        docLink.innerHTML = docLinkHtml;\n",
              "        element.appendChild(docLink);\n",
              "      }\n",
              "    </script>\n",
              "  </div>\n",
              "\n",
              "\n",
              "<div id=\"df-cb46c0e5-466a-4739-a4f4-0b8243f0748e\">\n",
              "  <button class=\"colab-df-quickchart\" onclick=\"quickchart('df-cb46c0e5-466a-4739-a4f4-0b8243f0748e')\"\n",
              "            title=\"Suggest charts.\"\n",
              "            style=\"display:none;\">\n",
              "\n",
              "<svg xmlns=\"http://www.w3.org/2000/svg\" height=\"24px\"viewBox=\"0 0 24 24\"\n",
              "     width=\"24px\">\n",
              "    <g>\n",
              "        <path d=\"M19 3H5c-1.1 0-2 .9-2 2v14c0 1.1.9 2 2 2h14c1.1 0 2-.9 2-2V5c0-1.1-.9-2-2-2zM9 17H7v-7h2v7zm4 0h-2V7h2v10zm4 0h-2v-4h2v4z\"/>\n",
              "    </g>\n",
              "</svg>\n",
              "  </button>\n",
              "\n",
              "<style>\n",
              "  .colab-df-quickchart {\n",
              "      --bg-color: #E8F0FE;\n",
              "      --fill-color: #1967D2;\n",
              "      --hover-bg-color: #E2EBFA;\n",
              "      --hover-fill-color: #174EA6;\n",
              "      --disabled-fill-color: #AAA;\n",
              "      --disabled-bg-color: #DDD;\n",
              "  }\n",
              "\n",
              "  [theme=dark] .colab-df-quickchart {\n",
              "      --bg-color: #3B4455;\n",
              "      --fill-color: #D2E3FC;\n",
              "      --hover-bg-color: #434B5C;\n",
              "      --hover-fill-color: #FFFFFF;\n",
              "      --disabled-bg-color: #3B4455;\n",
              "      --disabled-fill-color: #666;\n",
              "  }\n",
              "\n",
              "  .colab-df-quickchart {\n",
              "    background-color: var(--bg-color);\n",
              "    border: none;\n",
              "    border-radius: 50%;\n",
              "    cursor: pointer;\n",
              "    display: none;\n",
              "    fill: var(--fill-color);\n",
              "    height: 32px;\n",
              "    padding: 0;\n",
              "    width: 32px;\n",
              "  }\n",
              "\n",
              "  .colab-df-quickchart:hover {\n",
              "    background-color: var(--hover-bg-color);\n",
              "    box-shadow: 0 1px 2px rgba(60, 64, 67, 0.3), 0 1px 3px 1px rgba(60, 64, 67, 0.15);\n",
              "    fill: var(--button-hover-fill-color);\n",
              "  }\n",
              "\n",
              "  .colab-df-quickchart-complete:disabled,\n",
              "  .colab-df-quickchart-complete:disabled:hover {\n",
              "    background-color: var(--disabled-bg-color);\n",
              "    fill: var(--disabled-fill-color);\n",
              "    box-shadow: none;\n",
              "  }\n",
              "\n",
              "  .colab-df-spinner {\n",
              "    border: 2px solid var(--fill-color);\n",
              "    border-color: transparent;\n",
              "    border-bottom-color: var(--fill-color);\n",
              "    animation:\n",
              "      spin 1s steps(1) infinite;\n",
              "  }\n",
              "\n",
              "  @keyframes spin {\n",
              "    0% {\n",
              "      border-color: transparent;\n",
              "      border-bottom-color: var(--fill-color);\n",
              "      border-left-color: var(--fill-color);\n",
              "    }\n",
              "    20% {\n",
              "      border-color: transparent;\n",
              "      border-left-color: var(--fill-color);\n",
              "      border-top-color: var(--fill-color);\n",
              "    }\n",
              "    30% {\n",
              "      border-color: transparent;\n",
              "      border-left-color: var(--fill-color);\n",
              "      border-top-color: var(--fill-color);\n",
              "      border-right-color: var(--fill-color);\n",
              "    }\n",
              "    40% {\n",
              "      border-color: transparent;\n",
              "      border-right-color: var(--fill-color);\n",
              "      border-top-color: var(--fill-color);\n",
              "    }\n",
              "    60% {\n",
              "      border-color: transparent;\n",
              "      border-right-color: var(--fill-color);\n",
              "    }\n",
              "    80% {\n",
              "      border-color: transparent;\n",
              "      border-right-color: var(--fill-color);\n",
              "      border-bottom-color: var(--fill-color);\n",
              "    }\n",
              "    90% {\n",
              "      border-color: transparent;\n",
              "      border-bottom-color: var(--fill-color);\n",
              "    }\n",
              "  }\n",
              "</style>\n",
              "\n",
              "  <script>\n",
              "    async function quickchart(key) {\n",
              "      const quickchartButtonEl =\n",
              "        document.querySelector('#' + key + ' button');\n",
              "      quickchartButtonEl.disabled = true;  // To prevent multiple clicks.\n",
              "      quickchartButtonEl.classList.add('colab-df-spinner');\n",
              "      try {\n",
              "        const charts = await google.colab.kernel.invokeFunction(\n",
              "            'suggestCharts', [key], {});\n",
              "      } catch (error) {\n",
              "        console.error('Error during call to suggestCharts:', error);\n",
              "      }\n",
              "      quickchartButtonEl.classList.remove('colab-df-spinner');\n",
              "      quickchartButtonEl.classList.add('colab-df-quickchart-complete');\n",
              "    }\n",
              "    (() => {\n",
              "      let quickchartButtonEl =\n",
              "        document.querySelector('#df-cb46c0e5-466a-4739-a4f4-0b8243f0748e button');\n",
              "      quickchartButtonEl.style.display =\n",
              "        google.colab.kernel.accessAllowed ? 'block' : 'none';\n",
              "    })();\n",
              "  </script>\n",
              "</div>\n",
              "    </div>\n",
              "  </div>\n"
            ]
          },
          "metadata": {},
          "execution_count": 200
        },
        {
          "output_type": "stream",
          "name": "stdout",
          "text": [
            "time: 29.4 ms (started: 2023-09-26 10:53:38 +00:00)\n"
          ]
        }
      ]
    },
    {
      "cell_type": "code",
      "source": [
        "# save to csv in new data directory\n",
        "features_classes_path = os.path.join(new_data_dir, 'features_classes.csv')\n",
        "features_classes.to_csv(features_classes_path, encoding='utf-8', index=False)"
      ],
      "metadata": {
        "colab": {
          "base_uri": "https://localhost:8080/"
        },
        "outputId": "50fd203a-fcc6-47be-cd7f-e9a7c7b0e663",
        "id": "hwc31AvI_oHM"
      },
      "execution_count": 201,
      "outputs": [
        {
          "output_type": "stream",
          "name": "stdout",
          "text": [
            "time: 128 ms (started: 2023-09-26 10:53:38 +00:00)\n"
          ]
        }
      ]
    },
    {
      "cell_type": "markdown",
      "source": [
        "### Creating Training and Testing Sets"
      ],
      "metadata": {
        "id": "Fwe42ubr_oHM"
      }
    },
    {
      "cell_type": "code",
      "source": [
        "features = np.array(features_classes['features'].tolist())\n",
        "classes = np.array(features_classes['resulted_in_deaths'])"
      ],
      "metadata": {
        "colab": {
          "base_uri": "https://localhost:8080/"
        },
        "outputId": "5b3e6f53-3b45-47e4-92ee-d1753b91679a",
        "id": "jZ96GNJO_oHM"
      },
      "execution_count": 470,
      "outputs": [
        {
          "output_type": "stream",
          "name": "stdout",
          "text": [
            "time: 2.91 ms (started: 2023-09-26 12:34:25 +00:00)\n"
          ]
        }
      ]
    },
    {
      "cell_type": "code",
      "source": [
        "print(classes.shape)"
      ],
      "metadata": {
        "id": "fkW1rM8SaREv",
        "outputId": "95e910ab-6acb-4bae-f266-5e565e82fb50",
        "colab": {
          "base_uri": "https://localhost:8080/"
        }
      },
      "execution_count": 473,
      "outputs": [
        {
          "output_type": "stream",
          "name": "stdout",
          "text": [
            "(706,)\n",
            "time: 649 µs (started: 2023-09-26 12:34:48 +00:00)\n"
          ]
        }
      ]
    },
    {
      "cell_type": "code",
      "source": [
        "print(features)"
      ],
      "metadata": {
        "colab": {
          "base_uri": "https://localhost:8080/"
        },
        "outputId": "4e5f4c51-d7c5-4738-9105-458666b64831",
        "id": "gT4Hh-8W_oHM"
      },
      "execution_count": 481,
      "outputs": [
        {
          "output_type": "stream",
          "name": "stdout",
          "text": [
            "[[-4.96040649e+02  1.36326584e+02 -3.88245468e+01 ... -2.89470220e+00\n",
            "  -1.10615263e+01  5.88771391e+00]\n",
            " [-5.42264832e+02  1.13492096e+02 -5.48984451e+01 ...  1.93747252e-01\n",
            "  -4.04212666e+00 -1.27791238e+00]\n",
            " [-4.69104919e+02  1.44501328e+02 -5.31692390e+01 ... -6.00460529e+00\n",
            "  -1.11805458e+01 -1.30216885e+01]\n",
            " ...\n",
            " [-4.30531525e+02  1.61204361e+02 -5.23065414e+01 ... -6.31104946e+00\n",
            "  -9.06300354e+00 -1.20579708e+00]\n",
            " [-4.17435669e+02  1.96808456e+02 -3.47917213e+01 ...  8.26406479e+00\n",
            "  -1.01011648e+01 -1.44270420e+01]\n",
            " [-4.46906708e+02  1.54580658e+02 -9.30227280e+01 ...  5.46188879e+00\n",
            "  -1.95029507e+01 -8.61393738e+00]]\n",
            "time: 4.24 ms (started: 2023-09-26 12:35:33 +00:00)\n"
          ]
        }
      ]
    },
    {
      "cell_type": "code",
      "source": [
        "X_train, X_test, y_train, y_test = train_test_split(\n",
        "    features, classes ,test_size=0.25, shuffle=True, stratify=classes,\n",
        "    random_state=0\n",
        "    )"
      ],
      "metadata": {
        "colab": {
          "base_uri": "https://localhost:8080/"
        },
        "outputId": "bca3a362-88f1-42d3-e33e-0d71912a56b4",
        "id": "2stmbspD_oHM"
      },
      "execution_count": 482,
      "outputs": [
        {
          "output_type": "stream",
          "name": "stdout",
          "text": [
            "time: 4.32 ms (started: 2023-09-26 12:35:38 +00:00)\n"
          ]
        }
      ]
    },
    {
      "cell_type": "code",
      "source": [
        "print(X_train.shape)"
      ],
      "metadata": {
        "id": "k5MvN-DaeUqF",
        "outputId": "9ffba971-fc0a-4fb1-d59f-70fc7a8ac5e6",
        "colab": {
          "base_uri": "https://localhost:8080/"
        }
      },
      "execution_count": 484,
      "outputs": [
        {
          "output_type": "stream",
          "name": "stdout",
          "text": [
            "(529, 13)\n",
            "time: 12.9 ms (started: 2023-09-26 12:35:52 +00:00)\n"
          ]
        }
      ]
    },
    {
      "cell_type": "code",
      "source": [
        "print(y_train.shape)"
      ],
      "metadata": {
        "id": "SIwzFFAmeVxt",
        "outputId": "de5dcd4a-e1bb-42df-e2bc-33c6d4e285d5",
        "colab": {
          "base_uri": "https://localhost:8080/"
        }
      },
      "execution_count": 476,
      "outputs": [
        {
          "output_type": "stream",
          "name": "stdout",
          "text": [
            "(529,)\n",
            "time: 10.9 ms (started: 2023-09-26 12:35:10 +00:00)\n"
          ]
        }
      ]
    },
    {
      "cell_type": "markdown",
      "source": [
        "## Defining the Model and Training"
      ],
      "metadata": {
        "id": "IV3qsjHS_oHM"
      }
    },
    {
      "cell_type": "code",
      "source": [
        "input_shape = (features.shape[1],)\n",
        "hidden_layers = 2\n",
        "unit_scalar = 2\n",
        "\n",
        "optimizer_name = 'Adam'\n",
        "learning_rate = 0.0005\n",
        "epochs = 500\n",
        "\n",
        "model = create_model(\n",
        "    input_shape=input_shape, hidden_layers=hidden_layers,\n",
        "    unit_scalar=unit_scalar, optimizer_name=optimizer_name,\n",
        "    learning_rate=learning_rate, epochs=epochs)\n",
        "\n",
        "print(model.summary())"
      ],
      "metadata": {
        "colab": {
          "base_uri": "https://localhost:8080/"
        },
        "outputId": "03a13de8-2ff3-4c36-dbbc-a9a40642a5d4",
        "id": "FMSV0x1v_oHM"
      },
      "execution_count": 631,
      "outputs": [
        {
          "output_type": "stream",
          "name": "stdout",
          "text": [
            "Model: \"model_2hl_13mfcc\"\n",
            "_________________________________________________________________\n",
            " Layer (type)                Output Shape              Param #   \n",
            "=================================================================\n",
            " hidden_layer_1 (Dense)      (None, 16)                224       \n",
            "                                                                 \n",
            " hidden_layer_2 (Dense)      (None, 8)                 136       \n",
            "                                                                 \n",
            " output_layer (Dense)        (None, 2)                 18        \n",
            "                                                                 \n",
            "=================================================================\n",
            "Total params: 378 (1.48 KB)\n",
            "Trainable params: 378 (1.48 KB)\n",
            "Non-trainable params: 0 (0.00 Byte)\n",
            "_________________________________________________________________\n",
            "None\n",
            "time: 102 ms (started: 2023-09-26 13:06:16 +00:00)\n"
          ]
        }
      ]
    },
    {
      "cell_type": "code",
      "source": [
        "plot_model(model, show_shapes=True, show_layer_activations=True)"
      ],
      "metadata": {
        "colab": {
          "base_uri": "https://localhost:8080/",
          "height": 440
        },
        "id": "1e3TyIknQu1A",
        "outputId": "ea83ba88-9b73-46cb-b296-ac592ac3f7b8"
      },
      "execution_count": 632,
      "outputs": [
        {
          "output_type": "execute_result",
          "data": {
            "image/png": "[encoded data removed]",
            "text/plain": [
              "<IPython.core.display.Image object>"
            ]
          },
          "metadata": {},
          "execution_count": 632
        },
        {
          "output_type": "stream",
          "name": "stdout",
          "text": [
            "time: 64.7 ms (started: 2023-09-26 13:06:16 +00:00)\n"
          ]
        }
      ]
    },
    {
      "cell_type": "code",
      "source": [
        "# define callbacks\n",
        "reduce_lr_callback = callbacks.ReduceLROnPlateau(\n",
        "    monitor='val_loss', factor=0.5, patience=10, min_lr=0.000005, verbose=1)\n",
        "\n",
        "earlystopping = callbacks.EarlyStopping(\n",
        "    monitor=\"val_loss\", patience=50, restore_best_weights=True,\n",
        "    min_delta=0.001, verbose=1)"
      ],
      "metadata": {
        "colab": {
          "base_uri": "https://localhost:8080/"
        },
        "outputId": "f5254670-c7ad-4537-a383-ac940e12c0a7",
        "id": "HDr7alLo_oHM"
      },
      "execution_count": 633,
      "outputs": [
        {
          "output_type": "stream",
          "name": "stdout",
          "text": [
            "time: 970 µs (started: 2023-09-26 13:06:16 +00:00)\n"
          ]
        }
      ]
    },
    {
      "cell_type": "code",
      "source": [
        "train_res  = model.fit(\n",
        "    X_train,\n",
        "    y_train,\n",
        "    epochs=epochs,\n",
        "    validation_data=(X_test, y_test),\n",
        "    callbacks=[\n",
        "        # checkpointer,\n",
        "        earlystopping,\n",
        "        reduce_lr_callback\n",
        "        ],\n",
        "    verbose=1\n",
        "    )\n",
        "print()"
      ],
      "metadata": {
        "colab": {
          "base_uri": "https://localhost:8080/"
        },
        "outputId": "04f354b8-5a86-45ff-f80d-3d4e34601c5a",
        "id": "Tts0B-6h_oHM"
      },
      "execution_count": 634,
      "outputs": [
        {
          "output_type": "stream",
          "name": "stdout",
          "text": [
            "Epoch 1/500\n",
            "14/14 [==============================] - 1s 25ms/step - loss: 0.7056 - accuracy: 0.5185 - val_loss: 0.7176 - val_accuracy: 0.4792 - lr: 5.0000e-04\n",
            "Epoch 2/500\n",
            "14/14 [==============================] - 0s 7ms/step - loss: 0.6956 - accuracy: 0.5162 - val_loss: 0.7209 - val_accuracy: 0.4514 - lr: 5.0000e-04\n",
            "Epoch 3/500\n",
            "14/14 [==============================] - 0s 8ms/step - loss: 0.6927 - accuracy: 0.5116 - val_loss: 0.7224 - val_accuracy: 0.4514 - lr: 5.0000e-04\n",
            "Epoch 4/500\n",
            "14/14 [==============================] - 0s 6ms/step - loss: 0.6917 - accuracy: 0.5185 - val_loss: 0.7215 - val_accuracy: 0.4653 - lr: 5.0000e-04\n",
            "Epoch 5/500\n",
            "14/14 [==============================] - 0s 7ms/step - loss: 0.6907 - accuracy: 0.5208 - val_loss: 0.7239 - val_accuracy: 0.4444 - lr: 5.0000e-04\n",
            "Epoch 6/500\n",
            "14/14 [==============================] - 0s 7ms/step - loss: 0.6896 - accuracy: 0.5185 - val_loss: 0.7248 - val_accuracy: 0.4514 - lr: 5.0000e-04\n",
            "Epoch 7/500\n",
            "14/14 [==============================] - 0s 7ms/step - loss: 0.6891 - accuracy: 0.5208 - val_loss: 0.7234 - val_accuracy: 0.4653 - lr: 5.0000e-04\n",
            "Epoch 8/500\n",
            "14/14 [==============================] - 0s 7ms/step - loss: 0.6890 - accuracy: 0.5185 - val_loss: 0.7235 - val_accuracy: 0.4444 - lr: 5.0000e-04\n",
            "Epoch 9/500\n",
            "14/14 [==============================] - 0s 8ms/step - loss: 0.6884 - accuracy: 0.5162 - val_loss: 0.7219 - val_accuracy: 0.4583 - lr: 5.0000e-04\n",
            "Epoch 10/500\n",
            "14/14 [==============================] - 0s 8ms/step - loss: 0.6879 - accuracy: 0.5208 - val_loss: 0.7223 - val_accuracy: 0.4444 - lr: 5.0000e-04\n",
            "Epoch 11/500\n",
            " 1/14 [=>............................] - ETA: 0s - loss: 0.6745 - accuracy: 0.5000\n",
            "Epoch 11: ReduceLROnPlateau reducing learning rate to 0.0002500000118743628.\n",
            "14/14 [==============================] - 0s 7ms/step - loss: 0.6873 - accuracy: 0.5162 - val_loss: 0.7225 - val_accuracy: 0.4444 - lr: 5.0000e-04\n",
            "Epoch 12/500\n",
            "14/14 [==============================] - 0s 7ms/step - loss: 0.6865 - accuracy: 0.5208 - val_loss: 0.7195 - val_accuracy: 0.4583 - lr: 2.5000e-04\n",
            "Epoch 13/500\n",
            "14/14 [==============================] - 0s 7ms/step - loss: 0.6860 - accuracy: 0.5278 - val_loss: 0.7201 - val_accuracy: 0.4514 - lr: 2.5000e-04\n",
            "Epoch 14/500\n",
            "14/14 [==============================] - 0s 6ms/step - loss: 0.6856 - accuracy: 0.5255 - val_loss: 0.7195 - val_accuracy: 0.4653 - lr: 2.5000e-04\n",
            "Epoch 15/500\n",
            "14/14 [==============================] - 0s 7ms/step - loss: 0.6855 - accuracy: 0.5255 - val_loss: 0.7202 - val_accuracy: 0.4583 - lr: 2.5000e-04\n",
            "Epoch 16/500\n",
            "14/14 [==============================] - 0s 8ms/step - loss: 0.6851 - accuracy: 0.5231 - val_loss: 0.7199 - val_accuracy: 0.4583 - lr: 2.5000e-04\n",
            "Epoch 17/500\n",
            "14/14 [==============================] - 0s 7ms/step - loss: 0.6849 - accuracy: 0.5231 - val_loss: 0.7192 - val_accuracy: 0.4583 - lr: 2.5000e-04\n",
            "Epoch 18/500\n",
            "14/14 [==============================] - 0s 7ms/step - loss: 0.6847 - accuracy: 0.5255 - val_loss: 0.7182 - val_accuracy: 0.4653 - lr: 2.5000e-04\n",
            "Epoch 19/500\n",
            "14/14 [==============================] - 0s 8ms/step - loss: 0.6843 - accuracy: 0.5255 - val_loss: 0.7185 - val_accuracy: 0.4653 - lr: 2.5000e-04\n",
            "Epoch 20/500\n",
            "14/14 [==============================] - 0s 6ms/step - loss: 0.6841 - accuracy: 0.5278 - val_loss: 0.7184 - val_accuracy: 0.4653 - lr: 2.5000e-04\n",
            "Epoch 21/500\n",
            " 1/14 [=>............................] - ETA: 0s - loss: 0.7024 - accuracy: 0.4688\n",
            "Epoch 21: ReduceLROnPlateau reducing learning rate to 0.0001250000059371814.\n",
            "14/14 [==============================] - 0s 7ms/step - loss: 0.6841 - accuracy: 0.5255 - val_loss: 0.7188 - val_accuracy: 0.4583 - lr: 2.5000e-04\n",
            "Epoch 22/500\n",
            "14/14 [==============================] - 0s 8ms/step - loss: 0.6839 - accuracy: 0.5255 - val_loss: 0.7185 - val_accuracy: 0.4583 - lr: 1.2500e-04\n",
            "Epoch 23/500\n",
            "14/14 [==============================] - 0s 7ms/step - loss: 0.6838 - accuracy: 0.5231 - val_loss: 0.7182 - val_accuracy: 0.4653 - lr: 1.2500e-04\n",
            "Epoch 24/500\n",
            "14/14 [==============================] - 0s 8ms/step - loss: 0.6838 - accuracy: 0.5278 - val_loss: 0.7183 - val_accuracy: 0.4583 - lr: 1.2500e-04\n",
            "Epoch 25/500\n",
            "14/14 [==============================] - 0s 7ms/step - loss: 0.6836 - accuracy: 0.5278 - val_loss: 0.7181 - val_accuracy: 0.4653 - lr: 1.2500e-04\n",
            "Epoch 26/500\n",
            "14/14 [==============================] - 0s 6ms/step - loss: 0.6836 - accuracy: 0.5278 - val_loss: 0.7177 - val_accuracy: 0.4653 - lr: 1.2500e-04\n",
            "Epoch 27/500\n",
            "14/14 [==============================] - 0s 7ms/step - loss: 0.6835 - accuracy: 0.5278 - val_loss: 0.7179 - val_accuracy: 0.4653 - lr: 1.2500e-04\n",
            "Epoch 28/500\n",
            "14/14 [==============================] - 0s 6ms/step - loss: 0.6834 - accuracy: 0.5278 - val_loss: 0.7177 - val_accuracy: 0.4653 - lr: 1.2500e-04\n",
            "Epoch 29/500\n",
            "14/14 [==============================] - 0s 7ms/step - loss: 0.6834 - accuracy: 0.5278 - val_loss: 0.7176 - val_accuracy: 0.4653 - lr: 1.2500e-04\n",
            "Epoch 30/500\n",
            "14/14 [==============================] - 0s 7ms/step - loss: 0.6834 - accuracy: 0.5255 - val_loss: 0.7179 - val_accuracy: 0.4653 - lr: 1.2500e-04\n",
            "Epoch 31/500\n",
            " 1/14 [=>............................] - ETA: 0s - loss: 0.6815 - accuracy: 0.4375\n",
            "Epoch 31: ReduceLROnPlateau reducing learning rate to 6.25000029685907e-05.\n",
            "14/14 [==============================] - 0s 7ms/step - loss: 0.6832 - accuracy: 0.5278 - val_loss: 0.7177 - val_accuracy: 0.4653 - lr: 1.2500e-04\n",
            "Epoch 32/500\n",
            "14/14 [==============================] - 0s 6ms/step - loss: 0.6831 - accuracy: 0.5278 - val_loss: 0.7176 - val_accuracy: 0.4653 - lr: 6.2500e-05\n",
            "Epoch 33/500\n",
            "14/14 [==============================] - 0s 7ms/step - loss: 0.6831 - accuracy: 0.5255 - val_loss: 0.7175 - val_accuracy: 0.4653 - lr: 6.2500e-05\n",
            "Epoch 34/500\n",
            "14/14 [==============================] - 0s 6ms/step - loss: 0.6831 - accuracy: 0.5301 - val_loss: 0.7176 - val_accuracy: 0.4653 - lr: 6.2500e-05\n",
            "Epoch 35/500\n",
            "14/14 [==============================] - 0s 7ms/step - loss: 0.6831 - accuracy: 0.5278 - val_loss: 0.7176 - val_accuracy: 0.4653 - lr: 6.2500e-05\n",
            "Epoch 36/500\n",
            "14/14 [==============================] - 0s 7ms/step - loss: 0.6830 - accuracy: 0.5255 - val_loss: 0.7176 - val_accuracy: 0.4653 - lr: 6.2500e-05\n",
            "Epoch 37/500\n",
            "14/14 [==============================] - 0s 6ms/step - loss: 0.6830 - accuracy: 0.5255 - val_loss: 0.7175 - val_accuracy: 0.4653 - lr: 6.2500e-05\n",
            "Epoch 38/500\n",
            "14/14 [==============================] - 0s 6ms/step - loss: 0.6831 - accuracy: 0.5255 - val_loss: 0.7177 - val_accuracy: 0.4653 - lr: 6.2500e-05\n",
            "Epoch 39/500\n",
            "14/14 [==============================] - 0s 8ms/step - loss: 0.6830 - accuracy: 0.5255 - val_loss: 0.7173 - val_accuracy: 0.4653 - lr: 6.2500e-05\n",
            "Epoch 40/500\n",
            "14/14 [==============================] - 0s 6ms/step - loss: 0.6829 - accuracy: 0.5278 - val_loss: 0.7173 - val_accuracy: 0.4653 - lr: 6.2500e-05\n",
            "Epoch 41/500\n",
            "14/14 [==============================] - 0s 7ms/step - loss: 0.6829 - accuracy: 0.5278 - val_loss: 0.7173 - val_accuracy: 0.4653 - lr: 6.2500e-05\n",
            "Epoch 42/500\n",
            "14/14 [==============================] - 0s 8ms/step - loss: 0.6829 - accuracy: 0.5255 - val_loss: 0.7171 - val_accuracy: 0.4653 - lr: 6.2500e-05\n",
            "Epoch 43/500\n",
            "14/14 [==============================] - 0s 7ms/step - loss: 0.6828 - accuracy: 0.5278 - val_loss: 0.7172 - val_accuracy: 0.4653 - lr: 6.2500e-05\n",
            "Epoch 44/500\n",
            "14/14 [==============================] - 0s 6ms/step - loss: 0.6829 - accuracy: 0.5278 - val_loss: 0.7172 - val_accuracy: 0.4653 - lr: 6.2500e-05\n",
            "Epoch 45/500\n",
            "14/14 [==============================] - 0s 6ms/step - loss: 0.6827 - accuracy: 0.5278 - val_loss: 0.7174 - val_accuracy: 0.4653 - lr: 6.2500e-05\n",
            "Epoch 46/500\n",
            "14/14 [==============================] - 0s 8ms/step - loss: 0.6828 - accuracy: 0.5278 - val_loss: 0.7173 - val_accuracy: 0.4653 - lr: 6.2500e-05\n",
            "Epoch 47/500\n",
            "14/14 [==============================] - 0s 6ms/step - loss: 0.6827 - accuracy: 0.5278 - val_loss: 0.7171 - val_accuracy: 0.4653 - lr: 6.2500e-05\n",
            "Epoch 48/500\n",
            "14/14 [==============================] - 0s 7ms/step - loss: 0.6827 - accuracy: 0.5278 - val_loss: 0.7170 - val_accuracy: 0.4653 - lr: 6.2500e-05\n",
            "Epoch 49/500\n",
            "14/14 [==============================] - 0s 7ms/step - loss: 0.6827 - accuracy: 0.5278 - val_loss: 0.7171 - val_accuracy: 0.4653 - lr: 6.2500e-05\n",
            "Epoch 50/500\n",
            "14/14 [==============================] - 0s 6ms/step - loss: 0.6826 - accuracy: 0.5278 - val_loss: 0.7170 - val_accuracy: 0.4653 - lr: 6.2500e-05\n",
            "Epoch 51/500\n",
            " 1/14 [=>............................] - ETA: 0s - loss: 0.6837 - accuracy: 0.5000Restoring model weights from the end of the best epoch: 1.\n",
            "14/14 [==============================] - 0s 7ms/step - loss: 0.6826 - accuracy: 0.5278 - val_loss: 0.7170 - val_accuracy: 0.4653 - lr: 6.2500e-05\n",
            "Epoch 51: early stopping\n",
            "\n",
            "time: 6.59 s (started: 2023-09-26 13:06:16 +00:00)\n"
          ]
        }
      ]
    },
    {
      "cell_type": "markdown",
      "source": [
        "## Assessing the Model"
      ],
      "metadata": {
        "id": "MgkZecVC_oHM"
      }
    },
    {
      "cell_type": "code",
      "source": [
        "cnn_feats_history_pd = pd.DataFrame(train_res.history)\n",
        "title = f'{epochs} Epochs \\ {optimizer_name} \\ {learning_rate:.10f}'\n",
        "cnn_feats_history_pd[['loss','val_loss']].plot(title=title,xlabel='steps', ylabel='loss')\n",
        "plt.show()"
      ],
      "metadata": {
        "colab": {
          "base_uri": "https://localhost:8080/",
          "height": 490
        },
        "outputId": "ad2385f3-44f7-4b1b-f285-b110e8b303d4",
        "id": "RxAjYCjj_oHM"
      },
      "execution_count": 444,
      "outputs": [
        {
          "output_type": "display_data",
          "data": {
            "text/plain": [
              "<Figure size 640x480 with 1 Axes>"
            ],
            "image/png": "[encoded data removed]"
          },
          "metadata": {}
        },
        {
          "output_type": "stream",
          "name": "stdout",
          "text": [
            "time: 278 ms (started: 2023-09-26 12:32:17 +00:00)\n"
          ]
        }
      ]
    },
    {
      "cell_type": "code",
      "source": [
        "title = f'{epochs} Epochs \\ {optimizer_name} \\ {learning_rate:.10f}'\n",
        "cnn_feats_history_pd[['accuracy','val_accuracy']].plot(title=title,xlabel='steps', ylabel='accuracy')\n",
        "plt.show()"
      ],
      "metadata": {
        "colab": {
          "base_uri": "https://localhost:8080/",
          "height": 490
        },
        "outputId": "8bedfc6f-a421-4247-93bd-13e819d0a44f",
        "id": "CbgTbEK6_oHM"
      },
      "execution_count": 445,
      "outputs": [
        {
          "output_type": "display_data",
          "data": {
            "text/plain": [
              "<Figure size 640x480 with 1 Axes>"
            ],
            "image/png": "[encoded data removed]"
          },
          "metadata": {}
        },
        {
          "output_type": "stream",
          "name": "stdout",
          "text": [
            "time: 295 ms (started: 2023-09-26 12:32:17 +00:00)\n"
          ]
        }
      ]
    },
    {
      "cell_type": "code",
      "source": [
        "test_accuracy = model.evaluate(X_test, y_test,\n",
        "  # batch_size=num_batch_size,\n",
        "  verbose=0)\n",
        "print(test_accuracy)"
      ],
      "metadata": {
        "colab": {
          "base_uri": "https://localhost:8080/"
        },
        "outputId": "84a2f267-df19-4dd4-dca5-fbf8f189c284",
        "id": "Zp6w0N-2_oHM"
      },
      "execution_count": 446,
      "outputs": [
        {
          "output_type": "stream",
          "name": "stdout",
          "text": [
            "[0.6766244769096375, 0.5875706076622009]\n",
            "time: 104 ms (started: 2023-09-26 12:32:18 +00:00)\n"
          ]
        }
      ]
    },
    {
      "cell_type": "code",
      "source": [
        "y_probs = model.predict(X_test)"
      ],
      "metadata": {
        "colab": {
          "base_uri": "https://localhost:8080/"
        },
        "outputId": "0f81d842-b12c-4974-8fde-6bc0ca5a8b8e",
        "id": "ymnjkFQZ_oHM"
      },
      "execution_count": 447,
      "outputs": [
        {
          "output_type": "stream",
          "name": "stdout",
          "text": [
            "6/6 [==============================] - 0s 2ms/step\n",
            "time: 163 ms (started: 2023-09-26 12:32:18 +00:00)\n"
          ]
        }
      ]
    },
    {
      "cell_type": "code",
      "source": [
        "y_predicted = np.argmax(y_probs, axis=-1)\n",
        "print(y_predicted)"
      ],
      "metadata": {
        "colab": {
          "base_uri": "https://localhost:8080/"
        },
        "outputId": "28356693-9859-4f45-dabc-21f95ffbdf2f",
        "id": "gt1Xsex9_oHM"
      },
      "execution_count": 448,
      "outputs": [
        {
          "output_type": "stream",
          "name": "stdout",
          "text": [
            "[1 1 1 1 1 1 1 1 1 1 0 1 1 1 1 1 1 1 1 1 1 1 1 1 1 1 1 1 1 1 1 1 1 1 1 1 1\n",
            " 1 1 1 1 1 1 1 1 1 1 1 1 1 1 0 1 1 1 1 1 1 1 1 1 1 1 1 1 1 1 1 1 1 1 1 1 1\n",
            " 1 1 1 1 0 1 1 1 1 1 1 1 1 1 1 1 1 1 1 1 1 1 1 1 1 1 1 1 1 1 1 1 1 1 1 1 1\n",
            " 1 1 1 1 1 1 1 1 1 1 1 1 1 1 1 1 1 1 1 1 1 1 0 1 1 1 1 1 1 1 1 1 1 1 1 1 1\n",
            " 1 1 1 1 1 1 1 1 1 1 1 1 1 1 1 1 1 1 1 1 1 1 1 1 1 1 0 1 1]\n",
            "time: 1.1 ms (started: 2023-09-26 12:32:18 +00:00)\n"
          ]
        }
      ]
    },
    {
      "cell_type": "code",
      "source": [
        "# notice the y_test and not cat\n",
        "print(metrics.classification_report(y_test, y_predicted, digits=4, target_names=['no-death','death']))"
      ],
      "metadata": {
        "colab": {
          "base_uri": "https://localhost:8080/"
        },
        "outputId": "4d1ef218-2ad0-4164-b925-0b501032e06f",
        "id": "KsRWvxoz_oHM"
      },
      "execution_count": 449,
      "outputs": [
        {
          "output_type": "stream",
          "name": "stdout",
          "text": [
            "              precision    recall  f1-score   support\n",
            "\n",
            "    no-death     0.4000    0.0278    0.0519        72\n",
            "       death     0.5930    0.9714    0.7365       105\n",
            "\n",
            "    accuracy                         0.5876       177\n",
            "   macro avg     0.4965    0.4996    0.3942       177\n",
            "weighted avg     0.5145    0.5876    0.4580       177\n",
            "\n",
            "time: 12.8 ms (started: 2023-09-26 12:32:18 +00:00)\n"
          ]
        }
      ]
    },
    {
      "cell_type": "code",
      "source": [
        "deep_feats_cm = metrics.confusion_matrix(y_test, y_predicted)"
      ],
      "metadata": {
        "colab": {
          "base_uri": "https://localhost:8080/"
        },
        "outputId": "a17113f7-8dde-4811-9835-c8cb86712d1c",
        "id": "2Lk07ZmG_oHM"
      },
      "execution_count": 450,
      "outputs": [
        {
          "output_type": "stream",
          "name": "stdout",
          "text": [
            "time: 2.9 ms (started: 2023-09-26 12:32:18 +00:00)\n"
          ]
        }
      ]
    },
    {
      "cell_type": "code",
      "source": [
        "ax = sns.heatmap(deep_feats_cm, annot=True, linewidths=0.01, cmap=\"Greens\", linecolor=\"gray\", fmt='g')\n",
        "\n",
        "ax.set_xlabel(\"\\nPredicted Label\")\n",
        "ax.set_ylabel(\"True Label\\n\")\n",
        "\n",
        "ax.xaxis.set_ticklabels(['Non-Fatal','Fatal'])\n",
        "ax.yaxis.set_ticklabels(['Non-Fatal','Fatal'])\n",
        "\n",
        "\n",
        "ax.set_title(\"Confusion matrix for deep features neural network\\n\")\n",
        "\n",
        "plt.show()\n",
        "\n",
        "sensitivity1 = deep_feats_cm[0,0]/(deep_feats_cm[0,0]+deep_feats_cm[0,1])\n",
        "print('Sensitivity : ', sensitivity1 )\n",
        "\n",
        "specificity1 = deep_feats_cm[1,1]/(deep_feats_cm[1,0]+deep_feats_cm[1,1])\n",
        "print('Specificity : ', specificity1)"
      ],
      "metadata": {
        "colab": {
          "base_uri": "https://localhost:8080/",
          "height": 562
        },
        "outputId": "f7a6b815-104d-42fc-b1b3-aec45b907727",
        "id": "GNBWOs2w_oHM"
      },
      "execution_count": 451,
      "outputs": [
        {
          "output_type": "display_data",
          "data": {
            "text/plain": [
              "<Figure size 640x480 with 2 Axes>"
            ],
            "image/png": "[encoded data removed]"
          },
          "metadata": {}
        },
        {
          "output_type": "stream",
          "name": "stdout",
          "text": [
            "Sensitivity :  0.027777777777777776\n",
            "Specificity :  0.9714285714285714\n",
            "time: 277 ms (started: 2023-09-26 12:32:18 +00:00)\n"
          ]
        }
      ]
    },
    {
      "cell_type": "markdown",
      "source": [
        "# MFCC Model - Evened-out Classes"
      ],
      "metadata": {
        "id": "z931O-50kWue"
      }
    },
    {
      "cell_type": "markdown",
      "source": [
        "## Extracting Features and Classes"
      ],
      "metadata": {
        "id": "SstwoAd8YOzl"
      }
    },
    {
      "cell_type": "markdown",
      "source": [
        "### Evening out the classes"
      ],
      "metadata": {
        "id": "EnZ99-0kYY_8"
      }
    },
    {
      "cell_type": "code",
      "source": [
        "print(features_classes['resulted_in_deaths'].value_counts())"
      ],
      "metadata": {
        "colab": {
          "base_uri": "https://localhost:8080/"
        },
        "id": "hp43SDFCnB-0",
        "outputId": "f8f6b991-b649-43ff-96e5-26df24681401"
      },
      "execution_count": 410,
      "outputs": [
        {
          "output_type": "stream",
          "name": "stdout",
          "text": [
            "1    418\n",
            "0    288\n",
            "Name: resulted_in_deaths, dtype: int64\n",
            "time: 4.18 ms (started: 2023-09-26 12:08:04 +00:00)\n"
          ]
        }
      ]
    },
    {
      "cell_type": "code",
      "source": [
        "# Create classification\n",
        "num_of_non_death = features_classes['resulted_in_deaths'].value_counts()[0]\n",
        "features_classes_even = features_classes.groupby('resulted_in_deaths', group_keys=False).apply(lambda x: x.sample(num_of_non_death))\n",
        "features_classes_even = features_classes_even.sort_index()\n",
        "\n",
        "features_classes_even.head(10)"
      ],
      "metadata": {
        "colab": {
          "base_uri": "https://localhost:8080/",
          "height": 380
        },
        "outputId": "29beda50-6fdf-437a-c014-6e6751102992",
        "id": "o0ILNB8P9neA"
      },
      "execution_count": 418,
      "outputs": [
        {
          "output_type": "execute_result",
          "data": {
            "text/plain": [
              "                       filename  \\\n",
              "0    911_first6sec/call_2_0.wav   \n",
              "1    911_first6sec/call_8_0.wav   \n",
              "2    911_first6sec/call_9_0.wav   \n",
              "4   911_first6sec/call_11_0.wav   \n",
              "7   911_first6sec/call_15_0.wav   \n",
              "8   911_first6sec/call_16_0.wav   \n",
              "9   911_first6sec/call_17_0.wav   \n",
              "10  911_first6sec/call_18_0.wav   \n",
              "11  911_first6sec/call_19_0.wav   \n",
              "12  911_first6sec/call_20_0.wav   \n",
              "\n",
              "                                             features  resulted_in_deaths  \n",
              "0   [-496.04065, 136.32658, -38.824547, -2.956653,...                   1  \n",
              "1   [-542.26483, 113.492096, -54.898445, -16.93544...                   1  \n",
              "2   [-469.10492, 144.50133, -53.16924, -35.66156, ...                   0  \n",
              "4   [-388.4136, 191.76454, -68.483246, -28.393341,...                   0  \n",
              "7   [-388.2811, 92.171074, 0.91390646, -14.596169,...                   1  \n",
              "8   [-500.0724, 121.41379, -37.134045, 13.093015, ...                   1  \n",
              "9   [-335.3681, 180.51752, -75.116455, -6.7831354,...                   1  \n",
              "10  [-406.30365, 171.65135, -23.042957, -5.772533,...                   0  \n",
              "11  [-412.87857, 175.99988, -38.89378, -12.867564,...                   0  \n",
              "12  [-559.3067, 134.93155, -77.981415, 16.785315, ...                   0  "
            ],
            "text/html": [
              "\n",
              "  <div id=\"df-f240c3e0-989a-42f0-afe4-c41af722d6b3\" class=\"colab-df-container\">\n",
              "    <div>\n",
              "<style scoped>\n",
              "    .dataframe tbody tr th:only-of-type {\n",
              "        vertical-align: middle;\n",
              "    }\n",
              "\n",
              "    .dataframe tbody tr th {\n",
              "        vertical-align: top;\n",
              "    }\n",
              "\n",
              "    .dataframe thead th {\n",
              "        text-align: right;\n",
              "    }\n",
              "</style>\n",
              "<table border=\"1\" class=\"dataframe\">\n",
              "  <thead>\n",
              "    <tr style=\"text-align: right;\">\n",
              "      <th></th>\n",
              "      <th>filename</th>\n",
              "      <th>features</th>\n",
              "      <th>resulted_in_deaths</th>\n",
              "    </tr>\n",
              "  </thead>\n",
              "  <tbody>\n",
              "    <tr>\n",
              "      <th>0</th>\n",
              "      <td>911_first6sec/call_2_0.wav</td>\n",
              "      <td>[-496.04065, 136.32658, -38.824547, -2.956653,...</td>\n",
              "      <td>1</td>\n",
              "    </tr>\n",
              "    <tr>\n",
              "      <th>1</th>\n",
              "      <td>911_first6sec/call_8_0.wav</td>\n",
              "      <td>[-542.26483, 113.492096, -54.898445, -16.93544...</td>\n",
              "      <td>1</td>\n",
              "    </tr>\n",
              "    <tr>\n",
              "      <th>2</th>\n",
              "      <td>911_first6sec/call_9_0.wav</td>\n",
              "      <td>[-469.10492, 144.50133, -53.16924, -35.66156, ...</td>\n",
              "      <td>0</td>\n",
              "    </tr>\n",
              "    <tr>\n",
              "      <th>4</th>\n",
              "      <td>911_first6sec/call_11_0.wav</td>\n",
              "      <td>[-388.4136, 191.76454, -68.483246, -28.393341,...</td>\n",
              "      <td>0</td>\n",
              "    </tr>\n",
              "    <tr>\n",
              "      <th>7</th>\n",
              "      <td>911_first6sec/call_15_0.wav</td>\n",
              "      <td>[-388.2811, 92.171074, 0.91390646, -14.596169,...</td>\n",
              "      <td>1</td>\n",
              "    </tr>\n",
              "    <tr>\n",
              "      <th>8</th>\n",
              "      <td>911_first6sec/call_16_0.wav</td>\n",
              "      <td>[-500.0724, 121.41379, -37.134045, 13.093015, ...</td>\n",
              "      <td>1</td>\n",
              "    </tr>\n",
              "    <tr>\n",
              "      <th>9</th>\n",
              "      <td>911_first6sec/call_17_0.wav</td>\n",
              "      <td>[-335.3681, 180.51752, -75.116455, -6.7831354,...</td>\n",
              "      <td>1</td>\n",
              "    </tr>\n",
              "    <tr>\n",
              "      <th>10</th>\n",
              "      <td>911_first6sec/call_18_0.wav</td>\n",
              "      <td>[-406.30365, 171.65135, -23.042957, -5.772533,...</td>\n",
              "      <td>0</td>\n",
              "    </tr>\n",
              "    <tr>\n",
              "      <th>11</th>\n",
              "      <td>911_first6sec/call_19_0.wav</td>\n",
              "      <td>[-412.87857, 175.99988, -38.89378, -12.867564,...</td>\n",
              "      <td>0</td>\n",
              "    </tr>\n",
              "    <tr>\n",
              "      <th>12</th>\n",
              "      <td>911_first6sec/call_20_0.wav</td>\n",
              "      <td>[-559.3067, 134.93155, -77.981415, 16.785315, ...</td>\n",
              "      <td>0</td>\n",
              "    </tr>\n",
              "  </tbody>\n",
              "</table>\n",
              "</div>\n",
              "    <div class=\"colab-df-buttons\">\n",
              "\n",
              "  <div class=\"colab-df-container\">\n",
              "    <button class=\"colab-df-convert\" onclick=\"convertToInteractive('df-f240c3e0-989a-42f0-afe4-c41af722d6b3')\"\n",
              "            title=\"Convert this dataframe to an interactive table.\"\n",
              "            style=\"display:none;\">\n",
              "\n",
              "  <svg xmlns=\"http://www.w3.org/2000/svg\" height=\"24px\" viewBox=\"0 -960 960 960\">\n",
              "    <path d=\"M120-120v-720h720v720H120Zm60-500h600v-160H180v160Zm220 220h160v-160H400v160Zm0 220h160v-160H400v160ZM180-400h160v-160H180v160Zm440 0h160v-160H620v160ZM180-180h160v-160H180v160Zm440 0h160v-160H620v160Z\"/>\n",
              "  </svg>\n",
              "    </button>\n",
              "\n",
              "  <style>\n",
              "    .colab-df-container {\n",
              "      display:flex;\n",
              "      gap: 12px;\n",
              "    }\n",
              "\n",
              "    .colab-df-convert {\n",
              "      background-color: #E8F0FE;\n",
              "      border: none;\n",
              "      border-radius: 50%;\n",
              "      cursor: pointer;\n",
              "      display: none;\n",
              "      fill: #1967D2;\n",
              "      height: 32px;\n",
              "      padding: 0 0 0 0;\n",
              "      width: 32px;\n",
              "    }\n",
              "\n",
              "    .colab-df-convert:hover {\n",
              "      background-color: #E2EBFA;\n",
              "      box-shadow: 0px 1px 2px rgba(60, 64, 67, 0.3), 0px 1px 3px 1px rgba(60, 64, 67, 0.15);\n",
              "      fill: #174EA6;\n",
              "    }\n",
              "\n",
              "    .colab-df-buttons div {\n",
              "      margin-bottom: 4px;\n",
              "    }\n",
              "\n",
              "    [theme=dark] .colab-df-convert {\n",
              "      background-color: #3B4455;\n",
              "      fill: #D2E3FC;\n",
              "    }\n",
              "\n",
              "    [theme=dark] .colab-df-convert:hover {\n",
              "      background-color: #434B5C;\n",
              "      box-shadow: 0px 1px 3px 1px rgba(0, 0, 0, 0.15);\n",
              "      filter: drop-shadow(0px 1px 2px rgba(0, 0, 0, 0.3));\n",
              "      fill: #FFFFFF;\n",
              "    }\n",
              "  </style>\n",
              "\n",
              "    <script>\n",
              "      const buttonEl =\n",
              "        document.querySelector('#df-f240c3e0-989a-42f0-afe4-c41af722d6b3 button.colab-df-convert');\n",
              "      buttonEl.style.display =\n",
              "        google.colab.kernel.accessAllowed ? 'block' : 'none';\n",
              "\n",
              "      async function convertToInteractive(key) {\n",
              "        const element = document.querySelector('#df-f240c3e0-989a-42f0-afe4-c41af722d6b3');\n",
              "        const dataTable =\n",
              "          await google.colab.kernel.invokeFunction('convertToInteractive',\n",
              "                                                    [key], {});\n",
              "        if (!dataTable) return;\n",
              "\n",
              "        const docLinkHtml = 'Like what you see? Visit the ' +\n",
              "          '<a target=\"_blank\" href=https://colab.research.google.com/notebooks/data_table.ipynb>data table notebook</a>'\n",
              "          + ' to learn more about interactive tables.';\n",
              "        element.innerHTML = '';\n",
              "        dataTable['output_type'] = 'display_data';\n",
              "        await google.colab.output.renderOutput(dataTable, element);\n",
              "        const docLink = document.createElement('div');\n",
              "        docLink.innerHTML = docLinkHtml;\n",
              "        element.appendChild(docLink);\n",
              "      }\n",
              "    </script>\n",
              "  </div>\n",
              "\n",
              "\n",
              "<div id=\"df-1003ef24-8a45-4be0-9546-203b8c7e8859\">\n",
              "  <button class=\"colab-df-quickchart\" onclick=\"quickchart('df-1003ef24-8a45-4be0-9546-203b8c7e8859')\"\n",
              "            title=\"Suggest charts.\"\n",
              "            style=\"display:none;\">\n",
              "\n",
              "<svg xmlns=\"http://www.w3.org/2000/svg\" height=\"24px\"viewBox=\"0 0 24 24\"\n",
              "     width=\"24px\">\n",
              "    <g>\n",
              "        <path d=\"M19 3H5c-1.1 0-2 .9-2 2v14c0 1.1.9 2 2 2h14c1.1 0 2-.9 2-2V5c0-1.1-.9-2-2-2zM9 17H7v-7h2v7zm4 0h-2V7h2v10zm4 0h-2v-4h2v4z\"/>\n",
              "    </g>\n",
              "</svg>\n",
              "  </button>\n",
              "\n",
              "<style>\n",
              "  .colab-df-quickchart {\n",
              "      --bg-color: #E8F0FE;\n",
              "      --fill-color: #1967D2;\n",
              "      --hover-bg-color: #E2EBFA;\n",
              "      --hover-fill-color: #174EA6;\n",
              "      --disabled-fill-color: #AAA;\n",
              "      --disabled-bg-color: #DDD;\n",
              "  }\n",
              "\n",
              "  [theme=dark] .colab-df-quickchart {\n",
              "      --bg-color: #3B4455;\n",
              "      --fill-color: #D2E3FC;\n",
              "      --hover-bg-color: #434B5C;\n",
              "      --hover-fill-color: #FFFFFF;\n",
              "      --disabled-bg-color: #3B4455;\n",
              "      --disabled-fill-color: #666;\n",
              "  }\n",
              "\n",
              "  .colab-df-quickchart {\n",
              "    background-color: var(--bg-color);\n",
              "    border: none;\n",
              "    border-radius: 50%;\n",
              "    cursor: pointer;\n",
              "    display: none;\n",
              "    fill: var(--fill-color);\n",
              "    height: 32px;\n",
              "    padding: 0;\n",
              "    width: 32px;\n",
              "  }\n",
              "\n",
              "  .colab-df-quickchart:hover {\n",
              "    background-color: var(--hover-bg-color);\n",
              "    box-shadow: 0 1px 2px rgba(60, 64, 67, 0.3), 0 1px 3px 1px rgba(60, 64, 67, 0.15);\n",
              "    fill: var(--button-hover-fill-color);\n",
              "  }\n",
              "\n",
              "  .colab-df-quickchart-complete:disabled,\n",
              "  .colab-df-quickchart-complete:disabled:hover {\n",
              "    background-color: var(--disabled-bg-color);\n",
              "    fill: var(--disabled-fill-color);\n",
              "    box-shadow: none;\n",
              "  }\n",
              "\n",
              "  .colab-df-spinner {\n",
              "    border: 2px solid var(--fill-color);\n",
              "    border-color: transparent;\n",
              "    border-bottom-color: var(--fill-color);\n",
              "    animation:\n",
              "      spin 1s steps(1) infinite;\n",
              "  }\n",
              "\n",
              "  @keyframes spin {\n",
              "    0% {\n",
              "      border-color: transparent;\n",
              "      border-bottom-color: var(--fill-color);\n",
              "      border-left-color: var(--fill-color);\n",
              "    }\n",
              "    20% {\n",
              "      border-color: transparent;\n",
              "      border-left-color: var(--fill-color);\n",
              "      border-top-color: var(--fill-color);\n",
              "    }\n",
              "    30% {\n",
              "      border-color: transparent;\n",
              "      border-left-color: var(--fill-color);\n",
              "      border-top-color: var(--fill-color);\n",
              "      border-right-color: var(--fill-color);\n",
              "    }\n",
              "    40% {\n",
              "      border-color: transparent;\n",
              "      border-right-color: var(--fill-color);\n",
              "      border-top-color: var(--fill-color);\n",
              "    }\n",
              "    60% {\n",
              "      border-color: transparent;\n",
              "      border-right-color: var(--fill-color);\n",
              "    }\n",
              "    80% {\n",
              "      border-color: transparent;\n",
              "      border-right-color: var(--fill-color);\n",
              "      border-bottom-color: var(--fill-color);\n",
              "    }\n",
              "    90% {\n",
              "      border-color: transparent;\n",
              "      border-bottom-color: var(--fill-color);\n",
              "    }\n",
              "  }\n",
              "</style>\n",
              "\n",
              "  <script>\n",
              "    async function quickchart(key) {\n",
              "      const quickchartButtonEl =\n",
              "        document.querySelector('#' + key + ' button');\n",
              "      quickchartButtonEl.disabled = true;  // To prevent multiple clicks.\n",
              "      quickchartButtonEl.classList.add('colab-df-spinner');\n",
              "      try {\n",
              "        const charts = await google.colab.kernel.invokeFunction(\n",
              "            'suggestCharts', [key], {});\n",
              "      } catch (error) {\n",
              "        console.error('Error during call to suggestCharts:', error);\n",
              "      }\n",
              "      quickchartButtonEl.classList.remove('colab-df-spinner');\n",
              "      quickchartButtonEl.classList.add('colab-df-quickchart-complete');\n",
              "    }\n",
              "    (() => {\n",
              "      let quickchartButtonEl =\n",
              "        document.querySelector('#df-1003ef24-8a45-4be0-9546-203b8c7e8859 button');\n",
              "      quickchartButtonEl.style.display =\n",
              "        google.colab.kernel.accessAllowed ? 'block' : 'none';\n",
              "    })();\n",
              "  </script>\n",
              "</div>\n",
              "    </div>\n",
              "  </div>\n"
            ]
          },
          "metadata": {},
          "execution_count": 418
        },
        {
          "output_type": "stream",
          "name": "stdout",
          "text": [
            "time: 48.9 ms (started: 2023-09-26 12:10:13 +00:00)\n"
          ]
        }
      ]
    },
    {
      "cell_type": "code",
      "source": [
        "print(f'Dataframe Shape: {features_classes_even.shape}')"
      ],
      "metadata": {
        "id": "jWHFWnF5ZZX0",
        "outputId": "34066166-27b3-4183-87a8-ae2bdb4bd6ca",
        "colab": {
          "base_uri": "https://localhost:8080/"
        }
      },
      "execution_count": 420,
      "outputs": [
        {
          "output_type": "stream",
          "name": "stdout",
          "text": [
            "Dataframe Shape: (576, 3)\n",
            "time: 2.35 ms (started: 2023-09-26 12:10:19 +00:00)\n"
          ]
        }
      ]
    },
    {
      "cell_type": "markdown",
      "source": [
        "### Creating Trainging and Testing Sets"
      ],
      "metadata": {
        "id": "5PZ7cfX5YxPz"
      }
    },
    {
      "cell_type": "code",
      "source": [
        "features_even = np.array(features_classes_even['features'].tolist())\n",
        "classes_even = np.array(features_classes_even['resulted_in_deaths'])"
      ],
      "metadata": {
        "colab": {
          "base_uri": "https://localhost:8080/"
        },
        "outputId": "ca89839e-76fa-4e72-adea-866dd2002769",
        "id": "xdYvpvt3YxPz"
      },
      "execution_count": 555,
      "outputs": [
        {
          "output_type": "stream",
          "name": "stdout",
          "text": [
            "time: 3.64 ms (started: 2023-09-26 12:52:19 +00:00)\n"
          ]
        }
      ]
    },
    {
      "cell_type": "code",
      "source": [
        "print(classes_even.shape)"
      ],
      "metadata": {
        "id": "RSae-fLUZtta",
        "outputId": "c9a849b1-4324-42a8-b8d9-4d1eecab1a68",
        "colab": {
          "base_uri": "https://localhost:8080/"
        }
      },
      "execution_count": 556,
      "outputs": [
        {
          "output_type": "stream",
          "name": "stdout",
          "text": [
            "(576,)\n",
            "time: 2.54 ms (started: 2023-09-26 12:52:19 +00:00)\n"
          ]
        }
      ]
    },
    {
      "cell_type": "code",
      "source": [
        "print(features_even.shape)"
      ],
      "metadata": {
        "colab": {
          "base_uri": "https://localhost:8080/"
        },
        "outputId": "85a1f959-8bef-425d-ea1b-bfdf9581f0d7",
        "id": "okbQN_jrYxPz"
      },
      "execution_count": 557,
      "outputs": [
        {
          "output_type": "stream",
          "name": "stdout",
          "text": [
            "(576, 13)\n",
            "time: 698 µs (started: 2023-09-26 12:52:19 +00:00)\n"
          ]
        }
      ]
    },
    {
      "cell_type": "code",
      "source": [
        "X_train, X_test, y_train, y_test = train_test_split(\n",
        "    features_even, classes_even, test_size=0.25, shuffle=True,\n",
        "    stratify=classes_even, random_state=0\n",
        "    )"
      ],
      "metadata": {
        "colab": {
          "base_uri": "https://localhost:8080/"
        },
        "outputId": "729186db-324c-4cec-e4b8-b92f4f0531df",
        "id": "wnCC_BmpYxPz"
      },
      "execution_count": 558,
      "outputs": [
        {
          "output_type": "stream",
          "name": "stdout",
          "text": [
            "time: 6.98 ms (started: 2023-09-26 12:52:19 +00:00)\n"
          ]
        }
      ]
    },
    {
      "cell_type": "markdown",
      "source": [
        "## Defining the Model and Training"
      ],
      "metadata": {
        "id": "ZAmEv67xYpx7"
      }
    },
    {
      "cell_type": "code",
      "source": [
        "input_shape = (features.shape[1],)\n",
        "hidden_layers = 2\n",
        "unit_scalar = 3\n",
        "\n",
        "optimizer_name = 'Adam'\n",
        "learning_rate = 0.0005\n",
        "epochs = 500\n",
        "\n",
        "model = create_model(\n",
        "    input_shape=input_shape, hidden_layers=hidden_layers,\n",
        "    unit_scalar=unit_scalar, optimizer_name=optimizer_name,\n",
        "    learning_rate=learning_rate, epochs=epochs)\n",
        "\n",
        "print(model.summary())"
      ],
      "metadata": {
        "colab": {
          "base_uri": "https://localhost:8080/"
        },
        "outputId": "ec626641-a502-47d7-9d40-543f0a78ce8d",
        "id": "jTgrGjOiYpx7"
      },
      "execution_count": 635,
      "outputs": [
        {
          "output_type": "stream",
          "name": "stdout",
          "text": [
            "Model: \"model_2hl_13mfcc\"\n",
            "_________________________________________________________________\n",
            " Layer (type)                Output Shape              Param #   \n",
            "=================================================================\n",
            " hidden_layer_1 (Dense)      (None, 32)                448       \n",
            "                                                                 \n",
            " hidden_layer_2 (Dense)      (None, 16)                528       \n",
            "                                                                 \n",
            " output_layer (Dense)        (None, 2)                 34        \n",
            "                                                                 \n",
            "=================================================================\n",
            "Total params: 1010 (3.95 KB)\n",
            "Trainable params: 1010 (3.95 KB)\n",
            "Non-trainable params: 0 (0.00 Byte)\n",
            "_________________________________________________________________\n",
            "None\n",
            "time: 88.6 ms (started: 2023-09-26 13:06:36 +00:00)\n"
          ]
        }
      ]
    },
    {
      "cell_type": "code",
      "source": [
        "plot_model(model, show_shapes=True, show_layer_activations=True)"
      ],
      "metadata": {
        "outputId": "adcc0a94-e937-4ea3-8344-4bb54936fef3",
        "colab": {
          "base_uri": "https://localhost:8080/",
          "height": 440
        },
        "id": "rGSr5WhaYpx7"
      },
      "execution_count": 636,
      "outputs": [
        {
          "output_type": "execute_result",
          "data": {
            "image/png": "[encoded data removed]",
            "text/plain": [
              "<IPython.core.display.Image object>"
            ]
          },
          "metadata": {},
          "execution_count": 636
        },
        {
          "output_type": "stream",
          "name": "stdout",
          "text": [
            "time: 49.3 ms (started: 2023-09-26 13:06:36 +00:00)\n"
          ]
        }
      ]
    },
    {
      "cell_type": "code",
      "source": [
        "# define callbacks\n",
        "reduce_lr_callback = callbacks.ReduceLROnPlateau(\n",
        "    monitor='val_loss', factor=0.5, patience=10, min_lr=0.000005, verbose=1)\n",
        "\n",
        "earlystopping = callbacks.EarlyStopping(\n",
        "    monitor=\"val_loss\", patience=50, restore_best_weights=True,\n",
        "    min_delta=0.001, verbose=1)"
      ],
      "metadata": {
        "colab": {
          "base_uri": "https://localhost:8080/"
        },
        "outputId": "d15fa24b-3fb2-45f0-c710-9e948096a140",
        "id": "NgjcWvodYpx7"
      },
      "execution_count": 637,
      "outputs": [
        {
          "output_type": "stream",
          "name": "stdout",
          "text": [
            "time: 994 µs (started: 2023-09-26 13:06:36 +00:00)\n"
          ]
        }
      ]
    },
    {
      "cell_type": "code",
      "source": [
        "train_res  = model.fit(\n",
        "    X_train,\n",
        "    y_train,\n",
        "    epochs=epochs,\n",
        "    validation_data=(X_test, y_test),\n",
        "    callbacks=[\n",
        "        # checkpointer,\n",
        "        earlystopping,\n",
        "        reduce_lr_callback\n",
        "        ],\n",
        "    verbose=1\n",
        "    )\n",
        "print()"
      ],
      "metadata": {
        "colab": {
          "base_uri": "https://localhost:8080/"
        },
        "outputId": "71f4f4a8-bf93-42bc-b5a5-1694ff72f04a",
        "id": "q3rzyimsYpx7"
      },
      "execution_count": 638,
      "outputs": [
        {
          "output_type": "stream",
          "name": "stdout",
          "text": [
            "Epoch 1/500\n",
            "14/14 [==============================] - 1s 22ms/step - loss: 0.7384 - accuracy: 0.4676 - val_loss: 0.7054 - val_accuracy: 0.5417 - lr: 5.0000e-04\n",
            "Epoch 2/500\n",
            "14/14 [==============================] - 0s 6ms/step - loss: 0.7159 - accuracy: 0.4745 - val_loss: 0.7076 - val_accuracy: 0.5278 - lr: 5.0000e-04\n",
            "Epoch 3/500\n",
            "14/14 [==============================] - 0s 7ms/step - loss: 0.7076 - accuracy: 0.4838 - val_loss: 0.7087 - val_accuracy: 0.5556 - lr: 5.0000e-04\n",
            "Epoch 4/500\n",
            "14/14 [==============================] - 0s 10ms/step - loss: 0.7018 - accuracy: 0.4931 - val_loss: 0.7070 - val_accuracy: 0.5347 - lr: 5.0000e-04\n",
            "Epoch 5/500\n",
            "14/14 [==============================] - 0s 11ms/step - loss: 0.7015 - accuracy: 0.4954 - val_loss: 0.7051 - val_accuracy: 0.5347 - lr: 5.0000e-04\n",
            "Epoch 6/500\n",
            "14/14 [==============================] - 0s 10ms/step - loss: 0.6965 - accuracy: 0.5093 - val_loss: 0.7054 - val_accuracy: 0.5347 - lr: 5.0000e-04\n",
            "Epoch 7/500\n",
            "14/14 [==============================] - 0s 11ms/step - loss: 0.6976 - accuracy: 0.5231 - val_loss: 0.7067 - val_accuracy: 0.5208 - lr: 5.0000e-04\n",
            "Epoch 8/500\n",
            "14/14 [==============================] - 0s 11ms/step - loss: 0.6975 - accuracy: 0.5000 - val_loss: 0.7052 - val_accuracy: 0.5486 - lr: 5.0000e-04\n",
            "Epoch 9/500\n",
            "14/14 [==============================] - 0s 10ms/step - loss: 0.6930 - accuracy: 0.5162 - val_loss: 0.7072 - val_accuracy: 0.5069 - lr: 5.0000e-04\n",
            "Epoch 10/500\n",
            "14/14 [==============================] - 0s 11ms/step - loss: 0.6927 - accuracy: 0.5208 - val_loss: 0.7063 - val_accuracy: 0.5208 - lr: 5.0000e-04\n",
            "Epoch 11/500\n",
            "14/14 [==============================] - 0s 9ms/step - loss: 0.6925 - accuracy: 0.5139 - val_loss: 0.7048 - val_accuracy: 0.5347 - lr: 5.0000e-04\n",
            "Epoch 12/500\n",
            "14/14 [==============================] - 0s 10ms/step - loss: 0.6912 - accuracy: 0.5278 - val_loss: 0.7070 - val_accuracy: 0.5069 - lr: 5.0000e-04\n",
            "Epoch 13/500\n",
            "14/14 [==============================] - 0s 9ms/step - loss: 0.6907 - accuracy: 0.5417 - val_loss: 0.7064 - val_accuracy: 0.5208 - lr: 5.0000e-04\n",
            "Epoch 14/500\n",
            "14/14 [==============================] - 0s 13ms/step - loss: 0.6906 - accuracy: 0.5394 - val_loss: 0.7057 - val_accuracy: 0.5208 - lr: 5.0000e-04\n",
            "Epoch 15/500\n",
            "14/14 [==============================] - 0s 10ms/step - loss: 0.6891 - accuracy: 0.5324 - val_loss: 0.7070 - val_accuracy: 0.5417 - lr: 5.0000e-04\n",
            "Epoch 16/500\n",
            "14/14 [==============================] - 0s 10ms/step - loss: 0.6888 - accuracy: 0.5324 - val_loss: 0.7061 - val_accuracy: 0.5208 - lr: 5.0000e-04\n",
            "Epoch 17/500\n",
            "14/14 [==============================] - 0s 10ms/step - loss: 0.6889 - accuracy: 0.5394 - val_loss: 0.7058 - val_accuracy: 0.5139 - lr: 5.0000e-04\n",
            "Epoch 18/500\n",
            "14/14 [==============================] - 0s 9ms/step - loss: 0.6881 - accuracy: 0.5370 - val_loss: 0.7064 - val_accuracy: 0.5139 - lr: 5.0000e-04\n",
            "Epoch 19/500\n",
            "14/14 [==============================] - 0s 11ms/step - loss: 0.6878 - accuracy: 0.5417 - val_loss: 0.7059 - val_accuracy: 0.5208 - lr: 5.0000e-04\n",
            "Epoch 20/500\n",
            "14/14 [==============================] - 0s 10ms/step - loss: 0.6887 - accuracy: 0.5370 - val_loss: 0.7041 - val_accuracy: 0.5208 - lr: 5.0000e-04\n",
            "Epoch 21/500\n",
            "14/14 [==============================] - 0s 9ms/step - loss: 0.6856 - accuracy: 0.5347 - val_loss: 0.7059 - val_accuracy: 0.5417 - lr: 5.0000e-04\n",
            "Epoch 22/500\n",
            "14/14 [==============================] - 0s 11ms/step - loss: 0.6867 - accuracy: 0.5347 - val_loss: 0.7076 - val_accuracy: 0.5278 - lr: 5.0000e-04\n",
            "Epoch 23/500\n",
            "14/14 [==============================] - 0s 10ms/step - loss: 0.6858 - accuracy: 0.5394 - val_loss: 0.7060 - val_accuracy: 0.5208 - lr: 5.0000e-04\n",
            "Epoch 24/500\n",
            "14/14 [==============================] - 0s 13ms/step - loss: 0.6848 - accuracy: 0.5509 - val_loss: 0.7070 - val_accuracy: 0.4931 - lr: 5.0000e-04\n",
            "Epoch 25/500\n",
            "14/14 [==============================] - 0s 11ms/step - loss: 0.6849 - accuracy: 0.5509 - val_loss: 0.7052 - val_accuracy: 0.5069 - lr: 5.0000e-04\n",
            "Epoch 26/500\n",
            "14/14 [==============================] - 0s 10ms/step - loss: 0.6860 - accuracy: 0.5486 - val_loss: 0.7057 - val_accuracy: 0.5069 - lr: 5.0000e-04\n",
            "Epoch 27/500\n",
            "14/14 [==============================] - 0s 10ms/step - loss: 0.6834 - accuracy: 0.5625 - val_loss: 0.7068 - val_accuracy: 0.5139 - lr: 5.0000e-04\n",
            "Epoch 28/500\n",
            "14/14 [==============================] - 0s 10ms/step - loss: 0.6840 - accuracy: 0.5509 - val_loss: 0.7081 - val_accuracy: 0.5278 - lr: 5.0000e-04\n",
            "Epoch 29/500\n",
            "14/14 [==============================] - 0s 10ms/step - loss: 0.6826 - accuracy: 0.5556 - val_loss: 0.7056 - val_accuracy: 0.5208 - lr: 5.0000e-04\n",
            "Epoch 30/500\n",
            "12/14 [========================>.....] - ETA: 0s - loss: 0.6854 - accuracy: 0.5469\n",
            "Epoch 30: ReduceLROnPlateau reducing learning rate to 0.0002500000118743628.\n",
            "14/14 [==============================] - 0s 10ms/step - loss: 0.6829 - accuracy: 0.5532 - val_loss: 0.7077 - val_accuracy: 0.5000 - lr: 5.0000e-04\n",
            "Epoch 31/500\n",
            "14/14 [==============================] - 0s 11ms/step - loss: 0.6819 - accuracy: 0.5625 - val_loss: 0.7062 - val_accuracy: 0.4931 - lr: 2.5000e-04\n",
            "Epoch 32/500\n",
            "14/14 [==============================] - 0s 10ms/step - loss: 0.6816 - accuracy: 0.5532 - val_loss: 0.7070 - val_accuracy: 0.5278 - lr: 2.5000e-04\n",
            "Epoch 33/500\n",
            "14/14 [==============================] - 0s 10ms/step - loss: 0.6813 - accuracy: 0.5625 - val_loss: 0.7076 - val_accuracy: 0.5347 - lr: 2.5000e-04\n",
            "Epoch 34/500\n",
            "14/14 [==============================] - 0s 12ms/step - loss: 0.6808 - accuracy: 0.5602 - val_loss: 0.7072 - val_accuracy: 0.5278 - lr: 2.5000e-04\n",
            "Epoch 35/500\n",
            "14/14 [==============================] - 0s 11ms/step - loss: 0.6811 - accuracy: 0.5532 - val_loss: 0.7076 - val_accuracy: 0.5208 - lr: 2.5000e-04\n",
            "Epoch 36/500\n",
            "14/14 [==============================] - 0s 10ms/step - loss: 0.6802 - accuracy: 0.5625 - val_loss: 0.7082 - val_accuracy: 0.5069 - lr: 2.5000e-04\n",
            "Epoch 37/500\n",
            "14/14 [==============================] - 0s 5ms/step - loss: 0.6807 - accuracy: 0.5556 - val_loss: 0.7072 - val_accuracy: 0.5208 - lr: 2.5000e-04\n",
            "Epoch 38/500\n",
            "14/14 [==============================] - 0s 6ms/step - loss: 0.6806 - accuracy: 0.5509 - val_loss: 0.7081 - val_accuracy: 0.5208 - lr: 2.5000e-04\n",
            "Epoch 39/500\n",
            "14/14 [==============================] - 0s 6ms/step - loss: 0.6815 - accuracy: 0.5556 - val_loss: 0.7090 - val_accuracy: 0.5000 - lr: 2.5000e-04\n",
            "Epoch 40/500\n",
            " 1/14 [=>............................] - ETA: 0s - loss: 0.7055 - accuracy: 0.4688\n",
            "Epoch 40: ReduceLROnPlateau reducing learning rate to 0.0001250000059371814.\n",
            "14/14 [==============================] - 0s 7ms/step - loss: 0.6797 - accuracy: 0.5694 - val_loss: 0.7083 - val_accuracy: 0.5208 - lr: 2.5000e-04\n",
            "Epoch 41/500\n",
            "14/14 [==============================] - 0s 7ms/step - loss: 0.6792 - accuracy: 0.5625 - val_loss: 0.7089 - val_accuracy: 0.5208 - lr: 1.2500e-04\n",
            "Epoch 42/500\n",
            "14/14 [==============================] - 0s 7ms/step - loss: 0.6796 - accuracy: 0.5556 - val_loss: 0.7087 - val_accuracy: 0.5208 - lr: 1.2500e-04\n",
            "Epoch 43/500\n",
            "14/14 [==============================] - 0s 5ms/step - loss: 0.6795 - accuracy: 0.5556 - val_loss: 0.7084 - val_accuracy: 0.5208 - lr: 1.2500e-04\n",
            "Epoch 44/500\n",
            "14/14 [==============================] - 0s 6ms/step - loss: 0.6790 - accuracy: 0.5579 - val_loss: 0.7090 - val_accuracy: 0.5208 - lr: 1.2500e-04\n",
            "Epoch 45/500\n",
            "14/14 [==============================] - 0s 7ms/step - loss: 0.6793 - accuracy: 0.5579 - val_loss: 0.7095 - val_accuracy: 0.5208 - lr: 1.2500e-04\n",
            "Epoch 46/500\n",
            "14/14 [==============================] - 0s 7ms/step - loss: 0.6788 - accuracy: 0.5602 - val_loss: 0.7093 - val_accuracy: 0.5208 - lr: 1.2500e-04\n",
            "Epoch 47/500\n",
            "14/14 [==============================] - 0s 8ms/step - loss: 0.6789 - accuracy: 0.5671 - val_loss: 0.7085 - val_accuracy: 0.5208 - lr: 1.2500e-04\n",
            "Epoch 48/500\n",
            "14/14 [==============================] - 0s 7ms/step - loss: 0.6800 - accuracy: 0.5532 - val_loss: 0.7096 - val_accuracy: 0.5208 - lr: 1.2500e-04\n",
            "Epoch 49/500\n",
            "14/14 [==============================] - 0s 6ms/step - loss: 0.6785 - accuracy: 0.5625 - val_loss: 0.7088 - val_accuracy: 0.5208 - lr: 1.2500e-04\n",
            "Epoch 50/500\n",
            " 1/14 [=>............................] - ETA: 0s - loss: 0.6324 - accuracy: 0.6250\n",
            "Epoch 50: ReduceLROnPlateau reducing learning rate to 6.25000029685907e-05.\n",
            "14/14 [==============================] - 0s 7ms/step - loss: 0.6787 - accuracy: 0.5648 - val_loss: 0.7093 - val_accuracy: 0.5208 - lr: 1.2500e-04\n",
            "Epoch 51/500\n",
            "14/14 [==============================] - 0s 6ms/step - loss: 0.6783 - accuracy: 0.5648 - val_loss: 0.7093 - val_accuracy: 0.5208 - lr: 6.2500e-05\n",
            "Epoch 52/500\n",
            "14/14 [==============================] - 0s 6ms/step - loss: 0.6783 - accuracy: 0.5648 - val_loss: 0.7089 - val_accuracy: 0.5208 - lr: 6.2500e-05\n",
            "Epoch 53/500\n",
            "14/14 [==============================] - 0s 8ms/step - loss: 0.6784 - accuracy: 0.5648 - val_loss: 0.7094 - val_accuracy: 0.5208 - lr: 6.2500e-05\n",
            "Epoch 54/500\n",
            "14/14 [==============================] - 0s 7ms/step - loss: 0.6782 - accuracy: 0.5648 - val_loss: 0.7090 - val_accuracy: 0.5208 - lr: 6.2500e-05\n",
            "Epoch 55/500\n",
            "14/14 [==============================] - 0s 8ms/step - loss: 0.6781 - accuracy: 0.5648 - val_loss: 0.7093 - val_accuracy: 0.5208 - lr: 6.2500e-05\n",
            "Epoch 56/500\n",
            "14/14 [==============================] - 0s 7ms/step - loss: 0.6781 - accuracy: 0.5625 - val_loss: 0.7095 - val_accuracy: 0.5208 - lr: 6.2500e-05\n",
            "Epoch 57/500\n",
            "14/14 [==============================] - 0s 7ms/step - loss: 0.6780 - accuracy: 0.5648 - val_loss: 0.7093 - val_accuracy: 0.5208 - lr: 6.2500e-05\n",
            "Epoch 58/500\n",
            "14/14 [==============================] - 0s 7ms/step - loss: 0.6780 - accuracy: 0.5648 - val_loss: 0.7095 - val_accuracy: 0.5208 - lr: 6.2500e-05\n",
            "Epoch 59/500\n",
            "14/14 [==============================] - 0s 7ms/step - loss: 0.6779 - accuracy: 0.5648 - val_loss: 0.7092 - val_accuracy: 0.5208 - lr: 6.2500e-05\n",
            "Epoch 60/500\n",
            " 1/14 [=>............................] - ETA: 0s - loss: 0.6857 - accuracy: 0.5938\n",
            "Epoch 60: ReduceLROnPlateau reducing learning rate to 3.125000148429535e-05.\n",
            "14/14 [==============================] - 0s 8ms/step - loss: 0.6780 - accuracy: 0.5625 - val_loss: 0.7098 - val_accuracy: 0.5208 - lr: 6.2500e-05\n",
            "Epoch 61/500\n",
            "14/14 [==============================] - 0s 7ms/step - loss: 0.6779 - accuracy: 0.5671 - val_loss: 0.7097 - val_accuracy: 0.5208 - lr: 3.1250e-05\n",
            "Epoch 62/500\n",
            "14/14 [==============================] - 0s 7ms/step - loss: 0.6779 - accuracy: 0.5671 - val_loss: 0.7098 - val_accuracy: 0.5208 - lr: 3.1250e-05\n",
            "Epoch 63/500\n",
            "14/14 [==============================] - 0s 7ms/step - loss: 0.6778 - accuracy: 0.5648 - val_loss: 0.7097 - val_accuracy: 0.5208 - lr: 3.1250e-05\n",
            "Epoch 64/500\n",
            "14/14 [==============================] - 0s 6ms/step - loss: 0.6778 - accuracy: 0.5648 - val_loss: 0.7096 - val_accuracy: 0.5208 - lr: 3.1250e-05\n",
            "Epoch 65/500\n",
            "14/14 [==============================] - 0s 8ms/step - loss: 0.6777 - accuracy: 0.5648 - val_loss: 0.7097 - val_accuracy: 0.5208 - lr: 3.1250e-05\n",
            "Epoch 66/500\n",
            "14/14 [==============================] - 0s 7ms/step - loss: 0.6777 - accuracy: 0.5648 - val_loss: 0.7098 - val_accuracy: 0.5208 - lr: 3.1250e-05\n",
            "Epoch 67/500\n",
            "14/14 [==============================] - 0s 7ms/step - loss: 0.6777 - accuracy: 0.5671 - val_loss: 0.7098 - val_accuracy: 0.5208 - lr: 3.1250e-05\n",
            "Epoch 68/500\n",
            "14/14 [==============================] - 0s 6ms/step - loss: 0.6776 - accuracy: 0.5648 - val_loss: 0.7098 - val_accuracy: 0.5208 - lr: 3.1250e-05\n",
            "Epoch 69/500\n",
            "14/14 [==============================] - 0s 7ms/step - loss: 0.6776 - accuracy: 0.5671 - val_loss: 0.7099 - val_accuracy: 0.5208 - lr: 3.1250e-05\n",
            "Epoch 70/500\n",
            " 1/14 [=>............................] - ETA: 0s - loss: 0.6758 - accuracy: 0.5625Restoring model weights from the end of the best epoch: 20.\n",
            "\n",
            "Epoch 70: ReduceLROnPlateau reducing learning rate to 1.5625000742147677e-05.\n",
            "14/14 [==============================] - 0s 7ms/step - loss: 0.6776 - accuracy: 0.5648 - val_loss: 0.7097 - val_accuracy: 0.5208 - lr: 3.1250e-05\n",
            "Epoch 70: early stopping\n",
            "\n",
            "time: 9.86 s (started: 2023-09-26 13:06:36 +00:00)\n"
          ]
        }
      ]
    },
    {
      "cell_type": "markdown",
      "source": [
        "## Assessing the Model"
      ],
      "metadata": {
        "id": "zqgbHXQtYpx7"
      }
    },
    {
      "cell_type": "code",
      "source": [
        "cnn_feats_history_pd = pd.DataFrame(train_res.history)\n",
        "title = f'{epochs} Epochs \\ {optimizer_name} \\ {learning_rate:.10f}'\n",
        "cnn_feats_history_pd[['loss','val_loss']].plot(title=title,xlabel='steps', ylabel='loss')\n",
        "plt.show()"
      ],
      "metadata": {
        "colab": {
          "base_uri": "https://localhost:8080/",
          "height": 490
        },
        "outputId": "6e2f4770-b008-4c4f-c42b-e4ada37d8219",
        "id": "08mtx9r8Ypx7"
      },
      "execution_count": 639,
      "outputs": [
        {
          "output_type": "display_data",
          "data": {
            "text/plain": [
              "<Figure size 640x480 with 1 Axes>"
            ],
            "image/png": "[encoded data removed]"
          },
          "metadata": {}
        },
        {
          "output_type": "stream",
          "name": "stdout",
          "text": [
            "time: 320 ms (started: 2023-09-26 13:06:46 +00:00)\n"
          ]
        }
      ]
    },
    {
      "cell_type": "code",
      "source": [
        "title = f'{epochs} Epochs \\ {optimizer_name} \\ {learning_rate:.10f}'\n",
        "cnn_feats_history_pd[['accuracy','val_accuracy']].plot(title=title,xlabel='steps', ylabel='accuracy')\n",
        "plt.show()"
      ],
      "metadata": {
        "colab": {
          "base_uri": "https://localhost:8080/",
          "height": 490
        },
        "outputId": "b2a1362a-f136-4ab5-e631-fb7e0df1ef63",
        "id": "p8l5tHTsYpx7"
      },
      "execution_count": 640,
      "outputs": [
        {
          "output_type": "display_data",
          "data": {
            "text/plain": [
              "<Figure size 640x480 with 1 Axes>"
            ],
            "image/png": "[encoded data removed]"
          },
          "metadata": {}
        },
        {
          "output_type": "stream",
          "name": "stdout",
          "text": [
            "time: 335 ms (started: 2023-09-26 13:06:46 +00:00)\n"
          ]
        }
      ]
    },
    {
      "cell_type": "code",
      "source": [
        "test_accuracy = model.evaluate(X_test, y_test,\n",
        "  # batch_size=num_batch_size,\n",
        "  verbose=0)\n",
        "print(test_accuracy)"
      ],
      "metadata": {
        "colab": {
          "base_uri": "https://localhost:8080/"
        },
        "outputId": "43049535-f738-4af6-8bc7-d0aafb2081c7",
        "id": "H4Drv78JYpx7"
      },
      "execution_count": 641,
      "outputs": [
        {
          "output_type": "stream",
          "name": "stdout",
          "text": [
            "[0.7041136026382446, 0.5208333134651184]\n",
            "time: 95.5 ms (started: 2023-09-26 13:06:47 +00:00)\n"
          ]
        }
      ]
    },
    {
      "cell_type": "code",
      "source": [
        "y_probs = model.predict(X_test)"
      ],
      "metadata": {
        "colab": {
          "base_uri": "https://localhost:8080/"
        },
        "outputId": "9d5297a8-1aef-4d0d-f2b9-3a570246299e",
        "id": "yhsW8vziYpx7"
      },
      "execution_count": 642,
      "outputs": [
        {
          "output_type": "stream",
          "name": "stdout",
          "text": [
            "5/5 [==============================] - 0s 3ms/step\n",
            "time: 166 ms (started: 2023-09-26 13:06:47 +00:00)\n"
          ]
        }
      ]
    },
    {
      "cell_type": "code",
      "source": [
        "y_predicted = np.argmax(y_probs, axis=-1)\n",
        "print(y_predicted)"
      ],
      "metadata": {
        "colab": {
          "base_uri": "https://localhost:8080/"
        },
        "outputId": "2dceccf5-3523-46f6-a523-20d69b3f9d27",
        "id": "c4kQipd2YpyM"
      },
      "execution_count": 643,
      "outputs": [
        {
          "output_type": "stream",
          "name": "stdout",
          "text": [
            "[0 0 1 0 0 0 0 0 0 0 0 0 0 1 0 0 1 0 0 0 0 1 0 0 0 1 0 0 0 1 0 1 1 0 0 1 0\n",
            " 0 1 1 1 0 0 0 0 1 1 1 1 1 0 0 0 0 0 0 0 1 1 1 0 1 1 0 1 0 0 1 0 0 0 1 1 0\n",
            " 0 0 0 0 0 1 0 0 1 1 1 1 1 0 0 1 0 1 1 0 0 0 1 0 0 0 0 0 0 0 0 0 1 0 1 1 1\n",
            " 1 0 1 0 0 0 1 0 0 1 0 0 0 0 1 1 0 1 0 0 0 0 0 0 0 0 0 1 0 1 0 0 0]\n",
            "time: 3.53 ms (started: 2023-09-26 13:06:47 +00:00)\n"
          ]
        }
      ]
    },
    {
      "cell_type": "code",
      "source": [
        "# notice the y_test and not cat\n",
        "print(metrics.classification_report(y_test, y_predicted, digits=4, target_names=['no-death','death']))"
      ],
      "metadata": {
        "colab": {
          "base_uri": "https://localhost:8080/"
        },
        "outputId": "2be42add-0bad-445a-c8d6-39618f6fe260",
        "id": "0YC1gvgyYpyM"
      },
      "execution_count": 644,
      "outputs": [
        {
          "output_type": "stream",
          "name": "stdout",
          "text": [
            "              precision    recall  f1-score   support\n",
            "\n",
            "    no-death     0.5158    0.6806    0.5868        72\n",
            "       death     0.5306    0.3611    0.4298        72\n",
            "\n",
            "    accuracy                         0.5208       144\n",
            "   macro avg     0.5232    0.5208    0.5083       144\n",
            "weighted avg     0.5232    0.5208    0.5083       144\n",
            "\n",
            "time: 14.6 ms (started: 2023-09-26 13:06:47 +00:00)\n"
          ]
        }
      ]
    },
    {
      "cell_type": "code",
      "source": [
        "deep_feats_cm = metrics.confusion_matrix(y_test, y_predicted)"
      ],
      "metadata": {
        "colab": {
          "base_uri": "https://localhost:8080/"
        },
        "outputId": "3d5c7e99-c9bd-48e6-9f8d-4919e3bee2d3",
        "id": "3OhbRZwYYpyM"
      },
      "execution_count": 645,
      "outputs": [
        {
          "output_type": "stream",
          "name": "stdout",
          "text": [
            "time: 2.3 ms (started: 2023-09-26 13:06:47 +00:00)\n"
          ]
        }
      ]
    },
    {
      "cell_type": "code",
      "source": [
        "ax = sns.heatmap(deep_feats_cm, annot=True, linewidths=0.01, cmap=\"Greens\", linecolor=\"gray\", fmt='g')\n",
        "\n",
        "ax.set_xlabel(\"\\nPredicted Label\")\n",
        "ax.set_ylabel(\"True Label\\n\")\n",
        "\n",
        "ax.xaxis.set_ticklabels(['Non-Fatal','Fatal'])\n",
        "ax.yaxis.set_ticklabels(['Non-Fatal','Fatal'])\n",
        "\n",
        "\n",
        "ax.set_title(\"Confusion matrix for deep features neural network\\n\")\n",
        "\n",
        "plt.show()\n",
        "\n",
        "sensitivity1 = deep_feats_cm[0,0]/(deep_feats_cm[0,0]+deep_feats_cm[0,1])\n",
        "print('Sensitivity : ', sensitivity1 )\n",
        "\n",
        "specificity1 = deep_feats_cm[1,1]/(deep_feats_cm[1,0]+deep_feats_cm[1,1])\n",
        "print('Specificity : ', specificity1)"
      ],
      "metadata": {
        "colab": {
          "base_uri": "https://localhost:8080/",
          "height": 562
        },
        "outputId": "a4b838ca-e590-4889-e473-3596219783e0",
        "id": "H268DNATYpyM"
      },
      "execution_count": 646,
      "outputs": [
        {
          "output_type": "display_data",
          "data": {
            "text/plain": [
              "<Figure size 640x480 with 2 Axes>"
            ],
            "image/png": "[encoded data removed]"
          },
          "metadata": {}
        },
        {
          "output_type": "stream",
          "name": "stdout",
          "text": [
            "Sensitivity :  0.6805555555555556\n",
            "Specificity :  0.3611111111111111\n",
            "time: 279 ms (started: 2023-09-26 13:06:47 +00:00)\n"
          ]
        }
      ]
    }
  ]
}