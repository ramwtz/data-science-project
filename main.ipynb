{
 "cells": [
  {
   "cell_type": "code",
   "execution_count": 22,
   "id": "4a6a3583",
   "metadata": {},
   "outputs": [],
   "source": [
    "import speech_recognition as sr\n",
    "from vosk import Model, KaldiRecognizer\n",
    "import os as _os"
   ]
  },
  {
   "cell_type": "code",
   "execution_count": 23,
   "id": "18ffd91f",
   "metadata": {},
   "outputs": [],
   "source": [
    "audio_file_dir = _os.path.join('data', 'calls', '911_first6sec')\n",
    "audio_file_path = _os.path.join(audio_file_dir, 'call_10_0.wav')"
   ]
  },
  {
   "cell_type": "code",
   "execution_count": 3,
   "id": "5f3e989e",
   "metadata": {},
   "outputs": [],
   "source": [
    "r = sr.Recognizer()"
   ]
  },
  {
   "cell_type": "markdown",
   "id": "bb238469",
   "metadata": {},
   "source": [
    "# We will first try to decipher the audio as is using four different speach to text engines: Google, Sphinx, Vosk & Whisper (all engines that have free APIs). The transcription of the text is: \"Ma'am, my pickup was stolen, I had to go find it. ahh\""
   ]
  },
  {
   "cell_type": "code",
   "execution_count": 4,
   "id": "66feb739",
   "metadata": {},
   "outputs": [],
   "source": [
    "with sr.AudioFile(audio_file_path) as src:\n",
    "    audio = r.record(src)"
   ]
  },
  {
   "cell_type": "code",
   "execution_count": 55,
   "id": "ed080579",
   "metadata": {},
   "outputs": [
    {
     "data": {
      "text/plain": [
       "'damn my pickup was born I had to go find it'"
      ]
     },
     "execution_count": 55,
     "metadata": {},
     "output_type": "execute_result"
    }
   ],
   "source": [
    "r.recognize_google(audio)"
   ]
  },
  {
   "cell_type": "code",
   "execution_count": 56,
   "id": "aa617d6d",
   "metadata": {},
   "outputs": [
    {
     "data": {
      "text/plain": [
       "'no wonder the political had invited laugh'"
      ]
     },
     "execution_count": 56,
     "metadata": {},
     "output_type": "execute_result"
    }
   ],
   "source": [
    "r.recognize_sphinx(audio)"
   ]
  },
  {
   "cell_type": "code",
   "execution_count": 57,
   "id": "1fc5aad9",
   "metadata": {},
   "outputs": [
    {
     "data": {
      "text/plain": [
       "\" Ma'am, my cat is a person. I had it offended.\""
      ]
     },
     "execution_count": 57,
     "metadata": {},
     "output_type": "execute_result"
    }
   ],
   "source": [
    "r.recognize_whisper(audio)"
   ]
  },
  {
   "cell_type": "code",
   "execution_count": 58,
   "id": "21a6257a",
   "metadata": {
    "scrolled": true
   },
   "outputs": [
    {
     "data": {
      "text/plain": [
       "'{\\n  \"text\" : \"now my pick up on to go find that ah\"\\n}'"
      ]
     },
     "execution_count": 58,
     "metadata": {},
     "output_type": "execute_result"
    }
   ],
   "source": [
    "model_path = _os.path.join('model', 'vosk', 'eng_small')\n",
    "vosk_audio = audio.get_raw_data(convert_rate=16000, convert_width=2)\n",
    "\n",
    "#\n",
    "model = Model(model_path)\n",
    "recognizer = KaldiRecognizer(model, 16000)\n",
    "recognizer.AcceptWaveform(vosk_audio);\n",
    "recognizer.FinalResult()"
   ]
  },
  {
   "cell_type": "markdown",
   "id": "3c70067a",
   "metadata": {},
   "source": [
    "# We can see that only google was remotely close, albeit only whisper was able to decipher the first word correctly. Now lets try cleaning the audio up:"
   ]
  },
  {
   "cell_type": "code",
   "execution_count": 13,
   "id": "c4cace9a",
   "metadata": {},
   "outputs": [],
   "source": [
    "with sr.AudioFile(audio_file_path) as src:\n",
    "    r.adjust_for_ambient_noise(src, duration=0.5)    \n",
    "    audio_clean = r.record(src)"
   ]
  },
  {
   "cell_type": "code",
   "execution_count": 59,
   "id": "9300fd8e",
   "metadata": {},
   "outputs": [
    {
     "data": {
      "text/plain": [
       "'damn my pickup was born I had to go find it'"
      ]
     },
     "execution_count": 59,
     "metadata": {},
     "output_type": "execute_result"
    }
   ],
   "source": [
    "r.recognize_google(audio_clean)"
   ]
  },
  {
   "cell_type": "code",
   "execution_count": 60,
   "id": "57af7826",
   "metadata": {},
   "outputs": [
    {
     "data": {
      "text/plain": [
       "'my own mind at football has invited up'"
      ]
     },
     "execution_count": 60,
     "metadata": {},
     "output_type": "execute_result"
    }
   ],
   "source": [
    "r.recognize_sphinx(audio_clean)"
   ]
  },
  {
   "cell_type": "code",
   "execution_count": 61,
   "id": "8c36f277",
   "metadata": {},
   "outputs": [
    {
     "data": {
      "text/plain": [
       "\" Ma'am, my kekep was born. I had to go find it.\""
      ]
     },
     "execution_count": 61,
     "metadata": {},
     "output_type": "execute_result"
    }
   ],
   "source": [
    "r.recognize_whisper(audio_clean, language='english')"
   ]
  },
  {
   "cell_type": "code",
   "execution_count": 62,
   "id": "bbd65f00",
   "metadata": {},
   "outputs": [
    {
     "data": {
      "text/plain": [
       "'{\\n  \"text\" : \"well my pick up on had to go find that\"\\n}'"
      ]
     },
     "execution_count": 62,
     "metadata": {},
     "output_type": "execute_result"
    }
   ],
   "source": [
    "model_path = _os.path.join('model', 'vosk', 'eng_small')\n",
    "vosk_audio = audio_clean.get_raw_data(convert_rate=16000, convert_width=2)\n",
    "\n",
    "#\n",
    "model = Model(model_path)\n",
    "recognizer = KaldiRecognizer(model, 16000)\n",
    "recognizer.AcceptWaveform(vosk_audio);\n",
    "recognizer.FinalResult()"
   ]
  },
  {
   "cell_type": "markdown",
   "id": "2a595a9e",
   "metadata": {},
   "source": [
    "we can see that google hasn't been affected by the atttempted cleaning, with vosk doing a lateral move, and sphinx is just shit.\n",
    "whisper has seen marginal improvement, yet not enough to rival google, lets try this with some heavier models:"
   ]
  },
  {
   "cell_type": "markdown",
   "id": "ca1299eb",
   "metadata": {},
   "source": [
    "Now lets try with heavier models with the original audio: "
   ]
  },
  {
   "cell_type": "code",
   "execution_count": 15,
   "id": "eb35a482",
   "metadata": {},
   "outputs": [
    {
     "name": "stderr",
     "output_type": "stream",
     "text": [
      "C:\\Users\\USER\\AppData\\Roaming\\Python\\Python311\\site-packages\\whisper\\timing.py:57: NumbaDeprecationWarning: \u001b[1mThe 'nopython' keyword argument was not supplied to the 'numba.jit' decorator. The implicit default value for this argument is currently False, but it will be changed to True in Numba 0.59.0. See https://numba.readthedocs.io/en/stable/reference/deprecation.html#deprecation-of-object-mode-fall-back-behaviour-when-using-jit for details.\u001b[0m\n",
      "  @numba.jit\n"
     ]
    },
    {
     "name": "stdout",
     "output_type": "stream",
     "text": [
      "22.6 s ± 388 ms per loop (mean ± std. dev. of 7 runs, 1 loop each)\n"
     ]
    }
   ],
   "source": [
    "%%timeit\n",
    "r.recognize_whisper(audio, model='large', language='english')"
   ]
  },
  {
   "cell_type": "code",
   "execution_count": 64,
   "id": "d69f87b4",
   "metadata": {},
   "outputs": [
    {
     "data": {
      "text/plain": [
       "\" Ma'am, my pickup was stolen. I had to go find it. AGH!\""
      ]
     },
     "execution_count": 64,
     "metadata": {},
     "output_type": "execute_result"
    }
   ],
   "source": [
    "r.recognize_whisper(audio, model='large', language='english')"
   ]
  },
  {
   "cell_type": "markdown",
   "id": "8d5575e0",
   "metadata": {},
   "source": [
    "# VOSK"
   ]
  },
  {
   "cell_type": "code",
   "execution_count": 20,
   "id": "aa6bcd48",
   "metadata": {},
   "outputs": [],
   "source": [
    "def vosk_rec(audio_data, model_name):\n",
    "    model_path = _os.path.join('model', 'vosk', model_name)\n",
    "    vosk_audio = audio_data.get_raw_data(convert_rate=16000, convert_width=2)\n",
    "\n",
    "    #\n",
    "    model = Model(model_path)\n",
    "    recognizer = KaldiRecognizer(model, 16000)\n",
    "    recognizer.AcceptWaveform(vosk_audio);\n",
    "    return recognizer.FinalResult()"
   ]
  },
  {
   "cell_type": "markdown",
   "id": "e12366b2",
   "metadata": {},
   "source": [
    "### regular audio / large model"
   ]
  },
  {
   "cell_type": "code",
   "execution_count": 24,
   "id": "c20ce284",
   "metadata": {},
   "outputs": [
    {
     "name": "stdout",
     "output_type": "stream",
     "text": [
      "35.9 s ± 13.5 s per loop (mean ± std. dev. of 7 runs, 1 loop each)\n"
     ]
    }
   ],
   "source": [
    "%%timeit\n",
    "vosk_rec(audio, 'eng_large')"
   ]
  },
  {
   "cell_type": "code",
   "execution_count": 25,
   "id": "f8311313",
   "metadata": {},
   "outputs": [
    {
     "data": {
      "text/plain": [
       "'{\\n  \"text\" : \"ma\\'am my pickup was gone i had to go find it\"\\n}'"
      ]
     },
     "execution_count": 25,
     "metadata": {},
     "output_type": "execute_result"
    }
   ],
   "source": [
    "vosk_rec(audio, 'eng_large')"
   ]
  },
  {
   "cell_type": "markdown",
   "id": "c46aab12",
   "metadata": {},
   "source": [
    "### regular audio / small model"
   ]
  },
  {
   "cell_type": "code",
   "execution_count": 22,
   "id": "c24f9072",
   "metadata": {},
   "outputs": [
    {
     "name": "stdout",
     "output_type": "stream",
     "text": [
      "2.04 s ± 16.9 ms per loop (mean ± std. dev. of 7 runs, 1 loop each)\n"
     ]
    }
   ],
   "source": [
    "%%timeit\n",
    "vosk_rec(audio, 'eng_small')"
   ]
  },
  {
   "cell_type": "code",
   "execution_count": 23,
   "id": "1fb2127a",
   "metadata": {},
   "outputs": [
    {
     "data": {
      "text/plain": [
       "'{\\n  \"text\" : \"now my pick up on to go find that ah\"\\n}'"
      ]
     },
     "execution_count": 23,
     "metadata": {},
     "output_type": "execute_result"
    }
   ],
   "source": [
    "vosk_rec(audio, 'eng_small')"
   ]
  },
  {
   "cell_type": "markdown",
   "id": "8d13bf35",
   "metadata": {},
   "source": [
    "### regular audio / lgraph model"
   ]
  },
  {
   "cell_type": "code",
   "execution_count": 26,
   "id": "bdaf04f0",
   "metadata": {},
   "outputs": [
    {
     "name": "stdout",
     "output_type": "stream",
     "text": [
      "10.6 s ± 46.3 ms per loop (mean ± std. dev. of 7 runs, 1 loop each)\n"
     ]
    }
   ],
   "source": [
    "%%timeit\n",
    "vosk_rec(audio, 'vosk-model-en-us-0.22-lgraph')"
   ]
  },
  {
   "cell_type": "code",
   "execution_count": 27,
   "id": "fc90b84c",
   "metadata": {},
   "outputs": [
    {
     "data": {
      "text/plain": [
       "'{\\n  \"text\" : \"ma\\'am my pickup post gone i had to go find it\"\\n}'"
      ]
     },
     "execution_count": 27,
     "metadata": {},
     "output_type": "execute_result"
    }
   ],
   "source": [
    "vosk_rec(audio, 'vosk-model-en-us-0.22-lgraph')"
   ]
  },
  {
   "cell_type": "markdown",
   "id": "ad40b289",
   "metadata": {},
   "source": [
    "### regular audio / giant model"
   ]
  },
  {
   "cell_type": "code",
   "execution_count": 28,
   "id": "30082337",
   "metadata": {},
   "outputs": [
    {
     "name": "stdout",
     "output_type": "stream",
     "text": [
      "48.3 s ± 2.45 s per loop (mean ± std. dev. of 7 runs, 1 loop each)\n"
     ]
    }
   ],
   "source": [
    "%%timeit\n",
    "vosk_rec(audio, 'vosk-model-en-us-0.42-gigaspeech')"
   ]
  },
  {
   "cell_type": "code",
   "execution_count": 29,
   "id": "3f14dd7e",
   "metadata": {},
   "outputs": [
    {
     "data": {
      "text/plain": [
       "'{\\n  \"text\" : \"well my pickup was gone i had to go find that ah\"\\n}'"
      ]
     },
     "execution_count": 29,
     "metadata": {},
     "output_type": "execute_result"
    }
   ],
   "source": [
    "vosk_rec(audio, 'vosk-model-en-us-0.42-gigaspeech')"
   ]
  },
  {
   "cell_type": "markdown",
   "id": "722041be",
   "metadata": {},
   "source": [
    "### clean audio / large model"
   ]
  },
  {
   "cell_type": "code",
   "execution_count": 30,
   "id": "c8128b2c",
   "metadata": {},
   "outputs": [
    {
     "name": "stdout",
     "output_type": "stream",
     "text": [
      "29.6 s ± 135 ms per loop (mean ± std. dev. of 7 runs, 1 loop each)\n"
     ]
    }
   ],
   "source": [
    "%%timeit\n",
    "vosk_rec(audio_clean, 'eng_large')"
   ]
  },
  {
   "cell_type": "code",
   "execution_count": 31,
   "id": "c22b5709",
   "metadata": {},
   "outputs": [
    {
     "data": {
      "text/plain": [
       "'{\\n  \"text\" : \"well my pickup was gone i had to go find it\"\\n}'"
      ]
     },
     "execution_count": 31,
     "metadata": {},
     "output_type": "execute_result"
    }
   ],
   "source": [
    "vosk_rec(audio_clean, 'eng_large')"
   ]
  },
  {
   "cell_type": "markdown",
   "id": "2ff8d21a",
   "metadata": {},
   "source": [
    "### clean audio / small model"
   ]
  },
  {
   "cell_type": "code",
   "execution_count": 32,
   "id": "d9afd126",
   "metadata": {},
   "outputs": [
    {
     "name": "stdout",
     "output_type": "stream",
     "text": [
      "2.01 s ± 8.09 ms per loop (mean ± std. dev. of 7 runs, 1 loop each)\n"
     ]
    }
   ],
   "source": [
    "%%timeit\n",
    "vosk_rec(audio_clean, 'eng_small')"
   ]
  },
  {
   "cell_type": "code",
   "execution_count": 33,
   "id": "4719db9a",
   "metadata": {},
   "outputs": [
    {
     "data": {
      "text/plain": [
       "'{\\n  \"text\" : \"well my pick up on had to go find that ah\"\\n}'"
      ]
     },
     "execution_count": 33,
     "metadata": {},
     "output_type": "execute_result"
    }
   ],
   "source": [
    "vosk_rec(audio_clean, 'eng_small')"
   ]
  },
  {
   "cell_type": "markdown",
   "id": "8ef22978",
   "metadata": {},
   "source": [
    "### clean audio / lgraph model"
   ]
  },
  {
   "cell_type": "code",
   "execution_count": 34,
   "id": "657cf325",
   "metadata": {},
   "outputs": [
    {
     "name": "stdout",
     "output_type": "stream",
     "text": [
      "10.5 s ± 29.8 ms per loop (mean ± std. dev. of 7 runs, 1 loop each)\n"
     ]
    }
   ],
   "source": [
    "%%timeit\n",
    "vosk_rec(audio_clean, 'vosk-model-en-us-0.22-lgraph')"
   ]
  },
  {
   "cell_type": "code",
   "execution_count": 35,
   "id": "512e0462",
   "metadata": {},
   "outputs": [
    {
     "data": {
      "text/plain": [
       "'{\\n  \"text\" : \"well my a post gone i to go find that\"\\n}'"
      ]
     },
     "execution_count": 35,
     "metadata": {},
     "output_type": "execute_result"
    }
   ],
   "source": [
    "vosk_rec(audio_clean, 'vosk-model-en-us-0.22-lgraph')"
   ]
  },
  {
   "cell_type": "markdown",
   "id": "c4438792",
   "metadata": {},
   "source": [
    "### clean audio / giant model"
   ]
  },
  {
   "cell_type": "code",
   "execution_count": 36,
   "id": "7ea5631a",
   "metadata": {},
   "outputs": [
    {
     "name": "stdout",
     "output_type": "stream",
     "text": [
      "49.1 s ± 639 ms per loop (mean ± std. dev. of 7 runs, 1 loop each)\n"
     ]
    }
   ],
   "source": [
    "%%timeit\n",
    "vosk_rec(audio_clean, 'vosk-model-en-us-0.42-gigaspeech')"
   ]
  },
  {
   "cell_type": "code",
   "execution_count": 37,
   "id": "2fda23f2",
   "metadata": {
    "scrolled": true
   },
   "outputs": [
    {
     "data": {
      "text/plain": [
       "'{\\n  \"text\" : \"well my pickup was gone i had to go find it\"\\n}'"
      ]
     },
     "execution_count": 37,
     "metadata": {},
     "output_type": "execute_result"
    }
   ],
   "source": [
    "vosk_rec(audio_clean, 'vosk-model-en-us-0.42-gigaspeech')"
   ]
  },
  {
   "cell_type": "markdown",
   "id": "80c8fd8a",
   "metadata": {},
   "source": [
    "# Whisper"
   ]
  },
  {
   "cell_type": "markdown",
   "id": "f80bb92e",
   "metadata": {},
   "source": [
    "### regular audio / tiny model"
   ]
  },
  {
   "cell_type": "code",
   "execution_count": 39,
   "id": "b3075859",
   "metadata": {},
   "outputs": [
    {
     "name": "stderr",
     "output_type": "stream",
     "text": [
      "100%|█████████████████████████████████████| 72.1M/72.1M [00:10<00:00, 6.93MiB/s]\n"
     ]
    },
    {
     "name": "stdout",
     "output_type": "stream",
     "text": [
      "1.06 s ± 23.5 ms per loop (mean ± std. dev. of 7 runs, 1 loop each)\n"
     ]
    }
   ],
   "source": [
    "%%timeit\n",
    "r.recognize_whisper(audio, model='tiny')"
   ]
  },
  {
   "cell_type": "code",
   "execution_count": 40,
   "id": "71a78514",
   "metadata": {},
   "outputs": [
    {
     "data": {
      "text/plain": [
       "' Now my character postponed. I had it offended.'"
      ]
     },
     "execution_count": 40,
     "metadata": {},
     "output_type": "execute_result"
    }
   ],
   "source": [
    "r.recognize_whisper(audio, model='tiny')"
   ]
  },
  {
   "cell_type": "markdown",
   "id": "4ae19179",
   "metadata": {},
   "source": [
    "### regular audio / base model"
   ]
  },
  {
   "cell_type": "code",
   "execution_count": 41,
   "id": "5e9d57b2",
   "metadata": {},
   "outputs": [
    {
     "name": "stdout",
     "output_type": "stream",
     "text": [
      "2.38 s ± 55.3 ms per loop (mean ± std. dev. of 7 runs, 1 loop each)\n"
     ]
    }
   ],
   "source": [
    "%%timeit\n",
    "r.recognize_whisper(audio, model='base')"
   ]
  },
  {
   "cell_type": "code",
   "execution_count": 42,
   "id": "17be4eb4",
   "metadata": {},
   "outputs": [
    {
     "data": {
      "text/plain": [
       "\" Ma'am, my cat is a person. I had it offended.\""
      ]
     },
     "execution_count": 42,
     "metadata": {},
     "output_type": "execute_result"
    }
   ],
   "source": [
    "r.recognize_whisper(audio, model='base')"
   ]
  },
  {
   "cell_type": "markdown",
   "id": "c8722b83",
   "metadata": {},
   "source": [
    "### regular audio / small model"
   ]
  },
  {
   "cell_type": "code",
   "execution_count": 43,
   "id": "2c9e3d03",
   "metadata": {},
   "outputs": [
    {
     "name": "stderr",
     "output_type": "stream",
     "text": [
      "100%|███████████████████████████████████████| 461M/461M [00:53<00:00, 8.97MiB/s]\n"
     ]
    },
    {
     "name": "stdout",
     "output_type": "stream",
     "text": [
      "7.15 s ± 70.9 ms per loop (mean ± std. dev. of 7 runs, 1 loop each)\n"
     ]
    }
   ],
   "source": [
    "%%timeit\n",
    "r.recognize_whisper(audio, model='small')"
   ]
  },
  {
   "cell_type": "code",
   "execution_count": 44,
   "id": "e65e12ea",
   "metadata": {},
   "outputs": [
    {
     "data": {
      "text/plain": [
       "\" Ma'am, my cat got postponed. I had to go find it.\""
      ]
     },
     "execution_count": 44,
     "metadata": {},
     "output_type": "execute_result"
    }
   ],
   "source": [
    "r.recognize_whisper(audio, model='small')"
   ]
  },
  {
   "cell_type": "markdown",
   "id": "7fb15e54",
   "metadata": {},
   "source": [
    "### regular audio / medium model"
   ]
  },
  {
   "cell_type": "code",
   "execution_count": 45,
   "id": "437f3662",
   "metadata": {},
   "outputs": [
    {
     "name": "stderr",
     "output_type": "stream",
     "text": [
      "100%|█████████████████████████████████████| 1.42G/1.42G [03:08<00:00, 8.11MiB/s]\n"
     ]
    },
    {
     "name": "stdout",
     "output_type": "stream",
     "text": [
      "21.7 s ± 302 ms per loop (mean ± std. dev. of 7 runs, 1 loop each)\n"
     ]
    }
   ],
   "source": [
    "%%timeit\n",
    "r.recognize_whisper(audio, model='medium')"
   ]
  },
  {
   "cell_type": "code",
   "execution_count": 46,
   "id": "515b9f07",
   "metadata": {},
   "outputs": [
    {
     "data": {
      "text/plain": [
       "\" Ma'am, my paper was stolen. I had to go find it. Ah!\""
      ]
     },
     "execution_count": 46,
     "metadata": {},
     "output_type": "execute_result"
    }
   ],
   "source": [
    "r.recognize_whisper(audio, model='medium')"
   ]
  },
  {
   "cell_type": "markdown",
   "id": "17079c8a",
   "metadata": {},
   "source": [
    "### regular audio / large model"
   ]
  },
  {
   "cell_type": "code",
   "execution_count": 60,
   "id": "176c2baa",
   "metadata": {},
   "outputs": [
    {
     "name": "stdout",
     "output_type": "stream",
     "text": [
      "40.6 s ± 2.17 s per loop (mean ± std. dev. of 7 runs, 1 loop each)\n"
     ]
    }
   ],
   "source": [
    "%%timeit\n",
    "r.recognize_whisper(audio, model='large')"
   ]
  },
  {
   "cell_type": "code",
   "execution_count": 48,
   "id": "9a5e5ab8",
   "metadata": {},
   "outputs": [
    {
     "data": {
      "text/plain": [
       "\" Ma'am, my pickup was stolen. I had to go find it. AGH!\""
      ]
     },
     "execution_count": 48,
     "metadata": {},
     "output_type": "execute_result"
    }
   ],
   "source": [
    "r.recognize_whisper(audio, model='large')"
   ]
  },
  {
   "cell_type": "markdown",
   "id": "82feb6ba",
   "metadata": {},
   "source": [
    "### clean audio / tiny model"
   ]
  },
  {
   "cell_type": "code",
   "execution_count": 49,
   "id": "85c17671",
   "metadata": {},
   "outputs": [
    {
     "name": "stdout",
     "output_type": "stream",
     "text": [
      "3.77 s ± 1.24 s per loop (mean ± std. dev. of 7 runs, 1 loop each)\n"
     ]
    }
   ],
   "source": [
    "%%timeit\n",
    "r.recognize_whisper(audio_clean, model='tiny')"
   ]
  },
  {
   "cell_type": "code",
   "execution_count": 50,
   "id": "052df09b",
   "metadata": {},
   "outputs": [
    {
     "data": {
      "text/plain": [
       "\" then I'll check their post on I had it recorded\""
      ]
     },
     "execution_count": 50,
     "metadata": {},
     "output_type": "execute_result"
    }
   ],
   "source": [
    "r.recognize_whisper(audio_clean, model='tiny')"
   ]
  },
  {
   "cell_type": "markdown",
   "id": "58850f45",
   "metadata": {},
   "source": [
    "### regular audio / base model"
   ]
  },
  {
   "cell_type": "code",
   "execution_count": 51,
   "id": "a5267e12",
   "metadata": {},
   "outputs": [
    {
     "name": "stdout",
     "output_type": "stream",
     "text": [
      "2.59 s ± 31.3 ms per loop (mean ± std. dev. of 7 runs, 1 loop each)\n"
     ]
    }
   ],
   "source": [
    "%%timeit\n",
    "r.recognize_whisper(audio_clean, model='base')"
   ]
  },
  {
   "cell_type": "code",
   "execution_count": 52,
   "id": "6a59eb36",
   "metadata": {},
   "outputs": [
    {
     "data": {
      "text/plain": [
       "\" Ma'am, my kekep was born. I had to go find it.\""
      ]
     },
     "execution_count": 52,
     "metadata": {},
     "output_type": "execute_result"
    }
   ],
   "source": [
    "r.recognize_whisper(audio_clean, model='base')"
   ]
  },
  {
   "cell_type": "markdown",
   "id": "8ade4e5f",
   "metadata": {},
   "source": [
    "### regular audio / small model"
   ]
  },
  {
   "cell_type": "code",
   "execution_count": 53,
   "id": "ab448275",
   "metadata": {},
   "outputs": [
    {
     "name": "stdout",
     "output_type": "stream",
     "text": [
      "7.5 s ± 71.2 ms per loop (mean ± std. dev. of 7 runs, 1 loop each)\n"
     ]
    }
   ],
   "source": [
    "%%timeit\n",
    "r.recognize_whisper(audio_clean, model='small')"
   ]
  },
  {
   "cell_type": "code",
   "execution_count": 54,
   "id": "b64018f0",
   "metadata": {},
   "outputs": [
    {
     "data": {
      "text/plain": [
       "\" Ma'am, my kekka pushed on. I had to go find it.\""
      ]
     },
     "execution_count": 54,
     "metadata": {},
     "output_type": "execute_result"
    }
   ],
   "source": [
    "r.recognize_whisper(audio_clean, model='small')"
   ]
  },
  {
   "cell_type": "markdown",
   "id": "33e2b8bb",
   "metadata": {},
   "source": [
    "### regular audio / medium model"
   ]
  },
  {
   "cell_type": "code",
   "execution_count": 55,
   "id": "30d8a434",
   "metadata": {},
   "outputs": [
    {
     "name": "stdout",
     "output_type": "stream",
     "text": [
      "22.5 s ± 94.5 ms per loop (mean ± std. dev. of 7 runs, 1 loop each)\n"
     ]
    }
   ],
   "source": [
    "%%timeit\n",
    "r.recognize_whisper(audio_clean, model='medium')"
   ]
  },
  {
   "cell_type": "code",
   "execution_count": 56,
   "id": "21c75592",
   "metadata": {},
   "outputs": [
    {
     "data": {
      "text/plain": [
       "\" Ma'am, my pickup was stolen. I had to go find it. Ah!\""
      ]
     },
     "execution_count": 56,
     "metadata": {},
     "output_type": "execute_result"
    }
   ],
   "source": [
    "r.recognize_whisper(audio_clean, model='medium')"
   ]
  },
  {
   "cell_type": "markdown",
   "id": "aa3ac4d3",
   "metadata": {},
   "source": [
    "### regular audio / large model"
   ]
  },
  {
   "cell_type": "code",
   "execution_count": 59,
   "id": "af05c693",
   "metadata": {},
   "outputs": [
    {
     "name": "stdout",
     "output_type": "stream",
     "text": [
      "2min 26s ± 36.7 s per loop (mean ± std. dev. of 7 runs, 1 loop each)\n"
     ]
    }
   ],
   "source": [
    "%%timeit\n",
    "r.recognize_whisper(audio_clean, model='large')"
   ]
  },
  {
   "cell_type": "code",
   "execution_count": 58,
   "id": "b6705c17",
   "metadata": {},
   "outputs": [
    {
     "data": {
      "text/plain": [
       "\" Ma'am, my pickup was stolen. I had to go find it. Ahh!\""
      ]
     },
     "execution_count": 58,
     "metadata": {},
     "output_type": "execute_result"
    }
   ],
   "source": [
    "r.recognize_whisper(audio_clean, model='large')"
   ]
  },
  {
   "cell_type": "markdown",
   "id": "6acd2780",
   "metadata": {},
   "source": [
    "# lets try to reduce the noise"
   ]
  },
  {
   "cell_type": "code",
   "execution_count": 63,
   "id": "7641721f",
   "metadata": {},
   "outputs": [],
   "source": [
    "import noisereduce as nr\n",
    "from scipy.io import wavfile"
   ]
  },
  {
   "cell_type": "code",
   "execution_count": 64,
   "id": "9ee3d2aa",
   "metadata": {},
   "outputs": [],
   "source": [
    "audio_file_32_path = _os.path.join('data', 'calls', '911_first6sec', 'call_32_0.wav')"
   ]
  },
  {
   "cell_type": "code",
   "execution_count": 66,
   "id": "082cc458",
   "metadata": {
    "collapsed": true
   },
   "outputs": [
    {
     "name": "stdout",
     "output_type": "stream",
     "text": [
      "48000 [[    0     0]\n",
      " [    0     0]\n",
      " [    0     0]\n",
      " ...\n",
      " [10792 10799]\n",
      " [10601 10608]\n",
      " [10238 10243]]\n"
     ]
    },
    {
     "ename": "MemoryError",
     "evalue": "Unable to allocate 129. GiB for an array with shape (288000, 60002) and data type float64",
     "output_type": "error",
     "traceback": [
      "\u001b[1;31m---------------------------------------------------------------------------\u001b[0m",
      "\u001b[1;31mMemoryError\u001b[0m                               Traceback (most recent call last)",
      "Cell \u001b[1;32mIn[66], line 5\u001b[0m\n\u001b[0;32m      3\u001b[0m \u001b[38;5;28mprint\u001b[39m(rate, data)\n\u001b[0;32m      4\u001b[0m \u001b[38;5;66;03m# perform noise reduction\u001b[39;00m\n\u001b[1;32m----> 5\u001b[0m reduced_noise \u001b[38;5;241m=\u001b[39m nr\u001b[38;5;241m.\u001b[39mreduce_noise(y\u001b[38;5;241m=\u001b[39mdata, sr\u001b[38;5;241m=\u001b[39mrate)\n\u001b[0;32m      6\u001b[0m wavfile\u001b[38;5;241m.\u001b[39mwrite(\u001b[38;5;124m\"\u001b[39m\u001b[38;5;124mmywav_reduced_noise.wav\u001b[39m\u001b[38;5;124m\"\u001b[39m, rate, reduced_noise)\n",
      "File \u001b[1;32m~\\AppData\\Roaming\\Python\\Python311\\site-packages\\noisereduce\\noisereduce.py:597\u001b[0m, in \u001b[0;36mreduce_noise\u001b[1;34m(y, sr, stationary, y_noise, prop_decrease, time_constant_s, freq_mask_smooth_hz, time_mask_smooth_ms, thresh_n_mult_nonstationary, sigmoid_slope_nonstationary, n_std_thresh_stationary, tmp_folder, chunk_size, padding, n_fft, win_length, hop_length, clip_noise_stationary, use_tqdm, n_jobs)\u001b[0m\n\u001b[0;32m    578\u001b[0m \u001b[38;5;28;01melse\u001b[39;00m:\n\u001b[0;32m    579\u001b[0m     sg \u001b[38;5;241m=\u001b[39m SpectralGateNonStationary(\n\u001b[0;32m    580\u001b[0m         y\u001b[38;5;241m=\u001b[39my, \n\u001b[0;32m    581\u001b[0m         sr\u001b[38;5;241m=\u001b[39msr, \n\u001b[1;32m   (...)\u001b[0m\n\u001b[0;32m    595\u001b[0m         n_jobs \u001b[38;5;241m=\u001b[39m n_jobs\n\u001b[0;32m    596\u001b[0m     )\n\u001b[1;32m--> 597\u001b[0m \u001b[38;5;28;01mreturn\u001b[39;00m sg\u001b[38;5;241m.\u001b[39mget_traces()\n",
      "File \u001b[1;32m~\\AppData\\Roaming\\Python\\Python311\\site-packages\\noisereduce\\noisereduce.py:235\u001b[0m, in \u001b[0;36mSpectralGate.get_traces\u001b[1;34m(self, start_frame, end_frame)\u001b[0m\n\u001b[0;32m    232\u001b[0m             \u001b[38;5;28;01melse\u001b[39;00m:\n\u001b[0;32m    233\u001b[0m                 \u001b[38;5;28;01mreturn\u001b[39;00m filtered_chunk\u001b[38;5;241m.\u001b[39mastype(\u001b[38;5;28mself\u001b[39m\u001b[38;5;241m.\u001b[39m_dtype)\n\u001b[1;32m--> 235\u001b[0m filtered_chunk \u001b[38;5;241m=\u001b[39m \u001b[38;5;28mself\u001b[39m\u001b[38;5;241m.\u001b[39mfilter_chunk(start_frame\u001b[38;5;241m=\u001b[39m\u001b[38;5;241m0\u001b[39m, end_frame\u001b[38;5;241m=\u001b[39mend_frame)\n\u001b[0;32m    236\u001b[0m \u001b[38;5;28;01mif\u001b[39;00m \u001b[38;5;28mself\u001b[39m\u001b[38;5;241m.\u001b[39mflat:\n\u001b[0;32m    237\u001b[0m     \u001b[38;5;28;01mreturn\u001b[39;00m filtered_chunk\u001b[38;5;241m.\u001b[39mastype(\u001b[38;5;28mself\u001b[39m\u001b[38;5;241m.\u001b[39m_dtype)\u001b[38;5;241m.\u001b[39mflatten()\n",
      "File \u001b[1;32m~\\AppData\\Roaming\\Python\\Python311\\site-packages\\noisereduce\\noisereduce.py:165\u001b[0m, in \u001b[0;36mSpectralGate.filter_chunk\u001b[1;34m(self, start_frame, end_frame)\u001b[0m\n\u001b[0;32m    163\u001b[0m i1 \u001b[38;5;241m=\u001b[39m start_frame \u001b[38;5;241m-\u001b[39m \u001b[38;5;28mself\u001b[39m\u001b[38;5;241m.\u001b[39mpadding\n\u001b[0;32m    164\u001b[0m i2 \u001b[38;5;241m=\u001b[39m end_frame \u001b[38;5;241m+\u001b[39m \u001b[38;5;28mself\u001b[39m\u001b[38;5;241m.\u001b[39mpadding\n\u001b[1;32m--> 165\u001b[0m padded_chunk \u001b[38;5;241m=\u001b[39m \u001b[38;5;28mself\u001b[39m\u001b[38;5;241m.\u001b[39m_read_chunk(i1, i2)\n\u001b[0;32m    166\u001b[0m filtered_padded_chunk \u001b[38;5;241m=\u001b[39m \u001b[38;5;28mself\u001b[39m\u001b[38;5;241m.\u001b[39m_do_filter(padded_chunk)\n\u001b[0;32m    167\u001b[0m \u001b[38;5;28;01mreturn\u001b[39;00m filtered_padded_chunk[:, start_frame \u001b[38;5;241m-\u001b[39m i1 : end_frame \u001b[38;5;241m-\u001b[39m i1]\n",
      "File \u001b[1;32m~\\AppData\\Roaming\\Python\\Python311\\site-packages\\noisereduce\\noisereduce.py:157\u001b[0m, in \u001b[0;36mSpectralGate._read_chunk\u001b[1;34m(self, i1, i2)\u001b[0m\n\u001b[0;32m    155\u001b[0m \u001b[38;5;28;01melse\u001b[39;00m:\n\u001b[0;32m    156\u001b[0m     i2b \u001b[38;5;241m=\u001b[39m i2\n\u001b[1;32m--> 157\u001b[0m chunk \u001b[38;5;241m=\u001b[39m np\u001b[38;5;241m.\u001b[39mzeros((\u001b[38;5;28mself\u001b[39m\u001b[38;5;241m.\u001b[39mn_channels, i2 \u001b[38;5;241m-\u001b[39m i1))\n\u001b[0;32m    158\u001b[0m chunk[:, i1b \u001b[38;5;241m-\u001b[39m i1 : i2b \u001b[38;5;241m-\u001b[39m i1] \u001b[38;5;241m=\u001b[39m \u001b[38;5;28mself\u001b[39m\u001b[38;5;241m.\u001b[39my[:, i1b:i2b]\n\u001b[0;32m    159\u001b[0m \u001b[38;5;28;01mreturn\u001b[39;00m chunk\n",
      "\u001b[1;31mMemoryError\u001b[0m: Unable to allocate 129. GiB for an array with shape (288000, 60002) and data type float64"
     ]
    }
   ],
   "source": [
    "# load data\n",
    "rate, data = wavfile.read(audio_file_32_path)\n",
    "print(rate, data)\n",
    "# perform noise reduction\n",
    "reduced_noise = nr.reduce_noise(y=data, sr=rate)\n",
    "wavfile.write(\"mywav_reduced_noise.wav\", rate, reduced_noise)"
   ]
  },
  {
   "cell_type": "markdown",
   "id": "596d0f65",
   "metadata": {},
   "source": [
    "# Sentiment Analysis"
   ]
  },
  {
   "cell_type": "markdown",
   "id": "2d455479",
   "metadata": {},
   "source": [
    "### UTILS"
   ]
  },
  {
   "cell_type": "code",
   "execution_count": 6,
   "id": "db421049",
   "metadata": {},
   "outputs": [],
   "source": [
    "from nltk.corpus import stopwords\n",
    "import pandas as pd\n",
    "import string\n",
    "from nltk.tokenize import RegexpTokenizer\n",
    "\n",
    "def tokenize(raw):\n",
    "    tokenizer = RegexpTokenizer(r\"\\w+\\'?\\w*\")\n",
    "    return tokenizer.tokenize(raw)\n",
    "\n",
    "def preprocess_words_fast(tokens):\n",
    "    t = pd.Series(tokens).str.lower()\n",
    "    t = t[~(t.isin(stopwords.words('english')) | t.isin(list(string.punctuation)))]\n",
    "    return t.tolist()"
   ]
  },
  {
   "cell_type": "code",
   "execution_count": 7,
   "id": "1b9dae83",
   "metadata": {},
   "outputs": [
    {
     "name": "stdout",
     "output_type": "stream",
     "text": [
      "[\"ma'am\", 'pickup', 'stolen', 'go', 'find', 'ahh']\n"
     ]
    }
   ],
   "source": [
    "raw = \" Ma'am, my pickup was stolen. I had to go find it. Ahh!\"\n",
    "tokens = tokenize(raw)\n",
    "words = preprocess_words_fast(tokens)\n",
    "print(words)"
   ]
  },
  {
   "cell_type": "markdown",
   "id": "9a9a2a18",
   "metadata": {},
   "source": [
    "### vader"
   ]
  },
  {
   "cell_type": "code",
   "execution_count": 96,
   "id": "53964d49",
   "metadata": {},
   "outputs": [],
   "source": [
    "from nltk.sentiment.vader import SentimentIntensityAnalyzer\n",
    "sid = SentimentIntensityAnalyzer()"
   ]
  },
  {
   "cell_type": "code",
   "execution_count": 122,
   "id": "c5999902",
   "metadata": {
    "scrolled": true
   },
   "outputs": [
    {
     "data": {
      "text/plain": [
       "{'neg': 0.259, 'neu': 0.741, 'pos': 0.0, 'compound': -0.5411}"
      ]
     },
     "execution_count": 122,
     "metadata": {},
     "output_type": "execute_result"
    }
   ],
   "source": [
    "# dirty\n",
    "sid.polarity_scores(raw)"
   ]
  },
  {
   "cell_type": "code",
   "execution_count": 123,
   "id": "1249a608",
   "metadata": {},
   "outputs": [
    {
     "data": {
      "text/plain": [
       "{'neg': 0.39, 'neu': 0.61, 'pos': 0.0, 'compound': -0.4939}"
      ]
     },
     "execution_count": 123,
     "metadata": {},
     "output_type": "execute_result"
    }
   ],
   "source": [
    "# clean\n",
    "sid.polarity_scores(' '.join(words))"
   ]
  },
  {
   "cell_type": "markdown",
   "id": "a41adee9",
   "metadata": {},
   "source": [
    "### textblob"
   ]
  },
  {
   "cell_type": "code",
   "execution_count": 124,
   "id": "293aefb0",
   "metadata": {},
   "outputs": [],
   "source": [
    "from textblob import TextBlob"
   ]
  },
  {
   "cell_type": "code",
   "execution_count": 125,
   "id": "114e32a3",
   "metadata": {},
   "outputs": [
    {
     "name": "stdout",
     "output_type": "stream",
     "text": [
      "Sentiment(polarity=0.0, subjectivity=0.0)\n"
     ]
    }
   ],
   "source": [
    "# dirty\n",
    "testimonial = TextBlob(raw)\n",
    "print(testimonial.sentiment)"
   ]
  },
  {
   "cell_type": "code",
   "execution_count": 126,
   "id": "6c949bbd",
   "metadata": {},
   "outputs": [
    {
     "name": "stdout",
     "output_type": "stream",
     "text": [
      "Sentiment(polarity=0.0, subjectivity=0.0)\n"
     ]
    }
   ],
   "source": [
    "# clean\n",
    "testimonial = TextBlob(' '.join(words))\n",
    "print(testimonial.sentiment)"
   ]
  },
  {
   "cell_type": "markdown",
   "id": "a5b3dbe9",
   "metadata": {},
   "source": [
    "### Flair"
   ]
  },
  {
   "cell_type": "code",
   "execution_count": 4,
   "id": "647c30d3",
   "metadata": {},
   "outputs": [],
   "source": [
    "from flair.models import TextClassifier\n",
    "from flair.data import Sentence"
   ]
  },
  {
   "cell_type": "code",
   "execution_count": 15,
   "id": "0e196437",
   "metadata": {},
   "outputs": [],
   "source": [
    "classifier = TextClassifier.load('en-sentiment')"
   ]
  },
  {
   "cell_type": "code",
   "execution_count": 16,
   "id": "d9f3d0e7",
   "metadata": {},
   "outputs": [
    {
     "name": "stdout",
     "output_type": "stream",
     "text": [
      "Sentence above is:  ['Sentence[16]: \" Ma'am, my pickup was stolen. I had to go find it. Ahh!\"'/'NEGATIVE' (0.9804)]\n"
     ]
    }
   ],
   "source": [
    "sentence = Sentence(raw)\n",
    "classifier.predict(sentence)\n",
    "\n",
    "# print sentence with predicted labels\n",
    "print('Sentence above is: ', sentence.labels)"
   ]
  },
  {
   "cell_type": "code",
   "execution_count": 17,
   "id": "195528b0",
   "metadata": {},
   "outputs": [
    {
     "name": "stdout",
     "output_type": "stream",
     "text": [
      "Sentence above is:  ['Sentence[6]: \"ma'am pickup stolen go find ahh\"'/'NEGATIVE' (0.9505)]\n"
     ]
    }
   ],
   "source": [
    "sentence = Sentence(' '.join(words))\n",
    "classifier.predict(sentence)\n",
    "\n",
    "# print sentence with predicted labels\n",
    "print('Sentence above is: ', sentence.labels)"
   ]
  },
  {
   "cell_type": "markdown",
   "id": "51cccb9f",
   "metadata": {},
   "source": [
    "### Transformers"
   ]
  },
  {
   "cell_type": "code",
   "execution_count": 10,
   "id": "c04ca998",
   "metadata": {},
   "outputs": [],
   "source": [
    "from transformers import pipeline"
   ]
  },
  {
   "cell_type": "code",
   "execution_count": 18,
   "id": "ce36d724",
   "metadata": {},
   "outputs": [],
   "source": [
    "classifier = pipeline(\"sentiment-analysis\")"
   ]
  },
  {
   "cell_type": "code",
   "execution_count": 19,
   "id": "66048a9a",
   "metadata": {},
   "outputs": [
    {
     "data": {
      "text/plain": [
       "[{'label': 'NEGATIVE', 'score': 0.9987456798553467}]"
      ]
     },
     "execution_count": 19,
     "metadata": {},
     "output_type": "execute_result"
    }
   ],
   "source": [
    "# dirty\n",
    "classifier([raw])"
   ]
  },
  {
   "cell_type": "code",
   "execution_count": 20,
   "id": "5004b10f",
   "metadata": {},
   "outputs": [
    {
     "data": {
      "text/plain": [
       "[{'label': 'NEGATIVE', 'score': 0.9751687049865723}]"
      ]
     },
     "execution_count": 20,
     "metadata": {},
     "output_type": "execute_result"
    }
   ],
   "source": [
    "# clean\n",
    "classifier([''.join(words)])"
   ]
  },
  {
   "cell_type": "markdown",
   "id": "1f57ccef",
   "metadata": {},
   "source": [
    "# get the full sentiment table of all the audio"
   ]
  },
  {
   "cell_type": "code",
   "execution_count": 28,
   "id": "3b34a2df",
   "metadata": {},
   "outputs": [],
   "source": [
    "audio_file_csv = _os.path.join(audio_file_dir, '911_metadata.csv')\n",
    "df = pd.read_csv(audio_file_csv)"
   ]
  },
  {
   "cell_type": "code",
   "execution_count": 30,
   "id": "d871c24d",
   "metadata": {},
   "outputs": [],
   "source": [
    "import speech_recognition as sr"
   ]
  },
  {
   "cell_type": "code",
   "execution_count": 35,
   "id": "13c0a8eb",
   "metadata": {},
   "outputs": [],
   "source": [
    "def get_text_from_audio(audio_file_name):\n",
    "    dirr, name = audio_file_name.split('/')\n",
    "    audio_file_path = _os.path.join('data', 'calls', dirr, name)\n",
    "    with sr.AudioFile(audio_file_path) as src:\n",
    "        r = sr.Recognizer()        \n",
    "        r.adjust_for_ambient_noise(src, duration=0.5)    \n",
    "        audio = r.record(src)\n",
    "        return r.recognize_whisper(audio, model='medium')"
   ]
  },
  {
   "cell_type": "code",
   "execution_count": null,
   "id": "f18f876a",
   "metadata": {},
   "outputs": [],
   "source": [
    "t = df['filename'].apply(get_text_from_audio)\n",
    "t"
   ]
  },
  {
   "cell_type": "code",
   "execution_count": null,
   "id": "21f742d2",
   "metadata": {},
   "outputs": [],
   "source": []
  }
 ],
 "metadata": {
  "kernelspec": {
   "display_name": "Python 3 (ipykernel)",
   "language": "python",
   "name": "python3"
  },
  "language_info": {
   "codemirror_mode": {
    "name": "ipython",
    "version": 3
   },
   "file_extension": ".py",
   "mimetype": "text/x-python",
   "name": "python",
   "nbconvert_exporter": "python",
   "pygments_lexer": "ipython3",
   "version": "3.11.4"
  }
 },
 "nbformat": 4,
 "nbformat_minor": 5
}
