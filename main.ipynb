{
 "cells": [
  {
   "cell_type": "code",
   "execution_count": 22,
   "id": "11f81c8f",
   "metadata": {},
   "outputs": [],
   "source": [
    "import speech_recognition as sr\n",
    "from vosk import Model, KaldiRecognizer\n",
    "import os as _os"
   ]
  },
  {
   "cell_type": "code",
   "execution_count": 23,
   "id": "178cfc2f",
   "metadata": {},
   "outputs": [],
   "source": [
    "audio_file_dir = _os.path.join('data', 'calls', '911_first6sec')\n",
    "audio_file_path = _os.path.join(audio_file_dir, 'call_10_0.wav')"
   ]
  },
  {
   "cell_type": "code",
   "execution_count": 3,
   "id": "a7898c1f",
   "metadata": {},
   "outputs": [],
   "source": [
    "r = sr.Recognizer()"
   ]
  },
  {
   "cell_type": "markdown",
   "id": "ade9470c",
   "metadata": {},
   "source": [
    "# We will first try to decipher the audio as is using four different speach to text engines: Google, Sphinx, Vosk & Whisper (all engines that have free APIs). The transcription of the text is: \"Ma'am, my pickup was stolen, I had to go find it. ahh\""
   ]
  },
  {
   "cell_type": "code",
   "execution_count": 4,
   "id": "0633f452",
   "metadata": {},
   "outputs": [],
   "source": [
    "with sr.AudioFile(audio_file_path) as src:\n",
    "    audio = r.record(src)"
   ]
  },
  {
   "cell_type": "code",
   "execution_count": 55,
   "id": "9a2348eb",
   "metadata": {},
   "outputs": [
    {
     "data": {
      "text/plain": [
       "'damn my pickup was born I had to go find it'"
      ]
     },
     "execution_count": 55,
     "metadata": {},
     "output_type": "execute_result"
    }
   ],
   "source": [
    "r.recognize_google(audio)"
   ]
  },
  {
   "cell_type": "code",
   "execution_count": 56,
   "id": "e3fb3eaf",
   "metadata": {},
   "outputs": [
    {
     "data": {
      "text/plain": [
       "'no wonder the political had invited laugh'"
      ]
     },
     "execution_count": 56,
     "metadata": {},
     "output_type": "execute_result"
    }
   ],
   "source": [
    "r.recognize_sphinx(audio)"
   ]
  },
  {
   "cell_type": "code",
   "execution_count": 57,
   "id": "4b61cdf1",
   "metadata": {},
   "outputs": [
    {
     "data": {
      "text/plain": [
       "\" Ma'am, my cat is a person. I had it offended.\""
      ]
     },
     "execution_count": 57,
     "metadata": {},
     "output_type": "execute_result"
    }
   ],
   "source": [
    "r.recognize_whisper(audio)"
   ]
  },
  {
   "cell_type": "code",
   "execution_count": 58,
   "id": "9e8b9144",
   "metadata": {
    "scrolled": true
   },
   "outputs": [
    {
     "data": {
      "text/plain": [
       "'{\\n  \"text\" : \"now my pick up on to go find that ah\"\\n}'"
      ]
     },
     "execution_count": 58,
     "metadata": {},
     "output_type": "execute_result"
    }
   ],
   "source": [
    "model_path = _os.path.join('model', 'vosk', 'eng_small')\n",
    "vosk_audio = audio.get_raw_data(convert_rate=16000, convert_width=2)\n",
    "\n",
    "#\n",
    "model = Model(model_path)\n",
    "recognizer = KaldiRecognizer(model, 16000)\n",
    "recognizer.AcceptWaveform(vosk_audio);\n",
    "recognizer.FinalResult()"
   ]
  },
  {
   "cell_type": "markdown",
   "id": "82fd0c8d",
   "metadata": {},
   "source": [
    "# We can see that only google was remotely close, albeit only whisper was able to decipher the first word correctly. Now lets try cleaning the audio up:"
   ]
  },
  {
   "cell_type": "code",
   "execution_count": 13,
   "id": "42f61bbd",
   "metadata": {},
   "outputs": [],
   "source": [
    "with sr.AudioFile(audio_file_path) as src:\n",
    "    r.adjust_for_ambient_noise(src, duration=0.5)    \n",
    "    audio_clean = r.record(src)"
   ]
  },
  {
   "cell_type": "code",
   "execution_count": 59,
   "id": "5310a150",
   "metadata": {},
   "outputs": [
    {
     "data": {
      "text/plain": [
       "'damn my pickup was born I had to go find it'"
      ]
     },
     "execution_count": 59,
     "metadata": {},
     "output_type": "execute_result"
    }
   ],
   "source": [
    "r.recognize_google(audio_clean)"
   ]
  },
  {
   "cell_type": "code",
   "execution_count": 60,
   "id": "5c372d02",
   "metadata": {},
   "outputs": [
    {
     "data": {
      "text/plain": [
       "'my own mind at football has invited up'"
      ]
     },
     "execution_count": 60,
     "metadata": {},
     "output_type": "execute_result"
    }
   ],
   "source": [
    "r.recognize_sphinx(audio_clean)"
   ]
  },
  {
   "cell_type": "code",
   "execution_count": 61,
   "id": "a4fc52b8",
   "metadata": {},
   "outputs": [
    {
     "data": {
      "text/plain": [
       "\" Ma'am, my kekep was born. I had to go find it.\""
      ]
     },
     "execution_count": 61,
     "metadata": {},
     "output_type": "execute_result"
    }
   ],
   "source": [
    "r.recognize_whisper(audio_clean, language='english')"
   ]
  },
  {
   "cell_type": "code",
   "execution_count": 62,
   "id": "d075b1d4",
   "metadata": {},
   "outputs": [
    {
     "data": {
      "text/plain": [
       "'{\\n  \"text\" : \"well my pick up on had to go find that\"\\n}'"
      ]
     },
     "execution_count": 62,
     "metadata": {},
     "output_type": "execute_result"
    }
   ],
   "source": [
    "model_path = _os.path.join('model', 'vosk', 'eng_small')\n",
    "vosk_audio = audio_clean.get_raw_data(convert_rate=16000, convert_width=2)\n",
    "\n",
    "#\n",
    "model = Model(model_path)\n",
    "recognizer = KaldiRecognizer(model, 16000)\n",
    "recognizer.AcceptWaveform(vosk_audio);\n",
    "recognizer.FinalResult()"
   ]
  },
  {
   "cell_type": "markdown",
   "id": "32afee17",
   "metadata": {},
   "source": [
    "we can see that google hasn't been affected by the atttempted cleaning, with vosk doing a lateral move, and sphinx is just shit.\n",
    "whisper has seen marginal improvement, yet not enough to rival google, lets try this with some heavier models:"
   ]
  },
  {
   "cell_type": "markdown",
   "id": "a9aeeb93",
   "metadata": {},
   "source": [
    "Now lets try with heavier models with the original audio: "
   ]
  },
  {
   "cell_type": "code",
   "execution_count": 15,
   "id": "846ee2db",
   "metadata": {},
   "outputs": [
    {
     "name": "stderr",
     "output_type": "stream",
     "text": [
      "C:\\Users\\USER\\AppData\\Roaming\\Python\\Python311\\site-packages\\whisper\\timing.py:57: NumbaDeprecationWarning: \u001b[1mThe 'nopython' keyword argument was not supplied to the 'numba.jit' decorator. The implicit default value for this argument is currently False, but it will be changed to True in Numba 0.59.0. See https://numba.readthedocs.io/en/stable/reference/deprecation.html#deprecation-of-object-mode-fall-back-behaviour-when-using-jit for details.\u001b[0m\n",
      "  @numba.jit\n"
     ]
    },
    {
     "name": "stdout",
     "output_type": "stream",
     "text": [
      "22.6 s ± 388 ms per loop (mean ± std. dev. of 7 runs, 1 loop each)\n"
     ]
    }
   ],
   "source": [
    "%%timeit\n",
    "r.recognize_whisper(audio, model='large', language='english')"
   ]
  },
  {
   "cell_type": "code",
   "execution_count": 64,
   "id": "acc606e0",
   "metadata": {},
   "outputs": [
    {
     "data": {
      "text/plain": [
       "\" Ma'am, my pickup was stolen. I had to go find it. AGH!\""
      ]
     },
     "execution_count": 64,
     "metadata": {},
     "output_type": "execute_result"
    }
   ],
   "source": [
    "r.recognize_whisper(audio, model='large', language='english')"
   ]
  },
  {
   "cell_type": "markdown",
   "id": "ebfd1a8c",
   "metadata": {},
   "source": [
    "# VOSK"
   ]
  },
  {
   "cell_type": "code",
   "execution_count": 20,
   "id": "8ae5bdb6",
   "metadata": {},
   "outputs": [],
   "source": [
    "def vosk_rec(audio_data, model_name):\n",
    "    model_path = _os.path.join('model', 'vosk', model_name)\n",
    "    vosk_audio = audio_data.get_raw_data(convert_rate=16000, convert_width=2)\n",
    "\n",
    "    #\n",
    "    model = Model(model_path)\n",
    "    recognizer = KaldiRecognizer(model, 16000)\n",
    "    recognizer.AcceptWaveform(vosk_audio);\n",
    "    return recognizer.FinalResult()"
   ]
  },
  {
   "cell_type": "markdown",
   "id": "1803b4b5",
   "metadata": {},
   "source": [
    "### regular audio / large model"
   ]
  },
  {
   "cell_type": "code",
   "execution_count": 24,
   "id": "6905c885",
   "metadata": {},
   "outputs": [
    {
     "name": "stdout",
     "output_type": "stream",
     "text": [
      "35.9 s ± 13.5 s per loop (mean ± std. dev. of 7 runs, 1 loop each)\n"
     ]
    }
   ],
   "source": [
    "%%timeit\n",
    "vosk_rec(audio, 'eng_large')"
   ]
  },
  {
   "cell_type": "code",
   "execution_count": 25,
   "id": "af93cbea",
   "metadata": {},
   "outputs": [
    {
     "data": {
      "text/plain": [
       "'{\\n  \"text\" : \"ma\\'am my pickup was gone i had to go find it\"\\n}'"
      ]
     },
     "execution_count": 25,
     "metadata": {},
     "output_type": "execute_result"
    }
   ],
   "source": [
    "vosk_rec(audio, 'eng_large')"
   ]
  },
  {
   "cell_type": "markdown",
   "id": "189f5d1d",
   "metadata": {},
   "source": [
    "### regular audio / small model"
   ]
  },
  {
   "cell_type": "code",
   "execution_count": 22,
   "id": "5ca87262",
   "metadata": {},
   "outputs": [
    {
     "name": "stdout",
     "output_type": "stream",
     "text": [
      "2.04 s ± 16.9 ms per loop (mean ± std. dev. of 7 runs, 1 loop each)\n"
     ]
    }
   ],
   "source": [
    "%%timeit\n",
    "vosk_rec(audio, 'eng_small')"
   ]
  },
  {
   "cell_type": "code",
   "execution_count": 23,
   "id": "cb41de03",
   "metadata": {},
   "outputs": [
    {
     "data": {
      "text/plain": [
       "'{\\n  \"text\" : \"now my pick up on to go find that ah\"\\n}'"
      ]
     },
     "execution_count": 23,
     "metadata": {},
     "output_type": "execute_result"
    }
   ],
   "source": [
    "vosk_rec(audio, 'eng_small')"
   ]
  },
  {
   "cell_type": "markdown",
   "id": "362e6350",
   "metadata": {},
   "source": [
    "### regular audio / lgraph model"
   ]
  },
  {
   "cell_type": "code",
   "execution_count": 26,
   "id": "e4fb63fd",
   "metadata": {},
   "outputs": [
    {
     "name": "stdout",
     "output_type": "stream",
     "text": [
      "10.6 s ± 46.3 ms per loop (mean ± std. dev. of 7 runs, 1 loop each)\n"
     ]
    }
   ],
   "source": [
    "%%timeit\n",
    "vosk_rec(audio, 'vosk-model-en-us-0.22-lgraph')"
   ]
  },
  {
   "cell_type": "code",
   "execution_count": 27,
   "id": "6543afc8",
   "metadata": {},
   "outputs": [
    {
     "data": {
      "text/plain": [
       "'{\\n  \"text\" : \"ma\\'am my pickup post gone i had to go find it\"\\n}'"
      ]
     },
     "execution_count": 27,
     "metadata": {},
     "output_type": "execute_result"
    }
   ],
   "source": [
    "vosk_rec(audio, 'vosk-model-en-us-0.22-lgraph')"
   ]
  },
  {
   "cell_type": "markdown",
   "id": "6f07fbef",
   "metadata": {},
   "source": [
    "### regular audio / giant model"
   ]
  },
  {
   "cell_type": "code",
   "execution_count": 28,
   "id": "c6791d26",
   "metadata": {},
   "outputs": [
    {
     "name": "stdout",
     "output_type": "stream",
     "text": [
      "48.3 s ± 2.45 s per loop (mean ± std. dev. of 7 runs, 1 loop each)\n"
     ]
    }
   ],
   "source": [
    "%%timeit\n",
    "vosk_rec(audio, 'vosk-model-en-us-0.42-gigaspeech')"
   ]
  },
  {
   "cell_type": "code",
   "execution_count": 29,
   "id": "4d80b3de",
   "metadata": {},
   "outputs": [
    {
     "data": {
      "text/plain": [
       "'{\\n  \"text\" : \"well my pickup was gone i had to go find that ah\"\\n}'"
      ]
     },
     "execution_count": 29,
     "metadata": {},
     "output_type": "execute_result"
    }
   ],
   "source": [
    "vosk_rec(audio, 'vosk-model-en-us-0.42-gigaspeech')"
   ]
  },
  {
   "cell_type": "markdown",
   "id": "1d4128c3",
   "metadata": {},
   "source": [
    "### clean audio / large model"
   ]
  },
  {
   "cell_type": "code",
   "execution_count": 30,
   "id": "6e30b98f",
   "metadata": {},
   "outputs": [
    {
     "name": "stdout",
     "output_type": "stream",
     "text": [
      "29.6 s ± 135 ms per loop (mean ± std. dev. of 7 runs, 1 loop each)\n"
     ]
    }
   ],
   "source": [
    "%%timeit\n",
    "vosk_rec(audio_clean, 'eng_large')"
   ]
  },
  {
   "cell_type": "code",
   "execution_count": 31,
   "id": "a33f14c8",
   "metadata": {},
   "outputs": [
    {
     "data": {
      "text/plain": [
       "'{\\n  \"text\" : \"well my pickup was gone i had to go find it\"\\n}'"
      ]
     },
     "execution_count": 31,
     "metadata": {},
     "output_type": "execute_result"
    }
   ],
   "source": [
    "vosk_rec(audio_clean, 'eng_large')"
   ]
  },
  {
   "cell_type": "markdown",
   "id": "b90d0d2c",
   "metadata": {},
   "source": [
    "### clean audio / small model"
   ]
  },
  {
   "cell_type": "code",
   "execution_count": 32,
   "id": "16dc1931",
   "metadata": {},
   "outputs": [
    {
     "name": "stdout",
     "output_type": "stream",
     "text": [
      "2.01 s ± 8.09 ms per loop (mean ± std. dev. of 7 runs, 1 loop each)\n"
     ]
    }
   ],
   "source": [
    "%%timeit\n",
    "vosk_rec(audio_clean, 'eng_small')"
   ]
  },
  {
   "cell_type": "code",
   "execution_count": 33,
   "id": "1651ea6b",
   "metadata": {},
   "outputs": [
    {
     "data": {
      "text/plain": [
       "'{\\n  \"text\" : \"well my pick up on had to go find that ah\"\\n}'"
      ]
     },
     "execution_count": 33,
     "metadata": {},
     "output_type": "execute_result"
    }
   ],
   "source": [
    "vosk_rec(audio_clean, 'eng_small')"
   ]
  },
  {
   "cell_type": "markdown",
   "id": "8a72cf2a",
   "metadata": {},
   "source": [
    "### clean audio / lgraph model"
   ]
  },
  {
   "cell_type": "code",
   "execution_count": 34,
   "id": "2eb8c7fd",
   "metadata": {},
   "outputs": [
    {
     "name": "stdout",
     "output_type": "stream",
     "text": [
      "10.5 s ± 29.8 ms per loop (mean ± std. dev. of 7 runs, 1 loop each)\n"
     ]
    }
   ],
   "source": [
    "%%timeit\n",
    "vosk_rec(audio_clean, 'vosk-model-en-us-0.22-lgraph')"
   ]
  },
  {
   "cell_type": "code",
   "execution_count": 35,
   "id": "67ff0cec",
   "metadata": {},
   "outputs": [
    {
     "data": {
      "text/plain": [
       "'{\\n  \"text\" : \"well my a post gone i to go find that\"\\n}'"
      ]
     },
     "execution_count": 35,
     "metadata": {},
     "output_type": "execute_result"
    }
   ],
   "source": [
    "vosk_rec(audio_clean, 'vosk-model-en-us-0.22-lgraph')"
   ]
  },
  {
   "cell_type": "markdown",
   "id": "d7812002",
   "metadata": {},
   "source": [
    "### clean audio / giant model"
   ]
  },
  {
   "cell_type": "code",
   "execution_count": 36,
   "id": "9d08af29",
   "metadata": {},
   "outputs": [
    {
     "name": "stdout",
     "output_type": "stream",
     "text": [
      "49.1 s ± 639 ms per loop (mean ± std. dev. of 7 runs, 1 loop each)\n"
     ]
    }
   ],
   "source": [
    "%%timeit\n",
    "vosk_rec(audio_clean, 'vosk-model-en-us-0.42-gigaspeech')"
   ]
  },
  {
   "cell_type": "code",
   "execution_count": 37,
   "id": "c907aff7",
   "metadata": {
    "scrolled": true
   },
   "outputs": [
    {
     "data": {
      "text/plain": [
       "'{\\n  \"text\" : \"well my pickup was gone i had to go find it\"\\n}'"
      ]
     },
     "execution_count": 37,
     "metadata": {},
     "output_type": "execute_result"
    }
   ],
   "source": [
    "vosk_rec(audio_clean, 'vosk-model-en-us-0.42-gigaspeech')"
   ]
  },
  {
   "cell_type": "markdown",
   "id": "1140e86d",
   "metadata": {},
   "source": [
    "# Whisper"
   ]
  },
  {
   "cell_type": "markdown",
   "id": "6e7d983b",
   "metadata": {},
   "source": [
    "### regular audio / tiny model"
   ]
  },
  {
   "cell_type": "code",
   "execution_count": 39,
   "id": "572b85e5",
   "metadata": {},
   "outputs": [
    {
     "name": "stderr",
     "output_type": "stream",
     "text": [
      "100%|█████████████████████████████████████| 72.1M/72.1M [00:10<00:00, 6.93MiB/s]\n"
     ]
    },
    {
     "name": "stdout",
     "output_type": "stream",
     "text": [
      "1.06 s ± 23.5 ms per loop (mean ± std. dev. of 7 runs, 1 loop each)\n"
     ]
    }
   ],
   "source": [
    "%%timeit\n",
    "r.recognize_whisper(audio, model='tiny')"
   ]
  },
  {
   "cell_type": "code",
   "execution_count": 40,
   "id": "4830d672",
   "metadata": {},
   "outputs": [
    {
     "data": {
      "text/plain": [
       "' Now my character postponed. I had it offended.'"
      ]
     },
     "execution_count": 40,
     "metadata": {},
     "output_type": "execute_result"
    }
   ],
   "source": [
    "r.recognize_whisper(audio, model='tiny')"
   ]
  },
  {
   "cell_type": "markdown",
   "id": "c8f358c6",
   "metadata": {},
   "source": [
    "### regular audio / base model"
   ]
  },
  {
   "cell_type": "code",
   "execution_count": 41,
   "id": "1d48a3a0",
   "metadata": {},
   "outputs": [
    {
     "name": "stdout",
     "output_type": "stream",
     "text": [
      "2.38 s ± 55.3 ms per loop (mean ± std. dev. of 7 runs, 1 loop each)\n"
     ]
    }
   ],
   "source": [
    "%%timeit\n",
    "r.recognize_whisper(audio, model='base')"
   ]
  },
  {
   "cell_type": "code",
   "execution_count": 42,
   "id": "7b42ae73",
   "metadata": {},
   "outputs": [
    {
     "data": {
      "text/plain": [
       "\" Ma'am, my cat is a person. I had it offended.\""
      ]
     },
     "execution_count": 42,
     "metadata": {},
     "output_type": "execute_result"
    }
   ],
   "source": [
    "r.recognize_whisper(audio, model='base')"
   ]
  },
  {
   "cell_type": "markdown",
   "id": "0f5d66c7",
   "metadata": {},
   "source": [
    "### regular audio / small model"
   ]
  },
  {
   "cell_type": "code",
   "execution_count": 43,
   "id": "d1eebff2",
   "metadata": {},
   "outputs": [
    {
     "name": "stderr",
     "output_type": "stream",
     "text": [
      "100%|███████████████████████████████████████| 461M/461M [00:53<00:00, 8.97MiB/s]\n"
     ]
    },
    {
     "name": "stdout",
     "output_type": "stream",
     "text": [
      "7.15 s ± 70.9 ms per loop (mean ± std. dev. of 7 runs, 1 loop each)\n"
     ]
    }
   ],
   "source": [
    "%%timeit\n",
    "r.recognize_whisper(audio, model='small')"
   ]
  },
  {
   "cell_type": "code",
   "execution_count": 44,
   "id": "3363fc92",
   "metadata": {},
   "outputs": [
    {
     "data": {
      "text/plain": [
       "\" Ma'am, my cat got postponed. I had to go find it.\""
      ]
     },
     "execution_count": 44,
     "metadata": {},
     "output_type": "execute_result"
    }
   ],
   "source": [
    "r.recognize_whisper(audio, model='small')"
   ]
  },
  {
   "cell_type": "markdown",
   "id": "caf29cfc",
   "metadata": {},
   "source": [
    "### regular audio / medium model"
   ]
  },
  {
   "cell_type": "code",
   "execution_count": 45,
   "id": "4833d3c8",
   "metadata": {},
   "outputs": [
    {
     "name": "stderr",
     "output_type": "stream",
     "text": [
      "100%|█████████████████████████████████████| 1.42G/1.42G [03:08<00:00, 8.11MiB/s]\n"
     ]
    },
    {
     "name": "stdout",
     "output_type": "stream",
     "text": [
      "21.7 s ± 302 ms per loop (mean ± std. dev. of 7 runs, 1 loop each)\n"
     ]
    }
   ],
   "source": [
    "%%timeit\n",
    "r.recognize_whisper(audio, model='medium')"
   ]
  },
  {
   "cell_type": "code",
   "execution_count": 46,
   "id": "95b70307",
   "metadata": {},
   "outputs": [
    {
     "data": {
      "text/plain": [
       "\" Ma'am, my paper was stolen. I had to go find it. Ah!\""
      ]
     },
     "execution_count": 46,
     "metadata": {},
     "output_type": "execute_result"
    }
   ],
   "source": [
    "r.recognize_whisper(audio, model='medium')"
   ]
  },
  {
   "cell_type": "markdown",
   "id": "83cdbfb6",
   "metadata": {},
   "source": [
    "### regular audio / large model"
   ]
  },
  {
   "cell_type": "code",
   "execution_count": 60,
   "id": "8d7d08ae",
   "metadata": {},
   "outputs": [
    {
     "name": "stdout",
     "output_type": "stream",
     "text": [
      "40.6 s ± 2.17 s per loop (mean ± std. dev. of 7 runs, 1 loop each)\n"
     ]
    }
   ],
   "source": [
    "%%timeit\n",
    "r.recognize_whisper(audio, model='large')"
   ]
  },
  {
   "cell_type": "code",
   "execution_count": 48,
   "id": "0ee48261",
   "metadata": {},
   "outputs": [
    {
     "data": {
      "text/plain": [
       "\" Ma'am, my pickup was stolen. I had to go find it. AGH!\""
      ]
     },
     "execution_count": 48,
     "metadata": {},
     "output_type": "execute_result"
    }
   ],
   "source": [
    "r.recognize_whisper(audio, model='large')"
   ]
  },
  {
   "cell_type": "markdown",
   "id": "0e670498",
   "metadata": {},
   "source": [
    "### clean audio / tiny model"
   ]
  },
  {
   "cell_type": "code",
   "execution_count": 49,
   "id": "fa7dea08",
   "metadata": {},
   "outputs": [
    {
     "name": "stdout",
     "output_type": "stream",
     "text": [
      "3.77 s ± 1.24 s per loop (mean ± std. dev. of 7 runs, 1 loop each)\n"
     ]
    }
   ],
   "source": [
    "%%timeit\n",
    "r.recognize_whisper(audio_clean, model='tiny')"
   ]
  },
  {
   "cell_type": "code",
   "execution_count": 50,
   "id": "e6a12644",
   "metadata": {},
   "outputs": [
    {
     "data": {
      "text/plain": [
       "\" then I'll check their post on I had it recorded\""
      ]
     },
     "execution_count": 50,
     "metadata": {},
     "output_type": "execute_result"
    }
   ],
   "source": [
    "r.recognize_whisper(audio_clean, model='tiny')"
   ]
  },
  {
   "cell_type": "markdown",
   "id": "f0de08ca",
   "metadata": {},
   "source": [
    "### regular audio / base model"
   ]
  },
  {
   "cell_type": "code",
   "execution_count": 51,
   "id": "4fc6a5c9",
   "metadata": {},
   "outputs": [
    {
     "name": "stdout",
     "output_type": "stream",
     "text": [
      "2.59 s ± 31.3 ms per loop (mean ± std. dev. of 7 runs, 1 loop each)\n"
     ]
    }
   ],
   "source": [
    "%%timeit\n",
    "r.recognize_whisper(audio_clean, model='base')"
   ]
  },
  {
   "cell_type": "code",
   "execution_count": 52,
   "id": "f90128ac",
   "metadata": {},
   "outputs": [
    {
     "data": {
      "text/plain": [
       "\" Ma'am, my kekep was born. I had to go find it.\""
      ]
     },
     "execution_count": 52,
     "metadata": {},
     "output_type": "execute_result"
    }
   ],
   "source": [
    "r.recognize_whisper(audio_clean, model='base')"
   ]
  },
  {
   "cell_type": "markdown",
   "id": "47c34c21",
   "metadata": {},
   "source": [
    "### regular audio / small model"
   ]
  },
  {
   "cell_type": "code",
   "execution_count": 53,
   "id": "14c45b56",
   "metadata": {},
   "outputs": [
    {
     "name": "stdout",
     "output_type": "stream",
     "text": [
      "7.5 s ± 71.2 ms per loop (mean ± std. dev. of 7 runs, 1 loop each)\n"
     ]
    }
   ],
   "source": [
    "%%timeit\n",
    "r.recognize_whisper(audio_clean, model='small')"
   ]
  },
  {
   "cell_type": "code",
   "execution_count": 54,
   "id": "d6d1ecdd",
   "metadata": {},
   "outputs": [
    {
     "data": {
      "text/plain": [
       "\" Ma'am, my kekka pushed on. I had to go find it.\""
      ]
     },
     "execution_count": 54,
     "metadata": {},
     "output_type": "execute_result"
    }
   ],
   "source": [
    "r.recognize_whisper(audio_clean, model='small')"
   ]
  },
  {
   "cell_type": "markdown",
   "id": "c95a0c5c",
   "metadata": {},
   "source": [
    "### regular audio / medium model"
   ]
  },
  {
   "cell_type": "code",
   "execution_count": 55,
   "id": "67217c3d",
   "metadata": {},
   "outputs": [
    {
     "name": "stdout",
     "output_type": "stream",
     "text": [
      "22.5 s ± 94.5 ms per loop (mean ± std. dev. of 7 runs, 1 loop each)\n"
     ]
    }
   ],
   "source": [
    "%%timeit\n",
    "r.recognize_whisper(audio_clean, model='medium')"
   ]
  },
  {
   "cell_type": "code",
   "execution_count": 56,
   "id": "7030e37b",
   "metadata": {},
   "outputs": [
    {
     "data": {
      "text/plain": [
       "\" Ma'am, my pickup was stolen. I had to go find it. Ah!\""
      ]
     },
     "execution_count": 56,
     "metadata": {},
     "output_type": "execute_result"
    }
   ],
   "source": [
    "r.recognize_whisper(audio_clean, model='medium')"
   ]
  },
  {
   "cell_type": "markdown",
   "id": "d2e5d2c2",
   "metadata": {},
   "source": [
    "### regular audio / large model"
   ]
  },
  {
   "cell_type": "code",
   "execution_count": 59,
   "id": "5225f854",
   "metadata": {},
   "outputs": [
    {
     "name": "stdout",
     "output_type": "stream",
     "text": [
      "2min 26s ± 36.7 s per loop (mean ± std. dev. of 7 runs, 1 loop each)\n"
     ]
    }
   ],
   "source": [
    "%%timeit\n",
    "r.recognize_whisper(audio_clean, model='large')"
   ]
  },
  {
   "cell_type": "code",
   "execution_count": 58,
   "id": "af3e94ea",
   "metadata": {},
   "outputs": [
    {
     "data": {
      "text/plain": [
       "\" Ma'am, my pickup was stolen. I had to go find it. Ahh!\""
      ]
     },
     "execution_count": 58,
     "metadata": {},
     "output_type": "execute_result"
    }
   ],
   "source": [
    "r.recognize_whisper(audio_clean, model='large')"
   ]
  },
  {
   "cell_type": "markdown",
   "id": "e3609257",
   "metadata": {},
   "source": [
    "# lets try to reduce the noise"
   ]
  },
  {
   "cell_type": "code",
   "execution_count": 63,
   "id": "8f2b6c92",
   "metadata": {},
   "outputs": [],
   "source": [
    "import noisereduce as nr\n",
    "from scipy.io import wavfile"
   ]
  },
  {
   "cell_type": "code",
   "execution_count": 64,
   "id": "2d7e8548",
   "metadata": {},
   "outputs": [],
   "source": [
    "audio_file_32_path = _os.path.join('data', 'calls', '911_first6sec', 'call_32_0.wav')"
   ]
  },
  {
   "cell_type": "code",
   "execution_count": 66,
   "id": "141ebd0a",
   "metadata": {
    "collapsed": true
   },
   "outputs": [
    {
     "name": "stdout",
     "output_type": "stream",
     "text": [
      "48000 [[    0     0]\n",
      " [    0     0]\n",
      " [    0     0]\n",
      " ...\n",
      " [10792 10799]\n",
      " [10601 10608]\n",
      " [10238 10243]]\n"
     ]
    },
    {
     "ename": "MemoryError",
     "evalue": "Unable to allocate 129. GiB for an array with shape (288000, 60002) and data type float64",
     "output_type": "error",
     "traceback": [
      "\u001b[1;31m---------------------------------------------------------------------------\u001b[0m",
      "\u001b[1;31mMemoryError\u001b[0m                               Traceback (most recent call last)",
      "Cell \u001b[1;32mIn[66], line 5\u001b[0m\n\u001b[0;32m      3\u001b[0m \u001b[38;5;28mprint\u001b[39m(rate, data)\n\u001b[0;32m      4\u001b[0m \u001b[38;5;66;03m# perform noise reduction\u001b[39;00m\n\u001b[1;32m----> 5\u001b[0m reduced_noise \u001b[38;5;241m=\u001b[39m nr\u001b[38;5;241m.\u001b[39mreduce_noise(y\u001b[38;5;241m=\u001b[39mdata, sr\u001b[38;5;241m=\u001b[39mrate)\n\u001b[0;32m      6\u001b[0m wavfile\u001b[38;5;241m.\u001b[39mwrite(\u001b[38;5;124m\"\u001b[39m\u001b[38;5;124mmywav_reduced_noise.wav\u001b[39m\u001b[38;5;124m\"\u001b[39m, rate, reduced_noise)\n",
      "File \u001b[1;32m~\\AppData\\Roaming\\Python\\Python311\\site-packages\\noisereduce\\noisereduce.py:597\u001b[0m, in \u001b[0;36mreduce_noise\u001b[1;34m(y, sr, stationary, y_noise, prop_decrease, time_constant_s, freq_mask_smooth_hz, time_mask_smooth_ms, thresh_n_mult_nonstationary, sigmoid_slope_nonstationary, n_std_thresh_stationary, tmp_folder, chunk_size, padding, n_fft, win_length, hop_length, clip_noise_stationary, use_tqdm, n_jobs)\u001b[0m\n\u001b[0;32m    578\u001b[0m \u001b[38;5;28;01melse\u001b[39;00m:\n\u001b[0;32m    579\u001b[0m     sg \u001b[38;5;241m=\u001b[39m SpectralGateNonStationary(\n\u001b[0;32m    580\u001b[0m         y\u001b[38;5;241m=\u001b[39my, \n\u001b[0;32m    581\u001b[0m         sr\u001b[38;5;241m=\u001b[39msr, \n\u001b[1;32m   (...)\u001b[0m\n\u001b[0;32m    595\u001b[0m         n_jobs \u001b[38;5;241m=\u001b[39m n_jobs\n\u001b[0;32m    596\u001b[0m     )\n\u001b[1;32m--> 597\u001b[0m \u001b[38;5;28;01mreturn\u001b[39;00m sg\u001b[38;5;241m.\u001b[39mget_traces()\n",
      "File \u001b[1;32m~\\AppData\\Roaming\\Python\\Python311\\site-packages\\noisereduce\\noisereduce.py:235\u001b[0m, in \u001b[0;36mSpectralGate.get_traces\u001b[1;34m(self, start_frame, end_frame)\u001b[0m\n\u001b[0;32m    232\u001b[0m             \u001b[38;5;28;01melse\u001b[39;00m:\n\u001b[0;32m    233\u001b[0m                 \u001b[38;5;28;01mreturn\u001b[39;00m filtered_chunk\u001b[38;5;241m.\u001b[39mastype(\u001b[38;5;28mself\u001b[39m\u001b[38;5;241m.\u001b[39m_dtype)\n\u001b[1;32m--> 235\u001b[0m filtered_chunk \u001b[38;5;241m=\u001b[39m \u001b[38;5;28mself\u001b[39m\u001b[38;5;241m.\u001b[39mfilter_chunk(start_frame\u001b[38;5;241m=\u001b[39m\u001b[38;5;241m0\u001b[39m, end_frame\u001b[38;5;241m=\u001b[39mend_frame)\n\u001b[0;32m    236\u001b[0m \u001b[38;5;28;01mif\u001b[39;00m \u001b[38;5;28mself\u001b[39m\u001b[38;5;241m.\u001b[39mflat:\n\u001b[0;32m    237\u001b[0m     \u001b[38;5;28;01mreturn\u001b[39;00m filtered_chunk\u001b[38;5;241m.\u001b[39mastype(\u001b[38;5;28mself\u001b[39m\u001b[38;5;241m.\u001b[39m_dtype)\u001b[38;5;241m.\u001b[39mflatten()\n",
      "File \u001b[1;32m~\\AppData\\Roaming\\Python\\Python311\\site-packages\\noisereduce\\noisereduce.py:165\u001b[0m, in \u001b[0;36mSpectralGate.filter_chunk\u001b[1;34m(self, start_frame, end_frame)\u001b[0m\n\u001b[0;32m    163\u001b[0m i1 \u001b[38;5;241m=\u001b[39m start_frame \u001b[38;5;241m-\u001b[39m \u001b[38;5;28mself\u001b[39m\u001b[38;5;241m.\u001b[39mpadding\n\u001b[0;32m    164\u001b[0m i2 \u001b[38;5;241m=\u001b[39m end_frame \u001b[38;5;241m+\u001b[39m \u001b[38;5;28mself\u001b[39m\u001b[38;5;241m.\u001b[39mpadding\n\u001b[1;32m--> 165\u001b[0m padded_chunk \u001b[38;5;241m=\u001b[39m \u001b[38;5;28mself\u001b[39m\u001b[38;5;241m.\u001b[39m_read_chunk(i1, i2)\n\u001b[0;32m    166\u001b[0m filtered_padded_chunk \u001b[38;5;241m=\u001b[39m \u001b[38;5;28mself\u001b[39m\u001b[38;5;241m.\u001b[39m_do_filter(padded_chunk)\n\u001b[0;32m    167\u001b[0m \u001b[38;5;28;01mreturn\u001b[39;00m filtered_padded_chunk[:, start_frame \u001b[38;5;241m-\u001b[39m i1 : end_frame \u001b[38;5;241m-\u001b[39m i1]\n",
      "File \u001b[1;32m~\\AppData\\Roaming\\Python\\Python311\\site-packages\\noisereduce\\noisereduce.py:157\u001b[0m, in \u001b[0;36mSpectralGate._read_chunk\u001b[1;34m(self, i1, i2)\u001b[0m\n\u001b[0;32m    155\u001b[0m \u001b[38;5;28;01melse\u001b[39;00m:\n\u001b[0;32m    156\u001b[0m     i2b \u001b[38;5;241m=\u001b[39m i2\n\u001b[1;32m--> 157\u001b[0m chunk \u001b[38;5;241m=\u001b[39m np\u001b[38;5;241m.\u001b[39mzeros((\u001b[38;5;28mself\u001b[39m\u001b[38;5;241m.\u001b[39mn_channels, i2 \u001b[38;5;241m-\u001b[39m i1))\n\u001b[0;32m    158\u001b[0m chunk[:, i1b \u001b[38;5;241m-\u001b[39m i1 : i2b \u001b[38;5;241m-\u001b[39m i1] \u001b[38;5;241m=\u001b[39m \u001b[38;5;28mself\u001b[39m\u001b[38;5;241m.\u001b[39my[:, i1b:i2b]\n\u001b[0;32m    159\u001b[0m \u001b[38;5;28;01mreturn\u001b[39;00m chunk\n",
      "\u001b[1;31mMemoryError\u001b[0m: Unable to allocate 129. GiB for an array with shape (288000, 60002) and data type float64"
     ]
    }
   ],
   "source": [
    "# load data\n",
    "rate, data = wavfile.read(audio_file_32_path)\n",
    "print(rate, data)\n",
    "# perform noise reduction\n",
    "reduced_noise = nr.reduce_noise(y=data, sr=rate)\n",
    "wavfile.write(\"mywav_reduced_noise.wav\", rate, reduced_noise)"
   ]
  },
  {
   "cell_type": "markdown",
   "id": "cb98e75b",
   "metadata": {},
   "source": [
    "# Sentiment Analysis"
   ]
  },
  {
   "cell_type": "markdown",
   "id": "7e11504d",
   "metadata": {},
   "source": [
    "### UTILS"
   ]
  },
  {
   "cell_type": "code",
   "execution_count": 6,
   "id": "3b6fa26c",
   "metadata": {},
   "outputs": [],
   "source": [
    "from nltk.corpus import stopwords\n",
    "import pandas as pd\n",
    "import string\n",
    "from nltk.tokenize import RegexpTokenizer\n",
    "\n",
    "def tokenize(raw):\n",
    "    tokenizer = RegexpTokenizer(r\"\\w+\\'?\\w*\")\n",
    "    return tokenizer.tokenize(raw)\n",
    "\n",
    "def preprocess_words_fast(tokens):\n",
    "    t = pd.Series(tokens).str.lower()\n",
    "    t = t[~(t.isin(stopwords.words('english')) | t.isin(list(string.punctuation)))]\n",
    "    return t.tolist()"
   ]
  },
  {
   "cell_type": "code",
   "execution_count": 7,
   "id": "6c4b0804",
   "metadata": {},
   "outputs": [
    {
     "name": "stdout",
     "output_type": "stream",
     "text": [
      "[\"ma'am\", 'pickup', 'stolen', 'go', 'find', 'ahh']\n"
     ]
    }
   ],
   "source": [
    "raw = \" Ma'am, my pickup was stolen. I had to go find it. Ahh!\"\n",
    "tokens = tokenize(raw)\n",
    "words = preprocess_words_fast(tokens)\n",
    "print(words)"
   ]
  },
  {
   "cell_type": "markdown",
   "id": "4e8f9cb1",
   "metadata": {},
   "source": [
    "### vader"
   ]
  },
  {
   "cell_type": "code",
   "execution_count": 96,
   "id": "fdabc4b8",
   "metadata": {},
   "outputs": [],
   "source": [
    "from nltk.sentiment.vader import SentimentIntensityAnalyzer\n",
    "sid = SentimentIntensityAnalyzer()"
   ]
  },
  {
   "cell_type": "code",
   "execution_count": 122,
   "id": "195cb79a",
   "metadata": {
    "scrolled": true
   },
   "outputs": [
    {
     "data": {
      "text/plain": [
       "{'neg': 0.259, 'neu': 0.741, 'pos': 0.0, 'compound': -0.5411}"
      ]
     },
     "execution_count": 122,
     "metadata": {},
     "output_type": "execute_result"
    }
   ],
   "source": [
    "# dirty\n",
    "sid.polarity_scores(raw)"
   ]
  },
  {
   "cell_type": "code",
   "execution_count": 123,
   "id": "f88147b3",
   "metadata": {},
   "outputs": [
    {
     "data": {
      "text/plain": [
       "{'neg': 0.39, 'neu': 0.61, 'pos': 0.0, 'compound': -0.4939}"
      ]
     },
     "execution_count": 123,
     "metadata": {},
     "output_type": "execute_result"
    }
   ],
   "source": [
    "# clean\n",
    "sid.polarity_scores(' '.join(words))"
   ]
  },
  {
   "cell_type": "markdown",
   "id": "4c14f5b6",
   "metadata": {},
   "source": [
    "### textblob"
   ]
  },
  {
   "cell_type": "code",
   "execution_count": 124,
   "id": "090eb2f7",
   "metadata": {},
   "outputs": [],
   "source": [
    "from textblob import TextBlob"
   ]
  },
  {
   "cell_type": "code",
   "execution_count": 125,
   "id": "aa122f1a",
   "metadata": {},
   "outputs": [
    {
     "name": "stdout",
     "output_type": "stream",
     "text": [
      "Sentiment(polarity=0.0, subjectivity=0.0)\n"
     ]
    }
   ],
   "source": [
    "# dirty\n",
    "testimonial = TextBlob(raw)\n",
    "print(testimonial.sentiment)"
   ]
  },
  {
   "cell_type": "code",
   "execution_count": 126,
   "id": "403922f0",
   "metadata": {},
   "outputs": [
    {
     "name": "stdout",
     "output_type": "stream",
     "text": [
      "Sentiment(polarity=0.0, subjectivity=0.0)\n"
     ]
    }
   ],
   "source": [
    "# clean\n",
    "testimonial = TextBlob(' '.join(words))\n",
    "print(testimonial.sentiment)"
   ]
  },
  {
   "cell_type": "markdown",
   "id": "18c7abdf",
   "metadata": {},
   "source": [
    "### Flair"
   ]
  },
  {
   "cell_type": "code",
   "execution_count": 4,
   "id": "8b5ab7b6",
   "metadata": {},
   "outputs": [],
   "source": [
    "from flair.models import TextClassifier\n",
    "from flair.data import Sentence"
   ]
  },
  {
   "cell_type": "code",
   "execution_count": 15,
   "id": "885b73f2",
   "metadata": {},
   "outputs": [],
   "source": [
    "classifier = TextClassifier.load('en-sentiment')"
   ]
  },
  {
   "cell_type": "code",
   "execution_count": 16,
   "id": "699dff8b",
   "metadata": {},
   "outputs": [
    {
     "name": "stdout",
     "output_type": "stream",
     "text": [
      "Sentence above is:  ['Sentence[16]: \" Ma'am, my pickup was stolen. I had to go find it. Ahh!\"'/'NEGATIVE' (0.9804)]\n"
     ]
    }
   ],
   "source": [
    "sentence = Sentence(raw)\n",
    "classifier.predict(sentence)\n",
    "\n",
    "# print sentence with predicted labels\n",
    "print('Sentence above is: ', sentence.labels)"
   ]
  },
  {
   "cell_type": "code",
   "execution_count": 17,
   "id": "944d5857",
   "metadata": {},
   "outputs": [
    {
     "name": "stdout",
     "output_type": "stream",
     "text": [
      "Sentence above is:  ['Sentence[6]: \"ma'am pickup stolen go find ahh\"'/'NEGATIVE' (0.9505)]\n"
     ]
    }
   ],
   "source": [
    "sentence = Sentence(' '.join(words))\n",
    "classifier.predict(sentence)\n",
    "\n",
    "# print sentence with predicted labels\n",
    "print('Sentence above is: ', sentence.labels)"
   ]
  },
  {
   "cell_type": "markdown",
   "id": "1c1dd161",
   "metadata": {},
   "source": [
    "### Transformers"
   ]
  },
  {
   "cell_type": "code",
   "execution_count": 10,
   "id": "8ed42651",
   "metadata": {},
   "outputs": [],
   "source": [
    "from transformers import pipeline"
   ]
  },
  {
   "cell_type": "code",
   "execution_count": 18,
   "id": "f721f289",
   "metadata": {},
   "outputs": [],
   "source": [
    "classifier = pipeline(\"sentiment-analysis\")"
   ]
  },
  {
   "cell_type": "code",
   "execution_count": 19,
   "id": "7b7ebf1b",
   "metadata": {},
   "outputs": [
    {
     "data": {
      "text/plain": [
       "[{'label': 'NEGATIVE', 'score': 0.9987456798553467}]"
      ]
     },
     "execution_count": 19,
     "metadata": {},
     "output_type": "execute_result"
    }
   ],
   "source": [
    "# dirty\n",
    "classifier([raw])"
   ]
  },
  {
   "cell_type": "code",
   "execution_count": 20,
   "id": "a278e480",
   "metadata": {},
   "outputs": [
    {
     "data": {
      "text/plain": [
       "[{'label': 'NEGATIVE', 'score': 0.9751687049865723}]"
      ]
     },
     "execution_count": 20,
     "metadata": {},
     "output_type": "execute_result"
    }
   ],
   "source": [
    "# clean\n",
    "classifier([''.join(words)])"
   ]
  },
  {
   "cell_type": "markdown",
   "id": "67e951b7",
   "metadata": {},
   "source": [
    "# get the full sentiment table of all the audio"
   ]
  },
  {
   "cell_type": "code",
   "execution_count": 28,
   "id": "90d104f2",
   "metadata": {},
   "outputs": [],
   "source": [
    "audio_file_csv = _os.path.join(audio_file_dir, '911_metadata.csv')\n",
    "df = pd.read_csv(audio_file_csv)"
   ]
  },
  {
   "cell_type": "code",
   "execution_count": 30,
   "id": "5124b2db",
   "metadata": {},
   "outputs": [],
   "source": [
    "import speech_recognition as sr"
   ]
  },
  {
   "cell_type": "code",
   "execution_count": 35,
   "id": "218765e8",
   "metadata": {},
   "outputs": [],
   "source": [
    "r = sr.Recognizer()\n",
    "def get_text_from_audio(audio_file_name):\n",
    "    dirr, name = audio_file_name.split('/')\n",
    "    audio_file_path = _os.path.join('data', 'calls', dirr, name)\n",
    "    with sr.AudioFile(audio_file_path) as src:\n",
    "        r.adjust_for_ambient_noise(src, duration=0.5)    \n",
    "        audio = r.record(src)\n",
    "        return r.recognize_whisper(audio, model='medium')"
   ]
  },
  {
   "cell_type": "code",
   "execution_count": 77,
   "id": "667a327e",
   "metadata": {},
   "outputs": [
    {
     "data": {
      "text/plain": [
       "0                                My mom had a bad time.\n",
       "1                     Hello. Hello. Is everything okay?\n",
       "2      I need a police officer over here at 7th. Wha...\n",
       "3      Ma'am, my pickup was stolen. I had to go find...\n",
       "4      No ma'am I don't. I don't have an emergency. ...\n",
       "                            ...                        \n",
       "95     This is Gifford. Hello? Hello? Oh, number one...\n",
       "96     across, forty seven oh nine fourty隔s avenue f...\n",
       "97     I have, um, I need somebody escorted out of m...\n",
       "98               Hello? Hello? Hello? Hello 911? Hello?\n",
       "99     I got three zip-holes attacking people. Attac...\n",
       "Name: filename, Length: 100, dtype: object"
      ]
     },
     "execution_count": 77,
     "metadata": {},
     "output_type": "execute_result"
    }
   ],
   "source": [
    "text_series = df['filename'][:100].apply(get_text_from_audio)\n",
    "text_series"
   ]
  },
  {
   "cell_type": "markdown",
   "id": "bc33e9ab",
   "metadata": {},
   "source": [
    "# lets use transformers pipeline to analyze sentiment"
   ]
  },
  {
   "cell_type": "code",
   "execution_count": 78,
   "id": "6980d1c7",
   "metadata": {},
   "outputs": [],
   "source": [
    "from transformers import pipeline\n",
    "\n",
    "def get_sentiment_transformers(text):\n",
    "    classifier = pipeline(\"sentiment-analysis\")\n",
    "    sent = classifier([text])\n",
    "    return sent[0]['label']"
   ]
  },
  {
   "cell_type": "code",
   "execution_count": 80,
   "id": "ddbec23c",
   "metadata": {},
   "outputs": [
    {
     "data": {
      "text/plain": [
       "0     NEGATIVE\n",
       "1     POSITIVE\n",
       "2     NEGATIVE\n",
       "3     NEGATIVE\n",
       "4     NEGATIVE\n",
       "        ...   \n",
       "95    NEGATIVE\n",
       "96    POSITIVE\n",
       "97    NEGATIVE\n",
       "98    NEGATIVE\n",
       "99    NEGATIVE\n",
       "Name: filename, Length: 100, dtype: object"
      ]
     },
     "execution_count": 80,
     "metadata": {},
     "output_type": "execute_result"
    }
   ],
   "source": [
    "sentiment_df = text_series.apply(get_sentiment_transformers)\n",
    "sentiment_df"
   ]
  },
  {
   "cell_type": "code",
   "execution_count": 86,
   "id": "8fdbd31d",
   "metadata": {},
   "outputs": [
    {
     "data": {
      "text/html": [
       "<div>\n",
       "<style scoped>\n",
       "    .dataframe tbody tr th:only-of-type {\n",
       "        vertical-align: middle;\n",
       "    }\n",
       "\n",
       "    .dataframe tbody tr th {\n",
       "        vertical-align: top;\n",
       "    }\n",
       "\n",
       "    .dataframe thead th {\n",
       "        text-align: right;\n",
       "    }\n",
       "</style>\n",
       "<table border=\"1\" class=\"dataframe\">\n",
       "  <thead>\n",
       "    <tr style=\"text-align: right;\">\n",
       "      <th></th>\n",
       "      <th>filename</th>\n",
       "      <th>text</th>\n",
       "      <th>sentiment</th>\n",
       "    </tr>\n",
       "  </thead>\n",
       "  <tbody>\n",
       "    <tr>\n",
       "      <th>0</th>\n",
       "      <td>911_first6sec/call_2_0.wav</td>\n",
       "      <td>My mom had a bad time.</td>\n",
       "      <td>NEGATIVE</td>\n",
       "    </tr>\n",
       "    <tr>\n",
       "      <th>1</th>\n",
       "      <td>911_first6sec/call_8_0.wav</td>\n",
       "      <td>Hello. Hello. Is everything okay?</td>\n",
       "      <td>POSITIVE</td>\n",
       "    </tr>\n",
       "    <tr>\n",
       "      <th>2</th>\n",
       "      <td>911_first6sec/call_9_0.wav</td>\n",
       "      <td>I need a police officer over here at 7th. Wha...</td>\n",
       "      <td>NEGATIVE</td>\n",
       "    </tr>\n",
       "    <tr>\n",
       "      <th>3</th>\n",
       "      <td>911_first6sec/call_10_0.wav</td>\n",
       "      <td>Ma'am, my pickup was stolen. I had to go find...</td>\n",
       "      <td>NEGATIVE</td>\n",
       "    </tr>\n",
       "    <tr>\n",
       "      <th>4</th>\n",
       "      <td>911_first6sec/call_11_0.wav</td>\n",
       "      <td>No ma'am I don't. I don't have an emergency. ...</td>\n",
       "      <td>NEGATIVE</td>\n",
       "    </tr>\n",
       "    <tr>\n",
       "      <th>...</th>\n",
       "      <td>...</td>\n",
       "      <td>...</td>\n",
       "      <td>...</td>\n",
       "    </tr>\n",
       "    <tr>\n",
       "      <th>95</th>\n",
       "      <td>911_first6sec/call_110_0.wav</td>\n",
       "      <td>This is Gifford. Hello? Hello? Oh, number one...</td>\n",
       "      <td>NEGATIVE</td>\n",
       "    </tr>\n",
       "    <tr>\n",
       "      <th>96</th>\n",
       "      <td>911_first6sec/call_111_0.wav</td>\n",
       "      <td>across, forty seven oh nine fourty隔s avenue f...</td>\n",
       "      <td>POSITIVE</td>\n",
       "    </tr>\n",
       "    <tr>\n",
       "      <th>97</th>\n",
       "      <td>911_first6sec/call_112_0.wav</td>\n",
       "      <td>I have, um, I need somebody escorted out of m...</td>\n",
       "      <td>NEGATIVE</td>\n",
       "    </tr>\n",
       "    <tr>\n",
       "      <th>98</th>\n",
       "      <td>911_first6sec/call_114_0.wav</td>\n",
       "      <td>Hello? Hello? Hello? Hello 911? Hello?</td>\n",
       "      <td>NEGATIVE</td>\n",
       "    </tr>\n",
       "    <tr>\n",
       "      <th>99</th>\n",
       "      <td>911_first6sec/call_115_0.wav</td>\n",
       "      <td>I got three zip-holes attacking people. Attac...</td>\n",
       "      <td>NEGATIVE</td>\n",
       "    </tr>\n",
       "  </tbody>\n",
       "</table>\n",
       "<p>100 rows × 3 columns</p>\n",
       "</div>"
      ],
      "text/plain": [
       "                        filename  \\\n",
       "0     911_first6sec/call_2_0.wav   \n",
       "1     911_first6sec/call_8_0.wav   \n",
       "2     911_first6sec/call_9_0.wav   \n",
       "3    911_first6sec/call_10_0.wav   \n",
       "4    911_first6sec/call_11_0.wav   \n",
       "..                           ...   \n",
       "95  911_first6sec/call_110_0.wav   \n",
       "96  911_first6sec/call_111_0.wav   \n",
       "97  911_first6sec/call_112_0.wav   \n",
       "98  911_first6sec/call_114_0.wav   \n",
       "99  911_first6sec/call_115_0.wav   \n",
       "\n",
       "                                                 text sentiment  \n",
       "0                              My mom had a bad time.  NEGATIVE  \n",
       "1                   Hello. Hello. Is everything okay?  POSITIVE  \n",
       "2    I need a police officer over here at 7th. Wha...  NEGATIVE  \n",
       "3    Ma'am, my pickup was stolen. I had to go find...  NEGATIVE  \n",
       "4    No ma'am I don't. I don't have an emergency. ...  NEGATIVE  \n",
       "..                                                ...       ...  \n",
       "95   This is Gifford. Hello? Hello? Oh, number one...  NEGATIVE  \n",
       "96   across, forty seven oh nine fourty隔s avenue f...  POSITIVE  \n",
       "97   I have, um, I need somebody escorted out of m...  NEGATIVE  \n",
       "98             Hello? Hello? Hello? Hello 911? Hello?  NEGATIVE  \n",
       "99   I got three zip-holes attacking people. Attac...  NEGATIVE  \n",
       "\n",
       "[100 rows x 3 columns]"
      ]
     },
     "execution_count": 86,
     "metadata": {},
     "output_type": "execute_result"
    }
   ],
   "source": [
    "full_df = pd.DataFrame([df['filename'][:100], text_series, sentiment_df]).T\n",
    "full_df.columns=['filename', 'text', 'sentiment']\n",
    "full_df"
   ]
  },
  {
   "cell_type": "code",
   "execution_count": 87,
   "id": "821bac6a",
   "metadata": {},
   "outputs": [
    {
     "data": {
      "text/plain": [
       "filename     78\n",
       "text         78\n",
       "sentiment    78\n",
       "dtype: int64"
      ]
     },
     "execution_count": 87,
     "metadata": {},
     "output_type": "execute_result"
    }
   ],
   "source": [
    "full_df[full_df['sentiment'] == 'NEGATIVE'].count()"
   ]
  },
  {
   "cell_type": "markdown",
   "id": "66c63906",
   "metadata": {},
   "source": [
    "# lets use Vader pipeline to analyze sentiment"
   ]
  },
  {
   "cell_type": "code",
   "execution_count": 93,
   "id": "73c8b28c",
   "metadata": {},
   "outputs": [],
   "source": [
    "from nltk.sentiment.vader import SentimentIntensityAnalyzer\n",
    "\n",
    "def get_sentiment_vader(text):\n",
    "    sid = SentimentIntensityAnalyzer()    \n",
    "    sent = sid.polarity_scores(text)\n",
    "    compund = sent['compound']\n",
    "    if compund > 1/3:\n",
    "        return 'POSITIVE'\n",
    "    elif compund < - 1/3:\n",
    "        return 'NEGATIVE'\n",
    "    else:\n",
    "        return 'UNKOWN'"
   ]
  },
  {
   "cell_type": "code",
   "execution_count": 94,
   "id": "dbe08eed",
   "metadata": {},
   "outputs": [
    {
     "data": {
      "text/plain": [
       "0     NEGATIVE\n",
       "1       UNKOWN\n",
       "2       UNKOWN\n",
       "3     NEGATIVE\n",
       "4       UNKOWN\n",
       "        ...   \n",
       "95      UNKOWN\n",
       "96    NEGATIVE\n",
       "97    NEGATIVE\n",
       "98      UNKOWN\n",
       "99    NEGATIVE\n",
       "Name: filename, Length: 100, dtype: object"
      ]
     },
     "execution_count": 94,
     "metadata": {},
     "output_type": "execute_result"
    }
   ],
   "source": [
    "sentiment_df_vader = text_series.apply(get_sentiment_vader)\n",
    "sentiment_df_vader"
   ]
  },
  {
   "cell_type": "code",
   "execution_count": 99,
   "id": "51b96566",
   "metadata": {},
   "outputs": [
    {
     "data": {
      "text/html": [
       "<div>\n",
       "<style scoped>\n",
       "    .dataframe tbody tr th:only-of-type {\n",
       "        vertical-align: middle;\n",
       "    }\n",
       "\n",
       "    .dataframe tbody tr th {\n",
       "        vertical-align: top;\n",
       "    }\n",
       "\n",
       "    .dataframe thead th {\n",
       "        text-align: right;\n",
       "    }\n",
       "</style>\n",
       "<table border=\"1\" class=\"dataframe\">\n",
       "  <thead>\n",
       "    <tr style=\"text-align: right;\">\n",
       "      <th></th>\n",
       "      <th>filename</th>\n",
       "      <th>text</th>\n",
       "      <th>sentiment</th>\n",
       "    </tr>\n",
       "  </thead>\n",
       "  <tbody>\n",
       "    <tr>\n",
       "      <th>0</th>\n",
       "      <td>911_first6sec/call_2_0.wav</td>\n",
       "      <td>My mom had a bad time.</td>\n",
       "      <td>NEGATIVE</td>\n",
       "    </tr>\n",
       "    <tr>\n",
       "      <th>1</th>\n",
       "      <td>911_first6sec/call_8_0.wav</td>\n",
       "      <td>Hello. Hello. Is everything okay?</td>\n",
       "      <td>UNKOWN</td>\n",
       "    </tr>\n",
       "    <tr>\n",
       "      <th>2</th>\n",
       "      <td>911_first6sec/call_9_0.wav</td>\n",
       "      <td>I need a police officer over here at 7th. Wha...</td>\n",
       "      <td>UNKOWN</td>\n",
       "    </tr>\n",
       "    <tr>\n",
       "      <th>3</th>\n",
       "      <td>911_first6sec/call_10_0.wav</td>\n",
       "      <td>Ma'am, my pickup was stolen. I had to go find...</td>\n",
       "      <td>NEGATIVE</td>\n",
       "    </tr>\n",
       "    <tr>\n",
       "      <th>4</th>\n",
       "      <td>911_first6sec/call_11_0.wav</td>\n",
       "      <td>No ma'am I don't. I don't have an emergency. ...</td>\n",
       "      <td>UNKOWN</td>\n",
       "    </tr>\n",
       "    <tr>\n",
       "      <th>...</th>\n",
       "      <td>...</td>\n",
       "      <td>...</td>\n",
       "      <td>...</td>\n",
       "    </tr>\n",
       "    <tr>\n",
       "      <th>95</th>\n",
       "      <td>911_first6sec/call_110_0.wav</td>\n",
       "      <td>This is Gifford. Hello? Hello? Oh, number one...</td>\n",
       "      <td>UNKOWN</td>\n",
       "    </tr>\n",
       "    <tr>\n",
       "      <th>96</th>\n",
       "      <td>911_first6sec/call_111_0.wav</td>\n",
       "      <td>across, forty seven oh nine fourty隔s avenue f...</td>\n",
       "      <td>NEGATIVE</td>\n",
       "    </tr>\n",
       "    <tr>\n",
       "      <th>97</th>\n",
       "      <td>911_first6sec/call_112_0.wav</td>\n",
       "      <td>I have, um, I need somebody escorted out of m...</td>\n",
       "      <td>NEGATIVE</td>\n",
       "    </tr>\n",
       "    <tr>\n",
       "      <th>98</th>\n",
       "      <td>911_first6sec/call_114_0.wav</td>\n",
       "      <td>Hello? Hello? Hello? Hello 911? Hello?</td>\n",
       "      <td>UNKOWN</td>\n",
       "    </tr>\n",
       "    <tr>\n",
       "      <th>99</th>\n",
       "      <td>911_first6sec/call_115_0.wav</td>\n",
       "      <td>I got three zip-holes attacking people. Attac...</td>\n",
       "      <td>NEGATIVE</td>\n",
       "    </tr>\n",
       "  </tbody>\n",
       "</table>\n",
       "<p>100 rows × 3 columns</p>\n",
       "</div>"
      ],
      "text/plain": [
       "                        filename  \\\n",
       "0     911_first6sec/call_2_0.wav   \n",
       "1     911_first6sec/call_8_0.wav   \n",
       "2     911_first6sec/call_9_0.wav   \n",
       "3    911_first6sec/call_10_0.wav   \n",
       "4    911_first6sec/call_11_0.wav   \n",
       "..                           ...   \n",
       "95  911_first6sec/call_110_0.wav   \n",
       "96  911_first6sec/call_111_0.wav   \n",
       "97  911_first6sec/call_112_0.wav   \n",
       "98  911_first6sec/call_114_0.wav   \n",
       "99  911_first6sec/call_115_0.wav   \n",
       "\n",
       "                                                 text sentiment  \n",
       "0                              My mom had a bad time.  NEGATIVE  \n",
       "1                   Hello. Hello. Is everything okay?    UNKOWN  \n",
       "2    I need a police officer over here at 7th. Wha...    UNKOWN  \n",
       "3    Ma'am, my pickup was stolen. I had to go find...  NEGATIVE  \n",
       "4    No ma'am I don't. I don't have an emergency. ...    UNKOWN  \n",
       "..                                                ...       ...  \n",
       "95   This is Gifford. Hello? Hello? Oh, number one...    UNKOWN  \n",
       "96   across, forty seven oh nine fourty隔s avenue f...  NEGATIVE  \n",
       "97   I have, um, I need somebody escorted out of m...  NEGATIVE  \n",
       "98             Hello? Hello? Hello? Hello 911? Hello?    UNKOWN  \n",
       "99   I got three zip-holes attacking people. Attac...  NEGATIVE  \n",
       "\n",
       "[100 rows x 3 columns]"
      ]
     },
     "execution_count": 99,
     "metadata": {},
     "output_type": "execute_result"
    }
   ],
   "source": [
    "full_df_vader = pd.DataFrame([df['filename'][:100], text_series, sentiment_df_vader]).T\n",
    "full_df_vader.columns=['filename', 'text', 'sentiment']\n",
    "full_df_vader"
   ]
  },
  {
   "cell_type": "code",
   "execution_count": 97,
   "id": "8597888f",
   "metadata": {},
   "outputs": [
    {
     "data": {
      "text/plain": [
       "21"
      ]
     },
     "execution_count": 97,
     "metadata": {},
     "output_type": "execute_result"
    }
   ],
   "source": [
    "sentiment_df_vader[sentiment_df_vader == 'NEGATIVE'].count()"
   ]
  },
  {
   "cell_type": "code",
   "execution_count": 98,
   "id": "eb0804c0",
   "metadata": {},
   "outputs": [
    {
     "data": {
      "text/plain": [
       "20"
      ]
     },
     "execution_count": 98,
     "metadata": {},
     "output_type": "execute_result"
    }
   ],
   "source": [
    "sentiment_df_vader[sentiment_df_vader == 'POSITIVE'].count()"
   ]
  },
  {
   "cell_type": "code",
   "execution_count": null,
   "id": "2ae520f0",
   "metadata": {},
   "outputs": [],
   "source": []
  }
 ],
 "metadata": {
  "kernelspec": {
   "display_name": "Python 3 (ipykernel)",
   "language": "python",
   "name": "python3"
  },
  "language_info": {
   "codemirror_mode": {
    "name": "ipython",
    "version": 3
   },
   "file_extension": ".py",
   "mimetype": "text/x-python",
   "name": "python",
   "nbconvert_exporter": "python",
   "pygments_lexer": "ipython3",
   "version": "3.11.4"
  }
 },
 "nbformat": 4,
 "nbformat_minor": 5
}
